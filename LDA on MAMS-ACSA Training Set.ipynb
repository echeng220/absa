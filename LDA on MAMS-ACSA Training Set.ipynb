{
 "cells": [
  {
   "cell_type": "code",
   "execution_count": 44,
   "id": "extended-rotation",
   "metadata": {
    "scrolled": false
   },
   "outputs": [
    {
     "name": "stderr",
     "output_type": "stream",
     "text": [
      "[nltk_data] Downloading package wordnet to\n",
      "[nltk_data]     C:\\Users\\Evan\\AppData\\Roaming\\nltk_data...\n",
      "[nltk_data]   Package wordnet is already up-to-date!\n"
     ]
    }
   ],
   "source": [
    "import xml.etree.ElementTree as et\n",
    "import pandas as pd\n",
    "import random\n",
    "import pickle\n",
    "import matplotlib.pyplot as plt\n",
    "\n",
    "import spacy\n",
    "spacy.load('en_core_web_sm')\n",
    "from spacy.lang.en import English\n",
    "parser  = English()\n",
    "\n",
    "import nltk\n",
    "nltk.download('wordnet')\n",
    "from nltk.corpus import wordnet as wn\n",
    "from nltk.stem.wordnet import WordNetLemmatizer\n",
    "from nltk.sentiment.vader import SentimentIntensityAnalyzer\n",
    "\n",
    "import gensim\n",
    "from gensim import corpora\n",
    "from gensim.models import TfidfModel\n",
    "\n",
    "import pyLDAvis.gensim_models\n",
    "\n",
    "import warnings\n",
    "warnings.filterwarnings(\"ignore\", category=DeprecationWarning)\n",
    "\n",
    "from operator import itemgetter\n",
    "\n",
    "from transformers import pipeline"
   ]
  },
  {
   "cell_type": "markdown",
   "id": "underlying-doctrine",
   "metadata": {},
   "source": [
    "# Data Collection:"
   ]
  },
  {
   "cell_type": "code",
   "execution_count": 2,
   "id": "crude-resource",
   "metadata": {},
   "outputs": [],
   "source": [
    "#initialize element tree to get training examples from .xml file\n",
    "tree = et.parse('train.xml')\n",
    "root = tree.getroot()"
   ]
  },
  {
   "cell_type": "markdown",
   "id": "considerable-combination",
   "metadata": {},
   "source": [
    "Here, I'm just exploring how to access elements of the .xml file."
   ]
  },
  {
   "cell_type": "code",
   "execution_count": 3,
   "id": "regulation-donor",
   "metadata": {},
   "outputs": [
    {
     "data": {
      "text/plain": [
       "'sentences'"
      ]
     },
     "execution_count": 3,
     "metadata": {},
     "output_type": "execute_result"
    }
   ],
   "source": [
    "root.tag"
   ]
  },
  {
   "cell_type": "code",
   "execution_count": 4,
   "id": "temporal-auditor",
   "metadata": {},
   "outputs": [
    {
     "data": {
      "text/plain": [
       "'aspectCategories'"
      ]
     },
     "execution_count": 4,
     "metadata": {},
     "output_type": "execute_result"
    }
   ],
   "source": [
    "root[0][1].tag"
   ]
  },
  {
   "cell_type": "code",
   "execution_count": 5,
   "id": "automatic-neighbor",
   "metadata": {},
   "outputs": [
    {
     "data": {
      "text/plain": [
       "2"
      ]
     },
     "execution_count": 5,
     "metadata": {},
     "output_type": "execute_result"
    }
   ],
   "source": [
    "len(root[0][1])"
   ]
  },
  {
   "cell_type": "code",
   "execution_count": 6,
   "id": "charged-teddy",
   "metadata": {},
   "outputs": [
    {
     "data": {
      "text/plain": [
       "\"It might be the best sit down food I've had in the area, so if you are going to the upright citizen brigade, or the garden, it could be just the place for you.\""
      ]
     },
     "execution_count": 6,
     "metadata": {},
     "output_type": "execute_result"
    }
   ],
   "source": [
    "root[0][0].text"
   ]
  },
  {
   "cell_type": "code",
   "execution_count": 7,
   "id": "reverse-elite",
   "metadata": {},
   "outputs": [
    {
     "data": {
      "text/plain": [
       "'food'"
      ]
     },
     "execution_count": 7,
     "metadata": {},
     "output_type": "execute_result"
    }
   ],
   "source": [
    "root[0][1][0].attrib['category']"
   ]
  },
  {
   "cell_type": "code",
   "execution_count": 8,
   "id": "subsequent-republic",
   "metadata": {},
   "outputs": [
    {
     "data": {
      "text/plain": [
       "3149"
      ]
     },
     "execution_count": 8,
     "metadata": {},
     "output_type": "execute_result"
    }
   ],
   "source": [
    "len(root)"
   ]
  },
  {
   "cell_type": "code",
   "execution_count": 9,
   "id": "latter-community",
   "metadata": {},
   "outputs": [
    {
     "name": "stdout",
     "output_type": "stream",
     "text": [
      "Most aspect categories in a single document:  5\n"
     ]
    }
   ],
   "source": [
    "#What is the most categories contained in a single review?\n",
    "m = len(root) - 1\n",
    "max_aspects = 0\n",
    "\n",
    "for i in range(m):\n",
    "    if len(root[i][1]) > max_aspects:\n",
    "        max_aspects = len(root[i][1])\n",
    "\n",
    "print('Most aspect categories in a single document: ', max_aspects)"
   ]
  },
  {
   "cell_type": "code",
   "execution_count": 10,
   "id": "distinct-anatomy",
   "metadata": {},
   "outputs": [],
   "source": [
    "#For every training example, we collect sentiments for every category, adding the text and sentiments to the \"corpus\".\n",
    "#We also find all the unique categories in the training set, appending the to the \"categories\" list\n",
    "\n",
    "corpus = {}\n",
    "categories = []\n",
    "\n",
    "for i in range(m):\n",
    "    doc = {}\n",
    "    doc.update({'text': root[i][0].text})\n",
    "    tmp = {}\n",
    "    for j in range(len(root[i][1])):\n",
    "        if root[i][1][j].attrib['category'] not in categories:\n",
    "            categories.append(root[i][1][j].attrib['category'])\n",
    "        tmp.update({root[i][1][j].attrib['category']: root[i][1][j].attrib['polarity']})\n",
    "    doc.update({'sentiment': tmp})\n",
    "    corpus.update({i: doc})"
   ]
  },
  {
   "cell_type": "code",
   "execution_count": 11,
   "id": "statewide-gregory",
   "metadata": {
    "scrolled": true
   },
   "outputs": [
    {
     "data": {
      "text/plain": [
       "{'text': \"It might be the best sit down food I've had in the area, so if you are going to the upright citizen brigade, or the garden, it could be just the place for you.\",\n",
       " 'sentiment': {'food': 'positive', 'place': 'neutral'}}"
      ]
     },
     "execution_count": 11,
     "metadata": {},
     "output_type": "execute_result"
    }
   ],
   "source": [
    "corpus[0]"
   ]
  },
  {
   "cell_type": "code",
   "execution_count": 12,
   "id": "ranging-binary",
   "metadata": {
    "scrolled": true
   },
   "outputs": [
    {
     "name": "stdout",
     "output_type": "stream",
     "text": [
      "The unique categories in the training set are:\n",
      " ['food', 'place', 'staff', 'miscellaneous', 'service', 'price', 'menu', 'ambience']\n"
     ]
    }
   ],
   "source": [
    "print('The unique categories in the training set are:\\n', categories)"
   ]
  },
  {
   "cell_type": "code",
   "execution_count": 13,
   "id": "latin-delaware",
   "metadata": {},
   "outputs": [],
   "source": [
    "def encode_category(sentiments, category):\n",
    "    \"\"\"Return the sentiment for a specific category in a dictionary where the keys are the categories, \n",
    "    and the values are the sentiments for that category.\"\"\"\n",
    "    if category in sentiments.keys():\n",
    "        output = sentiments[category]\n",
    "    else:\n",
    "        output = None\n",
    "    return output"
   ]
  },
  {
   "cell_type": "code",
   "execution_count": 14,
   "id": "southern-racing",
   "metadata": {
    "scrolled": false
   },
   "outputs": [
    {
     "data": {
      "text/html": [
       "<div>\n",
       "<style scoped>\n",
       "    .dataframe tbody tr th:only-of-type {\n",
       "        vertical-align: middle;\n",
       "    }\n",
       "\n",
       "    .dataframe tbody tr th {\n",
       "        vertical-align: top;\n",
       "    }\n",
       "\n",
       "    .dataframe thead th {\n",
       "        text-align: right;\n",
       "    }\n",
       "</style>\n",
       "<table border=\"1\" class=\"dataframe\">\n",
       "  <thead>\n",
       "    <tr style=\"text-align: right;\">\n",
       "      <th></th>\n",
       "      <th>text</th>\n",
       "      <th>sentiment</th>\n",
       "      <th>food</th>\n",
       "      <th>place</th>\n",
       "      <th>staff</th>\n",
       "      <th>miscellaneous</th>\n",
       "      <th>service</th>\n",
       "      <th>price</th>\n",
       "      <th>menu</th>\n",
       "      <th>ambience</th>\n",
       "    </tr>\n",
       "  </thead>\n",
       "  <tbody>\n",
       "    <tr>\n",
       "      <th>0</th>\n",
       "      <td>It might be the best sit down food I've had in...</td>\n",
       "      <td>{'food': 'positive', 'place': 'neutral'}</td>\n",
       "      <td>positive</td>\n",
       "      <td>neutral</td>\n",
       "      <td>None</td>\n",
       "      <td>None</td>\n",
       "      <td>None</td>\n",
       "      <td>None</td>\n",
       "      <td>None</td>\n",
       "      <td>None</td>\n",
       "    </tr>\n",
       "    <tr>\n",
       "      <th>1</th>\n",
       "      <td>Hostess was extremely accommodating when we ar...</td>\n",
       "      <td>{'staff': 'positive', 'miscellaneous': 'neutral'}</td>\n",
       "      <td>None</td>\n",
       "      <td>None</td>\n",
       "      <td>positive</td>\n",
       "      <td>neutral</td>\n",
       "      <td>None</td>\n",
       "      <td>None</td>\n",
       "      <td>None</td>\n",
       "      <td>None</td>\n",
       "    </tr>\n",
       "    <tr>\n",
       "      <th>2</th>\n",
       "      <td>We were a couple of minutes late for our reser...</td>\n",
       "      <td>{'miscellaneous': 'neutral', 'staff': 'negative'}</td>\n",
       "      <td>None</td>\n",
       "      <td>None</td>\n",
       "      <td>negative</td>\n",
       "      <td>neutral</td>\n",
       "      <td>None</td>\n",
       "      <td>None</td>\n",
       "      <td>None</td>\n",
       "      <td>None</td>\n",
       "    </tr>\n",
       "    <tr>\n",
       "      <th>3</th>\n",
       "      <td>Though the service might be a little slow, the...</td>\n",
       "      <td>{'service': 'negative', 'staff': 'positive'}</td>\n",
       "      <td>None</td>\n",
       "      <td>None</td>\n",
       "      <td>positive</td>\n",
       "      <td>None</td>\n",
       "      <td>negative</td>\n",
       "      <td>None</td>\n",
       "      <td>None</td>\n",
       "      <td>None</td>\n",
       "    </tr>\n",
       "    <tr>\n",
       "      <th>4</th>\n",
       "      <td>Although we arrived at the restaurant 10 min l...</td>\n",
       "      <td>{'staff': 'negative', 'miscellaneous': 'neutral'}</td>\n",
       "      <td>None</td>\n",
       "      <td>None</td>\n",
       "      <td>negative</td>\n",
       "      <td>neutral</td>\n",
       "      <td>None</td>\n",
       "      <td>None</td>\n",
       "      <td>None</td>\n",
       "      <td>None</td>\n",
       "    </tr>\n",
       "  </tbody>\n",
       "</table>\n",
       "</div>"
      ],
      "text/plain": [
       "                                                text  \\\n",
       "0  It might be the best sit down food I've had in...   \n",
       "1  Hostess was extremely accommodating when we ar...   \n",
       "2  We were a couple of minutes late for our reser...   \n",
       "3  Though the service might be a little slow, the...   \n",
       "4  Although we arrived at the restaurant 10 min l...   \n",
       "\n",
       "                                           sentiment      food    place  \\\n",
       "0           {'food': 'positive', 'place': 'neutral'}  positive  neutral   \n",
       "1  {'staff': 'positive', 'miscellaneous': 'neutral'}      None     None   \n",
       "2  {'miscellaneous': 'neutral', 'staff': 'negative'}      None     None   \n",
       "3       {'service': 'negative', 'staff': 'positive'}      None     None   \n",
       "4  {'staff': 'negative', 'miscellaneous': 'neutral'}      None     None   \n",
       "\n",
       "      staff miscellaneous   service price  menu ambience  \n",
       "0      None          None      None  None  None     None  \n",
       "1  positive       neutral      None  None  None     None  \n",
       "2  negative       neutral      None  None  None     None  \n",
       "3  positive          None  negative  None  None     None  \n",
       "4  negative       neutral      None  None  None     None  "
      ]
     },
     "execution_count": 14,
     "metadata": {},
     "output_type": "execute_result"
    }
   ],
   "source": [
    "#Create a dataframe of the corpus, with a new column for each category and its sentiment\n",
    "train_df = pd.DataFrame(corpus).transpose()\n",
    "\n",
    "for cat in categories:\n",
    "    train_df[f'{cat}'] = train_df['sentiment'].apply(lambda x: encode_category(x, cat))\n",
    "train_df.head()"
   ]
  },
  {
   "cell_type": "markdown",
   "id": "common-letter",
   "metadata": {},
   "source": [
    "# Data Visualization:"
   ]
  },
  {
   "cell_type": "code",
   "execution_count": 15,
   "id": "noted-conservation",
   "metadata": {},
   "outputs": [],
   "source": [
    "assert train_df['sentiment'].isna().sum() == 0"
   ]
  },
  {
   "cell_type": "code",
   "execution_count": 16,
   "id": "competitive-literacy",
   "metadata": {
    "scrolled": true
   },
   "outputs": [],
   "source": [
    "#tally sentiments for each category in the training set\n",
    "counts = {}\n",
    "for cat in categories:\n",
    "    counts.update({cat: dict(train_df[f'{cat}'].value_counts())})"
   ]
  },
  {
   "cell_type": "code",
   "execution_count": 17,
   "id": "capable-anniversary",
   "metadata": {
    "scrolled": true
   },
   "outputs": [
    {
     "data": {
      "text/html": [
       "<div>\n",
       "<style scoped>\n",
       "    .dataframe tbody tr th:only-of-type {\n",
       "        vertical-align: middle;\n",
       "    }\n",
       "\n",
       "    .dataframe tbody tr th {\n",
       "        vertical-align: top;\n",
       "    }\n",
       "\n",
       "    .dataframe thead th {\n",
       "        text-align: right;\n",
       "    }\n",
       "</style>\n",
       "<table border=\"1\" class=\"dataframe\">\n",
       "  <thead>\n",
       "    <tr style=\"text-align: right;\">\n",
       "      <th></th>\n",
       "      <th>neutral</th>\n",
       "      <th>positive</th>\n",
       "      <th>negative</th>\n",
       "    </tr>\n",
       "  </thead>\n",
       "  <tbody>\n",
       "    <tr>\n",
       "      <th>food</th>\n",
       "      <td>1298</td>\n",
       "      <td>753</td>\n",
       "      <td>255</td>\n",
       "    </tr>\n",
       "    <tr>\n",
       "      <th>place</th>\n",
       "      <td>430</td>\n",
       "      <td>125</td>\n",
       "      <td>139</td>\n",
       "    </tr>\n",
       "    <tr>\n",
       "      <th>staff</th>\n",
       "      <td>129</td>\n",
       "      <td>332</td>\n",
       "      <td>921</td>\n",
       "    </tr>\n",
       "    <tr>\n",
       "      <th>miscellaneous</th>\n",
       "      <td>531</td>\n",
       "      <td>227</td>\n",
       "      <td>196</td>\n",
       "    </tr>\n",
       "    <tr>\n",
       "      <th>service</th>\n",
       "      <td>128</td>\n",
       "      <td>174</td>\n",
       "      <td>329</td>\n",
       "    </tr>\n",
       "    <tr>\n",
       "      <th>price</th>\n",
       "      <td>136</td>\n",
       "      <td>72</td>\n",
       "      <td>114</td>\n",
       "    </tr>\n",
       "    <tr>\n",
       "      <th>menu</th>\n",
       "      <td>372</td>\n",
       "      <td>64</td>\n",
       "      <td>39</td>\n",
       "    </tr>\n",
       "    <tr>\n",
       "      <th>ambience</th>\n",
       "      <td>53</td>\n",
       "      <td>181</td>\n",
       "      <td>90</td>\n",
       "    </tr>\n",
       "  </tbody>\n",
       "</table>\n",
       "</div>"
      ],
      "text/plain": [
       "               neutral  positive  negative\n",
       "food              1298       753       255\n",
       "place              430       125       139\n",
       "staff              129       332       921\n",
       "miscellaneous      531       227       196\n",
       "service            128       174       329\n",
       "price              136        72       114\n",
       "menu               372        64        39\n",
       "ambience            53       181        90"
      ]
     },
     "execution_count": 17,
     "metadata": {},
     "output_type": "execute_result"
    }
   ],
   "source": [
    "count_df = pd.DataFrame(counts).transpose()\n",
    "count_df"
   ]
  },
  {
   "cell_type": "code",
   "execution_count": 18,
   "id": "blocked-sewing",
   "metadata": {},
   "outputs": [
    {
     "data": {
      "image/png": "[encoded data removed]",
      "text/plain": [
       "<Figure size 432x288 with 1 Axes>"
      ]
     },
     "metadata": {
      "needs_background": "light"
     },
     "output_type": "display_data"
    }
   ],
   "source": [
    "count_df.plot(kind = 'bar', color = ['grey', 'springgreen', 'lightcoral'], edgecolor = 'dimgrey')\n",
    "plt.xticks(rotation = 30);\n",
    "plt.title('Distribution of Sentiments for Each Aspect Category');"
   ]
  },
  {
   "cell_type": "markdown",
   "id": "czech-basic",
   "metadata": {},
   "source": [
    "#### Insight: \n",
    "'menu' has hardly any meaningful reviews, so we can combine it with 'food'. 'ambience' & 'place', and 'staff' & 'service' are very similar topics which may be difficult for an LDA topic model to distinguish. Since 'ambience' and 'service' have relatively few occurrences, we will combine these very similar topics. \n",
    "\n",
    "Therefore, instead of the original 8 aspect categories from the MAMS paper, let's use 5:\n",
    "- food (food+menu)\n",
    "- service (service+staff)\n",
    "- miscellaneous\n",
    "- place (place+ambience) \n",
    "- price\n",
    "\n",
    "# Naive Classifier:"
   ]
  },
  {
   "cell_type": "code",
   "execution_count": 19,
   "id": "magnetic-female",
   "metadata": {},
   "outputs": [
    {
     "name": "stdout",
     "output_type": "stream",
     "text": [
      "Count of most frequent aspect category and sentiment combination:  1298\n"
     ]
    }
   ],
   "source": [
    "#determine most common aspect category and sentiment in the corpus\n",
    "naive_count = count_df.max().max()\n",
    "print('Count of most frequent aspect category and sentiment combination: ', naive_count)"
   ]
  },
  {
   "cell_type": "code",
   "execution_count": 20,
   "id": "coastal-whale",
   "metadata": {},
   "outputs": [
    {
     "name": "stdout",
     "output_type": "stream",
     "text": [
      "Accuracy of Naive Classifier: 41.23253 %\n"
     ]
    }
   ],
   "source": [
    "#calculate accuracy of naive classifier that just assumes the most commonly occuring aspect category and sentiment combination\n",
    "print(f'Accuracy of Naive Classifier: {round(naive_count / len(train_df) * 100, 5)} %')"
   ]
  },
  {
   "cell_type": "markdown",
   "id": "complimentary-teaching",
   "metadata": {},
   "source": [
    "# Text Cleaning & Pre-Processing:\n",
    "https://towardsdatascience.com/topic-modelling-in-python-with-nltk-and-gensim-4ef03213cd21"
   ]
  },
  {
   "cell_type": "markdown",
   "id": "false-topic",
   "metadata": {},
   "source": [
    "## Tokenization:"
   ]
  },
  {
   "cell_type": "code",
   "execution_count": 21,
   "id": "sacred-evening",
   "metadata": {},
   "outputs": [],
   "source": [
    "def tokenize(text):\n",
    "    \"\"\"Creates tokens for LDA model. Passes over all whitespaces, adds special tokens for URLs and screen names. \n",
    "    Puts all tokens in lower case.\"\"\"\n",
    "    lda_tokens = []\n",
    "    tokens = parser(text)\n",
    "    for token in tokens:\n",
    "        if token.orth_.isspace():\n",
    "            continue\n",
    "        elif token.like_url:\n",
    "            lda_tokens.append('URL')\n",
    "        elif token.orth_.startswith('@'):\n",
    "            lda_tokens.append('SCREEN_NAME')\n",
    "        else:\n",
    "            lda_tokens.append(token.lower_)\n",
    "    return lda_tokens "
   ]
  },
  {
   "cell_type": "code",
   "execution_count": 22,
   "id": "married-butler",
   "metadata": {},
   "outputs": [
    {
     "data": {
      "text/plain": [
       "spacy.tokens.doc.Doc"
      ]
     },
     "execution_count": 22,
     "metadata": {},
     "output_type": "execute_result"
    }
   ],
   "source": [
    "test_parse = parser(train_df['text'][0])\n",
    "type(test_parse)"
   ]
  },
  {
   "cell_type": "code",
   "execution_count": 23,
   "id": "apparent-truth",
   "metadata": {},
   "outputs": [
    {
     "name": "stdout",
     "output_type": "stream",
     "text": [
      "It | <class 'spacy.tokens.token.Token'> | It | False | it\n",
      "might | <class 'spacy.tokens.token.Token'> | might | False | might\n",
      "be | <class 'spacy.tokens.token.Token'> | be | False | be\n",
      "the | <class 'spacy.tokens.token.Token'> | the | False | the\n",
      "best | <class 'spacy.tokens.token.Token'> | best | False | best\n"
     ]
    }
   ],
   "source": [
    "#See what happens at each step of the tokenize() function:\n",
    "for token in test_parse[0:5]:\n",
    "    print(token, '|', type(token), '|', token.orth_, '|', token.orth_.isspace(), '|', token.lower_)"
   ]
  },
  {
   "cell_type": "code",
   "execution_count": 24,
   "id": "comfortable-england",
   "metadata": {},
   "outputs": [
    {
     "name": "stdout",
     "output_type": "stream",
     "text": [
      "['it', 'might', 'be', 'the', 'best', 'sit', 'down', 'food', 'i', \"'ve\", 'had', 'in', 'the', 'area', ',', 'so', 'if', 'you', 'are', 'going', 'to', 'the', 'upright', 'citizen', 'brigade', ',', 'or', 'the', 'garden', ',', 'it', 'could', 'be', 'just', 'the', 'place', 'for', 'you', '.']\n"
     ]
    }
   ],
   "source": [
    "print(tokenize(train_df['text'][0]))"
   ]
  },
  {
   "cell_type": "code",
   "execution_count": 25,
   "id": "convinced-lender",
   "metadata": {},
   "outputs": [],
   "source": [
    "def get_lemma(word):\n",
    "    \"\"\"Lemmatize (get root word) for a given word.\"\"\"\n",
    "    lemma = wn.morphy(word)\n",
    "    if lemma is None:\n",
    "        return word\n",
    "    else:\n",
    "        return lemma"
   ]
  },
  {
   "cell_type": "code",
   "execution_count": 26,
   "id": "blank-recycling",
   "metadata": {},
   "outputs": [
    {
     "data": {
      "text/plain": [
       "'present'"
      ]
     },
     "execution_count": 26,
     "metadata": {},
     "output_type": "execute_result"
    }
   ],
   "source": [
    "get_lemma('presented')"
   ]
  },
  {
   "cell_type": "code",
   "execution_count": 27,
   "id": "straight-rings",
   "metadata": {},
   "outputs": [],
   "source": [
    "def get_lemma2(word):\n",
    "    \"\"\"More lemmatization.\"\"\"\n",
    "    return WordNetLemmatizer().lemmatize(word)"
   ]
  },
  {
   "cell_type": "code",
   "execution_count": 28,
   "id": "informative-registration",
   "metadata": {},
   "outputs": [
    {
     "data": {
      "text/plain": [
       "'foot'"
      ]
     },
     "execution_count": 28,
     "metadata": {},
     "output_type": "execute_result"
    }
   ],
   "source": [
    "get_lemma2('feet')"
   ]
  },
  {
   "cell_type": "code",
   "execution_count": 29,
   "id": "gothic-march",
   "metadata": {},
   "outputs": [
    {
     "name": "stderr",
     "output_type": "stream",
     "text": [
      "[nltk_data] Downloading package stopwords to\n",
      "[nltk_data]     C:\\Users\\Evan\\AppData\\Roaming\\nltk_data...\n",
      "[nltk_data]   Package stopwords is already up-to-date!\n"
     ]
    }
   ],
   "source": [
    "#download stopwords\n",
    "nltk.download('stopwords')\n",
    "en_stop = set(nltk.corpus.stopwords.words('english'))"
   ]
  },
  {
   "cell_type": "code",
   "execution_count": 30,
   "id": "optional-fortune",
   "metadata": {},
   "outputs": [],
   "source": [
    "def prepare_text_for_lda(text):\n",
    "    \"\"\"Generate list of tokens, keeping all tokens that are >2 characters, and are not in the stopword list.\n",
    "    Lemmatize each token.\"\"\"\n",
    "    tokens = tokenize(text)\n",
    "    tokens = [token for token in tokens if len(token) > 2 and \"'\" not in token]\n",
    "    tokens = [token for token in tokens if token not in en_stop]\n",
    "    tokens = [get_lemma(token) for token in tokens]\n",
    "    return tokens"
   ]
  },
  {
   "cell_type": "code",
   "execution_count": 31,
   "id": "confidential-cookbook",
   "metadata": {
    "scrolled": true
   },
   "outputs": [
    {
     "name": "stdout",
     "output_type": "stream",
     "text": [
      "BEFORE PRE-PROCESSING: It might be the best sit down food I've had in the area, so if you are going to the upright citizen brigade, or the garden, it could be just the place for you. \n",
      "\n",
      "AFTER PRE-PROCESSING: ['might', 'best', 'sit', 'food', 'area', 'going', 'upright', 'citizen', 'brigade', 'garden', 'could', 'place']\n"
     ]
    }
   ],
   "source": [
    "print(f\"BEFORE PRE-PROCESSING: {train_df['text'][0]} \\n\\nAFTER PRE-PROCESSING: {prepare_text_for_lda(train_df['text'][0])}\")"
   ]
  },
  {
   "cell_type": "code",
   "execution_count": 32,
   "id": "heated-hurricane",
   "metadata": {
    "scrolled": true
   },
   "outputs": [],
   "source": [
    "#pre-process all documents in the training set\n",
    "text_data = []\n",
    "for i in range(len(train_df)):\n",
    "    tokens = prepare_text_for_lda(train_df['text'][i])\n",
    "    text_data.append(tokens)"
   ]
  },
  {
   "cell_type": "code",
   "execution_count": 33,
   "id": "twelve-bahamas",
   "metadata": {
    "scrolled": true
   },
   "outputs": [
    {
     "data": {
      "text/plain": [
       "(list,\n",
       " 3148,\n",
       " ['food', 'awesome', 'deal', 'wait', 'staff', 'hardly', 'ever', 'find'])"
      ]
     },
     "execution_count": 33,
     "metadata": {},
     "output_type": "execute_result"
    }
   ],
   "source": [
    "type(text_data), len(text_data), text_data[777]"
   ]
  },
  {
   "cell_type": "markdown",
   "id": "conscious-static",
   "metadata": {},
   "source": [
    "## Bag-of-Words Representation:"
   ]
  },
  {
   "cell_type": "code",
   "execution_count": 34,
   "id": "starting-injection",
   "metadata": {},
   "outputs": [],
   "source": [
    "#create a dictionary (vocabulary) of the corpus, and a bag-of-words representation of the corpus\n",
    "dictionary = corpora.Dictionary(text_data)\n",
    "corpus = [dictionary.doc2bow(text) for text in text_data]"
   ]
  },
  {
   "cell_type": "code",
   "execution_count": 32,
   "id": "comic-mistake",
   "metadata": {},
   "outputs": [],
   "source": [
    "#DON'T RUN IF YOU'RE NOT TRAINING A NEW MODEL\n",
    "\n",
    "pickle.dump(corpus, open('corpus.pkl', 'wb'))\n",
    "dictionary.save('dictionary.gensim')"
   ]
  },
  {
   "cell_type": "code",
   "execution_count": 35,
   "id": "italian-jackson",
   "metadata": {},
   "outputs": [
    {
     "data": {
      "text/plain": [
       "(gensim.corpora.dictionary.Dictionary, 'area', 'citizen', 'going')"
      ]
     },
     "execution_count": 35,
     "metadata": {},
     "output_type": "execute_result"
    }
   ],
   "source": [
    "type(dictionary), dictionary[0], dictionary[3], dictionary[7]"
   ]
  },
  {
   "cell_type": "code",
   "execution_count": 36,
   "id": "initial-shepherd",
   "metadata": {
    "scrolled": true
   },
   "outputs": [
    {
     "data": {
      "text/plain": [
       "(list, 3148, 12, (0, 1), (1, 1), (2, 1), (3, 1), (12, 1), (13, 1))"
      ]
     },
     "execution_count": 36,
     "metadata": {},
     "output_type": "execute_result"
    }
   ],
   "source": [
    "type(corpus), len(corpus), len(corpus[0]), corpus[0][0], corpus[0][1], corpus[0][2], corpus[0][3], corpus[1][0], corpus[1][1]"
   ]
  },
  {
   "cell_type": "markdown",
   "id": "theoretical-brighton",
   "metadata": {},
   "source": [
    "Note that the corpus variable is a list. Each element is a document, and within each document, the words are represented by tuples of *(token_id, token_count)*."
   ]
  },
  {
   "cell_type": "code",
   "execution_count": 47,
   "id": "turned-cleaner",
   "metadata": {},
   "outputs": [
    {
     "name": "stdout",
     "output_type": "stream",
     "text": [
      "BoW Representation of Document 77 in corpus: \n",
      " [(40, 1), (49, 1), (130, 1), (153, 1), (279, 1), (484, 2), (485, 1), (486, 1), (487, 1)]\n"
     ]
    }
   ],
   "source": [
    "print('BoW Representation of Document 77 in corpus: \\n', corpus[77])"
   ]
  },
  {
   "cell_type": "markdown",
   "id": "nervous-omega",
   "metadata": {},
   "source": [
    "## TF-IDF Representation:"
   ]
  },
  {
   "cell_type": "code",
   "execution_count": 45,
   "id": "weird-lounge",
   "metadata": {},
   "outputs": [],
   "source": [
    "#use previously created corpus to create and fit TF-IDF representation\n",
    "tfidf = TfidfModel(corpus)"
   ]
  },
  {
   "cell_type": "code",
   "execution_count": 53,
   "id": "wired-gentleman",
   "metadata": {},
   "outputs": [],
   "source": [
    "tfidf_corpus = [tfidf[doc] for doc in corpus]"
   ]
  },
  {
   "cell_type": "code",
   "execution_count": 55,
   "id": "chubby-threat",
   "metadata": {},
   "outputs": [
    {
     "name": "stdout",
     "output_type": "stream",
     "text": [
      "TF-IDF Representation of Document 77 in corpus: \n",
      " [(40, 0.16565435298419193), (49, 0.2049189573411614), (130, 0.10975058432370582), (153, 0.2653403073838501), (279, 0.22423402243831253), (484, 0.59450153024223), (485, 0.36913585009310146), (486, 0.26690997370612535), (487, 0.4867247791212905)]\n"
     ]
    }
   ],
   "source": [
    "print('TF-IDF Representation of Document 77 in corpus: \\n', tfidf_corpus[77])"
   ]
  },
  {
   "cell_type": "markdown",
   "id": "subject-favor",
   "metadata": {},
   "source": [
    "# Topic Modelling with LDA:"
   ]
  },
  {
   "cell_type": "code",
   "execution_count": 41,
   "id": "interstate-monster",
   "metadata": {},
   "outputs": [],
   "source": [
    "#DON'T RUN IF YOU'RE NOT TRAINING A NEW MODEL\n",
    "#training LDA model on BoW representation\n",
    "\n",
    "NUM_TOPICS = 5\n",
    "ldamodel = gensim.models.ldamodel.LdaModel(corpus, num_topics = NUM_TOPICS, id2word = dictionary, passes = 25)\n",
    "ldamodel.save('model5.gensim')"
   ]
  },
  {
   "cell_type": "code",
   "execution_count": 56,
   "id": "worth-crisis",
   "metadata": {},
   "outputs": [],
   "source": [
    "#DON'T RUN IF YOU'RE NOT TRAINING A NEW MODEL\n",
    "#training LDA model on TF-IDF representation\n",
    "\n",
    "NUM_TOPICS = 5\n",
    "ldamodel_tfidf = gensim.models.ldamodel.LdaModel(tfidf_corpus, num_topics = NUM_TOPICS, id2word = dictionary, passes = 25)\n",
    "ldamodel_tfidf.save('model5_tfidf.gensim')"
   ]
  },
  {
   "cell_type": "code",
   "execution_count": 57,
   "id": "chubby-popularity",
   "metadata": {
    "scrolled": true
   },
   "outputs": [
    {
     "name": "stdout",
     "output_type": "stream",
     "text": [
      "(0, '0.008*\"waiter\" + 0.008*\"drink\" + 0.008*\"table\" + 0.008*\"food\" + 0.008*\"service\" + 0.008*\"get\" + 0.008*\"wait\"')\n",
      "(1, '0.004*\"coming\" + 0.003*\"middle\" + 0.003*\"different\" + 0.003*\"question\" + 0.002*\"best\" + 0.002*\"pricey\" + 0.002*\"stay\"')\n",
      "(2, '0.007*\"price\" + 0.005*\"portion\" + 0.005*\"hours\" + 0.005*\"food\" + 0.005*\"good\" + 0.004*\"expect\" + 0.004*\"menu\"')\n",
      "(3, '0.004*\"red\" + 0.004*\"overall\" + 0.003*\"serve\" + 0.003*\"like\" + 0.002*\"inform\" + 0.002*\"special\" + 0.002*\"quick\"')\n",
      "(4, '0.007*\"menu\" + 0.004*\"special\" + 0.003*\"dish\" + 0.003*\"food\" + 0.003*\"cool\" + 0.003*\"chicken\" + 0.003*\"fresh\"')\n"
     ]
    }
   ],
   "source": [
    "#DON'T RUN IF YOU'RE NOT TRAINING A NEW MODEL\n",
    "#print highest probability words for each topic\n",
    "MODEL = ldamodel_tfidf\n",
    "\n",
    "topics = MODEL.print_topics(num_words = 7)\n",
    "for topic in topics:\n",
    "    print(topic)"
   ]
  },
  {
   "cell_type": "code",
   "execution_count": 58,
   "id": "alone-mainstream",
   "metadata": {},
   "outputs": [
    {
     "name": "stdout",
     "output_type": "stream",
     "text": [
      "[(29, 1), (84, 1), (121, 1), (141, 1), (238, 1), (301, 1), (522, 1)]\n",
      "[(0, 0.726576), (1, 0.025276754), (2, 0.025294088), (3, 0.02501118), (4, 0.19784199)]\n"
     ]
    }
   ],
   "source": [
    "#DON'T RUN IF YOU'RE NOT TRAINING A NEW MODEL\n",
    "#test LDA model on new document\n",
    "new_doc = \"I've never had a bad meal here, friendly staff and fresh sushi!\"\n",
    "new_doc = prepare_text_for_lda(new_doc)\n",
    "new_doc_bow = dictionary.doc2bow(new_doc)\n",
    "print(new_doc_bow)\n",
    "print(MODEL.get_document_topics(new_doc_bow))"
   ]
  },
  {
   "cell_type": "markdown",
   "id": "aggressive-utilization",
   "metadata": {},
   "source": [
    "### Visualize Topic Model:"
   ]
  },
  {
   "cell_type": "code",
   "execution_count": 61,
   "id": "boolean-thomas",
   "metadata": {},
   "outputs": [
    {
     "data": {
      "text/html": [
       "\n",
       "<link rel=\"stylesheet\" type=\"text/css\" href=\"https://cdn.jsdelivr.net/gh/bmabey/pyLDAvis@3.3.1/pyLDAvis/js/ldavis.v1.0.0.css\">\n",
       "\n",
       "\n",
       "<div id=\"ldavis_el32401798628467088505744604\"></div>\n",
       "<script type=\"text/javascript\">\n",
       "\n",
       "var ldavis_el32401798628467088505744604_data = {\"mdsDat\": {\"x\": [-0.20906788286995104, 0.06294112950096742, 0.04616215561254587, 0.07916010521721471, 0.020804492539222973], \"y\": [0.011575333683668922, 0.03895128124925172, 0.045339074531782576, -0.0022297687786596056, -0.09363592068604364], \"topics\": [1, 2, 3, 4, 5], \"cluster\": [1, 1, 1, 1, 1], \"Freq\": [61.87372007703561, 7.414051529719272, 8.05756305324273, 8.185088943696158, 14.469576396306236]}, \"tinfo\": {\"Term\": [\"price\", \"portion\", \"good\", \"menu\", \"take\", \"expect\", \"food\", \"special\", \"hours\", \"worth\", \"time\", \"small\", \"reservation\", \"like\", \"serve\", \"quality\", \"minutes\", \"red\", \"bartender\", \"wait\", \"best\", \"seat\", \"salad\", \"table\", \"overall\", \"dish\", \"coming\", \"cool\", \"although\", \"ask\", \"take\", \"reservation\", \"time\", \"minutes\", \"seat\", \"hour\", \"could\", \"waiting\", \"long\", \"never\", \"check\", \"hostess\", \"water\", \"say\", \"even\", \"arrive\", \"bill\", \"night\", \"ask\", \"times\", \"another\", \"forget\", \"next\", \"empty\", \"bad\", \"half\", \"would\", \"finally\", \"rude\", \"wait\", \"drink\", \"table\", \"waitress\", \"get\", \"order\", \"come\", \"go\", \"manager\", \"waiter\", \"dinner\", \"service\", \"place\", \"food\", \"bar\", \"one\", \"staff\", \"tell\", \"meal\", \"great\", \"good\", \"menu\", \"coming\", \"question\", \"pricey\", \"stay\", \"answer\", \"middle\", \"plus\", \"bus\", \"compare\", \"boy\", \"talk\", \"totally\", \"approach\", \"bowl\", \"whisk\", \"force\", \"possible\", \"dancing\", \"state\", \"sorry\", \"continue\", \"sell\", \"maitre\", \"and/or\", \"year\", \"bright\", \"cram\", \"welcome\", \"calling\", \"annoying\", \"beautiful\", \"option\", \"windows\", \"different\", \"reserve\", \"chat\", \"cup\", \"helpful\", \"run\", \"set\", \"fix\", \"best\", \"soup\", \"everything\", \"cafe\", \"chef\", \"bar\", \"salad\", \"menu\", \"lunch\", \"food\", \"reasonable\", \"hours\", \"worse\", \"sunday\", \"smaller\", \"generous\", \"band\", \"spending\", \"higher\", \"city\", \"learn\", \"tray\", \"hungry\", \"consistently\", \"husband\", \"face\", \"pushy\", \"girlfriend\", \"complain\", \"pancake\", \"perfectly\", \"description\", \"drunk\", \"mojitos\", \"lucky\", \"giving\", \"tag\", \"split\", \"towards\", \"month\", \"slightly\", \"sandwich\", \"rather\", \"years\", \"range\", \"smoke\", \"soon\", \"bartender\", \"expect\", \"portion\", \"price\", \"fine\", \"good\", \"food\", \"small\", \"menu\", \"quality\", \"worth\", \"tap\", \"although\", \"service\", \"like\", \"overall\", \"pick\", \"sangria\", \"red\", \"smile\", \"cozy\", \"pushing\", \"reflect\", \"suggestion\", \"play\", \"toast\", \"random\", \"uncomfortable\", \"phone\", \"foie\", \"gras\", \"broth\", \"concern\", \"trip\", \"discount\", \"intimate\", \"joke\", \"dark\", \"properly\", \"spotty\", \"dip\", \"pleasent\", \"complement\", \"colored\", \"light\", \"quick\", \"inform\", \"lovely\", \"casual\", \"outside\", \"chocolate\", \"sauce\", \"setting\", \"house\", \"live\", \"special\", \"bartender\", \"serve\", \"like\", \"flavor\", \"menu\", \"feel\", \"french\", \"tasty\", \"cool\", \"vegetarian\", \"fries\", \"ice\", \"wonderful\", \"unless\", \"chips\", \"japanese\", \"allow\", \"cake\", \"complimentary\", \"chop\", \"limited\", \"surprisingly\", \"notice\", \"impressive\", \"delivery\", \"hit\", \"authentic\", \"leaving\", \"card\", \"horrendous\", \"diverse\", \"lower\", \"suit\", \"upscale\", \"korean\", \"detail\", \"hope\", \"constantly\", \"ingredient\", \"share\", \"burger\", \"describe\", \"fish\", \"special\", \"chicken\", \"probably\", \"fresh\", \"deliver\", \"1/2\", \"miss\", \"pork\", \"menu\", \"meat\", \"salad\", \"selection\", \"dish\", \"large\", \"steak\", \"portion\", \"pizza\", \"scene\", \"like\", \"food\", \"sushi\", \"good\", \"item\", \"bar\", \"dessert\", \"big\", \"entree\", \"meal\", \"service\"], \"Freq\": [116.0, 68.0, 126.0, 156.0, 147.0, 33.0, 216.0, 34.0, 19.0, 65.0, 129.0, 63.0, 122.0, 86.0, 63.0, 38.0, 116.0, 15.0, 23.0, 180.0, 46.0, 108.0, 33.0, 193.0, 12.0, 57.0, 11.0, 16.0, 50.0, 142.0, 146.5096928462828, 121.1763359632943, 128.03446960126246, 114.95002377090245, 107.03555918841882, 87.81135313603632, 100.27766813209155, 95.17627224257573, 98.58604413744078, 88.2461821912103, 86.17232712570234, 79.08624242862744, 74.86079164064266, 88.06696060585233, 119.66961724805083, 58.10211279556011, 55.73768019480044, 79.37229523537621, 138.6035791662292, 53.29630074908994, 70.44703805781327, 48.40436539074013, 45.7991696049022, 45.10650511418149, 57.348441205211266, 51.60934436910537, 101.64296129819706, 42.570098431788765, 42.555473768376, 174.71017172858905, 187.99746298996456, 187.12752969145032, 156.3103817936051, 175.64962179156504, 170.86279772856693, 126.13016749073248, 89.3288835709658, 95.8748374026307, 189.682524805266, 140.0636958239323, 176.61336250229374, 126.48084188783163, 177.030579514827, 134.0126679092888, 106.87265837815221, 100.65605186070118, 95.05820593508928, 99.97972402131221, 94.87414738850126, 96.50286971884078, 98.49305170556485, 9.971362514399964, 6.858944321301407, 6.343855556092765, 6.006769220878044, 5.683506839543259, 7.625709581168131, 4.842103008872401, 4.703037837598193, 4.488319176337059, 4.313215337773652, 4.441515263495441, 3.783663736412871, 3.903509172909695, 3.698589348682035, 3.707920200487829, 3.7703927406881323, 3.8673398755975943, 3.603018584960481, 3.5754448699806067, 3.5796738584404824, 3.517711472868455, 3.408928687170366, 3.3958476122798955, 3.357280683333848, 3.103913924957097, 3.2205202441870076, 3.289712621050874, 3.033562365171555, 3.109941612737176, 3.0724428695852, 4.916276765080481, 5.0480656538411415, 3.9824620221643863, 7.592858666913539, 4.39784171525604, 4.283678684755459, 4.800957722289848, 4.566326860304684, 5.370465940437405, 4.213631188542643, 4.392480494243291, 6.762997837732428, 4.7621552154141495, 5.565431249618862, 4.241458236989263, 5.9220499438890775, 5.952560932005277, 4.85399351158812, 5.188487221324029, 4.651826112673114, 4.680139218947668, 8.328612763487165, 15.489207554309452, 6.821154996222222, 6.797622731181395, 6.359154594740072, 5.3026909020424275, 5.320453813226601, 5.1187121585028725, 4.945034380393097, 6.139625563436253, 4.901142081787543, 4.838073392363342, 5.399019091173852, 4.5720618317342385, 4.9287697162715, 4.45791559813207, 4.325070221223136, 4.2745664078085515, 8.95310198715247, 5.885965581914343, 3.808192213786086, 3.816839525201765, 3.772948604928376, 3.683916961691632, 3.677892960967627, 3.677663813245315, 3.512916593810979, 3.461069251119258, 3.4697761754010426, 4.972352923889213, 4.896160444762779, 6.100959900397666, 6.774146977759303, 7.68222184173138, 5.73855640277454, 4.317145500444584, 4.910635689152093, 9.635808515606739, 11.075598443598304, 15.929047131254238, 20.171701014463114, 6.141349856973773, 15.05332930400482, 15.195301651922602, 8.938295943043729, 10.449349778925288, 7.076092691660423, 7.8868807364808164, 5.3376591890503216, 6.266002772081241, 6.4143264746120465, 5.202675674371543, 10.909584954060547, 7.027978202098009, 6.4810199442958165, 12.099006184945784, 5.761498840367545, 5.311775879326876, 4.869653615347541, 4.787438743731036, 4.594077416533281, 4.5160622853304195, 4.240636602300279, 4.270847220393332, 4.079575962374597, 4.281592297195937, 3.8042482896224876, 3.8042482896224876, 3.8988604112998417, 3.876899458323374, 3.7840375201822942, 3.800725870237381, 3.6722553979406705, 3.6165446057240946, 3.5044443001155763, 3.5303977717749944, 3.4089525361928903, 3.3348693673226246, 3.3233965642056362, 3.1755130561245664, 3.045593081823113, 6.139049482922853, 7.074494580125118, 7.485002228778601, 5.938591861558918, 5.250493902877631, 6.289145222993774, 5.251906651028111, 6.771002953907276, 5.154636000559156, 5.1930059742983214, 5.37259895765291, 7.290560338265551, 6.332443363534382, 8.176671962020718, 7.933332043724395, 4.91945998838614, 6.986509353389515, 4.847164456979825, 4.682882779273982, 4.5493756287965805, 15.272694112992047, 10.519735909797172, 12.036072966007449, 11.267882452357329, 9.222896796938974, 9.6077933918278, 8.628258781672121, 8.20716336408659, 7.79860904189746, 7.69304280739673, 7.44776714894013, 7.436036054721696, 12.96611149195888, 7.028490985337201, 8.808579647423318, 6.459143694397894, 9.374730249221766, 6.262751514212623, 6.160683321468239, 6.227402914295541, 5.938576543153354, 5.896248567158113, 5.758622003374163, 5.7563219465533, 5.741504308503157, 5.655636139318147, 5.601116067670105, 5.561234183849433, 5.4156957216227735, 5.465829163514803, 12.441342111532075, 13.301029962217457, 12.874145109168918, 8.52608910673279, 13.353771001484551, 22.95855705509621, 14.826662539967415, 7.948804546802036, 14.660629005918372, 8.922324480525434, 8.207399124551682, 7.986257664676545, 7.137901786162392, 35.28301766739086, 9.641341301578427, 13.54257243724649, 12.41718068602026, 16.444515205994705, 12.894269523462194, 11.192192823566824, 14.089305287353067, 11.691914665657636, 9.687155562246453, 13.303560829152438, 16.07605934548132, 11.052174621469009, 12.861152913040094, 10.32315314109944, 12.224053881095601, 10.416389907707865, 9.828828419157016, 10.182930737023984, 10.353238899138274, 10.091870268462095], \"Total\": [116.0, 68.0, 126.0, 156.0, 147.0, 33.0, 216.0, 34.0, 19.0, 65.0, 129.0, 63.0, 122.0, 86.0, 63.0, 38.0, 116.0, 15.0, 23.0, 180.0, 46.0, 108.0, 33.0, 193.0, 12.0, 57.0, 11.0, 16.0, 50.0, 142.0, 147.8726584337196, 122.505511403336, 129.4996303614309, 116.28323696404394, 108.347999146354, 89.13814398952731, 101.8575537534373, 96.68284365932756, 100.14787254269771, 89.6562211015055, 87.5698956476426, 80.4112090720395, 76.19511439714454, 90.13408752518163, 122.50189897787598, 59.47832149239822, 57.07441199228045, 81.30644054046881, 142.17047361210848, 54.68656571292494, 72.339731685545, 49.761315727244195, 47.12349875926743, 46.41106701191428, 59.00745043474464, 53.154167884993996, 104.7053458115443, 43.87268708632127, 43.883958162547245, 180.2298416631453, 194.16813264047224, 193.4421771257982, 163.0708451244752, 184.0548073722877, 179.25902627947852, 132.02222474860054, 93.3814562958642, 100.63828254428086, 206.14635375992916, 153.28386589784648, 197.7696923144112, 140.66010943825543, 216.6258998972054, 154.08108162207927, 118.7849320677825, 111.36155872865541, 101.88565874580375, 111.95328965664177, 109.78812511971634, 126.3380685834608, 156.40041572659453, 11.745792312086136, 8.597250511318203, 8.09008505181729, 7.7816754326987345, 7.419459172707728, 10.126723608981028, 6.5726049262820805, 6.435049425108488, 6.251071265896306, 6.040744238482843, 6.412930046067873, 5.516360260223175, 5.695815140511199, 5.416438487660509, 5.4339920093544345, 5.539311720588781, 5.695280619676676, 5.330245730236133, 5.301576406725174, 5.324553467089956, 5.25529746255875, 5.141224581350981, 5.1400146720595306, 5.092748836859828, 4.831931248816583, 5.023871366885119, 5.131947548497099, 4.76266732940626, 4.904704541364359, 4.861294368677763, 7.930180239312555, 8.290845951321565, 6.460551939881277, 17.05666747583219, 7.899687312629427, 7.9490883225488504, 9.71369905932812, 9.040549318765224, 12.841238148438226, 7.934578673775514, 10.202533296498451, 46.01653992674323, 14.309872128889833, 26.811868639302038, 9.679990008249009, 45.5989395344404, 154.08108162207927, 33.34420746482982, 156.40041572659453, 64.17627951564546, 216.6258998972054, 10.059274870916813, 19.11957137169614, 8.55335058363772, 8.559442545568151, 8.075227332440933, 7.004496700902894, 7.032913168657007, 6.844284693502201, 6.668750264397867, 8.302959608024839, 6.630445174824139, 6.6154101306880735, 7.4157606925621025, 6.28899910105392, 6.780708617200683, 6.240926902264774, 6.073522929339724, 6.01113247101168, 12.74870586418888, 8.460098311097877, 5.508523520393504, 5.5254771508512475, 5.499480848577926, 5.391536614801466, 5.3964532267042555, 5.42073413526852, 5.238912706119655, 5.178677465060338, 5.208042418380345, 7.507435041147934, 7.532157136153623, 9.874041915313637, 11.205944766268642, 13.420094110236874, 9.636663568862962, 6.761557119344598, 8.158186155411006, 23.336719161218113, 33.87124776133801, 68.81408563797125, 116.08179247074713, 12.567025285013251, 126.3380685834608, 216.6258998972054, 63.69603100750227, 156.40041572659453, 38.54559970297357, 65.19010321026342, 10.768337197181665, 50.34453794286717, 197.7696923144112, 86.79976456098922, 12.65081269898557, 8.750555878607424, 8.178360401783875, 15.311415406035296, 7.497756174397719, 7.046719539809362, 6.5731704572071195, 6.499571735843888, 6.308557744097437, 6.260002674893361, 5.941635903563746, 6.006985469500543, 5.784992556292978, 6.122440214433088, 5.4938622741700645, 5.4938622741700645, 5.643448151733735, 5.612800497261682, 5.497215079060954, 5.529421933644772, 5.378017424065664, 5.361860332680912, 5.202505305368139, 5.247683909443114, 5.122209076661954, 5.065717091596688, 5.0707928863009215, 4.874203554098652, 4.731697642628164, 9.627364771293644, 11.78950068955442, 13.259129782909564, 10.441333893078397, 9.066223214073437, 12.782967738393882, 10.158741287769173, 17.313847014216385, 10.467403577978295, 10.806389511571354, 12.172949574559675, 34.40724663961009, 23.336719161218113, 63.78241180401375, 86.79976456098922, 16.770866636436637, 156.40041572659453, 22.531880861351432, 16.754319970885113, 14.437060526221149, 16.930479312632762, 12.11179373867341, 13.89331904157408, 13.045451332486177, 10.85372606563801, 11.312444624066472, 10.250287789237117, 9.818962845923135, 9.425862535828752, 9.30359019210642, 9.050181230178858, 9.07713268761669, 15.885787957528823, 8.621689200699304, 10.927654601057263, 8.064000148273848, 11.73169519494711, 7.871215362237948, 7.759252274611258, 7.85726269838084, 7.527332488090822, 7.519903710219455, 7.361910222065535, 7.3603618572232365, 7.350282774678813, 7.2438195455521175, 7.2015134469173345, 7.154110618556521, 7.033091951984705, 7.114457751604893, 16.221133494820357, 17.55582471637372, 17.389660110155845, 11.256787693070873, 18.789358116924348, 34.40724663961009, 21.28022867854856, 10.62203645906569, 21.596551623594056, 12.20497422458243, 11.59203563460411, 11.182936214454267, 9.728752313121468, 156.40041572659453, 16.995005631614696, 33.34420746482982, 29.930598321017772, 57.74268050273762, 41.673493537446596, 29.43069731412454, 68.81408563797125, 37.71004671089266, 22.125478534159676, 86.79976456098922, 216.6258998972054, 43.14621396659209, 126.3380685834608, 34.242201410696225, 154.08108162207927, 68.97336591148216, 28.62004944743905, 69.13456238349666, 111.95328965664177, 197.7696923144112], \"Category\": [\"Default\", \"Default\", \"Default\", \"Default\", \"Default\", \"Default\", \"Default\", \"Default\", \"Default\", \"Default\", \"Default\", \"Default\", \"Default\", \"Default\", \"Default\", \"Default\", \"Default\", \"Default\", \"Default\", \"Default\", \"Default\", \"Default\", \"Default\", \"Default\", \"Default\", \"Default\", \"Default\", \"Default\", \"Default\", \"Default\", \"Topic1\", \"Topic1\", \"Topic1\", \"Topic1\", \"Topic1\", \"Topic1\", \"Topic1\", \"Topic1\", \"Topic1\", \"Topic1\", \"Topic1\", \"Topic1\", \"Topic1\", \"Topic1\", \"Topic1\", \"Topic1\", \"Topic1\", \"Topic1\", \"Topic1\", \"Topic1\", \"Topic1\", \"Topic1\", \"Topic1\", \"Topic1\", \"Topic1\", \"Topic1\", \"Topic1\", \"Topic1\", \"Topic1\", \"Topic1\", \"Topic1\", \"Topic1\", \"Topic1\", \"Topic1\", \"Topic1\", \"Topic1\", \"Topic1\", \"Topic1\", \"Topic1\", \"Topic1\", \"Topic1\", \"Topic1\", \"Topic1\", \"Topic1\", \"Topic1\", \"Topic1\", \"Topic1\", \"Topic1\", \"Topic1\", \"Topic1\", \"Topic1\", \"Topic2\", \"Topic2\", \"Topic2\", \"Topic2\", \"Topic2\", \"Topic2\", \"Topic2\", \"Topic2\", \"Topic2\", \"Topic2\", \"Topic2\", \"Topic2\", \"Topic2\", \"Topic2\", \"Topic2\", \"Topic2\", \"Topic2\", \"Topic2\", \"Topic2\", \"Topic2\", \"Topic2\", \"Topic2\", \"Topic2\", \"Topic2\", \"Topic2\", \"Topic2\", \"Topic2\", \"Topic2\", \"Topic2\", \"Topic2\", \"Topic2\", \"Topic2\", \"Topic2\", \"Topic2\", \"Topic2\", \"Topic2\", \"Topic2\", \"Topic2\", \"Topic2\", \"Topic2\", \"Topic2\", \"Topic2\", \"Topic2\", \"Topic2\", \"Topic2\", \"Topic2\", \"Topic2\", \"Topic2\", \"Topic2\", \"Topic2\", \"Topic2\", \"Topic3\", \"Topic3\", \"Topic3\", \"Topic3\", \"Topic3\", \"Topic3\", \"Topic3\", \"Topic3\", \"Topic3\", \"Topic3\", \"Topic3\", \"Topic3\", \"Topic3\", \"Topic3\", \"Topic3\", \"Topic3\", \"Topic3\", \"Topic3\", \"Topic3\", \"Topic3\", \"Topic3\", \"Topic3\", \"Topic3\", \"Topic3\", \"Topic3\", \"Topic3\", \"Topic3\", \"Topic3\", \"Topic3\", \"Topic3\", \"Topic3\", \"Topic3\", \"Topic3\", \"Topic3\", \"Topic3\", \"Topic3\", \"Topic3\", \"Topic3\", \"Topic3\", \"Topic3\", \"Topic3\", \"Topic3\", \"Topic3\", \"Topic3\", \"Topic3\", \"Topic3\", \"Topic3\", \"Topic3\", \"Topic3\", \"Topic3\", \"Topic3\", \"Topic3\", \"Topic4\", \"Topic4\", \"Topic4\", \"Topic4\", \"Topic4\", \"Topic4\", \"Topic4\", \"Topic4\", \"Topic4\", \"Topic4\", \"Topic4\", \"Topic4\", \"Topic4\", \"Topic4\", \"Topic4\", \"Topic4\", \"Topic4\", \"Topic4\", \"Topic4\", \"Topic4\", \"Topic4\", \"Topic4\", \"Topic4\", \"Topic4\", \"Topic4\", \"Topic4\", \"Topic4\", \"Topic4\", \"Topic4\", \"Topic4\", \"Topic4\", \"Topic4\", \"Topic4\", \"Topic4\", \"Topic4\", \"Topic4\", \"Topic4\", \"Topic4\", \"Topic4\", \"Topic4\", \"Topic4\", \"Topic4\", \"Topic4\", \"Topic4\", \"Topic4\", \"Topic4\", \"Topic4\", \"Topic4\", \"Topic4\", \"Topic5\", \"Topic5\", \"Topic5\", \"Topic5\", \"Topic5\", \"Topic5\", \"Topic5\", \"Topic5\", \"Topic5\", \"Topic5\", \"Topic5\", \"Topic5\", \"Topic5\", \"Topic5\", \"Topic5\", \"Topic5\", \"Topic5\", \"Topic5\", \"Topic5\", \"Topic5\", \"Topic5\", \"Topic5\", \"Topic5\", \"Topic5\", \"Topic5\", \"Topic5\", \"Topic5\", \"Topic5\", \"Topic5\", \"Topic5\", \"Topic5\", \"Topic5\", \"Topic5\", \"Topic5\", \"Topic5\", \"Topic5\", \"Topic5\", \"Topic5\", \"Topic5\", \"Topic5\", \"Topic5\", \"Topic5\", \"Topic5\", \"Topic5\", \"Topic5\", \"Topic5\", \"Topic5\", \"Topic5\", \"Topic5\", \"Topic5\", \"Topic5\", \"Topic5\", \"Topic5\", \"Topic5\", \"Topic5\", \"Topic5\", \"Topic5\", \"Topic5\", \"Topic5\", \"Topic5\", \"Topic5\", \"Topic5\", \"Topic5\", \"Topic5\"], \"logprob\": [30.0, 29.0, 28.0, 27.0, 26.0, 25.0, 24.0, 23.0, 22.0, 21.0, 20.0, 19.0, 18.0, 17.0, 16.0, 15.0, 14.0, 13.0, 12.0, 11.0, 10.0, 9.0, 8.0, 7.0, 6.0, 5.0, 4.0, 3.0, 2.0, 1.0, -5.0443, -5.2342, -5.1791, -5.2869, -5.3582, -5.5562, -5.4235, -5.4757, -5.4405, -5.5513, -5.5751, -5.6609, -5.7158, -5.5533, -5.2467, -5.9692, -6.0108, -5.6573, -5.0998, -6.0555, -5.7765, -6.1518, -6.2071, -6.2224, -5.9823, -6.0877, -5.4099, -6.2803, -6.2806, -4.8683, -4.795, -4.7996, -4.9796, -4.8629, -4.8905, -5.1941, -5.5391, -5.4684, -4.7861, -5.0893, -4.8574, -5.1913, -4.8551, -5.1335, -5.3598, -5.4197, -5.4769, -5.4264, -5.4789, -5.4618, -5.4414, -5.61, -5.9841, -6.0622, -6.1168, -6.1721, -5.8782, -6.3323, -6.3615, -6.4082, -6.448, -6.4187, -6.579, -6.5478, -6.6017, -6.5992, -6.5825, -6.5571, -6.6279, -6.6356, -6.6344, -6.6519, -6.6833, -6.6871, -6.6986, -6.777, -6.7401, -6.7189, -6.8, -6.7751, -6.7872, -6.3171, -6.2907, -6.5278, -5.8825, -6.4286, -6.4549, -6.3409, -6.391, -6.2288, -6.4714, -6.4298, -5.9982, -6.349, -6.1931, -6.4648, -6.131, -6.1259, -6.3299, -6.2632, -6.3724, -6.3664, -5.8732, -5.2528, -6.0729, -6.0764, -6.143, -6.3247, -6.3214, -6.36, -6.3945, -6.1782, -6.4035, -6.4164, -6.3067, -6.473, -6.3978, -6.4982, -6.5285, -6.5402, -5.8009, -6.2204, -6.6558, -6.6535, -6.6651, -6.6889, -6.6906, -6.6906, -6.7365, -6.7513, -6.7488, -6.389, -6.4045, -6.1845, -6.0798, -5.954, -6.2457, -6.5303, -6.4015, -5.7274, -5.5882, -5.2248, -4.9886, -6.1779, -5.2813, -5.2719, -5.8026, -5.6464, -6.0362, -5.9277, -6.3181, -6.1578, -6.1344, -6.3438, -5.619, -6.0587, -6.1398, -5.5155, -6.2574, -6.3387, -6.4256, -6.4426, -6.4839, -6.501, -6.5639, -6.5568, -6.6026, -6.5543, -6.6725, -6.6725, -6.6479, -6.6536, -6.6778, -6.6734, -6.7078, -6.7231, -6.7546, -6.7472, -6.7822, -6.8042, -6.8076, -6.8532, -6.8949, -6.194, -6.0521, -5.9957, -6.2272, -6.3503, -6.1698, -6.35, -6.096, -6.3687, -6.3613, -6.3273, -6.022, -6.1629, -5.9073, -5.9376, -6.4154, -6.0646, -6.4302, -6.4647, -6.4936, -5.8523, -6.2251, -6.0905, -6.1564, -6.3567, -6.3158, -6.4233, -6.4734, -6.5244, -6.538, -6.5704, -6.572, -6.016, -6.6284, -6.4026, -6.7129, -6.3403, -6.7437, -6.7602, -6.7494, -6.7969, -6.804, -6.8277, -6.8281, -6.8306, -6.8457, -6.8554, -6.8625, -6.8891, -6.8798, -6.0573, -5.9905, -6.0231, -6.4352, -5.9866, -5.4447, -5.8819, -6.5053, -5.8932, -6.3898, -6.4733, -6.5006, -6.6129, -5.015, -6.3123, -5.9725, -6.0593, -5.7784, -6.0216, -6.1631, -5.9329, -6.1195, -6.3076, -5.9903, -5.801, -6.1757, -6.0242, -6.244, -6.075, -6.235, -6.293, -6.2577, -6.2411, -6.2666], \"loglift\": [30.0, 29.0, 28.0, 27.0, 26.0, 25.0, 24.0, 23.0, 22.0, 21.0, 20.0, 19.0, 18.0, 17.0, 16.0, 15.0, 14.0, 13.0, 12.0, 11.0, 10.0, 9.0, 8.0, 7.0, 6.0, 5.0, 4.0, 3.0, 2.0, 1.0, 0.4708, 0.4692, 0.4687, 0.4685, 0.4679, 0.4651, 0.4644, 0.4644, 0.4644, 0.4642, 0.464, 0.4635, 0.4624, 0.4569, 0.4567, 0.4567, 0.4564, 0.456, 0.4547, 0.4543, 0.4536, 0.4524, 0.4516, 0.4516, 0.4516, 0.4506, 0.4504, 0.4499, 0.4493, 0.449, 0.4478, 0.4469, 0.4377, 0.4333, 0.4321, 0.4344, 0.4357, 0.4316, 0.3968, 0.3899, 0.3669, 0.3738, 0.2782, 0.3405, 0.3744, 0.379, 0.4107, 0.367, 0.3341, 0.2107, 0.0176, 2.438, 2.3759, 2.3586, 2.3429, 2.3353, 2.3181, 2.2962, 2.2882, 2.2705, 2.2649, 2.2345, 2.2248, 2.2239, 2.2203, 2.2196, 2.2171, 2.2147, 2.2102, 2.2079, 2.2047, 2.2004, 2.1909, 2.1873, 2.1851, 2.1592, 2.1571, 2.1571, 2.1507, 2.1462, 2.143, 2.1237, 2.1056, 2.118, 1.7925, 2.0161, 1.9835, 1.8971, 1.9188, 1.73, 1.9689, 1.7591, 0.6843, 1.5015, 1.0295, 1.7766, 0.5606, -0.6519, 0.6747, -0.8042, -0.0226, -1.2331, 2.3298, 2.308, 2.2923, 2.2881, 2.2797, 2.2402, 2.2395, 2.228, 2.2195, 2.2167, 2.2164, 2.2057, 2.2012, 2.1997, 2.1996, 2.1821, 2.179, 2.1776, 2.1651, 2.1558, 2.1494, 2.1486, 2.1418, 2.1377, 2.1352, 2.1306, 2.1189, 2.1156, 2.1124, 2.1066, 2.0878, 2.0371, 2.0152, 1.9607, 2.0002, 2.0699, 2.0109, 1.634, 1.4007, 1.0553, 0.7685, 1.8025, 0.3912, -0.1386, 0.5548, -0.1873, 0.8234, 0.4065, 1.8167, 0.4348, -0.91, -0.2959, 2.3548, 2.2836, 2.2702, 2.2674, 2.2394, 2.2202, 2.2029, 2.1971, 2.1857, 2.1763, 2.1656, 2.1617, 2.1536, 2.1452, 2.1353, 2.1353, 2.133, 2.1328, 2.1294, 2.128, 2.1213, 2.1091, 2.1077, 2.1065, 2.0957, 2.0848, 2.0803, 2.0744, 2.0623, 2.0529, 1.9921, 1.9311, 1.9386, 1.9566, 1.7936, 1.8431, 1.564, 1.7945, 1.77, 1.685, 0.9512, 1.1985, 0.4487, 0.1103, 1.2764, -0.6056, 0.9663, 1.2281, 1.348, 1.8301, 1.7922, 1.7896, 1.7866, 1.7703, 1.7698, 1.7609, 1.7538, 1.7436, 1.743, 1.7383, 1.7337, 1.73, 1.7288, 1.7176, 1.7112, 1.7088, 1.7045, 1.7024, 1.7006, 1.6961, 1.6899, 1.6875, 1.6873, 1.6861, 1.6856, 1.6818, 1.6813, 1.6718, 1.6695, 1.6678, 1.6556, 1.6325, 1.6553, 1.5916, 1.5285, 1.5718, 1.6432, 1.5458, 1.6198, 1.5878, 1.5965, 1.6235, 0.4441, 1.3663, 1.0321, 1.0533, 0.6771, 0.76, 0.9663, 0.3471, 0.7621, 1.1072, 0.0575, -0.6677, 0.5712, -0.3516, 0.7341, -0.601, 0.0428, 0.8643, 0.0178, -0.4477, -1.0423]}, \"token.table\": {\"Topic\": [1, 4, 5, 1, 5, 1, 3, 5, 1, 2, 1, 2, 1, 4, 1, 2, 1, 2, 1, 1, 2, 5, 1, 5, 1, 4, 1, 3, 1, 2, 3, 4, 5, 1, 2, 3, 4, 5, 1, 2, 3, 1, 2, 3, 4, 5, 1, 2, 3, 5, 1, 1, 2, 1, 2, 1, 2, 1, 4, 1, 3, 4, 5, 1, 2, 1, 2, 5, 1, 5, 1, 2, 1, 5, 1, 3, 4, 1, 2, 5, 1, 1, 2, 3, 4, 5, 1, 2, 3, 4, 5, 1, 5, 1, 3, 4, 5, 1, 5, 1, 2, 3, 1, 4, 1, 2, 3, 5, 1, 2, 1, 2, 1, 2, 3, 1, 4, 1, 5, 1, 4, 1, 3, 1, 5, 1, 2, 1, 5, 1, 1, 4, 1, 2, 1, 2, 4, 1, 2, 1, 4, 1, 4, 5, 1, 2, 5, 1, 3, 4, 5, 1, 3, 1, 3, 4, 5, 1, 5, 1, 2, 4, 5, 1, 2, 3, 4, 5, 1, 4, 1, 4, 1, 2, 3, 4, 5, 1, 5, 1, 2, 3, 5, 1, 3, 1, 1, 3, 4, 5, 1, 5, 1, 2, 4, 5, 1, 2, 3, 1, 3, 1, 4, 5, 1, 1, 2, 3, 5, 1, 3, 4, 5, 1, 2, 3, 4, 5, 1, 2, 3, 4, 5, 1, 4, 1, 2, 3, 4, 5, 1, 2, 1, 1, 2, 4, 5, 1, 2, 3, 5, 1, 4, 5, 1, 3, 1, 2, 3, 5, 1, 3, 1, 3, 1, 2, 5, 1, 2, 3, 5, 1, 4, 1, 2, 3, 4, 5, 1, 5, 1, 2, 3, 1, 3, 1, 5, 1, 5, 1, 5, 1, 1, 1, 2, 3, 1, 4, 5, 1, 3, 5, 1, 3, 1, 5, 1, 5, 1, 4, 5, 1, 3, 5, 1, 4, 1, 3, 4, 5, 1, 5, 1, 4, 1, 5, 1, 4, 5, 1, 3, 1, 5, 1, 3, 4, 1, 2, 3, 4, 5, 1, 4, 5, 1, 3, 4, 5, 1, 3, 1, 4, 5, 1, 5, 1, 3, 1, 2, 3, 5, 1, 2, 1, 2, 4, 5, 1, 3, 5, 1, 2, 3, 4, 5, 1, 2, 3, 4, 5, 1, 2, 4, 1, 1, 2, 5, 1, 3, 1, 3, 4, 1, 1, 1, 3, 1, 3, 5, 1, 3, 4, 5, 1, 2, 3, 4, 1, 2, 3, 4, 5, 1, 3, 4, 5, 1, 4, 1, 3, 5, 1, 3, 1, 4, 1, 4, 1, 4, 5, 1, 2, 3, 4, 5, 1, 4, 1, 4, 1, 2, 1, 3, 5, 1, 2, 3, 5, 1, 2, 1, 2, 3, 4, 5, 1, 2, 1, 2, 5, 1, 4, 1, 4, 1, 3, 1, 2, 3, 1, 2, 1, 2, 4, 1, 4, 1, 3, 4, 5, 1, 3, 4, 1, 3, 1, 2, 4, 1, 4, 1, 1, 2, 3, 1, 1, 2, 4, 5, 1, 2, 3, 5, 1, 3, 4, 1, 4, 1, 2, 3, 4, 5, 1, 2, 3, 1, 2, 3, 4, 5, 1, 1, 2, 5, 1, 2, 1, 3, 4, 5, 1, 2, 3, 4, 5, 1, 2, 4, 5, 1, 4, 5, 1, 4, 5, 1, 3, 5, 1, 2, 3, 5, 1, 3, 1, 4, 1, 3, 5, 1, 3, 5, 1, 2, 1, 2, 4, 5, 1, 2, 3, 4, 5, 1, 3, 1, 3, 1, 4, 1, 2, 3, 4, 5, 1, 2, 1, 2, 1, 2, 3, 4, 5, 1, 4, 1, 5, 1, 3, 1, 5, 1, 2, 3, 5, 1, 2, 3, 5, 1, 3, 1, 1, 2, 1, 3, 5, 1, 2, 3, 4, 5, 1, 2, 5, 1, 1, 1, 4, 1, 2, 1, 3, 1, 3, 1, 4, 1, 4, 1, 5, 1, 5, 1, 5, 1, 3, 5, 1, 2, 3, 4, 5, 1, 1, 2, 5, 1, 1, 2, 1, 2, 1, 2, 5, 1, 5, 1, 3, 1, 3, 5, 1, 3, 5, 1, 2, 1, 3, 5], \"Freq\": [0.08626612542622258, 0.17253225085244517, 0.6901290034097807, 0.1060910867518902, 0.8487286940151216, 0.7547988630489328, 0.1191787678498315, 0.09931563987485958, 0.19635761197612814, 0.5890728359283844, 0.2057065308456095, 0.6171195925368285, 0.967656340008066, 0.013823662000115228, 0.1347807133542121, 0.8086842801252727, 0.17556749566669577, 0.7022699826667831, 0.9751452049199613, 0.9776994932101115, 0.007033809303669867, 0.014067618607339735, 0.1288783976353057, 0.7732703858118343, 0.9659797123930198, 0.016947012498123155, 0.142188588998456, 0.71094294499228, 0.8696719843171082, 0.03894053661121381, 0.0064900894352023005, 0.0064900894352023005, 0.07788107322242761, 0.042850924891869105, 0.042850924891869105, 0.4285092489186911, 0.25710554935121466, 0.21425462445934554, 0.12610053867914195, 0.6305026933957097, 0.2522010773582839, 0.7171334492453123, 0.1521192165065814, 0.021731316643797342, 0.043462633287594685, 0.08692526657518937, 0.4891675685505405, 0.03494054061075289, 0.13976216244301157, 0.3494054061075289, 0.981175242025695, 0.18462316193161907, 0.7384926477264763, 0.16554251604122772, 0.6621700641649109, 0.19904968240060972, 0.5971490472018292, 0.17719663105131708, 0.7087865242052683, 0.05750543677480986, 0.11501087354961972, 0.05750543677480986, 0.7475706780725282, 0.15539896183208274, 0.7769948091604137, 0.10330589175689528, 0.4132235670275811, 0.4132235670275811, 0.1074853878289313, 0.8598831026314504, 0.20388587968273955, 0.6116576390482187, 0.13284918682443278, 0.7970951209465966, 0.11029951241964865, 0.2205990248392973, 0.5514975620982433, 0.12580058988190398, 0.5032023595276159, 0.25160117976380797, 0.9820726559506314, 0.6798403716513194, 0.1315820074163844, 0.0438606691387948, 0.0438606691387948, 0.109651672846987, 0.0469919762191299, 0.1409759286573897, 0.0939839524382598, 0.0469919762191299, 0.7048796432869484, 0.09755823646727342, 0.8780241282054608, 0.09843739216038218, 0.09843739216038218, 0.49218696080191093, 0.29531217648114655, 0.11016694747276654, 0.7711686323093657, 0.12043898166546499, 0.12043898166546499, 0.72263388999279, 0.21134063829246752, 0.6340219148774026, 0.9543847654433322, 0.007574482265423271, 0.007574482265423271, 0.030297929061693082, 0.08513687058564999, 0.8513687058564999, 0.1599725802928621, 0.6398903211714484, 0.07843933420795286, 0.15687866841590573, 0.7059540078715757, 0.2051617231207165, 0.6154851693621496, 0.11049502485821901, 0.7734651740075331, 0.1781641803388291, 0.7126567213553164, 0.15900781411026413, 0.7950390705513206, 0.14055885000855028, 0.7027942500427514, 0.19028418602837952, 0.7611367441135181, 0.05906507320521309, 0.8859760980781964, 0.9817632204486885, 0.14191000427229342, 0.709550021361467, 0.1948577982432521, 0.5845733947297563, 0.10294739356164163, 0.5147369678082081, 0.3088421806849249, 0.18760861142431787, 0.7504344456972715, 0.19221508509912766, 0.7688603403965106, 0.08193380679050251, 0.16386761358100502, 0.7374042611145225, 0.0852391733149276, 0.0852391733149276, 0.7671525598343484, 0.08883529007263334, 0.08883529007263334, 0.08883529007263334, 0.7995176106537, 0.1809798453054758, 0.7239193812219032, 0.7829109002640465, 0.028996700009779504, 0.014498350004889752, 0.1449835000488975, 0.13977977883179127, 0.8386786729907477, 0.058628099622444585, 0.4690247969795567, 0.17588429886733375, 0.3517685977346675, 0.9133381336643787, 0.026095375247553676, 0.026095375247553676, 0.019571531435665257, 0.019571531435665257, 0.19740541801255726, 0.5922162540376718, 0.18085073123382361, 0.7234029249352945, 0.5541827937565672, 0.03463642460978545, 0.08659106152446364, 0.05195463691467818, 0.2770913968782836, 0.1358343106389349, 0.8150058638336094, 0.9682330331110856, 0.005150175708037689, 0.010300351416075378, 0.015450527124113067, 0.18183534546876062, 0.7273413818750425, 0.9695963246966065, 0.766620893700078, 0.05785818065660966, 0.014464545164152414, 0.14464545164152415, 0.9795766514743757, 0.016326277524572927, 0.6340475641104939, 0.22378149321546845, 0.11189074660773422, 0.037296915535911405, 0.560947743463037, 0.08857069633626899, 0.324759219899653, 0.16023260897946254, 0.6409304359178501, 0.6657233851138125, 0.22190779503793748, 0.088763118015175, 0.9801086474460927, 0.07957332601156977, 0.23871997803470932, 0.47743995606941864, 0.15914665202313955, 0.0532216158623992, 0.0532216158623992, 0.1596648475871976, 0.6918810062111896, 0.09801487247713309, 0.39205948990853234, 0.09801487247713309, 0.19602974495426617, 0.19602974495426617, 0.059627210786315894, 0.059627210786315894, 0.1788816323589477, 0.2981360539315795, 0.47701768629052715, 0.1820213085248967, 0.7280852340995868, 0.817076813455783, 0.02308126591683003, 0.06924379775049008, 0.01846501273346402, 0.07386005093385609, 0.18052784360973073, 0.7221113744389229, 0.9646047195195067, 0.29843049486274403, 0.11937219794509762, 0.29843049486274403, 0.29843049486274403, 0.04630368854384642, 0.13891106563153927, 0.13891106563153927, 0.6945553281576964, 0.07197704141160371, 0.07197704141160371, 0.8637244969392446, 0.14276543236448352, 0.7138271618224176, 0.9562369085204319, 0.005433164252957, 0.010866328505914, 0.027165821264784996, 0.16635800405704565, 0.6654320162281826, 0.1844768577550731, 0.7379074310202924, 0.9530800174931706, 0.0321262927244889, 0.0107087642414963, 0.7677812482618441, 0.015830541201275136, 0.11872905900956351, 0.10289851780828839, 0.1820213085248967, 0.7280852340995868, 0.865303054373222, 0.027325359611785956, 0.009108453203928652, 0.027325359611785956, 0.07286762563142922, 0.9782864085561233, 0.01881320016454083, 0.11061274760421105, 0.5530637380210554, 0.3318382428126332, 0.14995313369862587, 0.7497656684931293, 0.12704518349192767, 0.7622711009515659, 0.14218497452145565, 0.7109248726072782, 0.13298042615107059, 0.7978825569064235, 0.9824500951008558, 0.987231684006557, 0.05230242773540209, 0.10460485547080418, 0.7845364160310314, 0.09253784521918369, 0.46268922609591845, 0.37015138087673477, 0.1348479328631768, 0.6742396643158841, 0.1348479328631768, 0.1474772116683043, 0.7373860583415214, 0.07665507114420562, 0.8432057825862619, 0.12400793422778601, 0.744047605366716, 0.07541973088527695, 0.5279381161969386, 0.3016789235411078, 0.06164797301737973, 0.12329594603475946, 0.7397756762085568, 0.18594212720940234, 0.7437685088376094, 0.6424820570422749, 0.029203729865557953, 0.029203729865557953, 0.29203729865557954, 0.10184375027095689, 0.8147500021676551, 0.18650243347536122, 0.7460097339014449, 0.13885970044644685, 0.8331582026786811, 0.6718899142650474, 0.023996068366608836, 0.31194888876591487, 0.1508194357442256, 0.754097178721128, 0.12727078607236483, 0.763624716434189, 0.10387058387792118, 0.20774116775584237, 0.6232235032675272, 0.6912461145887261, 0.011520768576478768, 0.05760384288239384, 0.09216614861183015, 0.149769991494224, 0.06294934835297644, 0.12589869670595288, 0.8183415285886937, 0.0821493586147688, 0.3285974344590752, 0.410746793073844, 0.1642987172295376, 0.9885382233935291, 0.009985234579732619, 0.09577320390672538, 0.5746392234403522, 0.2873196117201761, 0.13586288546651143, 0.8151773127990686, 0.18530689658376306, 0.7412275863350523, 0.7946861423708236, 0.07791040611478663, 0.0623283248918293, 0.0623283248918293, 0.19455197383693737, 0.5836559215108121, 0.953911350362721, 0.009936576566278343, 0.019873153132556685, 0.019873153132556685, 0.8932296702195868, 0.008932296702195867, 0.08932296702195867, 0.05884081604184735, 0.1176816320836947, 0.1176816320836947, 0.17652244812554205, 0.5884081604184734, 0.6265967999171753, 0.03196922448557017, 0.06393844897114034, 0.04475691427979824, 0.2237845713989912, 0.09874862182603028, 0.7899889746082422, 0.09874862182603028, 0.9889645575962017, 0.08942195330663437, 0.17884390661326874, 0.715375626453075, 0.18547588033709816, 0.7419035213483927, 0.133201285727954, 0.66600642863977, 0.133201285727954, 0.9815269807141394, 0.9761584180112162, 0.9716327448952727, 0.012299148669560415, 0.09151094507537316, 0.09151094507537316, 0.8235985056783585, 0.9007876515764, 0.008418576182957008, 0.016837152365914015, 0.06734860946365606, 0.12061495363336229, 0.6030747681668115, 0.12061495363336229, 0.24122990726672458, 0.9539268596349393, 0.005578519646987949, 0.011157039293975898, 0.005578519646987949, 0.027892598234939746, 0.07822909518862989, 0.07822909518862989, 0.4693745711317794, 0.31291638075451955, 0.07904630507099254, 0.869509355780918, 0.11820193610376956, 0.7092116166226173, 0.11820193610376956, 0.18153684853987237, 0.7261473941594895, 0.16333356716862538, 0.6533342686745015, 0.11427845429165369, 0.7999491800415759, 0.6099170381922752, 0.07955439628594893, 0.3182175851437957, 0.8957763541006579, 0.007109336143656016, 0.007109336143656016, 0.02132800843096805, 0.06398402529290415, 0.1597443406870485, 0.7987217034352425, 0.19720781787431416, 0.5916234536229426, 0.1521466771874982, 0.760733385937491, 0.1027881035321733, 0.1027881035321733, 0.7195167247252131, 0.5376806166495599, 0.014531908558096213, 0.2325105369295394, 0.20344671981334697, 0.17558397325411695, 0.7023358930164678, 0.7236276957143661, 0.0344584617006841, 0.1722923085034205, 0.01722923085034205, 0.05168769255102615, 0.12360809479689812, 0.7416485687813887, 0.09414390581822195, 0.09414390581822195, 0.7531512465457756, 0.19056025805984955, 0.7622410322393982, 0.15213358705821406, 0.7606679352910702, 0.16464908614557808, 0.6585963445823123, 0.7523556572856439, 0.05188659705418234, 0.18160308968963818, 0.11631625700373731, 0.8142137990261611, 0.08482123427720795, 0.25446370283162384, 0.5937486399404556, 0.16647285149553492, 0.6658914059821397, 0.10377035504602458, 0.6226221302761475, 0.20754071009204916, 0.10377035504602458, 0.08923834811413052, 0.6246684367989136, 0.2677150443423916, 0.09941074409758713, 0.795285952780697, 0.06531074845019424, 0.1306214969003885, 0.7837289814023309, 0.15385629094378517, 0.7692814547189258, 0.9877106639032813, 0.1265872888919635, 0.506349155567854, 0.253174577783927, 0.97985691811862, 0.0778741106146078, 0.3893705530730391, 0.1557482212292156, 0.3114964424584312, 0.4198630306258338, 0.14995108236636923, 0.029990216473273844, 0.4198630306258338, 0.10127564867322485, 0.607653892039349, 0.2025512973464497, 0.12227389731832784, 0.7336433839099671, 0.05775723899944945, 0.05775723899944945, 0.1155144779988989, 0.40430067299614614, 0.40430067299614614, 0.9763231915496409, 0.01109458172215501, 0.01109458172215501, 0.36157410053973504, 0.04519676256746688, 0.04519676256746688, 0.13559028770240064, 0.4519676256746688, 0.9875586152307884, 0.5011593767394468, 0.03341062511596312, 0.4009275013915575, 0.1945061889782737, 0.5835185669348211, 0.6898453469461174, 0.07839151669842244, 0.1254264267174759, 0.10974812337779141, 0.894980408416716, 0.020225545952920136, 0.030338318929380204, 0.005056386488230034, 0.05056386488230034, 0.12603063642245915, 0.5041225456898366, 0.12603063642245915, 0.12603063642245915, 0.0955346751035602, 0.477673375517801, 0.3821387004142408, 0.05696115199118695, 0.17088345597356083, 0.7404949758854303, 0.13276409160399708, 0.6638204580199855, 0.13276409160399708, 0.6907808744757986, 0.047098695986986266, 0.1412960879609588, 0.10989695730296796, 0.12383552299297632, 0.7430131379578578, 0.1333732355040644, 0.8002394130243864, 0.14789492750701344, 0.5915797100280538, 0.14789492750701344, 0.12257626645804584, 0.6128813322902292, 0.24515253291609168, 0.1878091761460953, 0.7512367045843812, 0.06988182640578079, 0.34940913202890395, 0.13976365281156158, 0.4891727848404655, 0.029063644948816865, 0.05812728989763373, 0.029063644948816865, 0.20344551464171806, 0.668463833822788, 0.1461073062827699, 0.7305365314138496, 0.1930994943683655, 0.5792984831050965, 0.19522826675628027, 0.5856848002688408, 0.906955695960556, 0.017959518731892197, 0.017959518731892197, 0.008979759365946098, 0.0448987968297305, 0.18862314211514078, 0.7544925684605631, 0.12850703022102192, 0.7710421813261314, 0.4077375358089424, 0.03397812798407854, 0.1019343839522356, 0.06795625596815708, 0.3737594078248639, 0.1585148366020179, 0.7925741830100895, 0.13604918758294945, 0.8162951254976968, 0.11683003825030323, 0.8178102677521226, 0.11598655167468692, 0.8119058617228084, 0.6026021198553291, 0.023177004609820348, 0.11588502304910174, 0.2549470507080238, 0.9666971431901908, 0.005169503439519737, 0.005169503439519737, 0.02067801375807895, 0.19087930188870764, 0.7635172075548305, 0.9940985815568416, 0.15593496152560654, 0.6237398461024262, 0.09286484827589948, 0.4643242413794974, 0.37145939310359793, 0.06926617770866592, 0.20779853312599775, 0.06926617770866592, 0.3463308885433296, 0.3463308885433296, 0.9324177825361771, 0.009814924026696602, 0.04907462013348301, 0.9884198097149355, 0.9691594143655226, 0.1683038166980592, 0.6732152667922368, 0.1812789507622809, 0.7251158030491236, 0.19201072488787277, 0.5760321746636182, 0.15116220767040928, 0.7558110383520464, 0.18191029196020145, 0.7276411678408058, 0.17286106944289653, 0.6914442777715861, 0.08839822277428581, 0.8839822277428582, 0.1380487177671377, 0.8282923066028263, 0.08256415371465274, 0.9082056908611802, 0.9709823766425983, 0.01109694144734398, 0.01664541217101597, 0.9216752881366379, 0.0097018451382804, 0.014552767707420599, 0.014552767707420599, 0.0436583031222618, 0.9825941853214698, 0.9566394279794289, 0.01226460805101832, 0.02452921610203664, 0.9843150783800211, 0.20996637615767832, 0.629899128473035, 0.18402677042559754, 0.7361070817023901, 0.15478553679399357, 0.6191421471759743, 0.15478553679399357, 0.09213425822178398, 0.8292083239960558, 0.11691324823198143, 0.8183927376238701, 0.8283465946637485, 0.12271801402425904, 0.04601925525909714, 0.9741622952431334, 0.009550610737677778, 0.009550610737677778, 0.20695658702613284, 0.6208697610783985, 0.2980605029400496, 0.5961210058800992, 0.0745151257350124], \"Term\": [\"1/2\", \"1/2\", \"1/2\", \"allow\", \"allow\", \"although\", \"although\", \"although\", \"and/or\", \"and/or\", \"annoying\", \"annoying\", \"another\", \"another\", \"answer\", \"answer\", \"approach\", \"approach\", \"arrive\", \"ask\", \"ask\", \"ask\", \"authentic\", \"authentic\", \"bad\", \"bad\", \"band\", \"band\", \"bar\", \"bar\", \"bar\", \"bar\", \"bar\", \"bartender\", \"bartender\", \"bartender\", \"bartender\", \"bartender\", \"beautiful\", \"beautiful\", \"beautiful\", \"best\", \"best\", \"best\", \"best\", \"best\", \"big\", \"big\", \"big\", \"big\", \"bill\", \"bowl\", \"bowl\", \"boy\", \"boy\", \"bright\", \"bright\", \"broth\", \"broth\", \"burger\", \"burger\", \"burger\", \"burger\", \"bus\", \"bus\", \"cafe\", \"cafe\", \"cafe\", \"cake\", \"cake\", \"calling\", \"calling\", \"card\", \"card\", \"casual\", \"casual\", \"casual\", \"chat\", \"chat\", \"chat\", \"check\", \"chef\", \"chef\", \"chef\", \"chef\", \"chef\", \"chicken\", \"chicken\", \"chicken\", \"chicken\", \"chicken\", \"chips\", \"chips\", \"chocolate\", \"chocolate\", \"chocolate\", \"chocolate\", \"chop\", \"chop\", \"city\", \"city\", \"city\", \"colored\", \"colored\", \"come\", \"come\", \"come\", \"come\", \"coming\", \"coming\", \"compare\", \"compare\", \"complain\", \"complain\", \"complain\", \"complement\", \"complement\", \"complimentary\", \"complimentary\", \"concern\", \"concern\", \"consistently\", \"consistently\", \"constantly\", \"constantly\", \"continue\", \"continue\", \"cool\", \"cool\", \"could\", \"cozy\", \"cozy\", \"cram\", \"cram\", \"cup\", \"cup\", \"cup\", \"dancing\", \"dancing\", \"dark\", \"dark\", \"deliver\", \"deliver\", \"deliver\", \"delivery\", \"delivery\", \"delivery\", \"describe\", \"describe\", \"describe\", \"describe\", \"description\", \"description\", \"dessert\", \"dessert\", \"dessert\", \"dessert\", \"detail\", \"detail\", \"different\", \"different\", \"different\", \"different\", \"dinner\", \"dinner\", \"dinner\", \"dinner\", \"dinner\", \"dip\", \"dip\", \"discount\", \"discount\", \"dish\", \"dish\", \"dish\", \"dish\", \"dish\", \"diverse\", \"diverse\", \"drink\", \"drink\", \"drink\", \"drink\", \"drunk\", \"drunk\", \"empty\", \"entree\", \"entree\", \"entree\", \"entree\", \"even\", \"even\", \"everything\", \"everything\", \"everything\", \"everything\", \"expect\", \"expect\", \"expect\", \"face\", \"face\", \"feel\", \"feel\", \"feel\", \"finally\", \"fine\", \"fine\", \"fine\", \"fine\", \"fish\", \"fish\", \"fish\", \"fish\", \"fix\", \"fix\", \"fix\", \"fix\", \"fix\", \"flavor\", \"flavor\", \"flavor\", \"flavor\", \"flavor\", \"foie\", \"foie\", \"food\", \"food\", \"food\", \"food\", \"food\", \"force\", \"force\", \"forget\", \"french\", \"french\", \"french\", \"french\", \"fresh\", \"fresh\", \"fresh\", \"fresh\", \"fries\", \"fries\", \"fries\", \"generous\", \"generous\", \"get\", \"get\", \"get\", \"get\", \"girlfriend\", \"girlfriend\", \"giving\", \"giving\", \"go\", \"go\", \"go\", \"good\", \"good\", \"good\", \"good\", \"gras\", \"gras\", \"great\", \"great\", \"great\", \"great\", \"great\", \"half\", \"half\", \"helpful\", \"helpful\", \"helpful\", \"higher\", \"higher\", \"hit\", \"hit\", \"hope\", \"hope\", \"horrendous\", \"horrendous\", \"hostess\", \"hour\", \"hours\", \"hours\", \"hours\", \"house\", \"house\", \"house\", \"hungry\", \"hungry\", \"hungry\", \"husband\", \"husband\", \"ice\", \"ice\", \"impressive\", \"impressive\", \"inform\", \"inform\", \"inform\", \"ingredient\", \"ingredient\", \"ingredient\", \"intimate\", \"intimate\", \"item\", \"item\", \"item\", \"item\", \"japanese\", \"japanese\", \"joke\", \"joke\", \"korean\", \"korean\", \"large\", \"large\", \"large\", \"learn\", \"learn\", \"leaving\", \"leaving\", \"light\", \"light\", \"light\", \"like\", \"like\", \"like\", \"like\", \"like\", \"limited\", \"limited\", \"limited\", \"live\", \"live\", \"live\", \"live\", \"long\", \"long\", \"lovely\", \"lovely\", \"lovely\", \"lower\", \"lower\", \"lucky\", \"lucky\", \"lunch\", \"lunch\", \"lunch\", \"lunch\", \"maitre\", \"maitre\", \"manager\", \"manager\", \"manager\", \"manager\", \"meal\", \"meal\", \"meal\", \"meat\", \"meat\", \"meat\", \"meat\", \"meat\", \"menu\", \"menu\", \"menu\", \"menu\", \"menu\", \"middle\", \"middle\", \"middle\", \"minutes\", \"miss\", \"miss\", \"miss\", \"mojitos\", \"mojitos\", \"month\", \"month\", \"month\", \"never\", \"next\", \"night\", \"night\", \"notice\", \"notice\", \"notice\", \"one\", \"one\", \"one\", \"one\", \"option\", \"option\", \"option\", \"option\", \"order\", \"order\", \"order\", \"order\", \"order\", \"outside\", \"outside\", \"outside\", \"outside\", \"overall\", \"overall\", \"pancake\", \"pancake\", \"pancake\", \"perfectly\", \"perfectly\", \"phone\", \"phone\", \"pick\", \"pick\", \"pizza\", \"pizza\", \"pizza\", \"place\", \"place\", \"place\", \"place\", \"place\", \"play\", \"play\", \"pleasent\", \"pleasent\", \"plus\", \"plus\", \"pork\", \"pork\", \"pork\", \"portion\", \"portion\", \"portion\", \"portion\", \"possible\", \"possible\", \"price\", \"price\", \"price\", \"price\", \"price\", \"pricey\", \"pricey\", \"probably\", \"probably\", \"probably\", \"properly\", \"properly\", \"pushing\", \"pushing\", \"pushy\", \"pushy\", \"quality\", \"quality\", \"quality\", \"question\", \"question\", \"quick\", \"quick\", \"quick\", \"random\", \"random\", \"range\", \"range\", \"range\", \"range\", \"rather\", \"rather\", \"rather\", \"reasonable\", \"reasonable\", \"red\", \"red\", \"red\", \"reflect\", \"reflect\", \"reservation\", \"reserve\", \"reserve\", \"reserve\", \"rude\", \"run\", \"run\", \"run\", \"run\", \"salad\", \"salad\", \"salad\", \"salad\", \"sandwich\", \"sandwich\", \"sandwich\", \"sangria\", \"sangria\", \"sauce\", \"sauce\", \"sauce\", \"sauce\", \"sauce\", \"say\", \"say\", \"say\", \"scene\", \"scene\", \"scene\", \"scene\", \"scene\", \"seat\", \"selection\", \"selection\", \"selection\", \"sell\", \"sell\", \"serve\", \"serve\", \"serve\", \"serve\", \"service\", \"service\", \"service\", \"service\", \"service\", \"set\", \"set\", \"set\", \"set\", \"setting\", \"setting\", \"setting\", \"share\", \"share\", \"share\", \"slightly\", \"slightly\", \"slightly\", \"small\", \"small\", \"small\", \"small\", \"smaller\", \"smaller\", \"smile\", \"smile\", \"smoke\", \"smoke\", \"smoke\", \"soon\", \"soon\", \"soon\", \"sorry\", \"sorry\", \"soup\", \"soup\", \"soup\", \"soup\", \"special\", \"special\", \"special\", \"special\", \"special\", \"spending\", \"spending\", \"split\", \"split\", \"spotty\", \"spotty\", \"staff\", \"staff\", \"staff\", \"staff\", \"staff\", \"state\", \"state\", \"stay\", \"stay\", \"steak\", \"steak\", \"steak\", \"steak\", \"steak\", \"suggestion\", \"suggestion\", \"suit\", \"suit\", \"sunday\", \"sunday\", \"surprisingly\", \"surprisingly\", \"sushi\", \"sushi\", \"sushi\", \"sushi\", \"table\", \"table\", \"table\", \"table\", \"tag\", \"tag\", \"take\", \"talk\", \"talk\", \"tap\", \"tap\", \"tap\", \"tasty\", \"tasty\", \"tasty\", \"tasty\", \"tasty\", \"tell\", \"tell\", \"tell\", \"time\", \"times\", \"toast\", \"toast\", \"totally\", \"totally\", \"towards\", \"towards\", \"tray\", \"tray\", \"trip\", \"trip\", \"uncomfortable\", \"uncomfortable\", \"unless\", \"unless\", \"upscale\", \"upscale\", \"vegetarian\", \"vegetarian\", \"wait\", \"wait\", \"wait\", \"waiter\", \"waiter\", \"waiter\", \"waiter\", \"waiter\", \"waiting\", \"waitress\", \"waitress\", \"waitress\", \"water\", \"welcome\", \"welcome\", \"whisk\", \"whisk\", \"windows\", \"windows\", \"windows\", \"wonderful\", \"wonderful\", \"worse\", \"worse\", \"worth\", \"worth\", \"worth\", \"would\", \"would\", \"would\", \"year\", \"year\", \"years\", \"years\", \"years\"]}, \"R\": 30, \"lambda.step\": 0.01, \"plot.opts\": {\"xlab\": \"PC1\", \"ylab\": \"PC2\"}, \"topic.order\": [1, 2, 3, 4, 5]};\n",
       "\n",
       "function LDAvis_load_lib(url, callback){\n",
       "  var s = document.createElement('script');\n",
       "  s.src = url;\n",
       "  s.async = true;\n",
       "  s.onreadystatechange = s.onload = callback;\n",
       "  s.onerror = function(){console.warn(\"failed to load library \" + url);};\n",
       "  document.getElementsByTagName(\"head\")[0].appendChild(s);\n",
       "}\n",
       "\n",
       "if(typeof(LDAvis) !== \"undefined\"){\n",
       "   // already loaded: just create the visualization\n",
       "   !function(LDAvis){\n",
       "       new LDAvis(\"#\" + \"ldavis_el32401798628467088505744604\", ldavis_el32401798628467088505744604_data);\n",
       "   }(LDAvis);\n",
       "}else if(typeof define === \"function\" && define.amd){\n",
       "   // require.js is available: use it to load d3/LDAvis\n",
       "   require.config({paths: {d3: \"https://d3js.org/d3.v5\"}});\n",
       "   require([\"d3\"], function(d3){\n",
       "      window.d3 = d3;\n",
       "      LDAvis_load_lib(\"https://cdn.jsdelivr.net/gh/bmabey/pyLDAvis@3.3.1/pyLDAvis/js/ldavis.v3.0.0.js\", function(){\n",
       "        new LDAvis(\"#\" + \"ldavis_el32401798628467088505744604\", ldavis_el32401798628467088505744604_data);\n",
       "      });\n",
       "    });\n",
       "}else{\n",
       "    // require.js not available: dynamically load d3 & LDAvis\n",
       "    LDAvis_load_lib(\"https://d3js.org/d3.v5.js\", function(){\n",
       "         LDAvis_load_lib(\"https://cdn.jsdelivr.net/gh/bmabey/pyLDAvis@3.3.1/pyLDAvis/js/ldavis.v3.0.0.js\", function(){\n",
       "                 new LDAvis(\"#\" + \"ldavis_el32401798628467088505744604\", ldavis_el32401798628467088505744604_data);\n",
       "            })\n",
       "         });\n",
       "}\n",
       "</script>"
      ],
      "text/plain": [
       "<IPython.core.display.HTML object>"
      ]
     },
     "execution_count": 61,
     "metadata": {},
     "output_type": "execute_result"
    }
   ],
   "source": [
    "#START HERE IF YOU AREN'T TRAINING A NEW MODEL\n",
    "#select which word representations you want to use ('bow' or 'tfidf')\n",
    "REPRESENTATION = 'tfidf'\n",
    "\n",
    "corpus = pickle.load(open('corpus.pkl', 'rb'))\n",
    "\n",
    "if REPRESENTATION == 'tfidf':\n",
    "    lda = gensim.models.ldamodel.LdaModel.load('model5_tfidf.gensim')\n",
    "else:\n",
    "    lda = gensim.models.ldamodel.LdaModel.load('model5.gensim')\n",
    "\n",
    "lda_display = pyLDAvis.gensim_models.prepare(lda, corpus, dictionary, sort_topics = False)\n",
    "pyLDAvis.display(lda_display)"
   ]
  },
  {
   "cell_type": "markdown",
   "id": "behavioral-thesis",
   "metadata": {},
   "source": [
    "## Apply Topic Model to Training Set:"
   ]
  },
  {
   "cell_type": "code",
   "execution_count": 119,
   "id": "monthly-edwards",
   "metadata": {},
   "outputs": [],
   "source": [
    "#numerical mapping for topics in LDA model\n",
    "\n",
    "if REPRESENTATION == 'tfidf':\n",
    "    topic_map = {0: 'service', 1: 'place', 2: 'price', 3: 'miscellaneous', 4: 'food'}\n",
    "else:\n",
    "    topic_map = {0: 'food', 1: 'price', 2: 'service', 3: 'miscellaneous', 4: 'place'}"
   ]
  },
  {
   "cell_type": "markdown",
   "id": "respiratory-curve",
   "metadata": {},
   "source": [
    "### Note to Self:\n",
    "using the last topic map ({0: 'food', ...}) with the TF-IDF representation results in ~53% accuracy. But these topics don't really make much sense when you look at it in pyLDAvis..."
   ]
  },
  {
   "cell_type": "code",
   "execution_count": 120,
   "id": "starting-rehabilitation",
   "metadata": {},
   "outputs": [
    {
     "name": "stdout",
     "output_type": "stream",
     "text": [
      "[(0, 0.5710142), (1, 0.3825823), (2, 0.0154712815), (3, 0.015467983), (4, 0.015464184)] \n",
      " [(0, 0.6252814), (1, 0.1325306), (2, 0.018539144), (3, 0.018212263), (4, 0.20543666)] \n",
      " [(0, 0.692158), (1, 0.022396566), (2, 0.022440638), (3, 0.022674631), (4, 0.24033016)]\n"
     ]
    }
   ],
   "source": [
    "#print topic probabilities for a select few documents\n",
    "#note sum of all probabilities is 1 for each document\n",
    "\n",
    "doc_topics = [lda.get_document_topics(doc) for doc in corpus]\n",
    "print(doc_topics[0], '\\n', doc_topics[30], '\\n', doc_topics[777])"
   ]
  },
  {
   "cell_type": "code",
   "execution_count": 121,
   "id": "apart-testimony",
   "metadata": {
    "scrolled": true
   },
   "outputs": [
    {
     "data": {
      "text/plain": [
       "{'service': 0.5710142,\n",
       " 'place': 0.3825823,\n",
       " 'price': 0.0154712815,\n",
       " 'miscellaneous': 0.015467983,\n",
       " 'food': 0.015464184}"
      ]
     },
     "execution_count": 121,
     "metadata": {},
     "output_type": "execute_result"
    }
   ],
   "source": [
    "#map topic numbers to topics\n",
    "A = {topic_map[x[0]]:x[-1] for x in doc_topics[0]}\n",
    "A"
   ]
  },
  {
   "cell_type": "code",
   "execution_count": 122,
   "id": "phantom-estate",
   "metadata": {},
   "outputs": [
    {
     "data": {
      "text/plain": [
       "{'service': 0.5710142, 'place': 0.3825823}"
      ]
     },
     "execution_count": 122,
     "metadata": {},
     "output_type": "execute_result"
    }
   ],
   "source": [
    "#get the 2 strongest topics for document A\n",
    "newA = dict(sorted(A.items(), key = itemgetter(1), reverse = True)[:2])\n",
    "newA"
   ]
  },
  {
   "cell_type": "code",
   "execution_count": 123,
   "id": "dynamic-storage",
   "metadata": {},
   "outputs": [],
   "source": [
    "def get_strong_topics(document, topic_map, topic_threshold):\n",
    "    \"\"\"Gets all the topics with probabilities greater than a threshold probability. If only 1 topic has a probability greater than the\n",
    "    threshold, get the top 2 most probable topics.\n",
    "    Returns dictionary of strongest topics.\"\"\"\n",
    "    \n",
    "    topic_dict = {topic_map[topic[0]]: topic[1] for topic in document}\n",
    "    output = {k:v for k,v in topic_dict.items() if v > topic_threshold}\n",
    "    \n",
    "    if len(output) == 1:\n",
    "        output = dict(sorted(topic_dict.items(), key = itemgetter(1), reverse = True)[0:2])\n",
    "    \n",
    "    return output        "
   ]
  },
  {
   "cell_type": "code",
   "execution_count": 124,
   "id": "instant-electron",
   "metadata": {},
   "outputs": [
    {
     "data": {
      "text/plain": [
       "{'service': 0.5710142, 'place': 0.3825823}"
      ]
     },
     "execution_count": 124,
     "metadata": {},
     "output_type": "execute_result"
    }
   ],
   "source": [
    "get_strong_topics(document = doc_topics[0], topic_map = topic_map, topic_threshold = 0.1)"
   ]
  },
  {
   "cell_type": "code",
   "execution_count": 125,
   "id": "infinite-mission",
   "metadata": {},
   "outputs": [
    {
     "data": {
      "text/plain": [
       "([{'service': 0.5710142, 'place': 0.3825823},\n",
       "  {'service': 0.89993966, 'price': 0.025021873},\n",
       "  {'service': 0.9382794, 'place': 0.015483668}],\n",
       " 3148)"
      ]
     },
     "execution_count": 125,
     "metadata": {},
     "output_type": "execute_result"
    }
   ],
   "source": [
    "#for each document in training set, get strongest topics that exceed threshold (or top 2 topics if no topics exceed threshold)\n",
    "TOPIC_THRESHOLD = 0.1\n",
    "\n",
    "strong_topics = []\n",
    "    \n",
    "for doc in doc_topics:\n",
    "    tmp = get_strong_topics(document = doc, topic_map = topic_map, topic_threshold = TOPIC_THRESHOLD)\n",
    "    strong_topics.append(tmp)\n",
    "\n",
    "strong_topics[0:3], len(strong_topics)"
   ]
  },
  {
   "cell_type": "code",
   "execution_count": 126,
   "id": "placed-grant",
   "metadata": {},
   "outputs": [
    {
     "data": {
      "text/plain": [
       "{'service': 0.6252814, 'place': 0.1325306, 'food': 0.20543666}"
      ]
     },
     "execution_count": 126,
     "metadata": {},
     "output_type": "execute_result"
    }
   ],
   "source": [
    "strong_topics[30]"
   ]
  },
  {
   "cell_type": "code",
   "execution_count": 127,
   "id": "favorite-johnston",
   "metadata": {
    "scrolled": true
   },
   "outputs": [
    {
     "data": {
      "text/html": [
       "<div>\n",
       "<style scoped>\n",
       "    .dataframe tbody tr th:only-of-type {\n",
       "        vertical-align: middle;\n",
       "    }\n",
       "\n",
       "    .dataframe tbody tr th {\n",
       "        vertical-align: top;\n",
       "    }\n",
       "\n",
       "    .dataframe thead th {\n",
       "        text-align: right;\n",
       "    }\n",
       "</style>\n",
       "<table border=\"1\" class=\"dataframe\">\n",
       "  <thead>\n",
       "    <tr style=\"text-align: right;\">\n",
       "      <th></th>\n",
       "      <th>text</th>\n",
       "      <th>lda_topic</th>\n",
       "    </tr>\n",
       "  </thead>\n",
       "  <tbody>\n",
       "    <tr>\n",
       "      <th>0</th>\n",
       "      <td>It might be the best sit down food I've had in...</td>\n",
       "      <td>{'service': 0.5710142, 'place': 0.3825823}</td>\n",
       "    </tr>\n",
       "    <tr>\n",
       "      <th>1</th>\n",
       "      <td>Hostess was extremely accommodating when we ar...</td>\n",
       "      <td>{'service': 0.89993966, 'price': 0.025021873}</td>\n",
       "    </tr>\n",
       "    <tr>\n",
       "      <th>2</th>\n",
       "      <td>We were a couple of minutes late for our reser...</td>\n",
       "      <td>{'service': 0.9382794, 'place': 0.015483668}</td>\n",
       "    </tr>\n",
       "    <tr>\n",
       "      <th>3</th>\n",
       "      <td>Though the service might be a little slow, the...</td>\n",
       "      <td>{'service': 0.89972734, 'price': 0.025125276}</td>\n",
       "    </tr>\n",
       "    <tr>\n",
       "      <th>4</th>\n",
       "      <td>Although we arrived at the restaurant 10 min l...</td>\n",
       "      <td>{'service': 0.89974165, 'price': 0.025130821}</td>\n",
       "    </tr>\n",
       "    <tr>\n",
       "      <th>...</th>\n",
       "      <td>...</td>\n",
       "      <td>...</td>\n",
       "    </tr>\n",
       "    <tr>\n",
       "      <th>3143</th>\n",
       "      <td>We walked out the door with only a drink in ea...</td>\n",
       "      <td>{'service': 0.8854838, 'food': 0.028660055}</td>\n",
       "    </tr>\n",
       "    <tr>\n",
       "      <th>3144</th>\n",
       "      <td>It took us 20 minutes to get a check, despite ...</td>\n",
       "      <td>{'service': 0.93829703, 'price': 0.015470957}</td>\n",
       "    </tr>\n",
       "    <tr>\n",
       "      <th>3145</th>\n",
       "      <td>The pancakes were good, but don't have blueber...</td>\n",
       "      <td>{'service': 0.19482328, 'price': 0.75489867}</td>\n",
       "    </tr>\n",
       "    <tr>\n",
       "      <th>3146</th>\n",
       "      <td>Our waiter disappeared entirely, our food, whe...</td>\n",
       "      <td>{'service': 0.8990595, 'place': 0.07470649}</td>\n",
       "    </tr>\n",
       "    <tr>\n",
       "      <th>3147</th>\n",
       "      <td>90 for a porterhouse steak for 2 (ordered medi...</td>\n",
       "      <td>{'service': 0.4040711, 'food': 0.4712472}</td>\n",
       "    </tr>\n",
       "  </tbody>\n",
       "</table>\n",
       "<p>3148 rows × 2 columns</p>\n",
       "</div>"
      ],
      "text/plain": [
       "                                                   text  \\\n",
       "0     It might be the best sit down food I've had in...   \n",
       "1     Hostess was extremely accommodating when we ar...   \n",
       "2     We were a couple of minutes late for our reser...   \n",
       "3     Though the service might be a little slow, the...   \n",
       "4     Although we arrived at the restaurant 10 min l...   \n",
       "...                                                 ...   \n",
       "3143  We walked out the door with only a drink in ea...   \n",
       "3144  It took us 20 minutes to get a check, despite ...   \n",
       "3145  The pancakes were good, but don't have blueber...   \n",
       "3146  Our waiter disappeared entirely, our food, whe...   \n",
       "3147  90 for a porterhouse steak for 2 (ordered medi...   \n",
       "\n",
       "                                          lda_topic  \n",
       "0        {'service': 0.5710142, 'place': 0.3825823}  \n",
       "1     {'service': 0.89993966, 'price': 0.025021873}  \n",
       "2      {'service': 0.9382794, 'place': 0.015483668}  \n",
       "3     {'service': 0.89972734, 'price': 0.025125276}  \n",
       "4     {'service': 0.89974165, 'price': 0.025130821}  \n",
       "...                                             ...  \n",
       "3143    {'service': 0.8854838, 'food': 0.028660055}  \n",
       "3144  {'service': 0.93829703, 'price': 0.015470957}  \n",
       "3145   {'service': 0.19482328, 'price': 0.75489867}  \n",
       "3146    {'service': 0.8990595, 'place': 0.07470649}  \n",
       "3147      {'service': 0.4040711, 'food': 0.4712472}  \n",
       "\n",
       "[3148 rows x 2 columns]"
      ]
     },
     "execution_count": 127,
     "metadata": {},
     "output_type": "execute_result"
    }
   ],
   "source": [
    "#create dataframe showing strongest learned topics for each document in the training set\n",
    "lda_df = pd.DataFrame({'text': train_df['text'], 'lda_topic': strong_topics})\n",
    "lda_df"
   ]
  },
  {
   "cell_type": "markdown",
   "id": "stupid-inventory",
   "metadata": {},
   "source": [
    "## Sentiment Analysis (NLTK VADER):"
   ]
  },
  {
   "cell_type": "code",
   "execution_count": 71,
   "id": "thrown-serbia",
   "metadata": {},
   "outputs": [
    {
     "name": "stderr",
     "output_type": "stream",
     "text": [
      "[nltk_data] Downloading package vader_lexicon to\n",
      "[nltk_data]     C:\\Users\\Evan\\AppData\\Roaming\\nltk_data...\n",
      "[nltk_data]   Package vader_lexicon is already up-to-date!\n"
     ]
    }
   ],
   "source": [
    "nltk.download('vader_lexicon')\n",
    "sid = SentimentIntensityAnalyzer()"
   ]
  },
  {
   "cell_type": "code",
   "execution_count": 72,
   "id": "refined-colorado",
   "metadata": {
    "scrolled": true
   },
   "outputs": [
    {
     "name": "stdout",
     "output_type": "stream",
     "text": [
      "It might be the best sit down food I've had in the area, so if you are going to the upright citizen brigade, or the garden, it could be just the place for you. \n",
      " {'neg': 0.0, 'neu': 0.887, 'pos': 0.113, 'compound': 0.6369}\n"
     ]
    }
   ],
   "source": [
    "#test out VADER sentiment analyzer\n",
    "sample2 = lda_df['text'][0]\n",
    "print(sample2, '\\n', sid.polarity_scores(sample2))"
   ]
  },
  {
   "cell_type": "code",
   "execution_count": 73,
   "id": "meaningful-services",
   "metadata": {},
   "outputs": [
    {
     "data": {
      "text/plain": [
       "{'neg': 0.0, 'neu': 1.0, 'pos': 0.0, 'compound': 0.0}"
      ]
     },
     "execution_count": 73,
     "metadata": {},
     "output_type": "execute_result"
    }
   ],
   "source": [
    "sample3 = \"This was a bland and flavorless experience to say the least.\"\n",
    "sid.polarity_scores(sample3)"
   ]
  },
  {
   "cell_type": "code",
   "execution_count": 128,
   "id": "special-lending",
   "metadata": {},
   "outputs": [
    {
     "data": {
      "text/html": [
       "<div>\n",
       "<style scoped>\n",
       "    .dataframe tbody tr th:only-of-type {\n",
       "        vertical-align: middle;\n",
       "    }\n",
       "\n",
       "    .dataframe tbody tr th {\n",
       "        vertical-align: top;\n",
       "    }\n",
       "\n",
       "    .dataframe thead th {\n",
       "        text-align: right;\n",
       "    }\n",
       "</style>\n",
       "<table border=\"1\" class=\"dataframe\">\n",
       "  <thead>\n",
       "    <tr style=\"text-align: right;\">\n",
       "      <th></th>\n",
       "      <th>text</th>\n",
       "      <th>lda_topic</th>\n",
       "      <th>vader_score</th>\n",
       "      <th>compound_score</th>\n",
       "      <th>sentiment</th>\n",
       "      <th>food</th>\n",
       "      <th>place</th>\n",
       "      <th>staff</th>\n",
       "      <th>miscellaneous</th>\n",
       "      <th>service</th>\n",
       "      <th>price</th>\n",
       "      <th>menu</th>\n",
       "      <th>ambience</th>\n",
       "    </tr>\n",
       "  </thead>\n",
       "  <tbody>\n",
       "    <tr>\n",
       "      <th>0</th>\n",
       "      <td>It might be the best sit down food I've had in...</td>\n",
       "      <td>{'service': 0.5710142, 'place': 0.3825823}</td>\n",
       "      <td>{'neg': 0.0, 'neu': 0.887, 'pos': 0.113, 'comp...</td>\n",
       "      <td>0.6369</td>\n",
       "      <td>positive</td>\n",
       "      <td>NaN</td>\n",
       "      <td>positive</td>\n",
       "      <td>None</td>\n",
       "      <td>NaN</td>\n",
       "      <td>positive</td>\n",
       "      <td>NaN</td>\n",
       "      <td>None</td>\n",
       "      <td>None</td>\n",
       "    </tr>\n",
       "    <tr>\n",
       "      <th>1</th>\n",
       "      <td>Hostess was extremely accommodating when we ar...</td>\n",
       "      <td>{'service': 0.89993966, 'price': 0.025021873}</td>\n",
       "      <td>{'neg': 0.0, 'neu': 1.0, 'pos': 0.0, 'compound...</td>\n",
       "      <td>0.0000</td>\n",
       "      <td>neutral</td>\n",
       "      <td>NaN</td>\n",
       "      <td>NaN</td>\n",
       "      <td>None</td>\n",
       "      <td>NaN</td>\n",
       "      <td>neutral</td>\n",
       "      <td>neutral</td>\n",
       "      <td>None</td>\n",
       "      <td>None</td>\n",
       "    </tr>\n",
       "    <tr>\n",
       "      <th>2</th>\n",
       "      <td>We were a couple of minutes late for our reser...</td>\n",
       "      <td>{'service': 0.9382794, 'place': 0.015483668}</td>\n",
       "      <td>{'neg': 0.0, 'neu': 1.0, 'pos': 0.0, 'compound...</td>\n",
       "      <td>0.0000</td>\n",
       "      <td>neutral</td>\n",
       "      <td>NaN</td>\n",
       "      <td>neutral</td>\n",
       "      <td>None</td>\n",
       "      <td>NaN</td>\n",
       "      <td>neutral</td>\n",
       "      <td>NaN</td>\n",
       "      <td>None</td>\n",
       "      <td>None</td>\n",
       "    </tr>\n",
       "    <tr>\n",
       "      <th>3</th>\n",
       "      <td>Though the service might be a little slow, the...</td>\n",
       "      <td>{'service': 0.89972734, 'price': 0.025125276}</td>\n",
       "      <td>{'neg': 0.0, 'neu': 0.759, 'pos': 0.241, 'comp...</td>\n",
       "      <td>0.5413</td>\n",
       "      <td>positive</td>\n",
       "      <td>NaN</td>\n",
       "      <td>NaN</td>\n",
       "      <td>None</td>\n",
       "      <td>NaN</td>\n",
       "      <td>positive</td>\n",
       "      <td>positive</td>\n",
       "      <td>None</td>\n",
       "      <td>None</td>\n",
       "    </tr>\n",
       "    <tr>\n",
       "      <th>4</th>\n",
       "      <td>Although we arrived at the restaurant 10 min l...</td>\n",
       "      <td>{'service': 0.89974165, 'price': 0.025130821}</td>\n",
       "      <td>{'neg': 0.0, 'neu': 1.0, 'pos': 0.0, 'compound...</td>\n",
       "      <td>0.0000</td>\n",
       "      <td>neutral</td>\n",
       "      <td>NaN</td>\n",
       "      <td>NaN</td>\n",
       "      <td>None</td>\n",
       "      <td>NaN</td>\n",
       "      <td>neutral</td>\n",
       "      <td>neutral</td>\n",
       "      <td>None</td>\n",
       "      <td>None</td>\n",
       "    </tr>\n",
       "  </tbody>\n",
       "</table>\n",
       "</div>"
      ],
      "text/plain": [
       "                                                text  \\\n",
       "0  It might be the best sit down food I've had in...   \n",
       "1  Hostess was extremely accommodating when we ar...   \n",
       "2  We were a couple of minutes late for our reser...   \n",
       "3  Though the service might be a little slow, the...   \n",
       "4  Although we arrived at the restaurant 10 min l...   \n",
       "\n",
       "                                       lda_topic  \\\n",
       "0     {'service': 0.5710142, 'place': 0.3825823}   \n",
       "1  {'service': 0.89993966, 'price': 0.025021873}   \n",
       "2   {'service': 0.9382794, 'place': 0.015483668}   \n",
       "3  {'service': 0.89972734, 'price': 0.025125276}   \n",
       "4  {'service': 0.89974165, 'price': 0.025130821}   \n",
       "\n",
       "                                         vader_score  compound_score  \\\n",
       "0  {'neg': 0.0, 'neu': 0.887, 'pos': 0.113, 'comp...          0.6369   \n",
       "1  {'neg': 0.0, 'neu': 1.0, 'pos': 0.0, 'compound...          0.0000   \n",
       "2  {'neg': 0.0, 'neu': 1.0, 'pos': 0.0, 'compound...          0.0000   \n",
       "3  {'neg': 0.0, 'neu': 0.759, 'pos': 0.241, 'comp...          0.5413   \n",
       "4  {'neg': 0.0, 'neu': 1.0, 'pos': 0.0, 'compound...          0.0000   \n",
       "\n",
       "  sentiment food     place staff miscellaneous   service     price  menu  \\\n",
       "0  positive  NaN  positive  None           NaN  positive       NaN  None   \n",
       "1   neutral  NaN       NaN  None           NaN   neutral   neutral  None   \n",
       "2   neutral  NaN   neutral  None           NaN   neutral       NaN  None   \n",
       "3  positive  NaN       NaN  None           NaN  positive  positive  None   \n",
       "4   neutral  NaN       NaN  None           NaN   neutral   neutral  None   \n",
       "\n",
       "  ambience  \n",
       "0     None  \n",
       "1     None  \n",
       "2     None  \n",
       "3     None  \n",
       "4     None  "
      ]
     },
     "execution_count": 128,
     "metadata": {},
     "output_type": "execute_result"
    }
   ],
   "source": [
    "#perform sentiment analysis for each document\n",
    "#assign sentiment to each learned aspect category for each document\n",
    "\n",
    "lda_df['vader_score'] = lda_df['text'].apply(lambda review: sid.polarity_scores(review))\n",
    "lda_df['compound_score'] = lda_df['vader_score'].apply(lambda score_dict: score_dict['compound'])\n",
    "lda_df['sentiment'] = lda_df['compound_score'].apply(lambda sent: 'positive' if sent > 0 else ('neutral' if sent ==0 else 'negative'))\n",
    "\n",
    "for cat in categories:\n",
    "    lda_df[f'{cat}'] = lda_df['lda_topic'].apply(lambda x: encode_category(x, cat))\n",
    "    lda_df[f'{cat}'] = lda_df[f'{cat}'].mask(lda_df[f'{cat}'].notnull(), lda_df['sentiment'])\n",
    "\n",
    "lda_df.head()"
   ]
  },
  {
   "cell_type": "code",
   "execution_count": 129,
   "id": "dedicated-producer",
   "metadata": {},
   "outputs": [],
   "source": [
    "assert len(train_df) == len(lda_df)"
   ]
  },
  {
   "cell_type": "markdown",
   "id": "threatened-database",
   "metadata": {},
   "source": [
    "## LDA + NLTK VADER Model Evaluation:"
   ]
  },
  {
   "cell_type": "code",
   "execution_count": 130,
   "id": "ethical-birthday",
   "metadata": {},
   "outputs": [
    {
     "name": "stderr",
     "output_type": "stream",
     "text": [
      "C:\\ProgramData\\Anaconda3\\envs\\nlpenv\\lib\\site-packages\\pandas\\core\\frame.py:4524: SettingWithCopyWarning: \n",
      "A value is trying to be set on a copy of a slice from a DataFrame\n",
      "\n",
      "See the caveats in the documentation: https://pandas.pydata.org/pandas-docs/stable/user_guide/indexing.html#returning-a-view-versus-a-copy\n",
      "  return super().replace(\n"
     ]
    },
    {
     "data": {
      "text/html": [
       "<div>\n",
       "<style scoped>\n",
       "    .dataframe tbody tr th:only-of-type {\n",
       "        vertical-align: middle;\n",
       "    }\n",
       "\n",
       "    .dataframe tbody tr th {\n",
       "        vertical-align: top;\n",
       "    }\n",
       "\n",
       "    .dataframe thead th {\n",
       "        text-align: right;\n",
       "    }\n",
       "</style>\n",
       "<table border=\"1\" class=\"dataframe\">\n",
       "  <thead>\n",
       "    <tr style=\"text-align: right;\">\n",
       "      <th></th>\n",
       "      <th>food</th>\n",
       "      <th>place</th>\n",
       "      <th>staff</th>\n",
       "      <th>miscellaneous</th>\n",
       "      <th>service</th>\n",
       "      <th>price</th>\n",
       "      <th>menu</th>\n",
       "      <th>ambience</th>\n",
       "    </tr>\n",
       "  </thead>\n",
       "  <tbody>\n",
       "    <tr>\n",
       "      <th>0</th>\n",
       "      <td>positive</td>\n",
       "      <td>neutral</td>\n",
       "      <td>N/A</td>\n",
       "      <td>N/A</td>\n",
       "      <td>N/A</td>\n",
       "      <td>N/A</td>\n",
       "      <td>N/A</td>\n",
       "      <td>N/A</td>\n",
       "    </tr>\n",
       "    <tr>\n",
       "      <th>1</th>\n",
       "      <td>N/A</td>\n",
       "      <td>N/A</td>\n",
       "      <td>positive</td>\n",
       "      <td>neutral</td>\n",
       "      <td>N/A</td>\n",
       "      <td>N/A</td>\n",
       "      <td>N/A</td>\n",
       "      <td>N/A</td>\n",
       "    </tr>\n",
       "    <tr>\n",
       "      <th>2</th>\n",
       "      <td>N/A</td>\n",
       "      <td>N/A</td>\n",
       "      <td>negative</td>\n",
       "      <td>neutral</td>\n",
       "      <td>N/A</td>\n",
       "      <td>N/A</td>\n",
       "      <td>N/A</td>\n",
       "      <td>N/A</td>\n",
       "    </tr>\n",
       "    <tr>\n",
       "      <th>3</th>\n",
       "      <td>N/A</td>\n",
       "      <td>N/A</td>\n",
       "      <td>positive</td>\n",
       "      <td>N/A</td>\n",
       "      <td>negative</td>\n",
       "      <td>N/A</td>\n",
       "      <td>N/A</td>\n",
       "      <td>N/A</td>\n",
       "    </tr>\n",
       "    <tr>\n",
       "      <th>4</th>\n",
       "      <td>N/A</td>\n",
       "      <td>N/A</td>\n",
       "      <td>negative</td>\n",
       "      <td>neutral</td>\n",
       "      <td>N/A</td>\n",
       "      <td>N/A</td>\n",
       "      <td>N/A</td>\n",
       "      <td>N/A</td>\n",
       "    </tr>\n",
       "    <tr>\n",
       "      <th>...</th>\n",
       "      <td>...</td>\n",
       "      <td>...</td>\n",
       "      <td>...</td>\n",
       "      <td>...</td>\n",
       "      <td>...</td>\n",
       "      <td>...</td>\n",
       "      <td>...</td>\n",
       "      <td>...</td>\n",
       "    </tr>\n",
       "    <tr>\n",
       "      <th>3143</th>\n",
       "      <td>neutral</td>\n",
       "      <td>N/A</td>\n",
       "      <td>N/A</td>\n",
       "      <td>N/A</td>\n",
       "      <td>N/A</td>\n",
       "      <td>negative</td>\n",
       "      <td>N/A</td>\n",
       "      <td>N/A</td>\n",
       "    </tr>\n",
       "    <tr>\n",
       "      <th>3144</th>\n",
       "      <td>N/A</td>\n",
       "      <td>N/A</td>\n",
       "      <td>negative</td>\n",
       "      <td>N/A</td>\n",
       "      <td>N/A</td>\n",
       "      <td>neutral</td>\n",
       "      <td>N/A</td>\n",
       "      <td>N/A</td>\n",
       "    </tr>\n",
       "    <tr>\n",
       "      <th>3145</th>\n",
       "      <td>negative</td>\n",
       "      <td>N/A</td>\n",
       "      <td>N/A</td>\n",
       "      <td>N/A</td>\n",
       "      <td>N/A</td>\n",
       "      <td>N/A</td>\n",
       "      <td>neutral</td>\n",
       "      <td>N/A</td>\n",
       "    </tr>\n",
       "    <tr>\n",
       "      <th>3146</th>\n",
       "      <td>neutral</td>\n",
       "      <td>N/A</td>\n",
       "      <td>negative</td>\n",
       "      <td>neutral</td>\n",
       "      <td>N/A</td>\n",
       "      <td>neutral</td>\n",
       "      <td>N/A</td>\n",
       "      <td>N/A</td>\n",
       "    </tr>\n",
       "    <tr>\n",
       "      <th>3147</th>\n",
       "      <td>neutral</td>\n",
       "      <td>N/A</td>\n",
       "      <td>N/A</td>\n",
       "      <td>N/A</td>\n",
       "      <td>positive</td>\n",
       "      <td>N/A</td>\n",
       "      <td>N/A</td>\n",
       "      <td>N/A</td>\n",
       "    </tr>\n",
       "  </tbody>\n",
       "</table>\n",
       "<p>3148 rows × 8 columns</p>\n",
       "</div>"
      ],
      "text/plain": [
       "          food    place     staff miscellaneous   service     price     menu  \\\n",
       "0     positive  neutral       N/A           N/A       N/A       N/A      N/A   \n",
       "1          N/A      N/A  positive       neutral       N/A       N/A      N/A   \n",
       "2          N/A      N/A  negative       neutral       N/A       N/A      N/A   \n",
       "3          N/A      N/A  positive           N/A  negative       N/A      N/A   \n",
       "4          N/A      N/A  negative       neutral       N/A       N/A      N/A   \n",
       "...        ...      ...       ...           ...       ...       ...      ...   \n",
       "3143   neutral      N/A       N/A           N/A       N/A  negative      N/A   \n",
       "3144       N/A      N/A  negative           N/A       N/A   neutral      N/A   \n",
       "3145  negative      N/A       N/A           N/A       N/A       N/A  neutral   \n",
       "3146   neutral      N/A  negative       neutral       N/A   neutral      N/A   \n",
       "3147   neutral      N/A       N/A           N/A  positive       N/A      N/A   \n",
       "\n",
       "     ambience  \n",
       "0         N/A  \n",
       "1         N/A  \n",
       "2         N/A  \n",
       "3         N/A  \n",
       "4         N/A  \n",
       "...       ...  \n",
       "3143      N/A  \n",
       "3144      N/A  \n",
       "3145      N/A  \n",
       "3146      N/A  \n",
       "3147      N/A  \n",
       "\n",
       "[3148 rows x 8 columns]"
      ]
     },
     "execution_count": 130,
     "metadata": {},
     "output_type": "execute_result"
    }
   ],
   "source": [
    "#collect aspect categories and sentiment labels for the training set\n",
    "train_df_cats = train_df[categories]\n",
    "train_df_cats.replace(to_replace = [None], value = 'N/A', inplace = True)\n",
    "train_df_cats"
   ]
  },
  {
   "cell_type": "code",
   "execution_count": 131,
   "id": "residential-yesterday",
   "metadata": {},
   "outputs": [
    {
     "name": "stderr",
     "output_type": "stream",
     "text": [
      "C:\\ProgramData\\Anaconda3\\envs\\nlpenv\\lib\\site-packages\\pandas\\core\\frame.py:4524: SettingWithCopyWarning: \n",
      "A value is trying to be set on a copy of a slice from a DataFrame\n",
      "\n",
      "See the caveats in the documentation: https://pandas.pydata.org/pandas-docs/stable/user_guide/indexing.html#returning-a-view-versus-a-copy\n",
      "  return super().replace(\n"
     ]
    },
    {
     "data": {
      "text/html": [
       "<div>\n",
       "<style scoped>\n",
       "    .dataframe tbody tr th:only-of-type {\n",
       "        vertical-align: middle;\n",
       "    }\n",
       "\n",
       "    .dataframe tbody tr th {\n",
       "        vertical-align: top;\n",
       "    }\n",
       "\n",
       "    .dataframe thead th {\n",
       "        text-align: right;\n",
       "    }\n",
       "</style>\n",
       "<table border=\"1\" class=\"dataframe\">\n",
       "  <thead>\n",
       "    <tr style=\"text-align: right;\">\n",
       "      <th></th>\n",
       "      <th>food</th>\n",
       "      <th>place</th>\n",
       "      <th>staff</th>\n",
       "      <th>miscellaneous</th>\n",
       "      <th>service</th>\n",
       "      <th>price</th>\n",
       "      <th>menu</th>\n",
       "      <th>ambience</th>\n",
       "    </tr>\n",
       "  </thead>\n",
       "  <tbody>\n",
       "    <tr>\n",
       "      <th>0</th>\n",
       "      <td>N/A</td>\n",
       "      <td>positive</td>\n",
       "      <td>N/A</td>\n",
       "      <td>N/A</td>\n",
       "      <td>positive</td>\n",
       "      <td>N/A</td>\n",
       "      <td>N/A</td>\n",
       "      <td>N/A</td>\n",
       "    </tr>\n",
       "    <tr>\n",
       "      <th>1</th>\n",
       "      <td>N/A</td>\n",
       "      <td>N/A</td>\n",
       "      <td>N/A</td>\n",
       "      <td>N/A</td>\n",
       "      <td>neutral</td>\n",
       "      <td>neutral</td>\n",
       "      <td>N/A</td>\n",
       "      <td>N/A</td>\n",
       "    </tr>\n",
       "    <tr>\n",
       "      <th>2</th>\n",
       "      <td>N/A</td>\n",
       "      <td>neutral</td>\n",
       "      <td>N/A</td>\n",
       "      <td>N/A</td>\n",
       "      <td>neutral</td>\n",
       "      <td>N/A</td>\n",
       "      <td>N/A</td>\n",
       "      <td>N/A</td>\n",
       "    </tr>\n",
       "    <tr>\n",
       "      <th>3</th>\n",
       "      <td>N/A</td>\n",
       "      <td>N/A</td>\n",
       "      <td>N/A</td>\n",
       "      <td>N/A</td>\n",
       "      <td>positive</td>\n",
       "      <td>positive</td>\n",
       "      <td>N/A</td>\n",
       "      <td>N/A</td>\n",
       "    </tr>\n",
       "    <tr>\n",
       "      <th>4</th>\n",
       "      <td>N/A</td>\n",
       "      <td>N/A</td>\n",
       "      <td>N/A</td>\n",
       "      <td>N/A</td>\n",
       "      <td>neutral</td>\n",
       "      <td>neutral</td>\n",
       "      <td>N/A</td>\n",
       "      <td>N/A</td>\n",
       "    </tr>\n",
       "    <tr>\n",
       "      <th>...</th>\n",
       "      <td>...</td>\n",
       "      <td>...</td>\n",
       "      <td>...</td>\n",
       "      <td>...</td>\n",
       "      <td>...</td>\n",
       "      <td>...</td>\n",
       "      <td>...</td>\n",
       "      <td>...</td>\n",
       "    </tr>\n",
       "    <tr>\n",
       "      <th>3143</th>\n",
       "      <td>neutral</td>\n",
       "      <td>N/A</td>\n",
       "      <td>N/A</td>\n",
       "      <td>N/A</td>\n",
       "      <td>neutral</td>\n",
       "      <td>N/A</td>\n",
       "      <td>N/A</td>\n",
       "      <td>N/A</td>\n",
       "    </tr>\n",
       "    <tr>\n",
       "      <th>3144</th>\n",
       "      <td>N/A</td>\n",
       "      <td>N/A</td>\n",
       "      <td>N/A</td>\n",
       "      <td>N/A</td>\n",
       "      <td>positive</td>\n",
       "      <td>positive</td>\n",
       "      <td>N/A</td>\n",
       "      <td>N/A</td>\n",
       "    </tr>\n",
       "    <tr>\n",
       "      <th>3145</th>\n",
       "      <td>N/A</td>\n",
       "      <td>N/A</td>\n",
       "      <td>N/A</td>\n",
       "      <td>N/A</td>\n",
       "      <td>positive</td>\n",
       "      <td>positive</td>\n",
       "      <td>N/A</td>\n",
       "      <td>N/A</td>\n",
       "    </tr>\n",
       "    <tr>\n",
       "      <th>3146</th>\n",
       "      <td>N/A</td>\n",
       "      <td>negative</td>\n",
       "      <td>N/A</td>\n",
       "      <td>N/A</td>\n",
       "      <td>negative</td>\n",
       "      <td>N/A</td>\n",
       "      <td>N/A</td>\n",
       "      <td>N/A</td>\n",
       "    </tr>\n",
       "    <tr>\n",
       "      <th>3147</th>\n",
       "      <td>neutral</td>\n",
       "      <td>N/A</td>\n",
       "      <td>N/A</td>\n",
       "      <td>N/A</td>\n",
       "      <td>neutral</td>\n",
       "      <td>N/A</td>\n",
       "      <td>N/A</td>\n",
       "      <td>N/A</td>\n",
       "    </tr>\n",
       "  </tbody>\n",
       "</table>\n",
       "<p>3148 rows × 8 columns</p>\n",
       "</div>"
      ],
      "text/plain": [
       "         food     place staff miscellaneous   service     price menu ambience\n",
       "0         N/A  positive   N/A           N/A  positive       N/A  N/A      N/A\n",
       "1         N/A       N/A   N/A           N/A   neutral   neutral  N/A      N/A\n",
       "2         N/A   neutral   N/A           N/A   neutral       N/A  N/A      N/A\n",
       "3         N/A       N/A   N/A           N/A  positive  positive  N/A      N/A\n",
       "4         N/A       N/A   N/A           N/A   neutral   neutral  N/A      N/A\n",
       "...       ...       ...   ...           ...       ...       ...  ...      ...\n",
       "3143  neutral       N/A   N/A           N/A   neutral       N/A  N/A      N/A\n",
       "3144      N/A       N/A   N/A           N/A  positive  positive  N/A      N/A\n",
       "3145      N/A       N/A   N/A           N/A  positive  positive  N/A      N/A\n",
       "3146      N/A  negative   N/A           N/A  negative       N/A  N/A      N/A\n",
       "3147  neutral       N/A   N/A           N/A   neutral       N/A  N/A      N/A\n",
       "\n",
       "[3148 rows x 8 columns]"
      ]
     },
     "execution_count": 131,
     "metadata": {},
     "output_type": "execute_result"
    }
   ],
   "source": [
    "#collect learned aspect categories and sentiments for the training set\n",
    "lda_df_cats = lda_df[categories]\n",
    "lda_df_cats.replace(to_replace = [None], value = 'N/A', inplace = True)\n",
    "lda_df_cats"
   ]
  },
  {
   "cell_type": "code",
   "execution_count": 132,
   "id": "special-highway",
   "metadata": {
    "scrolled": true
   },
   "outputs": [
    {
     "data": {
      "text/html": [
       "<div>\n",
       "<style scoped>\n",
       "    .dataframe tbody tr th:only-of-type {\n",
       "        vertical-align: middle;\n",
       "    }\n",
       "\n",
       "    .dataframe tbody tr th {\n",
       "        vertical-align: top;\n",
       "    }\n",
       "\n",
       "    .dataframe thead th {\n",
       "        text-align: right;\n",
       "    }\n",
       "</style>\n",
       "<table border=\"1\" class=\"dataframe\">\n",
       "  <thead>\n",
       "    <tr style=\"text-align: right;\">\n",
       "      <th></th>\n",
       "      <th>food</th>\n",
       "      <th>place</th>\n",
       "      <th>staff</th>\n",
       "      <th>miscellaneous</th>\n",
       "      <th>service</th>\n",
       "      <th>price</th>\n",
       "      <th>menu</th>\n",
       "      <th>ambience</th>\n",
       "    </tr>\n",
       "  </thead>\n",
       "  <tbody>\n",
       "    <tr>\n",
       "      <th>0</th>\n",
       "      <td>0</td>\n",
       "      <td>0</td>\n",
       "      <td>1</td>\n",
       "      <td>1</td>\n",
       "      <td>0</td>\n",
       "      <td>1</td>\n",
       "      <td>1</td>\n",
       "      <td>1</td>\n",
       "    </tr>\n",
       "    <tr>\n",
       "      <th>1</th>\n",
       "      <td>1</td>\n",
       "      <td>1</td>\n",
       "      <td>0</td>\n",
       "      <td>0</td>\n",
       "      <td>0</td>\n",
       "      <td>0</td>\n",
       "      <td>1</td>\n",
       "      <td>1</td>\n",
       "    </tr>\n",
       "    <tr>\n",
       "      <th>2</th>\n",
       "      <td>1</td>\n",
       "      <td>0</td>\n",
       "      <td>0</td>\n",
       "      <td>0</td>\n",
       "      <td>0</td>\n",
       "      <td>1</td>\n",
       "      <td>1</td>\n",
       "      <td>1</td>\n",
       "    </tr>\n",
       "    <tr>\n",
       "      <th>3</th>\n",
       "      <td>1</td>\n",
       "      <td>1</td>\n",
       "      <td>0</td>\n",
       "      <td>1</td>\n",
       "      <td>0</td>\n",
       "      <td>0</td>\n",
       "      <td>1</td>\n",
       "      <td>1</td>\n",
       "    </tr>\n",
       "    <tr>\n",
       "      <th>4</th>\n",
       "      <td>1</td>\n",
       "      <td>1</td>\n",
       "      <td>0</td>\n",
       "      <td>0</td>\n",
       "      <td>0</td>\n",
       "      <td>0</td>\n",
       "      <td>1</td>\n",
       "      <td>1</td>\n",
       "    </tr>\n",
       "    <tr>\n",
       "      <th>...</th>\n",
       "      <td>...</td>\n",
       "      <td>...</td>\n",
       "      <td>...</td>\n",
       "      <td>...</td>\n",
       "      <td>...</td>\n",
       "      <td>...</td>\n",
       "      <td>...</td>\n",
       "      <td>...</td>\n",
       "    </tr>\n",
       "    <tr>\n",
       "      <th>3143</th>\n",
       "      <td>1</td>\n",
       "      <td>1</td>\n",
       "      <td>1</td>\n",
       "      <td>1</td>\n",
       "      <td>0</td>\n",
       "      <td>0</td>\n",
       "      <td>1</td>\n",
       "      <td>1</td>\n",
       "    </tr>\n",
       "    <tr>\n",
       "      <th>3144</th>\n",
       "      <td>1</td>\n",
       "      <td>1</td>\n",
       "      <td>0</td>\n",
       "      <td>1</td>\n",
       "      <td>0</td>\n",
       "      <td>0</td>\n",
       "      <td>1</td>\n",
       "      <td>1</td>\n",
       "    </tr>\n",
       "    <tr>\n",
       "      <th>3145</th>\n",
       "      <td>0</td>\n",
       "      <td>1</td>\n",
       "      <td>1</td>\n",
       "      <td>1</td>\n",
       "      <td>0</td>\n",
       "      <td>0</td>\n",
       "      <td>0</td>\n",
       "      <td>1</td>\n",
       "    </tr>\n",
       "    <tr>\n",
       "      <th>3146</th>\n",
       "      <td>0</td>\n",
       "      <td>0</td>\n",
       "      <td>0</td>\n",
       "      <td>0</td>\n",
       "      <td>0</td>\n",
       "      <td>0</td>\n",
       "      <td>1</td>\n",
       "      <td>1</td>\n",
       "    </tr>\n",
       "    <tr>\n",
       "      <th>3147</th>\n",
       "      <td>1</td>\n",
       "      <td>1</td>\n",
       "      <td>1</td>\n",
       "      <td>1</td>\n",
       "      <td>0</td>\n",
       "      <td>1</td>\n",
       "      <td>1</td>\n",
       "      <td>1</td>\n",
       "    </tr>\n",
       "  </tbody>\n",
       "</table>\n",
       "<p>3148 rows × 8 columns</p>\n",
       "</div>"
      ],
      "text/plain": [
       "      food  place  staff  miscellaneous  service  price  menu  ambience\n",
       "0        0      0      1              1        0      1     1         1\n",
       "1        1      1      0              0        0      0     1         1\n",
       "2        1      0      0              0        0      1     1         1\n",
       "3        1      1      0              1        0      0     1         1\n",
       "4        1      1      0              0        0      0     1         1\n",
       "...    ...    ...    ...            ...      ...    ...   ...       ...\n",
       "3143     1      1      1              1        0      0     1         1\n",
       "3144     1      1      0              1        0      0     1         1\n",
       "3145     0      1      1              1        0      0     0         1\n",
       "3146     0      0      0              0        0      0     1         1\n",
       "3147     1      1      1              1        0      1     1         1\n",
       "\n",
       "[3148 rows x 8 columns]"
      ]
     },
     "execution_count": 132,
     "metadata": {},
     "output_type": "execute_result"
    }
   ],
   "source": [
    "#compare learned aspect categories and sentiments with training labels\n",
    "#0 - learned sentiment does not match label\n",
    "#1 - learned sentiment matches label\n",
    "\n",
    "diff_df = train_df_cats.eq(lda_df_cats).astype(int)\n",
    "diff_df"
   ]
  },
  {
   "cell_type": "code",
   "execution_count": 133,
   "id": "sixth-integer",
   "metadata": {},
   "outputs": [],
   "source": [
    "#only compare sentiments for learned LDA topics \n",
    "reduced_cats = ['food', 'place', 'service', 'price', 'miscellaneous']"
   ]
  },
  {
   "cell_type": "code",
   "execution_count": 134,
   "id": "intense-dispatch",
   "metadata": {},
   "outputs": [
    {
     "data": {
      "text/plain": [
       "food             0.318297\n",
       "place            0.628653\n",
       "service          0.144536\n",
       "price            0.674079\n",
       "miscellaneous    0.582592\n",
       "dtype: float64"
      ]
     },
     "execution_count": 134,
     "metadata": {},
     "output_type": "execute_result"
    }
   ],
   "source": [
    "#calculate classification accuracy for each aspect category\n",
    "diff_df[reduced_cats].mean()"
   ]
  },
  {
   "cell_type": "code",
   "execution_count": 135,
   "id": "right-transcription",
   "metadata": {
    "scrolled": true
   },
   "outputs": [
    {
     "data": {
      "text/plain": [
       "0.4696315120711563"
      ]
     },
     "execution_count": 135,
     "metadata": {},
     "output_type": "execute_result"
    }
   ],
   "source": [
    "#calculate mean classification accuracy across all aspect categories\n",
    "diff_df[reduced_cats].mean().mean()"
   ]
  },
  {
   "cell_type": "markdown",
   "id": "sticky-notification",
   "metadata": {},
   "source": [
    "# Sentiment Analysis (BERT):"
   ]
  },
  {
   "cell_type": "code",
   "execution_count": 82,
   "id": "focal-bernard",
   "metadata": {},
   "outputs": [],
   "source": [
    "bert_classifier = pipeline('sentiment-analysis')"
   ]
  },
  {
   "cell_type": "code",
   "execution_count": 83,
   "id": "aboriginal-boulder",
   "metadata": {},
   "outputs": [
    {
     "data": {
      "text/plain": [
       "[{'label': 'POSITIVE', 'score': 0.9997795224189758}]"
      ]
     },
     "execution_count": 83,
     "metadata": {},
     "output_type": "execute_result"
    }
   ],
   "source": [
    "bert_classifier('We are very happy to show you the 🤗 Transformers library.')"
   ]
  },
  {
   "cell_type": "code",
   "execution_count": 84,
   "id": "suburban-religious",
   "metadata": {},
   "outputs": [
    {
     "data": {
      "text/plain": [
       "[{'label': 'NEGATIVE', 'score': 0.999290406703949}]"
      ]
     },
     "execution_count": 84,
     "metadata": {},
     "output_type": "execute_result"
    }
   ],
   "source": [
    "bert_classifier('It took us 20 minutes to get a check, despite many attempts at meaningful eye contact with the wait staff.')"
   ]
  },
  {
   "cell_type": "code",
   "execution_count": 113,
   "id": "starting-preservation",
   "metadata": {},
   "outputs": [],
   "source": [
    "bert_df = pd.DataFrame({'text': train_df['text'], 'lda_topic': strong_topics})\n",
    "\n",
    "bert_df['sentiment'] = bert_df['text'].apply(lambda x: bert_classifier(x))"
   ]
  },
  {
   "cell_type": "code",
   "execution_count": 86,
   "id": "roman-closing",
   "metadata": {},
   "outputs": [
    {
     "data": {
      "text/plain": [
       "{'label': 'NEGATIVE', 'score': 0.865111231803894}"
      ]
     },
     "execution_count": 86,
     "metadata": {},
     "output_type": "execute_result"
    }
   ],
   "source": [
    "bert_df['sentiment'][0][0]"
   ]
  },
  {
   "cell_type": "code",
   "execution_count": 114,
   "id": "appointed-forum",
   "metadata": {},
   "outputs": [],
   "source": [
    "for cat in categories:\n",
    "    bert_df[f'{cat}'] = bert_df['lda_topic'].apply(lambda x: encode_category(x, cat))\n",
    "    bert_df[f'{cat}'] = bert_df[f'{cat}'].mask(bert_df[f'{cat}'].notnull(), bert_df['sentiment'][0][0]['label'].lower())"
   ]
  },
  {
   "cell_type": "code",
   "execution_count": 115,
   "id": "typical-small",
   "metadata": {
    "scrolled": true
   },
   "outputs": [
    {
     "data": {
      "text/html": [
       "<div>\n",
       "<style scoped>\n",
       "    .dataframe tbody tr th:only-of-type {\n",
       "        vertical-align: middle;\n",
       "    }\n",
       "\n",
       "    .dataframe tbody tr th {\n",
       "        vertical-align: top;\n",
       "    }\n",
       "\n",
       "    .dataframe thead th {\n",
       "        text-align: right;\n",
       "    }\n",
       "</style>\n",
       "<table border=\"1\" class=\"dataframe\">\n",
       "  <thead>\n",
       "    <tr style=\"text-align: right;\">\n",
       "      <th></th>\n",
       "      <th>text</th>\n",
       "      <th>lda_topic</th>\n",
       "      <th>sentiment</th>\n",
       "      <th>food</th>\n",
       "      <th>place</th>\n",
       "      <th>staff</th>\n",
       "      <th>miscellaneous</th>\n",
       "      <th>service</th>\n",
       "      <th>price</th>\n",
       "      <th>menu</th>\n",
       "      <th>ambience</th>\n",
       "    </tr>\n",
       "  </thead>\n",
       "  <tbody>\n",
       "    <tr>\n",
       "      <th>0</th>\n",
       "      <td>It might be the best sit down food I've had in...</td>\n",
       "      <td>{'service': 0.57103175, 'miscellaneous': 0.382...</td>\n",
       "      <td>[{'label': 'NEGATIVE', 'score': 0.865111231803...</td>\n",
       "      <td>NaN</td>\n",
       "      <td>NaN</td>\n",
       "      <td>None</td>\n",
       "      <td>negative</td>\n",
       "      <td>negative</td>\n",
       "      <td>NaN</td>\n",
       "      <td>None</td>\n",
       "      <td>None</td>\n",
       "    </tr>\n",
       "    <tr>\n",
       "      <th>1</th>\n",
       "      <td>Hostess was extremely accommodating when we ar...</td>\n",
       "      <td>{'service': 0.89993864, 'price': 0.025022436}</td>\n",
       "      <td>[{'label': 'POSITIVE', 'score': 0.997357010841...</td>\n",
       "      <td>NaN</td>\n",
       "      <td>NaN</td>\n",
       "      <td>None</td>\n",
       "      <td>NaN</td>\n",
       "      <td>negative</td>\n",
       "      <td>negative</td>\n",
       "      <td>None</td>\n",
       "      <td>None</td>\n",
       "    </tr>\n",
       "    <tr>\n",
       "      <th>2</th>\n",
       "      <td>We were a couple of minutes late for our reser...</td>\n",
       "      <td>{'service': 0.93827957, 'miscellaneous': 0.015...</td>\n",
       "      <td>[{'label': 'NEGATIVE', 'score': 0.999700009822...</td>\n",
       "      <td>NaN</td>\n",
       "      <td>NaN</td>\n",
       "      <td>None</td>\n",
       "      <td>negative</td>\n",
       "      <td>negative</td>\n",
       "      <td>NaN</td>\n",
       "      <td>None</td>\n",
       "      <td>None</td>\n",
       "    </tr>\n",
       "    <tr>\n",
       "      <th>3</th>\n",
       "      <td>Though the service might be a little slow, the...</td>\n",
       "      <td>{'service': 0.8997272, 'price': 0.025125396}</td>\n",
       "      <td>[{'label': 'POSITIVE', 'score': 0.999799609184...</td>\n",
       "      <td>NaN</td>\n",
       "      <td>NaN</td>\n",
       "      <td>None</td>\n",
       "      <td>NaN</td>\n",
       "      <td>negative</td>\n",
       "      <td>negative</td>\n",
       "      <td>None</td>\n",
       "      <td>None</td>\n",
       "    </tr>\n",
       "    <tr>\n",
       "      <th>4</th>\n",
       "      <td>Although we arrived at the restaurant 10 min l...</td>\n",
       "      <td>{'service': 0.8997417, 'price': 0.025130773}</td>\n",
       "      <td>[{'label': 'NEGATIVE', 'score': 0.999439239501...</td>\n",
       "      <td>NaN</td>\n",
       "      <td>NaN</td>\n",
       "      <td>None</td>\n",
       "      <td>NaN</td>\n",
       "      <td>negative</td>\n",
       "      <td>negative</td>\n",
       "      <td>None</td>\n",
       "      <td>None</td>\n",
       "    </tr>\n",
       "  </tbody>\n",
       "</table>\n",
       "</div>"
      ],
      "text/plain": [
       "                                                text  \\\n",
       "0  It might be the best sit down food I've had in...   \n",
       "1  Hostess was extremely accommodating when we ar...   \n",
       "2  We were a couple of minutes late for our reser...   \n",
       "3  Though the service might be a little slow, the...   \n",
       "4  Although we arrived at the restaurant 10 min l...   \n",
       "\n",
       "                                           lda_topic  \\\n",
       "0  {'service': 0.57103175, 'miscellaneous': 0.382...   \n",
       "1      {'service': 0.89993864, 'price': 0.025022436}   \n",
       "2  {'service': 0.93827957, 'miscellaneous': 0.015...   \n",
       "3       {'service': 0.8997272, 'price': 0.025125396}   \n",
       "4       {'service': 0.8997417, 'price': 0.025130773}   \n",
       "\n",
       "                                           sentiment food place staff  \\\n",
       "0  [{'label': 'NEGATIVE', 'score': 0.865111231803...  NaN   NaN  None   \n",
       "1  [{'label': 'POSITIVE', 'score': 0.997357010841...  NaN   NaN  None   \n",
       "2  [{'label': 'NEGATIVE', 'score': 0.999700009822...  NaN   NaN  None   \n",
       "3  [{'label': 'POSITIVE', 'score': 0.999799609184...  NaN   NaN  None   \n",
       "4  [{'label': 'NEGATIVE', 'score': 0.999439239501...  NaN   NaN  None   \n",
       "\n",
       "  miscellaneous   service     price  menu ambience  \n",
       "0      negative  negative       NaN  None     None  \n",
       "1           NaN  negative  negative  None     None  \n",
       "2      negative  negative       NaN  None     None  \n",
       "3           NaN  negative  negative  None     None  \n",
       "4           NaN  negative  negative  None     None  "
      ]
     },
     "execution_count": 115,
     "metadata": {},
     "output_type": "execute_result"
    }
   ],
   "source": [
    "bert_df.head()"
   ]
  },
  {
   "cell_type": "markdown",
   "id": "systematic-belarus",
   "metadata": {},
   "source": [
    "# LDA + BERT Model Evaluation:"
   ]
  },
  {
   "cell_type": "code",
   "execution_count": 116,
   "id": "monetary-priority",
   "metadata": {},
   "outputs": [
    {
     "name": "stderr",
     "output_type": "stream",
     "text": [
      "C:\\ProgramData\\Anaconda3\\envs\\nlpenv\\lib\\site-packages\\pandas\\core\\frame.py:4524: SettingWithCopyWarning: \n",
      "A value is trying to be set on a copy of a slice from a DataFrame\n",
      "\n",
      "See the caveats in the documentation: https://pandas.pydata.org/pandas-docs/stable/user_guide/indexing.html#returning-a-view-versus-a-copy\n",
      "  return super().replace(\n"
     ]
    }
   ],
   "source": [
    "#collect learned aspect categories and sentiments for the training set\n",
    "bert_df_cats = bert_df[categories]\n",
    "bert_df_cats.replace(to_replace = [None], value = 'N/A', inplace = True)"
   ]
  },
  {
   "cell_type": "code",
   "execution_count": 117,
   "id": "composed-organic",
   "metadata": {},
   "outputs": [
    {
     "data": {
      "text/plain": [
       "food             0.197268\n",
       "place            0.624524\n",
       "service          0.154701\n",
       "price            0.681067\n",
       "miscellaneous    0.556544\n",
       "dtype: float64"
      ]
     },
     "execution_count": 117,
     "metadata": {},
     "output_type": "execute_result"
    }
   ],
   "source": [
    "#compare learned aspect categories and sentiments with training labels\n",
    "#0 - learned sentiment does not match label\n",
    "#1 - learned sentiment matches label\n",
    "\n",
    "bert_diff_df = train_df_cats.eq(bert_df_cats).astype(int)\n",
    "#calculate classification accuracy for each aspect category\n",
    "bert_diff_df[reduced_cats].mean()"
   ]
  },
  {
   "cell_type": "code",
   "execution_count": 118,
   "id": "least-richmond",
   "metadata": {},
   "outputs": [
    {
     "data": {
      "text/plain": [
       "0.4428208386277001"
      ]
     },
     "execution_count": 118,
     "metadata": {},
     "output_type": "execute_result"
    }
   ],
   "source": [
    "#calculate mean classification accuracy across all aspect categories\n",
    "bert_diff_df[reduced_cats].mean().mean()"
   ]
  },
  {
   "cell_type": "markdown",
   "id": "subjective-abraham",
   "metadata": {},
   "source": [
    "#### Bag-of-Word Representation:\n",
    "LDA + NLTK accuracy was **~48%**, LDA + BERT accuracy is **~45%**. BERT is currently performing worse?\n",
    "\n",
    "#### TF-IDF Representation:\n",
    "LDA + NLTK accuracy was **~47%**, LDA + BERT accuracy is **~44%**. VADER still outperforms BERT?"
   ]
  },
  {
   "cell_type": "markdown",
   "id": "adapted-prefix",
   "metadata": {},
   "source": [
    "# Identifying Sources of Error:\n",
    "Is the LDA model, or is the sentiment analysis the major contributor to classification error?"
   ]
  },
  {
   "cell_type": "code",
   "execution_count": 136,
   "id": "verbal-waterproof",
   "metadata": {},
   "outputs": [],
   "source": [
    "def compare_topics(labels, learned_labels):\n",
    "    \"\"\"Returns percentage of learned labels that are also in the ground truth labels.\"\"\"\n",
    "    intersection = [label for label in learned_labels if label in labels]\n",
    "    score = len(intersection) / len(labels)\n",
    "    return score"
   ]
  },
  {
   "cell_type": "code",
   "execution_count": 137,
   "id": "close-range",
   "metadata": {},
   "outputs": [
    {
     "data": {
      "text/plain": [
       "0.5"
      ]
     },
     "execution_count": 137,
     "metadata": {},
     "output_type": "execute_result"
    }
   ],
   "source": [
    "compare_topics(list(train_df['sentiment'][0].keys()), list(lda_df['lda_topic'][0].keys()))"
   ]
  },
  {
   "cell_type": "code",
   "execution_count": 138,
   "id": "backed-protocol",
   "metadata": {},
   "outputs": [
    {
     "data": {
      "text/html": [
       "<div>\n",
       "<style scoped>\n",
       "    .dataframe tbody tr th:only-of-type {\n",
       "        vertical-align: middle;\n",
       "    }\n",
       "\n",
       "    .dataframe tbody tr th {\n",
       "        vertical-align: top;\n",
       "    }\n",
       "\n",
       "    .dataframe thead th {\n",
       "        text-align: right;\n",
       "    }\n",
       "</style>\n",
       "<table border=\"1\" class=\"dataframe\">\n",
       "  <thead>\n",
       "    <tr style=\"text-align: right;\">\n",
       "      <th></th>\n",
       "      <th>labels</th>\n",
       "      <th>learned_topics</th>\n",
       "      <th>comparison</th>\n",
       "    </tr>\n",
       "  </thead>\n",
       "  <tbody>\n",
       "    <tr>\n",
       "      <th>0</th>\n",
       "      <td>{'food': 'positive', 'place': 'neutral'}</td>\n",
       "      <td>{'service': 0.5710142, 'place': 0.3825823}</td>\n",
       "      <td>0.5</td>\n",
       "    </tr>\n",
       "    <tr>\n",
       "      <th>1</th>\n",
       "      <td>{'staff': 'positive', 'miscellaneous': 'neutral'}</td>\n",
       "      <td>{'service': 0.89993966, 'price': 0.025021873}</td>\n",
       "      <td>0.0</td>\n",
       "    </tr>\n",
       "    <tr>\n",
       "      <th>2</th>\n",
       "      <td>{'miscellaneous': 'neutral', 'staff': 'negative'}</td>\n",
       "      <td>{'service': 0.9382794, 'place': 0.015483668}</td>\n",
       "      <td>0.0</td>\n",
       "    </tr>\n",
       "    <tr>\n",
       "      <th>3</th>\n",
       "      <td>{'service': 'negative', 'staff': 'positive'}</td>\n",
       "      <td>{'service': 0.89972734, 'price': 0.025125276}</td>\n",
       "      <td>0.5</td>\n",
       "    </tr>\n",
       "    <tr>\n",
       "      <th>4</th>\n",
       "      <td>{'staff': 'negative', 'miscellaneous': 'neutral'}</td>\n",
       "      <td>{'service': 0.89974165, 'price': 0.025130821}</td>\n",
       "      <td>0.0</td>\n",
       "    </tr>\n",
       "    <tr>\n",
       "      <th>...</th>\n",
       "      <td>...</td>\n",
       "      <td>...</td>\n",
       "      <td>...</td>\n",
       "    </tr>\n",
       "    <tr>\n",
       "      <th>3143</th>\n",
       "      <td>{'food': 'neutral', 'price': 'negative'}</td>\n",
       "      <td>{'service': 0.8854838, 'food': 0.028660055}</td>\n",
       "      <td>0.5</td>\n",
       "    </tr>\n",
       "    <tr>\n",
       "      <th>3144</th>\n",
       "      <td>{'price': 'neutral', 'staff': 'negative'}</td>\n",
       "      <td>{'service': 0.93829703, 'price': 0.015470957}</td>\n",
       "      <td>0.5</td>\n",
       "    </tr>\n",
       "    <tr>\n",
       "      <th>3145</th>\n",
       "      <td>{'food': 'negative', 'menu': 'neutral'}</td>\n",
       "      <td>{'service': 0.19482328, 'price': 0.75489867}</td>\n",
       "      <td>0.0</td>\n",
       "    </tr>\n",
       "    <tr>\n",
       "      <th>3146</th>\n",
       "      <td>{'staff': 'negative', 'food': 'neutral', 'misc...</td>\n",
       "      <td>{'service': 0.8990595, 'place': 0.07470649}</td>\n",
       "      <td>0.0</td>\n",
       "    </tr>\n",
       "    <tr>\n",
       "      <th>3147</th>\n",
       "      <td>{'food': 'neutral', 'service': 'positive'}</td>\n",
       "      <td>{'service': 0.4040711, 'food': 0.4712472}</td>\n",
       "      <td>1.0</td>\n",
       "    </tr>\n",
       "  </tbody>\n",
       "</table>\n",
       "<p>3148 rows × 3 columns</p>\n",
       "</div>"
      ],
      "text/plain": [
       "                                                 labels  \\\n",
       "0              {'food': 'positive', 'place': 'neutral'}   \n",
       "1     {'staff': 'positive', 'miscellaneous': 'neutral'}   \n",
       "2     {'miscellaneous': 'neutral', 'staff': 'negative'}   \n",
       "3          {'service': 'negative', 'staff': 'positive'}   \n",
       "4     {'staff': 'negative', 'miscellaneous': 'neutral'}   \n",
       "...                                                 ...   \n",
       "3143           {'food': 'neutral', 'price': 'negative'}   \n",
       "3144          {'price': 'neutral', 'staff': 'negative'}   \n",
       "3145            {'food': 'negative', 'menu': 'neutral'}   \n",
       "3146  {'staff': 'negative', 'food': 'neutral', 'misc...   \n",
       "3147         {'food': 'neutral', 'service': 'positive'}   \n",
       "\n",
       "                                     learned_topics  comparison  \n",
       "0        {'service': 0.5710142, 'place': 0.3825823}         0.5  \n",
       "1     {'service': 0.89993966, 'price': 0.025021873}         0.0  \n",
       "2      {'service': 0.9382794, 'place': 0.015483668}         0.0  \n",
       "3     {'service': 0.89972734, 'price': 0.025125276}         0.5  \n",
       "4     {'service': 0.89974165, 'price': 0.025130821}         0.0  \n",
       "...                                             ...         ...  \n",
       "3143    {'service': 0.8854838, 'food': 0.028660055}         0.5  \n",
       "3144  {'service': 0.93829703, 'price': 0.015470957}         0.5  \n",
       "3145   {'service': 0.19482328, 'price': 0.75489867}         0.0  \n",
       "3146    {'service': 0.8990595, 'place': 0.07470649}         0.0  \n",
       "3147      {'service': 0.4040711, 'food': 0.4712472}         1.0  \n",
       "\n",
       "[3148 rows x 3 columns]"
      ]
     },
     "execution_count": 138,
     "metadata": {},
     "output_type": "execute_result"
    }
   ],
   "source": [
    "#Compare assigned topics from LDA model with training set labels\n",
    "compared_topics = pd.concat([train_df['sentiment'], lda_df['lda_topic']], axis = 1)\n",
    "compared_topics.columns = ['labels', 'learned_topics']\n",
    "compared_topics['comparison'] = compared_topics.apply(lambda x: compare_topics(x['labels'], x['learned_topics']), axis = 1)\n",
    "compared_topics"
   ]
  },
  {
   "cell_type": "code",
   "execution_count": 139,
   "id": "competent-parking",
   "metadata": {},
   "outputs": [
    {
     "data": {
      "text/plain": [
       "0.3077191867852614"
      ]
     },
     "execution_count": 139,
     "metadata": {},
     "output_type": "execute_result"
    }
   ],
   "source": [
    "compared_topics['comparison'].mean()"
   ]
  },
  {
   "cell_type": "markdown",
   "id": "classified-baptist",
   "metadata": {},
   "source": [
    "Using BoW, LDA classified **~33%** of topics correctly.\n",
    "\n",
    "Using TF-IDF, LDA classified **~31%** of topics correctly."
   ]
  },
  {
   "cell_type": "code",
   "execution_count": null,
   "id": "technical-candidate",
   "metadata": {},
   "outputs": [],
   "source": []
  }
 ],
 "metadata": {
  "kernelspec": {
   "display_name": "Python 3",
   "language": "python",
   "name": "python3"
  },
  "language_info": {
   "codemirror_mode": {
    "name": "ipython",
    "version": 3
   },
   "file_extension": ".py",
   "mimetype": "text/x-python",
   "name": "python",
   "nbconvert_exporter": "python",
   "pygments_lexer": "ipython3",
   "version": "3.8.3"
  }
 },
 "nbformat": 4,
 "nbformat_minor": 5
}
