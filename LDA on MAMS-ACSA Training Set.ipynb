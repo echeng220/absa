{
 "cells": [
  {
   "cell_type": "code",
   "execution_count": 100,
   "id": "extended-rotation",
   "metadata": {},
   "outputs": [
    {
     "name": "stderr",
     "output_type": "stream",
     "text": [
      "[nltk_data] Downloading package wordnet to\n",
      "[nltk_data]     C:\\Users\\Evan\\AppData\\Roaming\\nltk_data...\n",
      "[nltk_data]   Package wordnet is already up-to-date!\n"
     ]
    }
   ],
   "source": [
    "import xml.etree.ElementTree as et\n",
    "import pandas as pd\n",
    "import random\n",
    "import pickle\n",
    "\n",
    "import spacy\n",
    "spacy.load('en_core_web_sm')\n",
    "from spacy.lang.en import English\n",
    "parser  = English()\n",
    "\n",
    "import nltk\n",
    "nltk.download('wordnet')\n",
    "from nltk.corpus import wordnet as wn\n",
    "from nltk.stem.wordnet import WordNetLemmatizer\n",
    "\n",
    "import gensim\n",
    "from gensim import corpora"
   ]
  },
  {
   "cell_type": "code",
   "execution_count": 2,
   "id": "crude-resource",
   "metadata": {},
   "outputs": [],
   "source": [
    "tree = et.parse('train.xml')\n",
    "root = tree.getroot()"
   ]
  },
  {
   "cell_type": "code",
   "execution_count": 3,
   "id": "regulation-donor",
   "metadata": {},
   "outputs": [
    {
     "data": {
      "text/plain": [
       "'sentences'"
      ]
     },
     "execution_count": 3,
     "metadata": {},
     "output_type": "execute_result"
    }
   ],
   "source": [
    "root.tag"
   ]
  },
  {
   "cell_type": "code",
   "execution_count": 13,
   "id": "temporal-auditor",
   "metadata": {},
   "outputs": [
    {
     "data": {
      "text/plain": [
       "'aspectCategories'"
      ]
     },
     "execution_count": 13,
     "metadata": {},
     "output_type": "execute_result"
    }
   ],
   "source": [
    "root[0][1].tag"
   ]
  },
  {
   "cell_type": "code",
   "execution_count": 15,
   "id": "automatic-neighbor",
   "metadata": {},
   "outputs": [
    {
     "data": {
      "text/plain": [
       "2"
      ]
     },
     "execution_count": 15,
     "metadata": {},
     "output_type": "execute_result"
    }
   ],
   "source": [
    "len(root[0][1])"
   ]
  },
  {
   "cell_type": "code",
   "execution_count": 23,
   "id": "charged-teddy",
   "metadata": {},
   "outputs": [
    {
     "data": {
      "text/plain": [
       "\"It might be the best sit down food I've had in the area, so if you are going to the upright citizen brigade, or the garden, it could be just the place for you.\""
      ]
     },
     "execution_count": 23,
     "metadata": {},
     "output_type": "execute_result"
    }
   ],
   "source": [
    "root[0][0].text"
   ]
  },
  {
   "cell_type": "code",
   "execution_count": 40,
   "id": "reverse-elite",
   "metadata": {},
   "outputs": [
    {
     "data": {
      "text/plain": [
       "'food'"
      ]
     },
     "execution_count": 40,
     "metadata": {},
     "output_type": "execute_result"
    }
   ],
   "source": [
    "root[0][1][0].attrib['category']"
   ]
  },
  {
   "cell_type": "code",
   "execution_count": 21,
   "id": "subsequent-republic",
   "metadata": {},
   "outputs": [
    {
     "data": {
      "text/plain": [
       "3149"
      ]
     },
     "execution_count": 21,
     "metadata": {},
     "output_type": "execute_result"
    }
   ],
   "source": [
    "len(root)"
   ]
  },
  {
   "cell_type": "code",
   "execution_count": 38,
   "id": "latter-community",
   "metadata": {},
   "outputs": [
    {
     "name": "stdout",
     "output_type": "stream",
     "text": [
      "Most aspect categories in a single document:  5\n"
     ]
    }
   ],
   "source": [
    "m = len(root) - 1\n",
    "max_aspects = 0\n",
    "\n",
    "for i in range(m):\n",
    "    if len(root[i][1]) > max_aspects:\n",
    "        max_aspects = len(root[i][1])\n",
    "\n",
    "print('Most aspect categories in a single document: ', max_aspects)"
   ]
  },
  {
   "cell_type": "code",
   "execution_count": 62,
   "id": "distinct-anatomy",
   "metadata": {},
   "outputs": [],
   "source": [
    "corpus = {}\n",
    "\n",
    "for i in range(m):\n",
    "    doc = {}\n",
    "    doc['text'] = root[i][0].text\n",
    "    for j in range(len(root[i][1])):\n",
    "        doc[f'aspectCategory{j}'] = root[i][1][j].attrib['category']\n",
    "        doc[f'aspectPolarity{j}'] = root[i][1][j].attrib['polarity']\n",
    "    corpus.update({i: doc})"
   ]
  },
  {
   "cell_type": "code",
   "execution_count": 67,
   "id": "southern-racing",
   "metadata": {
    "scrolled": true
   },
   "outputs": [
    {
     "data": {
      "text/html": [
       "<div>\n",
       "<style scoped>\n",
       "    .dataframe tbody tr th:only-of-type {\n",
       "        vertical-align: middle;\n",
       "    }\n",
       "\n",
       "    .dataframe tbody tr th {\n",
       "        vertical-align: top;\n",
       "    }\n",
       "\n",
       "    .dataframe thead th {\n",
       "        text-align: right;\n",
       "    }\n",
       "</style>\n",
       "<table border=\"1\" class=\"dataframe\">\n",
       "  <thead>\n",
       "    <tr style=\"text-align: right;\">\n",
       "      <th></th>\n",
       "      <th>text</th>\n",
       "      <th>aspectCategory0</th>\n",
       "      <th>aspectPolarity0</th>\n",
       "      <th>aspectCategory1</th>\n",
       "      <th>aspectPolarity1</th>\n",
       "      <th>aspectCategory2</th>\n",
       "      <th>aspectPolarity2</th>\n",
       "      <th>aspectCategory3</th>\n",
       "      <th>aspectPolarity3</th>\n",
       "      <th>aspectCategory4</th>\n",
       "      <th>aspectPolarity4</th>\n",
       "    </tr>\n",
       "  </thead>\n",
       "  <tbody>\n",
       "    <tr>\n",
       "      <th>606</th>\n",
       "      <td>After a couple of drinks upstairs before our m...</td>\n",
       "      <td>food</td>\n",
       "      <td>neutral</td>\n",
       "      <td>miscellaneous</td>\n",
       "      <td>positive</td>\n",
       "      <td>NaN</td>\n",
       "      <td>NaN</td>\n",
       "      <td>NaN</td>\n",
       "      <td>NaN</td>\n",
       "      <td>NaN</td>\n",
       "      <td>NaN</td>\n",
       "    </tr>\n",
       "    <tr>\n",
       "      <th>1761</th>\n",
       "      <td>We would have to flag down the bored looking w...</td>\n",
       "      <td>staff</td>\n",
       "      <td>negative</td>\n",
       "      <td>food</td>\n",
       "      <td>neutral</td>\n",
       "      <td>NaN</td>\n",
       "      <td>NaN</td>\n",
       "      <td>NaN</td>\n",
       "      <td>NaN</td>\n",
       "      <td>NaN</td>\n",
       "      <td>NaN</td>\n",
       "    </tr>\n",
       "    <tr>\n",
       "      <th>2045</th>\n",
       "      <td>The Scene The bright mix of colors painted on ...</td>\n",
       "      <td>miscellaneous</td>\n",
       "      <td>positive</td>\n",
       "      <td>place</td>\n",
       "      <td>neutral</td>\n",
       "      <td>NaN</td>\n",
       "      <td>NaN</td>\n",
       "      <td>NaN</td>\n",
       "      <td>NaN</td>\n",
       "      <td>NaN</td>\n",
       "      <td>NaN</td>\n",
       "    </tr>\n",
       "  </tbody>\n",
       "</table>\n",
       "</div>"
      ],
      "text/plain": [
       "                                                   text aspectCategory0  \\\n",
       "606   After a couple of drinks upstairs before our m...            food   \n",
       "1761  We would have to flag down the bored looking w...           staff   \n",
       "2045  The Scene The bright mix of colors painted on ...   miscellaneous   \n",
       "\n",
       "     aspectPolarity0 aspectCategory1 aspectPolarity1 aspectCategory2  \\\n",
       "606          neutral   miscellaneous        positive             NaN   \n",
       "1761        negative            food         neutral             NaN   \n",
       "2045        positive           place         neutral             NaN   \n",
       "\n",
       "     aspectPolarity2 aspectCategory3 aspectPolarity3 aspectCategory4  \\\n",
       "606              NaN             NaN             NaN             NaN   \n",
       "1761             NaN             NaN             NaN             NaN   \n",
       "2045             NaN             NaN             NaN             NaN   \n",
       "\n",
       "     aspectPolarity4  \n",
       "606              NaN  \n",
       "1761             NaN  \n",
       "2045             NaN  "
      ]
     },
     "execution_count": 67,
     "metadata": {},
     "output_type": "execute_result"
    }
   ],
   "source": [
    "df_corpus = pd.DataFrame(corpus).transpose()\n",
    "df_corpus.sample(3)"
   ]
  },
  {
   "cell_type": "code",
   "execution_count": 72,
   "id": "sacred-evening",
   "metadata": {},
   "outputs": [],
   "source": [
    "def tokenize(text):\n",
    "    lda_tokens = []\n",
    "    tokens = parser(text)\n",
    "    for token in tokens:\n",
    "        if token.orth_.isspace():\n",
    "            continue\n",
    "        elif token.like_url:\n",
    "            lda_tokens.append('URL')\n",
    "        elif token.orth_.startswith('@'):\n",
    "            lda_tokens.append('SCREEN_NAME')\n",
    "        else:\n",
    "            lda_tokens.append(token.lower_)\n",
    "    return lda_tokens "
   ]
  },
  {
   "cell_type": "code",
   "execution_count": 92,
   "id": "comfortable-england",
   "metadata": {},
   "outputs": [
    {
     "name": "stdout",
     "output_type": "stream",
     "text": [
      "['it', 'might', 'be', 'the', 'best', 'sit', 'down', 'food', 'i', \"'ve\", 'had', 'in', 'the', 'area', ',', 'so', 'if', 'you', 'are', 'going', 'to', 'the', 'upright', 'citizen', 'brigade', ',', 'or', 'the', 'garden', ',', 'it', 'could', 'be', 'just', 'the', 'place', 'for', 'you', '.']\n"
     ]
    }
   ],
   "source": [
    "print(tokenize(df_corpus['text'][0]))"
   ]
  },
  {
   "cell_type": "code",
   "execution_count": 74,
   "id": "convinced-lender",
   "metadata": {},
   "outputs": [],
   "source": [
    "def get_lemma(word):\n",
    "    lemma = wn.morphy(word)\n",
    "    if lemma is None:\n",
    "        return word\n",
    "    else:\n",
    "        return lemma"
   ]
  },
  {
   "cell_type": "code",
   "execution_count": 95,
   "id": "blank-recycling",
   "metadata": {},
   "outputs": [
    {
     "data": {
      "text/plain": [
       "'looking'"
      ]
     },
     "execution_count": 95,
     "metadata": {},
     "output_type": "execute_result"
    }
   ],
   "source": [
    "get_lemma('looking')"
   ]
  },
  {
   "cell_type": "code",
   "execution_count": 75,
   "id": "straight-rings",
   "metadata": {},
   "outputs": [],
   "source": [
    "def get_lemma2(word):\n",
    "    return WordNetLemmatizer().lemmatize(word)"
   ]
  },
  {
   "cell_type": "code",
   "execution_count": 96,
   "id": "informative-registration",
   "metadata": {},
   "outputs": [
    {
     "data": {
      "text/plain": [
       "'looking'"
      ]
     },
     "execution_count": 96,
     "metadata": {},
     "output_type": "execute_result"
    }
   ],
   "source": [
    "get_lemma2('looking')"
   ]
  },
  {
   "cell_type": "code",
   "execution_count": 77,
   "id": "optional-fortune",
   "metadata": {},
   "outputs": [],
   "source": [
    "def prepare_text_for_lda(text):\n",
    "    tokens = tokenize(text)\n",
    "    tokens = [token for token in tokens if len(token) > 4]\n",
    "    tokens = [token for token in tokens if token not in en_stop]\n",
    "    tokens = [get_lemma(token) for token in tokens]\n",
    "    return tokens"
   ]
  },
  {
   "cell_type": "code",
   "execution_count": 97,
   "id": "confidential-cookbook",
   "metadata": {},
   "outputs": [
    {
     "data": {
      "text/plain": [
       "['might', 'going', 'upright', 'citizen', 'brigade', 'garden', 'could', 'place']"
      ]
     },
     "execution_count": 97,
     "metadata": {},
     "output_type": "execute_result"
    }
   ],
   "source": [
    "prepare_text_for_lda(df_corpus['text'][0])"
   ]
  },
  {
   "cell_type": "code",
   "execution_count": 98,
   "id": "heated-hurricane",
   "metadata": {},
   "outputs": [
    {
     "name": "stdout",
     "output_type": "stream",
     "text": [
      "['decide', 'place', 'bigger', 'portion', 'normal']\n",
      "['someone', 'trashy', 'review', 'favorite', 'coffee', 'place', 'compare', 'place', 'great']\n",
      "['brand', 'gloss', 'table', 'waiter', 'throw']\n",
      "['intrigue', 'ambience', 'restaurant', 'friend', 'decide', 'dinner', 'paladar', 'saturday', 'night']\n",
      "['chance', 'garden', 'hop', 'happy', 'slopers', 'sip', 'wine', 'start', 'bottle', 'munch', 'dozen', 'kind', 'press', 'sandwich']\n",
      "['worst', 'service', 'enter', 'restaurant', 'wait', 'minutes', 'deciding', 'extremely', 'small', 'waitress']\n",
      "['along', 'every', 'patron', 'force', 'overcrowd', 'employee', 'carry', 'chair', 'head', 'prepare', 'dinner', 'shoulder', 'shoulder', 'stand', 'cattle', 'waiting']\n",
      "['saying', 'dinner', 'actually', 'take', 'service']\n",
      "['friend', 'dinner', 'walk', 'stay', 'decor', 'charm', 'want', 'french']\n",
      "['service', 'inadequate', 'warn', 'bring', 'ready-', 'order', 'serve', 'order', 'entree']\n",
      "['treat', 'instead', 'snooty', 'attitude', 'waiter', 'maitre', 'dinner', 'could']\n",
      "['end', 'hanging', 'hours', 'staff', 'know', 'years']\n",
      "['dinner', 'drink', 'pleasant', 'start', 'although', 'wait', 'table', 'ready']\n",
      "['service', 'limited', 'selection', 'occasionally', 'might', 'consider', 'dining']\n",
      "['diner', 'feature', 'everything', 'matzo', 'ball', 'barbecue', 'chicken', 'ounce', 'burger', 'available']\n",
      "['disappoint', 'selection', 'restaurant', 'include', 'steak', 'entree', 'impress', 'actual', 'food-', 'everything', 'good-', 'fresh', 'innovative-', 'saffron', 'risotto', 'powerful', 'entree']\n",
      "['curry', 'another', 'highlight', 'several', 'choice', 'include', 'coconut', 'lemongrass', 'leaf', 'onion', 'pepper', 'spicy', 'chili', 'sauce']\n",
      "['quick', 'lunch', 'end', 'stay', 'chat', 'owner', 'waiter', 'hours']\n",
      "['price', 'dinner', 'surprise']\n",
      "['festive', 'serve', 'gigantic', 'american', 'classics', 'chili', 'burger', 'salad', 'bake', 'potato', 'wings', 'philly', 'cheesesteaks', 'sandwich']\n",
      "['decor', 'mediocre', 'honestly', 'better', 'brunch', 'cracker', 'barrel', 'restaurant']\n",
      "['group', 'complain', 'waiter', 'cutting', 'involve', 'cutting', 'manager', 'table', 'basically', 'fault', 'knowing', 'policy', 'serve', 'plate']\n",
      "['manager', 'stop', 'dessert']\n",
      "['restaurant', 'average', 'small']\n",
      "['kimchi', 'side', 'mix', 'waitress', 'double', 'order', 'bulgogi', 'instead', 'single', 'order', 'different', 'meat']\n",
      "['without', 'hiccup', 'service', 'seem', 'amateur', 'snooty', 'review', 'nowhere', 'given', 'price']\n",
      "['large', 'party', 'people', 'initial', 'drink', 'include', 'couple', 'bottle', 'order', 'take', 'waiter', 'busboy']\n",
      "['ask', 'elderly', 'manager', 'eating', 'joke', 'really', 'refer', 'someone', 'basically', 'repeat', 'write']\n",
      "['lovely', 'place', 'chinese', 'clean', 'presentation', 'sizeable', 'french', 'twist']\n",
      "['dinner', 'better', 'service', 'better', 'atmosphere']\n",
      "['refuse', 'charge', 'price', 'plain', 'noodle', 'broth', 'veggie', 'noodle']\n",
      "['thing', 'third', 'alien', 'friendly', 'table']\n",
      "['waitress', 'ask', 'want', 'anything', 'check', 'quickly', 'scoop', 'finish']\n",
      "['service', 'glass', 'water']\n",
      "['sangria', 'serve', 'quickly', 'often']\n",
      "['small', 'quaint', 'place', 'expectation', 'check', 'anything', 'going', 'serious']\n",
      "['beautiful', 'clientele', 'straight', 'you#146;ll', 'random', 'famous', 'actor', 'occasion']\n",
      "['great', 'watching', 'show', 'character', 'looking']\n"
     ]
    }
   ],
   "source": [
    "text_data = []\n",
    "for i in range(len(df_corpus) - 1):\n",
    "    tokens = prepare_text_for_lda(df_corpus['text'][i])\n",
    "    if random.random() > .99:\n",
    "        print(tokens)\n",
    "        text_data.append(tokens)"
   ]
  },
  {
   "cell_type": "code",
   "execution_count": 101,
   "id": "comic-mistake",
   "metadata": {},
   "outputs": [],
   "source": [
    "dictionary = corpora.Dictionary(text_data)\n",
    "corpus = [dictionary.doc2bow(text) for text in text_data]\n",
    "\n",
    "pickle.dump(corpus, open('corpus.pkl', 'wb'))\n",
    "dictionary.save('dictionary.gensim')"
   ]
  },
  {
   "cell_type": "code",
   "execution_count": 104,
   "id": "interstate-monster",
   "metadata": {},
   "outputs": [
    {
     "name": "stdout",
     "output_type": "stream",
     "text": [
      "(0, '0.025*\"dinner\" + 0.025*\"restaurant\" + 0.025*\"decide\" + 0.025*\"friend\" + 0.025*\"intrigue\" + 0.025*\"ambience\" + 0.025*\"night\" + 0.025*\"saturday\"')\n",
      "(1, '0.027*\"dinner\" + 0.027*\"entree\" + 0.027*\"want\" + 0.027*\"quickly\" + 0.014*\"restaurant\" + 0.014*\"selection\" + 0.014*\"include\" + 0.014*\"decor\"')\n",
      "(2, '0.043*\"manager\" + 0.030*\"cutting\" + 0.030*\"basically\" + 0.016*\"table\" + 0.016*\"serve\" + 0.016*\"waiter\" + 0.016*\"ask\" + 0.016*\"someone\"')\n",
      "(3, '0.024*\"restaurant\" + 0.024*\"shoulder\" + 0.024*\"service\" + 0.013*\"dinner\" + 0.013*\"take\" + 0.013*\"small\" + 0.013*\"drink\" + 0.013*\"prepare\"')\n",
      "(4, '0.038*\"place\" + 0.026*\"service\" + 0.026*\"order\" + 0.026*\"review\" + 0.014*\"price\" + 0.014*\"great\" + 0.014*\"serve\" + 0.014*\"snooty\"')\n",
      "(5, '0.029*\"dinner\" + 0.029*\"order\" + 0.029*\"better\" + 0.029*\"noodle\" + 0.015*\"price\" + 0.015*\"table\" + 0.015*\"waitress\" + 0.015*\"instead\"')\n",
      "(6, '0.024*\"small\" + 0.024*\"waiter\" + 0.024*\"anything\" + 0.024*\"stay\" + 0.024*\"check\" + 0.024*\"place\" + 0.024*\"end\" + 0.024*\"hours\"')\n",
      "(7, '0.028*\"service\" + 0.028*\"sandwich\" + 0.015*\"serve\" + 0.015*\"start\" + 0.015*\"bottle\" + 0.015*\"burger\" + 0.015*\"chili\" + 0.015*\"garden\"')\n"
     ]
    }
   ],
   "source": [
    "NUM_TOPICS = 8\n",
    "ldamodel = gensim.models.ldamodel.LdaModel(corpus, num_topics = NUM_TOPICS, id2word=dictionary, passes=15)\n",
    "ldamodel.save('model5.gensim')\n",
    "\n",
    "topics = ldamodel.print_topics(num_words = 8)\n",
    "for topic in topics:\n",
    "    print(topic)"
   ]
  },
  {
   "cell_type": "code",
   "execution_count": null,
   "id": "lucky-torture",
   "metadata": {},
   "outputs": [],
   "source": []
  }
 ],
 "metadata": {
  "kernelspec": {
   "display_name": "Python 3",
   "language": "python",
   "name": "python3"
  },
  "language_info": {
   "codemirror_mode": {
    "name": "ipython",
    "version": 3
   },
   "file_extension": ".py",
   "mimetype": "text/x-python",
   "name": "python",
   "nbconvert_exporter": "python",
   "pygments_lexer": "ipython3",
   "version": "3.8.3"
  }
 },
 "nbformat": 4,
 "nbformat_minor": 5
}
