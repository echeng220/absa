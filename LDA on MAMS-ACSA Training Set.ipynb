{
 "cells": [
  {
   "cell_type": "code",
   "execution_count": 1,
   "id": "extended-rotation",
   "metadata": {
    "scrolled": false
   },
   "outputs": [
    {
     "name": "stderr",
     "output_type": "stream",
     "text": [
      "[nltk_data] Downloading package wordnet to\n",
      "[nltk_data]     C:\\Users\\Evan\\AppData\\Roaming\\nltk_data...\n",
      "[nltk_data]   Package wordnet is already up-to-date!\n"
     ]
    }
   ],
   "source": [
    "import xml.etree.ElementTree as et\n",
    "import pandas as pd\n",
    "import random\n",
    "import pickle\n",
    "import matplotlib.pyplot as plt\n",
    "\n",
    "import spacy\n",
    "spacy.load('en_core_web_sm')\n",
    "from spacy.lang.en import English\n",
    "parser  = English()\n",
    "\n",
    "import nltk\n",
    "nltk.download('wordnet')\n",
    "from nltk.corpus import wordnet as wn\n",
    "from nltk.stem.wordnet import WordNetLemmatizer\n",
    "from nltk.sentiment.vader import SentimentIntensityAnalyzer\n",
    "\n",
    "import gensim\n",
    "from gensim import corpora\n",
    "from gensim.models import TfidfModel\n",
    "\n",
    "import pyLDAvis.gensim_models\n",
    "\n",
    "import warnings\n",
    "warnings.filterwarnings(\"ignore\", category=DeprecationWarning)\n",
    "\n",
    "from operator import itemgetter\n",
    "\n",
    "from transformers import pipeline"
   ]
  },
  {
   "cell_type": "markdown",
   "id": "underlying-doctrine",
   "metadata": {},
   "source": [
    "# Data Collection:"
   ]
  },
  {
   "cell_type": "code",
   "execution_count": 2,
   "id": "crude-resource",
   "metadata": {},
   "outputs": [],
   "source": [
    "#initialize element tree to get training examples from .xml file\n",
    "tree = et.parse('train.xml')\n",
    "root = tree.getroot()"
   ]
  },
  {
   "cell_type": "markdown",
   "id": "considerable-combination",
   "metadata": {},
   "source": [
    "Here, I'm just exploring how to access elements of the .xml file."
   ]
  },
  {
   "cell_type": "code",
   "execution_count": 3,
   "id": "regulation-donor",
   "metadata": {},
   "outputs": [
    {
     "data": {
      "text/plain": [
       "'sentences'"
      ]
     },
     "execution_count": 3,
     "metadata": {},
     "output_type": "execute_result"
    }
   ],
   "source": [
    "root.tag"
   ]
  },
  {
   "cell_type": "code",
   "execution_count": 4,
   "id": "temporal-auditor",
   "metadata": {},
   "outputs": [
    {
     "data": {
      "text/plain": [
       "'aspectCategories'"
      ]
     },
     "execution_count": 4,
     "metadata": {},
     "output_type": "execute_result"
    }
   ],
   "source": [
    "root[0][1].tag"
   ]
  },
  {
   "cell_type": "code",
   "execution_count": 5,
   "id": "automatic-neighbor",
   "metadata": {},
   "outputs": [
    {
     "data": {
      "text/plain": [
       "2"
      ]
     },
     "execution_count": 5,
     "metadata": {},
     "output_type": "execute_result"
    }
   ],
   "source": [
    "len(root[0][1])"
   ]
  },
  {
   "cell_type": "code",
   "execution_count": 6,
   "id": "charged-teddy",
   "metadata": {},
   "outputs": [
    {
     "data": {
      "text/plain": [
       "\"It might be the best sit down food I've had in the area, so if you are going to the upright citizen brigade, or the garden, it could be just the place for you.\""
      ]
     },
     "execution_count": 6,
     "metadata": {},
     "output_type": "execute_result"
    }
   ],
   "source": [
    "root[0][0].text"
   ]
  },
  {
   "cell_type": "code",
   "execution_count": 7,
   "id": "reverse-elite",
   "metadata": {},
   "outputs": [
    {
     "data": {
      "text/plain": [
       "'food'"
      ]
     },
     "execution_count": 7,
     "metadata": {},
     "output_type": "execute_result"
    }
   ],
   "source": [
    "root[0][1][0].attrib['category']"
   ]
  },
  {
   "cell_type": "code",
   "execution_count": 8,
   "id": "subsequent-republic",
   "metadata": {},
   "outputs": [
    {
     "data": {
      "text/plain": [
       "3149"
      ]
     },
     "execution_count": 8,
     "metadata": {},
     "output_type": "execute_result"
    }
   ],
   "source": [
    "len(root)"
   ]
  },
  {
   "cell_type": "code",
   "execution_count": 9,
   "id": "latter-community",
   "metadata": {},
   "outputs": [
    {
     "name": "stdout",
     "output_type": "stream",
     "text": [
      "Most aspect categories in a single document:  5\n"
     ]
    }
   ],
   "source": [
    "#What is the most categories contained in a single review?\n",
    "m = len(root) - 1\n",
    "max_aspects = 0\n",
    "\n",
    "for i in range(m):\n",
    "    if len(root[i][1]) > max_aspects:\n",
    "        max_aspects = len(root[i][1])\n",
    "\n",
    "print('Most aspect categories in a single document: ', max_aspects)"
   ]
  },
  {
   "cell_type": "code",
   "execution_count": 10,
   "id": "distinct-anatomy",
   "metadata": {},
   "outputs": [],
   "source": [
    "#For every training example, we collect sentiments for every category, adding the text and sentiments to the \"corpus\".\n",
    "#We also find all the unique categories in the training set, appending the to the \"categories\" list\n",
    "\n",
    "corpus = {}\n",
    "categories = []\n",
    "\n",
    "for i in range(m):\n",
    "    doc = {}\n",
    "    doc.update({'text': root[i][0].text})\n",
    "    tmp = {}\n",
    "    for j in range(len(root[i][1])):\n",
    "        if root[i][1][j].attrib['category'] not in categories:\n",
    "            categories.append(root[i][1][j].attrib['category'])\n",
    "        tmp.update({root[i][1][j].attrib['category']: root[i][1][j].attrib['polarity']})\n",
    "    doc.update({'sentiment': tmp})\n",
    "    corpus.update({i: doc})"
   ]
  },
  {
   "cell_type": "code",
   "execution_count": 11,
   "id": "statewide-gregory",
   "metadata": {
    "scrolled": true
   },
   "outputs": [
    {
     "data": {
      "text/plain": [
       "{'text': \"It might be the best sit down food I've had in the area, so if you are going to the upright citizen brigade, or the garden, it could be just the place for you.\",\n",
       " 'sentiment': {'food': 'positive', 'place': 'neutral'}}"
      ]
     },
     "execution_count": 11,
     "metadata": {},
     "output_type": "execute_result"
    }
   ],
   "source": [
    "corpus[0]"
   ]
  },
  {
   "cell_type": "code",
   "execution_count": 12,
   "id": "ranging-binary",
   "metadata": {
    "scrolled": true
   },
   "outputs": [
    {
     "name": "stdout",
     "output_type": "stream",
     "text": [
      "The unique categories in the training set are:\n",
      " ['food', 'place', 'staff', 'miscellaneous', 'service', 'price', 'menu', 'ambience']\n"
     ]
    }
   ],
   "source": [
    "print('The unique categories in the training set are:\\n', categories)"
   ]
  },
  {
   "cell_type": "code",
   "execution_count": 13,
   "id": "latin-delaware",
   "metadata": {},
   "outputs": [],
   "source": [
    "def encode_category(sentiments, category):\n",
    "    \"\"\"Return the sentiment for a specific category in a dictionary where the keys are the categories, \n",
    "    and the values are the sentiments for that category.\"\"\"\n",
    "    if category in sentiments.keys():\n",
    "        output = sentiments[category]\n",
    "    else:\n",
    "        output = None\n",
    "    return output"
   ]
  },
  {
   "cell_type": "code",
   "execution_count": 14,
   "id": "southern-racing",
   "metadata": {
    "scrolled": true
   },
   "outputs": [
    {
     "data": {
      "text/html": [
       "<div>\n",
       "<style scoped>\n",
       "    .dataframe tbody tr th:only-of-type {\n",
       "        vertical-align: middle;\n",
       "    }\n",
       "\n",
       "    .dataframe tbody tr th {\n",
       "        vertical-align: top;\n",
       "    }\n",
       "\n",
       "    .dataframe thead th {\n",
       "        text-align: right;\n",
       "    }\n",
       "</style>\n",
       "<table border=\"1\" class=\"dataframe\">\n",
       "  <thead>\n",
       "    <tr style=\"text-align: right;\">\n",
       "      <th></th>\n",
       "      <th>text</th>\n",
       "      <th>sentiment</th>\n",
       "      <th>food</th>\n",
       "      <th>place</th>\n",
       "      <th>staff</th>\n",
       "      <th>miscellaneous</th>\n",
       "      <th>service</th>\n",
       "      <th>price</th>\n",
       "      <th>menu</th>\n",
       "      <th>ambience</th>\n",
       "    </tr>\n",
       "  </thead>\n",
       "  <tbody>\n",
       "    <tr>\n",
       "      <th>0</th>\n",
       "      <td>It might be the best sit down food I've had in...</td>\n",
       "      <td>{'food': 'positive', 'place': 'neutral'}</td>\n",
       "      <td>positive</td>\n",
       "      <td>neutral</td>\n",
       "      <td>None</td>\n",
       "      <td>None</td>\n",
       "      <td>None</td>\n",
       "      <td>None</td>\n",
       "      <td>None</td>\n",
       "      <td>None</td>\n",
       "    </tr>\n",
       "    <tr>\n",
       "      <th>1</th>\n",
       "      <td>Hostess was extremely accommodating when we ar...</td>\n",
       "      <td>{'staff': 'positive', 'miscellaneous': 'neutral'}</td>\n",
       "      <td>None</td>\n",
       "      <td>None</td>\n",
       "      <td>positive</td>\n",
       "      <td>neutral</td>\n",
       "      <td>None</td>\n",
       "      <td>None</td>\n",
       "      <td>None</td>\n",
       "      <td>None</td>\n",
       "    </tr>\n",
       "    <tr>\n",
       "      <th>2</th>\n",
       "      <td>We were a couple of minutes late for our reser...</td>\n",
       "      <td>{'miscellaneous': 'neutral', 'staff': 'negative'}</td>\n",
       "      <td>None</td>\n",
       "      <td>None</td>\n",
       "      <td>negative</td>\n",
       "      <td>neutral</td>\n",
       "      <td>None</td>\n",
       "      <td>None</td>\n",
       "      <td>None</td>\n",
       "      <td>None</td>\n",
       "    </tr>\n",
       "    <tr>\n",
       "      <th>3</th>\n",
       "      <td>Though the service might be a little slow, the...</td>\n",
       "      <td>{'service': 'negative', 'staff': 'positive'}</td>\n",
       "      <td>None</td>\n",
       "      <td>None</td>\n",
       "      <td>positive</td>\n",
       "      <td>None</td>\n",
       "      <td>negative</td>\n",
       "      <td>None</td>\n",
       "      <td>None</td>\n",
       "      <td>None</td>\n",
       "    </tr>\n",
       "    <tr>\n",
       "      <th>4</th>\n",
       "      <td>Although we arrived at the restaurant 10 min l...</td>\n",
       "      <td>{'staff': 'negative', 'miscellaneous': 'neutral'}</td>\n",
       "      <td>None</td>\n",
       "      <td>None</td>\n",
       "      <td>negative</td>\n",
       "      <td>neutral</td>\n",
       "      <td>None</td>\n",
       "      <td>None</td>\n",
       "      <td>None</td>\n",
       "      <td>None</td>\n",
       "    </tr>\n",
       "  </tbody>\n",
       "</table>\n",
       "</div>"
      ],
      "text/plain": [
       "                                                text  \\\n",
       "0  It might be the best sit down food I've had in...   \n",
       "1  Hostess was extremely accommodating when we ar...   \n",
       "2  We were a couple of minutes late for our reser...   \n",
       "3  Though the service might be a little slow, the...   \n",
       "4  Although we arrived at the restaurant 10 min l...   \n",
       "\n",
       "                                           sentiment      food    place  \\\n",
       "0           {'food': 'positive', 'place': 'neutral'}  positive  neutral   \n",
       "1  {'staff': 'positive', 'miscellaneous': 'neutral'}      None     None   \n",
       "2  {'miscellaneous': 'neutral', 'staff': 'negative'}      None     None   \n",
       "3       {'service': 'negative', 'staff': 'positive'}      None     None   \n",
       "4  {'staff': 'negative', 'miscellaneous': 'neutral'}      None     None   \n",
       "\n",
       "      staff miscellaneous   service price  menu ambience  \n",
       "0      None          None      None  None  None     None  \n",
       "1  positive       neutral      None  None  None     None  \n",
       "2  negative       neutral      None  None  None     None  \n",
       "3  positive          None  negative  None  None     None  \n",
       "4  negative       neutral      None  None  None     None  "
      ]
     },
     "execution_count": 14,
     "metadata": {},
     "output_type": "execute_result"
    }
   ],
   "source": [
    "#Create a dataframe of the corpus, with a new column for each category and its sentiment\n",
    "train_df = pd.DataFrame(corpus).transpose()\n",
    "\n",
    "for cat in categories:\n",
    "    train_df[f'{cat}'] = train_df['sentiment'].apply(lambda x: encode_category(x, cat))\n",
    "train_df.head()"
   ]
  },
  {
   "cell_type": "markdown",
   "id": "common-letter",
   "metadata": {},
   "source": [
    "# Data Visualization:"
   ]
  },
  {
   "cell_type": "code",
   "execution_count": 15,
   "id": "noted-conservation",
   "metadata": {},
   "outputs": [],
   "source": [
    "assert train_df['sentiment'].isna().sum() == 0"
   ]
  },
  {
   "cell_type": "code",
   "execution_count": 16,
   "id": "competitive-literacy",
   "metadata": {
    "scrolled": true
   },
   "outputs": [],
   "source": [
    "#tally sentiments for each category in the training set\n",
    "counts = {}\n",
    "for cat in categories:\n",
    "    counts.update({cat: dict(train_df[f'{cat}'].value_counts())})"
   ]
  },
  {
   "cell_type": "code",
   "execution_count": 17,
   "id": "capable-anniversary",
   "metadata": {
    "scrolled": true
   },
   "outputs": [
    {
     "data": {
      "text/html": [
       "<div>\n",
       "<style scoped>\n",
       "    .dataframe tbody tr th:only-of-type {\n",
       "        vertical-align: middle;\n",
       "    }\n",
       "\n",
       "    .dataframe tbody tr th {\n",
       "        vertical-align: top;\n",
       "    }\n",
       "\n",
       "    .dataframe thead th {\n",
       "        text-align: right;\n",
       "    }\n",
       "</style>\n",
       "<table border=\"1\" class=\"dataframe\">\n",
       "  <thead>\n",
       "    <tr style=\"text-align: right;\">\n",
       "      <th></th>\n",
       "      <th>neutral</th>\n",
       "      <th>positive</th>\n",
       "      <th>negative</th>\n",
       "    </tr>\n",
       "  </thead>\n",
       "  <tbody>\n",
       "    <tr>\n",
       "      <th>food</th>\n",
       "      <td>1298</td>\n",
       "      <td>753</td>\n",
       "      <td>255</td>\n",
       "    </tr>\n",
       "    <tr>\n",
       "      <th>place</th>\n",
       "      <td>430</td>\n",
       "      <td>125</td>\n",
       "      <td>139</td>\n",
       "    </tr>\n",
       "    <tr>\n",
       "      <th>staff</th>\n",
       "      <td>129</td>\n",
       "      <td>332</td>\n",
       "      <td>921</td>\n",
       "    </tr>\n",
       "    <tr>\n",
       "      <th>miscellaneous</th>\n",
       "      <td>531</td>\n",
       "      <td>227</td>\n",
       "      <td>196</td>\n",
       "    </tr>\n",
       "    <tr>\n",
       "      <th>service</th>\n",
       "      <td>128</td>\n",
       "      <td>174</td>\n",
       "      <td>329</td>\n",
       "    </tr>\n",
       "    <tr>\n",
       "      <th>price</th>\n",
       "      <td>136</td>\n",
       "      <td>72</td>\n",
       "      <td>114</td>\n",
       "    </tr>\n",
       "    <tr>\n",
       "      <th>menu</th>\n",
       "      <td>372</td>\n",
       "      <td>64</td>\n",
       "      <td>39</td>\n",
       "    </tr>\n",
       "    <tr>\n",
       "      <th>ambience</th>\n",
       "      <td>53</td>\n",
       "      <td>181</td>\n",
       "      <td>90</td>\n",
       "    </tr>\n",
       "  </tbody>\n",
       "</table>\n",
       "</div>"
      ],
      "text/plain": [
       "               neutral  positive  negative\n",
       "food              1298       753       255\n",
       "place              430       125       139\n",
       "staff              129       332       921\n",
       "miscellaneous      531       227       196\n",
       "service            128       174       329\n",
       "price              136        72       114\n",
       "menu               372        64        39\n",
       "ambience            53       181        90"
      ]
     },
     "execution_count": 17,
     "metadata": {},
     "output_type": "execute_result"
    }
   ],
   "source": [
    "count_df = pd.DataFrame(counts).transpose()\n",
    "count_df"
   ]
  },
  {
   "cell_type": "code",
   "execution_count": 18,
   "id": "blocked-sewing",
   "metadata": {},
   "outputs": [
    {
     "data": {
      "image/png": "[encoded data removed]",
      "text/plain": [
       "<Figure size 432x288 with 1 Axes>"
      ]
     },
     "metadata": {
      "needs_background": "light"
     },
     "output_type": "display_data"
    }
   ],
   "source": [
    "count_df.plot(kind = 'bar', color = ['grey', 'springgreen', 'lightcoral'], edgecolor = 'dimgrey')\n",
    "plt.xticks(rotation = 30);\n",
    "plt.title('Distribution of Sentiments for Each Aspect Category');"
   ]
  },
  {
   "cell_type": "markdown",
   "id": "czech-basic",
   "metadata": {},
   "source": [
    "#### Insight: \n",
    "'menu' has hardly any meaningful reviews, so we can combine it with 'food'. 'ambience' & 'place', and 'staff' & 'service' are very similar topics which may be difficult for an LDA topic model to distinguish. Since 'ambience' and 'service' have relatively few occurrences, we will combine these very similar topics. \n",
    "\n",
    "Therefore, instead of the original 8 aspect categories from the MAMS paper, let's use 5:\n",
    "- food (food+menu)\n",
    "- service (service+staff)\n",
    "- miscellaneous\n",
    "- place (place+ambience) \n",
    "- price\n",
    "\n",
    "# Naive Classifier:"
   ]
  },
  {
   "cell_type": "code",
   "execution_count": 19,
   "id": "magnetic-female",
   "metadata": {},
   "outputs": [
    {
     "name": "stdout",
     "output_type": "stream",
     "text": [
      "Count of most frequent aspect category and sentiment combination:  1298\n"
     ]
    }
   ],
   "source": [
    "#determine most common aspect category and sentiment in the corpus\n",
    "naive_count = count_df.max().max()\n",
    "print('Count of most frequent aspect category and sentiment combination: ', naive_count)"
   ]
  },
  {
   "cell_type": "code",
   "execution_count": 20,
   "id": "coastal-whale",
   "metadata": {},
   "outputs": [
    {
     "name": "stdout",
     "output_type": "stream",
     "text": [
      "Accuracy of Naive Classifier: 41.23253 %\n"
     ]
    }
   ],
   "source": [
    "#calculate accuracy of naive classifier that just assumes the most commonly occuring aspect category and sentiment combination\n",
    "print(f'Accuracy of Naive Classifier: {round(naive_count / len(train_df) * 100, 5)} %')"
   ]
  },
  {
   "cell_type": "markdown",
   "id": "complimentary-teaching",
   "metadata": {},
   "source": [
    "# Text Cleaning & Pre-Processing:\n",
    "https://towardsdatascience.com/topic-modelling-in-python-with-nltk-and-gensim-4ef03213cd21"
   ]
  },
  {
   "cell_type": "markdown",
   "id": "acquired-station",
   "metadata": {},
   "source": [
    "## Tokenization:"
   ]
  },
  {
   "cell_type": "code",
   "execution_count": 21,
   "id": "sacred-evening",
   "metadata": {},
   "outputs": [],
   "source": [
    "def tokenize(text):\n",
    "    \"\"\"Creates tokens for LDA model. Passes over all whitespaces, adds special tokens for URLs and screen names. \n",
    "    Puts all tokens in lower case.\"\"\"\n",
    "    lda_tokens = []\n",
    "    tokens = parser(text)\n",
    "    for token in tokens:\n",
    "        if token.orth_.isspace():\n",
    "            continue\n",
    "        elif token.like_url:\n",
    "            lda_tokens.append('URL')\n",
    "        elif token.orth_.startswith('@'):\n",
    "            lda_tokens.append('SCREEN_NAME')\n",
    "        else:\n",
    "            lda_tokens.append(token.lower_)\n",
    "    return lda_tokens "
   ]
  },
  {
   "cell_type": "code",
   "execution_count": 22,
   "id": "married-butler",
   "metadata": {},
   "outputs": [
    {
     "data": {
      "text/plain": [
       "spacy.tokens.doc.Doc"
      ]
     },
     "execution_count": 22,
     "metadata": {},
     "output_type": "execute_result"
    }
   ],
   "source": [
    "test_parse = parser(train_df['text'][0])\n",
    "type(test_parse)"
   ]
  },
  {
   "cell_type": "code",
   "execution_count": 23,
   "id": "apparent-truth",
   "metadata": {},
   "outputs": [
    {
     "name": "stdout",
     "output_type": "stream",
     "text": [
      "It | <class 'spacy.tokens.token.Token'> | It | False | it\n",
      "might | <class 'spacy.tokens.token.Token'> | might | False | might\n",
      "be | <class 'spacy.tokens.token.Token'> | be | False | be\n",
      "the | <class 'spacy.tokens.token.Token'> | the | False | the\n",
      "best | <class 'spacy.tokens.token.Token'> | best | False | best\n"
     ]
    }
   ],
   "source": [
    "#See what happens at each step of the tokenize() function:\n",
    "for token in test_parse[0:5]:\n",
    "    print(token, '|', type(token), '|', token.orth_, '|', token.orth_.isspace(), '|', token.lower_)"
   ]
  },
  {
   "cell_type": "code",
   "execution_count": 24,
   "id": "comfortable-england",
   "metadata": {},
   "outputs": [
    {
     "name": "stdout",
     "output_type": "stream",
     "text": [
      "['it', 'might', 'be', 'the', 'best', 'sit', 'down', 'food', 'i', \"'ve\", 'had', 'in', 'the', 'area', ',', 'so', 'if', 'you', 'are', 'going', 'to', 'the', 'upright', 'citizen', 'brigade', ',', 'or', 'the', 'garden', ',', 'it', 'could', 'be', 'just', 'the', 'place', 'for', 'you', '.']\n"
     ]
    }
   ],
   "source": [
    "print(tokenize(train_df['text'][0]))"
   ]
  },
  {
   "cell_type": "code",
   "execution_count": 25,
   "id": "convinced-lender",
   "metadata": {},
   "outputs": [],
   "source": [
    "def get_lemma(word):\n",
    "    \"\"\"Lemmatize (get root word) for a given word.\"\"\"\n",
    "    lemma = wn.morphy(word)\n",
    "    if lemma is None:\n",
    "        return word\n",
    "    else:\n",
    "        return lemma"
   ]
  },
  {
   "cell_type": "code",
   "execution_count": 26,
   "id": "blank-recycling",
   "metadata": {},
   "outputs": [
    {
     "data": {
      "text/plain": [
       "'present'"
      ]
     },
     "execution_count": 26,
     "metadata": {},
     "output_type": "execute_result"
    }
   ],
   "source": [
    "get_lemma('presented')"
   ]
  },
  {
   "cell_type": "code",
   "execution_count": 27,
   "id": "straight-rings",
   "metadata": {},
   "outputs": [],
   "source": [
    "def get_lemma2(word):\n",
    "    \"\"\"More lemmatization.\"\"\"\n",
    "    return WordNetLemmatizer().lemmatize(word)"
   ]
  },
  {
   "cell_type": "code",
   "execution_count": 28,
   "id": "informative-registration",
   "metadata": {},
   "outputs": [
    {
     "data": {
      "text/plain": [
       "'foot'"
      ]
     },
     "execution_count": 28,
     "metadata": {},
     "output_type": "execute_result"
    }
   ],
   "source": [
    "get_lemma2('feet')"
   ]
  },
  {
   "cell_type": "code",
   "execution_count": 29,
   "id": "gothic-march",
   "metadata": {},
   "outputs": [
    {
     "name": "stderr",
     "output_type": "stream",
     "text": [
      "[nltk_data] Downloading package stopwords to\n",
      "[nltk_data]     C:\\Users\\Evan\\AppData\\Roaming\\nltk_data...\n",
      "[nltk_data]   Package stopwords is already up-to-date!\n"
     ]
    }
   ],
   "source": [
    "#download stopwords\n",
    "nltk.download('stopwords')\n",
    "en_stop = set(nltk.corpus.stopwords.words('english'))"
   ]
  },
  {
   "cell_type": "code",
   "execution_count": 30,
   "id": "optional-fortune",
   "metadata": {},
   "outputs": [],
   "source": [
    "def prepare_text_for_lda(text):\n",
    "    \"\"\"Generate list of tokens, keeping all tokens that are >2 characters, and are not in the stopword list.\n",
    "    Lemmatize each token.\"\"\"\n",
    "    tokens = tokenize(text)\n",
    "    tokens = [token for token in tokens if len(token) > 2 and \"'\" not in token]\n",
    "    tokens = [token for token in tokens if token not in en_stop]\n",
    "    tokens = [get_lemma(token) for token in tokens]\n",
    "    return tokens"
   ]
  },
  {
   "cell_type": "code",
   "execution_count": 31,
   "id": "confidential-cookbook",
   "metadata": {
    "scrolled": true
   },
   "outputs": [
    {
     "name": "stdout",
     "output_type": "stream",
     "text": [
      "BEFORE PRE-PROCESSING: It might be the best sit down food I've had in the area, so if you are going to the upright citizen brigade, or the garden, it could be just the place for you. \n",
      "\n",
      "AFTER PRE-PROCESSING: ['might', 'best', 'sit', 'food', 'area', 'going', 'upright', 'citizen', 'brigade', 'garden', 'could', 'place']\n"
     ]
    }
   ],
   "source": [
    "print(f\"BEFORE PRE-PROCESSING: {train_df['text'][0]} \\n\\nAFTER PRE-PROCESSING: {prepare_text_for_lda(train_df['text'][0])}\")"
   ]
  },
  {
   "cell_type": "code",
   "execution_count": 32,
   "id": "heated-hurricane",
   "metadata": {
    "scrolled": true
   },
   "outputs": [],
   "source": [
    "#pre-process all documents in the training set\n",
    "text_data = []\n",
    "for i in range(len(train_df)):\n",
    "    tokens = prepare_text_for_lda(train_df['text'][i])\n",
    "    text_data.append(tokens)"
   ]
  },
  {
   "cell_type": "code",
   "execution_count": 33,
   "id": "twelve-bahamas",
   "metadata": {
    "scrolled": true
   },
   "outputs": [
    {
     "data": {
      "text/plain": [
       "(list,\n",
       " 3148,\n",
       " ['food', 'awesome', 'deal', 'wait', 'staff', 'hardly', 'ever', 'find'])"
      ]
     },
     "execution_count": 33,
     "metadata": {},
     "output_type": "execute_result"
    }
   ],
   "source": [
    "type(text_data), len(text_data), text_data[777]"
   ]
  },
  {
   "cell_type": "markdown",
   "id": "productive-spread",
   "metadata": {},
   "source": [
    "## Bag-of-Words Representation:"
   ]
  },
  {
   "cell_type": "code",
   "execution_count": 34,
   "id": "starting-injection",
   "metadata": {},
   "outputs": [],
   "source": [
    "#create a dictionary (vocabulary) of the corpus, and a bag-of-words representation of the corpus\n",
    "dictionary = corpora.Dictionary(text_data)\n",
    "corpus = [dictionary.doc2bow(text) for text in text_data]"
   ]
  },
  {
   "cell_type": "code",
   "execution_count": 32,
   "id": "comic-mistake",
   "metadata": {},
   "outputs": [],
   "source": [
    "#DON'T RUN IF YOU'RE NOT TRAINING A NEW MODEL\n",
    "\n",
    "pickle.dump(corpus, open('corpus.pkl', 'wb'))\n",
    "dictionary.save('dictionary.gensim')"
   ]
  },
  {
   "cell_type": "code",
   "execution_count": 35,
   "id": "italian-jackson",
   "metadata": {},
   "outputs": [
    {
     "data": {
      "text/plain": [
       "(gensim.corpora.dictionary.Dictionary, 'area', 'citizen', 'going')"
      ]
     },
     "execution_count": 35,
     "metadata": {},
     "output_type": "execute_result"
    }
   ],
   "source": [
    "type(dictionary), dictionary[0], dictionary[3], dictionary[7]"
   ]
  },
  {
   "cell_type": "code",
   "execution_count": 36,
   "id": "initial-shepherd",
   "metadata": {
    "scrolled": true
   },
   "outputs": [
    {
     "data": {
      "text/plain": [
       "(list, 3148, 12, (0, 1), (1, 1), (2, 1), (3, 1), (12, 1), (13, 1))"
      ]
     },
     "execution_count": 36,
     "metadata": {},
     "output_type": "execute_result"
    }
   ],
   "source": [
    "type(corpus), len(corpus), len(corpus[0]), corpus[0][0], corpus[0][1], corpus[0][2], corpus[0][3], corpus[1][0], corpus[1][1]"
   ]
  },
  {
   "cell_type": "markdown",
   "id": "headed-invitation",
   "metadata": {},
   "source": [
    "Note that the corpus variable is a list. Each element is a document, and within each document, the words are represented by tuples of *(token_id, token_count)*."
   ]
  },
  {
   "cell_type": "code",
   "execution_count": 37,
   "id": "secondary-thirty",
   "metadata": {},
   "outputs": [
    {
     "name": "stdout",
     "output_type": "stream",
     "text": [
      "BoW Representation of Document 77 in corpus: \n",
      " [(40, 1), (49, 1), (130, 1), (153, 1), (279, 1), (484, 2), (485, 1), (486, 1), (487, 1)]\n"
     ]
    }
   ],
   "source": [
    "print('BoW Representation of Document 77 in corpus: \\n', corpus[77])"
   ]
  },
  {
   "cell_type": "markdown",
   "id": "formed-navigation",
   "metadata": {},
   "source": [
    "## TF-IDF Representation:"
   ]
  },
  {
   "cell_type": "code",
   "execution_count": 38,
   "id": "coated-provision",
   "metadata": {},
   "outputs": [],
   "source": [
    "#use previously created corpus to create and fit TF-IDF representation\n",
    "tfidf = TfidfModel(corpus)"
   ]
  },
  {
   "cell_type": "code",
   "execution_count": 39,
   "id": "surgical-support",
   "metadata": {},
   "outputs": [],
   "source": [
    "tfidf_corpus = [tfidf[doc] for doc in corpus]"
   ]
  },
  {
   "cell_type": "code",
   "execution_count": 40,
   "id": "heard-street",
   "metadata": {},
   "outputs": [
    {
     "name": "stdout",
     "output_type": "stream",
     "text": [
      "TF-IDF Representation of Document 77 in corpus: \n",
      " [(40, 0.16565435298419193), (49, 0.2049189573411614), (130, 0.10975058432370582), (153, 0.2653403073838501), (279, 0.22423402243831253), (484, 0.59450153024223), (485, 0.36913585009310146), (486, 0.26690997370612535), (487, 0.4867247791212905)]\n"
     ]
    }
   ],
   "source": [
    "print('TF-IDF Representation of Document 77 in corpus: \\n', tfidf_corpus[77])"
   ]
  },
  {
   "cell_type": "markdown",
   "id": "subject-favor",
   "metadata": {},
   "source": [
    "# Topic Modelling with LDA:"
   ]
  },
  {
   "cell_type": "code",
   "execution_count": 41,
   "id": "interstate-monster",
   "metadata": {},
   "outputs": [],
   "source": [
    "#DON'T RUN IF YOU'RE NOT TRAINING A NEW MODEL\n",
    "#training LDA model on BoW representation\n",
    "\n",
    "NUM_TOPICS = 5\n",
    "ldamodel = gensim.models.ldamodel.LdaModel(corpus, num_topics = NUM_TOPICS, id2word = dictionary, passes = 25)\n",
    "ldamodel.save('model5.gensim')"
   ]
  },
  {
   "cell_type": "code",
   "execution_count": 56,
   "id": "particular-story",
   "metadata": {},
   "outputs": [],
   "source": [
    "#DON'T RUN IF YOU'RE NOT TRAINING A NEW MODEL\n",
    "#training LDA model on TF-IDF representation\n",
    "\n",
    "NUM_TOPICS = 5\n",
    "ldamodel_tfidf = gensim.models.ldamodel.LdaModel(tfidf_corpus, num_topics = NUM_TOPICS, id2word = dictionary, passes = 25)\n",
    "ldamodel_tfidf.save('model5_tfidf.gensim')"
   ]
  },
  {
   "cell_type": "code",
   "execution_count": 57,
   "id": "chubby-popularity",
   "metadata": {
    "scrolled": true
   },
   "outputs": [
    {
     "name": "stdout",
     "output_type": "stream",
     "text": [
      "(0, '0.008*\"waiter\" + 0.008*\"drink\" + 0.008*\"table\" + 0.008*\"food\" + 0.008*\"service\" + 0.008*\"get\" + 0.008*\"wait\"')\n",
      "(1, '0.004*\"coming\" + 0.003*\"middle\" + 0.003*\"different\" + 0.003*\"question\" + 0.002*\"best\" + 0.002*\"pricey\" + 0.002*\"stay\"')\n",
      "(2, '0.007*\"price\" + 0.005*\"portion\" + 0.005*\"hours\" + 0.005*\"food\" + 0.005*\"good\" + 0.004*\"expect\" + 0.004*\"menu\"')\n",
      "(3, '0.004*\"red\" + 0.004*\"overall\" + 0.003*\"serve\" + 0.003*\"like\" + 0.002*\"inform\" + 0.002*\"special\" + 0.002*\"quick\"')\n",
      "(4, '0.007*\"menu\" + 0.004*\"special\" + 0.003*\"dish\" + 0.003*\"food\" + 0.003*\"cool\" + 0.003*\"chicken\" + 0.003*\"fresh\"')\n"
     ]
    }
   ],
   "source": [
    "#DON'T RUN IF YOU'RE NOT TRAINING A NEW MODEL\n",
    "#print highest probability words for each topic\n",
    "MODEL = ldamodel_tfidf\n",
    "\n",
    "topics = MODEL.print_topics(num_words = 7)\n",
    "for topic in topics:\n",
    "    print(topic)"
   ]
  },
  {
   "cell_type": "code",
   "execution_count": 58,
   "id": "alone-mainstream",
   "metadata": {},
   "outputs": [
    {
     "name": "stdout",
     "output_type": "stream",
     "text": [
      "[(29, 1), (84, 1), (121, 1), (141, 1), (238, 1), (301, 1), (522, 1)]\n",
      "[(0, 0.726576), (1, 0.025276754), (2, 0.025294088), (3, 0.02501118), (4, 0.19784199)]\n"
     ]
    }
   ],
   "source": [
    "#DON'T RUN IF YOU'RE NOT TRAINING A NEW MODEL\n",
    "#test LDA model on new document\n",
    "new_doc = \"I've never had a bad meal here, friendly staff and fresh sushi!\"\n",
    "new_doc = prepare_text_for_lda(new_doc)\n",
    "new_doc_bow = dictionary.doc2bow(new_doc)\n",
    "print(new_doc_bow)\n",
    "print(MODEL.get_document_topics(new_doc_bow))"
   ]
  },
  {
   "cell_type": "markdown",
   "id": "external-telescope",
   "metadata": {},
   "source": [
    "# Evaluate LDA Model:\n",
    "https://towardsdatascience.com/evaluate-topic-model-in-python-latent-dirichlet-allocation-lda-7d57484bb5d0"
   ]
  },
  {
   "cell_type": "code",
   "execution_count": 56,
   "id": "experimental-voice",
   "metadata": {},
   "outputs": [
    {
     "name": "stdout",
     "output_type": "stream",
     "text": [
      "Log Perplexity:  -7.479431158468904\n"
     ]
    }
   ],
   "source": [
    "#calculate log perplexity\n",
    "print('Log Perplexity: ', lda.log_perplexity(corpus))"
   ]
  },
  {
   "cell_type": "code",
   "execution_count": 38,
   "id": "intellectual-logistics",
   "metadata": {},
   "outputs": [],
   "source": [
    "from gensim.models import CoherenceModel\n",
    "import numpy as np"
   ]
  },
  {
   "cell_type": "code",
   "execution_count": 52,
   "id": "hollywood-quarterly",
   "metadata": {},
   "outputs": [],
   "source": [
    "coherence_model_lda = CoherenceModel(model = lda, texts = text_data, dictionary = dictionary, coherence = 'c_v')"
   ]
  },
  {
   "cell_type": "code",
   "execution_count": 53,
   "id": "mediterranean-instruction",
   "metadata": {},
   "outputs": [
    {
     "name": "stdout",
     "output_type": "stream",
     "text": [
      "\n",
      "Coherence Score:  0.24974523699972062\n"
     ]
    }
   ],
   "source": [
    "coherence_lda = coherence_model_lda.get_coherence()\n",
    "print('\\nCoherence Score: ', coherence_lda)"
   ]
  },
  {
   "cell_type": "code",
   "execution_count": 39,
   "id": "thrown-factor",
   "metadata": {},
   "outputs": [],
   "source": [
    "def compute_coherence(text_data, dictionary, k, alpha, eta):\n",
    "    \"\"\"For a given LDA model, and tokenized text set, compute coherence score.\"\"\"\n",
    "    lda_model = gensim.models.ldamodel.LdaModel(corpus, num_topics = k, id2word = dictionary, passes = 10, alpha = alpha, eta = eta)\n",
    "    coherence_model = CoherenceModel(model = lda_model, texts = text_data, dictionary = dictionary, coherence = 'c_v')\n",
    "    return coherence_model.get_coherence()"
   ]
  },
  {
   "cell_type": "code",
   "execution_count": 65,
   "id": "sensitive-interference",
   "metadata": {},
   "outputs": [
    {
     "data": {
      "text/plain": [
       "0.2687758650846027"
      ]
     },
     "execution_count": 65,
     "metadata": {},
     "output_type": "execute_result"
    }
   ],
   "source": [
    "compute_coherence(text_data, dictionary, 5, 0.01, 0.01)"
   ]
  },
  {
   "cell_type": "code",
   "execution_count": 68,
   "id": "designed-karen",
   "metadata": {},
   "outputs": [],
   "source": [
    "#define topic range\n",
    "min_topics = 5\n",
    "max_topics = 8\n",
    "step_size = 1\n",
    "topics_range = range(min_topics, max_topics, step_size)\n",
    "\n",
    "#define alpha range\n",
    "alpha = list(np.arange(0.01, 1, 0.3))\n",
    "alpha.append('symmetric')\n",
    "alpha.append('asymmetric')\n",
    "\n",
    "#define eta range\n",
    "eta = list(np.arange(0.01, 1, 0.3))\n",
    "eta.append('symmetric')"
   ]
  },
  {
   "cell_type": "code",
   "execution_count": 69,
   "id": "amino-attachment",
   "metadata": {},
   "outputs": [
    {
     "data": {
      "text/plain": [
       "(range(5, 8),\n",
       " [0.01, 0.31, 0.61, 0.9099999999999999, 'symmetric', 'asymmetric'],\n",
       " [0.01, 0.31, 0.61, 0.9099999999999999, 'symmetric'])"
      ]
     },
     "execution_count": 69,
     "metadata": {},
     "output_type": "execute_result"
    }
   ],
   "source": [
    "topics_range, alpha, eta"
   ]
  },
  {
   "cell_type": "code",
   "execution_count": 67,
   "id": "moved-jacob",
   "metadata": {},
   "outputs": [],
   "source": [
    "#create empty dictionary to model results\n",
    "model_results = {'topics': [], 'alpha': [], 'eta': [], 'coherence': []}"
   ]
  },
  {
   "cell_type": "code",
   "execution_count": 70,
   "id": "official-subsection",
   "metadata": {},
   "outputs": [],
   "source": [
    "#DON'T RUN IF YOU AREN'T UPDATING THE PARAMETERS TO SEARCH OVER\n",
    "#grid search over all possible parameters, calculate and store coherence score. Convert to dataframe.\n",
    "for k in topics_range:\n",
    "    for a in alpha:\n",
    "        for b in eta:\n",
    "            cv = compute_coherence(text_data = text_data, dictionary = dictionary, k = k, alpha = a, eta = b)\n",
    "            model_results['topics'].append(k)\n",
    "            model_results['alpha'].append(a)\n",
    "            model_results['eta'].append(b)\n",
    "            model_results['coherence'].append(cv)\n",
    "\n",
    "model_df = pd.DataFrame(model_results)"
   ]
  },
  {
   "cell_type": "code",
   "execution_count": 72,
   "id": "lovely-reliance",
   "metadata": {},
   "outputs": [
    {
     "data": {
      "text/html": [
       "<div>\n",
       "<style scoped>\n",
       "    .dataframe tbody tr th:only-of-type {\n",
       "        vertical-align: middle;\n",
       "    }\n",
       "\n",
       "    .dataframe tbody tr th {\n",
       "        vertical-align: top;\n",
       "    }\n",
       "\n",
       "    .dataframe thead th {\n",
       "        text-align: right;\n",
       "    }\n",
       "</style>\n",
       "<table border=\"1\" class=\"dataframe\">\n",
       "  <thead>\n",
       "    <tr style=\"text-align: right;\">\n",
       "      <th></th>\n",
       "      <th>topics</th>\n",
       "      <th>alpha</th>\n",
       "      <th>eta</th>\n",
       "      <th>coherence</th>\n",
       "    </tr>\n",
       "  </thead>\n",
       "  <tbody>\n",
       "    <tr>\n",
       "      <th>0</th>\n",
       "      <td>5</td>\n",
       "      <td>0.01</td>\n",
       "      <td>0.01</td>\n",
       "      <td>0.278506</td>\n",
       "    </tr>\n",
       "    <tr>\n",
       "      <th>1</th>\n",
       "      <td>5</td>\n",
       "      <td>0.01</td>\n",
       "      <td>0.31</td>\n",
       "      <td>0.253539</td>\n",
       "    </tr>\n",
       "    <tr>\n",
       "      <th>2</th>\n",
       "      <td>5</td>\n",
       "      <td>0.01</td>\n",
       "      <td>0.61</td>\n",
       "      <td>0.291058</td>\n",
       "    </tr>\n",
       "    <tr>\n",
       "      <th>3</th>\n",
       "      <td>5</td>\n",
       "      <td>0.01</td>\n",
       "      <td>0.91</td>\n",
       "      <td>0.323669</td>\n",
       "    </tr>\n",
       "    <tr>\n",
       "      <th>4</th>\n",
       "      <td>5</td>\n",
       "      <td>0.01</td>\n",
       "      <td>symmetric</td>\n",
       "      <td>0.245532</td>\n",
       "    </tr>\n",
       "  </tbody>\n",
       "</table>\n",
       "</div>"
      ],
      "text/plain": [
       "   topics alpha        eta  coherence\n",
       "0       5  0.01       0.01   0.278506\n",
       "1       5  0.01       0.31   0.253539\n",
       "2       5  0.01       0.61   0.291058\n",
       "3       5  0.01       0.91   0.323669\n",
       "4       5  0.01  symmetric   0.245532"
      ]
     },
     "execution_count": 72,
     "metadata": {},
     "output_type": "execute_result"
    }
   ],
   "source": [
    "model_df.head()"
   ]
  },
  {
   "cell_type": "code",
   "execution_count": 73,
   "id": "healthy-bundle",
   "metadata": {},
   "outputs": [],
   "source": [
    "#DON'T RUN IF YOU AREN'T UPDATING THE PARAMETERS TO SEARCH OVER\n",
    "#save parameter permutatioins to .pkl file\n",
    "model_df.to_pickle(\"./model_params_df.pkl\")"
   ]
  },
  {
   "cell_type": "code",
   "execution_count": 40,
   "id": "greek-exemption",
   "metadata": {},
   "outputs": [],
   "source": [
    "#START HERE TO LOAD SAVED PARAMETER PERMUTATIONS\n",
    "model_params = pd.read_pickle(\"./model_params_df.pkl\")"
   ]
  },
  {
   "cell_type": "code",
   "execution_count": 41,
   "id": "solid-satellite",
   "metadata": {},
   "outputs": [
    {
     "data": {
      "image/png": "[encoded data removed]",
      "text/plain": [
       "<Figure size 432x288 with 1 Axes>"
      ]
     },
     "metadata": {
      "needs_background": "light"
     },
     "output_type": "display_data"
    }
   ],
   "source": [
    "model_params['coherence'].plot.hist(bins = 5, alpha = 0.5);\n",
    "plt.xlabel('Coherence Score');"
   ]
  },
  {
   "cell_type": "code",
   "execution_count": 42,
   "id": "remarkable-trigger",
   "metadata": {},
   "outputs": [
    {
     "data": {
      "text/plain": [
       "{'topics': 7,\n",
       " 'alpha': 'asymmetric',\n",
       " 'eta': 0.31,\n",
       " 'coherence': 0.43441167731461944}"
      ]
     },
     "execution_count": 42,
     "metadata": {},
     "output_type": "execute_result"
    }
   ],
   "source": [
    "#get parameters where LDA model coherence score is maximized\n",
    "best_params = dict(model_params.iloc[model_params['coherence'].idxmax()])\n",
    "best_params"
   ]
  },
  {
   "cell_type": "code",
   "execution_count": 81,
   "id": "narrow-original",
   "metadata": {},
   "outputs": [],
   "source": [
    "#train LDA model using best parameters\n",
    "best_lda = gensim.models.ldamodel.LdaModel(\n",
    "                                            corpus, \n",
    "                                            num_topics = best_params['topics'], \n",
    "                                            id2word = dictionary, \n",
    "                                            passes = 20, \n",
    "                                            alpha = best_params['alpha'], \n",
    "                                            eta = best_params['eta']\n",
    "                                            )"
   ]
  },
  {
   "cell_type": "code",
   "execution_count": 97,
   "id": "classical-pantyhose",
   "metadata": {},
   "outputs": [],
   "source": [
    "#save LDA model trained using best hyperparameters\n",
    "best_lda.save('best_lda_model.gensim')"
   ]
  },
  {
   "cell_type": "markdown",
   "id": "aggressive-utilization",
   "metadata": {},
   "source": [
    "### Visualize Topic Model:"
   ]
  },
  {
   "cell_type": "code",
   "execution_count": 43,
   "id": "boolean-thomas",
   "metadata": {},
   "outputs": [
    {
     "data": {
      "text/html": [
       "\n",
       "<link rel=\"stylesheet\" type=\"text/css\" href=\"https://cdn.jsdelivr.net/gh/bmabey/pyLDAvis@3.3.1/pyLDAvis/js/ldavis.v1.0.0.css\">\n",
       "\n",
       "\n",
       "<div id=\"ldavis_el1660419025566145443162319237\"></div>\n",
       "<script type=\"text/javascript\">\n",
       "\n",
       "var ldavis_el1660419025566145443162319237_data = {\"mdsDat\": {\"x\": [0.264532949866947, 0.10927274793394158, -0.07387675422434715, -0.046149910696616295, -0.05918090037269917, -0.09821198046521229, -0.09638615204201377], \"y\": [0.08768268053981845, -0.15031642096174377, 0.025128024946339835, -0.01960012717346378, -0.007096122382856749, 0.02706251098476204, 0.03713945404714367], \"topics\": [1, 2, 3, 4, 5, 6, 7], \"cluster\": [1, 1, 1, 1, 1, 1, 1], \"Freq\": [57.748311040906344, 18.42588740623049, 4.920398035154456, 9.444992816971734, 4.172923758621156, 2.7743746394670143, 2.5131123026488114]}, \"tinfo\": {\"Term\": [\"food\", \"price\", \"waiter\", \"menu\", \"good\", \"service\", \"table\", \"drink\", \"place\", \"order\", \"portion\", \"like\", \"bar\", \"take\", \"worth\", \"ask\", \"great\", \"atmosphere\", \"serve\", \"better\", \"sauce\", \"small\", \"bit\", \"steak\", \"waitress\", \"chicken\", \"music\", \"dish\", \"entree\", \"nice\", \"waiter\", \"table\", \"drink\", \"order\", \"take\", \"ask\", \"reservation\", \"minutes\", \"manager\", \"tell\", \"seat\", \"time\", \"waiting\", \"bring\", \"long\", \"check\", \"say\", \"hour\", \"people\", \"hostess\", \"water\", \"never\", \"seem\", \"bill\", \"waitress\", \"forget\", \"want\", \"next\", \"arrive\", \"empty\", \"staff\", \"know\", \"back\", \"come\", \"wait\", \"another\", \"even\", \"get\", \"dinner\", \"meal\", \"could\", \"bar\", \"one\", \"service\", \"wine\", \"menu\", \"food\", \"make\", \"place\", \"like\", \"lot\", \"decent\", \"overall\", \"worth\", \"bland\", \"expensive\", \"far\", \"quality\", \"world\", \"superb\", \"block\", \"indian\", \"manhattan\", \"fairly\", \"noisy\", \"generous\", \"bowl\", \"price\", \"portion\", \"formal\", \"certainly\", \"upstairs\", \"cafe\", \"particular\", \"ambience\", \"tasting\", \"reading\", \"nearby\", \"destination\", \"tag\", \"high\", \"sushi\", \"decor\", \"value\", \"yes\", \"bit\", \"good\", \"better\", \"food\", \"le\", \"atmosphere\", \"small\", \"selection\", \"best\", \"place\", \"found\", \"nice\", \"service\", \"great\", \"menu\", \"although\", \"experience\", \"really\", \"restaurant\", \"much\", \"make\", \"get\", \"room\", \"dish\", \"wine\", \"bar\", \"band\", \"bunch\", \"jazz\", \"live\", \"palate\", \"fireplace\", \"dissapointing\", \"cram\", \"colorful\", \"zen\", \"forgive\", \"terrific\", \"horrific\", \"marble\", \"irving\", \"burn\", \"vibe\", \"dive\", \"control\", \"wooden\", \"fat\", \"guacamole\", \"premises\", \"soft\", \"extend\", \"candy\", \"vinegar\", \"din\", \"rubbery\", \"remarkable\", \"playing\", \"music\", \"pancake\", \"sunday\", \"salt\", \"summer\", \"french\", \"miniscule\", \"scene\", \"sip\", \"loud\", \"wall\", \"style\", \"bathroom\", \"casual\", \"bar\", \"like\", \"pizza\", \"inside\", \"cheese\", \"top\", \"spot\", \"room\", \"diner\", \"look\", \"serve\", \"fresh\", \"date\", \"space\", \"dining\", \"great\", \"potato\", \"sauce\", \"crab\", \"feature\", \"fair\", \"black\", \"blue\", \"chop\", \"serious\", \"rooms\", \"bean\", \"pork\", \"neighborhood\", \"cook\", \"beef\", \"baby\", \"eggs\", \"dip\", \"chili\", \"mushroom\", \"sashimi\", \"onion\", \"-the\", \"often\", \"chicken\", \"rare\", \"wood\", \"twist\", \"entering\", \"impress\", \"american\", \"flavor\", \"tuna\", \"green\", \"steak\", \"light\", \"fare\", \"salmon\", \"lobster\", \"cheese\", \"meat\", \"choice\", \"salad\", \"menu\", \"pasta\", \"like\", \"serve\", \"food\", \"dish\", \"include\", \"fresh\", \"crowd\", \"appetizer\", \"entree\", \"chef\", \"bar\", \"possible\", \"buy\", \"reasonable\", \"sum\", \"trip\", \"nowhere\", \"sharing\", \"yelling\", \"relax\", \"appreciate\", \"total\", \"topping\", \"beside\", \"pretentious\", \"steep\", \"typical\", \"timely\", \"pop\", \"quibble\", \"encourage\", \"fabulous\", \"fool\", \"shop\", \"handle\", \"school\", \"suddenly\", \"ahead\", \"sir\", \"spring\", \"remark\", \"reasonably\", \"italian\", \"spicy\", \"definitely\", \"afternoon\", \"dim\", \"thai\", \"buck\", \"ever\", \"price\", \"city\", \"however\", \"guess\", \"popular\", \"coffee\", \"food\", \"think\", \"menu\", \"street\", \"like\", \"dish\", \"range\", \"place\", \"spot\", \"scene\", \"pay\", \"best\", \"atmosphere\", \"boy\", \"third\", \"chopstick\", \"mary\", \"using\", \"cutting\", \"lastly\", \"bloody\", \"comped\", \"knife\", \"danube\", \"contact\", \"lemon\", \"shine\", \"speedy\", \"w/o\", \"10mins\", \"challenge\", \"enormous\", \"assure\", \"juice\", \"mojito\", \"warming\", \"fee\", \"terrace\", \"falafel\", \"gourmet\", \"audacity\", \"huffy\", \"scare\", \"cake\", \"basil\", \"bakery\", \"theme\", \"notch\", \"bizarrely\", \"insist\", \"platter\", \"top\", \"sandwich\", \"quick\", \"pie\", \"apology\", \"slice\", \"bus\", \"meat\", \"flavor\", \"thin\", \"prepare\", \"cheese\", \"red\", \"french\", \"soup\", \"thai\", \"burger\", \"gnocchi\", \"scoop\", \"hope\", \"scallop\", \"stripe\", \"perfection\", \"cream\", \"admit\", \"masala\", \"flow\", \"port\", \"crust\", \"accompany\", \"apricot\", \"softie\", \"mixture\", \"peri\", \"pongal\", \"pickle\", \"orange\", \"pastry\", \"salty\", \"stumble\", \"sorbet\", \"pony\", \"landmark\", \"ice\", \"mural\", \"eel\", \"spoil\", \"brooklyn\", \"cute\", \"train\", \"coconut\", \"glaze\", \"dry\", \"cuisine\", \"chewy\", \"shrimp\", \"along\", \"consist\", \"entree\", \"lobster\", \"large\", \"menu\", \"offer\", \"appetizer\"], \"Freq\": [571.0, 181.0, 442.0, 418.0, 209.0, 393.0, 363.0, 330.0, 220.0, 292.0, 108.0, 168.0, 296.0, 205.0, 60.0, 201.0, 138.0, 85.0, 93.0, 73.0, 35.0, 85.0, 62.0, 41.0, 232.0, 38.0, 29.0, 94.0, 86.0, 88.0, 440.9262724058447, 362.1066325205347, 329.0634239892562, 291.7315589129085, 204.77259731791924, 200.1996780644714, 148.5879979305509, 143.49379207989918, 130.0604132944775, 123.11571411223927, 127.99875789539374, 165.00742923286097, 102.5022619594064, 101.56459806312829, 108.5822101954132, 96.8450231185285, 96.96026529103146, 91.52793934090852, 91.91149050084098, 87.53202122717418, 87.53199159177923, 97.26678418101896, 64.08776157390841, 56.296408793289345, 226.71250999186915, 43.600906889077564, 82.7218755763689, 45.17722342503409, 59.31258074991388, 40.84900362770411, 153.43038195183135, 69.96219822438879, 99.8835895552717, 174.76517937472343, 270.35505461085415, 78.36289917831134, 162.50757500555343, 285.62974963389223, 236.06775219949492, 134.37542558412395, 121.93836902005519, 245.7155747830158, 162.32677933941687, 266.4541080594757, 134.0311018086428, 224.98219806527757, 268.03723085780615, 119.8802896252956, 126.86188487424896, 111.64708298440868, 26.122805571799237, 23.128004216534777, 19.24127815479707, 56.28786361319942, 11.202920050119292, 23.80227926086797, 10.909774220280834, 35.74618605310996, 12.540144413453724, 7.885058545752688, 8.238893495024557, 8.76886226667865, 7.863817590346847, 8.330349534765919, 6.319793346552991, 6.912312460992201, 6.434603326635671, 153.9613664521189, 91.70308286390028, 6.01528396804605, 9.278851648797383, 10.93880520703933, 13.03630069822309, 5.739780360739917, 22.603246397473754, 17.933432280125498, 6.1613021406961845, 6.148991826635205, 5.286505101781232, 5.14442764800573, 24.093476400888996, 43.12795231126811, 40.83223653312762, 14.570023598715991, 8.969678968090866, 44.14264841617034, 125.70360216228995, 47.555939774572394, 258.17253845176447, 18.91027195307909, 51.13575152398885, 49.44835792308117, 23.58874446254782, 30.31462254584302, 87.3058426212495, 22.971905730706528, 43.01601099486531, 125.20235469882653, 57.60863561312984, 116.33176105264941, 31.404032348169203, 26.88765489934095, 29.006199865289375, 39.452835209632276, 27.68589435317615, 36.480705792672346, 29.886809090250978, 25.68913737890695, 25.150326614352988, 25.6496072643169, 26.089076611449347, 5.7430061237371755, 4.378251278533926, 3.9782073159482914, 9.580928692025655, 3.1839657459152577, 3.103593933966642, 3.152195443432119, 3.1215569990071637, 2.8148165213249197, 2.800027456460944, 2.677799201054488, 2.601953979652005, 2.598738736831955, 2.6149365746462077, 2.3250693882764066, 2.5739201344172704, 2.225335207311266, 2.290185897473724, 2.274345355622066, 2.129091079841763, 3.1034218090565107, 3.1593931264100386, 1.9325061257886502, 1.9078282954581676, 1.8383676877759687, 1.833241185104184, 1.8315853771361887, 1.826116097595696, 1.8173981181927201, 1.7861233586965717, 5.109812868151336, 14.494018359099483, 5.291224106563311, 5.380972307259401, 2.3227530667474077, 2.9012789879480336, 7.7612906353630775, 2.226707577316002, 8.026900834703449, 4.356848450772243, 5.904766505049753, 4.972538833467262, 4.510314852307656, 3.817489784335725, 3.995171088570461, 12.909316916936683, 9.944845361432343, 5.67574778904939, 3.6017503578568077, 5.465739827487522, 4.900198395075954, 4.17372438012498, 5.231705921868503, 4.688449404777627, 4.255528742670383, 4.334756702526735, 3.869721908959391, 3.643854046754017, 3.643988716610354, 3.7405221738493317, 3.6563804476098776, 11.227389190383242, 31.86236850418954, 7.252929564301631, 9.671778309137473, 6.965165568158638, 11.08004360653829, 7.795415554183912, 9.83997326563015, 5.448212343311717, 4.974339280747354, 4.787043103120365, 11.911609553199122, 4.345362606122206, 14.153259230281426, 10.54959998939651, 3.865174709740677, 3.8553098519744835, 3.9447143918508436, 3.834655975013564, 6.73118388955584, 4.228279269894613, 6.104078157123421, 3.499616355583972, 13.868174817581128, 28.89942294963882, 3.480736480805795, 5.7841720850027585, 3.363984760195695, 3.2584861590781284, 3.2570332706784644, 7.8776659213233104, 17.12224253178744, 5.108437608311021, 5.320314945053484, 25.259081608975226, 10.181367706631027, 11.296744112694261, 7.492188010781329, 8.345351383833613, 18.4325709527663, 12.43547255932969, 14.934720117114198, 19.13217084816645, 64.59320963250839, 8.66375084663241, 23.415972508780506, 17.90367110528355, 32.17515837174382, 15.874362865241515, 10.685779699757916, 9.611626225107784, 10.524562808317393, 11.057588261058465, 10.458654103361374, 9.605401060799855, 10.216371128570115, 4.34731289255343, 5.1617062279790105, 6.964765325488612, 3.433580715524141, 3.0580219389606675, 3.051441917174199, 2.7294586016833056, 2.7928366391480184, 5.643886626822742, 2.381594735650468, 2.3764471784680348, 3.064146898489718, 2.049482269676825, 2.0461778038648255, 2.043464918987469, 2.220614588303297, 2.0241463661974834, 2.027692282689595, 2.019729228552152, 1.9447579893263163, 1.9443057823614944, 2.0028569476934126, 2.755434626071414, 2.348372335566402, 1.9608466708233616, 1.971459971856846, 1.7060746231067203, 1.70408930247387, 1.693787406789089, 1.6728204578925292, 2.9926182498551923, 8.577665148338077, 5.416941903830856, 6.74275347736713, 2.685431417506066, 3.721407771796433, 3.7912036147370287, 2.3780286536544004, 5.822211427497431, 14.143574805110795, 3.3847848358007413, 5.155518095101283, 2.3934625808681265, 2.552385311444409, 5.295474544611557, 10.902034645155691, 4.009727009129885, 9.005484345278088, 2.8783945894950422, 5.32996219622703, 4.720488570534334, 3.102189389386664, 4.95690644053514, 3.3024303452901487, 3.367196233412091, 3.515705711892365, 3.3583105628547076, 3.423968729912762, 2.8265760561872817, 2.4622944552161288, 2.1822097010888664, 2.481707411685284, 2.2807907869652384, 1.658349967355336, 1.6542198792567457, 1.5867389144017705, 1.6019794259366222, 1.5942544645458983, 1.379016958077044, 1.3740501741648585, 2.076634398222782, 1.306261558679615, 1.3061214370466234, 1.3028718253565261, 1.3423945497686385, 1.2710686045916004, 1.8011187246090705, 2.2291804657304812, 1.7917119476826524, 1.0332111240924045, 1.0324781254060187, 1.0300426666757756, 1.0291020364417733, 1.0281579654564104, 1.0275210705149216, 1.027852925051312, 1.027448814736351, 1.0269883472870367, 3.474118818024435, 1.9368275346574473, 1.3733634476519416, 1.5765825282651573, 1.8192864850255197, 1.204911261191031, 2.3148542254342184, 2.588480570611218, 5.284053934085101, 2.8719287185166715, 3.0527943053600866, 2.3010784061595535, 1.7691906876223775, 2.3097569302635312, 1.7478204182154902, 2.3739803341063004, 2.2692602359231993, 1.5782259023028928, 1.9960989854128608, 2.130344526960235, 1.9588280547962997, 1.8573340762767654, 1.8196990192489844, 1.6968829418416096, 1.6847985484771284, 2.615531055132679, 2.0434899753025673, 2.206688099584978, 1.9904261400243584, 1.734407950052521, 1.4897789599237226, 4.3604093051428165, 1.475395543611927, 1.4709648340591288, 1.4544430141192342, 1.4547228755580224, 1.9828084062373712, 1.3754078438688637, 1.240458959011425, 1.240458959011425, 1.2401268653686233, 1.2372529119375026, 1.2363063913186823, 1.38813476849247, 1.1573017435908217, 1.7362759499248632, 0.9277177776913228, 0.9270347825133276, 0.9259946523272319, 0.9234994361120445, 0.9229424000762382, 5.031809793636439, 0.9215459946714085, 0.919638014593525, 0.9201408838992433, 1.8258171013915592, 1.4602520735001658, 1.237318793297709, 1.4148628255808022, 1.240334182079615, 1.4433811790774813, 2.3277799741702467, 1.1623704168535458, 2.5254859596235573, 2.2801734369484095, 1.4190302246401167, 2.6622980080381518, 1.6204673735229256, 1.7383522337712347, 1.9942719778606104, 1.497201736471861, 1.480820062198702], \"Total\": [571.0, 181.0, 442.0, 418.0, 209.0, 393.0, 363.0, 330.0, 220.0, 292.0, 108.0, 168.0, 296.0, 205.0, 60.0, 201.0, 138.0, 85.0, 93.0, 73.0, 35.0, 85.0, 62.0, 41.0, 232.0, 38.0, 29.0, 94.0, 86.0, 88.0, 442.07758258844825, 363.4260112560911, 330.2967020167822, 292.827402611564, 205.84995932046772, 201.27480066473586, 149.67628055767366, 144.597697275287, 131.1595299045047, 124.18831204531968, 129.19508439909274, 166.7282933219536, 103.57859807241474, 102.65898529852213, 109.77303200041483, 97.9220341419841, 98.06486349974215, 92.60304871758022, 93.0288133748091, 88.60507063464598, 88.6100969636, 98.49345874263959, 65.37862318685926, 57.471459047309324, 232.13705200365231, 44.67099621311965, 84.79129022634442, 46.31190579274126, 60.82018965242094, 41.91480408089961, 158.59765275467754, 71.90972516804257, 103.17179499500732, 182.5491319094265, 286.6372516427525, 80.80513920524677, 173.401154634693, 316.4365271494207, 260.08232761778817, 144.55072026848364, 129.46490261127553, 296.72338753104833, 189.7465173428181, 393.13395700872195, 160.72699147960319, 418.2667558661154, 571.1001826046169, 159.22610832403277, 220.2347476195371, 168.91289626175228, 27.226359526033725, 24.346120051032923, 20.383513808842284, 60.23980469191841, 12.306762102012263, 26.202721127206146, 12.018219993606008, 39.439002042437, 14.215737935315417, 8.98614811833995, 9.402201341118221, 10.170040978920936, 9.149300804977068, 9.72578189599108, 7.403845105603018, 8.10149212365231, 7.542296259917156, 181.02816790581875, 108.20401719488446, 7.105362022228532, 10.979155423977335, 12.966890598705527, 15.476069390446481, 6.82520156018213, 27.036241344758132, 21.452785602577347, 7.377054424346601, 7.383589463872725, 6.379602281818877, 6.2417543093804335, 29.455243671305116, 54.66928238852734, 52.45801343512105, 18.23281385552596, 11.060597221774488, 62.86990892902258, 209.51239008062814, 73.67949960922114, 571.1001826046169, 26.431394053501123, 85.61692515525912, 85.11273366947542, 35.32472157071061, 52.59381291275372, 220.2347476195371, 37.2188630405747, 88.46279920331342, 393.13395700872195, 138.85750234538443, 418.2667558661154, 61.81089390225419, 53.080753264291054, 72.28826844901648, 156.03876790833664, 66.3948084368559, 159.22610832403277, 316.4365271494207, 85.55035752627997, 94.91329471704849, 160.72699147960319, 296.72338753104833, 6.906186333654807, 5.537024193743967, 5.148574435017093, 12.635826004028223, 4.3688799089747805, 4.263351391253746, 4.362949291285622, 4.399707977388265, 3.968183898805307, 3.9747219278800925, 3.8889470725595774, 3.7834910864419142, 3.7843574137864584, 3.860823898744515, 3.4809242627695145, 3.90983770197195, 3.386198019133409, 3.4976939833958145, 3.5056818156633693, 3.2898928374750733, 4.843615208816626, 4.946739024070305, 3.0894209642298627, 3.09713376856952, 2.992300524606307, 2.9945241718602427, 2.9953142491361398, 2.9978950141266942, 2.9968489047848004, 2.986290401268094, 9.242696304110583, 29.189931407222037, 10.017905365477024, 11.380904427568396, 4.046710803429363, 5.468898354067223, 20.875132387105303, 3.8745686067958274, 32.68421887882726, 12.798392043465258, 26.199621243763115, 19.528373129429262, 17.14751490349471, 11.726140399524503, 13.326010674924632, 296.72338753104833, 168.91289626175228, 38.81108719526367, 10.546353886713703, 41.32632183422475, 32.09801293007089, 20.975980883095097, 85.55035752627997, 49.87424232191446, 50.42617909085739, 93.68751695173415, 31.847962714674114, 22.934014840764686, 43.98071501552671, 84.62806338544628, 138.85750234538443, 12.386373473936242, 35.61702343450979, 8.391391183880417, 11.208457391387116, 8.153902963612417, 12.99054664261985, 9.212236828703624, 11.730222089575605, 6.675787331834637, 6.1766401313267485, 5.962094483490133, 14.862322188277957, 5.468190478597384, 18.037702384031313, 13.505893105903622, 4.97946658189021, 4.9770992544397235, 5.101346146228698, 4.987545927987077, 8.772123238240203, 5.560831563611656, 8.028253798737019, 4.611743008894542, 18.333537386259042, 38.243343946145494, 4.614720845689783, 7.68915266803526, 4.494628412579779, 4.3726000144336545, 4.372850827242837, 10.578935132287846, 23.907968458911874, 6.925692736428778, 7.345218529919641, 41.000426976996735, 15.676948278028933, 17.783349830891012, 11.144962183797443, 13.865956946320965, 41.32632183422475, 26.40248067997257, 36.01625681931391, 53.11723675071317, 418.2667558661154, 17.316647990211575, 168.91289626175228, 93.68751695173415, 571.1001826046169, 94.91329471704849, 37.08192595540604, 31.847962714674114, 74.37903703845402, 101.60163756759034, 86.9307328821848, 65.09855138868927, 296.72338753104833, 5.592726797821736, 6.651858411042599, 9.269711875246653, 4.620654229303278, 4.283228938423386, 4.300680123224532, 3.9373248268863668, 4.037944428543632, 8.164758985649968, 3.580364518591219, 3.595765205681096, 4.667722870142982, 3.235842164523099, 3.2378947784771634, 3.2387284459693957, 3.5455549521935663, 3.237246078043026, 3.243289856618586, 3.2549763100312488, 3.1613026578980628, 3.163642698151634, 3.2659775975043277, 4.498218224424617, 3.89566920889747, 3.269631291121395, 3.291331025044489, 2.8874969814119815, 2.888746891731052, 2.8925720520096845, 2.883564849852814, 5.1738598270569405, 17.049339885621936, 11.108506762761959, 14.41895330462867, 4.929955434573593, 8.172824790556431, 9.003602092499253, 4.480560677559781, 25.454325718599485, 181.02816790581875, 9.37664148630323, 30.60140426293277, 4.988889159422703, 6.034439971376667, 50.716562215790496, 571.1001826046169, 26.449081487240637, 418.2667558661154, 9.57241062850018, 168.91289626175228, 94.91329471704849, 14.152951462931362, 220.2347476195371, 20.975980883095097, 32.68421887882726, 54.893542154312634, 52.59381291275372, 85.61692515525912, 4.072913375833756, 3.727787359637385, 3.461856784652362, 4.070607666026744, 3.848067331917925, 2.8662133537666397, 2.8704599227903964, 2.80058521632761, 2.929101630082986, 2.9333373035259025, 2.5863797994729554, 2.5914890296684945, 3.9903464632734353, 2.519487556779266, 2.5219984904971744, 2.5254854406453973, 2.6265525307855357, 2.531950472701785, 3.7283540423388546, 4.690242528614034, 3.7754149906681125, 2.235719763888078, 2.236477488155378, 2.2389306868681693, 2.2398758818039015, 2.2408049263867325, 2.240363962354982, 2.2412283900179437, 2.2415901463250876, 2.2420666889848713, 8.079793489553172, 4.489338285553464, 3.128815824572819, 3.686587550848891, 4.554327577040109, 2.7715434642208407, 7.422908161071578, 8.799579004367514, 32.09801293007089, 13.978439593715338, 15.83613314558422, 10.93751946243196, 5.721665070750665, 16.209981757507578, 6.724875352753029, 26.40248067997257, 23.907968458911874, 5.123835348912135, 24.2750598881004, 41.32632183422475, 25.02655125456869, 20.875132387105303, 23.260899284673883, 9.003602092499253, 23.865552368259383, 3.840284586850904, 3.2868758859074476, 3.651251224260661, 3.3279827003287012, 2.967905791248116, 2.7099338416066114, 8.02758735974288, 2.7284748408915007, 2.72730476725448, 2.7543357334093628, 2.7565259844087966, 3.794752054024364, 2.702931106910861, 2.456626967581782, 2.456626967581782, 2.457042646783794, 2.4606131794102173, 2.4618049616042734, 2.8400432585186093, 2.4178421061415776, 3.812127082430017, 2.143773954386349, 2.144622329931453, 2.145469680663505, 2.1462995652367036, 2.1485326262147773, 11.719322524368007, 2.1495810191479894, 2.1512936799233975, 2.1533169007567694, 4.5788665820992405, 3.635074495952497, 3.0388686733644046, 4.236945706128653, 3.550746868375577, 5.1223171617496055, 15.413593264521396, 3.4756249452576196, 18.9431303139625, 18.00453253737409, 5.401434382354238, 86.9307328821848, 13.865956946320965, 46.96382928204901, 418.2667558661154, 59.08089244300843, 101.60163756759034], \"Category\": [\"Default\", \"Default\", \"Default\", \"Default\", \"Default\", \"Default\", \"Default\", \"Default\", \"Default\", \"Default\", \"Default\", \"Default\", \"Default\", \"Default\", \"Default\", \"Default\", \"Default\", \"Default\", \"Default\", \"Default\", \"Default\", \"Default\", \"Default\", \"Default\", \"Default\", \"Default\", \"Default\", \"Default\", \"Default\", \"Default\", \"Topic1\", \"Topic1\", \"Topic1\", \"Topic1\", \"Topic1\", \"Topic1\", \"Topic1\", \"Topic1\", \"Topic1\", \"Topic1\", \"Topic1\", \"Topic1\", \"Topic1\", \"Topic1\", \"Topic1\", \"Topic1\", \"Topic1\", \"Topic1\", \"Topic1\", \"Topic1\", \"Topic1\", \"Topic1\", \"Topic1\", \"Topic1\", \"Topic1\", \"Topic1\", \"Topic1\", \"Topic1\", \"Topic1\", \"Topic1\", \"Topic1\", \"Topic1\", \"Topic1\", \"Topic1\", \"Topic1\", \"Topic1\", \"Topic1\", \"Topic1\", \"Topic1\", \"Topic1\", \"Topic1\", \"Topic1\", \"Topic1\", \"Topic1\", \"Topic1\", \"Topic1\", \"Topic1\", \"Topic1\", \"Topic1\", \"Topic1\", \"Topic2\", \"Topic2\", \"Topic2\", \"Topic2\", \"Topic2\", \"Topic2\", \"Topic2\", \"Topic2\", \"Topic2\", \"Topic2\", \"Topic2\", \"Topic2\", \"Topic2\", \"Topic2\", \"Topic2\", \"Topic2\", \"Topic2\", \"Topic2\", \"Topic2\", \"Topic2\", \"Topic2\", \"Topic2\", \"Topic2\", \"Topic2\", \"Topic2\", \"Topic2\", \"Topic2\", \"Topic2\", \"Topic2\", \"Topic2\", \"Topic2\", \"Topic2\", \"Topic2\", \"Topic2\", \"Topic2\", \"Topic2\", \"Topic2\", \"Topic2\", \"Topic2\", \"Topic2\", \"Topic2\", \"Topic2\", \"Topic2\", \"Topic2\", \"Topic2\", \"Topic2\", \"Topic2\", \"Topic2\", \"Topic2\", \"Topic2\", \"Topic2\", \"Topic2\", \"Topic2\", \"Topic2\", \"Topic2\", \"Topic2\", \"Topic2\", \"Topic2\", \"Topic2\", \"Topic2\", \"Topic2\", \"Topic3\", \"Topic3\", \"Topic3\", \"Topic3\", \"Topic3\", \"Topic3\", \"Topic3\", \"Topic3\", \"Topic3\", \"Topic3\", \"Topic3\", \"Topic3\", \"Topic3\", \"Topic3\", \"Topic3\", \"Topic3\", \"Topic3\", \"Topic3\", \"Topic3\", \"Topic3\", \"Topic3\", \"Topic3\", \"Topic3\", \"Topic3\", \"Topic3\", \"Topic3\", \"Topic3\", \"Topic3\", \"Topic3\", \"Topic3\", \"Topic3\", \"Topic3\", \"Topic3\", \"Topic3\", \"Topic3\", \"Topic3\", \"Topic3\", \"Topic3\", \"Topic3\", \"Topic3\", \"Topic3\", \"Topic3\", \"Topic3\", \"Topic3\", \"Topic3\", \"Topic3\", \"Topic3\", \"Topic3\", \"Topic3\", \"Topic3\", \"Topic3\", \"Topic3\", \"Topic3\", \"Topic3\", \"Topic3\", \"Topic3\", \"Topic3\", \"Topic3\", \"Topic3\", \"Topic3\", \"Topic3\", \"Topic4\", \"Topic4\", \"Topic4\", \"Topic4\", \"Topic4\", \"Topic4\", \"Topic4\", \"Topic4\", \"Topic4\", \"Topic4\", \"Topic4\", \"Topic4\", \"Topic4\", \"Topic4\", \"Topic4\", \"Topic4\", \"Topic4\", \"Topic4\", \"Topic4\", \"Topic4\", \"Topic4\", \"Topic4\", \"Topic4\", \"Topic4\", \"Topic4\", \"Topic4\", \"Topic4\", \"Topic4\", \"Topic4\", \"Topic4\", \"Topic4\", \"Topic4\", \"Topic4\", \"Topic4\", \"Topic4\", \"Topic4\", \"Topic4\", \"Topic4\", \"Topic4\", \"Topic4\", \"Topic4\", \"Topic4\", \"Topic4\", \"Topic4\", \"Topic4\", \"Topic4\", \"Topic4\", \"Topic4\", \"Topic4\", \"Topic4\", \"Topic4\", \"Topic4\", \"Topic4\", \"Topic4\", \"Topic4\", \"Topic4\", \"Topic5\", \"Topic5\", \"Topic5\", \"Topic5\", \"Topic5\", \"Topic5\", \"Topic5\", \"Topic5\", \"Topic5\", \"Topic5\", \"Topic5\", \"Topic5\", \"Topic5\", \"Topic5\", \"Topic5\", \"Topic5\", \"Topic5\", \"Topic5\", \"Topic5\", \"Topic5\", \"Topic5\", \"Topic5\", \"Topic5\", \"Topic5\", \"Topic5\", \"Topic5\", \"Topic5\", \"Topic5\", \"Topic5\", \"Topic5\", \"Topic5\", \"Topic5\", \"Topic5\", \"Topic5\", \"Topic5\", \"Topic5\", \"Topic5\", \"Topic5\", \"Topic5\", \"Topic5\", \"Topic5\", \"Topic5\", \"Topic5\", \"Topic5\", \"Topic5\", \"Topic5\", \"Topic5\", \"Topic5\", \"Topic5\", \"Topic5\", \"Topic5\", \"Topic5\", \"Topic5\", \"Topic5\", \"Topic5\", \"Topic5\", \"Topic5\", \"Topic5\", \"Topic6\", \"Topic6\", \"Topic6\", \"Topic6\", \"Topic6\", \"Topic6\", \"Topic6\", \"Topic6\", \"Topic6\", \"Topic6\", \"Topic6\", \"Topic6\", \"Topic6\", \"Topic6\", \"Topic6\", \"Topic6\", \"Topic6\", \"Topic6\", \"Topic6\", \"Topic6\", \"Topic6\", \"Topic6\", \"Topic6\", \"Topic6\", \"Topic6\", \"Topic6\", \"Topic6\", \"Topic6\", \"Topic6\", \"Topic6\", \"Topic6\", \"Topic6\", \"Topic6\", \"Topic6\", \"Topic6\", \"Topic6\", \"Topic6\", \"Topic6\", \"Topic6\", \"Topic6\", \"Topic6\", \"Topic6\", \"Topic6\", \"Topic6\", \"Topic6\", \"Topic6\", \"Topic6\", \"Topic6\", \"Topic6\", \"Topic6\", \"Topic6\", \"Topic6\", \"Topic6\", \"Topic6\", \"Topic6\", \"Topic7\", \"Topic7\", \"Topic7\", \"Topic7\", \"Topic7\", \"Topic7\", \"Topic7\", \"Topic7\", \"Topic7\", \"Topic7\", \"Topic7\", \"Topic7\", \"Topic7\", \"Topic7\", \"Topic7\", \"Topic7\", \"Topic7\", \"Topic7\", \"Topic7\", \"Topic7\", \"Topic7\", \"Topic7\", \"Topic7\", \"Topic7\", \"Topic7\", \"Topic7\", \"Topic7\", \"Topic7\", \"Topic7\", \"Topic7\", \"Topic7\", \"Topic7\", \"Topic7\", \"Topic7\", \"Topic7\", \"Topic7\", \"Topic7\", \"Topic7\", \"Topic7\", \"Topic7\", \"Topic7\", \"Topic7\", \"Topic7\", \"Topic7\", \"Topic7\", \"Topic7\", \"Topic7\"], \"logprob\": [30.0, 29.0, 28.0, 27.0, 26.0, 25.0, 24.0, 23.0, 22.0, 21.0, 20.0, 19.0, 18.0, 17.0, 16.0, 15.0, 14.0, 13.0, 12.0, 11.0, 10.0, 9.0, 8.0, 7.0, 6.0, 5.0, 4.0, 3.0, 2.0, 1.0, -3.8735, -4.0705, -4.1662, -4.2866, -4.6405, -4.6631, -4.9612, -4.9961, -5.0944, -5.1493, -5.1104, -4.8564, -5.3325, -5.3417, -5.2749, -5.3893, -5.3881, -5.4458, -5.4416, -5.4904, -5.4904, -5.385, -5.8022, -5.9318, -4.5387, -6.1873, -5.5469, -6.1518, -5.8796, -6.2525, -4.9292, -5.7145, -5.3584, -4.799, -4.3627, -5.6011, -4.8717, -4.3077, -4.4983, -5.0618, -5.1589, -4.4582, -4.8728, -4.3772, -5.0643, -4.5464, -4.3713, -5.1759, -5.1193, -5.2471, -5.5573, -5.679, -5.863, -4.7896, -6.4039, -5.6503, -6.4304, -5.2436, -6.2911, -6.7551, -6.7112, -6.6489, -6.7578, -6.7002, -6.9764, -6.8868, -6.9584, -3.7834, -4.3015, -7.0258, -6.5923, -6.4278, -6.2523, -7.0727, -5.702, -5.9334, -7.0018, -7.0038, -7.1549, -7.1822, -5.6381, -5.0559, -5.1106, -6.1411, -6.6262, -5.0326, -3.9861, -4.9582, -3.2664, -5.8804, -4.8856, -4.9191, -5.6593, -5.4084, -4.3507, -5.6858, -5.0585, -3.9901, -4.7664, -4.0636, -5.3731, -5.5284, -5.4526, -5.145, -5.4991, -5.2233, -5.4227, -5.574, -5.5952, -5.5755, -5.5586, -5.7517, -6.0231, -6.1189, -5.2399, -6.3416, -6.3671, -6.3516, -6.3614, -6.4648, -6.4701, -6.5147, -6.5434, -6.5447, -6.5385, -6.656, -6.5543, -6.6998, -6.6711, -6.678, -6.744, -6.3672, -6.3493, -6.8409, -6.8537, -6.8908, -6.8936, -6.8945, -6.8975, -6.9023, -6.9197, -5.8685, -4.826, -5.8337, -5.8168, -6.657, -6.4346, -5.4506, -6.6992, -5.4169, -6.028, -5.7239, -5.8958, -5.9933, -6.1601, -6.1146, -4.9418, -5.2027, -5.7635, -6.2183, -5.8012, -5.9104, -6.0709, -5.845, -5.9546, -6.0515, -6.033, -6.1465, -6.2067, -6.2066, -6.1805, -6.2032, -5.7334, -4.6904, -6.1704, -5.8826, -6.2109, -5.7467, -6.0983, -5.8653, -6.4565, -6.5475, -6.5859, -5.6743, -6.6827, -5.5019, -5.7957, -6.7998, -6.8023, -6.7794, -6.8077, -6.245, -6.71, -6.3428, -6.8991, -5.5222, -4.788, -6.9046, -6.3967, -6.9387, -6.9705, -6.971, -6.0878, -5.3114, -6.5209, -6.4803, -4.9226, -5.8312, -5.7273, -6.1379, -6.0301, -5.2377, -5.6312, -5.4481, -5.2004, -3.9837, -5.9927, -4.9984, -5.2668, -4.6806, -5.3871, -5.7829, -5.8888, -5.7981, -5.7487, -5.8044, -5.8895, -5.8278, -5.8654, -5.6937, -5.3941, -6.1013, -6.2172, -6.2193, -6.3308, -6.3079, -5.6044, -6.4672, -6.4693, -6.2152, -6.6173, -6.619, -6.6203, -6.5371, -6.6298, -6.628, -6.632, -6.6698, -6.67, -6.6404, -6.3214, -6.4812, -6.6616, -6.6562, -6.8007, -6.8019, -6.808, -6.8204, -6.2388, -5.1858, -5.6454, -5.4265, -6.3471, -6.0208, -6.0022, -6.4687, -5.5733, -4.6857, -6.1156, -5.6949, -6.4622, -6.3979, -5.6681, -4.946, -5.9462, -5.1371, -6.2777, -5.6616, -5.783, -6.2028, -5.7342, -6.1403, -6.1209, -6.0777, -6.1235, -6.1041, -5.8877, -6.0256, -6.1464, -6.0178, -6.1022, -6.4209, -6.4234, -6.4651, -6.4555, -6.4603, -6.6054, -6.609, -6.196, -6.6596, -6.6597, -6.6622, -6.6323, -6.6869, -6.3383, -6.1251, -6.3436, -6.8941, -6.8948, -6.8971, -6.8981, -6.899, -6.8996, -6.8993, -6.8997, -6.9001, -5.6814, -6.2657, -6.6095, -6.4715, -6.3283, -6.7403, -6.0874, -5.9757, -5.262, -5.8718, -5.8107, -6.0934, -6.3562, -6.0896, -6.3684, -6.0622, -6.1073, -6.4704, -6.2355, -6.1705, -6.2544, -6.3076, -6.3281, -6.3979, -6.4051, -5.8664, -6.1132, -6.0363, -6.1395, -6.2772, -6.4292, -5.3553, -6.4389, -6.4419, -6.4532, -6.453, -6.1433, -6.5091, -6.6124, -6.6124, -6.6126, -6.6149, -6.6157, -6.4999, -6.6817, -6.2761, -6.9029, -6.9036, -6.9047, -6.9074, -6.908, -5.2121, -6.9095, -6.9116, -6.9111, -6.2258, -6.4492, -6.6149, -6.4808, -6.6125, -6.4608, -5.9829, -6.6774, -5.9014, -6.0036, -6.4779, -5.8486, -6.3451, -6.2749, -6.1376, -6.4242, -6.4352], \"loglift\": [30.0, 29.0, 28.0, 27.0, 26.0, 25.0, 24.0, 23.0, 22.0, 21.0, 20.0, 19.0, 18.0, 17.0, 16.0, 15.0, 14.0, 13.0, 12.0, 11.0, 10.0, 9.0, 8.0, 7.0, 6.0, 5.0, 4.0, 3.0, 2.0, 1.0, 0.5465, 0.5454, 0.5453, 0.5453, 0.5438, 0.5437, 0.5418, 0.5414, 0.5407, 0.5404, 0.5398, 0.5387, 0.5386, 0.5384, 0.5382, 0.538, 0.5377, 0.5374, 0.537, 0.5369, 0.5368, 0.5365, 0.5291, 0.5284, 0.5254, 0.5248, 0.5244, 0.5243, 0.524, 0.5233, 0.516, 0.5216, 0.5167, 0.5055, 0.4906, 0.5184, 0.4842, 0.4466, 0.4522, 0.4761, 0.4892, 0.3605, 0.393, 0.1601, 0.3674, -0.071, -0.2074, 0.2652, -0.0025, 0.135, 1.65, 1.6401, 1.6337, 1.6236, 1.5974, 1.5953, 1.5946, 1.5931, 1.566, 1.5607, 1.5593, 1.5432, 1.54, 1.5365, 1.5331, 1.5327, 1.5326, 1.5295, 1.526, 1.5249, 1.5232, 1.5213, 1.5199, 1.5182, 1.5123, 1.5122, 1.5113, 1.5084, 1.5035, 1.4981, 1.4905, 1.4543, 1.4409, 1.4672, 1.4819, 1.3378, 1.1806, 1.2536, 0.8975, 1.3566, 1.176, 1.1484, 1.2876, 1.1404, 0.7661, 1.2089, 0.9704, 0.5472, 0.8116, 0.4117, 1.0143, 1.0113, 0.7783, 0.3164, 0.8167, 0.2179, -0.6683, 0.4884, 0.3633, -0.1438, -0.7399, 2.8273, 2.777, 2.7539, 2.735, 2.6954, 2.6943, 2.6867, 2.6686, 2.6684, 2.6615, 2.6386, 2.6374, 2.6359, 2.6221, 2.6082, 2.5937, 2.592, 2.5883, 2.5791, 2.5766, 2.5666, 2.5634, 2.5426, 2.5273, 2.5246, 2.5211, 2.5199, 2.5161, 2.5116, 2.4978, 2.4191, 2.3117, 2.3735, 2.2627, 2.4566, 2.3779, 2.0224, 2.4579, 1.6077, 1.9342, 1.5218, 1.6438, 1.6763, 1.8896, 1.8071, -0.1231, 0.1795, 1.0893, 1.9374, 0.9888, 1.1323, 1.3972, 0.2174, 0.6474, 0.5395, -0.0615, 0.904, 1.1722, 0.5211, -0.1073, -0.6252, 2.2614, 2.2483, 2.2139, 2.2122, 2.2021, 2.2006, 2.1927, 2.184, 2.1565, 2.1432, 2.1402, 2.1384, 2.1298, 2.1172, 2.1126, 2.1064, 2.1043, 2.1026, 2.0968, 2.0949, 2.0857, 2.0857, 2.0837, 2.0806, 2.0795, 2.0777, 2.075, 2.0699, 2.0656, 2.0651, 2.0649, 2.0259, 2.0553, 2.0372, 1.8753, 1.9281, 1.9059, 1.9626, 1.852, 1.5523, 1.6068, 1.4794, 1.3386, 0.4917, 1.6672, 0.3837, 0.7047, -0.5167, 0.5714, 1.1155, 1.1617, 0.4042, 0.1417, 0.242, 0.4461, -1.0091, 2.9246, 2.9229, 2.8907, 2.8796, 2.8396, 2.8334, 2.8102, 2.8079, 2.8073, 2.7689, 2.7624, 2.7557, 2.7199, 2.7176, 2.716, 2.7086, 2.707, 2.7069, 2.6993, 2.6907, 2.6897, 2.6876, 2.6864, 2.6704, 2.6653, 2.664, 2.6504, 2.6488, 2.6414, 2.632, 2.6291, 2.4896, 2.4584, 2.4165, 2.5691, 2.3898, 2.3116, 2.5431, 1.7013, 0.6272, 2.1576, 1.3956, 2.4421, 2.3161, 0.9172, -0.7821, 1.2901, -0.6617, 1.9749, -0.2795, 0.1755, 1.6587, -0.6174, 1.3278, 0.9037, 0.4284, 0.4254, -0.0425, 3.2195, 3.17, 3.1233, 3.0899, 3.0617, 3.0376, 3.0336, 3.0166, 2.9813, 2.975, 2.9559, 2.9503, 2.9316, 2.9279, 2.9268, 2.9229, 2.9135, 2.8956, 2.8572, 2.8409, 2.8394, 2.8129, 2.8118, 2.8083, 2.807, 2.8057, 2.8053, 2.8052, 2.8046, 2.804, 2.7407, 2.7441, 2.7614, 2.7353, 2.6671, 2.7517, 2.4195, 2.3611, 1.7806, 2.0022, 1.9385, 2.0259, 2.411, 1.6363, 2.2373, 1.1759, 1.23, 2.4071, 1.0865, 0.6195, 1.0372, 1.1653, 1.0366, 1.9159, 0.934, 3.2996, 3.2084, 3.1801, 3.1696, 3.1465, 3.0854, 3.0733, 3.0688, 3.0663, 3.0451, 3.0445, 3.0345, 3.0081, 3.0003, 3.0003, 2.9999, 2.9961, 2.9949, 2.9678, 2.9469, 2.8972, 2.8461, 2.8449, 2.8434, 2.8403, 2.8387, 2.8382, 2.8367, 2.8338, 2.8334, 2.7642, 2.7716, 2.7851, 2.5868, 2.6319, 2.417, 1.7933, 2.5883, 1.6686, 1.6173, 2.347, 0.1977, 1.5369, 0.3872, -1.6622, 0.0083, -0.5448]}, \"token.table\": {\"Topic\": [4, 6, 7, 7, 4, 5, 5, 1, 2, 7, 1, 2, 5, 2, 3, 4, 4, 5, 6, 1, 4, 1, 2, 5, 6, 1, 2, 4, 7, 5, 7, 1, 5, 1, 5, 6, 1, 2, 5, 6, 4, 1, 4, 1, 6, 3, 1, 2, 3, 4, 6, 4, 6, 1, 2, 3, 4, 4, 2, 3, 4, 5, 1, 2, 3, 5, 1, 2, 5, 1, 1, 2, 2, 6, 4, 5, 2, 2, 6, 4, 2, 6, 1, 2, 7, 3, 4, 5, 3, 1, 4, 6, 3, 1, 6, 1, 5, 2, 4, 3, 4, 6, 7, 3, 1, 2, 3, 7, 2, 4, 6, 1, 1, 3, 4, 6, 1, 2, 3, 4, 5, 2, 4, 7, 1, 2, 3, 4, 4, 1, 2, 4, 4, 6, 6, 3, 4, 5, 4, 7, 1, 2, 5, 3, 1, 2, 6, 2, 7, 6, 3, 2, 3, 4, 1, 2, 4, 3, 3, 6, 7, 1, 2, 3, 4, 6, 7, 1, 2, 4, 5, 7, 3, 7, 6, 6, 1, 2, 3, 2, 1, 2, 4, 1, 3, 5, 2, 3, 4, 5, 3, 1, 2, 3, 1, 2, 3, 4, 1, 2, 3, 4, 5, 4, 1, 2, 4, 5, 3, 3, 1, 3, 4, 7, 7, 4, 1, 5, 2, 6, 4, 1, 2, 4, 7, 1, 2, 1, 2, 5, 2, 5, 1, 2, 3, 5, 4, 1, 2, 6, 2, 2, 3, 4, 5, 2, 3, 3, 4, 6, 3, 3, 4, 5, 6, 7, 1, 2, 4, 5, 6, 5, 1, 3, 2, 1, 2, 2, 3, 4, 6, 1, 2, 3, 4, 5, 6, 2, 1, 2, 4, 7, 7, 1, 2, 4, 6, 1, 2, 3, 4, 6, 3, 7, 4, 5, 6, 5, 1, 2, 3, 4, 6, 7, 3, 1, 1, 1, 5, 6, 1, 6, 7, 4, 1, 2, 4, 2, 1, 3, 1, 6, 3, 2, 3, 5, 3, 1, 6, 6, 1, 4, 7, 1, 2, 3, 7, 6, 1, 2, 4, 5, 7, 3, 6, 1, 2, 4, 1, 2, 3, 4, 5, 3, 5, 1, 4, 6, 7, 1, 1, 2, 3, 4, 2, 2, 3, 4, 1, 2, 4, 1, 2, 3, 6, 7, 1, 2, 1, 2, 3, 4, 6, 1, 2, 4, 5, 6, 7, 3, 4, 1, 7, 6, 1, 2, 4, 5, 7, 4, 5, 2, 3, 2, 4, 1, 1, 1, 2, 5, 2, 1, 3, 6, 5, 1, 2, 4, 5, 7, 2, 3, 4, 1, 2, 3, 4, 5, 4, 6, 7, 1, 2, 3, 2, 3, 2, 1, 4, 4, 7, 1, 2, 5, 1, 7, 7, 7, 2, 4, 6, 1, 2, 3, 4, 5, 1, 2, 3, 5, 1, 2, 6, 1, 3, 7, 7, 5, 2, 3, 5, 2, 4, 7, 7, 1, 2, 4, 6, 5, 4, 3, 1, 4, 6, 5, 1, 2, 4, 5, 2, 4, 5, 2, 6, 2, 3, 4, 5, 7, 4, 2, 1, 2, 5, 4, 5, 4, 5, 1, 3, 4, 6, 3, 5, 5, 3, 1, 1, 2, 4, 5, 1, 2, 3, 4, 4, 3, 1, 2, 4, 2, 4, 5, 3, 7, 7, 1, 2, 4, 6, 4, 4, 5, 1, 7, 6, 1, 2, 3, 4, 5, 6, 5, 7, 1, 1, 1, 2, 3, 4, 4, 1, 2, 3, 4, 5, 7, 1, 2, 3, 5, 6, 5, 7, 1, 2, 3, 4, 7, 1, 3, 6, 5, 1, 2, 3, 4, 6, 1, 2, 3, 3, 7, 7, 1, 2, 4, 6, 7, 1, 2, 3, 4, 6, 4, 5, 7, 2, 3, 4, 5, 5, 1, 2, 4, 1, 3, 4, 5, 1, 2, 3, 4, 5, 7, 7, 1, 2, 3, 4, 5, 5, 5, 1, 3, 4, 1, 3, 2, 1, 2, 3, 4, 1, 2, 1, 2, 4, 5, 1, 6, 3, 2, 3, 5, 6, 3, 6, 2, 6, 1, 5, 6, 6, 1, 3, 5, 1, 2, 3, 4, 6, 7, 3, 5, 5, 2, 7, 5, 4, 7, 4, 5, 2, 6, 6, 1, 2, 3, 3, 6, 1, 2, 1, 1, 1, 2, 1, 2, 3, 4, 6, 7, 1, 5, 6, 1, 1, 2, 4, 5, 3, 1, 2, 1, 2, 5, 5, 1, 2, 3], \"Freq\": [0.6505132645539837, 0.3807272035411853, 0.36996873410617, 0.3665051203745974, 0.20284159020729425, 0.6085247706218828, 0.6926414167269547, 0.6109572674084166, 0.22216627905760605, 0.11108313952880303, 0.46917295915279417, 0.5015297149564352, 0.016178377901820487, 0.8507099676582562, 0.03698738989818506, 0.07397477979637011, 0.7562197801537975, 0.09452747251922469, 0.09452747251922469, 0.9652851386330558, 0.024750900990591174, 0.17477429867610253, 0.34954859735220506, 0.17477429867610253, 0.34954859735220506, 0.8366006890730857, 0.029527083143755968, 0.10826597152710522, 0.009842361047918656, 0.5586023405200508, 0.4070622089540787, 0.9700726080792731, 0.016441908611513102, 0.9936663672723776, 0.21320859079231877, 0.42641718158463754, 0.35039800770230317, 0.5956766130939154, 0.03503980077023031, 0.4461838893589929, 0.8032988944132238, 0.9692571502205539, 0.01938514300441108, 0.3196097361008877, 0.3196097361008877, 0.8687862895852035, 0.8290549728718611, 0.0876236963197902, 0.0438118481598951, 0.033701421661457766, 0.003370142166145777, 0.22274997703291055, 0.4454999540658211, 0.08527955200336422, 0.3411182080134569, 0.3411182080134569, 0.25583865601009265, 0.8386314597740264, 0.0740417528969547, 0.0740417528969547, 0.8144592818665016, 0.6180771182004675, 0.30421829325327515, 0.5704092998498909, 0.05704092998498909, 0.05704092998498909, 0.312162814921201, 0.6514702224442456, 0.04071688890276535, 0.9743966993060321, 0.28630548869286937, 0.6998578612492362, 0.36080978447910733, 0.36080978447910733, 0.8467696012045256, 0.07697905465495687, 0.8938175540259614, 0.8508645698762014, 0.7141364556021572, 0.8684101536636012, 0.7955136994401097, 0.7365734851618044, 0.9935808317547085, 0.436789315464849, 0.436789315464849, 0.22318635366514522, 0.22318635366514522, 0.44637270733029044, 0.7224097024028573, 0.6704223624540792, 0.2514083859202797, 0.0838027953067599, 0.7672952763453409, 0.5948065637175683, 0.2974032818587842, 0.15033392748407312, 0.7516696374203656, 0.8400065722130335, 0.06461589017023335, 0.12376553946495752, 0.24753107892991505, 0.3712966183948726, 0.12376553946495752, 0.6678857425143342, 0.5252884881123352, 0.07504121258747647, 0.30016485034990587, 0.07504121258747647, 0.819735184761565, 0.09108168719572945, 0.3949524332254902, 0.9905839972579902, 0.3387671435207616, 0.12098826554312915, 0.4355577559552649, 0.04839530621725166, 0.44547842281231903, 0.32258782341581727, 0.03072264984912545, 0.15361324924562725, 0.046083974773688176, 0.2877180408560677, 0.2877180408560677, 0.2877180408560677, 0.052296682079276645, 0.13074170519819162, 0.052296682079276645, 0.7583018901495113, 0.80199762724077, 0.16659143758610884, 0.4164785939652721, 0.4164785939652721, 0.8524987782530379, 0.08524987782530379, 0.5777246502127728, 0.21329598693961652, 0.31994398040942473, 0.31994398040942473, 0.47203814698570296, 0.23601907349285148, 0.8084144155030037, 0.07886969907346378, 0.09858712384182973, 0.7560133493065188, 0.9586460267958322, 0.03834584107183329, 0.6828032115578513, 0.5554080245426285, 0.18513600818087617, 0.3858785387673128, 0.570502431528158, 0.11087886679905473, 0.055439433399527366, 0.7761520675933832, 0.9423403373369132, 0.04634460675427442, 0.8341882587295855, 0.6818634362594326, 0.12457042884576339, 0.24914085769152677, 0.49828171538305355, 0.5646752320588121, 0.2554483192647007, 0.026889296764705337, 0.14789113220587935, 0.2635218285051041, 0.5270436570102082, 0.19463339589382583, 0.4541445904189269, 0.06487779863127527, 0.12975559726255054, 0.12975559726255054, 0.27509752581782243, 0.27509752581782243, 0.6977847609884645, 0.3866408174869665, 0.6104469756911172, 0.21801677703254183, 0.17441342162603346, 0.944709052275629, 0.09531432230432997, 0.7815774428955058, 0.11437718676519597, 0.4161189701664352, 0.06935316169440586, 0.48547213186084104, 0.7837479170526691, 0.24471343155563155, 0.12235671577781577, 0.4894268631112631, 0.6671347697553087, 0.7218154767672893, 0.18045386919182232, 0.1002521495510124, 0.5790041511032221, 0.2835938699281088, 0.047265644988018135, 0.09453128997603627, 0.9074049827284725, 0.05767404551240291, 0.0038449363674935275, 0.023069618204961166, 0.0038449363674935275, 0.7841067603219012, 0.5162606581730909, 0.2633982949862709, 0.16857490879121334, 0.05267965899725417, 0.6876082667272981, 0.5718053121554835, 0.9960741296874459, 0.195224147279946, 0.390448294559892, 0.195224147279946, 0.46483658151015794, 0.803680978721065, 0.9781746783514973, 0.6326505926293662, 0.268214871400111, 0.536429742800222, 0.6860906531805343, 0.7132115184629486, 0.12653752746923283, 0.11503411588112075, 0.03451023476433623, 0.9400168086734758, 0.05766974286340342, 0.5892908013288874, 0.15714421368770332, 0.235716320531555, 0.9159354054675233, 0.03816397522781347, 0.4709805054107666, 0.5086589458436279, 0.6683820637511458, 0.6321826422334307, 0.8584845847734734, 0.10281949674526375, 0.82255597396211, 0.44626820845689874, 0.9152769716191145, 0.1686971255994062, 0.11246475039960413, 0.6185561271978227, 0.056232375199802065, 0.20645735816910946, 0.6193720745073283, 0.08921834335279959, 0.8921834335279958, 0.4466417856815418, 0.7036717653990454, 0.08365411738923743, 0.7110599978085183, 0.08365411738923743, 0.08365411738923743, 0.3630639460071134, 0.46926968010714387, 0.4517596174165788, 0.05603220060980822, 0.019261068959621576, 0.001751006269056507, 0.6123740718638991, 0.9849791526941013, 0.7714170298608611, 0.8444326948056271, 0.3492852531746565, 0.6179662171551614, 0.19161555126092636, 0.3832311025218527, 0.2874233268913895, 0.09580777563046318, 0.15699591351556763, 0.31399182703113526, 0.12559673081245412, 0.31399182703113526, 0.09419754810934058, 0.03139918270311353, 0.8640383639408223, 0.9038147478623773, 0.09480574278276685, 0.28163088980135825, 0.28163088980135825, 0.7811921049476307, 0.3866119801737176, 0.6013964136035608, 0.00954597481910414, 0.4463560460724603, 0.5545253133566783, 0.41769439187905644, 0.028806509784762513, 0.6807149412414694, 0.13614298824829388, 0.6064601316953088, 0.20215337723176957, 0.2004454234288333, 0.4008908468576666, 0.2004454234288333, 0.5133906121782934, 0.03394981250738, 0.81479550017712, 0.06789962501476, 0.03394981250738, 0.03394981250738, 0.5477574335918172, 0.7927369621777702, 0.9931711511506951, 0.9934878092467626, 0.8169559731702344, 0.16339119463404686, 0.44611188251314454, 0.4266458227089059, 0.08532916454178117, 0.4266458227089059, 0.686051301203786, 0.3775424182885245, 0.32360778710444954, 0.2966404715124121, 0.8849521863927554, 0.5689169986566448, 0.37927799910442983, 0.5388723547702571, 0.26943617738512854, 0.5745600446959301, 0.29326648618323364, 0.11730659447329346, 0.5278796751298206, 0.776914085731135, 0.2648715445776826, 0.5297430891553652, 0.6818172589957449, 0.9734427413874852, 0.013906324876964074, 0.46543393746911405, 0.7026684259882869, 0.21292982605705665, 0.04258596521141133, 0.04258596521141133, 0.6967524556328885, 0.037833797111716826, 0.7188421451226197, 0.1513351884468673, 0.037833797111716826, 0.037833797111716826, 0.25060480567385657, 0.5012096113477131, 0.25515169974796403, 0.06378792493699101, 0.63787924936991, 0.6630636409575358, 0.10656379943960397, 0.05920211079977998, 0.13616485483949395, 0.02960105539988999, 0.7914005777550326, 0.15828011555100652, 0.1442381515926066, 0.5769526063704264, 0.0721190757963033, 0.1442381515926066, 0.9929579060874267, 0.7535768262658168, 0.13881678378580836, 0.07932387644903334, 0.019830969112258335, 0.9549569039936798, 0.610695851330631, 0.2290109442489866, 0.1145054721244933, 0.7536452486535327, 0.2260935745960598, 0.012560754144225545, 0.9911593926468864, 0.8743837557125821, 0.7770362178330789, 0.49132713444530224, 0.36666235911972495, 0.9270102546089906, 0.06226188277224564, 0.037875228927202416, 0.34087706034482174, 0.07575045785440483, 0.454502747126429, 0.07575045785440483, 0.5379342174447665, 0.27733497432707965, 0.15540321837293256, 0.021517368697790664, 0.0023908187441989627, 0.0047816374883979254, 0.5161864978960717, 0.25809324894803587, 0.9889507419177963, 0.40699334271180615, 0.4472832490691623, 0.5271496495586155, 0.4217197196468925, 0.030122837117635175, 0.015061418558817588, 0.4652069361853415, 0.7979824051587637, 0.11399748645125196, 0.47961743399425, 0.47961743399425, 0.8126128936823329, 0.7315034133606148, 0.9848369753514093, 0.9716723859602668, 0.4860800289754952, 0.4860800289754952, 0.011304186720360352, 0.8103897251253097, 0.21957138196236367, 0.21957138196236367, 0.43914276392472734, 0.6975640861545133, 0.7108897354676001, 0.15233351474305717, 0.08462973041280954, 0.01692594608256191, 0.01692594608256191, 0.1636345423577937, 0.054544847452597904, 0.7636278643363706, 0.8537706107528287, 0.1212143459710806, 0.005270188955264375, 0.005270188955264375, 0.01054037791052875, 0.7473605282563317, 0.12456008804272195, 0.41359193698376456, 0.9971744358479265, 0.9321258433743587, 0.6866748600338599, 0.3992850654972754, 0.49910633187159426, 0.879094917138226, 0.46198317390999044, 0.5197310706487392, 0.2623207407247704, 0.5246414814495408, 0.7104660852521797, 0.218604949308363, 0.07286831643612099, 0.9889409169322191, 0.36901269862999314, 0.4064027651187698, 0.35210731280255514, 0.36571363495526976, 0.36571363495526976, 0.18285681747763488, 0.46378499807128926, 0.2576583322618274, 0.15459499935709642, 0.07729749967854821, 0.07729749967854821, 0.5766574138400574, 0.3950330315282283, 0.004540609557795727, 0.022703047788978636, 0.11364180030699968, 0.5682090015349983, 0.340925400920999, 0.32458060952038253, 0.5409676825339709, 0.40620602184030635, 0.465918185977788, 0.6166578037786531, 0.33143092142546077, 0.16571546071273038, 0.4971463821381912, 0.0672842364289955, 0.8074108371479461, 0.0672842364289955, 0.3627754665314625, 0.110901612630398, 0.8502456968330513, 0.0277254031575995, 0.009241801052533166, 0.7152146251016457, 0.8880726891649531, 0.6473705018372478, 0.5767236029297205, 0.3295563445312688, 0.0823890861328172, 0.6176852976490588, 0.06076402433527821, 0.8506963406938949, 0.005524002212298019, 0.07733603097217226, 0.91280200146199, 0.07606683345516584, 0.6144437960535569, 0.7577607418226402, 0.18944018545566005, 0.3532832012528077, 0.07065664025056155, 0.2826265610022462, 0.21196992075168464, 0.07065664025056155, 0.6500934943447433, 0.813332755170968, 0.5810071385182201, 0.40117159564353294, 0.013833503298052859, 0.10787821816450918, 0.7551475271515643, 0.1932792989037804, 0.5798378967113412, 0.5594058828798574, 0.11987268918854085, 0.2397453783770817, 0.0799151261256939, 0.12247758957215484, 0.734865537432929, 0.6935859271908125, 0.6697272305301329, 0.9954817118974768, 0.6665010330067059, 0.2499378873775147, 0.057677974010195705, 0.0192259913367319, 0.5844510934351226, 0.30391456858626376, 0.05844510934351226, 0.05844510934351226, 0.8095015888396909, 0.667367646332379, 0.41417817164038795, 0.20708908582019397, 0.3576993300530623, 0.1794532782630346, 0.628086473920621, 0.0897266391315173, 0.49422854687444207, 0.24711427343722103, 0.46646709087677485, 0.07153874316913003, 0.21461622950739012, 0.5007712021839102, 0.21461622950739012, 0.719316878104122, 0.8984467794968737, 0.056152923718554605, 0.9891412330396508, 0.600964662407188, 0.4460170631466652, 0.0611916107713865, 0.3059580538569325, 0.244766443085546, 0.27536224847123925, 0.09178741615707975, 0.03059580538569325, 0.6116897661919715, 0.6084805357497811, 0.9907497688116288, 0.9789132422853415, 0.1981615052786157, 0.6794108752409681, 0.028308786468373672, 0.08492635940512101, 0.7489753270234722, 0.7364908607359864, 0.010673780590376615, 0.04269512236150646, 0.19212805062677904, 0.010673780590376615, 0.010673780590376615, 0.6766141546864612, 0.31795777945792353, 0.002543662235663388, 0.7619386593440901, 0.3969061078747017, 0.6669307379776446, 0.2223102459925482, 0.2639479282003686, 0.2639479282003686, 0.15836875692022118, 0.2111583425602949, 0.15836875692022118, 0.5469437079460412, 0.31253926168345214, 0.07813481542086304, 0.6923417228850813, 0.308451920230217, 0.3701423042762604, 0.0616903840460434, 0.0616903840460434, 0.1233807680920868, 0.39947019128811817, 0.5757070403858173, 0.011749123273179946, 0.6457583525440506, 0.4070622089540787, 0.4660984068023471, 0.25794359566972, 0.38691539350458004, 0.21495299639143337, 0.08598119855657334, 0.04299059927828667, 0.4774820052967823, 0.38653305190691906, 0.09094895338986331, 0.045474476694931654, 0.3965109431143493, 0.4501055008366244, 0.4501055008366244, 0.46439982877046865, 0.5244093261385974, 0.1906943004140354, 0.0953471502070177, 0.14302072531052654, 0.6914261646863564, 0.9647053240861255, 0.0063052635561184674, 0.02522105422447387, 0.29267987883961777, 0.07316996970990444, 0.609749747582537, 0.6175263018697984, 0.20893378665195886, 0.3134006799779383, 0.10446689332597943, 0.10446689332597943, 0.3134006799779383, 0.6738758372646744, 0.4662825645539009, 0.40822241819853333, 0.05831748831407619, 0.29158744157038097, 0.23326995325630476, 0.05831748831407619, 0.6076568977053792, 0.6492587090751331, 0.1828521825161185, 0.5485565475483556, 0.1828521825161185, 0.43933239505010785, 0.43933239505010785, 0.890259084832209, 0.036583615379954415, 0.78654773066902, 0.036583615379954415, 0.14633446151981766, 0.996076199248473, 0.8010568427029785, 0.9958709764953391, 0.8390518757544229, 0.09322798619493587, 0.046613993097467936, 0.9904313697017959, 0.44645330936580385, 0.7929184796418464, 0.22213331724934465, 0.11106665862467233, 0.4442666344986893, 0.22213331724934465, 0.27125356069998535, 0.5425071213999707, 0.585498907695569, 0.3903326051303794, 0.7561699263412321, 0.15123398526824644, 0.03780849631706161, 0.5365112886145273, 0.9896340729727482, 0.005997782260440898, 0.6178090734483294, 0.49847322433503255, 0.0934637295628186, 0.15577288260469765, 0.06230915304187907, 0.15577288260469765, 0.031154576520939534, 0.21423722612078894, 0.6427116783623669, 0.5562098428562907, 0.3290698307448989, 0.3290698307448989, 0.7004061756045825, 0.7219494410573926, 0.14438988821147852, 0.6674634084551813, 0.5640865892552698, 0.8483143986036344, 0.07711949078214858, 0.519741425367205, 0.16453850863457187, 0.8226925431728593, 0.5906329129894882, 0.6677095735703884, 0.3959634785082927, 0.9419571198530462, 0.05233095110294701, 0.9975624581953719, 0.9944139225362925, 0.9778706072153811, 0.0215390001589291, 0.10241508530918018, 0.35845279858213064, 0.2560377132729505, 0.20483017061836037, 0.05120754265459009, 0.05120754265459009, 0.9788741246705565, 0.011793664152657308, 0.4471317083655463, 0.9931148144003203, 0.8337118661056072, 0.16176498894586408, 0.7803200507310418, 0.13005334178850697, 0.6079225369343519, 0.07034457194907569, 0.9144794353379839, 0.03320063885048276, 0.9296178878135173, 0.01660031942524138, 0.7429522751213324, 0.09041103115402721, 0.8136992803862448, 0.7547697812410344], \"Term\": [\"-the\", \"10mins\", \"accompany\", \"admit\", \"afternoon\", \"afternoon\", \"ahead\", \"along\", \"along\", \"along\", \"although\", \"although\", \"although\", \"ambience\", \"ambience\", \"ambience\", \"american\", \"american\", \"american\", \"another\", \"another\", \"apology\", \"apology\", \"apology\", \"apology\", \"appetizer\", \"appetizer\", \"appetizer\", \"appetizer\", \"appreciate\", \"apricot\", \"arrive\", \"arrive\", \"ask\", \"assure\", \"assure\", \"atmosphere\", \"atmosphere\", \"atmosphere\", \"audacity\", \"baby\", \"back\", \"back\", \"bakery\", \"bakery\", \"band\", \"bar\", \"bar\", \"bar\", \"bar\", \"bar\", \"basil\", \"basil\", \"bathroom\", \"bathroom\", \"bathroom\", \"bathroom\", \"bean\", \"beef\", \"beef\", \"beef\", \"beside\", \"best\", \"best\", \"best\", \"best\", \"better\", \"better\", \"better\", \"bill\", \"bit\", \"bit\", \"bizarrely\", \"bizarrely\", \"black\", \"black\", \"bland\", \"block\", \"bloody\", \"blue\", \"bowl\", \"boy\", \"bring\", \"brooklyn\", \"brooklyn\", \"buck\", \"buck\", \"buck\", \"bunch\", \"burger\", \"burger\", \"burger\", \"burn\", \"bus\", \"bus\", \"buy\", \"buy\", \"cafe\", \"cafe\", \"cake\", \"cake\", \"cake\", \"cake\", \"candy\", \"casual\", \"casual\", \"casual\", \"casual\", \"certainly\", \"certainly\", \"challenge\", \"check\", \"cheese\", \"cheese\", \"cheese\", \"cheese\", \"chef\", \"chef\", \"chef\", \"chef\", \"chef\", \"chewy\", \"chewy\", \"chewy\", \"chicken\", \"chicken\", \"chicken\", \"chicken\", \"chili\", \"choice\", \"choice\", \"choice\", \"chop\", \"chop\", \"chopstick\", \"city\", \"city\", \"city\", \"coconut\", \"coconut\", \"coffee\", \"coffee\", \"coffee\", \"colorful\", \"come\", \"come\", \"comped\", \"consist\", \"consist\", \"contact\", \"control\", \"cook\", \"cook\", \"cook\", \"could\", \"could\", \"crab\", \"cram\", \"cream\", \"cream\", \"cream\", \"crowd\", \"crowd\", \"crowd\", \"crowd\", \"crust\", \"crust\", \"cuisine\", \"cuisine\", \"cuisine\", \"cuisine\", \"cuisine\", \"cute\", \"cute\", \"cutting\", \"danube\", \"date\", \"date\", \"date\", \"decent\", \"decor\", \"decor\", \"decor\", \"definitely\", \"definitely\", \"definitely\", \"destination\", \"dim\", \"dim\", \"dim\", \"din\", \"diner\", \"diner\", \"diner\", \"dining\", \"dining\", \"dining\", \"dining\", \"dinner\", \"dinner\", \"dinner\", \"dinner\", \"dinner\", \"dip\", \"dish\", \"dish\", \"dish\", \"dish\", \"dissapointing\", \"dive\", \"drink\", \"dry\", \"dry\", \"dry\", \"eel\", \"eggs\", \"empty\", \"encourage\", \"enormous\", \"enormous\", \"entering\", \"entree\", \"entree\", \"entree\", \"entree\", \"even\", \"even\", \"ever\", \"ever\", \"ever\", \"expensive\", \"expensive\", \"experience\", \"experience\", \"extend\", \"fabulous\", \"fair\", \"fairly\", \"fairly\", \"falafel\", \"far\", \"fare\", \"fare\", \"fare\", \"fare\", \"fat\", \"fat\", \"feature\", \"feature\", \"fee\", \"fireplace\", \"flavor\", \"flavor\", \"flavor\", \"flavor\", \"flow\", \"food\", \"food\", \"food\", \"food\", \"food\", \"fool\", \"forget\", \"forgive\", \"formal\", \"found\", \"found\", \"french\", \"french\", \"french\", \"french\", \"fresh\", \"fresh\", \"fresh\", \"fresh\", \"fresh\", \"fresh\", \"generous\", \"get\", \"get\", \"glaze\", \"glaze\", \"gnocchi\", \"good\", \"good\", \"good\", \"gourmet\", \"great\", \"great\", \"great\", \"green\", \"green\", \"guacamole\", \"guacamole\", \"guess\", \"guess\", \"guess\", \"handle\", \"high\", \"high\", \"high\", \"high\", \"high\", \"hope\", \"horrific\", \"hostess\", \"hour\", \"however\", \"however\", \"huffy\", \"ice\", \"ice\", \"ice\", \"impress\", \"include\", \"include\", \"include\", \"indian\", \"inside\", \"inside\", \"insist\", \"insist\", \"irving\", \"italian\", \"italian\", \"italian\", \"jazz\", \"juice\", \"juice\", \"knife\", \"know\", \"know\", \"landmark\", \"large\", \"large\", \"large\", \"large\", \"lastly\", \"le\", \"le\", \"le\", \"le\", \"le\", \"lemon\", \"lemon\", \"light\", \"light\", \"light\", \"like\", \"like\", \"like\", \"like\", \"like\", \"live\", \"live\", \"lobster\", \"lobster\", \"lobster\", \"lobster\", \"long\", \"look\", \"look\", \"look\", \"look\", \"lot\", \"loud\", \"loud\", \"loud\", \"make\", \"make\", \"make\", \"manager\", \"manhattan\", \"marble\", \"mary\", \"masala\", \"meal\", \"meal\", \"meat\", \"meat\", \"meat\", \"meat\", \"meat\", \"menu\", \"menu\", \"menu\", \"menu\", \"menu\", \"menu\", \"miniscule\", \"miniscule\", \"minutes\", \"mixture\", \"mojito\", \"much\", \"much\", \"much\", \"much\", \"mural\", \"mushroom\", \"mushroom\", \"music\", \"music\", \"nearby\", \"neighborhood\", \"never\", \"next\", \"nice\", \"nice\", \"nice\", \"noisy\", \"notch\", \"notch\", \"notch\", \"nowhere\", \"offer\", \"offer\", \"offer\", \"offer\", \"offer\", \"often\", \"often\", \"often\", \"one\", \"one\", \"one\", \"one\", \"one\", \"onion\", \"onion\", \"orange\", \"order\", \"overall\", \"palate\", \"pancake\", \"pancake\", \"particular\", \"pasta\", \"pasta\", \"pastry\", \"pastry\", \"pay\", \"pay\", \"pay\", \"people\", \"perfection\", \"peri\", \"pickle\", \"pie\", \"pie\", \"pie\", \"pizza\", \"pizza\", \"pizza\", \"pizza\", \"pizza\", \"place\", \"place\", \"place\", \"place\", \"platter\", \"platter\", \"platter\", \"playing\", \"playing\", \"pongal\", \"pony\", \"pop\", \"popular\", \"popular\", \"popular\", \"pork\", \"pork\", \"pork\", \"port\", \"portion\", \"portion\", \"portion\", \"portion\", \"possible\", \"potato\", \"premises\", \"prepare\", \"prepare\", \"prepare\", \"pretentious\", \"price\", \"price\", \"price\", \"price\", \"quality\", \"quality\", \"quibble\", \"quick\", \"quick\", \"range\", \"range\", \"range\", \"range\", \"range\", \"rare\", \"reading\", \"really\", \"really\", \"really\", \"reasonable\", \"reasonable\", \"reasonably\", \"reasonably\", \"red\", \"red\", \"red\", \"red\", \"relax\", \"relax\", \"remark\", \"remarkable\", \"reservation\", \"restaurant\", \"restaurant\", \"restaurant\", \"restaurant\", \"room\", \"room\", \"room\", \"room\", \"rooms\", \"rubbery\", \"salad\", \"salad\", \"salad\", \"salmon\", \"salmon\", \"salmon\", \"salt\", \"salt\", \"salty\", \"sandwich\", \"sandwich\", \"sandwich\", \"sandwich\", \"sashimi\", \"sauce\", \"sauce\", \"say\", \"scallop\", \"scare\", \"scene\", \"scene\", \"scene\", \"scene\", \"scene\", \"scene\", \"school\", \"scoop\", \"seat\", \"seem\", \"selection\", \"selection\", \"selection\", \"selection\", \"serious\", \"serve\", \"serve\", \"serve\", \"serve\", \"serve\", \"serve\", \"service\", \"service\", \"service\", \"sharing\", \"shine\", \"shop\", \"shop\", \"shrimp\", \"shrimp\", \"shrimp\", \"shrimp\", \"shrimp\", \"sip\", \"sip\", \"sip\", \"sir\", \"slice\", \"slice\", \"slice\", \"slice\", \"slice\", \"small\", \"small\", \"small\", \"soft\", \"softie\", \"sorbet\", \"soup\", \"soup\", \"soup\", \"soup\", \"soup\", \"space\", \"space\", \"space\", \"space\", \"speedy\", \"spicy\", \"spicy\", \"spoil\", \"spot\", \"spot\", \"spot\", \"spot\", \"spring\", \"staff\", \"staff\", \"staff\", \"steak\", \"steak\", \"steak\", \"steep\", \"street\", \"street\", \"street\", \"street\", \"street\", \"stripe\", \"stumble\", \"style\", \"style\", \"style\", \"style\", \"style\", \"suddenly\", \"sum\", \"summer\", \"summer\", \"summer\", \"sunday\", \"sunday\", \"superb\", \"sushi\", \"sushi\", \"sushi\", \"sushi\", \"table\", \"tag\", \"take\", \"tasting\", \"tasting\", \"tasting\", \"tell\", \"terrace\", \"terrific\", \"thai\", \"thai\", \"thai\", \"thai\", \"theme\", \"theme\", \"thin\", \"thin\", \"think\", \"think\", \"think\", \"third\", \"time\", \"time\", \"timely\", \"top\", \"top\", \"top\", \"top\", \"top\", \"top\", \"topping\", \"topping\", \"total\", \"train\", \"train\", \"trip\", \"tuna\", \"tuna\", \"twist\", \"typical\", \"upstairs\", \"upstairs\", \"using\", \"value\", \"value\", \"vibe\", \"vinegar\", \"w/o\", \"wait\", \"wait\", \"waiter\", \"waiting\", \"waitress\", \"waitress\", \"wall\", \"wall\", \"wall\", \"wall\", \"wall\", \"wall\", \"want\", \"want\", \"warming\", \"water\", \"wine\", \"wine\", \"wood\", \"wood\", \"wooden\", \"world\", \"world\", \"worth\", \"worth\", \"worth\", \"yelling\", \"yes\", \"yes\", \"zen\"]}, \"R\": 30, \"lambda.step\": 0.01, \"plot.opts\": {\"xlab\": \"PC1\", \"ylab\": \"PC2\"}, \"topic.order\": [1, 2, 3, 4, 5, 6, 7]};\n",
       "\n",
       "function LDAvis_load_lib(url, callback){\n",
       "  var s = document.createElement('script');\n",
       "  s.src = url;\n",
       "  s.async = true;\n",
       "  s.onreadystatechange = s.onload = callback;\n",
       "  s.onerror = function(){console.warn(\"failed to load library \" + url);};\n",
       "  document.getElementsByTagName(\"head\")[0].appendChild(s);\n",
       "}\n",
       "\n",
       "if(typeof(LDAvis) !== \"undefined\"){\n",
       "   // already loaded: just create the visualization\n",
       "   !function(LDAvis){\n",
       "       new LDAvis(\"#\" + \"ldavis_el1660419025566145443162319237\", ldavis_el1660419025566145443162319237_data);\n",
       "   }(LDAvis);\n",
       "}else if(typeof define === \"function\" && define.amd){\n",
       "   // require.js is available: use it to load d3/LDAvis\n",
       "   require.config({paths: {d3: \"https://d3js.org/d3.v5\"}});\n",
       "   require([\"d3\"], function(d3){\n",
       "      window.d3 = d3;\n",
       "      LDAvis_load_lib(\"https://cdn.jsdelivr.net/gh/bmabey/pyLDAvis@3.3.1/pyLDAvis/js/ldavis.v3.0.0.js\", function(){\n",
       "        new LDAvis(\"#\" + \"ldavis_el1660419025566145443162319237\", ldavis_el1660419025566145443162319237_data);\n",
       "      });\n",
       "    });\n",
       "}else{\n",
       "    // require.js not available: dynamically load d3 & LDAvis\n",
       "    LDAvis_load_lib(\"https://d3js.org/d3.v5.js\", function(){\n",
       "         LDAvis_load_lib(\"https://cdn.jsdelivr.net/gh/bmabey/pyLDAvis@3.3.1/pyLDAvis/js/ldavis.v3.0.0.js\", function(){\n",
       "                 new LDAvis(\"#\" + \"ldavis_el1660419025566145443162319237\", ldavis_el1660419025566145443162319237_data);\n",
       "            })\n",
       "         });\n",
       "}\n",
       "</script>"
      ],
      "text/plain": [
       "<IPython.core.display.HTML object>"
      ]
     },
     "execution_count": 43,
     "metadata": {},
     "output_type": "execute_result"
    }
   ],
   "source": [
    "#START HERE IF YOU AREN'T TRAINING A NEW MODEL\n",
    "\n",
    "corpus = pickle.load(open('corpus.pkl', 'rb'))\n",
    "best_lda = gensim.models.ldamodel.LdaModel.load('best_lda_model.gensim')\n",
    "\n",
    "lda_display = pyLDAvis.gensim_models.prepare(best_lda, corpus, dictionary, sort_topics = False)\n",
    "pyLDAvis.display(lda_display)"
   ]
  },
  {
   "cell_type": "markdown",
   "id": "behavioral-thesis",
   "metadata": {},
   "source": [
    "## Apply Topic Model to Training Set:"
   ]
  },
  {
   "cell_type": "code",
   "execution_count": 83,
   "id": "monthly-edwards",
   "metadata": {},
   "outputs": [],
   "source": [
    "#numerical mapping for topics in LDA model\n",
    "topic_map = {0: 'staff', 1: 'place', 2: 'ambience', 3: 'food', 4: 'price', 5: 'miscellaneous', 6: 'menu'}"
   ]
  },
  {
   "cell_type": "markdown",
   "id": "difficult-feature",
   "metadata": {},
   "source": [
    "### Note to Self:\n",
    "using the last topic map ({0: 'food', ...}) with the TF-IDF representation results in ~53% accuracy. But these topics don't really make much sense when you look at it in pyLDAvis..."
   ]
  },
  {
   "cell_type": "code",
   "execution_count": 132,
   "id": "starting-rehabilitation",
   "metadata": {},
   "outputs": [
    {
     "name": "stdout",
     "output_type": "stream",
     "text": [
      "[(0, 0.94255596), (1, 0.015232839), (2, 0.011533348)] \n",
      " [(0, 0.7105671), (1, 0.017613307), (2, 0.23558873), (3, 0.01119198)] \n",
      " [(0, 0.37772307), (1, 0.02185536), (2, 0.016607646), (3, 0.013668388), (4, 0.5511465), (5, 0.010082616)]\n"
     ]
    }
   ],
   "source": [
    "#print topic probabilities for a select few documents\n",
    "#note sum of all probabilities is 1 for each document\n",
    "\n",
    "doc_topics = [best_lda.get_document_topics(doc) for doc in corpus]\n",
    "print(doc_topics[0], '\\n', doc_topics[30], '\\n', doc_topics[777])"
   ]
  },
  {
   "cell_type": "code",
   "execution_count": 133,
   "id": "reverse-driving",
   "metadata": {},
   "outputs": [
    {
     "data": {
      "text/plain": [
       "[2, 2, 2, 2, 2]"
      ]
     },
     "execution_count": 133,
     "metadata": {},
     "output_type": "execute_result"
    }
   ],
   "source": [
    "#count number of labels for each document in the training set\n",
    "label_counts = list(train_df['sentiment'].apply(lambda x: len(x)))\n",
    "label_counts[0:5]"
   ]
  },
  {
   "cell_type": "code",
   "execution_count": 134,
   "id": "useful-harrison",
   "metadata": {},
   "outputs": [
    {
     "data": {
      "text/plain": [
       "(2, [(0, 0.94255596), (1, 0.015232839), (2, 0.011533348)])"
      ]
     },
     "execution_count": 134,
     "metadata": {},
     "output_type": "execute_result"
    }
   ],
   "source": [
    "#zip together count of labels with learned document topics\n",
    "doc_topics = tuple(zip(label_counts, doc_topics))\n",
    "doc_topics[0]"
   ]
  },
  {
   "cell_type": "code",
   "execution_count": null,
   "id": "lesbian-council",
   "metadata": {},
   "outputs": [],
   "source": [
    "doc_topics[0]"
   ]
  },
  {
   "cell_type": "code",
   "execution_count": 136,
   "id": "apart-testimony",
   "metadata": {
    "scrolled": true
   },
   "outputs": [
    {
     "data": {
      "text/plain": [
       "{'staff': 0.94255596, 'place': 0.015232839, 'ambience': 0.011533348}"
      ]
     },
     "execution_count": 136,
     "metadata": {},
     "output_type": "execute_result"
    }
   ],
   "source": [
    "#map topic numbers to topics\n",
    "A = {topic_map[x[0]]:x[-1] for x in doc_topics[0][-1]}\n",
    "A"
   ]
  },
  {
   "cell_type": "code",
   "execution_count": 138,
   "id": "phantom-estate",
   "metadata": {},
   "outputs": [
    {
     "data": {
      "text/plain": [
       "{'staff': 0.94255596, 'place': 0.015232839}"
      ]
     },
     "execution_count": 138,
     "metadata": {},
     "output_type": "execute_result"
    }
   ],
   "source": [
    "#get the 2 strongest topics for document A\n",
    "num = doc_topics[0][0]\n",
    "newA = dict(sorted(A.items(), key = itemgetter(1), reverse = True)[:num])\n",
    "newA"
   ]
  },
  {
   "cell_type": "code",
   "execution_count": 145,
   "id": "dynamic-storage",
   "metadata": {},
   "outputs": [],
   "source": [
    "def get_strong_topics(document, topic_map):\n",
    "    \"\"\"Choose the strongest topics for each document, such that the number of topics chosen matches\n",
    "    the number of training labels assigned to the document.\"\"\"\n",
    "    \n",
    "    num_topics = document[0]\n",
    "    topic_dict = {topic_map[topic[0]]: topic[1] for topic in document[-1]}\n",
    "#     output = {k:v for k,v in topic_dict.items() if v > topic_threshold}\n",
    "    \n",
    "#     if len(output) == 1:\n",
    "#         output = dict(sorted(topic_dict.items(), key = itemgetter(1), reverse = True)[0:2])\n",
    "        \n",
    "    output = dict(sorted(topic_dict.items(), key = itemgetter(1), reverse = True)[0:num_topics])\n",
    "    \n",
    "    return output        "
   ]
  },
  {
   "cell_type": "code",
   "execution_count": 146,
   "id": "instant-electron",
   "metadata": {},
   "outputs": [
    {
     "data": {
      "text/plain": [
       "{'staff': 0.94255596, 'place': 0.015232839}"
      ]
     },
     "execution_count": 146,
     "metadata": {},
     "output_type": "execute_result"
    }
   ],
   "source": [
    "get_strong_topics(document = doc_topics[0], topic_map = topic_map)"
   ]
  },
  {
   "cell_type": "code",
   "execution_count": 147,
   "id": "infinite-mission",
   "metadata": {},
   "outputs": [
    {
     "data": {
      "text/plain": [
       "([{'staff': 0.94255596, 'place': 0.015232839},\n",
       "  {'staff': 0.9076602, 'place': 0.023879891},\n",
       "  {'staff': 0.94316214, 'place': 0.014672909}],\n",
       " 3148)"
      ]
     },
     "execution_count": 147,
     "metadata": {},
     "output_type": "execute_result"
    }
   ],
   "source": [
    "#for each document in training set, get strongest topics so that the number of topics chosen matches the number of labels assigned\n",
    "strong_topics = []\n",
    "    \n",
    "for doc in doc_topics:\n",
    "    tmp = get_strong_topics(document = doc, topic_map = topic_map)\n",
    "    strong_topics.append(tmp)\n",
    "\n",
    "strong_topics[0:3], len(strong_topics)"
   ]
  },
  {
   "cell_type": "code",
   "execution_count": 148,
   "id": "placed-grant",
   "metadata": {},
   "outputs": [
    {
     "data": {
      "text/plain": [
       "{'staff': 0.7105671, 'ambience': 0.23558873}"
      ]
     },
     "execution_count": 148,
     "metadata": {},
     "output_type": "execute_result"
    }
   ],
   "source": [
    "strong_topics[30]"
   ]
  },
  {
   "cell_type": "code",
   "execution_count": 149,
   "id": "favorite-johnston",
   "metadata": {
    "scrolled": true
   },
   "outputs": [
    {
     "data": {
      "text/html": [
       "<div>\n",
       "<style scoped>\n",
       "    .dataframe tbody tr th:only-of-type {\n",
       "        vertical-align: middle;\n",
       "    }\n",
       "\n",
       "    .dataframe tbody tr th {\n",
       "        vertical-align: top;\n",
       "    }\n",
       "\n",
       "    .dataframe thead th {\n",
       "        text-align: right;\n",
       "    }\n",
       "</style>\n",
       "<table border=\"1\" class=\"dataframe\">\n",
       "  <thead>\n",
       "    <tr style=\"text-align: right;\">\n",
       "      <th></th>\n",
       "      <th>text</th>\n",
       "      <th>lda_topic</th>\n",
       "    </tr>\n",
       "  </thead>\n",
       "  <tbody>\n",
       "    <tr>\n",
       "      <th>0</th>\n",
       "      <td>It might be the best sit down food I've had in...</td>\n",
       "      <td>{'staff': 0.94255596, 'place': 0.015232839}</td>\n",
       "    </tr>\n",
       "    <tr>\n",
       "      <th>1</th>\n",
       "      <td>Hostess was extremely accommodating when we ar...</td>\n",
       "      <td>{'staff': 0.9076602, 'place': 0.023879891}</td>\n",
       "    </tr>\n",
       "    <tr>\n",
       "      <th>2</th>\n",
       "      <td>We were a couple of minutes late for our reser...</td>\n",
       "      <td>{'staff': 0.94316214, 'place': 0.014672909}</td>\n",
       "    </tr>\n",
       "    <tr>\n",
       "      <th>3</th>\n",
       "      <td>Though the service might be a little slow, the...</td>\n",
       "      <td>{'staff': 0.90725803, 'place': 0.02429213}</td>\n",
       "    </tr>\n",
       "    <tr>\n",
       "      <th>4</th>\n",
       "      <td>Although we arrived at the restaurant 10 min l...</td>\n",
       "      <td>{'staff': 0.9074069, 'place': 0.024144385}</td>\n",
       "    </tr>\n",
       "    <tr>\n",
       "      <th>...</th>\n",
       "      <td>...</td>\n",
       "      <td>...</td>\n",
       "    </tr>\n",
       "    <tr>\n",
       "      <th>3143</th>\n",
       "      <td>We walked out the door with only a drink in ea...</td>\n",
       "      <td>{'staff': 0.8941928, 'place': 0.027563954}</td>\n",
       "    </tr>\n",
       "    <tr>\n",
       "      <th>3144</th>\n",
       "      <td>It took us 20 minutes to get a check, despite ...</td>\n",
       "      <td>{'staff': 0.7464202, 'miscellaneous': 0.20373245}</td>\n",
       "    </tr>\n",
       "    <tr>\n",
       "      <th>3145</th>\n",
       "      <td>The pancakes were good, but don't have blueber...</td>\n",
       "      <td>{'ambience': 0.57440066, 'place': 0.368531}</td>\n",
       "    </tr>\n",
       "    <tr>\n",
       "      <th>3146</th>\n",
       "      <td>Our waiter disappeared entirely, our food, whe...</td>\n",
       "      <td>{'staff': 0.9678407}</td>\n",
       "    </tr>\n",
       "    <tr>\n",
       "      <th>3147</th>\n",
       "      <td>90 for a porterhouse steak for 2 (ordered medi...</td>\n",
       "      <td>{'staff': 0.54294896, 'food': 0.40963975}</td>\n",
       "    </tr>\n",
       "  </tbody>\n",
       "</table>\n",
       "<p>3148 rows × 2 columns</p>\n",
       "</div>"
      ],
      "text/plain": [
       "                                                   text  \\\n",
       "0     It might be the best sit down food I've had in...   \n",
       "1     Hostess was extremely accommodating when we ar...   \n",
       "2     We were a couple of minutes late for our reser...   \n",
       "3     Though the service might be a little slow, the...   \n",
       "4     Although we arrived at the restaurant 10 min l...   \n",
       "...                                                 ...   \n",
       "3143  We walked out the door with only a drink in ea...   \n",
       "3144  It took us 20 minutes to get a check, despite ...   \n",
       "3145  The pancakes were good, but don't have blueber...   \n",
       "3146  Our waiter disappeared entirely, our food, whe...   \n",
       "3147  90 for a porterhouse steak for 2 (ordered medi...   \n",
       "\n",
       "                                              lda_topic  \n",
       "0           {'staff': 0.94255596, 'place': 0.015232839}  \n",
       "1            {'staff': 0.9076602, 'place': 0.023879891}  \n",
       "2           {'staff': 0.94316214, 'place': 0.014672909}  \n",
       "3            {'staff': 0.90725803, 'place': 0.02429213}  \n",
       "4            {'staff': 0.9074069, 'place': 0.024144385}  \n",
       "...                                                 ...  \n",
       "3143         {'staff': 0.8941928, 'place': 0.027563954}  \n",
       "3144  {'staff': 0.7464202, 'miscellaneous': 0.20373245}  \n",
       "3145        {'ambience': 0.57440066, 'place': 0.368531}  \n",
       "3146                               {'staff': 0.9678407}  \n",
       "3147          {'staff': 0.54294896, 'food': 0.40963975}  \n",
       "\n",
       "[3148 rows x 2 columns]"
      ]
     },
     "execution_count": 149,
     "metadata": {},
     "output_type": "execute_result"
    }
   ],
   "source": [
    "#create dataframe showing strongest learned topics for each document in the training set\n",
    "lda_df = pd.DataFrame({'text': train_df['text'], 'lda_topic': strong_topics})\n",
    "lda_df"
   ]
  },
  {
   "cell_type": "markdown",
   "id": "stupid-inventory",
   "metadata": {},
   "source": [
    "## Sentiment Analysis (NLTK VADER):"
   ]
  },
  {
   "cell_type": "code",
   "execution_count": 54,
   "id": "thrown-serbia",
   "metadata": {},
   "outputs": [
    {
     "name": "stderr",
     "output_type": "stream",
     "text": [
      "[nltk_data] Downloading package vader_lexicon to\n",
      "[nltk_data]     C:\\Users\\Evan\\AppData\\Roaming\\nltk_data...\n",
      "[nltk_data]   Package vader_lexicon is already up-to-date!\n"
     ]
    }
   ],
   "source": [
    "nltk.download('vader_lexicon')\n",
    "sid = SentimentIntensityAnalyzer()"
   ]
  },
  {
   "cell_type": "code",
   "execution_count": 55,
   "id": "refined-colorado",
   "metadata": {
    "scrolled": true
   },
   "outputs": [
    {
     "name": "stdout",
     "output_type": "stream",
     "text": [
      "It might be the best sit down food I've had in the area, so if you are going to the upright citizen brigade, or the garden, it could be just the place for you. \n",
      " {'neg': 0.0, 'neu': 0.887, 'pos': 0.113, 'compound': 0.6369}\n"
     ]
    }
   ],
   "source": [
    "#test out VADER sentiment analyzer\n",
    "sample2 = lda_df['text'][0]\n",
    "print(sample2, '\\n', sid.polarity_scores(sample2))"
   ]
  },
  {
   "cell_type": "code",
   "execution_count": 56,
   "id": "meaningful-services",
   "metadata": {},
   "outputs": [
    {
     "data": {
      "text/plain": [
       "{'neg': 0.0, 'neu': 1.0, 'pos': 0.0, 'compound': 0.0}"
      ]
     },
     "execution_count": 56,
     "metadata": {},
     "output_type": "execute_result"
    }
   ],
   "source": [
    "sample3 = \"This was a bland and flavorless experience to say the least.\"\n",
    "sid.polarity_scores(sample3)"
   ]
  },
  {
   "cell_type": "code",
   "execution_count": 150,
   "id": "special-lending",
   "metadata": {},
   "outputs": [
    {
     "data": {
      "text/html": [
       "<div>\n",
       "<style scoped>\n",
       "    .dataframe tbody tr th:only-of-type {\n",
       "        vertical-align: middle;\n",
       "    }\n",
       "\n",
       "    .dataframe tbody tr th {\n",
       "        vertical-align: top;\n",
       "    }\n",
       "\n",
       "    .dataframe thead th {\n",
       "        text-align: right;\n",
       "    }\n",
       "</style>\n",
       "<table border=\"1\" class=\"dataframe\">\n",
       "  <thead>\n",
       "    <tr style=\"text-align: right;\">\n",
       "      <th></th>\n",
       "      <th>text</th>\n",
       "      <th>lda_topic</th>\n",
       "      <th>vader_score</th>\n",
       "      <th>compound_score</th>\n",
       "      <th>sentiment</th>\n",
       "      <th>food</th>\n",
       "      <th>place</th>\n",
       "      <th>staff</th>\n",
       "      <th>miscellaneous</th>\n",
       "      <th>service</th>\n",
       "      <th>price</th>\n",
       "      <th>menu</th>\n",
       "      <th>ambience</th>\n",
       "    </tr>\n",
       "  </thead>\n",
       "  <tbody>\n",
       "    <tr>\n",
       "      <th>0</th>\n",
       "      <td>It might be the best sit down food I've had in...</td>\n",
       "      <td>{'staff': 0.94255596, 'place': 0.015232839}</td>\n",
       "      <td>{'neg': 0.0, 'neu': 0.887, 'pos': 0.113, 'comp...</td>\n",
       "      <td>0.6369</td>\n",
       "      <td>positive</td>\n",
       "      <td>NaN</td>\n",
       "      <td>positive</td>\n",
       "      <td>positive</td>\n",
       "      <td>NaN</td>\n",
       "      <td>None</td>\n",
       "      <td>NaN</td>\n",
       "      <td>NaN</td>\n",
       "      <td>NaN</td>\n",
       "    </tr>\n",
       "    <tr>\n",
       "      <th>1</th>\n",
       "      <td>Hostess was extremely accommodating when we ar...</td>\n",
       "      <td>{'staff': 0.9076602, 'place': 0.023879891}</td>\n",
       "      <td>{'neg': 0.0, 'neu': 1.0, 'pos': 0.0, 'compound...</td>\n",
       "      <td>0.0000</td>\n",
       "      <td>neutral</td>\n",
       "      <td>NaN</td>\n",
       "      <td>neutral</td>\n",
       "      <td>neutral</td>\n",
       "      <td>NaN</td>\n",
       "      <td>None</td>\n",
       "      <td>NaN</td>\n",
       "      <td>NaN</td>\n",
       "      <td>NaN</td>\n",
       "    </tr>\n",
       "    <tr>\n",
       "      <th>2</th>\n",
       "      <td>We were a couple of minutes late for our reser...</td>\n",
       "      <td>{'staff': 0.94316214, 'place': 0.014672909}</td>\n",
       "      <td>{'neg': 0.0, 'neu': 1.0, 'pos': 0.0, 'compound...</td>\n",
       "      <td>0.0000</td>\n",
       "      <td>neutral</td>\n",
       "      <td>NaN</td>\n",
       "      <td>neutral</td>\n",
       "      <td>neutral</td>\n",
       "      <td>NaN</td>\n",
       "      <td>None</td>\n",
       "      <td>NaN</td>\n",
       "      <td>NaN</td>\n",
       "      <td>NaN</td>\n",
       "    </tr>\n",
       "    <tr>\n",
       "      <th>3</th>\n",
       "      <td>Though the service might be a little slow, the...</td>\n",
       "      <td>{'staff': 0.90725803, 'place': 0.02429213}</td>\n",
       "      <td>{'neg': 0.0, 'neu': 0.759, 'pos': 0.241, 'comp...</td>\n",
       "      <td>0.5413</td>\n",
       "      <td>positive</td>\n",
       "      <td>NaN</td>\n",
       "      <td>positive</td>\n",
       "      <td>positive</td>\n",
       "      <td>NaN</td>\n",
       "      <td>None</td>\n",
       "      <td>NaN</td>\n",
       "      <td>NaN</td>\n",
       "      <td>NaN</td>\n",
       "    </tr>\n",
       "    <tr>\n",
       "      <th>4</th>\n",
       "      <td>Although we arrived at the restaurant 10 min l...</td>\n",
       "      <td>{'staff': 0.9074069, 'place': 0.024144385}</td>\n",
       "      <td>{'neg': 0.0, 'neu': 1.0, 'pos': 0.0, 'compound...</td>\n",
       "      <td>0.0000</td>\n",
       "      <td>neutral</td>\n",
       "      <td>NaN</td>\n",
       "      <td>neutral</td>\n",
       "      <td>neutral</td>\n",
       "      <td>NaN</td>\n",
       "      <td>None</td>\n",
       "      <td>NaN</td>\n",
       "      <td>NaN</td>\n",
       "      <td>NaN</td>\n",
       "    </tr>\n",
       "  </tbody>\n",
       "</table>\n",
       "</div>"
      ],
      "text/plain": [
       "                                                text  \\\n",
       "0  It might be the best sit down food I've had in...   \n",
       "1  Hostess was extremely accommodating when we ar...   \n",
       "2  We were a couple of minutes late for our reser...   \n",
       "3  Though the service might be a little slow, the...   \n",
       "4  Although we arrived at the restaurant 10 min l...   \n",
       "\n",
       "                                     lda_topic  \\\n",
       "0  {'staff': 0.94255596, 'place': 0.015232839}   \n",
       "1   {'staff': 0.9076602, 'place': 0.023879891}   \n",
       "2  {'staff': 0.94316214, 'place': 0.014672909}   \n",
       "3   {'staff': 0.90725803, 'place': 0.02429213}   \n",
       "4   {'staff': 0.9074069, 'place': 0.024144385}   \n",
       "\n",
       "                                         vader_score  compound_score  \\\n",
       "0  {'neg': 0.0, 'neu': 0.887, 'pos': 0.113, 'comp...          0.6369   \n",
       "1  {'neg': 0.0, 'neu': 1.0, 'pos': 0.0, 'compound...          0.0000   \n",
       "2  {'neg': 0.0, 'neu': 1.0, 'pos': 0.0, 'compound...          0.0000   \n",
       "3  {'neg': 0.0, 'neu': 0.759, 'pos': 0.241, 'comp...          0.5413   \n",
       "4  {'neg': 0.0, 'neu': 1.0, 'pos': 0.0, 'compound...          0.0000   \n",
       "\n",
       "  sentiment food     place     staff miscellaneous service price menu ambience  \n",
       "0  positive  NaN  positive  positive           NaN    None   NaN  NaN      NaN  \n",
       "1   neutral  NaN   neutral   neutral           NaN    None   NaN  NaN      NaN  \n",
       "2   neutral  NaN   neutral   neutral           NaN    None   NaN  NaN      NaN  \n",
       "3  positive  NaN  positive  positive           NaN    None   NaN  NaN      NaN  \n",
       "4   neutral  NaN   neutral   neutral           NaN    None   NaN  NaN      NaN  "
      ]
     },
     "execution_count": 150,
     "metadata": {},
     "output_type": "execute_result"
    }
   ],
   "source": [
    "#perform sentiment analysis for each document\n",
    "#assign sentiment to each learned aspect category for each document\n",
    "\n",
    "lda_df['vader_score'] = lda_df['text'].apply(lambda review: sid.polarity_scores(review))\n",
    "lda_df['compound_score'] = lda_df['vader_score'].apply(lambda score_dict: score_dict['compound'])\n",
    "lda_df['sentiment'] = lda_df['compound_score'].apply(lambda sent: 'positive' if sent > 0 else ('neutral' if sent ==0 else 'negative'))\n",
    "\n",
    "for cat in categories:\n",
    "    lda_df[f'{cat}'] = lda_df['lda_topic'].apply(lambda x: encode_category(x, cat))\n",
    "    lda_df[f'{cat}'] = lda_df[f'{cat}'].mask(lda_df[f'{cat}'].notnull(), lda_df['sentiment'])\n",
    "\n",
    "lda_df.head()"
   ]
  },
  {
   "cell_type": "code",
   "execution_count": 93,
   "id": "dedicated-producer",
   "metadata": {},
   "outputs": [],
   "source": [
    "assert len(train_df) == len(lda_df)"
   ]
  },
  {
   "cell_type": "markdown",
   "id": "threatened-database",
   "metadata": {},
   "source": [
    "## LDA + NLTK VADER Model Evaluation:"
   ]
  },
  {
   "cell_type": "code",
   "execution_count": 151,
   "id": "ethical-birthday",
   "metadata": {},
   "outputs": [
    {
     "name": "stderr",
     "output_type": "stream",
     "text": [
      "C:\\ProgramData\\Anaconda3\\envs\\nlpenv\\lib\\site-packages\\pandas\\core\\frame.py:4524: SettingWithCopyWarning: \n",
      "A value is trying to be set on a copy of a slice from a DataFrame\n",
      "\n",
      "See the caveats in the documentation: https://pandas.pydata.org/pandas-docs/stable/user_guide/indexing.html#returning-a-view-versus-a-copy\n",
      "  return super().replace(\n"
     ]
    },
    {
     "data": {
      "text/html": [
       "<div>\n",
       "<style scoped>\n",
       "    .dataframe tbody tr th:only-of-type {\n",
       "        vertical-align: middle;\n",
       "    }\n",
       "\n",
       "    .dataframe tbody tr th {\n",
       "        vertical-align: top;\n",
       "    }\n",
       "\n",
       "    .dataframe thead th {\n",
       "        text-align: right;\n",
       "    }\n",
       "</style>\n",
       "<table border=\"1\" class=\"dataframe\">\n",
       "  <thead>\n",
       "    <tr style=\"text-align: right;\">\n",
       "      <th></th>\n",
       "      <th>food</th>\n",
       "      <th>place</th>\n",
       "      <th>staff</th>\n",
       "      <th>miscellaneous</th>\n",
       "      <th>service</th>\n",
       "      <th>price</th>\n",
       "      <th>menu</th>\n",
       "      <th>ambience</th>\n",
       "    </tr>\n",
       "  </thead>\n",
       "  <tbody>\n",
       "    <tr>\n",
       "      <th>0</th>\n",
       "      <td>positive</td>\n",
       "      <td>neutral</td>\n",
       "      <td>N/A</td>\n",
       "      <td>N/A</td>\n",
       "      <td>N/A</td>\n",
       "      <td>N/A</td>\n",
       "      <td>N/A</td>\n",
       "      <td>N/A</td>\n",
       "    </tr>\n",
       "    <tr>\n",
       "      <th>1</th>\n",
       "      <td>N/A</td>\n",
       "      <td>N/A</td>\n",
       "      <td>positive</td>\n",
       "      <td>neutral</td>\n",
       "      <td>N/A</td>\n",
       "      <td>N/A</td>\n",
       "      <td>N/A</td>\n",
       "      <td>N/A</td>\n",
       "    </tr>\n",
       "    <tr>\n",
       "      <th>2</th>\n",
       "      <td>N/A</td>\n",
       "      <td>N/A</td>\n",
       "      <td>negative</td>\n",
       "      <td>neutral</td>\n",
       "      <td>N/A</td>\n",
       "      <td>N/A</td>\n",
       "      <td>N/A</td>\n",
       "      <td>N/A</td>\n",
       "    </tr>\n",
       "    <tr>\n",
       "      <th>3</th>\n",
       "      <td>N/A</td>\n",
       "      <td>N/A</td>\n",
       "      <td>positive</td>\n",
       "      <td>N/A</td>\n",
       "      <td>negative</td>\n",
       "      <td>N/A</td>\n",
       "      <td>N/A</td>\n",
       "      <td>N/A</td>\n",
       "    </tr>\n",
       "    <tr>\n",
       "      <th>4</th>\n",
       "      <td>N/A</td>\n",
       "      <td>N/A</td>\n",
       "      <td>negative</td>\n",
       "      <td>neutral</td>\n",
       "      <td>N/A</td>\n",
       "      <td>N/A</td>\n",
       "      <td>N/A</td>\n",
       "      <td>N/A</td>\n",
       "    </tr>\n",
       "    <tr>\n",
       "      <th>...</th>\n",
       "      <td>...</td>\n",
       "      <td>...</td>\n",
       "      <td>...</td>\n",
       "      <td>...</td>\n",
       "      <td>...</td>\n",
       "      <td>...</td>\n",
       "      <td>...</td>\n",
       "      <td>...</td>\n",
       "    </tr>\n",
       "    <tr>\n",
       "      <th>3143</th>\n",
       "      <td>neutral</td>\n",
       "      <td>N/A</td>\n",
       "      <td>N/A</td>\n",
       "      <td>N/A</td>\n",
       "      <td>N/A</td>\n",
       "      <td>negative</td>\n",
       "      <td>N/A</td>\n",
       "      <td>N/A</td>\n",
       "    </tr>\n",
       "    <tr>\n",
       "      <th>3144</th>\n",
       "      <td>N/A</td>\n",
       "      <td>N/A</td>\n",
       "      <td>negative</td>\n",
       "      <td>N/A</td>\n",
       "      <td>N/A</td>\n",
       "      <td>neutral</td>\n",
       "      <td>N/A</td>\n",
       "      <td>N/A</td>\n",
       "    </tr>\n",
       "    <tr>\n",
       "      <th>3145</th>\n",
       "      <td>negative</td>\n",
       "      <td>N/A</td>\n",
       "      <td>N/A</td>\n",
       "      <td>N/A</td>\n",
       "      <td>N/A</td>\n",
       "      <td>N/A</td>\n",
       "      <td>neutral</td>\n",
       "      <td>N/A</td>\n",
       "    </tr>\n",
       "    <tr>\n",
       "      <th>3146</th>\n",
       "      <td>neutral</td>\n",
       "      <td>N/A</td>\n",
       "      <td>negative</td>\n",
       "      <td>neutral</td>\n",
       "      <td>N/A</td>\n",
       "      <td>neutral</td>\n",
       "      <td>N/A</td>\n",
       "      <td>N/A</td>\n",
       "    </tr>\n",
       "    <tr>\n",
       "      <th>3147</th>\n",
       "      <td>neutral</td>\n",
       "      <td>N/A</td>\n",
       "      <td>N/A</td>\n",
       "      <td>N/A</td>\n",
       "      <td>positive</td>\n",
       "      <td>N/A</td>\n",
       "      <td>N/A</td>\n",
       "      <td>N/A</td>\n",
       "    </tr>\n",
       "  </tbody>\n",
       "</table>\n",
       "<p>3148 rows × 8 columns</p>\n",
       "</div>"
      ],
      "text/plain": [
       "          food    place     staff miscellaneous   service     price     menu  \\\n",
       "0     positive  neutral       N/A           N/A       N/A       N/A      N/A   \n",
       "1          N/A      N/A  positive       neutral       N/A       N/A      N/A   \n",
       "2          N/A      N/A  negative       neutral       N/A       N/A      N/A   \n",
       "3          N/A      N/A  positive           N/A  negative       N/A      N/A   \n",
       "4          N/A      N/A  negative       neutral       N/A       N/A      N/A   \n",
       "...        ...      ...       ...           ...       ...       ...      ...   \n",
       "3143   neutral      N/A       N/A           N/A       N/A  negative      N/A   \n",
       "3144       N/A      N/A  negative           N/A       N/A   neutral      N/A   \n",
       "3145  negative      N/A       N/A           N/A       N/A       N/A  neutral   \n",
       "3146   neutral      N/A  negative       neutral       N/A   neutral      N/A   \n",
       "3147   neutral      N/A       N/A           N/A  positive       N/A      N/A   \n",
       "\n",
       "     ambience  \n",
       "0         N/A  \n",
       "1         N/A  \n",
       "2         N/A  \n",
       "3         N/A  \n",
       "4         N/A  \n",
       "...       ...  \n",
       "3143      N/A  \n",
       "3144      N/A  \n",
       "3145      N/A  \n",
       "3146      N/A  \n",
       "3147      N/A  \n",
       "\n",
       "[3148 rows x 8 columns]"
      ]
     },
     "execution_count": 151,
     "metadata": {},
     "output_type": "execute_result"
    }
   ],
   "source": [
    "#collect aspect categories and sentiment labels for the training set\n",
    "train_df_cats = train_df[categories]\n",
    "train_df_cats.replace(to_replace = [None], value = 'N/A', inplace = True)\n",
    "train_df_cats"
   ]
  },
  {
   "cell_type": "code",
   "execution_count": 152,
   "id": "residential-yesterday",
   "metadata": {},
   "outputs": [
    {
     "name": "stderr",
     "output_type": "stream",
     "text": [
      "C:\\ProgramData\\Anaconda3\\envs\\nlpenv\\lib\\site-packages\\pandas\\core\\frame.py:4524: SettingWithCopyWarning: \n",
      "A value is trying to be set on a copy of a slice from a DataFrame\n",
      "\n",
      "See the caveats in the documentation: https://pandas.pydata.org/pandas-docs/stable/user_guide/indexing.html#returning-a-view-versus-a-copy\n",
      "  return super().replace(\n"
     ]
    },
    {
     "data": {
      "text/html": [
       "<div>\n",
       "<style scoped>\n",
       "    .dataframe tbody tr th:only-of-type {\n",
       "        vertical-align: middle;\n",
       "    }\n",
       "\n",
       "    .dataframe tbody tr th {\n",
       "        vertical-align: top;\n",
       "    }\n",
       "\n",
       "    .dataframe thead th {\n",
       "        text-align: right;\n",
       "    }\n",
       "</style>\n",
       "<table border=\"1\" class=\"dataframe\">\n",
       "  <thead>\n",
       "    <tr style=\"text-align: right;\">\n",
       "      <th></th>\n",
       "      <th>food</th>\n",
       "      <th>place</th>\n",
       "      <th>staff</th>\n",
       "      <th>miscellaneous</th>\n",
       "      <th>service</th>\n",
       "      <th>price</th>\n",
       "      <th>menu</th>\n",
       "      <th>ambience</th>\n",
       "    </tr>\n",
       "  </thead>\n",
       "  <tbody>\n",
       "    <tr>\n",
       "      <th>0</th>\n",
       "      <td>N/A</td>\n",
       "      <td>positive</td>\n",
       "      <td>positive</td>\n",
       "      <td>N/A</td>\n",
       "      <td>N/A</td>\n",
       "      <td>N/A</td>\n",
       "      <td>N/A</td>\n",
       "      <td>N/A</td>\n",
       "    </tr>\n",
       "    <tr>\n",
       "      <th>1</th>\n",
       "      <td>N/A</td>\n",
       "      <td>neutral</td>\n",
       "      <td>neutral</td>\n",
       "      <td>N/A</td>\n",
       "      <td>N/A</td>\n",
       "      <td>N/A</td>\n",
       "      <td>N/A</td>\n",
       "      <td>N/A</td>\n",
       "    </tr>\n",
       "    <tr>\n",
       "      <th>2</th>\n",
       "      <td>N/A</td>\n",
       "      <td>neutral</td>\n",
       "      <td>neutral</td>\n",
       "      <td>N/A</td>\n",
       "      <td>N/A</td>\n",
       "      <td>N/A</td>\n",
       "      <td>N/A</td>\n",
       "      <td>N/A</td>\n",
       "    </tr>\n",
       "    <tr>\n",
       "      <th>3</th>\n",
       "      <td>N/A</td>\n",
       "      <td>positive</td>\n",
       "      <td>positive</td>\n",
       "      <td>N/A</td>\n",
       "      <td>N/A</td>\n",
       "      <td>N/A</td>\n",
       "      <td>N/A</td>\n",
       "      <td>N/A</td>\n",
       "    </tr>\n",
       "    <tr>\n",
       "      <th>4</th>\n",
       "      <td>N/A</td>\n",
       "      <td>neutral</td>\n",
       "      <td>neutral</td>\n",
       "      <td>N/A</td>\n",
       "      <td>N/A</td>\n",
       "      <td>N/A</td>\n",
       "      <td>N/A</td>\n",
       "      <td>N/A</td>\n",
       "    </tr>\n",
       "    <tr>\n",
       "      <th>...</th>\n",
       "      <td>...</td>\n",
       "      <td>...</td>\n",
       "      <td>...</td>\n",
       "      <td>...</td>\n",
       "      <td>...</td>\n",
       "      <td>...</td>\n",
       "      <td>...</td>\n",
       "      <td>...</td>\n",
       "    </tr>\n",
       "    <tr>\n",
       "      <th>3143</th>\n",
       "      <td>N/A</td>\n",
       "      <td>neutral</td>\n",
       "      <td>neutral</td>\n",
       "      <td>N/A</td>\n",
       "      <td>N/A</td>\n",
       "      <td>N/A</td>\n",
       "      <td>N/A</td>\n",
       "      <td>N/A</td>\n",
       "    </tr>\n",
       "    <tr>\n",
       "      <th>3144</th>\n",
       "      <td>N/A</td>\n",
       "      <td>N/A</td>\n",
       "      <td>positive</td>\n",
       "      <td>positive</td>\n",
       "      <td>N/A</td>\n",
       "      <td>N/A</td>\n",
       "      <td>N/A</td>\n",
       "      <td>N/A</td>\n",
       "    </tr>\n",
       "    <tr>\n",
       "      <th>3145</th>\n",
       "      <td>N/A</td>\n",
       "      <td>positive</td>\n",
       "      <td>N/A</td>\n",
       "      <td>N/A</td>\n",
       "      <td>N/A</td>\n",
       "      <td>N/A</td>\n",
       "      <td>N/A</td>\n",
       "      <td>positive</td>\n",
       "    </tr>\n",
       "    <tr>\n",
       "      <th>3146</th>\n",
       "      <td>N/A</td>\n",
       "      <td>N/A</td>\n",
       "      <td>negative</td>\n",
       "      <td>N/A</td>\n",
       "      <td>N/A</td>\n",
       "      <td>N/A</td>\n",
       "      <td>N/A</td>\n",
       "      <td>N/A</td>\n",
       "    </tr>\n",
       "    <tr>\n",
       "      <th>3147</th>\n",
       "      <td>neutral</td>\n",
       "      <td>N/A</td>\n",
       "      <td>neutral</td>\n",
       "      <td>N/A</td>\n",
       "      <td>N/A</td>\n",
       "      <td>N/A</td>\n",
       "      <td>N/A</td>\n",
       "      <td>N/A</td>\n",
       "    </tr>\n",
       "  </tbody>\n",
       "</table>\n",
       "<p>3148 rows × 8 columns</p>\n",
       "</div>"
      ],
      "text/plain": [
       "         food     place     staff miscellaneous service price menu  ambience\n",
       "0         N/A  positive  positive           N/A     N/A   N/A  N/A       N/A\n",
       "1         N/A   neutral   neutral           N/A     N/A   N/A  N/A       N/A\n",
       "2         N/A   neutral   neutral           N/A     N/A   N/A  N/A       N/A\n",
       "3         N/A  positive  positive           N/A     N/A   N/A  N/A       N/A\n",
       "4         N/A   neutral   neutral           N/A     N/A   N/A  N/A       N/A\n",
       "...       ...       ...       ...           ...     ...   ...  ...       ...\n",
       "3143      N/A   neutral   neutral           N/A     N/A   N/A  N/A       N/A\n",
       "3144      N/A       N/A  positive      positive     N/A   N/A  N/A       N/A\n",
       "3145      N/A  positive       N/A           N/A     N/A   N/A  N/A  positive\n",
       "3146      N/A       N/A  negative           N/A     N/A   N/A  N/A       N/A\n",
       "3147  neutral       N/A   neutral           N/A     N/A   N/A  N/A       N/A\n",
       "\n",
       "[3148 rows x 8 columns]"
      ]
     },
     "execution_count": 152,
     "metadata": {},
     "output_type": "execute_result"
    }
   ],
   "source": [
    "#collect learned aspect categories and sentiments for the training set\n",
    "lda_df_cats = lda_df[categories]\n",
    "lda_df_cats.replace(to_replace = [None], value = 'N/A', inplace = True)\n",
    "lda_df_cats"
   ]
  },
  {
   "cell_type": "code",
   "execution_count": 153,
   "id": "special-highway",
   "metadata": {
    "scrolled": true
   },
   "outputs": [
    {
     "data": {
      "text/html": [
       "<div>\n",
       "<style scoped>\n",
       "    .dataframe tbody tr th:only-of-type {\n",
       "        vertical-align: middle;\n",
       "    }\n",
       "\n",
       "    .dataframe tbody tr th {\n",
       "        vertical-align: top;\n",
       "    }\n",
       "\n",
       "    .dataframe thead th {\n",
       "        text-align: right;\n",
       "    }\n",
       "</style>\n",
       "<table border=\"1\" class=\"dataframe\">\n",
       "  <thead>\n",
       "    <tr style=\"text-align: right;\">\n",
       "      <th></th>\n",
       "      <th>food</th>\n",
       "      <th>place</th>\n",
       "      <th>staff</th>\n",
       "      <th>miscellaneous</th>\n",
       "      <th>service</th>\n",
       "      <th>price</th>\n",
       "      <th>menu</th>\n",
       "      <th>ambience</th>\n",
       "    </tr>\n",
       "  </thead>\n",
       "  <tbody>\n",
       "    <tr>\n",
       "      <th>0</th>\n",
       "      <td>0</td>\n",
       "      <td>0</td>\n",
       "      <td>0</td>\n",
       "      <td>1</td>\n",
       "      <td>1</td>\n",
       "      <td>1</td>\n",
       "      <td>1</td>\n",
       "      <td>1</td>\n",
       "    </tr>\n",
       "    <tr>\n",
       "      <th>1</th>\n",
       "      <td>1</td>\n",
       "      <td>0</td>\n",
       "      <td>0</td>\n",
       "      <td>0</td>\n",
       "      <td>1</td>\n",
       "      <td>1</td>\n",
       "      <td>1</td>\n",
       "      <td>1</td>\n",
       "    </tr>\n",
       "    <tr>\n",
       "      <th>2</th>\n",
       "      <td>1</td>\n",
       "      <td>0</td>\n",
       "      <td>0</td>\n",
       "      <td>0</td>\n",
       "      <td>1</td>\n",
       "      <td>1</td>\n",
       "      <td>1</td>\n",
       "      <td>1</td>\n",
       "    </tr>\n",
       "    <tr>\n",
       "      <th>3</th>\n",
       "      <td>1</td>\n",
       "      <td>0</td>\n",
       "      <td>1</td>\n",
       "      <td>1</td>\n",
       "      <td>0</td>\n",
       "      <td>1</td>\n",
       "      <td>1</td>\n",
       "      <td>1</td>\n",
       "    </tr>\n",
       "    <tr>\n",
       "      <th>4</th>\n",
       "      <td>1</td>\n",
       "      <td>0</td>\n",
       "      <td>0</td>\n",
       "      <td>0</td>\n",
       "      <td>1</td>\n",
       "      <td>1</td>\n",
       "      <td>1</td>\n",
       "      <td>1</td>\n",
       "    </tr>\n",
       "    <tr>\n",
       "      <th>...</th>\n",
       "      <td>...</td>\n",
       "      <td>...</td>\n",
       "      <td>...</td>\n",
       "      <td>...</td>\n",
       "      <td>...</td>\n",
       "      <td>...</td>\n",
       "      <td>...</td>\n",
       "      <td>...</td>\n",
       "    </tr>\n",
       "    <tr>\n",
       "      <th>3143</th>\n",
       "      <td>0</td>\n",
       "      <td>0</td>\n",
       "      <td>0</td>\n",
       "      <td>1</td>\n",
       "      <td>1</td>\n",
       "      <td>0</td>\n",
       "      <td>1</td>\n",
       "      <td>1</td>\n",
       "    </tr>\n",
       "    <tr>\n",
       "      <th>3144</th>\n",
       "      <td>1</td>\n",
       "      <td>1</td>\n",
       "      <td>0</td>\n",
       "      <td>0</td>\n",
       "      <td>1</td>\n",
       "      <td>0</td>\n",
       "      <td>1</td>\n",
       "      <td>1</td>\n",
       "    </tr>\n",
       "    <tr>\n",
       "      <th>3145</th>\n",
       "      <td>0</td>\n",
       "      <td>0</td>\n",
       "      <td>1</td>\n",
       "      <td>1</td>\n",
       "      <td>1</td>\n",
       "      <td>1</td>\n",
       "      <td>0</td>\n",
       "      <td>0</td>\n",
       "    </tr>\n",
       "    <tr>\n",
       "      <th>3146</th>\n",
       "      <td>0</td>\n",
       "      <td>1</td>\n",
       "      <td>1</td>\n",
       "      <td>0</td>\n",
       "      <td>1</td>\n",
       "      <td>0</td>\n",
       "      <td>1</td>\n",
       "      <td>1</td>\n",
       "    </tr>\n",
       "    <tr>\n",
       "      <th>3147</th>\n",
       "      <td>1</td>\n",
       "      <td>1</td>\n",
       "      <td>0</td>\n",
       "      <td>1</td>\n",
       "      <td>0</td>\n",
       "      <td>1</td>\n",
       "      <td>1</td>\n",
       "      <td>1</td>\n",
       "    </tr>\n",
       "  </tbody>\n",
       "</table>\n",
       "<p>3148 rows × 8 columns</p>\n",
       "</div>"
      ],
      "text/plain": [
       "      food  place  staff  miscellaneous  service  price  menu  ambience\n",
       "0        0      0      0              1        1      1     1         1\n",
       "1        1      0      0              0        1      1     1         1\n",
       "2        1      0      0              0        1      1     1         1\n",
       "3        1      0      1              1        0      1     1         1\n",
       "4        1      0      0              0        1      1     1         1\n",
       "...    ...    ...    ...            ...      ...    ...   ...       ...\n",
       "3143     0      0      0              1        1      0     1         1\n",
       "3144     1      1      0              0        1      0     1         1\n",
       "3145     0      0      1              1        1      1     0         0\n",
       "3146     0      1      1              0        1      0     1         1\n",
       "3147     1      1      0              1        0      1     1         1\n",
       "\n",
       "[3148 rows x 8 columns]"
      ]
     },
     "execution_count": 153,
     "metadata": {},
     "output_type": "execute_result"
    }
   ],
   "source": [
    "#compare learned aspect categories and sentiments with training labels\n",
    "#0 - learned sentiment does not match label\n",
    "#1 - learned sentiment matches label\n",
    "\n",
    "diff_df = train_df_cats.eq(lda_df_cats).astype(int)\n",
    "diff_df"
   ]
  },
  {
   "cell_type": "code",
   "execution_count": 154,
   "id": "sixth-integer",
   "metadata": {},
   "outputs": [],
   "source": [
    "#only compare sentiments for learned LDA topics \n",
    "# reduced_cats = ['food', 'place', 'service', 'price', 'miscellaneous']\n",
    "reduced_cats = list(topic_map.values())"
   ]
  },
  {
   "cell_type": "code",
   "execution_count": 155,
   "id": "intense-dispatch",
   "metadata": {},
   "outputs": [
    {
     "data": {
      "text/plain": [
       "staff            0.261118\n",
       "place            0.259848\n",
       "ambience         0.780496\n",
       "food             0.304638\n",
       "price            0.840216\n",
       "miscellaneous    0.670584\n",
       "menu             0.822109\n",
       "dtype: float64"
      ]
     },
     "execution_count": 155,
     "metadata": {},
     "output_type": "execute_result"
    }
   ],
   "source": [
    "#calculate classification accuracy for each aspect category\n",
    "diff_df[reduced_cats].mean()"
   ]
  },
  {
   "cell_type": "code",
   "execution_count": 177,
   "id": "educational-hearts",
   "metadata": {},
   "outputs": [
    {
     "data": {
      "image/png": "[encoded data removed]",
      "text/plain": [
       "<Figure size 432x288 with 1 Axes>"
      ]
     },
     "metadata": {
      "needs_background": "light"
     },
     "output_type": "display_data"
    }
   ],
   "source": [
    "diff_df[reduced_cats].mean().sort_values().plot(kind = 'bar', legend = None, edgecolor = 'dimgrey');\n",
    "plt.title('Classification Accuracy of LDA+VADER for Each Aspect Category');\n",
    "plt.xticks(rotation = 45);"
   ]
  },
  {
   "cell_type": "code",
   "execution_count": 179,
   "id": "right-transcription",
   "metadata": {
    "scrolled": true
   },
   "outputs": [
    {
     "name": "stdout",
     "output_type": "stream",
     "text": [
      "Overall Classification Accuracy of LDA+VADER :  56.2716 %\n"
     ]
    }
   ],
   "source": [
    "#calculate mean classification accuracy across all aspect categories\n",
    "print('Overall Classification Accuracy of LDA+VADER : ', round(diff_df[reduced_cats].mean().mean() * 100, 4), '%')"
   ]
  },
  {
   "cell_type": "markdown",
   "id": "sticky-notification",
   "metadata": {},
   "source": [
    "# Sentiment Analysis (BERT):"
   ]
  },
  {
   "cell_type": "code",
   "execution_count": 66,
   "id": "focal-bernard",
   "metadata": {},
   "outputs": [],
   "source": [
    "bert_classifier = pipeline('sentiment-analysis')"
   ]
  },
  {
   "cell_type": "code",
   "execution_count": 67,
   "id": "aboriginal-boulder",
   "metadata": {},
   "outputs": [
    {
     "data": {
      "text/plain": [
       "[{'label': 'POSITIVE', 'score': 0.9997795224189758}]"
      ]
     },
     "execution_count": 67,
     "metadata": {},
     "output_type": "execute_result"
    }
   ],
   "source": [
    "bert_classifier('We are very happy to show you the 🤗 Transformers library.')"
   ]
  },
  {
   "cell_type": "code",
   "execution_count": 68,
   "id": "suburban-religious",
   "metadata": {},
   "outputs": [
    {
     "data": {
      "text/plain": [
       "[{'label': 'NEGATIVE', 'score': 0.999290406703949}]"
      ]
     },
     "execution_count": 68,
     "metadata": {},
     "output_type": "execute_result"
    }
   ],
   "source": [
    "bert_classifier('It took us 20 minutes to get a check, despite many attempts at meaningful eye contact with the wait staff.')"
   ]
  },
  {
   "cell_type": "code",
   "execution_count": 168,
   "id": "starting-preservation",
   "metadata": {},
   "outputs": [],
   "source": [
    "bert_df = pd.DataFrame({'text': train_df['text'], 'lda_topic': strong_topics})\n",
    "\n",
    "bert_df['sentiment'] = bert_df['text'].apply(lambda x: bert_classifier(x))"
   ]
  },
  {
   "cell_type": "code",
   "execution_count": 169,
   "id": "roman-closing",
   "metadata": {},
   "outputs": [
    {
     "data": {
      "text/plain": [
       "{'label': 'NEGATIVE', 'score': 0.865111231803894}"
      ]
     },
     "execution_count": 169,
     "metadata": {},
     "output_type": "execute_result"
    }
   ],
   "source": [
    "bert_df['sentiment'][0][0]"
   ]
  },
  {
   "cell_type": "code",
   "execution_count": 170,
   "id": "appointed-forum",
   "metadata": {},
   "outputs": [],
   "source": [
    "for cat in categories:\n",
    "    bert_df[f'{cat}'] = bert_df['lda_topic'].apply(lambda x: encode_category(x, cat))\n",
    "    bert_df[f'{cat}'] = bert_df[f'{cat}'].mask(bert_df[f'{cat}'].notnull(), bert_df['sentiment'][0][0]['label'].lower())"
   ]
  },
  {
   "cell_type": "code",
   "execution_count": 171,
   "id": "typical-small",
   "metadata": {
    "scrolled": true
   },
   "outputs": [
    {
     "data": {
      "text/html": [
       "<div>\n",
       "<style scoped>\n",
       "    .dataframe tbody tr th:only-of-type {\n",
       "        vertical-align: middle;\n",
       "    }\n",
       "\n",
       "    .dataframe tbody tr th {\n",
       "        vertical-align: top;\n",
       "    }\n",
       "\n",
       "    .dataframe thead th {\n",
       "        text-align: right;\n",
       "    }\n",
       "</style>\n",
       "<table border=\"1\" class=\"dataframe\">\n",
       "  <thead>\n",
       "    <tr style=\"text-align: right;\">\n",
       "      <th></th>\n",
       "      <th>text</th>\n",
       "      <th>lda_topic</th>\n",
       "      <th>sentiment</th>\n",
       "      <th>food</th>\n",
       "      <th>place</th>\n",
       "      <th>staff</th>\n",
       "      <th>miscellaneous</th>\n",
       "      <th>service</th>\n",
       "      <th>price</th>\n",
       "      <th>menu</th>\n",
       "      <th>ambience</th>\n",
       "    </tr>\n",
       "  </thead>\n",
       "  <tbody>\n",
       "    <tr>\n",
       "      <th>0</th>\n",
       "      <td>It might be the best sit down food I've had in...</td>\n",
       "      <td>{'staff': 0.94255596, 'place': 0.015232839}</td>\n",
       "      <td>[{'label': 'NEGATIVE', 'score': 0.865111231803...</td>\n",
       "      <td>NaN</td>\n",
       "      <td>negative</td>\n",
       "      <td>negative</td>\n",
       "      <td>NaN</td>\n",
       "      <td>None</td>\n",
       "      <td>NaN</td>\n",
       "      <td>NaN</td>\n",
       "      <td>NaN</td>\n",
       "    </tr>\n",
       "    <tr>\n",
       "      <th>1</th>\n",
       "      <td>Hostess was extremely accommodating when we ar...</td>\n",
       "      <td>{'staff': 0.9076602, 'place': 0.023879891}</td>\n",
       "      <td>[{'label': 'POSITIVE', 'score': 0.997357010841...</td>\n",
       "      <td>NaN</td>\n",
       "      <td>negative</td>\n",
       "      <td>negative</td>\n",
       "      <td>NaN</td>\n",
       "      <td>None</td>\n",
       "      <td>NaN</td>\n",
       "      <td>NaN</td>\n",
       "      <td>NaN</td>\n",
       "    </tr>\n",
       "    <tr>\n",
       "      <th>2</th>\n",
       "      <td>We were a couple of minutes late for our reser...</td>\n",
       "      <td>{'staff': 0.94316214, 'place': 0.014672909}</td>\n",
       "      <td>[{'label': 'NEGATIVE', 'score': 0.999700009822...</td>\n",
       "      <td>NaN</td>\n",
       "      <td>negative</td>\n",
       "      <td>negative</td>\n",
       "      <td>NaN</td>\n",
       "      <td>None</td>\n",
       "      <td>NaN</td>\n",
       "      <td>NaN</td>\n",
       "      <td>NaN</td>\n",
       "    </tr>\n",
       "    <tr>\n",
       "      <th>3</th>\n",
       "      <td>Though the service might be a little slow, the...</td>\n",
       "      <td>{'staff': 0.90725803, 'place': 0.02429213}</td>\n",
       "      <td>[{'label': 'POSITIVE', 'score': 0.999799609184...</td>\n",
       "      <td>NaN</td>\n",
       "      <td>negative</td>\n",
       "      <td>negative</td>\n",
       "      <td>NaN</td>\n",
       "      <td>None</td>\n",
       "      <td>NaN</td>\n",
       "      <td>NaN</td>\n",
       "      <td>NaN</td>\n",
       "    </tr>\n",
       "    <tr>\n",
       "      <th>4</th>\n",
       "      <td>Although we arrived at the restaurant 10 min l...</td>\n",
       "      <td>{'staff': 0.9074069, 'place': 0.024144385}</td>\n",
       "      <td>[{'label': 'NEGATIVE', 'score': 0.999439239501...</td>\n",
       "      <td>NaN</td>\n",
       "      <td>negative</td>\n",
       "      <td>negative</td>\n",
       "      <td>NaN</td>\n",
       "      <td>None</td>\n",
       "      <td>NaN</td>\n",
       "      <td>NaN</td>\n",
       "      <td>NaN</td>\n",
       "    </tr>\n",
       "  </tbody>\n",
       "</table>\n",
       "</div>"
      ],
      "text/plain": [
       "                                                text  \\\n",
       "0  It might be the best sit down food I've had in...   \n",
       "1  Hostess was extremely accommodating when we ar...   \n",
       "2  We were a couple of minutes late for our reser...   \n",
       "3  Though the service might be a little slow, the...   \n",
       "4  Although we arrived at the restaurant 10 min l...   \n",
       "\n",
       "                                     lda_topic  \\\n",
       "0  {'staff': 0.94255596, 'place': 0.015232839}   \n",
       "1   {'staff': 0.9076602, 'place': 0.023879891}   \n",
       "2  {'staff': 0.94316214, 'place': 0.014672909}   \n",
       "3   {'staff': 0.90725803, 'place': 0.02429213}   \n",
       "4   {'staff': 0.9074069, 'place': 0.024144385}   \n",
       "\n",
       "                                           sentiment food     place     staff  \\\n",
       "0  [{'label': 'NEGATIVE', 'score': 0.865111231803...  NaN  negative  negative   \n",
       "1  [{'label': 'POSITIVE', 'score': 0.997357010841...  NaN  negative  negative   \n",
       "2  [{'label': 'NEGATIVE', 'score': 0.999700009822...  NaN  negative  negative   \n",
       "3  [{'label': 'POSITIVE', 'score': 0.999799609184...  NaN  negative  negative   \n",
       "4  [{'label': 'NEGATIVE', 'score': 0.999439239501...  NaN  negative  negative   \n",
       "\n",
       "  miscellaneous service price menu ambience  \n",
       "0           NaN    None   NaN  NaN      NaN  \n",
       "1           NaN    None   NaN  NaN      NaN  \n",
       "2           NaN    None   NaN  NaN      NaN  \n",
       "3           NaN    None   NaN  NaN      NaN  \n",
       "4           NaN    None   NaN  NaN      NaN  "
      ]
     },
     "execution_count": 171,
     "metadata": {},
     "output_type": "execute_result"
    }
   ],
   "source": [
    "bert_df.head()"
   ]
  },
  {
   "cell_type": "markdown",
   "id": "systematic-belarus",
   "metadata": {},
   "source": [
    "# LDA + BERT Model Evaluation:"
   ]
  },
  {
   "cell_type": "code",
   "execution_count": 172,
   "id": "monetary-priority",
   "metadata": {
    "scrolled": true
   },
   "outputs": [
    {
     "name": "stderr",
     "output_type": "stream",
     "text": [
      "C:\\ProgramData\\Anaconda3\\envs\\nlpenv\\lib\\site-packages\\pandas\\core\\frame.py:4524: SettingWithCopyWarning: \n",
      "A value is trying to be set on a copy of a slice from a DataFrame\n",
      "\n",
      "See the caveats in the documentation: https://pandas.pydata.org/pandas-docs/stable/user_guide/indexing.html#returning-a-view-versus-a-copy\n",
      "  return super().replace(\n"
     ]
    }
   ],
   "source": [
    "#collect learned aspect categories and sentiments for the training set\n",
    "bert_df_cats = bert_df[categories]\n",
    "bert_df_cats.replace(to_replace = [None], value = 'N/A', inplace = True)"
   ]
  },
  {
   "cell_type": "code",
   "execution_count": 173,
   "id": "composed-organic",
   "metadata": {},
   "outputs": [
    {
     "data": {
      "text/plain": [
       "staff            0.362770\n",
       "place            0.246188\n",
       "ambience         0.773189\n",
       "food             0.261436\n",
       "price            0.841487\n",
       "miscellaneous    0.666455\n",
       "menu             0.820521\n",
       "dtype: float64"
      ]
     },
     "execution_count": 173,
     "metadata": {},
     "output_type": "execute_result"
    }
   ],
   "source": [
    "#compare learned aspect categories and sentiments with training labels\n",
    "#0 - learned sentiment does not match label\n",
    "#1 - learned sentiment matches label\n",
    "\n",
    "bert_diff_df = train_df_cats.eq(bert_df_cats).astype(int)\n",
    "#calculate classification accuracy for each aspect category\n",
    "bert_diff_df[reduced_cats].mean()"
   ]
  },
  {
   "cell_type": "code",
   "execution_count": 180,
   "id": "optical-fitness",
   "metadata": {},
   "outputs": [
    {
     "data": {
      "image/png": "[encoded data removed]",
      "text/plain": [
       "<Figure size 432x288 with 1 Axes>"
      ]
     },
     "metadata": {
      "needs_background": "light"
     },
     "output_type": "display_data"
    }
   ],
   "source": [
    "bert_diff_df[reduced_cats].mean().sort_values().plot(kind = 'bar', legend = None, edgecolor = 'dimgrey')\n",
    "plt.title('Classification Accuracy of LDA+BERT for Each Aspect Category');\n",
    "plt.xticks(rotation = 45);"
   ]
  },
  {
   "cell_type": "code",
   "execution_count": 181,
   "id": "least-richmond",
   "metadata": {},
   "outputs": [
    {
     "name": "stdout",
     "output_type": "stream",
     "text": [
      "Overall Classification Accuracy of LDA+BERT:  56.7435 %\n"
     ]
    }
   ],
   "source": [
    "#calculate mean classification accuracy across all aspect categories\n",
    "print('Overall Classification Accuracy of LDA+BERT: ', round(bert_diff_df[reduced_cats].mean().mean()*100, 4), '%')"
   ]
  },
  {
   "cell_type": "markdown",
   "id": "subjective-abraham",
   "metadata": {},
   "source": [
    "#### Bag-of-Word Representation:\n",
    "LDA + NLTK accuracy was **~48%**, LDA + BERT accuracy is **~45%**. BERT is currently performing worse?\n",
    "\n",
    "#### TF-IDF Representation:\n",
    "LDA + NLTK accuracy was **~47%**, LDA + BERT accuracy is **~44%**. VADER still outperforms BERT?"
   ]
  },
  {
   "cell_type": "markdown",
   "id": "adapted-prefix",
   "metadata": {},
   "source": [
    "# Identifying Sources of Error:\n",
    "Is the LDA model, or is the sentiment analysis the major contributor to classification error?"
   ]
  },
  {
   "cell_type": "code",
   "execution_count": 157,
   "id": "verbal-waterproof",
   "metadata": {},
   "outputs": [],
   "source": [
    "def compare_topics(labels, learned_labels):\n",
    "    \"\"\"Returns percentage of learned labels that are also in the ground truth labels.\"\"\"\n",
    "    intersection = [label for label in learned_labels if label in labels]\n",
    "    score = round(len(intersection) / len(labels), 2)\n",
    "    return score"
   ]
  },
  {
   "cell_type": "code",
   "execution_count": 158,
   "id": "close-range",
   "metadata": {},
   "outputs": [
    {
     "data": {
      "text/plain": [
       "0.5"
      ]
     },
     "execution_count": 158,
     "metadata": {},
     "output_type": "execute_result"
    }
   ],
   "source": [
    "compare_topics(list(train_df['sentiment'][0].keys()), list(lda_df['lda_topic'][0].keys()))"
   ]
  },
  {
   "cell_type": "code",
   "execution_count": 159,
   "id": "backed-protocol",
   "metadata": {},
   "outputs": [
    {
     "data": {
      "text/html": [
       "<div>\n",
       "<style scoped>\n",
       "    .dataframe tbody tr th:only-of-type {\n",
       "        vertical-align: middle;\n",
       "    }\n",
       "\n",
       "    .dataframe tbody tr th {\n",
       "        vertical-align: top;\n",
       "    }\n",
       "\n",
       "    .dataframe thead th {\n",
       "        text-align: right;\n",
       "    }\n",
       "</style>\n",
       "<table border=\"1\" class=\"dataframe\">\n",
       "  <thead>\n",
       "    <tr style=\"text-align: right;\">\n",
       "      <th></th>\n",
       "      <th>text</th>\n",
       "      <th>labels</th>\n",
       "      <th>learned_topics</th>\n",
       "      <th>comparison</th>\n",
       "    </tr>\n",
       "  </thead>\n",
       "  <tbody>\n",
       "    <tr>\n",
       "      <th>0</th>\n",
       "      <td>It might be the best sit down food I've had in...</td>\n",
       "      <td>{'food': 'positive', 'place': 'neutral'}</td>\n",
       "      <td>{'staff': 0.94255596, 'place': 0.015232839}</td>\n",
       "      <td>0.50</td>\n",
       "    </tr>\n",
       "    <tr>\n",
       "      <th>1</th>\n",
       "      <td>Hostess was extremely accommodating when we ar...</td>\n",
       "      <td>{'staff': 'positive', 'miscellaneous': 'neutral'}</td>\n",
       "      <td>{'staff': 0.9076602, 'place': 0.023879891}</td>\n",
       "      <td>0.50</td>\n",
       "    </tr>\n",
       "    <tr>\n",
       "      <th>2</th>\n",
       "      <td>We were a couple of minutes late for our reser...</td>\n",
       "      <td>{'miscellaneous': 'neutral', 'staff': 'negative'}</td>\n",
       "      <td>{'staff': 0.94316214, 'place': 0.014672909}</td>\n",
       "      <td>0.50</td>\n",
       "    </tr>\n",
       "    <tr>\n",
       "      <th>3</th>\n",
       "      <td>Though the service might be a little slow, the...</td>\n",
       "      <td>{'service': 'negative', 'staff': 'positive'}</td>\n",
       "      <td>{'staff': 0.90725803, 'place': 0.02429213}</td>\n",
       "      <td>0.50</td>\n",
       "    </tr>\n",
       "    <tr>\n",
       "      <th>4</th>\n",
       "      <td>Although we arrived at the restaurant 10 min l...</td>\n",
       "      <td>{'staff': 'negative', 'miscellaneous': 'neutral'}</td>\n",
       "      <td>{'staff': 0.9074069, 'place': 0.024144385}</td>\n",
       "      <td>0.50</td>\n",
       "    </tr>\n",
       "    <tr>\n",
       "      <th>...</th>\n",
       "      <td>...</td>\n",
       "      <td>...</td>\n",
       "      <td>...</td>\n",
       "      <td>...</td>\n",
       "    </tr>\n",
       "    <tr>\n",
       "      <th>3143</th>\n",
       "      <td>We walked out the door with only a drink in ea...</td>\n",
       "      <td>{'food': 'neutral', 'price': 'negative'}</td>\n",
       "      <td>{'staff': 0.8941928, 'place': 0.027563954}</td>\n",
       "      <td>0.00</td>\n",
       "    </tr>\n",
       "    <tr>\n",
       "      <th>3144</th>\n",
       "      <td>It took us 20 minutes to get a check, despite ...</td>\n",
       "      <td>{'price': 'neutral', 'staff': 'negative'}</td>\n",
       "      <td>{'staff': 0.7464202, 'miscellaneous': 0.20373245}</td>\n",
       "      <td>0.50</td>\n",
       "    </tr>\n",
       "    <tr>\n",
       "      <th>3145</th>\n",
       "      <td>The pancakes were good, but don't have blueber...</td>\n",
       "      <td>{'food': 'negative', 'menu': 'neutral'}</td>\n",
       "      <td>{'ambience': 0.57440066, 'place': 0.368531}</td>\n",
       "      <td>0.00</td>\n",
       "    </tr>\n",
       "    <tr>\n",
       "      <th>3146</th>\n",
       "      <td>Our waiter disappeared entirely, our food, whe...</td>\n",
       "      <td>{'staff': 'negative', 'food': 'neutral', 'misc...</td>\n",
       "      <td>{'staff': 0.9678407}</td>\n",
       "      <td>0.25</td>\n",
       "    </tr>\n",
       "    <tr>\n",
       "      <th>3147</th>\n",
       "      <td>90 for a porterhouse steak for 2 (ordered medi...</td>\n",
       "      <td>{'food': 'neutral', 'service': 'positive'}</td>\n",
       "      <td>{'staff': 0.54294896, 'food': 0.40963975}</td>\n",
       "      <td>0.50</td>\n",
       "    </tr>\n",
       "  </tbody>\n",
       "</table>\n",
       "<p>3148 rows × 4 columns</p>\n",
       "</div>"
      ],
      "text/plain": [
       "                                                   text  \\\n",
       "0     It might be the best sit down food I've had in...   \n",
       "1     Hostess was extremely accommodating when we ar...   \n",
       "2     We were a couple of minutes late for our reser...   \n",
       "3     Though the service might be a little slow, the...   \n",
       "4     Although we arrived at the restaurant 10 min l...   \n",
       "...                                                 ...   \n",
       "3143  We walked out the door with only a drink in ea...   \n",
       "3144  It took us 20 minutes to get a check, despite ...   \n",
       "3145  The pancakes were good, but don't have blueber...   \n",
       "3146  Our waiter disappeared entirely, our food, whe...   \n",
       "3147  90 for a porterhouse steak for 2 (ordered medi...   \n",
       "\n",
       "                                                 labels  \\\n",
       "0              {'food': 'positive', 'place': 'neutral'}   \n",
       "1     {'staff': 'positive', 'miscellaneous': 'neutral'}   \n",
       "2     {'miscellaneous': 'neutral', 'staff': 'negative'}   \n",
       "3          {'service': 'negative', 'staff': 'positive'}   \n",
       "4     {'staff': 'negative', 'miscellaneous': 'neutral'}   \n",
       "...                                                 ...   \n",
       "3143           {'food': 'neutral', 'price': 'negative'}   \n",
       "3144          {'price': 'neutral', 'staff': 'negative'}   \n",
       "3145            {'food': 'negative', 'menu': 'neutral'}   \n",
       "3146  {'staff': 'negative', 'food': 'neutral', 'misc...   \n",
       "3147         {'food': 'neutral', 'service': 'positive'}   \n",
       "\n",
       "                                         learned_topics  comparison  \n",
       "0           {'staff': 0.94255596, 'place': 0.015232839}        0.50  \n",
       "1            {'staff': 0.9076602, 'place': 0.023879891}        0.50  \n",
       "2           {'staff': 0.94316214, 'place': 0.014672909}        0.50  \n",
       "3            {'staff': 0.90725803, 'place': 0.02429213}        0.50  \n",
       "4            {'staff': 0.9074069, 'place': 0.024144385}        0.50  \n",
       "...                                                 ...         ...  \n",
       "3143         {'staff': 0.8941928, 'place': 0.027563954}        0.00  \n",
       "3144  {'staff': 0.7464202, 'miscellaneous': 0.20373245}        0.50  \n",
       "3145        {'ambience': 0.57440066, 'place': 0.368531}        0.00  \n",
       "3146                               {'staff': 0.9678407}        0.25  \n",
       "3147          {'staff': 0.54294896, 'food': 0.40963975}        0.50  \n",
       "\n",
       "[3148 rows x 4 columns]"
      ]
     },
     "execution_count": 159,
     "metadata": {},
     "output_type": "execute_result"
    }
   ],
   "source": [
    "#Compare assigned topics from LDA model with training set labels\n",
    "compared_topics = pd.concat([train_df['text'], train_df['sentiment'], lda_df['lda_topic']], axis = 1)\n",
    "compared_topics.columns = ['text', 'labels', 'learned_topics']\n",
    "compared_topics['comparison'] = compared_topics.apply(lambda x: compare_topics(x['labels'], x['learned_topics']), axis = 1)\n",
    "compared_topics"
   ]
  },
  {
   "cell_type": "code",
   "execution_count": 160,
   "id": "competent-parking",
   "metadata": {},
   "outputs": [
    {
     "data": {
      "text/plain": [
       "0.35143583227446085"
      ]
     },
     "execution_count": 160,
     "metadata": {},
     "output_type": "execute_result"
    }
   ],
   "source": [
    "compared_topics['comparison'].mean()"
   ]
  },
  {
   "cell_type": "markdown",
   "id": "serious-requirement",
   "metadata": {},
   "source": [
    "Using BoW, LDA classified **~33%** of topics correctly.\n",
    "\n",
    "Using TF-IDF, LDA classified **~31%** of topics correctly."
   ]
  },
  {
   "cell_type": "code",
   "execution_count": 161,
   "id": "technical-candidate",
   "metadata": {},
   "outputs": [
    {
     "data": {
      "image/png": "[encoded data removed]",
      "text/plain": [
       "<Figure size 432x288 with 1 Axes>"
      ]
     },
     "metadata": {
      "needs_background": "light"
     },
     "output_type": "display_data"
    }
   ],
   "source": [
    "compared_topics.groupby(['comparison']).count()['labels'].plot(kind = 'bar', edgecolor = 'dimgrey');\n",
    "plt.xticks(rotation = 45);\n",
    "plt.xlabel('LDA Classification Accuracy');\n",
    "plt.ylabel('Number of Documents');"
   ]
  },
  {
   "cell_type": "code",
   "execution_count": 162,
   "id": "bearing-thought",
   "metadata": {},
   "outputs": [
    {
     "data": {
      "text/html": [
       "<div>\n",
       "<style scoped>\n",
       "    .dataframe tbody tr th:only-of-type {\n",
       "        vertical-align: middle;\n",
       "    }\n",
       "\n",
       "    .dataframe tbody tr th {\n",
       "        vertical-align: top;\n",
       "    }\n",
       "\n",
       "    .dataframe thead th {\n",
       "        text-align: right;\n",
       "    }\n",
       "</style>\n",
       "<table border=\"1\" class=\"dataframe\">\n",
       "  <thead>\n",
       "    <tr style=\"text-align: right;\">\n",
       "      <th></th>\n",
       "      <th>text</th>\n",
       "      <th>labels</th>\n",
       "      <th>learned_topics</th>\n",
       "      <th>comparison</th>\n",
       "    </tr>\n",
       "  </thead>\n",
       "  <tbody>\n",
       "    <tr>\n",
       "      <th>5</th>\n",
       "      <td>I like the smaller portion size for dinner.</td>\n",
       "      <td>{'miscellaneous': 'negative', 'food': 'neutral'}</td>\n",
       "      <td>{'place': 0.85379755, 'staff': 0.054829963}</td>\n",
       "      <td>0.0</td>\n",
       "    </tr>\n",
       "    <tr>\n",
       "      <th>6</th>\n",
       "      <td>The bill was surprisingly inexpensive consider...</td>\n",
       "      <td>{'food': 'neutral', 'price': 'positive', 'misc...</td>\n",
       "      <td>{'staff': 0.95375293, 'place': 0.01201051}</td>\n",
       "      <td>0.0</td>\n",
       "    </tr>\n",
       "    <tr>\n",
       "      <th>7</th>\n",
       "      <td>) other food is served in too-small portions, ...</td>\n",
       "      <td>{'miscellaneous': 'negative', 'food': 'neutral'}</td>\n",
       "      <td>{'place': 0.56971866, 'staff': 0.3693645}</td>\n",
       "      <td>0.0</td>\n",
       "    </tr>\n",
       "    <tr>\n",
       "      <th>9</th>\n",
       "      <td>After ordering drinks, we both decided on the ...</td>\n",
       "      <td>{'food': 'neutral', 'miscellaneous': 'positive'}</td>\n",
       "      <td>{'staff': 0.9176753, 'place': 0.021327794}</td>\n",
       "      <td>0.0</td>\n",
       "    </tr>\n",
       "    <tr>\n",
       "      <th>11</th>\n",
       "      <td>I had to ask for bread for the table (several ...</td>\n",
       "      <td>{'food': 'negative', 'miscellaneous': 'neutral'}</td>\n",
       "      <td>{'staff': 0.87690645, 'place': 0.031830817}</td>\n",
       "      <td>0.0</td>\n",
       "    </tr>\n",
       "  </tbody>\n",
       "</table>\n",
       "</div>"
      ],
      "text/plain": [
       "                                                 text  \\\n",
       "5         I like the smaller portion size for dinner.   \n",
       "6   The bill was surprisingly inexpensive consider...   \n",
       "7   ) other food is served in too-small portions, ...   \n",
       "9   After ordering drinks, we both decided on the ...   \n",
       "11  I had to ask for bread for the table (several ...   \n",
       "\n",
       "                                               labels  \\\n",
       "5    {'miscellaneous': 'negative', 'food': 'neutral'}   \n",
       "6   {'food': 'neutral', 'price': 'positive', 'misc...   \n",
       "7    {'miscellaneous': 'negative', 'food': 'neutral'}   \n",
       "9    {'food': 'neutral', 'miscellaneous': 'positive'}   \n",
       "11   {'food': 'negative', 'miscellaneous': 'neutral'}   \n",
       "\n",
       "                                 learned_topics  comparison  \n",
       "5   {'place': 0.85379755, 'staff': 0.054829963}         0.0  \n",
       "6    {'staff': 0.95375293, 'place': 0.01201051}         0.0  \n",
       "7     {'place': 0.56971866, 'staff': 0.3693645}         0.0  \n",
       "9    {'staff': 0.9176753, 'place': 0.021327794}         0.0  \n",
       "11  {'staff': 0.87690645, 'place': 0.031830817}         0.0  "
      ]
     },
     "execution_count": 162,
     "metadata": {},
     "output_type": "execute_result"
    }
   ],
   "source": [
    "#sample totally wrong classifications\n",
    "condition = compared_topics['comparison'] == 0\n",
    "wrong_samples = list(compared_topics.index[condition][0:5])\n",
    "compared_topics.iloc[wrong_samples]"
   ]
  },
  {
   "cell_type": "code",
   "execution_count": 163,
   "id": "wicked-reserve",
   "metadata": {},
   "outputs": [
    {
     "name": "stdout",
     "output_type": "stream",
     "text": [
      "Document No. 5: I like the smaller portion size for dinner. \n",
      "\n",
      "Document No. 6: The bill was surprisingly inexpensive considering we each had appetizers, an entree, dessert and drinks (alcoholic and non) we also had 3 rounds of shots for the entire table. \n",
      "\n",
      "Document No. 7: ) other food is served in too-small portions, but at least it leaves room for dessert. \n",
      "\n",
      "Document No. 9: After ordering drinks, we both decided on the Paella Vallenciana, brought out on hot plates. \n",
      "\n",
      "Document No. 11: I had to ask for bread for the table (several times). \n",
      "\n"
     ]
    }
   ],
   "source": [
    "#print full text for misclassified documents\n",
    "for s in wrong_samples:\n",
    "    print(f'Document No. {s}: {compared_topics.iloc[s][0]} \\n')"
   ]
  },
  {
   "cell_type": "code",
   "execution_count": 164,
   "id": "intense-grave",
   "metadata": {},
   "outputs": [
    {
     "data": {
      "text/html": [
       "<div>\n",
       "<style scoped>\n",
       "    .dataframe tbody tr th:only-of-type {\n",
       "        vertical-align: middle;\n",
       "    }\n",
       "\n",
       "    .dataframe tbody tr th {\n",
       "        vertical-align: top;\n",
       "    }\n",
       "\n",
       "    .dataframe thead th {\n",
       "        text-align: right;\n",
       "    }\n",
       "</style>\n",
       "<table border=\"1\" class=\"dataframe\">\n",
       "  <thead>\n",
       "    <tr style=\"text-align: right;\">\n",
       "      <th></th>\n",
       "      <th>text</th>\n",
       "      <th>labels</th>\n",
       "      <th>learned_topics</th>\n",
       "      <th>comparison</th>\n",
       "    </tr>\n",
       "  </thead>\n",
       "  <tbody>\n",
       "    <tr>\n",
       "      <th>1</th>\n",
       "      <td>Hostess was extremely accommodating when we ar...</td>\n",
       "      <td>{'staff': 'positive', 'miscellaneous': 'neutral'}</td>\n",
       "      <td>{'staff': 0.9076602, 'place': 0.023879891}</td>\n",
       "      <td>0.50</td>\n",
       "    </tr>\n",
       "    <tr>\n",
       "      <th>2</th>\n",
       "      <td>We were a couple of minutes late for our reser...</td>\n",
       "      <td>{'miscellaneous': 'neutral', 'staff': 'negative'}</td>\n",
       "      <td>{'staff': 0.94316214, 'place': 0.014672909}</td>\n",
       "      <td>0.50</td>\n",
       "    </tr>\n",
       "    <tr>\n",
       "      <th>4</th>\n",
       "      <td>Although we arrived at the restaurant 10 min l...</td>\n",
       "      <td>{'staff': 'negative', 'miscellaneous': 'neutral'}</td>\n",
       "      <td>{'staff': 0.9074069, 'place': 0.024144385}</td>\n",
       "      <td>0.50</td>\n",
       "    </tr>\n",
       "    <tr>\n",
       "      <th>6</th>\n",
       "      <td>The bill was surprisingly inexpensive consider...</td>\n",
       "      <td>{'food': 'neutral', 'price': 'positive', 'misc...</td>\n",
       "      <td>{'staff': 0.95375293, 'place': 0.01201051}</td>\n",
       "      <td>0.00</td>\n",
       "    </tr>\n",
       "    <tr>\n",
       "      <th>8</th>\n",
       "      <td>It was very loud, I felt too crowded, the man ...</td>\n",
       "      <td>{'miscellaneous': 'neutral', 'staff': 'negative'}</td>\n",
       "      <td>{'staff': 0.815129, 'place': 0.13495083}</td>\n",
       "      <td>0.50</td>\n",
       "    </tr>\n",
       "    <tr>\n",
       "      <th>...</th>\n",
       "      <td>...</td>\n",
       "      <td>...</td>\n",
       "      <td>...</td>\n",
       "      <td>...</td>\n",
       "    </tr>\n",
       "    <tr>\n",
       "      <th>3130</th>\n",
       "      <td>anyway, nice place for brunch for selection un...</td>\n",
       "      <td>{'place': 'positive', 'food': 'positive', 'mis...</td>\n",
       "      <td>{'place': 0.40836906, 'staff': 0.3174309, 'mis...</td>\n",
       "      <td>0.75</td>\n",
       "    </tr>\n",
       "    <tr>\n",
       "      <th>3137</th>\n",
       "      <td>We arrived about 15 minutes late for a Friday ...</td>\n",
       "      <td>{'miscellaneous': 'neutral', 'staff': 'negative'}</td>\n",
       "      <td>{'staff': 0.9260452, 'place': 0.019190986}</td>\n",
       "      <td>0.50</td>\n",
       "    </tr>\n",
       "    <tr>\n",
       "      <th>3138</th>\n",
       "      <td>I have eaten here for nearly three years, with...</td>\n",
       "      <td>{'miscellaneous': 'neutral', 'service': 'posit...</td>\n",
       "      <td>{'staff': 0.95063376, 'place': 0.0128425695}</td>\n",
       "      <td>0.00</td>\n",
       "    </tr>\n",
       "    <tr>\n",
       "      <th>3140</th>\n",
       "      <td>After dinner I walked over to the cheese count...</td>\n",
       "      <td>{'food': 'neutral', 'miscellaneous': 'neutral'...</td>\n",
       "      <td>{'ambience': 0.512246, 'staff': 0.46082848}</td>\n",
       "      <td>0.33</td>\n",
       "    </tr>\n",
       "    <tr>\n",
       "      <th>3146</th>\n",
       "      <td>Our waiter disappeared entirely, our food, whe...</td>\n",
       "      <td>{'staff': 'negative', 'food': 'neutral', 'misc...</td>\n",
       "      <td>{'staff': 0.9678407}</td>\n",
       "      <td>0.25</td>\n",
       "    </tr>\n",
       "  </tbody>\n",
       "</table>\n",
       "<p>531 rows × 4 columns</p>\n",
       "</div>"
      ],
      "text/plain": [
       "                                                   text  \\\n",
       "1     Hostess was extremely accommodating when we ar...   \n",
       "2     We were a couple of minutes late for our reser...   \n",
       "4     Although we arrived at the restaurant 10 min l...   \n",
       "6     The bill was surprisingly inexpensive consider...   \n",
       "8     It was very loud, I felt too crowded, the man ...   \n",
       "...                                                 ...   \n",
       "3130  anyway, nice place for brunch for selection un...   \n",
       "3137  We arrived about 15 minutes late for a Friday ...   \n",
       "3138  I have eaten here for nearly three years, with...   \n",
       "3140  After dinner I walked over to the cheese count...   \n",
       "3146  Our waiter disappeared entirely, our food, whe...   \n",
       "\n",
       "                                                 labels  \\\n",
       "1     {'staff': 'positive', 'miscellaneous': 'neutral'}   \n",
       "2     {'miscellaneous': 'neutral', 'staff': 'negative'}   \n",
       "4     {'staff': 'negative', 'miscellaneous': 'neutral'}   \n",
       "6     {'food': 'neutral', 'price': 'positive', 'misc...   \n",
       "8     {'miscellaneous': 'neutral', 'staff': 'negative'}   \n",
       "...                                                 ...   \n",
       "3130  {'place': 'positive', 'food': 'positive', 'mis...   \n",
       "3137  {'miscellaneous': 'neutral', 'staff': 'negative'}   \n",
       "3138  {'miscellaneous': 'neutral', 'service': 'posit...   \n",
       "3140  {'food': 'neutral', 'miscellaneous': 'neutral'...   \n",
       "3146  {'staff': 'negative', 'food': 'neutral', 'misc...   \n",
       "\n",
       "                                         learned_topics  comparison  \n",
       "1            {'staff': 0.9076602, 'place': 0.023879891}        0.50  \n",
       "2           {'staff': 0.94316214, 'place': 0.014672909}        0.50  \n",
       "4            {'staff': 0.9074069, 'place': 0.024144385}        0.50  \n",
       "6            {'staff': 0.95375293, 'place': 0.01201051}        0.00  \n",
       "8              {'staff': 0.815129, 'place': 0.13495083}        0.50  \n",
       "...                                                 ...         ...  \n",
       "3130  {'place': 0.40836906, 'staff': 0.3174309, 'mis...        0.75  \n",
       "3137         {'staff': 0.9260452, 'place': 0.019190986}        0.50  \n",
       "3138       {'staff': 0.95063376, 'place': 0.0128425695}        0.00  \n",
       "3140        {'ambience': 0.512246, 'staff': 0.46082848}        0.33  \n",
       "3146                               {'staff': 0.9678407}        0.25  \n",
       "\n",
       "[531 rows x 4 columns]"
      ]
     },
     "execution_count": 164,
     "metadata": {},
     "output_type": "execute_result"
    }
   ],
   "source": [
    "compared_topics[compared_topics.labels.astype(str).str.contains(\"'miscellaneous': 'neutral'\", na = False)]"
   ]
  },
  {
   "cell_type": "code",
   "execution_count": 165,
   "id": "foster-theorem",
   "metadata": {},
   "outputs": [
    {
     "data": {
      "text/html": [
       "<div>\n",
       "<style scoped>\n",
       "    .dataframe tbody tr th:only-of-type {\n",
       "        vertical-align: middle;\n",
       "    }\n",
       "\n",
       "    .dataframe tbody tr th {\n",
       "        vertical-align: top;\n",
       "    }\n",
       "\n",
       "    .dataframe thead th {\n",
       "        text-align: right;\n",
       "    }\n",
       "</style>\n",
       "<table border=\"1\" class=\"dataframe\">\n",
       "  <thead>\n",
       "    <tr style=\"text-align: right;\">\n",
       "      <th></th>\n",
       "      <th>text</th>\n",
       "      <th>labels</th>\n",
       "      <th>learned_topics</th>\n",
       "      <th>comparison</th>\n",
       "      <th>labels_count</th>\n",
       "      <th>learned_topics_count</th>\n",
       "    </tr>\n",
       "  </thead>\n",
       "  <tbody>\n",
       "    <tr>\n",
       "      <th>0</th>\n",
       "      <td>It might be the best sit down food I've had in...</td>\n",
       "      <td>{'food': 'positive', 'place': 'neutral'}</td>\n",
       "      <td>{'staff': 0.94255596, 'place': 0.015232839}</td>\n",
       "      <td>0.5</td>\n",
       "      <td>2</td>\n",
       "      <td>2</td>\n",
       "    </tr>\n",
       "    <tr>\n",
       "      <th>1</th>\n",
       "      <td>Hostess was extremely accommodating when we ar...</td>\n",
       "      <td>{'staff': 'positive', 'miscellaneous': 'neutral'}</td>\n",
       "      <td>{'staff': 0.9076602, 'place': 0.023879891}</td>\n",
       "      <td>0.5</td>\n",
       "      <td>2</td>\n",
       "      <td>2</td>\n",
       "    </tr>\n",
       "    <tr>\n",
       "      <th>2</th>\n",
       "      <td>We were a couple of minutes late for our reser...</td>\n",
       "      <td>{'miscellaneous': 'neutral', 'staff': 'negative'}</td>\n",
       "      <td>{'staff': 0.94316214, 'place': 0.014672909}</td>\n",
       "      <td>0.5</td>\n",
       "      <td>2</td>\n",
       "      <td>2</td>\n",
       "    </tr>\n",
       "    <tr>\n",
       "      <th>3</th>\n",
       "      <td>Though the service might be a little slow, the...</td>\n",
       "      <td>{'service': 'negative', 'staff': 'positive'}</td>\n",
       "      <td>{'staff': 0.90725803, 'place': 0.02429213}</td>\n",
       "      <td>0.5</td>\n",
       "      <td>2</td>\n",
       "      <td>2</td>\n",
       "    </tr>\n",
       "    <tr>\n",
       "      <th>4</th>\n",
       "      <td>Although we arrived at the restaurant 10 min l...</td>\n",
       "      <td>{'staff': 'negative', 'miscellaneous': 'neutral'}</td>\n",
       "      <td>{'staff': 0.9074069, 'place': 0.024144385}</td>\n",
       "      <td>0.5</td>\n",
       "      <td>2</td>\n",
       "      <td>2</td>\n",
       "    </tr>\n",
       "  </tbody>\n",
       "</table>\n",
       "</div>"
      ],
      "text/plain": [
       "                                                text  \\\n",
       "0  It might be the best sit down food I've had in...   \n",
       "1  Hostess was extremely accommodating when we ar...   \n",
       "2  We were a couple of minutes late for our reser...   \n",
       "3  Though the service might be a little slow, the...   \n",
       "4  Although we arrived at the restaurant 10 min l...   \n",
       "\n",
       "                                              labels  \\\n",
       "0           {'food': 'positive', 'place': 'neutral'}   \n",
       "1  {'staff': 'positive', 'miscellaneous': 'neutral'}   \n",
       "2  {'miscellaneous': 'neutral', 'staff': 'negative'}   \n",
       "3       {'service': 'negative', 'staff': 'positive'}   \n",
       "4  {'staff': 'negative', 'miscellaneous': 'neutral'}   \n",
       "\n",
       "                                learned_topics  comparison  labels_count  \\\n",
       "0  {'staff': 0.94255596, 'place': 0.015232839}         0.5             2   \n",
       "1   {'staff': 0.9076602, 'place': 0.023879891}         0.5             2   \n",
       "2  {'staff': 0.94316214, 'place': 0.014672909}         0.5             2   \n",
       "3   {'staff': 0.90725803, 'place': 0.02429213}         0.5             2   \n",
       "4   {'staff': 0.9074069, 'place': 0.024144385}         0.5             2   \n",
       "\n",
       "   learned_topics_count  \n",
       "0                     2  \n",
       "1                     2  \n",
       "2                     2  \n",
       "3                     2  \n",
       "4                     2  "
      ]
     },
     "execution_count": 165,
     "metadata": {},
     "output_type": "execute_result"
    }
   ],
   "source": [
    "compared_topics['labels_count'] = compared_topics['labels'].apply(lambda x: len(x))\n",
    "compared_topics['learned_topics_count'] = compared_topics['learned_topics'].apply(lambda x: len(x))\n",
    "compared_topics.head()"
   ]
  },
  {
   "cell_type": "code",
   "execution_count": 166,
   "id": "alternative-vertical",
   "metadata": {},
   "outputs": [
    {
     "data": {
      "image/png": "[encoded data removed]",
      "text/plain": [
       "<Figure size 432x288 with 1 Axes>"
      ]
     },
     "metadata": {
      "needs_background": "light"
     },
     "output_type": "display_data"
    }
   ],
   "source": [
    "compared_topics['count_delta'] = abs(compared_topics.labels_count - compared_topics.learned_topics_count)\n",
    "compared_topics['count_delta'].plot.hist(alpha = 0.5);\n",
    "plt.title('Difference Between Number of Labelled vs. Learned Topics');"
   ]
  },
  {
   "cell_type": "code",
   "execution_count": null,
   "id": "representative-joint",
   "metadata": {},
   "outputs": [],
   "source": []
  }
 ],
 "metadata": {
  "kernelspec": {
   "display_name": "Python 3",
   "language": "python",
   "name": "python3"
  },
  "language_info": {
   "codemirror_mode": {
    "name": "ipython",
    "version": 3
   },
   "file_extension": ".py",
   "mimetype": "text/x-python",
   "name": "python",
   "nbconvert_exporter": "python",
   "pygments_lexer": "ipython3",
   "version": "3.8.3"
  }
 },
 "nbformat": 4,
 "nbformat_minor": 5
}
