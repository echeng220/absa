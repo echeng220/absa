{
 "cells": [
  {
   "cell_type": "code",
   "execution_count": 1,
   "source": [
    "import pandas as pd\r\n",
    "import numpy as np\r\n",
    "import gradio as gr\r\n",
    "import nltk\r\n",
    "import spacy\r\n",
    "import pickle\r\n",
    "from gensim.models.ldamodel import LdaModel\r\n",
    "from gensim import corpora\r\n",
    "from nltk.sentiment.vader import SentimentIntensityAnalyzer\r\n",
    "\r\n",
    "nlp = spacy.load(\"en_core_web_sm\")\r\n",
    "nltk.download('vader_lexicon')\r\n",
    "\r\n",
    "from absa_functions import *"
   ],
   "outputs": [
    {
     "output_type": "stream",
     "name": "stderr",
     "text": [
      "[nltk_data] Downloading package vader_lexicon to\n",
      "[nltk_data]     C:\\Users\\Evan\\AppData\\Roaming\\nltk_data...\n",
      "[nltk_data]   Package vader_lexicon is already up-to-date!\n"
     ]
    }
   ],
   "metadata": {}
  },
  {
   "cell_type": "code",
   "execution_count": 2,
   "source": [
    "def parse_targets(nlp, review):\r\n",
    "    doc = nlp(review)\r\n",
    "    targets = []\r\n",
    "    target = ''\r\n",
    "\r\n",
    "    for token in doc:\r\n",
    "        if (token.dep_ in ['nsubj','dobj', 'pobj', 'ROOT']) and (token.pos_ in ['NOUN', 'PROPN', 'PRON']):\r\n",
    "            target = token.text\r\n",
    "            targets.append(target)\r\n",
    "\r\n",
    "    return targets"
   ],
   "outputs": [],
   "metadata": {}
  },
  {
   "cell_type": "code",
   "execution_count": 3,
   "source": [
    "def parse_adjectives(nlp, review):\r\n",
    "    doc = nlp(review)\r\n",
    "    adjectives = []\r\n",
    "    adjective = ''\r\n",
    "\r\n",
    "    for token in doc:\r\n",
    "        if token.pos_ == 'ADJ':\r\n",
    "            prepend = ''\r\n",
    "            for child in token.children:\r\n",
    "                if child.pos_ != 'ADV':\r\n",
    "                    continue\r\n",
    "                prepend += child.text + ' '\r\n",
    "            adjective = prepend + token.text\r\n",
    "            adjectives.append(adjective)\r\n",
    "\r\n",
    "    return adjectives"
   ],
   "outputs": [],
   "metadata": {}
  },
  {
   "cell_type": "code",
   "execution_count": 4,
   "source": [
    "def get_topic_from_word(word, lda_model, topic_map):\r\n",
    "    try:\r\n",
    "        topics_raw = lda_model.get_term_topics(word, minimum_probability=0.0000001)\r\n",
    "        topic_dict = {topic_map[tup[0]]: tup[1] for tup in topics_raw}\r\n",
    "        best_topic = max(topic_dict, key=topic_dict.get)\r\n",
    "    except:\r\n",
    "        best_topic = 'miscellaneous'\r\n",
    "\r\n",
    "    return best_topic"
   ],
   "outputs": [],
   "metadata": {}
  },
  {
   "cell_type": "code",
   "execution_count": 5,
   "source": [
    "corpus = pickle.load(open('corpus.pkl', 'rb'))\r\n",
    "dictionary = corpora.Dictionary.load('dictionary.gensim')\r\n",
    "lda_model = LdaModel.load('best_lda_model.gensim')"
   ],
   "outputs": [],
   "metadata": {}
  },
  {
   "cell_type": "code",
   "execution_count": 6,
   "source": [
    "sid = SentimentIntensityAnalyzer()"
   ],
   "outputs": [],
   "metadata": {}
  },
  {
   "cell_type": "code",
   "execution_count": 7,
   "source": [
    "#numerical mapping for topics in LDA model\r\n",
    "topic_map = {0: 'menu', 1: 'service', 2: 'miscellaneous', 3: 'place', 4: 'price', 5: 'food', 6: 'staff'}"
   ],
   "outputs": [],
   "metadata": {}
  },
  {
   "cell_type": "code",
   "execution_count": 9,
   "source": [
    "review = 'increased amounts of kimchi in your diet leads to increased abundance of lactobacillus in your gut.'"
   ],
   "outputs": [],
   "metadata": {}
  },
  {
   "cell_type": "code",
   "execution_count": 10,
   "source": [
    "count = 0\r\n",
    "doc = nlp(review)\r\n",
    "for token in doc:\r\n",
    "    count += 1\r\n",
    "    if count <= 20:\r\n",
    "    # if 12 <= count <= 18:\r\n",
    "        print(token.text, token.dep_, token.head.text, token.head.pos_, token.pos_,[child for child in token.children])"
   ],
   "outputs": [
    {
     "output_type": "stream",
     "name": "stdout",
     "text": [
      "increased amod amounts NOUN VERB []\n",
      "amounts nsubj leads VERB NOUN [increased, of, in]\n",
      "of prep amounts NOUN ADP [kimchi]\n",
      "kimchi pobj of ADP NOUN []\n",
      "in prep amounts NOUN ADP [diet]\n",
      "your poss diet NOUN PRON []\n",
      "diet pobj in ADP NOUN [your]\n",
      "leads ROOT leads VERB VERB [amounts, to, in, .]\n",
      "to prep leads VERB ADP [abundance]\n",
      "increased amod abundance NOUN VERB []\n",
      "abundance pobj to ADP NOUN [increased, of]\n",
      "of prep abundance NOUN ADP [lactobacillus]\n",
      "lactobacillus pobj of ADP NOUN []\n",
      "in prep leads VERB ADP [gut]\n",
      "your poss gut NOUN PRON []\n",
      "gut pobj in ADP NOUN [your]\n",
      ". punct leads VERB PUNCT []\n"
     ]
    }
   ],
   "metadata": {}
  },
  {
   "cell_type": "code",
   "execution_count": 11,
   "source": [
    "parse_targets(nlp, review)"
   ],
   "outputs": [
    {
     "output_type": "execute_result",
     "data": {
      "text/plain": [
       "['music']"
      ]
     },
     "metadata": {},
     "execution_count": 11
    }
   ],
   "metadata": {}
  },
  {
   "cell_type": "code",
   "execution_count": 12,
   "source": [
    "parse_adjectives(nlp, review)"
   ],
   "outputs": [
    {
     "output_type": "execute_result",
     "data": {
      "text/plain": [
       "['Wonderful', 'beautiful', 'great']"
      ]
     },
     "metadata": {},
     "execution_count": 12
    }
   ],
   "metadata": {}
  },
  {
   "cell_type": "code",
   "execution_count": 13,
   "source": [
    "get_topic_from_word(prepare_text_for_lda('entitlement')[0], lda_model, topic_map)"
   ],
   "outputs": [
    {
     "output_type": "execute_result",
     "data": {
      "text/plain": [
       "'miscellaneous'"
      ]
     },
     "metadata": {},
     "execution_count": 13
    }
   ],
   "metadata": {}
  },
  {
   "cell_type": "code",
   "execution_count": 22,
   "source": [
    "def pos_prediction(restaurant_review):\r\n",
    "    nlp = spacy.load(\"en_core_web_sm\")\r\n",
    "    targets = parse_targets(nlp, restaurant_review)\r\n",
    "    adjectives = parse_adjectives(nlp, restaurant_review)\r\n",
    "\r\n",
    "    outputs = []\r\n",
    "    if len(targets) == len(adjectives): \r\n",
    "        for i in range(0, len(targets)):\r\n",
    "            output = {}\r\n",
    "            \r\n",
    "            output.update({'aspect': targets[i], 'adjective': adjectives[i]})\r\n",
    "            try:\r\n",
    "                topic = get_topic_from_word(prepare_text_for_lda(targets[i])[0], lda_model, topic_map)\r\n",
    "            except:\r\n",
    "                topic = 'miscellaneous'\r\n",
    "            score = sid.polarity_scores(adjectives[i])['compound']\r\n",
    "            sentiment = 'positive' if score > 0 else ('neutral' if score == 0 else 'negative')\r\n",
    "            output.update({'topic': topic, 'polarity': sentiment})\r\n",
    "            outputs.append(output)\r\n",
    "    elif len(targets) > len(adjectives):\r\n",
    "        for i in range(0, len(targets)):\r\n",
    "            output = {}\r\n",
    "            try:\r\n",
    "                topic = get_topic_from_word(prepare_text_for_lda(targets[i])[0], lda_model, topic_map)\r\n",
    "                score = sid.polarity_scores(adjectives[i])['compound']\r\n",
    "                sentiment = 'positive' if score > 0 else ('neutral' if score == 0 else 'negative')\r\n",
    "                output.update({'aspect': targets[i], 'adjective': adjectives[i], 'topic': topic, 'polarity': sentiment})\r\n",
    "            except IndexError:\r\n",
    "                output.update({'aspect': targets[i], 'adjective': 'None', 'topic': targets[i], 'polarity': 'None'})\r\n",
    "            \r\n",
    "            outputs.append(output)\r\n",
    "    elif len(targets) < len(adjectives):\r\n",
    "        for i in range(0, len(adjectives)):\r\n",
    "            output = {}\r\n",
    "            try:\r\n",
    "                topic = get_topic_from_word(prepare_text_for_lda(targets[i])[0], lda_model, topic_map)\r\n",
    "                score = sid.polarity_scores(adjectives[i])['compound']\r\n",
    "                sentiment = 'positive' if score > 0 else ('neutral' if score == 0 else 'negative')\r\n",
    "                output.update({'aspect': targets[i], 'adjective': adjectives[i], 'topic': topic, 'polarity': sentiment})\r\n",
    "            except IndexError:\r\n",
    "                score = sid.polarity_scores(adjectives[i])['compound']\r\n",
    "                sentiment = 'positive' if score > 0 else ('neutral' if score == 0 else 'negative')\r\n",
    "                output.update({'aspect': 'None', 'adjective': adjectives[i], 'topic': 'miscellaneous', 'polarity': sentiment})\r\n",
    "            outputs.append(output)\r\n",
    "    \r\n",
    "    df = pd.DataFrame(outputs)\r\n",
    "    boolean_series = ~df.aspect.isin(list(set(nltk.corpus.stopwords.words('english'))) + ['I'])\r\n",
    "    output_df = df[boolean_series]\r\n",
    "    return output_df\r\n",
    "        \r\n"
   ],
   "outputs": [],
   "metadata": {}
  },
  {
   "cell_type": "code",
   "execution_count": 23,
   "source": [
    "sample = '''I expected more. And maybe this is where Google reviews fall short. \r\n",
    "I wonder how many people have actually been to Spain and experienced real paella. \r\n",
    "This one was as decent as it could be but scallops were not juicy, the rice was quite dry, and seafood just not as fresh as you’d want. \r\n",
    "I appreciate the effort and the ambiance created at the restaurant. \r\n",
    "I can say good thing about the pimiento stuffed with beef cheeks — very tender and soft, as they should be. \r\n",
    "Then shrimps pil pil style definitely missed that strong garlic flavour and salt. \r\n",
    "Lovely service that made the stay very enjoyable'''"
   ],
   "outputs": [],
   "metadata": {}
  },
  {
   "cell_type": "code",
   "execution_count": 24,
   "source": [
    "pos_prediction(sample)"
   ],
   "outputs": [
    {
     "output_type": "execute_result",
     "data": {
      "text/html": [
       "<div>\n",
       "<style scoped>\n",
       "    .dataframe tbody tr th:only-of-type {\n",
       "        vertical-align: middle;\n",
       "    }\n",
       "\n",
       "    .dataframe tbody tr th {\n",
       "        vertical-align: top;\n",
       "    }\n",
       "\n",
       "    .dataframe thead th {\n",
       "        text-align: right;\n",
       "    }\n",
       "</style>\n",
       "<table border=\"1\" class=\"dataframe\">\n",
       "  <thead>\n",
       "    <tr style=\"text-align: right;\">\n",
       "      <th></th>\n",
       "      <th>aspect</th>\n",
       "      <th>adjective</th>\n",
       "      <th>topic</th>\n",
       "      <th>polarity</th>\n",
       "    </tr>\n",
       "  </thead>\n",
       "  <tbody>\n",
       "    <tr>\n",
       "      <th>1</th>\n",
       "      <td>reviews</td>\n",
       "      <td>short</td>\n",
       "      <td>price</td>\n",
       "      <td>neutral</td>\n",
       "    </tr>\n",
       "    <tr>\n",
       "      <th>3</th>\n",
       "      <td>people</td>\n",
       "      <td>real</td>\n",
       "      <td>place</td>\n",
       "      <td>neutral</td>\n",
       "    </tr>\n",
       "    <tr>\n",
       "      <th>4</th>\n",
       "      <td>Spain</td>\n",
       "      <td>as decent</td>\n",
       "      <td>miscellaneous</td>\n",
       "      <td>neutral</td>\n",
       "    </tr>\n",
       "    <tr>\n",
       "      <th>5</th>\n",
       "      <td>paella</td>\n",
       "      <td>juicy</td>\n",
       "      <td>staff</td>\n",
       "      <td>neutral</td>\n",
       "    </tr>\n",
       "    <tr>\n",
       "      <th>6</th>\n",
       "      <td>one</td>\n",
       "      <td>quite dry</td>\n",
       "      <td>price</td>\n",
       "      <td>neutral</td>\n",
       "    </tr>\n",
       "    <tr>\n",
       "      <th>8</th>\n",
       "      <td>scallops</td>\n",
       "      <td>good</td>\n",
       "      <td>menu</td>\n",
       "      <td>positive</td>\n",
       "    </tr>\n",
       "    <tr>\n",
       "      <th>9</th>\n",
       "      <td>rice</td>\n",
       "      <td>very tender</td>\n",
       "      <td>place</td>\n",
       "      <td>neutral</td>\n",
       "    </tr>\n",
       "    <tr>\n",
       "      <th>12</th>\n",
       "      <td>effort</td>\n",
       "      <td>garlic</td>\n",
       "      <td>menu</td>\n",
       "      <td>neutral</td>\n",
       "    </tr>\n",
       "    <tr>\n",
       "      <th>13</th>\n",
       "      <td>restaurant</td>\n",
       "      <td>Lovely</td>\n",
       "      <td>place</td>\n",
       "      <td>positive</td>\n",
       "    </tr>\n",
       "    <tr>\n",
       "      <th>15</th>\n",
       "      <td>thing</td>\n",
       "      <td>None</td>\n",
       "      <td>thing</td>\n",
       "      <td>None</td>\n",
       "    </tr>\n",
       "    <tr>\n",
       "      <th>16</th>\n",
       "      <td>pimiento</td>\n",
       "      <td>None</td>\n",
       "      <td>pimiento</td>\n",
       "      <td>None</td>\n",
       "    </tr>\n",
       "    <tr>\n",
       "      <th>17</th>\n",
       "      <td>cheeks</td>\n",
       "      <td>None</td>\n",
       "      <td>cheeks</td>\n",
       "      <td>None</td>\n",
       "    </tr>\n",
       "    <tr>\n",
       "      <th>19</th>\n",
       "      <td>style</td>\n",
       "      <td>None</td>\n",
       "      <td>style</td>\n",
       "      <td>None</td>\n",
       "    </tr>\n",
       "    <tr>\n",
       "      <th>20</th>\n",
       "      <td>flavour</td>\n",
       "      <td>None</td>\n",
       "      <td>flavour</td>\n",
       "      <td>None</td>\n",
       "    </tr>\n",
       "    <tr>\n",
       "      <th>21</th>\n",
       "      <td>service</td>\n",
       "      <td>None</td>\n",
       "      <td>service</td>\n",
       "      <td>None</td>\n",
       "    </tr>\n",
       "    <tr>\n",
       "      <th>22</th>\n",
       "      <td>stay</td>\n",
       "      <td>None</td>\n",
       "      <td>stay</td>\n",
       "      <td>None</td>\n",
       "    </tr>\n",
       "  </tbody>\n",
       "</table>\n",
       "</div>"
      ],
      "text/plain": [
       "        aspect    adjective          topic  polarity\n",
       "1      reviews        short          price   neutral\n",
       "3       people         real          place   neutral\n",
       "4        Spain    as decent  miscellaneous   neutral\n",
       "5       paella        juicy          staff   neutral\n",
       "6          one    quite dry          price   neutral\n",
       "8     scallops         good           menu  positive\n",
       "9         rice  very tender          place   neutral\n",
       "12      effort       garlic           menu   neutral\n",
       "13  restaurant       Lovely          place  positive\n",
       "15       thing         None          thing      None\n",
       "16    pimiento         None       pimiento      None\n",
       "17      cheeks         None         cheeks      None\n",
       "19       style         None          style      None\n",
       "20     flavour         None        flavour      None\n",
       "21     service         None        service      None\n",
       "22        stay         None           stay      None"
      ]
     },
     "metadata": {},
     "execution_count": 24
    }
   ],
   "metadata": {}
  },
  {
   "cell_type": "code",
   "execution_count": 30,
   "source": [
    "iface = gr.Interface(fn=pos_prediction, \r\n",
    "                    inputs=gr.inputs.Textbox(lines=2, placeholder='Enter restaurant review here...'),\r\n",
    "                    outputs=gr.outputs.Dataframe(headers=['Aspect','Adjective', 'Topic', 'Polarity']),\r\n",
    "                    examples=[\r\n",
    "                        ['The restaurant is too dark, and the bathroom was not clean. Also, everyone there is rude.'],\r\n",
    "                        ['Fabulous dinner & environment but the older waiters have a real sense of entitlement.'],\r\n",
    "                        ['Entrees were way too expensive.'],\r\n",
    "                        ['The dinner was great, and the waiter was super friendly.']\r\n",
    "                    ])\r\n",
    "iface.launch(share=True)"
   ],
   "outputs": [
    {
     "output_type": "stream",
     "name": "stdout",
     "text": [
      "Running locally at: http://127.0.0.1:7861/\n",
      "This share link will expire in 72 hours. If you need a permanent link, visit: https://gradio.app/introducing-hosted\n",
      "Running on External URL: https://58123.gradio.app\n",
      "Interface loading below...\n"
     ]
    },
    {
     "output_type": "display_data",
     "data": {
      "text/html": [
       "\n",
       "        <iframe\n",
       "            width=\"900\"\n",
       "            height=\"500\"\n",
       "            src=\"https://58123.gradio.app\"\n",
       "            frameborder=\"0\"\n",
       "            allowfullscreen\n",
       "        ></iframe>\n",
       "        "
      ],
      "text/plain": [
       "<IPython.lib.display.IFrame at 0x1e7209e4a90>"
      ]
     },
     "metadata": {}
    },
    {
     "output_type": "execute_result",
     "data": {
      "text/plain": [
       "(<Flask 'gradio.networking'>,\n",
       " 'http://127.0.0.1:7861/',\n",
       " 'https://58123.gradio.app')"
      ]
     },
     "metadata": {},
     "execution_count": 30
    },
    {
     "output_type": "stream",
     "name": "stderr",
     "text": [
      "[2021-10-06 21:59:26,341] ERROR in app: Exception on /api/predict/ [POST]\n",
      "Traceback (most recent call last):\n",
      "  File \"<ipython-input-28-2b8dce64a55e>\", line 24, in pos_prediction\n",
      "    topic = get_topic_from_word(prepare_text_for_lda(targets[i])[0], lda_model, topic_map)\n",
      "IndexError: list index out of range\n",
      "\n",
      "During handling of the above exception, another exception occurred:\n",
      "\n",
      "Traceback (most recent call last):\n",
      "  File \"C:\\ProgramData\\Anaconda3\\envs\\nlpenv\\lib\\site-packages\\flask\\app.py\", line 2447, in wsgi_app\n",
      "    response = self.full_dispatch_request()\n",
      "  File \"C:\\ProgramData\\Anaconda3\\envs\\nlpenv\\lib\\site-packages\\flask\\app.py\", line 1952, in full_dispatch_request\n",
      "    rv = self.handle_user_exception(e)\n",
      "  File \"C:\\ProgramData\\Anaconda3\\envs\\nlpenv\\lib\\site-packages\\flask_cors\\extension.py\", line 165, in wrapped_function\n",
      "    return cors_after_request(app.make_response(f(*args, **kwargs)))\n",
      "  File \"C:\\ProgramData\\Anaconda3\\envs\\nlpenv\\lib\\site-packages\\flask\\app.py\", line 1821, in handle_user_exception\n",
      "    reraise(exc_type, exc_value, tb)\n",
      "  File \"C:\\ProgramData\\Anaconda3\\envs\\nlpenv\\lib\\site-packages\\flask\\_compat.py\", line 39, in reraise\n",
      "    raise value\n",
      "  File \"C:\\ProgramData\\Anaconda3\\envs\\nlpenv\\lib\\site-packages\\flask\\app.py\", line 1950, in full_dispatch_request\n",
      "    rv = self.dispatch_request()\n",
      "  File \"C:\\ProgramData\\Anaconda3\\envs\\nlpenv\\lib\\site-packages\\flask\\app.py\", line 1936, in dispatch_request\n",
      "    return self.view_functions[rule.endpoint](**req.view_args)\n",
      "  File \"C:\\ProgramData\\Anaconda3\\envs\\nlpenv\\lib\\site-packages\\gradio\\networking.py\", line 90, in wrapper\n",
      "    return func(*args, **kwargs)\n",
      "  File \"C:\\ProgramData\\Anaconda3\\envs\\nlpenv\\lib\\site-packages\\gradio\\networking.py\", line 180, in predict\n",
      "    prediction, durations = app.interface.process(raw_input)\n",
      "  File \"C:\\ProgramData\\Anaconda3\\envs\\nlpenv\\lib\\site-packages\\gradio\\interface.py\", line 334, in process\n",
      "    predictions, durations = self.run_prediction(processed_input, return_duration=True)\n",
      "  File \"C:\\ProgramData\\Anaconda3\\envs\\nlpenv\\lib\\site-packages\\gradio\\interface.py\", line 307, in run_prediction\n",
      "    prediction = predict_fn(*processed_input)\n",
      "  File \"<ipython-input-28-2b8dce64a55e>\", line 29, in pos_prediction\n",
      "    topic = get_topic_from_word(prepare_text_for_lda(targets[i])[0], lda_model, topic_map)\n",
      "IndexError: list index out of range\n",
      "Socket exception: An existing connection was forcibly closed by the remote host (10054)\n",
      "Socket exception: An existing connection was forcibly closed by the remote host (10054)\n"
     ]
    }
   ],
   "metadata": {}
  },
  {
   "cell_type": "code",
   "execution_count": null,
   "source": [
    "['topic', 'meta', 'polarity']\r\n",
    "\r\n",
    "#group by topics, meta: ['delicious-beautiful', 'experience-outstanding']\r\n",
    "#hide rows that are None\r\n"
   ],
   "outputs": [],
   "metadata": {}
  },
  {
   "cell_type": "markdown",
   "source": [],
   "metadata": {}
  },
  {
   "cell_type": "markdown",
   "source": [],
   "metadata": {}
  }
 ],
 "metadata": {
  "orig_nbformat": 4,
  "language_info": {
   "name": "python",
   "version": "3.8.3",
   "mimetype": "text/x-python",
   "codemirror_mode": {
    "name": "ipython",
    "version": 3
   },
   "pygments_lexer": "ipython3",
   "nbconvert_exporter": "python",
   "file_extension": ".py"
  },
  "kernelspec": {
   "name": "python3",
   "display_name": "Python 3.8.3 64-bit ('nlpenv': conda)"
  },
  "interpreter": {
   "hash": "3f4643a5fc191cfdc6db820312c1a6d5dbd54c07017a1c478aebe45165635478"
  }
 },
 "nbformat": 4,
 "nbformat_minor": 2
}