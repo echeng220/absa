{
 "cells": [
  {
   "cell_type": "code",
   "execution_count": 16,
   "source": [
    "import pandas as pd\r\n",
    "import numpy as np\r\n",
    "import gradio as gr\r\n",
    "import nltk\r\n",
    "import spacy\r\n",
    "import pickle\r\n",
    "from gensim.models.ldamodel import LdaModel\r\n",
    "from gensim import corpora\r\n",
    "from nltk.sentiment.vader import SentimentIntensityAnalyzer\r\n",
    "\r\n",
    "nlp = spacy.load(\"en_core_web_sm\")\r\n",
    "nltk.download('vader_lexicon')\r\n",
    "\r\n",
    "from absa_functions import *"
   ],
   "outputs": [
    {
     "output_type": "stream",
     "name": "stderr",
     "text": [
      "[nltk_data] Downloading package vader_lexicon to\n",
      "[nltk_data]     C:\\Users\\Evan\\AppData\\Roaming\\nltk_data...\n",
      "[nltk_data]   Package vader_lexicon is already up-to-date!\n"
     ]
    }
   ],
   "metadata": {}
  },
  {
   "cell_type": "code",
   "execution_count": 17,
   "source": [
    "def parse_targets(nlp, review):\r\n",
    "    doc = nlp(review)\r\n",
    "    targets = []\r\n",
    "    target = ''\r\n",
    "\r\n",
    "    for token in doc:\r\n",
    "        if (token.dep_ in ['nsubj','dobj', 'pobj', 'ROOT']) and (token.pos_ in ['NOUN', 'PROPN', 'PRON']):\r\n",
    "            target = token.text\r\n",
    "            targets.append(target)\r\n",
    "\r\n",
    "    return targets"
   ],
   "outputs": [],
   "metadata": {}
  },
  {
   "cell_type": "code",
   "execution_count": 18,
   "source": [
    "def parse_adjectives(nlp, review):\r\n",
    "    doc = nlp(review)\r\n",
    "    adjectives = []\r\n",
    "    adjective = ''\r\n",
    "\r\n",
    "    for token in doc:\r\n",
    "        if token.pos_ == 'ADJ':\r\n",
    "            prepend = ''\r\n",
    "            for child in token.children:\r\n",
    "                if child.pos_ != 'ADV':\r\n",
    "                    continue\r\n",
    "                prepend += child.text + ' '\r\n",
    "            adjective = prepend + token.text\r\n",
    "            adjectives.append(adjective)\r\n",
    "\r\n",
    "    return adjectives"
   ],
   "outputs": [],
   "metadata": {}
  },
  {
   "cell_type": "code",
   "execution_count": 19,
   "source": [
    "def get_topic_from_word(word, lda_model, topic_map):\r\n",
    "    try:\r\n",
    "        topics_raw = lda_model.get_term_topics(word, minimum_probability=0.0000001)\r\n",
    "        topic_dict = {topic_map[tup[0]]: tup[1] for tup in topics_raw}\r\n",
    "        best_topic = max(topic_dict, key=topic_dict.get)\r\n",
    "    except:\r\n",
    "        best_topic = 'miscellaneous'\r\n",
    "\r\n",
    "    return best_topic"
   ],
   "outputs": [],
   "metadata": {}
  },
  {
   "cell_type": "code",
   "execution_count": 20,
   "source": [
    "corpus = pickle.load(open('corpus.pkl', 'rb'))\r\n",
    "dictionary = corpora.Dictionary.load('dictionary.gensim')\r\n",
    "lda_model = LdaModel.load('best_lda_model.gensim')"
   ],
   "outputs": [],
   "metadata": {}
  },
  {
   "cell_type": "code",
   "execution_count": 21,
   "source": [
    "sid = SentimentIntensityAnalyzer()"
   ],
   "outputs": [],
   "metadata": {}
  },
  {
   "cell_type": "code",
   "execution_count": 22,
   "source": [
    "#numerical mapping for topics in LDA model\r\n",
    "topic_map = {0: 'menu', 1: 'service', 2: 'miscellaneous', 3: 'place', 4: 'price', 5: 'food', 6: 'staff'}"
   ],
   "outputs": [],
   "metadata": {}
  },
  {
   "cell_type": "code",
   "execution_count": 23,
   "source": [
    "review = 'Wonderful music, beautiful restaurant, great wine.'"
   ],
   "outputs": [],
   "metadata": {}
  },
  {
   "cell_type": "code",
   "execution_count": 24,
   "source": [
    "count = 0\r\n",
    "doc = nlp(review)\r\n",
    "for token in doc:\r\n",
    "    count += 1\r\n",
    "    if count <= 20:\r\n",
    "    # if 12 <= count <= 18:\r\n",
    "        print(token.text, token.dep_, token.head.text, token.head.pos_, token.pos_,[child for child in token.children])"
   ],
   "outputs": [
    {
     "output_type": "stream",
     "name": "stdout",
     "text": [
      "Wonderful amod music NOUN ADJ []\n",
      "music ROOT music NOUN NOUN [Wonderful, ,, restaurant, wine, .]\n",
      ", punct music NOUN PUNCT []\n",
      "beautiful amod restaurant NOUN ADJ []\n",
      "restaurant appos music NOUN NOUN [beautiful, ,]\n",
      ", punct restaurant NOUN PUNCT []\n",
      "great amod wine NOUN ADJ []\n",
      "wine appos music NOUN NOUN [great]\n",
      ". punct music NOUN PUNCT []\n"
     ]
    }
   ],
   "metadata": {}
  },
  {
   "cell_type": "code",
   "execution_count": 25,
   "source": [
    "parse_targets(nlp, review)"
   ],
   "outputs": [
    {
     "output_type": "execute_result",
     "data": {
      "text/plain": [
       "['music']"
      ]
     },
     "metadata": {},
     "execution_count": 25
    }
   ],
   "metadata": {}
  },
  {
   "cell_type": "code",
   "execution_count": 26,
   "source": [
    "parse_adjectives(nlp, review)"
   ],
   "outputs": [
    {
     "output_type": "execute_result",
     "data": {
      "text/plain": [
       "['Wonderful', 'beautiful', 'great']"
      ]
     },
     "metadata": {},
     "execution_count": 26
    }
   ],
   "metadata": {}
  },
  {
   "cell_type": "code",
   "execution_count": 27,
   "source": [
    "get_topic_from_word(prepare_text_for_lda('entitlement')[0], lda_model, topic_map)"
   ],
   "outputs": [
    {
     "output_type": "execute_result",
     "data": {
      "text/plain": [
       "'miscellaneous'"
      ]
     },
     "metadata": {},
     "execution_count": 27
    }
   ],
   "metadata": {}
  },
  {
   "cell_type": "code",
   "execution_count": 28,
   "source": [
    "def pos_prediction(restaurant_review):\r\n",
    "    nlp = spacy.load(\"en_core_web_sm\")\r\n",
    "    targets = parse_targets(nlp, restaurant_review)\r\n",
    "    adjectives = parse_adjectives(nlp, restaurant_review)\r\n",
    "\r\n",
    "    outputs = []\r\n",
    "    if len(targets) == len(adjectives): \r\n",
    "        for i in range(0, len(targets)):\r\n",
    "            output = {}\r\n",
    "            \r\n",
    "            output.update({'aspect': targets[i], 'adjective': adjectives[i]})\r\n",
    "            try:\r\n",
    "                topic = get_topic_from_word(prepare_text_for_lda(targets[i])[0], lda_model, topic_map)\r\n",
    "            except:\r\n",
    "                topic = 'miscellaneous'\r\n",
    "            score = sid.polarity_scores(adjectives[i])['compound']\r\n",
    "            sentiment = 'positive' if score > 0 else ('neutral' if score == 0 else 'negative')\r\n",
    "            output.update({'topic': topic, 'polarity': sentiment})\r\n",
    "            outputs.append(output)\r\n",
    "    elif len(targets) > len(adjectives):\r\n",
    "        for i in range(0, len(targets)):\r\n",
    "            output = {}\r\n",
    "            try:\r\n",
    "                topic = get_topic_from_word(prepare_text_for_lda(targets[i])[0], lda_model, topic_map)\r\n",
    "                score = sid.polarity_scores(adjectives[i])['compound']\r\n",
    "                sentiment = 'positive' if score > 0 else ('neutral' if score == 0 else 'negative')\r\n",
    "                output.update({'aspect': targets[i], 'adjective': adjectives[i], 'topic': topic, 'polarity': sentiment})\r\n",
    "            except IndexError:\r\n",
    "                topic = get_topic_from_word(prepare_text_for_lda(targets[i])[0], lda_model, topic_map)\r\n",
    "                output.update({'aspect': targets[i], 'adjective': 'None', 'topic': topic, 'polarity': 'None'})\r\n",
    "            \r\n",
    "            outputs.append(output)\r\n",
    "    elif len(targets) < len(adjectives):\r\n",
    "        for i in range(0, len(adjectives)):\r\n",
    "            output = {}\r\n",
    "            try:\r\n",
    "                topic = get_topic_from_word(prepare_text_for_lda(targets[i])[0], lda_model, topic_map)\r\n",
    "                score = sid.polarity_scores(adjectives[i])['compound']\r\n",
    "                sentiment = 'positive' if score > 0 else ('neutral' if score == 0 else 'negative')\r\n",
    "                output.update({'aspect': targets[i], 'adjective': adjectives[i], 'topic': topic, 'polarity': sentiment})\r\n",
    "            except IndexError:\r\n",
    "                score = sid.polarity_scores(adjectives[i])['compound']\r\n",
    "                sentiment = 'positive' if score > 0 else ('neutral' if score == 0 else 'negative')\r\n",
    "                output.update({'aspect': 'None', 'adjective': adjectives[i], 'topic': 'miscellaneous', 'polarity': sentiment})\r\n",
    "            outputs.append(output)\r\n",
    "    \r\n",
    "    return pd.DataFrame(outputs)\r\n",
    "        \r\n"
   ],
   "outputs": [],
   "metadata": {}
  },
  {
   "cell_type": "code",
   "execution_count": 29,
   "source": [
    "pos_prediction(review)"
   ],
   "outputs": [
    {
     "output_type": "execute_result",
     "data": {
      "text/html": [
       "<div>\n",
       "<style scoped>\n",
       "    .dataframe tbody tr th:only-of-type {\n",
       "        vertical-align: middle;\n",
       "    }\n",
       "\n",
       "    .dataframe tbody tr th {\n",
       "        vertical-align: top;\n",
       "    }\n",
       "\n",
       "    .dataframe thead th {\n",
       "        text-align: right;\n",
       "    }\n",
       "</style>\n",
       "<table border=\"1\" class=\"dataframe\">\n",
       "  <thead>\n",
       "    <tr style=\"text-align: right;\">\n",
       "      <th></th>\n",
       "      <th>aspect</th>\n",
       "      <th>adjective</th>\n",
       "      <th>topic</th>\n",
       "      <th>polarity</th>\n",
       "    </tr>\n",
       "  </thead>\n",
       "  <tbody>\n",
       "    <tr>\n",
       "      <th>0</th>\n",
       "      <td>music</td>\n",
       "      <td>Wonderful</td>\n",
       "      <td>menu</td>\n",
       "      <td>positive</td>\n",
       "    </tr>\n",
       "    <tr>\n",
       "      <th>1</th>\n",
       "      <td>None</td>\n",
       "      <td>beautiful</td>\n",
       "      <td>miscellaneous</td>\n",
       "      <td>positive</td>\n",
       "    </tr>\n",
       "    <tr>\n",
       "      <th>2</th>\n",
       "      <td>None</td>\n",
       "      <td>great</td>\n",
       "      <td>miscellaneous</td>\n",
       "      <td>positive</td>\n",
       "    </tr>\n",
       "  </tbody>\n",
       "</table>\n",
       "</div>"
      ],
      "text/plain": [
       "  aspect  adjective          topic  polarity\n",
       "0  music  Wonderful           menu  positive\n",
       "1   None  beautiful  miscellaneous  positive\n",
       "2   None      great  miscellaneous  positive"
      ]
     },
     "metadata": {},
     "execution_count": 29
    }
   ],
   "metadata": {}
  },
  {
   "cell_type": "code",
   "execution_count": 30,
   "source": [
    "iface = gr.Interface(fn=pos_prediction, \r\n",
    "                    inputs=gr.inputs.Textbox(lines=2, placeholder='Enter restaurant review here...'),\r\n",
    "                    outputs=gr.outputs.Dataframe(headers=['Aspect','Adjective', 'Topic', 'Polarity']),\r\n",
    "                    examples=[\r\n",
    "                        ['The restaurant is too dark, and the bathroom was not clean. Also, everyone there is rude.'],\r\n",
    "                        ['Fabulous dinner & environment but the older waiters have a real sense of entitlement.'],\r\n",
    "                        ['Entrees were way too expensive.'],\r\n",
    "                        ['The dinner was great, and the waiter was super friendly.']\r\n",
    "                    ])\r\n",
    "iface.launch(share=True)"
   ],
   "outputs": [
    {
     "output_type": "stream",
     "name": "stdout",
     "text": [
      "Running locally at: http://127.0.0.1:7861/\n",
      "This share link will expire in 72 hours. If you need a permanent link, visit: https://gradio.app/introducing-hosted\n",
      "Running on External URL: https://58123.gradio.app\n",
      "Interface loading below...\n"
     ]
    },
    {
     "output_type": "display_data",
     "data": {
      "text/html": [
       "\n",
       "        <iframe\n",
       "            width=\"900\"\n",
       "            height=\"500\"\n",
       "            src=\"https://58123.gradio.app\"\n",
       "            frameborder=\"0\"\n",
       "            allowfullscreen\n",
       "        ></iframe>\n",
       "        "
      ],
      "text/plain": [
       "<IPython.lib.display.IFrame at 0x1e7209e4a90>"
      ]
     },
     "metadata": {}
    },
    {
     "output_type": "execute_result",
     "data": {
      "text/plain": [
       "(<Flask 'gradio.networking'>,\n",
       " 'http://127.0.0.1:7861/',\n",
       " 'https://58123.gradio.app')"
      ]
     },
     "metadata": {},
     "execution_count": 30
    },
    {
     "output_type": "stream",
     "name": "stderr",
     "text": [
      "[2021-10-06 21:59:26,341] ERROR in app: Exception on /api/predict/ [POST]\n",
      "Traceback (most recent call last):\n",
      "  File \"<ipython-input-28-2b8dce64a55e>\", line 24, in pos_prediction\n",
      "    topic = get_topic_from_word(prepare_text_for_lda(targets[i])[0], lda_model, topic_map)\n",
      "IndexError: list index out of range\n",
      "\n",
      "During handling of the above exception, another exception occurred:\n",
      "\n",
      "Traceback (most recent call last):\n",
      "  File \"C:\\ProgramData\\Anaconda3\\envs\\nlpenv\\lib\\site-packages\\flask\\app.py\", line 2447, in wsgi_app\n",
      "    response = self.full_dispatch_request()\n",
      "  File \"C:\\ProgramData\\Anaconda3\\envs\\nlpenv\\lib\\site-packages\\flask\\app.py\", line 1952, in full_dispatch_request\n",
      "    rv = self.handle_user_exception(e)\n",
      "  File \"C:\\ProgramData\\Anaconda3\\envs\\nlpenv\\lib\\site-packages\\flask_cors\\extension.py\", line 165, in wrapped_function\n",
      "    return cors_after_request(app.make_response(f(*args, **kwargs)))\n",
      "  File \"C:\\ProgramData\\Anaconda3\\envs\\nlpenv\\lib\\site-packages\\flask\\app.py\", line 1821, in handle_user_exception\n",
      "    reraise(exc_type, exc_value, tb)\n",
      "  File \"C:\\ProgramData\\Anaconda3\\envs\\nlpenv\\lib\\site-packages\\flask\\_compat.py\", line 39, in reraise\n",
      "    raise value\n",
      "  File \"C:\\ProgramData\\Anaconda3\\envs\\nlpenv\\lib\\site-packages\\flask\\app.py\", line 1950, in full_dispatch_request\n",
      "    rv = self.dispatch_request()\n",
      "  File \"C:\\ProgramData\\Anaconda3\\envs\\nlpenv\\lib\\site-packages\\flask\\app.py\", line 1936, in dispatch_request\n",
      "    return self.view_functions[rule.endpoint](**req.view_args)\n",
      "  File \"C:\\ProgramData\\Anaconda3\\envs\\nlpenv\\lib\\site-packages\\gradio\\networking.py\", line 90, in wrapper\n",
      "    return func(*args, **kwargs)\n",
      "  File \"C:\\ProgramData\\Anaconda3\\envs\\nlpenv\\lib\\site-packages\\gradio\\networking.py\", line 180, in predict\n",
      "    prediction, durations = app.interface.process(raw_input)\n",
      "  File \"C:\\ProgramData\\Anaconda3\\envs\\nlpenv\\lib\\site-packages\\gradio\\interface.py\", line 334, in process\n",
      "    predictions, durations = self.run_prediction(processed_input, return_duration=True)\n",
      "  File \"C:\\ProgramData\\Anaconda3\\envs\\nlpenv\\lib\\site-packages\\gradio\\interface.py\", line 307, in run_prediction\n",
      "    prediction = predict_fn(*processed_input)\n",
      "  File \"<ipython-input-28-2b8dce64a55e>\", line 29, in pos_prediction\n",
      "    topic = get_topic_from_word(prepare_text_for_lda(targets[i])[0], lda_model, topic_map)\n",
      "IndexError: list index out of range\n",
      "Socket exception: An existing connection was forcibly closed by the remote host (10054)\n",
      "Socket exception: An existing connection was forcibly closed by the remote host (10054)\n"
     ]
    }
   ],
   "metadata": {}
  },
  {
   "cell_type": "code",
   "execution_count": null,
   "source": [],
   "outputs": [],
   "metadata": {}
  }
 ],
 "metadata": {
  "orig_nbformat": 4,
  "language_info": {
   "name": "python",
   "version": "3.8.3",
   "mimetype": "text/x-python",
   "codemirror_mode": {
    "name": "ipython",
    "version": 3
   },
   "pygments_lexer": "ipython3",
   "nbconvert_exporter": "python",
   "file_extension": ".py"
  },
  "kernelspec": {
   "name": "python3",
   "display_name": "Python 3.8.3 64-bit ('nlpenv': conda)"
  },
  "interpreter": {
   "hash": "3f4643a5fc191cfdc6db820312c1a6d5dbd54c07017a1c478aebe45165635478"
  }
 },
 "nbformat": 4,
 "nbformat_minor": 2
}