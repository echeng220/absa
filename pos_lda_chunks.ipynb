{
 "cells": [
  {
   "cell_type": "markdown",
   "source": [
    "## Aim of this notebook:\r\n",
    "\r\n",
    "- split sentence by punctuation\r\n",
    "- filter by length\r\n",
    "- run each phrase through LDA\r\n",
    "- sentiment analysis on each phrase\r\n",
    "- POS tags for extra info\r\n",
    "- post-processing: do we combine like topics? etc"
   ],
   "metadata": {}
  },
  {
   "cell_type": "code",
   "execution_count": 10,
   "source": [
    "import pandas as pd\r\n",
    "import numpy as np\r\n",
    "import gradio as gr\r\n",
    "import nltk\r\n",
    "import spacy\r\n",
    "import pickle\r\n",
    "import re\r\n",
    "from gensim.models.ldamodel import LdaModel\r\n",
    "from gensim import corpora\r\n",
    "from nltk.sentiment.vader import SentimentIntensityAnalyzer\r\n",
    "\r\n",
    "nlp = spacy.load(\"en_core_web_sm\")\r\n",
    "nltk.download('vader_lexicon')\r\n",
    "\r\n",
    "from absa_functions import *"
   ],
   "outputs": [
    {
     "output_type": "stream",
     "name": "stderr",
     "text": [
      "[nltk_data] Downloading package vader_lexicon to\n",
      "[nltk_data]     C:\\Users\\Evan\\AppData\\Roaming\\nltk_data...\n",
      "[nltk_data]   Package vader_lexicon is already up-to-date!\n"
     ]
    }
   ],
   "metadata": {}
  },
  {
   "cell_type": "code",
   "execution_count": 44,
   "source": [
    "def parse_targets(nlp, review):\r\n",
    "    doc = nlp(review)\r\n",
    "    targets = []\r\n",
    "    target = ''\r\n",
    "\r\n",
    "    for token in doc:\r\n",
    "        if (token.dep_ in ['nsubj','dobj', 'pobj', 'ROOT']) and (token.pos_ in ['NOUN', 'PROPN']):\r\n",
    "            target = token.text\r\n",
    "            targets.append(target)\r\n",
    "\r\n",
    "    return targets"
   ],
   "outputs": [],
   "metadata": {}
  },
  {
   "cell_type": "code",
   "execution_count": 3,
   "source": [
    "def parse_adjectives(nlp, review):\r\n",
    "    doc = nlp(review)\r\n",
    "    adjectives = []\r\n",
    "    adjective = ''\r\n",
    "\r\n",
    "    for token in doc:\r\n",
    "        if token.pos_ == 'ADJ':\r\n",
    "            prepend = ''\r\n",
    "            for child in token.children:\r\n",
    "                if child.pos_ != 'ADV':\r\n",
    "                    continue\r\n",
    "                prepend += child.text + ' '\r\n",
    "            adjective = prepend + token.text\r\n",
    "            adjectives.append(adjective)\r\n",
    "\r\n",
    "    return adjectives"
   ],
   "outputs": [],
   "metadata": {}
  },
  {
   "cell_type": "code",
   "execution_count": 4,
   "source": [
    "def get_topic_from_word(word, lda_model, topic_map):\r\n",
    "    try:\r\n",
    "        topics_raw = lda_model.get_term_topics(word, minimum_probability=0.0000001)\r\n",
    "        topic_dict = {topic_map[tup[0]]: tup[1] for tup in topics_raw}\r\n",
    "        best_topic = max(topic_dict, key=topic_dict.get)\r\n",
    "    except:\r\n",
    "        best_topic = 'miscellaneous'\r\n",
    "\r\n",
    "    return best_topic"
   ],
   "outputs": [],
   "metadata": {}
  },
  {
   "cell_type": "code",
   "execution_count": 5,
   "source": [
    "corpus = pickle.load(open('corpus.pkl', 'rb'))\r\n",
    "dictionary = corpora.Dictionary.load('dictionary.gensim')\r\n",
    "lda_model = LdaModel.load('best_lda_model.gensim')"
   ],
   "outputs": [],
   "metadata": {}
  },
  {
   "cell_type": "code",
   "execution_count": 6,
   "source": [
    "sid = SentimentIntensityAnalyzer()"
   ],
   "outputs": [],
   "metadata": {}
  },
  {
   "cell_type": "code",
   "execution_count": 7,
   "source": [
    "#numerical mapping for topics in LDA model\r\n",
    "topic_map = {0: 'menu', 1: 'service', 2: 'miscellaneous', 3: 'place', 4: 'price', 5: 'food', 6: 'staff'}"
   ],
   "outputs": [],
   "metadata": {}
  },
  {
   "cell_type": "code",
   "execution_count": 14,
   "source": [
    "review = '''Great restaurant, the food was great and I liked their non alcoholic drink option. It is on the pricey side but that’s expected and both indoor/outdoor seating is beautiful. The service was okay, I didn’t find my server to be very friendly but by no means was it a bad experience he just wasn’t talkative and was straight to the point which is okay. This is a great location and I’d definitely recommend to others for a special day/night out.'''"
   ],
   "outputs": [],
   "metadata": {}
  },
  {
   "cell_type": "code",
   "execution_count": 16,
   "source": [
    "split_review = re.split('[?.,;!]', review)\r\n",
    "split_review"
   ],
   "outputs": [
    {
     "output_type": "execute_result",
     "data": {
      "text/plain": [
       "['Great restaurant',\n",
       " ' the food was great and I liked their non alcoholic drink option',\n",
       " ' It is on the pricey side but that’s expected and both indoor/outdoor seating is beautiful',\n",
       " ' The service was okay',\n",
       " ' I didn’t find my server to be very friendly but by no means was it a bad experience he just wasn’t talkative and was straight to the point which is okay',\n",
       " ' This is a great location and I’d definitely recommend to others for a special day/night out',\n",
       " '']"
      ]
     },
     "metadata": {},
     "execution_count": 16
    }
   ],
   "metadata": {}
  },
  {
   "cell_type": "code",
   "execution_count": 36,
   "source": [
    "def lda_prediction(restaurant_review):\r\n",
    "    clean_sample = prepare_text_for_lda(restaurant_review)\r\n",
    "    sample_2bow = dictionary.doc2bow(clean_sample)\r\n",
    "\r\n",
    "    topics = lda_model.get_document_topics(sample_2bow)\r\n",
    "    topic_dict = {topic_map[x[0]]:x[-1] for x in topics}\r\n",
    "    top_topic = max(topic_dict.items(), key=lambda x:x[1])\r\n",
    "    return top_topic"
   ],
   "outputs": [],
   "metadata": {}
  },
  {
   "cell_type": "code",
   "execution_count": 37,
   "source": [
    "for phrase in split_review:\r\n",
    "    print(lda_prediction(phrase))"
   ],
   "outputs": [
    {
     "output_type": "stream",
     "name": "stdout",
     "text": [
      "('place', 0.38115704)\n",
      "('service', 0.45517653)\n",
      "('price', 0.3819581)\n",
      "('service', 0.6870697)\n",
      "('food', 0.3230243)\n",
      "('price', 0.33639187)\n",
      "('menu', 0.14285715)\n"
     ]
    }
   ],
   "metadata": {}
  },
  {
   "cell_type": "code",
   "execution_count": 39,
   "source": [
    "for phrase in split_review:\r\n",
    "    score = sid.polarity_scores(phrase)['compound']\r\n",
    "    sentiment = 'positive' if score > 0 else ('neutral' if score == 0 else 'negative')\r\n",
    "    print(score, sentiment)"
   ],
   "outputs": [
    {
     "output_type": "stream",
     "name": "stdout",
     "text": [
      "0.6249 positive\n",
      "0.7845 positive\n",
      "0.7469 positive\n",
      "0.2263 positive\n",
      "-0.3825 negative\n",
      "0.9001 positive\n",
      "0.0 neutral\n"
     ]
    }
   ],
   "metadata": {}
  },
  {
   "cell_type": "code",
   "execution_count": 45,
   "source": [
    "for phrase in split_review:\r\n",
    "    print(parse_targets(nlp, phrase))"
   ],
   "outputs": [
    {
     "output_type": "stream",
     "name": "stdout",
     "text": [
      "['restaurant']\n",
      "['food', 'option']\n",
      "['side', 'seating']\n",
      "['service']\n",
      "['server', 'means', 'point']\n",
      "['others', 'night']\n",
      "[]\n"
     ]
    }
   ],
   "metadata": {}
  },
  {
   "cell_type": "code",
   "execution_count": 42,
   "source": [
    "for phrase in split_review:\r\n",
    "    print(parse_adjectives(nlp, phrase))"
   ],
   "outputs": [
    {
     "output_type": "stream",
     "name": "stdout",
     "text": [
      "['Great']\n",
      "['great', 'non', 'alcoholic']\n",
      "['pricey', 'indoor', 'outdoor', 'beautiful']\n",
      "['okay']\n",
      "['very friendly', 'bad', 'talkative', 'straight', 'okay']\n",
      "['great', 'special']\n",
      "[]\n"
     ]
    }
   ],
   "metadata": {}
  },
  {
   "cell_type": "code",
   "execution_count": 53,
   "source": [
    "def pos_chunk_prediction(restaurant_review):\r\n",
    "    nlp = spacy.load(\"en_core_web_sm\")\r\n",
    "    outputs = []\r\n",
    "\r\n",
    "    phrases = re.split('[?.,;!]', restaurant_review)\r\n",
    "    phrases = [phrase for phrase in phrases if len(phrase) > 4]\r\n",
    "\r\n",
    "    for phrase in phrases:\r\n",
    "        output = {}\r\n",
    "        topic = lda_prediction(phrase)[0]\r\n",
    "        score = sid.polarity_scores(phrase)['compound']\r\n",
    "        sentiment = 'positive' if score > 0 else ('neutral' if score == 0 else 'negative')\r\n",
    "        subjects = parse_targets(nlp, phrase)\r\n",
    "        descriptors = parse_adjectives(nlp, phrase)\r\n",
    "        output.update({'phrase': phrase, 'topic': topic, 'sentiment': sentiment, 'subjects': subjects, 'descriptors': descriptors})\r\n",
    "        outputs.append(output)\r\n",
    "        \r\n",
    "    \r\n",
    "    df = pd.DataFrame(outputs)\r\n",
    "    return df\r\n",
    "        \r\n"
   ],
   "outputs": [],
   "metadata": {}
  },
  {
   "cell_type": "code",
   "execution_count": 54,
   "source": [
    "sample = '''I expected more. And maybe this is where Google reviews fall short. \r\n",
    "I wonder how many people have actually been to Spain and experienced real paella. \r\n",
    "This one was as decent as it could be but scallops were not juicy, the rice was quite dry, and seafood just not as fresh as you’d want. \r\n",
    "I appreciate the effort and the ambiance created at the restaurant. \r\n",
    "I can say good thing about the pimiento stuffed with beef cheeks — very tender and soft, as they should be. \r\n",
    "Then shrimps pil pil style definitely missed that strong garlic flavour and salt. \r\n",
    "Lovely service that made the stay very enjoyable'''"
   ],
   "outputs": [],
   "metadata": {}
  },
  {
   "cell_type": "code",
   "execution_count": 55,
   "source": [
    "pos_chunk_prediction(sample)"
   ],
   "outputs": [
    {
     "output_type": "execute_result",
     "data": {
      "text/html": [
       "<div>\n",
       "<style scoped>\n",
       "    .dataframe tbody tr th:only-of-type {\n",
       "        vertical-align: middle;\n",
       "    }\n",
       "\n",
       "    .dataframe tbody tr th {\n",
       "        vertical-align: top;\n",
       "    }\n",
       "\n",
       "    .dataframe thead th {\n",
       "        text-align: right;\n",
       "    }\n",
       "</style>\n",
       "<table border=\"1\" class=\"dataframe\">\n",
       "  <thead>\n",
       "    <tr style=\"text-align: right;\">\n",
       "      <th></th>\n",
       "      <th>phrase</th>\n",
       "      <th>topic</th>\n",
       "      <th>sentiment</th>\n",
       "      <th>subjects</th>\n",
       "      <th>descriptors</th>\n",
       "    </tr>\n",
       "  </thead>\n",
       "  <tbody>\n",
       "    <tr>\n",
       "      <th>0</th>\n",
       "      <td>I expected more</td>\n",
       "      <td>service</td>\n",
       "      <td>neutral</td>\n",
       "      <td>[]</td>\n",
       "      <td>[more]</td>\n",
       "    </tr>\n",
       "    <tr>\n",
       "      <th>1</th>\n",
       "      <td>And maybe this is where Google reviews fall s...</td>\n",
       "      <td>menu</td>\n",
       "      <td>neutral</td>\n",
       "      <td>[reviews]</td>\n",
       "      <td>[short]</td>\n",
       "    </tr>\n",
       "    <tr>\n",
       "      <th>2</th>\n",
       "      <td>\\nI wonder how many people have actually been...</td>\n",
       "      <td>staff</td>\n",
       "      <td>neutral</td>\n",
       "      <td>[people, Spain, paella]</td>\n",
       "      <td>[how many, real]</td>\n",
       "    </tr>\n",
       "    <tr>\n",
       "      <th>3</th>\n",
       "      <td>\\nThis one was as decent as it could be but s...</td>\n",
       "      <td>food</td>\n",
       "      <td>neutral</td>\n",
       "      <td>[one, scallops]</td>\n",
       "      <td>[as decent, juicy]</td>\n",
       "    </tr>\n",
       "    <tr>\n",
       "      <th>4</th>\n",
       "      <td>the rice was quite dry</td>\n",
       "      <td>staff</td>\n",
       "      <td>neutral</td>\n",
       "      <td>[rice]</td>\n",
       "      <td>[quite dry]</td>\n",
       "    </tr>\n",
       "    <tr>\n",
       "      <th>5</th>\n",
       "      <td>and seafood just not as fresh as you’d want</td>\n",
       "      <td>food</td>\n",
       "      <td>negative</td>\n",
       "      <td>[]</td>\n",
       "      <td>[just as fresh]</td>\n",
       "    </tr>\n",
       "    <tr>\n",
       "      <th>6</th>\n",
       "      <td>\\nI appreciate the effort and the ambiance cr...</td>\n",
       "      <td>food</td>\n",
       "      <td>positive</td>\n",
       "      <td>[effort, restaurant]</td>\n",
       "      <td>[]</td>\n",
       "    </tr>\n",
       "    <tr>\n",
       "      <th>7</th>\n",
       "      <td>\\nI can say good thing about the pimiento stu...</td>\n",
       "      <td>menu</td>\n",
       "      <td>positive</td>\n",
       "      <td>[thing, pimiento, cheeks]</td>\n",
       "      <td>[good, very tender, soft]</td>\n",
       "    </tr>\n",
       "    <tr>\n",
       "      <th>8</th>\n",
       "      <td>as they should be</td>\n",
       "      <td>menu</td>\n",
       "      <td>neutral</td>\n",
       "      <td>[]</td>\n",
       "      <td>[]</td>\n",
       "    </tr>\n",
       "    <tr>\n",
       "      <th>9</th>\n",
       "      <td>\\nThen shrimps pil pil style definitely misse...</td>\n",
       "      <td>service</td>\n",
       "      <td>positive</td>\n",
       "      <td>[style, flavour]</td>\n",
       "      <td>[strong, garlic]</td>\n",
       "    </tr>\n",
       "    <tr>\n",
       "      <th>10</th>\n",
       "      <td>\\nLovely service that made the stay very enjo...</td>\n",
       "      <td>service</td>\n",
       "      <td>positive</td>\n",
       "      <td>[service, stay]</td>\n",
       "      <td>[Lovely, very enjoyable]</td>\n",
       "    </tr>\n",
       "  </tbody>\n",
       "</table>\n",
       "</div>"
      ],
      "text/plain": [
       "                                               phrase    topic sentiment  \\\n",
       "0                                     I expected more  service   neutral   \n",
       "1    And maybe this is where Google reviews fall s...     menu   neutral   \n",
       "2    \\nI wonder how many people have actually been...    staff   neutral   \n",
       "3    \\nThis one was as decent as it could be but s...     food   neutral   \n",
       "4                              the rice was quite dry    staff   neutral   \n",
       "5         and seafood just not as fresh as you’d want     food  negative   \n",
       "6    \\nI appreciate the effort and the ambiance cr...     food  positive   \n",
       "7    \\nI can say good thing about the pimiento stu...     menu  positive   \n",
       "8                                   as they should be     menu   neutral   \n",
       "9    \\nThen shrimps pil pil style definitely misse...  service  positive   \n",
       "10   \\nLovely service that made the stay very enjo...  service  positive   \n",
       "\n",
       "                     subjects                descriptors  \n",
       "0                          []                     [more]  \n",
       "1                   [reviews]                    [short]  \n",
       "2     [people, Spain, paella]           [how many, real]  \n",
       "3             [one, scallops]         [as decent, juicy]  \n",
       "4                      [rice]                [quite dry]  \n",
       "5                          []            [just as fresh]  \n",
       "6        [effort, restaurant]                         []  \n",
       "7   [thing, pimiento, cheeks]  [good, very tender, soft]  \n",
       "8                          []                         []  \n",
       "9            [style, flavour]           [strong, garlic]  \n",
       "10            [service, stay]   [Lovely, very enjoyable]  "
      ]
     },
     "metadata": {},
     "execution_count": 55
    }
   ],
   "metadata": {}
  },
  {
   "cell_type": "code",
   "execution_count": 30,
   "source": [
    "iface = gr.Interface(fn=pos_prediction, \r\n",
    "                    inputs=gr.inputs.Textbox(lines=2, placeholder='Enter restaurant review here...'),\r\n",
    "                    outputs=gr.outputs.Dataframe(headers=['Aspect','Adjective', 'Topic', 'Polarity']),\r\n",
    "                    examples=[\r\n",
    "                        ['The restaurant is too dark, and the bathroom was not clean. Also, everyone there is rude.'],\r\n",
    "                        ['Fabulous dinner & environment but the older waiters have a real sense of entitlement.'],\r\n",
    "                        ['Entrees were way too expensive.'],\r\n",
    "                        ['The dinner was great, and the waiter was super friendly.']\r\n",
    "                    ])\r\n",
    "iface.launch(share=True)"
   ],
   "outputs": [
    {
     "output_type": "stream",
     "name": "stdout",
     "text": [
      "Running locally at: http://127.0.0.1:7861/\n",
      "This share link will expire in 72 hours. If you need a permanent link, visit: https://gradio.app/introducing-hosted\n",
      "Running on External URL: https://58123.gradio.app\n",
      "Interface loading below...\n"
     ]
    },
    {
     "output_type": "display_data",
     "data": {
      "text/html": [
       "\n",
       "        <iframe\n",
       "            width=\"900\"\n",
       "            height=\"500\"\n",
       "            src=\"https://58123.gradio.app\"\n",
       "            frameborder=\"0\"\n",
       "            allowfullscreen\n",
       "        ></iframe>\n",
       "        "
      ],
      "text/plain": [
       "<IPython.lib.display.IFrame at 0x1e7209e4a90>"
      ]
     },
     "metadata": {}
    },
    {
     "output_type": "execute_result",
     "data": {
      "text/plain": [
       "(<Flask 'gradio.networking'>,\n",
       " 'http://127.0.0.1:7861/',\n",
       " 'https://58123.gradio.app')"
      ]
     },
     "metadata": {},
     "execution_count": 30
    },
    {
     "output_type": "stream",
     "name": "stderr",
     "text": [
      "[2021-10-06 21:59:26,341] ERROR in app: Exception on /api/predict/ [POST]\n",
      "Traceback (most recent call last):\n",
      "  File \"<ipython-input-28-2b8dce64a55e>\", line 24, in pos_prediction\n",
      "    topic = get_topic_from_word(prepare_text_for_lda(targets[i])[0], lda_model, topic_map)\n",
      "IndexError: list index out of range\n",
      "\n",
      "During handling of the above exception, another exception occurred:\n",
      "\n",
      "Traceback (most recent call last):\n",
      "  File \"C:\\ProgramData\\Anaconda3\\envs\\nlpenv\\lib\\site-packages\\flask\\app.py\", line 2447, in wsgi_app\n",
      "    response = self.full_dispatch_request()\n",
      "  File \"C:\\ProgramData\\Anaconda3\\envs\\nlpenv\\lib\\site-packages\\flask\\app.py\", line 1952, in full_dispatch_request\n",
      "    rv = self.handle_user_exception(e)\n",
      "  File \"C:\\ProgramData\\Anaconda3\\envs\\nlpenv\\lib\\site-packages\\flask_cors\\extension.py\", line 165, in wrapped_function\n",
      "    return cors_after_request(app.make_response(f(*args, **kwargs)))\n",
      "  File \"C:\\ProgramData\\Anaconda3\\envs\\nlpenv\\lib\\site-packages\\flask\\app.py\", line 1821, in handle_user_exception\n",
      "    reraise(exc_type, exc_value, tb)\n",
      "  File \"C:\\ProgramData\\Anaconda3\\envs\\nlpenv\\lib\\site-packages\\flask\\_compat.py\", line 39, in reraise\n",
      "    raise value\n",
      "  File \"C:\\ProgramData\\Anaconda3\\envs\\nlpenv\\lib\\site-packages\\flask\\app.py\", line 1950, in full_dispatch_request\n",
      "    rv = self.dispatch_request()\n",
      "  File \"C:\\ProgramData\\Anaconda3\\envs\\nlpenv\\lib\\site-packages\\flask\\app.py\", line 1936, in dispatch_request\n",
      "    return self.view_functions[rule.endpoint](**req.view_args)\n",
      "  File \"C:\\ProgramData\\Anaconda3\\envs\\nlpenv\\lib\\site-packages\\gradio\\networking.py\", line 90, in wrapper\n",
      "    return func(*args, **kwargs)\n",
      "  File \"C:\\ProgramData\\Anaconda3\\envs\\nlpenv\\lib\\site-packages\\gradio\\networking.py\", line 180, in predict\n",
      "    prediction, durations = app.interface.process(raw_input)\n",
      "  File \"C:\\ProgramData\\Anaconda3\\envs\\nlpenv\\lib\\site-packages\\gradio\\interface.py\", line 334, in process\n",
      "    predictions, durations = self.run_prediction(processed_input, return_duration=True)\n",
      "  File \"C:\\ProgramData\\Anaconda3\\envs\\nlpenv\\lib\\site-packages\\gradio\\interface.py\", line 307, in run_prediction\n",
      "    prediction = predict_fn(*processed_input)\n",
      "  File \"<ipython-input-28-2b8dce64a55e>\", line 29, in pos_prediction\n",
      "    topic = get_topic_from_word(prepare_text_for_lda(targets[i])[0], lda_model, topic_map)\n",
      "IndexError: list index out of range\n",
      "Socket exception: An existing connection was forcibly closed by the remote host (10054)\n",
      "Socket exception: An existing connection was forcibly closed by the remote host (10054)\n"
     ]
    }
   ],
   "metadata": {}
  },
  {
   "cell_type": "code",
   "execution_count": null,
   "source": [
    "['topic', 'meta', 'polarity']\r\n",
    "\r\n",
    "#group by topics, meta: ['delicious-beautiful', 'experience-outstanding']\r\n",
    "#hide rows that are None\r\n"
   ],
   "outputs": [],
   "metadata": {}
  },
  {
   "cell_type": "markdown",
   "source": [
    "TODO:\r\n",
    "- split sentence by punctuation\r\n",
    "- filter by length\r\n",
    "- run each phrase through LDA\r\n",
    "- sentiment analysis on each phrase\r\n",
    "- POS tags for extra info\r\n",
    "- post-processing: do we combine like topics? etc"
   ],
   "metadata": {}
  },
  {
   "cell_type": "markdown",
   "source": [],
   "metadata": {}
  }
 ],
 "metadata": {
  "orig_nbformat": 4,
  "language_info": {
   "name": "python",
   "version": "3.8.3",
   "mimetype": "text/x-python",
   "codemirror_mode": {
    "name": "ipython",
    "version": 3
   },
   "pygments_lexer": "ipython3",
   "nbconvert_exporter": "python",
   "file_extension": ".py"
  },
  "kernelspec": {
   "name": "python3",
   "display_name": "Python 3.8.3 64-bit ('nlpenv': conda)"
  },
  "interpreter": {
   "hash": "3f4643a5fc191cfdc6db820312c1a6d5dbd54c07017a1c478aebe45165635478"
  }
 },
 "nbformat": 4,
 "nbformat_minor": 2
}