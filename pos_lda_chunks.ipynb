{
 "cells": [
  {
   "cell_type": "markdown",
   "source": [
    "## Aim of this notebook:\r\n",
    "\r\n",
    "- split sentence by punctuation\r\n",
    "- filter by length\r\n",
    "- run each phrase through LDA\r\n",
    "- sentiment analysis on each phrase\r\n",
    "- POS tags for extra info\r\n",
    "- post-processing: do we combine like topics? etc"
   ],
   "metadata": {}
  },
  {
   "cell_type": "code",
   "execution_count": 3,
   "source": [
    "import pandas as pd\r\n",
    "import numpy as np\r\n",
    "import gradio as gr\r\n",
    "import nltk\r\n",
    "import spacy\r\n",
    "import pickle\r\n",
    "import re\r\n",
    "from gensim.models.ldamodel import LdaModel\r\n",
    "from gensim import corpora\r\n",
    "from nltk.sentiment.vader import SentimentIntensityAnalyzer\r\n",
    "\r\n",
    "nlp = spacy.load(\"en_core_web_sm\")\r\n",
    "nltk.download('vader_lexicon')"
   ],
   "outputs": [
    {
     "output_type": "stream",
     "name": "stderr",
     "text": [
      "[nltk_data] Downloading package vader_lexicon to\n",
      "[nltk_data]     C:\\Users\\Evan\\AppData\\Roaming\\nltk_data...\n",
      "[nltk_data]   Package vader_lexicon is already up-to-date!\n"
     ]
    },
    {
     "output_type": "execute_result",
     "data": {
      "text/plain": [
       "True"
      ]
     },
     "metadata": {},
     "execution_count": 3
    }
   ],
   "metadata": {}
  },
  {
   "cell_type": "code",
   "execution_count": 4,
   "source": [
    "from absa_functions import *"
   ],
   "outputs": [],
   "metadata": {}
  },
  {
   "cell_type": "code",
   "execution_count": 5,
   "source": [
    "def parse_targets(nlp, review):\r\n",
    "    doc = nlp(review)\r\n",
    "    targets = []\r\n",
    "    target = ''\r\n",
    "\r\n",
    "    for token in doc:\r\n",
    "        if (token.dep_ in ['nsubj','dobj', 'pobj', 'ROOT']) and (token.pos_ in ['NOUN', 'PROPN']):\r\n",
    "            target = token.text\r\n",
    "            targets.append(target)\r\n",
    "\r\n",
    "    return targets"
   ],
   "outputs": [],
   "metadata": {}
  },
  {
   "cell_type": "code",
   "execution_count": 6,
   "source": [
    "def parse_adjectives(nlp, review):\r\n",
    "    doc = nlp(review)\r\n",
    "    adjectives = []\r\n",
    "    adjective = ''\r\n",
    "\r\n",
    "    for token in doc:\r\n",
    "        if token.pos_ == 'ADJ':\r\n",
    "            prepend = ''\r\n",
    "            for child in token.children:\r\n",
    "                if child.pos_ != 'ADV':\r\n",
    "                    continue\r\n",
    "                prepend += child.text + ' '\r\n",
    "            adjective = prepend + token.text\r\n",
    "            adjectives.append(adjective)\r\n",
    "\r\n",
    "    return adjectives"
   ],
   "outputs": [],
   "metadata": {}
  },
  {
   "cell_type": "code",
   "execution_count": 7,
   "source": [
    "def get_topic_from_word(word, lda_model, topic_map):\r\n",
    "    try:\r\n",
    "        topics_raw = lda_model.get_term_topics(word, minimum_probability=0.0000001)\r\n",
    "        topic_dict = {topic_map[tup[0]]: tup[1] for tup in topics_raw}\r\n",
    "        best_topic = max(topic_dict, key=topic_dict.get)\r\n",
    "    except:\r\n",
    "        best_topic = 'miscellaneous'\r\n",
    "\r\n",
    "    return best_topic"
   ],
   "outputs": [],
   "metadata": {}
  },
  {
   "cell_type": "code",
   "execution_count": 8,
   "source": [
    "corpus = pickle.load(open('corpus.pkl', 'rb'))\r\n",
    "dictionary = corpora.Dictionary.load('dictionary.gensim')\r\n",
    "lda_model = LdaModel.load('best_lda_model.gensim')"
   ],
   "outputs": [],
   "metadata": {}
  },
  {
   "cell_type": "code",
   "execution_count": 9,
   "source": [
    "sid = SentimentIntensityAnalyzer()"
   ],
   "outputs": [],
   "metadata": {}
  },
  {
   "cell_type": "code",
   "execution_count": 10,
   "source": [
    "#numerical mapping for topics in LDA model\r\n",
    "topic_map = {0: 'menu', 1: 'service', 2: 'miscellaneous', 3: 'place', 4: 'price', 5: 'food', 6: 'staff'}"
   ],
   "outputs": [],
   "metadata": {}
  },
  {
   "cell_type": "code",
   "execution_count": 11,
   "source": [
    "review = '''Great restaurant, the food was great and I liked their non alcoholic drink option. It is on the pricey side but that’s expected and both indoor/outdoor seating is beautiful. The service was okay, I didn’t find my server to be very friendly but by no means was it a bad experience he just wasn’t talkative and was straight to the point which is okay. This is a great location and I’d definitely recommend to others for a special day/night out.'''"
   ],
   "outputs": [],
   "metadata": {}
  },
  {
   "cell_type": "code",
   "execution_count": 12,
   "source": [
    "split_review = re.split('[?.,;!]', review)\r\n",
    "split_review"
   ],
   "outputs": [
    {
     "output_type": "execute_result",
     "data": {
      "text/plain": [
       "['Great restaurant',\n",
       " ' the food was great and I liked their non alcoholic drink option',\n",
       " ' It is on the pricey side but that’s expected and both indoor/outdoor seating is beautiful',\n",
       " ' The service was okay',\n",
       " ' I didn’t find my server to be very friendly but by no means was it a bad experience he just wasn’t talkative and was straight to the point which is okay',\n",
       " ' This is a great location and I’d definitely recommend to others for a special day/night out',\n",
       " '']"
      ]
     },
     "metadata": {},
     "execution_count": 12
    }
   ],
   "metadata": {}
  },
  {
   "cell_type": "code",
   "execution_count": 13,
   "source": [
    "def lda_prediction(restaurant_review):\r\n",
    "    clean_sample = prepare_text_for_lda(restaurant_review)\r\n",
    "    sample_2bow = dictionary.doc2bow(clean_sample)\r\n",
    "\r\n",
    "    topics = lda_model.get_document_topics(sample_2bow)\r\n",
    "    topic_dict = {topic_map[x[0]]:x[-1] for x in topics}\r\n",
    "    top_topic = max(topic_dict.items(), key=lambda x:x[1])\r\n",
    "    return top_topic"
   ],
   "outputs": [],
   "metadata": {}
  },
  {
   "cell_type": "code",
   "execution_count": 14,
   "source": [
    "for phrase in split_review:\r\n",
    "    print(lda_prediction(phrase))"
   ],
   "outputs": [
    {
     "output_type": "stream",
     "name": "stdout",
     "text": [
      "('place', 0.3811573)\n",
      "('service', 0.45506796)\n",
      "('price', 0.38191462)\n",
      "('service', 0.6870692)\n",
      "('food', 0.32325694)\n",
      "('price', 0.3363734)\n",
      "('menu', 0.14285715)\n"
     ]
    }
   ],
   "metadata": {}
  },
  {
   "cell_type": "code",
   "execution_count": 15,
   "source": [
    "for phrase in split_review:\r\n",
    "    score = sid.polarity_scores(phrase)['compound']\r\n",
    "    sentiment = 'positive' if score > 0 else ('neutral' if score == 0 else 'negative')\r\n",
    "    print(score, sentiment)"
   ],
   "outputs": [
    {
     "output_type": "stream",
     "name": "stdout",
     "text": [
      "0.6249 positive\n",
      "0.7845 positive\n",
      "0.7469 positive\n",
      "0.2263 positive\n",
      "-0.3825 negative\n",
      "0.9001 positive\n",
      "0.0 neutral\n"
     ]
    }
   ],
   "metadata": {}
  },
  {
   "cell_type": "code",
   "execution_count": 16,
   "source": [
    "for phrase in split_review:\r\n",
    "    print(parse_targets(nlp, phrase))"
   ],
   "outputs": [
    {
     "output_type": "stream",
     "name": "stdout",
     "text": [
      "['restaurant']\n",
      "['food', 'option']\n",
      "['side', 'seating']\n",
      "['service']\n",
      "['server', 'means', 'point']\n",
      "['others', 'night']\n",
      "[]\n"
     ]
    }
   ],
   "metadata": {}
  },
  {
   "cell_type": "code",
   "execution_count": 17,
   "source": [
    "for phrase in split_review:\r\n",
    "    print(parse_adjectives(nlp, phrase))"
   ],
   "outputs": [
    {
     "output_type": "stream",
     "name": "stdout",
     "text": [
      "['Great']\n",
      "['great', 'non', 'alcoholic']\n",
      "['pricey', 'indoor', 'outdoor', 'beautiful']\n",
      "['okay']\n",
      "['very friendly', 'bad', 'talkative', 'straight', 'okay']\n",
      "['great', 'special']\n",
      "[]\n"
     ]
    }
   ],
   "metadata": {}
  },
  {
   "cell_type": "code",
   "execution_count": 18,
   "source": [
    "def pos_chunk_prediction(restaurant_review):\r\n",
    "    nlp = spacy.load(\"en_core_web_sm\")\r\n",
    "    outputs = []\r\n",
    "\r\n",
    "    phrases = re.split('[?.,;!]', restaurant_review)\r\n",
    "    phrases = [phrase for phrase in phrases if len(phrase) > 4]\r\n",
    "\r\n",
    "    for phrase in phrases:\r\n",
    "        output = {}\r\n",
    "        topic = lda_prediction(phrase)[0]\r\n",
    "        score = sid.polarity_scores(phrase)['compound']\r\n",
    "        sentiment = 'positive' if score > 0 else ('neutral' if score == 0 else 'negative')\r\n",
    "        subjects = parse_targets(nlp, phrase)\r\n",
    "        descriptors = parse_adjectives(nlp, phrase)\r\n",
    "        output.update({'phrase': phrase, 'topic': topic, 'sentiment': sentiment, 'subjects': subjects, 'descriptors': descriptors})\r\n",
    "        outputs.append(output)\r\n",
    "        \r\n",
    "    \r\n",
    "    df = pd.DataFrame(outputs)\r\n",
    "    return df\r\n",
    "        \r\n"
   ],
   "outputs": [],
   "metadata": {}
  },
  {
   "cell_type": "code",
   "execution_count": 19,
   "source": [
    "sample = '''Increased amounts of kimchi in your diet leads to increased abundance of Lactobacillus in your gut.'''"
   ],
   "outputs": [],
   "metadata": {}
  },
  {
   "cell_type": "code",
   "execution_count": 20,
   "source": [
    "pos_chunk_prediction(sample)"
   ],
   "outputs": [
    {
     "output_type": "execute_result",
     "data": {
      "text/html": [
       "<div>\n",
       "<style scoped>\n",
       "    .dataframe tbody tr th:only-of-type {\n",
       "        vertical-align: middle;\n",
       "    }\n",
       "\n",
       "    .dataframe tbody tr th {\n",
       "        vertical-align: top;\n",
       "    }\n",
       "\n",
       "    .dataframe thead th {\n",
       "        text-align: right;\n",
       "    }\n",
       "</style>\n",
       "<table border=\"1\" class=\"dataframe\">\n",
       "  <thead>\n",
       "    <tr style=\"text-align: right;\">\n",
       "      <th></th>\n",
       "      <th>phrase</th>\n",
       "      <th>topic</th>\n",
       "      <th>sentiment</th>\n",
       "      <th>subjects</th>\n",
       "      <th>descriptors</th>\n",
       "    </tr>\n",
       "  </thead>\n",
       "  <tbody>\n",
       "    <tr>\n",
       "      <th>0</th>\n",
       "      <td>Increased amounts of kimchi in your diet leads...</td>\n",
       "      <td>menu</td>\n",
       "      <td>positive</td>\n",
       "      <td>[amounts, kimchi, diet, abundance, Lactobacill...</td>\n",
       "      <td>[]</td>\n",
       "    </tr>\n",
       "  </tbody>\n",
       "</table>\n",
       "</div>"
      ],
      "text/plain": [
       "                                              phrase topic sentiment  \\\n",
       "0  Increased amounts of kimchi in your diet leads...  menu  positive   \n",
       "\n",
       "                                            subjects descriptors  \n",
       "0  [amounts, kimchi, diet, abundance, Lactobacill...          []  "
      ]
     },
     "metadata": {},
     "execution_count": 20
    }
   ],
   "metadata": {}
  },
  {
   "cell_type": "markdown",
   "source": [],
   "metadata": {}
  }
 ],
 "metadata": {
  "orig_nbformat": 4,
  "language_info": {
   "name": "python",
   "version": "3.8.3",
   "mimetype": "text/x-python",
   "codemirror_mode": {
    "name": "ipython",
    "version": 3
   },
   "pygments_lexer": "ipython3",
   "nbconvert_exporter": "python",
   "file_extension": ".py"
  },
  "kernelspec": {
   "name": "python3",
   "display_name": "Python 3.8.3 64-bit ('nlpenv': conda)"
  },
  "interpreter": {
   "hash": "3f4643a5fc191cfdc6db820312c1a6d5dbd54c07017a1c478aebe45165635478"
  }
 },
 "nbformat": 4,
 "nbformat_minor": 2
}