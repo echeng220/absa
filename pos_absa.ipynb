{
 "cells": [
  {
   "cell_type": "code",
   "execution_count": 171,
   "source": [
    "import pandas as pd\r\n",
    "import spacy\r\n",
    "import pickle\r\n",
    "from gensim.models.ldamodel import LdaModel\r\n",
    "from gensim import corpora\r\n",
    "\r\n",
    "nlp = spacy.load(\"en_core_web_sm\")\r\n",
    "\r\n",
    "from absa_functions import *"
   ],
   "outputs": [],
   "metadata": {}
  },
  {
   "cell_type": "code",
   "execution_count": 2,
   "source": [
    "train_path = 'train.xml'\r\n",
    "corpus_df, categories = create_corpus(train_path)"
   ],
   "outputs": [],
   "metadata": {}
  },
  {
   "cell_type": "code",
   "execution_count": 3,
   "source": [
    "reviews = corpus_df.text.to_list()\r\n",
    "reviews[:5]"
   ],
   "outputs": [
    {
     "output_type": "execute_result",
     "data": {
      "text/plain": [
       "[\"It might be the best sit down food I've had in the area, so if you are going to the upright citizen brigade, or the garden, it could be just the place for you.\",\n",
       " 'Hostess was extremely accommodating when we arrived an hour early for our reservation.',\n",
       " \"We were a couple of minutes late for our reservation and minus one guest, but we didn't think we deserved the attitude we got from the hostess.\",\n",
       " 'Though the service might be a little slow, the waitresses are very friendly.',\n",
       " 'Although we arrived at the restaurant 10 min late, the hostess did not have a table for us.']"
      ]
     },
     "metadata": {},
     "execution_count": 3
    }
   ],
   "metadata": {}
  },
  {
   "cell_type": "code",
   "execution_count": 108,
   "source": [
    "#get syntactic dependecy relation, syntactic parent, coarse-grained part-of-speech tag for each token\r\n",
    "count = 0\r\n",
    "for review in reviews[:3]:\r\n",
    "  count = 0\r\n",
    "  doc = nlp(review)\r\n",
    "  for token in doc:\r\n",
    "    count += 1\r\n",
    "    if count <= 10:\r\n",
    "      print(token.text, token.dep_, token.head.text, token.head.pos_, token.pos_,[child for child in token.children])"
   ],
   "outputs": [
    {
     "output_type": "stream",
     "name": "stdout",
     "text": [
      "It nsubj be VERB PRON []\n",
      "might aux be VERB AUX []\n",
      "be ROOT be VERB VERB [It, might, sit, ,, so, be]\n",
      "the det best ADJ DET []\n",
      "best nsubj sit VERB ADJ [the]\n",
      "sit dep be VERB VERB [best, down, food]\n",
      "down prt sit VERB ADP []\n",
      "food dobj sit VERB NOUN [had]\n",
      "I nsubj had VERB PRON []\n",
      "'ve aux had VERB AUX []\n",
      "Hostess nsubj accommodating VERB PROPN []\n",
      "was aux accommodating VERB AUX []\n",
      "extremely advmod accommodating VERB ADV []\n",
      "accommodating ROOT accommodating VERB VERB [Hostess, was, extremely, arrived, .]\n",
      "when advmod arrived VERB ADV []\n",
      "we nsubj arrived VERB PRON []\n",
      "arrived advcl accommodating VERB VERB [when, we, early]\n",
      "an det hour NOUN DET []\n",
      "hour npadvmod early ADV NOUN [an]\n",
      "early advmod arrived VERB ADV [hour, for]\n",
      "We nsubj were AUX PRON []\n",
      "were ROOT were AUX AUX [We, couple, late, ,, but, think]\n",
      "a det couple NOUN DET []\n",
      "couple attr were AUX NOUN [a, of]\n",
      "of prep couple NOUN ADP [minutes]\n",
      "minutes pobj of ADP NOUN []\n",
      "late advmod were AUX ADV [for]\n",
      "for prep late ADV ADP [reservation]\n",
      "our poss reservation NOUN PRON []\n",
      "reservation pobj for ADP NOUN [our, and, guest]\n"
     ]
    }
   ],
   "metadata": {}
  },
  {
   "cell_type": "code",
   "execution_count": 6,
   "source": [
    "#parse sentences for adjectives using POS tags\r\n",
    "count = 0\r\n",
    "for review in reviews:\r\n",
    "    count += 1\r\n",
    "    if count < 5:\r\n",
    "        doc = nlp(review)\r\n",
    "        adjectives = []\r\n",
    "        for token in doc:\r\n",
    "            if token.pos_ == 'ADJ':\r\n",
    "                adjectives.append(token)\r\n",
    "        print(review)\r\n",
    "        print(adjectives)"
   ],
   "outputs": [
    {
     "output_type": "stream",
     "name": "stdout",
     "text": [
      "It might be the best sit down food I've had in the area, so if you are going to the upright citizen brigade, or the garden, it could be just the place for you.\n",
      "[best, upright]\n",
      "Hostess was extremely accommodating when we arrived an hour early for our reservation.\n",
      "[]\n",
      "We were a couple of minutes late for our reservation and minus one guest, but we didn't think we deserved the attitude we got from the hostess.\n",
      "[]\n",
      "Though the service might be a little slow, the waitresses are very friendly.\n",
      "[little, slow, friendly]\n"
     ]
    }
   ],
   "metadata": {}
  },
  {
   "cell_type": "code",
   "execution_count": 7,
   "source": [
    "#parse sentences for adverbs & adjectives using POS tags\r\n",
    "count = 0\r\n",
    "for review in reviews:\r\n",
    "  count += 1\r\n",
    "  if count <= 5:\r\n",
    "    doc = nlp(review)\r\n",
    "    adjectives = []\r\n",
    "    for token in doc:\r\n",
    "      if token.pos_ == 'ADJ':\r\n",
    "        prepend = ''\r\n",
    "        for child in token.children:\r\n",
    "          if child.pos_ != 'ADV':\r\n",
    "            continue\r\n",
    "          prepend += child.text + ' '\r\n",
    "        adjectives.append(prepend + token.text)\r\n",
    "    print(review)\r\n",
    "    print(adjectives)"
   ],
   "outputs": [
    {
     "output_type": "stream",
     "name": "stdout",
     "text": [
      "It might be the best sit down food I've had in the area, so if you are going to the upright citizen brigade, or the garden, it could be just the place for you.\n",
      "['best', 'upright']\n",
      "Hostess was extremely accommodating when we arrived an hour early for our reservation.\n",
      "[]\n",
      "We were a couple of minutes late for our reservation and minus one guest, but we didn't think we deserved the attitude we got from the hostess.\n",
      "[]\n",
      "Though the service might be a little slow, the waitresses are very friendly.\n",
      "['little', 'slow', 'very friendly']\n",
      "Although we arrived at the restaurant 10 min late, the hostess did not have a table for us.\n",
      "[]\n"
     ]
    }
   ],
   "metadata": {}
  },
  {
   "cell_type": "code",
   "execution_count": 10,
   "source": [
    "#check for subject nouns, assign to nearest adverbs & adjectives\r\n",
    "count = 0\r\n",
    "aspects = []\r\n",
    "for review in reviews:\r\n",
    "    count += 1\r\n",
    "    if count <= 5:\r\n",
    "        doc = nlp(review)\r\n",
    "        descriptive_term = ''\r\n",
    "        target = ''\r\n",
    "        for token in doc:\r\n",
    "            if (token.dep_ == 'nsubj' or token.dep_ == 'dobj') and token.pos_ == 'NOUN':\r\n",
    "                target = token.text\r\n",
    "            if token.pos_ == 'ADJ':\r\n",
    "                prepend = ''\r\n",
    "                for child in token.children:\r\n",
    "                    if child.pos_ != 'ADV':\r\n",
    "                        continue\r\n",
    "                    prepend += child.text + ' '\r\n",
    "                descriptive_term = prepend + token.text\r\n",
    "        if target != '' and descriptive_term != '':\r\n",
    "            aspects.append({'aspect': target,'description': descriptive_term})\r\n",
    "print(aspects)"
   ],
   "outputs": [
    {
     "output_type": "stream",
     "name": "stdout",
     "text": [
      "[{'aspect': 'food', 'description': 'upright'}, {'aspect': 'waitresses', 'description': 'very friendly'}]\n"
     ]
    }
   ],
   "metadata": {}
  },
  {
   "cell_type": "code",
   "execution_count": null,
   "source": [
    "#check for subject nouns, assign to nearest adverbs & adjectives\r\n",
    "count = 0\r\n",
    "aspects = []\r\n",
    "adjectives = []\r\n",
    "targets = []\r\n",
    "for review in reviews[:5]:\r\n",
    "    doc = nlp(review)\r\n",
    "    target = ''\r\n",
    "    adjective = ''\r\n",
    "    for token in doc:\r\n",
    "        if (token.dep_ == 'nsubj' or token.dep_ == 'dobj') and token.pos_ == 'NOUN':\r\n",
    "            target = token.text\r\n",
    "            targets.append(target)\r\n",
    "        if token.pos_ == 'ADJ':\r\n",
    "            prepend = ''\r\n",
    "            for child in token.children:\r\n",
    "                if child.pos_ != 'ADV':\r\n",
    "                    continue\r\n",
    "                prepend += child.text + ' '\r\n",
    "            adjective = prepend + token.text\r\n",
    "            adjectives.append(adjective)\r\n",
    "        if target != '' and adjective != '':\r\n",
    "            aspects.append({'aspect': target,'description': adjective})\r\n",
    "print(aspects)"
   ],
   "outputs": [],
   "metadata": {}
  },
  {
   "cell_type": "code",
   "execution_count": 29,
   "source": [
    "targets, adjectives"
   ],
   "outputs": [
    {
     "output_type": "execute_result",
     "data": {
      "text/plain": [
       "(['food', 'attitude', 'service', 'waitresses', 'hostess', 'table'],\n",
       " ['best', 'upright', 'little', 'slow', 'very friendly'])"
      ]
     },
     "metadata": {},
     "execution_count": 29
    }
   ],
   "metadata": {}
  },
  {
   "cell_type": "code",
   "execution_count": 157,
   "source": [
    "def parse_targets(nlp, review):\r\n",
    "    doc = nlp(review)\r\n",
    "    targets = []\r\n",
    "    target = ''\r\n",
    "\r\n",
    "    for token in doc:\r\n",
    "        if (token.dep_ in ['nsubj','dobj']) and (token.pos_ =='NOUN' or token.pos_ == 'PROPN'):\r\n",
    "            target = token.text\r\n",
    "            targets.append(target)\r\n",
    "\r\n",
    "    return targets"
   ],
   "outputs": [],
   "metadata": {}
  },
  {
   "cell_type": "code",
   "execution_count": 158,
   "source": [
    "def parse_adjectives(nlp, review):\r\n",
    "    doc = nlp(review)\r\n",
    "    adjectives = []\r\n",
    "    adjective = ''\r\n",
    "\r\n",
    "    for token in doc:\r\n",
    "        if token.pos_ == 'ADJ' and token.dep_ != 'amod':\r\n",
    "            prepend = ''\r\n",
    "            for child in token.children:\r\n",
    "                if child.pos_ != 'ADV':\r\n",
    "                    continue\r\n",
    "                prepend += child.text + ' '\r\n",
    "            adjective = prepend + token.text\r\n",
    "            adjectives.append(adjective)\r\n",
    "\r\n",
    "    return adjectives"
   ],
   "outputs": [],
   "metadata": {}
  },
  {
   "cell_type": "code",
   "execution_count": 153,
   "source": [
    "reviews[1]"
   ],
   "outputs": [
    {
     "output_type": "execute_result",
     "data": {
      "text/plain": [
       "'Hostess was extremely accommodating when we arrived an hour early for our reservation.'"
      ]
     },
     "metadata": {},
     "execution_count": 153
    }
   ],
   "metadata": {}
  },
  {
   "cell_type": "code",
   "execution_count": 162,
   "source": [
    "parse_adjectives(nlp, reviews[2])"
   ],
   "outputs": [
    {
     "output_type": "execute_result",
     "data": {
      "text/plain": [
       "[]"
      ]
     },
     "metadata": {},
     "execution_count": 162
    }
   ],
   "metadata": {}
  },
  {
   "cell_type": "code",
   "execution_count": 101,
   "source": [
    "corpus_df.columns"
   ],
   "outputs": [
    {
     "output_type": "execute_result",
     "data": {
      "text/plain": [
       "Index(['text', 'sentiment', 'food', 'place', 'staff', 'miscellaneous',\n",
       "       'service', 'price', 'menu', 'ambience'],\n",
       "      dtype='object')"
      ]
     },
     "metadata": {},
     "execution_count": 101
    }
   ],
   "metadata": {}
  },
  {
   "cell_type": "code",
   "execution_count": 165,
   "source": [
    "corpus_df['aspects'] = corpus_df['text'].apply(lambda x: parse_targets(nlp, x))\r\n",
    "corpus_df['descriptions'] = corpus_df['text'].apply(lambda x: parse_adjectives(nlp, x))"
   ],
   "outputs": [],
   "metadata": {}
  },
  {
   "cell_type": "code",
   "execution_count": 166,
   "source": [
    "corpus_df.head(15)"
   ],
   "outputs": [
    {
     "output_type": "execute_result",
     "data": {
      "text/html": [
       "<div>\n",
       "<style scoped>\n",
       "    .dataframe tbody tr th:only-of-type {\n",
       "        vertical-align: middle;\n",
       "    }\n",
       "\n",
       "    .dataframe tbody tr th {\n",
       "        vertical-align: top;\n",
       "    }\n",
       "\n",
       "    .dataframe thead th {\n",
       "        text-align: right;\n",
       "    }\n",
       "</style>\n",
       "<table border=\"1\" class=\"dataframe\">\n",
       "  <thead>\n",
       "    <tr style=\"text-align: right;\">\n",
       "      <th></th>\n",
       "      <th>text</th>\n",
       "      <th>sentiment</th>\n",
       "      <th>food</th>\n",
       "      <th>place</th>\n",
       "      <th>staff</th>\n",
       "      <th>miscellaneous</th>\n",
       "      <th>service</th>\n",
       "      <th>price</th>\n",
       "      <th>menu</th>\n",
       "      <th>ambience</th>\n",
       "      <th>aspects</th>\n",
       "      <th>descriptions</th>\n",
       "    </tr>\n",
       "  </thead>\n",
       "  <tbody>\n",
       "    <tr>\n",
       "      <th>0</th>\n",
       "      <td>It might be the best sit down food I've had in...</td>\n",
       "      <td>{'food': 'positive', 'place': 'neutral'}</td>\n",
       "      <td>positive</td>\n",
       "      <td>neutral</td>\n",
       "      <td>None</td>\n",
       "      <td>None</td>\n",
       "      <td>None</td>\n",
       "      <td>None</td>\n",
       "      <td>None</td>\n",
       "      <td>None</td>\n",
       "      <td>[food]</td>\n",
       "      <td>[best]</td>\n",
       "    </tr>\n",
       "    <tr>\n",
       "      <th>1</th>\n",
       "      <td>Hostess was extremely accommodating when we ar...</td>\n",
       "      <td>{'staff': 'positive', 'miscellaneous': 'neutral'}</td>\n",
       "      <td>None</td>\n",
       "      <td>None</td>\n",
       "      <td>positive</td>\n",
       "      <td>neutral</td>\n",
       "      <td>None</td>\n",
       "      <td>None</td>\n",
       "      <td>None</td>\n",
       "      <td>None</td>\n",
       "      <td>[Hostess]</td>\n",
       "      <td>[]</td>\n",
       "    </tr>\n",
       "    <tr>\n",
       "      <th>2</th>\n",
       "      <td>We were a couple of minutes late for our reser...</td>\n",
       "      <td>{'miscellaneous': 'neutral', 'staff': 'negative'}</td>\n",
       "      <td>None</td>\n",
       "      <td>None</td>\n",
       "      <td>negative</td>\n",
       "      <td>neutral</td>\n",
       "      <td>None</td>\n",
       "      <td>None</td>\n",
       "      <td>None</td>\n",
       "      <td>None</td>\n",
       "      <td>[attitude]</td>\n",
       "      <td>[]</td>\n",
       "    </tr>\n",
       "    <tr>\n",
       "      <th>3</th>\n",
       "      <td>Though the service might be a little slow, the...</td>\n",
       "      <td>{'service': 'negative', 'staff': 'positive'}</td>\n",
       "      <td>None</td>\n",
       "      <td>None</td>\n",
       "      <td>positive</td>\n",
       "      <td>None</td>\n",
       "      <td>negative</td>\n",
       "      <td>None</td>\n",
       "      <td>None</td>\n",
       "      <td>None</td>\n",
       "      <td>[service, waitresses]</td>\n",
       "      <td>[slow, very friendly]</td>\n",
       "    </tr>\n",
       "    <tr>\n",
       "      <th>4</th>\n",
       "      <td>Although we arrived at the restaurant 10 min l...</td>\n",
       "      <td>{'staff': 'negative', 'miscellaneous': 'neutral'}</td>\n",
       "      <td>None</td>\n",
       "      <td>None</td>\n",
       "      <td>negative</td>\n",
       "      <td>neutral</td>\n",
       "      <td>None</td>\n",
       "      <td>None</td>\n",
       "      <td>None</td>\n",
       "      <td>None</td>\n",
       "      <td>[hostess, table]</td>\n",
       "      <td>[]</td>\n",
       "    </tr>\n",
       "    <tr>\n",
       "      <th>5</th>\n",
       "      <td>I like the smaller portion size for dinner.</td>\n",
       "      <td>{'miscellaneous': 'negative', 'food': 'neutral'}</td>\n",
       "      <td>neutral</td>\n",
       "      <td>None</td>\n",
       "      <td>None</td>\n",
       "      <td>negative</td>\n",
       "      <td>None</td>\n",
       "      <td>None</td>\n",
       "      <td>None</td>\n",
       "      <td>None</td>\n",
       "      <td>[size]</td>\n",
       "      <td>[]</td>\n",
       "    </tr>\n",
       "    <tr>\n",
       "      <th>6</th>\n",
       "      <td>The bill was surprisingly inexpensive consider...</td>\n",
       "      <td>{'food': 'neutral', 'price': 'positive', 'misc...</td>\n",
       "      <td>neutral</td>\n",
       "      <td>None</td>\n",
       "      <td>None</td>\n",
       "      <td>neutral</td>\n",
       "      <td>None</td>\n",
       "      <td>positive</td>\n",
       "      <td>None</td>\n",
       "      <td>None</td>\n",
       "      <td>[bill, appetizers, rounds]</td>\n",
       "      <td>[surprisingly inexpensive, alcoholic, non]</td>\n",
       "    </tr>\n",
       "    <tr>\n",
       "      <th>7</th>\n",
       "      <td>) other food is served in too-small portions, ...</td>\n",
       "      <td>{'miscellaneous': 'negative', 'food': 'neutral'}</td>\n",
       "      <td>neutral</td>\n",
       "      <td>None</td>\n",
       "      <td>None</td>\n",
       "      <td>negative</td>\n",
       "      <td>None</td>\n",
       "      <td>None</td>\n",
       "      <td>None</td>\n",
       "      <td>None</td>\n",
       "      <td>[room]</td>\n",
       "      <td>[least]</td>\n",
       "    </tr>\n",
       "    <tr>\n",
       "      <th>8</th>\n",
       "      <td>It was very loud, I felt too crowded, the man ...</td>\n",
       "      <td>{'miscellaneous': 'neutral', 'staff': 'negative'}</td>\n",
       "      <td>None</td>\n",
       "      <td>None</td>\n",
       "      <td>negative</td>\n",
       "      <td>neutral</td>\n",
       "      <td>None</td>\n",
       "      <td>None</td>\n",
       "      <td>None</td>\n",
       "      <td>None</td>\n",
       "      <td>[chair, waiters]</td>\n",
       "      <td>[very loud, too crowded, next, impossible]</td>\n",
       "    </tr>\n",
       "    <tr>\n",
       "      <th>9</th>\n",
       "      <td>After ordering drinks, we both decided on the ...</td>\n",
       "      <td>{'food': 'neutral', 'miscellaneous': 'positive'}</td>\n",
       "      <td>neutral</td>\n",
       "      <td>None</td>\n",
       "      <td>None</td>\n",
       "      <td>positive</td>\n",
       "      <td>None</td>\n",
       "      <td>None</td>\n",
       "      <td>None</td>\n",
       "      <td>None</td>\n",
       "      <td>[drinks]</td>\n",
       "      <td>[]</td>\n",
       "    </tr>\n",
       "    <tr>\n",
       "      <th>10</th>\n",
       "      <td>Portions are fairly generous and the staff bri...</td>\n",
       "      <td>{'miscellaneous': 'positive', 'staff': 'positi...</td>\n",
       "      <td>neutral</td>\n",
       "      <td>None</td>\n",
       "      <td>positive</td>\n",
       "      <td>positive</td>\n",
       "      <td>None</td>\n",
       "      <td>None</td>\n",
       "      <td>None</td>\n",
       "      <td>None</td>\n",
       "      <td>[Portions, staff, bites]</td>\n",
       "      <td>[fairly generous]</td>\n",
       "    </tr>\n",
       "    <tr>\n",
       "      <th>11</th>\n",
       "      <td>I had to ask for bread for the table (several ...</td>\n",
       "      <td>{'food': 'negative', 'miscellaneous': 'neutral'}</td>\n",
       "      <td>negative</td>\n",
       "      <td>None</td>\n",
       "      <td>None</td>\n",
       "      <td>neutral</td>\n",
       "      <td>None</td>\n",
       "      <td>None</td>\n",
       "      <td>None</td>\n",
       "      <td>None</td>\n",
       "      <td>[]</td>\n",
       "      <td>[]</td>\n",
       "    </tr>\n",
       "    <tr>\n",
       "      <th>12</th>\n",
       "      <td>Specialty drinks--alcoholic and non--arrive in...</td>\n",
       "      <td>{'food': 'neutral', 'miscellaneous': 'positive'}</td>\n",
       "      <td>neutral</td>\n",
       "      <td>None</td>\n",
       "      <td>None</td>\n",
       "      <td>positive</td>\n",
       "      <td>None</td>\n",
       "      <td>None</td>\n",
       "      <td>None</td>\n",
       "      <td>None</td>\n",
       "      <td>[home]</td>\n",
       "      <td>[non]</td>\n",
       "    </tr>\n",
       "    <tr>\n",
       "      <th>13</th>\n",
       "      <td>After reading other reviews I was expecting po...</td>\n",
       "      <td>{'service': 'negative', 'staff': 'positive'}</td>\n",
       "      <td>None</td>\n",
       "      <td>None</td>\n",
       "      <td>positive</td>\n",
       "      <td>None</td>\n",
       "      <td>negative</td>\n",
       "      <td>None</td>\n",
       "      <td>None</td>\n",
       "      <td>None</td>\n",
       "      <td>[reviews, service]</td>\n",
       "      <td>[pleasantly surprised, more]</td>\n",
       "    </tr>\n",
       "    <tr>\n",
       "      <th>14</th>\n",
       "      <td>I was told by the hostess that a specific tabl...</td>\n",
       "      <td>{'staff': 'negative', 'miscellaneous': 'neutral'}</td>\n",
       "      <td>None</td>\n",
       "      <td>None</td>\n",
       "      <td>negative</td>\n",
       "      <td>neutral</td>\n",
       "      <td>None</td>\n",
       "      <td>None</td>\n",
       "      <td>None</td>\n",
       "      <td>None</td>\n",
       "      <td>[table, customers, minutes]</td>\n",
       "      <td>[]</td>\n",
       "    </tr>\n",
       "  </tbody>\n",
       "</table>\n",
       "</div>"
      ],
      "text/plain": [
       "                                                 text  \\\n",
       "0   It might be the best sit down food I've had in...   \n",
       "1   Hostess was extremely accommodating when we ar...   \n",
       "2   We were a couple of minutes late for our reser...   \n",
       "3   Though the service might be a little slow, the...   \n",
       "4   Although we arrived at the restaurant 10 min l...   \n",
       "5         I like the smaller portion size for dinner.   \n",
       "6   The bill was surprisingly inexpensive consider...   \n",
       "7   ) other food is served in too-small portions, ...   \n",
       "8   It was very loud, I felt too crowded, the man ...   \n",
       "9   After ordering drinks, we both decided on the ...   \n",
       "10  Portions are fairly generous and the staff bri...   \n",
       "11  I had to ask for bread for the table (several ...   \n",
       "12  Specialty drinks--alcoholic and non--arrive in...   \n",
       "13  After reading other reviews I was expecting po...   \n",
       "14  I was told by the hostess that a specific tabl...   \n",
       "\n",
       "                                            sentiment      food    place  \\\n",
       "0            {'food': 'positive', 'place': 'neutral'}  positive  neutral   \n",
       "1   {'staff': 'positive', 'miscellaneous': 'neutral'}      None     None   \n",
       "2   {'miscellaneous': 'neutral', 'staff': 'negative'}      None     None   \n",
       "3        {'service': 'negative', 'staff': 'positive'}      None     None   \n",
       "4   {'staff': 'negative', 'miscellaneous': 'neutral'}      None     None   \n",
       "5    {'miscellaneous': 'negative', 'food': 'neutral'}   neutral     None   \n",
       "6   {'food': 'neutral', 'price': 'positive', 'misc...   neutral     None   \n",
       "7    {'miscellaneous': 'negative', 'food': 'neutral'}   neutral     None   \n",
       "8   {'miscellaneous': 'neutral', 'staff': 'negative'}      None     None   \n",
       "9    {'food': 'neutral', 'miscellaneous': 'positive'}   neutral     None   \n",
       "10  {'miscellaneous': 'positive', 'staff': 'positi...   neutral     None   \n",
       "11   {'food': 'negative', 'miscellaneous': 'neutral'}  negative     None   \n",
       "12   {'food': 'neutral', 'miscellaneous': 'positive'}   neutral     None   \n",
       "13       {'service': 'negative', 'staff': 'positive'}      None     None   \n",
       "14  {'staff': 'negative', 'miscellaneous': 'neutral'}      None     None   \n",
       "\n",
       "       staff miscellaneous   service     price  menu ambience  \\\n",
       "0       None          None      None      None  None     None   \n",
       "1   positive       neutral      None      None  None     None   \n",
       "2   negative       neutral      None      None  None     None   \n",
       "3   positive          None  negative      None  None     None   \n",
       "4   negative       neutral      None      None  None     None   \n",
       "5       None      negative      None      None  None     None   \n",
       "6       None       neutral      None  positive  None     None   \n",
       "7       None      negative      None      None  None     None   \n",
       "8   negative       neutral      None      None  None     None   \n",
       "9       None      positive      None      None  None     None   \n",
       "10  positive      positive      None      None  None     None   \n",
       "11      None       neutral      None      None  None     None   \n",
       "12      None      positive      None      None  None     None   \n",
       "13  positive          None  negative      None  None     None   \n",
       "14  negative       neutral      None      None  None     None   \n",
       "\n",
       "                        aspects                                descriptions  \n",
       "0                        [food]                                      [best]  \n",
       "1                     [Hostess]                                          []  \n",
       "2                    [attitude]                                          []  \n",
       "3         [service, waitresses]                       [slow, very friendly]  \n",
       "4              [hostess, table]                                          []  \n",
       "5                        [size]                                          []  \n",
       "6    [bill, appetizers, rounds]  [surprisingly inexpensive, alcoholic, non]  \n",
       "7                        [room]                                     [least]  \n",
       "8              [chair, waiters]  [very loud, too crowded, next, impossible]  \n",
       "9                      [drinks]                                          []  \n",
       "10     [Portions, staff, bites]                           [fairly generous]  \n",
       "11                           []                                          []  \n",
       "12                       [home]                                       [non]  \n",
       "13           [reviews, service]                [pleasantly surprised, more]  \n",
       "14  [table, customers, minutes]                                          []  "
      ]
     },
     "metadata": {},
     "execution_count": 166
    }
   ],
   "metadata": {}
  },
  {
   "cell_type": "code",
   "execution_count": 172,
   "source": [
    "corpus = pickle.load(open('corpus.pkl', 'rb'))\r\n",
    "dictionary = corpora.Dictionary.load('dictionary.gensim')\r\n",
    "lda_model = LdaModel.load('best_lda_model.gensim')"
   ],
   "outputs": [],
   "metadata": {}
  },
  {
   "cell_type": "code",
   "execution_count": 175,
   "source": [
    "corpus_df['aspects'][0]"
   ],
   "outputs": [
    {
     "output_type": "execute_result",
     "data": {
      "text/plain": [
       "['food']"
      ]
     },
     "metadata": {},
     "execution_count": 175
    }
   ],
   "metadata": {}
  },
  {
   "cell_type": "code",
   "execution_count": 190,
   "source": [
    "#numerical mapping for topics in LDA model\r\n",
    "topic_map = {0: 'menu', 1: 'service', 2: 'miscellaneous', 3: 'place', 4: 'price', 5: 'food', 6: 'staff'}"
   ],
   "outputs": [],
   "metadata": {}
  },
  {
   "cell_type": "code",
   "execution_count": 189,
   "source": [
    "lda_model.get_term_topics('food', minimum_probability=0.0000001)"
   ],
   "outputs": [
    {
     "output_type": "execute_result",
     "data": {
      "text/plain": [
       "[(0, 1.079433e-06),\n",
       " (1, 5.546354e-07),\n",
       " (2, 7.8215083e-07),\n",
       " (3, 0.00036240902),\n",
       " (4, 0.00035394274),\n",
       " (5, 0.0011942886),\n",
       " (6, 4.8887154e-07)]"
      ]
     },
     "metadata": {},
     "execution_count": 189
    }
   ],
   "metadata": {}
  },
  {
   "cell_type": "code",
   "execution_count": null,
   "source": [],
   "outputs": [],
   "metadata": {}
  }
 ],
 "metadata": {
  "orig_nbformat": 4,
  "language_info": {
   "name": "python",
   "version": "3.8.3",
   "mimetype": "text/x-python",
   "codemirror_mode": {
    "name": "ipython",
    "version": 3
   },
   "pygments_lexer": "ipython3",
   "nbconvert_exporter": "python",
   "file_extension": ".py"
  },
  "kernelspec": {
   "name": "python3",
   "display_name": "Python 3.8.3 64-bit ('nlpenv': conda)"
  },
  "interpreter": {
   "hash": "3f4643a5fc191cfdc6db820312c1a6d5dbd54c07017a1c478aebe45165635478"
  }
 },
 "nbformat": 4,
 "nbformat_minor": 2
}