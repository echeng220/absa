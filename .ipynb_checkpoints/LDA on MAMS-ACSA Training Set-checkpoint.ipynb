{
 "cells": [
  {
   "cell_type": "code",
   "execution_count": 1,
   "id": "extended-rotation",
   "metadata": {
    "scrolled": true
   },
   "outputs": [
    {
     "name": "stderr",
     "output_type": "stream",
     "text": [
      "[nltk_data] Downloading package wordnet to\n",
      "[nltk_data]     C:\\Users\\Evan\\AppData\\Roaming\\nltk_data...\n",
      "[nltk_data]   Package wordnet is already up-to-date!\n"
     ]
    }
   ],
   "source": [
    "import xml.etree.ElementTree as et\n",
    "import pandas as pd\n",
    "import random\n",
    "import pickle\n",
    "import matplotlib.pyplot as plt\n",
    "import seaborn as sns\n",
    "\n",
    "import spacy\n",
    "spacy.load('en_core_web_sm')\n",
    "from spacy.lang.en import English\n",
    "parser  = English()\n",
    "\n",
    "import nltk\n",
    "nltk.download('wordnet')\n",
    "from nltk.corpus import wordnet as wn\n",
    "from nltk.stem.wordnet import WordNetLemmatizer\n",
    "from nltk.sentiment.vader import SentimentIntensityAnalyzer\n",
    "\n",
    "import gensim\n",
    "from gensim import corpora\n",
    "\n",
    "import pyLDAvis.gensim_models\n",
    "\n",
    "import warnings\n",
    "warnings.filterwarnings(\"ignore\", category=DeprecationWarning)\n",
    "\n",
    "from operator import itemgetter"
   ]
  },
  {
   "cell_type": "code",
   "execution_count": 2,
   "id": "crude-resource",
   "metadata": {},
   "outputs": [],
   "source": [
    "#build element tree to get training examples from .xml file\n",
    "tree = et.parse('train.xml')\n",
    "root = tree.getroot()"
   ]
  },
  {
   "cell_type": "code",
   "execution_count": 3,
   "id": "regulation-donor",
   "metadata": {},
   "outputs": [
    {
     "data": {
      "text/plain": [
       "'sentences'"
      ]
     },
     "execution_count": 3,
     "metadata": {},
     "output_type": "execute_result"
    }
   ],
   "source": [
    "root.tag"
   ]
  },
  {
   "cell_type": "code",
   "execution_count": 4,
   "id": "temporal-auditor",
   "metadata": {},
   "outputs": [
    {
     "data": {
      "text/plain": [
       "'aspectCategories'"
      ]
     },
     "execution_count": 4,
     "metadata": {},
     "output_type": "execute_result"
    }
   ],
   "source": [
    "root[0][1].tag"
   ]
  },
  {
   "cell_type": "code",
   "execution_count": 5,
   "id": "automatic-neighbor",
   "metadata": {},
   "outputs": [
    {
     "data": {
      "text/plain": [
       "2"
      ]
     },
     "execution_count": 5,
     "metadata": {},
     "output_type": "execute_result"
    }
   ],
   "source": [
    "len(root[0][1])"
   ]
  },
  {
   "cell_type": "code",
   "execution_count": 6,
   "id": "charged-teddy",
   "metadata": {},
   "outputs": [
    {
     "data": {
      "text/plain": [
       "\"It might be the best sit down food I've had in the area, so if you are going to the upright citizen brigade, or the garden, it could be just the place for you.\""
      ]
     },
     "execution_count": 6,
     "metadata": {},
     "output_type": "execute_result"
    }
   ],
   "source": [
    "root[0][0].text"
   ]
  },
  {
   "cell_type": "code",
   "execution_count": 7,
   "id": "reverse-elite",
   "metadata": {},
   "outputs": [
    {
     "data": {
      "text/plain": [
       "'food'"
      ]
     },
     "execution_count": 7,
     "metadata": {},
     "output_type": "execute_result"
    }
   ],
   "source": [
    "root[0][1][0].attrib['category']"
   ]
  },
  {
   "cell_type": "code",
   "execution_count": 8,
   "id": "subsequent-republic",
   "metadata": {},
   "outputs": [
    {
     "data": {
      "text/plain": [
       "3149"
      ]
     },
     "execution_count": 8,
     "metadata": {},
     "output_type": "execute_result"
    }
   ],
   "source": [
    "len(root)"
   ]
  },
  {
   "cell_type": "code",
   "execution_count": 9,
   "id": "latter-community",
   "metadata": {},
   "outputs": [
    {
     "name": "stdout",
     "output_type": "stream",
     "text": [
      "Most aspect categories in a single document:  5\n"
     ]
    }
   ],
   "source": [
    "m = len(root) - 1\n",
    "max_aspects = 0\n",
    "\n",
    "for i in range(m):\n",
    "    if len(root[i][1]) > max_aspects:\n",
    "        max_aspects = len(root[i][1])\n",
    "\n",
    "print('Most aspect categories in a single document: ', max_aspects)"
   ]
  },
  {
   "cell_type": "code",
   "execution_count": 83,
   "id": "distinct-anatomy",
   "metadata": {},
   "outputs": [],
   "source": [
    "corpus = {}\n",
    "categories = []\n",
    "\n",
    "for i in range(m):\n",
    "    doc = {}\n",
    "    doc.update({'text': root[i][0].text})\n",
    "    tmp = {}\n",
    "    for j in range(len(root[i][1])):\n",
    "        if root[i][1][j].attrib['category'] not in categories:\n",
    "            categories.append(root[i][1][j].attrib['category'])\n",
    "#         doc[f'aspectCategory{j}'] = root[i][1][j].attrib['category']\n",
    "#         doc[f'aspectPolarity{j}'] = root[i][1][j].attrib['polarity']\n",
    "        tmp.update({root[i][1][j].attrib['category']: root[i][1][j].attrib['polarity']})\n",
    "    doc.update({'sentiment': tmp})\n",
    "    corpus.update({i: doc})"
   ]
  },
  {
   "cell_type": "code",
   "execution_count": 84,
   "id": "hourly-baker",
   "metadata": {},
   "outputs": [],
   "source": [
    "# corpus = {}\n",
    "\n",
    "# for i in range(m):\n",
    "#     doc = {}\n",
    "#     doc.update({'text': root[i][0].text})\n",
    "#     tmp = {}\n",
    "#     for j in range(len(root[i][1])):\n",
    "#         tmp.update({root[i][1][j].attrib['category']: root[i][1][j].attrib['polarity']})\n",
    "#     doc.update({'sentiment': tmp})\n",
    "#     corpus.update({i: doc})"
   ]
  },
  {
   "cell_type": "code",
   "execution_count": 85,
   "id": "statewide-gregory",
   "metadata": {
    "scrolled": true
   },
   "outputs": [
    {
     "data": {
      "text/plain": [
       "{'text': \"It might be the best sit down food I've had in the area, so if you are going to the upright citizen brigade, or the garden, it could be just the place for you.\",\n",
       " 'sentiment': {'food': 'positive', 'place': 'neutral'}}"
      ]
     },
     "execution_count": 85,
     "metadata": {},
     "output_type": "execute_result"
    }
   ],
   "source": [
    "corpus[0]"
   ]
  },
  {
   "cell_type": "code",
   "execution_count": 86,
   "id": "ranging-binary",
   "metadata": {
    "scrolled": true
   },
   "outputs": [
    {
     "data": {
      "text/plain": [
       "['food',\n",
       " 'place',\n",
       " 'staff',\n",
       " 'miscellaneous',\n",
       " 'service',\n",
       " 'price',\n",
       " 'menu',\n",
       " 'ambience']"
      ]
     },
     "execution_count": 86,
     "metadata": {},
     "output_type": "execute_result"
    }
   ],
   "source": [
    "categories"
   ]
  },
  {
   "cell_type": "code",
   "execution_count": 99,
   "id": "latin-delaware",
   "metadata": {},
   "outputs": [],
   "source": [
    "def encode_category(sentiments, category):\n",
    "    \"\"\"Return the sentiment for a specific category in a dictionary where the keys are the categories, and the values are the sentiments\n",
    "    for that category.\"\"\"\n",
    "    if category in sentiments.keys():\n",
    "        output = sentiments[category]\n",
    "    else:\n",
    "        output = None\n",
    "    return output"
   ]
  },
  {
   "cell_type": "code",
   "execution_count": 100,
   "id": "beneficial-innocent",
   "metadata": {},
   "outputs": [
    {
     "name": "stdout",
     "output_type": "stream",
     "text": [
      "negative\n"
     ]
    }
   ],
   "source": [
    "print(encode_category(sentiments = train_df['sentiment'][34], category = 'staff'))"
   ]
  },
  {
   "cell_type": "code",
   "execution_count": 101,
   "id": "southern-racing",
   "metadata": {
    "scrolled": true
   },
   "outputs": [
    {
     "data": {
      "text/html": [
       "<div>\n",
       "<style scoped>\n",
       "    .dataframe tbody tr th:only-of-type {\n",
       "        vertical-align: middle;\n",
       "    }\n",
       "\n",
       "    .dataframe tbody tr th {\n",
       "        vertical-align: top;\n",
       "    }\n",
       "\n",
       "    .dataframe thead th {\n",
       "        text-align: right;\n",
       "    }\n",
       "</style>\n",
       "<table border=\"1\" class=\"dataframe\">\n",
       "  <thead>\n",
       "    <tr style=\"text-align: right;\">\n",
       "      <th></th>\n",
       "      <th>text</th>\n",
       "      <th>sentiment</th>\n",
       "      <th>food</th>\n",
       "      <th>place</th>\n",
       "      <th>staff</th>\n",
       "      <th>miscellaneous</th>\n",
       "      <th>service</th>\n",
       "      <th>price</th>\n",
       "      <th>menu</th>\n",
       "      <th>ambience</th>\n",
       "    </tr>\n",
       "  </thead>\n",
       "  <tbody>\n",
       "    <tr>\n",
       "      <th>0</th>\n",
       "      <td>It might be the best sit down food I've had in...</td>\n",
       "      <td>{'food': 'positive', 'place': 'neutral'}</td>\n",
       "      <td>positive</td>\n",
       "      <td>neutral</td>\n",
       "      <td>None</td>\n",
       "      <td>None</td>\n",
       "      <td>None</td>\n",
       "      <td>None</td>\n",
       "      <td>None</td>\n",
       "      <td>None</td>\n",
       "    </tr>\n",
       "    <tr>\n",
       "      <th>1</th>\n",
       "      <td>Hostess was extremely accommodating when we ar...</td>\n",
       "      <td>{'staff': 'positive', 'miscellaneous': 'neutral'}</td>\n",
       "      <td>None</td>\n",
       "      <td>None</td>\n",
       "      <td>positive</td>\n",
       "      <td>neutral</td>\n",
       "      <td>None</td>\n",
       "      <td>None</td>\n",
       "      <td>None</td>\n",
       "      <td>None</td>\n",
       "    </tr>\n",
       "    <tr>\n",
       "      <th>2</th>\n",
       "      <td>We were a couple of minutes late for our reser...</td>\n",
       "      <td>{'miscellaneous': 'neutral', 'staff': 'negative'}</td>\n",
       "      <td>None</td>\n",
       "      <td>None</td>\n",
       "      <td>negative</td>\n",
       "      <td>neutral</td>\n",
       "      <td>None</td>\n",
       "      <td>None</td>\n",
       "      <td>None</td>\n",
       "      <td>None</td>\n",
       "    </tr>\n",
       "    <tr>\n",
       "      <th>3</th>\n",
       "      <td>Though the service might be a little slow, the...</td>\n",
       "      <td>{'service': 'negative', 'staff': 'positive'}</td>\n",
       "      <td>None</td>\n",
       "      <td>None</td>\n",
       "      <td>positive</td>\n",
       "      <td>None</td>\n",
       "      <td>negative</td>\n",
       "      <td>None</td>\n",
       "      <td>None</td>\n",
       "      <td>None</td>\n",
       "    </tr>\n",
       "    <tr>\n",
       "      <th>4</th>\n",
       "      <td>Although we arrived at the restaurant 10 min l...</td>\n",
       "      <td>{'staff': 'negative', 'miscellaneous': 'neutral'}</td>\n",
       "      <td>None</td>\n",
       "      <td>None</td>\n",
       "      <td>negative</td>\n",
       "      <td>neutral</td>\n",
       "      <td>None</td>\n",
       "      <td>None</td>\n",
       "      <td>None</td>\n",
       "      <td>None</td>\n",
       "    </tr>\n",
       "  </tbody>\n",
       "</table>\n",
       "</div>"
      ],
      "text/plain": [
       "                                                text  \\\n",
       "0  It might be the best sit down food I've had in...   \n",
       "1  Hostess was extremely accommodating when we ar...   \n",
       "2  We were a couple of minutes late for our reser...   \n",
       "3  Though the service might be a little slow, the...   \n",
       "4  Although we arrived at the restaurant 10 min l...   \n",
       "\n",
       "                                           sentiment      food    place  \\\n",
       "0           {'food': 'positive', 'place': 'neutral'}  positive  neutral   \n",
       "1  {'staff': 'positive', 'miscellaneous': 'neutral'}      None     None   \n",
       "2  {'miscellaneous': 'neutral', 'staff': 'negative'}      None     None   \n",
       "3       {'service': 'negative', 'staff': 'positive'}      None     None   \n",
       "4  {'staff': 'negative', 'miscellaneous': 'neutral'}      None     None   \n",
       "\n",
       "      staff miscellaneous   service price  menu ambience  \n",
       "0      None          None      None  None  None     None  \n",
       "1  positive       neutral      None  None  None     None  \n",
       "2  negative       neutral      None  None  None     None  \n",
       "3  positive          None  negative  None  None     None  \n",
       "4  negative       neutral      None  None  None     None  "
      ]
     },
     "execution_count": 101,
     "metadata": {},
     "output_type": "execute_result"
    }
   ],
   "source": [
    "train_df = pd.DataFrame(corpus).transpose()\n",
    "# cols_to_move = ['text','sentiment']\n",
    "# train_df = train_df[cols_to_move + [col for col in train_df.columns if col not in cols_to_move]]\n",
    "for cat in categories:\n",
    "    train_df[f'{cat}'] = train_df['sentiment'].apply(lambda x: encode_category(x, cat))\n",
    "train_df.head()"
   ]
  },
  {
   "cell_type": "code",
   "execution_count": 27,
   "id": "noted-conservation",
   "metadata": {},
   "outputs": [],
   "source": [
    "assert train_df['sentiment'].isna().sum() == 0"
   ]
  },
  {
   "cell_type": "code",
   "execution_count": 133,
   "id": "competitive-literacy",
   "metadata": {},
   "outputs": [
    {
     "data": {
      "text/plain": [
       "{'food': neutral     1298\n",
       " positive     753\n",
       " negative     255\n",
       " Name: food, dtype: int64,\n",
       " 'place': neutral     430\n",
       " negative    139\n",
       " positive    125\n",
       " Name: place, dtype: int64,\n",
       " 'staff': negative    921\n",
       " positive    332\n",
       " neutral     129\n",
       " Name: staff, dtype: int64,\n",
       " 'miscellaneous': neutral     531\n",
       " positive    227\n",
       " negative    196\n",
       " Name: miscellaneous, dtype: int64,\n",
       " 'service': negative    329\n",
       " positive    174\n",
       " neutral     128\n",
       " Name: service, dtype: int64,\n",
       " 'price': neutral     136\n",
       " negative    114\n",
       " positive     72\n",
       " Name: price, dtype: int64,\n",
       " 'menu': neutral     372\n",
       " positive     64\n",
       " negative     39\n",
       " Name: menu, dtype: int64,\n",
       " 'ambience': positive    181\n",
       " negative     90\n",
       " neutral      53\n",
       " Name: ambience, dtype: int64}"
      ]
     },
     "execution_count": 133,
     "metadata": {},
     "output_type": "execute_result"
    }
   ],
   "source": [
    "counts = {}\n",
    "for cat in categories:\n",
    "    counts.update({cat: train_df[f'{cat}'].value_counts()})\n",
    "\n",
    "counts"
   ]
  },
  {
   "cell_type": "code",
   "execution_count": 28,
   "id": "colored-suspect",
   "metadata": {
    "scrolled": true
   },
   "outputs": [],
   "source": [
    "# cat_df = train_df['aspectCategory0']\n",
    "\n",
    "# for i in range(1, max_aspects):\n",
    "#     cat_df = cat_df.append(train_df[f\"aspectCategory{i}\"], ignore_index = True)\n",
    "    \n",
    "# cat_df = cat_df.dropna().reset_index(drop = True)"
   ]
  },
  {
   "cell_type": "code",
   "execution_count": 29,
   "id": "extra-music",
   "metadata": {
    "scrolled": true
   },
   "outputs": [],
   "source": [
    "# pol_df = train_df['aspectPolarity0']\n",
    "\n",
    "# for i in range(1, max_aspects):\n",
    "#     pol_df = pol_df.append(train_df[f\"aspectPolarity{i}\"], ignore_index = True)\n",
    "    \n",
    "# pol_df = pol_df.dropna().reset_index(drop = True)"
   ]
  },
  {
   "cell_type": "code",
   "execution_count": 30,
   "id": "compressed-investigator",
   "metadata": {
    "scrolled": true
   },
   "outputs": [
    {
     "data": {
      "text/html": [
       "<div>\n",
       "<style scoped>\n",
       "    .dataframe tbody tr th:only-of-type {\n",
       "        vertical-align: middle;\n",
       "    }\n",
       "\n",
       "    .dataframe tbody tr th {\n",
       "        vertical-align: top;\n",
       "    }\n",
       "\n",
       "    .dataframe thead th {\n",
       "        text-align: right;\n",
       "    }\n",
       "</style>\n",
       "<table border=\"1\" class=\"dataframe\">\n",
       "  <thead>\n",
       "    <tr style=\"text-align: right;\">\n",
       "      <th></th>\n",
       "      <th>Category</th>\n",
       "      <th>Polarity</th>\n",
       "    </tr>\n",
       "  </thead>\n",
       "  <tbody>\n",
       "    <tr>\n",
       "      <th>0</th>\n",
       "      <td>food</td>\n",
       "      <td>positive</td>\n",
       "    </tr>\n",
       "    <tr>\n",
       "      <th>1</th>\n",
       "      <td>staff</td>\n",
       "      <td>positive</td>\n",
       "    </tr>\n",
       "    <tr>\n",
       "      <th>2</th>\n",
       "      <td>miscellaneous</td>\n",
       "      <td>neutral</td>\n",
       "    </tr>\n",
       "    <tr>\n",
       "      <th>3</th>\n",
       "      <td>service</td>\n",
       "      <td>negative</td>\n",
       "    </tr>\n",
       "    <tr>\n",
       "      <th>4</th>\n",
       "      <td>staff</td>\n",
       "      <td>negative</td>\n",
       "    </tr>\n",
       "    <tr>\n",
       "      <th>...</th>\n",
       "      <td>...</td>\n",
       "      <td>...</td>\n",
       "    </tr>\n",
       "    <tr>\n",
       "      <th>7083</th>\n",
       "      <td>miscellaneous</td>\n",
       "      <td>positive</td>\n",
       "    </tr>\n",
       "    <tr>\n",
       "      <th>7084</th>\n",
       "      <td>food</td>\n",
       "      <td>neutral</td>\n",
       "    </tr>\n",
       "    <tr>\n",
       "      <th>7085</th>\n",
       "      <td>food</td>\n",
       "      <td>positive</td>\n",
       "    </tr>\n",
       "    <tr>\n",
       "      <th>7086</th>\n",
       "      <td>service</td>\n",
       "      <td>negative</td>\n",
       "    </tr>\n",
       "    <tr>\n",
       "      <th>7087</th>\n",
       "      <td>miscellaneous</td>\n",
       "      <td>negative</td>\n",
       "    </tr>\n",
       "  </tbody>\n",
       "</table>\n",
       "<p>7088 rows × 2 columns</p>\n",
       "</div>"
      ],
      "text/plain": [
       "           Category  Polarity\n",
       "0              food  positive\n",
       "1             staff  positive\n",
       "2     miscellaneous   neutral\n",
       "3           service  negative\n",
       "4             staff  negative\n",
       "...             ...       ...\n",
       "7083  miscellaneous  positive\n",
       "7084           food   neutral\n",
       "7085           food  positive\n",
       "7086        service  negative\n",
       "7087  miscellaneous  negative\n",
       "\n",
       "[7088 rows x 2 columns]"
      ]
     },
     "execution_count": 30,
     "metadata": {},
     "output_type": "execute_result"
    }
   ],
   "source": [
    "sentiments = pd.concat([cat_df, pol_df], axis = 1)\n",
    "sentiments.columns = ['Category', 'Polarity']\n",
    "sentiments"
   ]
  },
  {
   "cell_type": "code",
   "execution_count": 31,
   "id": "reduced-stretch",
   "metadata": {},
   "outputs": [
    {
     "name": "stderr",
     "output_type": "stream",
     "text": [
      "C:\\ProgramData\\Anaconda3\\lib\\site-packages\\seaborn\\_decorators.py:36: FutureWarning: Pass the following variable as a keyword arg: x. From version 0.12, the only valid positional argument will be `data`, and passing other arguments without an explicit keyword will result in an error or misinterpretation.\n",
      "  warnings.warn(\n"
     ]
    },
    {
     "data": {
      "image/png": "[encoded data removed]",
      "text/plain": [
       "<Figure size 432x288 with 1 Axes>"
      ]
     },
     "metadata": {
      "needs_background": "light"
     },
     "output_type": "display_data"
    }
   ],
   "source": [
    "sns.countplot('Category', hue = 'Polarity', data = sentiments, palette = 'colorblind', edgecolor = 'dimgrey')\n",
    "plt.xticks(rotation = 30);"
   ]
  },
  {
   "cell_type": "markdown",
   "id": "czech-basic",
   "metadata": {},
   "source": [
    "'menu' has hardly any meaningful reviews, so we can combine it with 'food'. 'ambience' & 'place', and 'staff' & 'service' can be combined. Therefore, instead of the original 8 aspects from the MAMS paper, let's use 5 (food (food+menu), service (service+staff), miscellaneous, place (place+ambience), price)."
   ]
  },
  {
   "cell_type": "code",
   "execution_count": 32,
   "id": "sacred-evening",
   "metadata": {},
   "outputs": [],
   "source": [
    "def tokenize(text):\n",
    "    \"\"\"Creates tokens for LDA model. Passes over all whitespaces, adds special tokens for URLs and screen names. \n",
    "    Puts all tokens in lower case.\"\"\"\n",
    "    lda_tokens = []\n",
    "    tokens = parser(text)\n",
    "    for token in tokens:\n",
    "        if token.orth_.isspace():\n",
    "            continue\n",
    "        elif token.like_url:\n",
    "            lda_tokens.append('URL')\n",
    "        elif token.orth_.startswith('@'):\n",
    "            lda_tokens.append('SCREEN_NAME')\n",
    "        else:\n",
    "            lda_tokens.append(token.lower_)\n",
    "    return lda_tokens "
   ]
  },
  {
   "cell_type": "code",
   "execution_count": 33,
   "id": "married-butler",
   "metadata": {},
   "outputs": [
    {
     "data": {
      "text/plain": [
       "spacy.tokens.doc.Doc"
      ]
     },
     "execution_count": 33,
     "metadata": {},
     "output_type": "execute_result"
    }
   ],
   "source": [
    "test_parse = parser(train_df['text'][0])\n",
    "type(test_parse)"
   ]
  },
  {
   "cell_type": "code",
   "execution_count": 34,
   "id": "apparent-truth",
   "metadata": {},
   "outputs": [
    {
     "name": "stdout",
     "output_type": "stream",
     "text": [
      "It | <class 'spacy.tokens.token.Token'> | It | False | it\n",
      "might | <class 'spacy.tokens.token.Token'> | might | False | might\n",
      "be | <class 'spacy.tokens.token.Token'> | be | False | be\n",
      "the | <class 'spacy.tokens.token.Token'> | the | False | the\n",
      "best | <class 'spacy.tokens.token.Token'> | best | False | best\n"
     ]
    }
   ],
   "source": [
    "for token in test_parse[0:5]:\n",
    "    print(token, '|', type(token), '|', token.orth_, '|', token.orth_.isspace(), '|', token.lower_)"
   ]
  },
  {
   "cell_type": "code",
   "execution_count": 35,
   "id": "comfortable-england",
   "metadata": {},
   "outputs": [
    {
     "name": "stdout",
     "output_type": "stream",
     "text": [
      "['it', 'might', 'be', 'the', 'best', 'sit', 'down', 'food', 'i', \"'ve\", 'had', 'in', 'the', 'area', ',', 'so', 'if', 'you', 'are', 'going', 'to', 'the', 'upright', 'citizen', 'brigade', ',', 'or', 'the', 'garden', ',', 'it', 'could', 'be', 'just', 'the', 'place', 'for', 'you', '.']\n"
     ]
    }
   ],
   "source": [
    "print(tokenize(train_df['text'][0]))"
   ]
  },
  {
   "cell_type": "code",
   "execution_count": 36,
   "id": "convinced-lender",
   "metadata": {},
   "outputs": [],
   "source": [
    "def get_lemma(word):\n",
    "    \"\"\"Lemmatize (get root word) for a given word.\"\"\"\n",
    "    lemma = wn.morphy(word)\n",
    "    if lemma is None:\n",
    "        return word\n",
    "    else:\n",
    "        return lemma"
   ]
  },
  {
   "cell_type": "code",
   "execution_count": 37,
   "id": "blank-recycling",
   "metadata": {},
   "outputs": [
    {
     "data": {
      "text/plain": [
       "'present'"
      ]
     },
     "execution_count": 37,
     "metadata": {},
     "output_type": "execute_result"
    }
   ],
   "source": [
    "get_lemma('presented')"
   ]
  },
  {
   "cell_type": "code",
   "execution_count": 38,
   "id": "straight-rings",
   "metadata": {},
   "outputs": [],
   "source": [
    "def get_lemma2(word):\n",
    "    \"\"\"More lemmatization.\"\"\"\n",
    "    return WordNetLemmatizer().lemmatize(word)"
   ]
  },
  {
   "cell_type": "code",
   "execution_count": 39,
   "id": "informative-registration",
   "metadata": {},
   "outputs": [
    {
     "data": {
      "text/plain": [
       "'foot'"
      ]
     },
     "execution_count": 39,
     "metadata": {},
     "output_type": "execute_result"
    }
   ],
   "source": [
    "get_lemma2('feet')"
   ]
  },
  {
   "cell_type": "code",
   "execution_count": 40,
   "id": "gothic-march",
   "metadata": {},
   "outputs": [
    {
     "name": "stderr",
     "output_type": "stream",
     "text": [
      "[nltk_data] Downloading package stopwords to\n",
      "[nltk_data]     C:\\Users\\Evan\\AppData\\Roaming\\nltk_data...\n",
      "[nltk_data]   Package stopwords is already up-to-date!\n"
     ]
    }
   ],
   "source": [
    "nltk.download('stopwords')\n",
    "en_stop = set(nltk.corpus.stopwords.words('english'))"
   ]
  },
  {
   "cell_type": "code",
   "execution_count": 41,
   "id": "optional-fortune",
   "metadata": {},
   "outputs": [],
   "source": [
    "def prepare_text_for_lda(text):\n",
    "    \"\"\"Generate list of tokens, keeping all tokens that are >2 characters, and are not in the stopword list.\n",
    "    Lemmatize each token.\"\"\"\n",
    "    tokens = tokenize(text)\n",
    "    tokens = [token for token in tokens if len(token) > 2 and \"'\" not in token]\n",
    "    tokens = [token for token in tokens if token not in en_stop]\n",
    "    tokens = [get_lemma(token) for token in tokens]\n",
    "    return tokens"
   ]
  },
  {
   "cell_type": "code",
   "execution_count": 42,
   "id": "confidential-cookbook",
   "metadata": {
    "scrolled": true
   },
   "outputs": [
    {
     "name": "stdout",
     "output_type": "stream",
     "text": [
      "BEFORE PRE-PROCESSING: It might be the best sit down food I've had in the area, so if you are going to the upright citizen brigade, or the garden, it could be just the place for you. \n",
      "\n",
      "AFTER PRE-PROCESSING: ['might', 'best', 'sit', 'food', 'area', 'going', 'upright', 'citizen', 'brigade', 'garden', 'could', 'place']\n"
     ]
    }
   ],
   "source": [
    "print(f\"BEFORE PRE-PROCESSING: {train_df['text'][0]} \\n\\nAFTER PRE-PROCESSING: {prepare_text_for_lda(train_df['text'][0])}\")"
   ]
  },
  {
   "cell_type": "code",
   "execution_count": 43,
   "id": "heated-hurricane",
   "metadata": {
    "scrolled": true
   },
   "outputs": [],
   "source": [
    "text_data = []\n",
    "for i in range(len(train_df)):\n",
    "    tokens = prepare_text_for_lda(train_df['text'][i])\n",
    "    text_data.append(tokens)"
   ]
  },
  {
   "cell_type": "code",
   "execution_count": 44,
   "id": "twelve-bahamas",
   "metadata": {},
   "outputs": [
    {
     "data": {
      "text/plain": [
       "(list,\n",
       " 3148,\n",
       " ['food', 'awesome', 'deal', 'wait', 'staff', 'hardly', 'ever', 'find'])"
      ]
     },
     "execution_count": 44,
     "metadata": {},
     "output_type": "execute_result"
    }
   ],
   "source": [
    "type(text_data), len(text_data), text_data[777]"
   ]
  },
  {
   "cell_type": "code",
   "execution_count": 46,
   "id": "comic-mistake",
   "metadata": {},
   "outputs": [],
   "source": [
    "#DON'T RUN IF YOU'RE NOT TRAINING A NEW MODEL\n",
    "\n",
    "dictionary = corpora.Dictionary(text_data)\n",
    "corpus = [dictionary.doc2bow(text) for text in text_data]\n",
    "\n",
    "pickle.dump(corpus, open('corpus.pkl', 'wb'))\n",
    "dictionary.save('dictionary.gensim')"
   ]
  },
  {
   "cell_type": "code",
   "execution_count": 47,
   "id": "italian-jackson",
   "metadata": {},
   "outputs": [
    {
     "data": {
      "text/plain": [
       "(gensim.corpora.dictionary.Dictionary, 'area', 'citizen', 'going')"
      ]
     },
     "execution_count": 47,
     "metadata": {},
     "output_type": "execute_result"
    }
   ],
   "source": [
    "type(dictionary), dictionary[0], dictionary[3], dictionary[7]"
   ]
  },
  {
   "cell_type": "code",
   "execution_count": 48,
   "id": "initial-shepherd",
   "metadata": {
    "scrolled": true
   },
   "outputs": [
    {
     "data": {
      "text/plain": [
       "(list, 3148, 12, (0, 1), (1, 1), (2, 1), (3, 1), (12, 1), (13, 1))"
      ]
     },
     "execution_count": 48,
     "metadata": {},
     "output_type": "execute_result"
    }
   ],
   "source": [
    "type(corpus), len(corpus), len(corpus[0]), corpus[0][0], corpus[0][1], corpus[0][2], corpus[0][3], corpus[1][0], corpus[1][1]"
   ]
  },
  {
   "cell_type": "code",
   "execution_count": 49,
   "id": "elegant-metabolism",
   "metadata": {},
   "outputs": [
    {
     "data": {
      "text/plain": [
       "[(5, 1), (84, 1), (114, 1), (220, 1), (302, 1), (518, 1), (587, 1), (1143, 1)]"
      ]
     },
     "execution_count": 49,
     "metadata": {},
     "output_type": "execute_result"
    }
   ],
   "source": [
    "corpus[777]"
   ]
  },
  {
   "cell_type": "code",
   "execution_count": 41,
   "id": "interstate-monster",
   "metadata": {},
   "outputs": [],
   "source": [
    "#DON'T RUN IF YOU'RE NOT TRAINING A NEW MODEL\n",
    "\n",
    "NUM_TOPICS = 5\n",
    "ldamodel = gensim.models.ldamodel.LdaModel(corpus, num_topics = NUM_TOPICS, id2word = dictionary, passes = 25)\n",
    "ldamodel.save('model5.gensim')"
   ]
  },
  {
   "cell_type": "code",
   "execution_count": 42,
   "id": "chubby-popularity",
   "metadata": {},
   "outputs": [
    {
     "name": "stdout",
     "output_type": "stream",
     "text": [
      "(0, '0.030*\"menu\" + 0.019*\"food\" + 0.013*\"price\" + 0.012*\"portion\" + 0.008*\"good\" + 0.008*\"place\" + 0.008*\"like\"')\n",
      "(1, '0.016*\"food\" + 0.014*\"dinner\" + 0.012*\"service\" + 0.011*\"great\" + 0.011*\"night\" + 0.008*\"menu\" + 0.007*\"saturday\"')\n",
      "(2, '0.025*\"waiter\" + 0.021*\"table\" + 0.019*\"drink\" + 0.018*\"get\" + 0.017*\"order\" + 0.015*\"waitress\" + 0.014*\"wait\"')\n",
      "(3, '0.020*\"menu\" + 0.019*\"food\" + 0.011*\"service\" + 0.009*\"wine\" + 0.008*\"good\" + 0.008*\"like\" + 0.007*\"chef\"')\n",
      "(4, '0.028*\"food\" + 0.021*\"bar\" + 0.015*\"service\" + 0.011*\"price\" + 0.011*\"good\" + 0.010*\"atmosphere\" + 0.010*\"better\"')\n"
     ]
    }
   ],
   "source": [
    "topics = ldamodel.print_topics(num_words = 7)\n",
    "for topic in topics:\n",
    "    print(topic)"
   ]
  },
  {
   "cell_type": "code",
   "execution_count": 43,
   "id": "lucky-torture",
   "metadata": {},
   "outputs": [
    {
     "data": {
      "text/plain": [
       "(list,\n",
       " '0.030*\"menu\" + 0.019*\"food\" + 0.013*\"price\" + 0.012*\"portion\" + 0.008*\"good\" + 0.008*\"place\" + 0.008*\"like\"')"
      ]
     },
     "execution_count": 43,
     "metadata": {},
     "output_type": "execute_result"
    }
   ],
   "source": [
    "type(topics), topics[0][1]"
   ]
  },
  {
   "cell_type": "markdown",
   "id": "classified-daily",
   "metadata": {},
   "source": [
    "#### 8 Pre-Defined Categories from Paper: \n",
    "food, service, staff, price, ambience, menu, place, and miscellaneous"
   ]
  },
  {
   "cell_type": "code",
   "execution_count": 51,
   "id": "alone-mainstream",
   "metadata": {},
   "outputs": [],
   "source": [
    "new_doc = \"I've never had a bad meal here, friendly staff and fresh sushi!\"\n",
    "new_doc = prepare_text_for_lda(new_doc)\n",
    "new_doc_bow = dictionary.doc2bow(new_doc)\n",
    "print(new_doc_bow)\n",
    "print(ldamodel.get_document_topics(new_doc_bow))"
   ]
  },
  {
   "cell_type": "markdown",
   "id": "aggressive-utilization",
   "metadata": {},
   "source": [
    "### Load saved corpus and LDA model:"
   ]
  },
  {
   "cell_type": "code",
   "execution_count": 52,
   "id": "boolean-thomas",
   "metadata": {},
   "outputs": [
    {
     "data": {
      "text/html": [
       "\n",
       "<link rel=\"stylesheet\" type=\"text/css\" href=\"https://cdn.jsdelivr.net/gh/bmabey/pyLDAvis@3.3.1/pyLDAvis/js/ldavis.v1.0.0.css\">\n",
       "\n",
       "\n",
       "<div id=\"ldavis_el1646825750424612489519416998\"></div>\n",
       "<script type=\"text/javascript\">\n",
       "\n",
       "var ldavis_el1646825750424612489519416998_data = {\"mdsDat\": {\"x\": [0.07159502861267074, 0.08266255891422512, -0.2399669457260554, 0.0606610763992017, 0.025048281799957887], \"y\": [0.13270026473452745, -0.07885799104103412, 0.016208233847755552, 0.07474867768307245, -0.14479918522432125], \"topics\": [1, 2, 3, 4, 5], \"cluster\": [1, 1, 1, 1, 1], \"Freq\": [19.762946231371007, 10.39406464016423, 43.1870692827865, 12.98784618391195, 13.668073661766309]}, \"tinfo\": {\"Term\": [\"menu\", \"waiter\", \"drink\", \"waitress\", \"food\", \"table\", \"ask\", \"bar\", \"get\", \"price\", \"service\", \"reservation\", \"minutes\", \"wait\", \"portion\", \"order\", \"manager\", \"night\", \"tell\", \"take\", \"great\", \"better\", \"dinner\", \"atmosphere\", \"worth\", \"cheese\", \"good\", \"seat\", \"wine\", \"check\", \"cheese\", \"big\", \"meat\", \"limited\", \"sandwich\", \"chop\", \"vegetarian\", \"vegetable\", \"pancake\", \"raw\", \"break\", \"cut\", \"standard\", \"satisfy\", \"smoke\", \"charm\", \"crab\", \"offering\", \"york\", \"bigger\", \"superb\", \"spectacular\", \"breakfast\", \"basically\", \"fish\", \"toast\", \"freeze\", \"snack\", \"dry\", \"accomodating\", \"pie\", \"fresh\", \"grill\", \"pizza\", \"portion\", \"huge\", \"item\", \"outside\", \"slice\", \"tiny\", \"menu\", \"large\", \"small\", \"sushi\", \"price\", \"chicken\", \"fries\", \"lunch\", \"french\", \"hot\", \"side\", \"food\", \"average\", \"sauce\", \"steak\", \"good\", \"like\", \"salad\", \"serve\", \"place\", \"dish\", \"well\", \"entree\", \"restaurant\", \"best\", \"make\", \"great\", \"ambience\", \"saturday\", \"playing\", \"partner\", \"romantic\", \"spanish\", \"soy\", \"korean\", \"reading\", \"rooms\", \"guacamole\", \"veggie\", \"catch\", \"lemon\", \"joke\", \"knock\", \"scallop\", \"confuse\", \"dip\", \"hop\", \"window\", \"empanadas\", \"glaze\", \"chow\", \"overhear\", \"truffle\", \"eventually\", \"hardly\", \"horrific\", \"appreciate\", \"milk\", \"lighting\", \"disappoint\", \"hip\", \"night\", \"plan\", \"expensive\", \"duck\", \"flavor\", \"ambiance\", \"weekend\", \"dine\", \"fixe\", \"great\", \"friday\", \"dinner\", \"crowd\", \"worth\", \"food\", \"decor\", \"service\", \"go\", \"bit\", \"really\", \"dessert\", \"nice\", \"price\", \"menu\", \"appetizer\", \"good\", \"area\", \"everything\", \"bar\", \"wait\", \"friend\", \"special\", \"serve\", \"minutes\", \"reservation\", \"waitress\", \"manager\", \"tell\", \"check\", \"hour\", \"water\", \"hostess\", \"ask\", \"bartender\", \"empty\", \"rude\", \"finally\", \"leave\", \"wrong\", \"later\", \"request\", \"asking\", \"refill\", \"rush\", \"min\", \"attentive\", \"taking\", \"tea\", \"apologize\", \"return\", \"without\", \"entire\", \"spill\", \"seat\", \"take\", \"another\", \"table\", \"waiter\", \"get\", \"drink\", \"want\", \"order\", \"group\", \"come\", \"say\", \"never\", \"even\", \"would\", \"wait\", \"waiting\", \"time\", \"back\", \"server\", \"give\", \"could\", \"service\", \"staff\", \"bar\", \"one\", \"dinner\", \"food\", \"wine\", \"menu\", \"decent\", \"ingredient\", \"book\", \"garlic\", \"present\", \"mushroom\", \"pass\", \"listen\", \"creative\", \"advance\", \"mean\", \"filet\", \"consistently\", \"awful\", \"gnocchi\", \"formal\", \"entertain\", \"simple\", \"destination\", \"eager\", \"soda\", \"willing\", \"gratuity\", \"coat\", \"touch\", \"split\", \"chili\", \"produce\", \"inattentive\", \"sing\", \"type\", \"cafe\", \"calamari\", \"sweet\", \"fry\", \"taste\", \"unique\", \"spicy\", \"cook\", \"chef\", \"week\", \"italian\", \"mediocre\", \"salad\", \"menu\", \"selection\", \"dish\", \"wine\", \"regular\", \"food\", \"appetizer\", \"steak\", \"like\", \"service\", \"good\", \"make\", \"know\", \"waiter\", \"place\", \"restaurant\", \"staff\", \"price\", \"great\", \"plate\", \"portion\", \"dining\", \"dinner\", \"meal\", \"bar\", \"along\", \"cost\", \"relax\", \"club\", \"view\", \"buy\", \"band\", \"anyway\", \"learn\", \"bus\", \"local\", \"truly\", \"guess\", \"dirty\", \"shop\", \"boy\", \"particular\", \"mary\", \"con\", \"intimate\", \"environment\", \"perfectly\", \"grab\", \"home\", \"cheesy\", \"hope\", \"bringing\", \"store\", \"uncomfortable\", \"wish\", \"feel\", \"live\", \"music\", \"space\", \"better\", \"atmosphere\", \"worth\", \"do\", \"room\", \"street\", \"loud\", \"scene\", \"bar\", \"food\", \"dining\", \"price\", \"area\", \"front\", \"good\", \"service\", \"decor\", \"great\", \"place\", \"nice\", \"wall\", \"much\", \"wait\", \"make\", \"like\", \"although\", \"drink\", \"dinner\", \"one\", \"long\", \"time\"], \"Freq\": [447.0, 443.0, 330.0, 233.0, 592.0, 364.0, 202.0, 305.0, 319.0, 196.0, 392.0, 150.0, 145.0, 286.0, 113.0, 294.0, 131.0, 90.0, 124.0, 206.0, 137.0, 76.0, 257.0, 87.0, 60.0, 51.0, 212.0, 129.0, 160.0, 98.0, 50.43259396775101, 36.928316256670584, 32.29807582747779, 21.78642684149353, 18.039161472085922, 13.960166864941886, 12.595692439469843, 12.086913659649001, 11.973777240086523, 11.225702462470753, 10.711223884994627, 10.603739933806786, 9.990400631043894, 10.095059193210144, 10.083858211845156, 9.872513534936287, 9.13823355229821, 8.625807882370227, 8.705261067093781, 8.224304297802936, 8.221345372596657, 8.108001042265615, 8.004207929802657, 7.880506938666773, 31.407889813719454, 7.493564714390541, 7.483867282851879, 6.751363415986724, 6.750739683681029, 6.7344710886237085, 13.181778528236247, 35.36521943396123, 14.88155132630508, 37.695358243506384, 89.4033275755765, 24.61195447026453, 31.072298168615788, 18.01552387706472, 16.11380464495872, 21.083524481594196, 215.2830072035931, 34.39351549561104, 52.94173211671016, 37.80952999108306, 95.47334838674804, 29.953971499478317, 14.984691970827665, 42.54937489226991, 20.285806359572128, 20.797233043612128, 25.26367528413647, 140.97435977607785, 29.42718646386776, 26.37182277727153, 27.210752870418595, 61.65863280618066, 55.269430087638995, 29.39560093036045, 39.04692360768146, 58.220782609015, 38.459252833179036, 33.87009083892655, 35.76184894778741, 36.948113418633426, 27.60224715729438, 30.607325173532644, 26.530534758601686, 25.785260239396077, 28.437248893757573, 9.85839564834182, 7.383314666928737, 14.940873983786071, 6.612347499747385, 6.149237084056595, 6.130381672025612, 6.0377239396726, 5.675979977250238, 5.6741446205403685, 5.115191157363867, 5.002139584892476, 5.0014826080900585, 5.49545048631393, 4.80130115408763, 4.445717571573738, 4.337636442001295, 4.414105785878474, 4.236046403258161, 4.2303323052912525, 3.871232252219895, 3.8716051910136904, 3.7726114997014943, 3.7639072238253375, 3.76369875148411, 3.6665579747868544, 4.543403532336058, 3.662593444272124, 3.736607126210899, 8.245716736163065, 9.751957405279349, 11.398962688628583, 6.081735162379681, 40.16855738866403, 7.9173394609352545, 14.436808309878476, 5.564327258633524, 16.151608442991765, 9.66246631889415, 10.478527520345974, 8.983544357655978, 8.60892533902113, 41.53326622977133, 9.235754996180118, 52.40498947682162, 23.504491037644467, 19.806257490848985, 62.486704786522495, 16.687662397419825, 46.53057494599758, 24.721073390498752, 17.571777149920553, 18.36054225429327, 17.628933242723114, 17.077126069162638, 22.287689988858656, 29.731599875464322, 16.828671488812, 20.324878001304885, 12.298398602445793, 11.380480215391396, 18.013146434093688, 17.027442976361606, 13.605176135903836, 11.987517890747618, 12.407401633160466, 144.61825639106752, 149.68460489173208, 232.43224017066817, 130.65820160014204, 124.06388866766096, 97.48562747951392, 92.31571208573222, 88.1603592236902, 87.90528724147633, 199.6185487164741, 41.82296580868772, 41.03559442211044, 40.38368962509657, 35.17416556468759, 34.662097128068055, 32.836297538289855, 31.0781758362245, 26.683586332249423, 24.589793831798705, 24.24969231480667, 24.354105089175125, 23.73530786270869, 34.220717029902865, 23.19932204136365, 20.475612115725866, 19.63666782945169, 19.63431487592734, 45.85800406759784, 31.580271000448846, 18.838957483824736, 123.49717777972955, 193.56091604060111, 77.1604972690131, 336.2580837648613, 404.2916109837038, 291.0361934796516, 300.3206156443101, 79.92696482969183, 263.9313508966477, 34.481189354428494, 159.05237406317767, 88.3442220410024, 88.24414948702815, 149.0452368674994, 112.40140988265667, 226.46984855236468, 90.65922541698302, 135.79434823235457, 89.76607824214328, 92.55309074395609, 77.44252663713071, 104.83313671849808, 203.3511382554886, 111.95725204343918, 153.56109028238623, 121.64347149626778, 135.9522214405658, 155.63706756329546, 97.75648678254892, 100.86350096367286, 23.78743054055566, 21.20982958086895, 12.233238060946071, 10.337255422454648, 9.733536909264176, 9.625135248477273, 9.511234856126846, 9.022277647804321, 7.808650382708677, 7.20893872300298, 6.508557507772587, 6.402782463305273, 6.3932446634659925, 6.280988336310315, 6.020977759478098, 6.008924984232793, 5.902843899251185, 12.656808130421666, 5.294964123750213, 5.189898915539281, 5.185123905917903, 4.703135645567862, 4.597258124739591, 4.596064233477389, 4.592200957983438, 4.590535786546322, 4.590758790659732, 4.682186033738256, 4.5833032882579925, 4.61410757127607, 10.67819566392593, 13.120889965834685, 9.170336271712863, 15.99412717318353, 9.313705421824347, 17.680612582524038, 5.45105756087067, 10.900341086527815, 14.039956846201385, 34.991603761912415, 17.21453343007037, 14.822050878748072, 12.469183633490115, 27.45104986857149, 94.56998034035887, 17.697483135302882, 33.691488114451666, 42.587020555144136, 11.68855815107009, 91.45636969298877, 29.606314918533535, 19.04299164496169, 37.99144065438628, 53.71435594574349, 38.045721466329745, 24.634755081413832, 18.397207279882807, 33.47233200228159, 26.0203376801947, 22.443222841939463, 21.82833357226357, 20.983415143035018, 18.90780060833923, 16.343653211877943, 16.30106970162416, 15.41508963330183, 16.719330995717513, 15.595106996143073, 15.625744373218236, 19.46226914876857, 18.750979187696917, 11.575581799692078, 11.64943324438324, 9.160834319513231, 9.038846107337138, 8.555064375322777, 10.098335465368756, 7.3479802636414115, 7.237221216646344, 8.194065214730825, 6.5236604051906255, 6.512203278194983, 6.308582524722147, 5.924964291462967, 5.921942336125612, 5.817506599157527, 5.810861220002715, 5.810923763372366, 5.7069930495012775, 5.7052418351510426, 5.994478031984205, 5.701746420660254, 16.3029744168354, 5.321525402956334, 5.318418108067868, 5.308695828933206, 5.214515451035501, 5.105542104921597, 5.104920178329925, 22.49894731224177, 15.305367923710097, 28.5938162202783, 35.60031494628126, 48.463840082334166, 52.40349720516783, 38.12813090199248, 13.191960828203083, 48.37738293381218, 9.055150053222015, 18.661158725633125, 23.480922639094054, 104.21853962725902, 141.69220735694145, 34.71304080239546, 56.930468132970105, 21.51064750632756, 15.696594820920213, 53.86850841973845, 77.03058379131558, 22.79017262203683, 39.23166248260803, 47.212612626545976, 26.087028865189254, 14.061586051497768, 22.503027244205935, 40.764781673176415, 28.97543131215622, 29.833306565201102, 19.909018191739726, 30.015753173200892, 27.265245412412998, 23.79016979162824, 21.593284248643563, 18.78209655990956], \"Total\": [447.0, 443.0, 330.0, 233.0, 592.0, 364.0, 202.0, 305.0, 319.0, 196.0, 392.0, 150.0, 145.0, 286.0, 113.0, 294.0, 131.0, 90.0, 124.0, 206.0, 137.0, 76.0, 257.0, 87.0, 60.0, 51.0, 212.0, 129.0, 160.0, 98.0, 51.12967347540833, 37.62662142027514, 33.131169430715495, 22.479021121087186, 18.73402764839639, 14.65012969718548, 13.287734032526519, 12.777405741218626, 12.663965578211615, 11.92494436964642, 11.412512166929814, 11.301210863297445, 10.678999447668682, 10.790874543288501, 10.789554291507008, 10.564466851849085, 9.827616028669473, 9.316524598854654, 9.425284449188037, 8.918087863827303, 8.917980786498708, 8.804659295097396, 8.692904246616653, 8.57720180501527, 34.26153110203364, 8.182364130721577, 8.179941414706262, 7.444131335396681, 7.444055621806915, 7.439908733149251, 14.579242600763331, 39.69263172062794, 16.74582336153444, 44.616635364006186, 113.62131521154741, 29.196769723561633, 39.0547911886868, 21.68856738375775, 19.16323253563263, 26.979671466551245, 447.3443646491376, 50.71850489204457, 87.82906354959097, 59.009295984937204, 196.1546789365831, 46.09700108349968, 18.41225267512027, 81.32879063882007, 28.274594140236292, 29.346242331810608, 40.56161781630583, 592.246709175826, 52.34806249533317, 44.397443987304946, 48.32539212184045, 212.7279823289618, 182.91123572601677, 57.36798227343488, 101.03046440192142, 226.26541140215977, 102.51382920566746, 79.59746581146875, 92.50317945453239, 161.17758356198095, 57.06886186558367, 160.76997048804787, 137.9566409311464, 26.52837115010874, 29.3295580436788, 10.570410550367273, 8.092342918783299, 16.42477085844411, 7.318124762164694, 6.853673100356571, 6.852795701402098, 6.749484797687256, 6.3881259526464484, 6.388203321992619, 5.820673156399122, 5.715888186168253, 5.716606731343152, 6.293253550366541, 5.510147177693614, 5.149820097637807, 5.046034938938993, 5.147766267835183, 4.942991199456023, 4.942615015189616, 4.5807655815424795, 4.58147576891711, 4.478614258509663, 4.476812986629621, 4.477512143457763, 4.374608915437119, 5.42228380784668, 4.374051198563914, 4.475914074585707, 10.450727597913207, 12.56920318761442, 16.604306018800074, 8.109034491794132, 90.6396631244549, 11.49741929011632, 26.396305432337712, 7.420772422143825, 30.869204979441186, 15.518174206649677, 17.733584104972728, 14.429603613985623, 13.60646866794708, 137.9566409311464, 16.36117204718212, 257.8758006993949, 75.84632961305425, 60.586527639113115, 592.246709175826, 53.44121345427549, 392.80447769466343, 115.05079692221005, 63.042388008312095, 71.7915793454145, 89.22997358645229, 89.05400202509408, 196.1546789365831, 447.3443646491376, 103.79554624710386, 212.7279823289618, 45.52533002221516, 37.15138281399143, 305.01033055193477, 286.3218557505914, 94.18101747188605, 65.73528450527213, 101.03046440192142, 145.30968437505774, 150.4314801015955, 233.59232283102872, 131.3646591229095, 124.76390050061806, 98.18442760639581, 93.0062273316346, 88.85115022680105, 88.67959110256756, 202.47700285762306, 42.52229935918826, 41.72654045119609, 41.09848435603596, 35.86421945457736, 35.351907285738314, 33.530318546812275, 31.766819545112632, 27.38242735851359, 25.27853587609548, 24.93752345412121, 25.04977393594044, 24.424787371186536, 35.22439484294857, 23.90922902585736, 21.177983221551614, 20.326993830901223, 20.32663357740313, 47.491319034408086, 32.716568512789685, 19.529555203570162, 129.04680685190522, 206.84456647730138, 81.12839411254957, 364.605937593353, 443.5819854775448, 319.77879271077927, 330.8578586094289, 85.24442369581011, 294.04847624812663, 35.946887698383456, 183.73301707202353, 97.96056170760721, 98.25876470850464, 174.4486963017467, 130.84840941045664, 286.3218557505914, 103.24122614979396, 165.99683246568713, 103.57274143057035, 108.56777466593769, 88.79555367094187, 129.86669331209242, 392.80447769466343, 158.83378650944476, 305.01033055193477, 191.7890334676646, 257.8758006993949, 592.246709175826, 160.8664783289066, 447.3443646491376, 24.48691008132084, 21.916625354341566, 12.946455096368595, 11.034609354160173, 10.432813239161497, 10.32393351936822, 10.213166514116715, 9.721539781992464, 8.517418768104188, 7.915443467964703, 7.206573588029259, 7.097992339883553, 7.096455252463533, 6.986994514691014, 6.715208158024029, 6.7137120569323265, 6.603774035892681, 14.297035814412135, 6.001657257364004, 5.892771228299692, 5.892289972579278, 5.401352639101548, 5.292919757700024, 5.292770181991915, 5.292789797751365, 5.292189847932145, 5.292495087210859, 5.399138128378176, 5.290666136360421, 5.39691431598055, 12.653865309399956, 15.642892314462756, 10.964458071853047, 20.850117236859198, 12.112744724519427, 26.382107510465044, 6.496628013750346, 15.495037183809805, 21.442239590576015, 70.08028735102748, 28.233970102864156, 24.0543067384565, 19.181065578662466, 57.36798227343488, 447.3443646491376, 36.68275984075948, 102.51382920566746, 160.8664783289066, 19.096845611181642, 592.246709175826, 103.79554624710386, 48.32539212184045, 182.91123572601677, 392.80447769466343, 212.7279823289618, 160.76997048804787, 71.35621336969774, 443.5819854775448, 226.26541140215977, 161.17758356198095, 158.83378650944476, 196.1546789365831, 137.9566409311464, 76.36974173477495, 113.62131521154741, 87.21050906470205, 257.8758006993949, 144.61794731425695, 305.01033055193477, 20.166365683201793, 19.453727508371397, 12.271020095656109, 12.37738180735782, 9.857450998444659, 9.745146504445186, 9.253622206129261, 11.04727529463792, 8.046466300054428, 7.936763216295495, 9.038809974948446, 7.224289458009218, 7.223496539734035, 7.005425114910396, 6.6219248625076, 6.620832709906187, 6.5126306892488826, 6.511534942568178, 6.511816118683937, 6.402874522376113, 6.402500179108533, 6.728992504496698, 6.401883721110854, 18.332328554123798, 6.018533794368005, 6.017366802770177, 6.01561202368858, 5.909312917870651, 5.799876855216012, 5.799558262324088, 26.683437252141978, 18.115614405877267, 36.14703633082587, 45.87067521408282, 76.38184810922061, 87.88257781556345, 60.586527639113115, 17.57834296121786, 88.33763479097064, 11.442495224672273, 29.501170643758428, 41.159757560670386, 305.01033055193477, 592.246709175826, 87.21050906470205, 196.1546789365831, 45.52533002221516, 28.447142431308897, 212.7279823289618, 392.80447769466343, 53.44121345427549, 137.9566409311464, 226.26541140215977, 89.05400202509408, 24.55740274919171, 68.61261687556461, 286.3218557505914, 160.76997048804787, 182.91123572601677, 63.00919070891626, 330.8578586094289, 257.8758006993949, 191.7890334676646, 108.8164407832881, 165.99683246568713], \"Category\": [\"Default\", \"Default\", \"Default\", \"Default\", \"Default\", \"Default\", \"Default\", \"Default\", \"Default\", \"Default\", \"Default\", \"Default\", \"Default\", \"Default\", \"Default\", \"Default\", \"Default\", \"Default\", \"Default\", \"Default\", \"Default\", \"Default\", \"Default\", \"Default\", \"Default\", \"Default\", \"Default\", \"Default\", \"Default\", \"Default\", \"Topic1\", \"Topic1\", \"Topic1\", \"Topic1\", \"Topic1\", \"Topic1\", \"Topic1\", \"Topic1\", \"Topic1\", \"Topic1\", \"Topic1\", \"Topic1\", \"Topic1\", \"Topic1\", \"Topic1\", \"Topic1\", \"Topic1\", \"Topic1\", \"Topic1\", \"Topic1\", \"Topic1\", \"Topic1\", \"Topic1\", \"Topic1\", \"Topic1\", \"Topic1\", \"Topic1\", \"Topic1\", \"Topic1\", \"Topic1\", \"Topic1\", \"Topic1\", \"Topic1\", \"Topic1\", \"Topic1\", \"Topic1\", \"Topic1\", \"Topic1\", \"Topic1\", \"Topic1\", \"Topic1\", \"Topic1\", \"Topic1\", \"Topic1\", \"Topic1\", \"Topic1\", \"Topic1\", \"Topic1\", \"Topic1\", \"Topic1\", \"Topic1\", \"Topic1\", \"Topic1\", \"Topic1\", \"Topic1\", \"Topic1\", \"Topic1\", \"Topic1\", \"Topic1\", \"Topic1\", \"Topic1\", \"Topic1\", \"Topic1\", \"Topic1\", \"Topic1\", \"Topic1\", \"Topic1\", \"Topic2\", \"Topic2\", \"Topic2\", \"Topic2\", \"Topic2\", \"Topic2\", \"Topic2\", \"Topic2\", \"Topic2\", \"Topic2\", \"Topic2\", \"Topic2\", \"Topic2\", \"Topic2\", \"Topic2\", \"Topic2\", \"Topic2\", \"Topic2\", \"Topic2\", \"Topic2\", \"Topic2\", \"Topic2\", \"Topic2\", \"Topic2\", \"Topic2\", \"Topic2\", \"Topic2\", \"Topic2\", \"Topic2\", \"Topic2\", \"Topic2\", \"Topic2\", \"Topic2\", \"Topic2\", \"Topic2\", \"Topic2\", \"Topic2\", \"Topic2\", \"Topic2\", \"Topic2\", \"Topic2\", \"Topic2\", \"Topic2\", \"Topic2\", \"Topic2\", \"Topic2\", \"Topic2\", \"Topic2\", \"Topic2\", \"Topic2\", \"Topic2\", \"Topic2\", \"Topic2\", \"Topic2\", \"Topic2\", \"Topic2\", \"Topic2\", \"Topic2\", \"Topic2\", \"Topic2\", \"Topic2\", \"Topic2\", \"Topic2\", \"Topic2\", \"Topic2\", \"Topic2\", \"Topic2\", \"Topic3\", \"Topic3\", \"Topic3\", \"Topic3\", \"Topic3\", \"Topic3\", \"Topic3\", \"Topic3\", \"Topic3\", \"Topic3\", \"Topic3\", \"Topic3\", \"Topic3\", \"Topic3\", \"Topic3\", \"Topic3\", \"Topic3\", \"Topic3\", \"Topic3\", \"Topic3\", \"Topic3\", \"Topic3\", \"Topic3\", \"Topic3\", \"Topic3\", \"Topic3\", \"Topic3\", \"Topic3\", \"Topic3\", \"Topic3\", \"Topic3\", \"Topic3\", \"Topic3\", \"Topic3\", \"Topic3\", \"Topic3\", \"Topic3\", \"Topic3\", \"Topic3\", \"Topic3\", \"Topic3\", \"Topic3\", \"Topic3\", \"Topic3\", \"Topic3\", \"Topic3\", \"Topic3\", \"Topic3\", \"Topic3\", \"Topic3\", \"Topic3\", \"Topic3\", \"Topic3\", \"Topic3\", \"Topic3\", \"Topic3\", \"Topic3\", \"Topic3\", \"Topic3\", \"Topic3\", \"Topic4\", \"Topic4\", \"Topic4\", \"Topic4\", \"Topic4\", \"Topic4\", \"Topic4\", \"Topic4\", \"Topic4\", \"Topic4\", \"Topic4\", \"Topic4\", \"Topic4\", \"Topic4\", \"Topic4\", \"Topic4\", \"Topic4\", \"Topic4\", \"Topic4\", \"Topic4\", \"Topic4\", \"Topic4\", \"Topic4\", \"Topic4\", \"Topic4\", \"Topic4\", \"Topic4\", \"Topic4\", \"Topic4\", \"Topic4\", \"Topic4\", \"Topic4\", \"Topic4\", \"Topic4\", \"Topic4\", \"Topic4\", \"Topic4\", \"Topic4\", \"Topic4\", \"Topic4\", \"Topic4\", \"Topic4\", \"Topic4\", \"Topic4\", \"Topic4\", \"Topic4\", \"Topic4\", \"Topic4\", \"Topic4\", \"Topic4\", \"Topic4\", \"Topic4\", \"Topic4\", \"Topic4\", \"Topic4\", \"Topic4\", \"Topic4\", \"Topic4\", \"Topic4\", \"Topic4\", \"Topic4\", \"Topic4\", \"Topic4\", \"Topic4\", \"Topic4\", \"Topic4\", \"Topic4\", \"Topic4\", \"Topic4\", \"Topic5\", \"Topic5\", \"Topic5\", \"Topic5\", \"Topic5\", \"Topic5\", \"Topic5\", \"Topic5\", \"Topic5\", \"Topic5\", \"Topic5\", \"Topic5\", \"Topic5\", \"Topic5\", \"Topic5\", \"Topic5\", \"Topic5\", \"Topic5\", \"Topic5\", \"Topic5\", \"Topic5\", \"Topic5\", \"Topic5\", \"Topic5\", \"Topic5\", \"Topic5\", \"Topic5\", \"Topic5\", \"Topic5\", \"Topic5\", \"Topic5\", \"Topic5\", \"Topic5\", \"Topic5\", \"Topic5\", \"Topic5\", \"Topic5\", \"Topic5\", \"Topic5\", \"Topic5\", \"Topic5\", \"Topic5\", \"Topic5\", \"Topic5\", \"Topic5\", \"Topic5\", \"Topic5\", \"Topic5\", \"Topic5\", \"Topic5\", \"Topic5\", \"Topic5\", \"Topic5\", \"Topic5\", \"Topic5\", \"Topic5\", \"Topic5\", \"Topic5\", \"Topic5\", \"Topic5\", \"Topic5\", \"Topic5\", \"Topic5\", \"Topic5\", \"Topic5\"], \"logprob\": [30.0, 29.0, 28.0, 27.0, 26.0, 25.0, 24.0, 23.0, 22.0, 21.0, 20.0, 19.0, 18.0, 17.0, 16.0, 15.0, 14.0, 13.0, 12.0, 11.0, 10.0, 9.0, 8.0, 7.0, 6.0, 5.0, 4.0, 3.0, 2.0, 1.0, -4.9695, -5.2811, -5.4151, -5.8088, -5.9976, -6.2539, -6.3568, -6.398, -6.4074, -6.4719, -6.5188, -6.5289, -6.5885, -6.5781, -6.5792, -6.6004, -6.6777, -6.7354, -6.7262, -6.783, -6.7834, -6.7973, -6.8102, -6.8257, -5.4431, -6.8761, -6.8774, -6.9804, -6.9805, -6.9829, -6.3113, -5.3244, -6.19, -5.2606, -4.397, -5.6869, -5.4538, -5.9989, -6.1104, -5.8416, -3.5182, -5.3523, -4.9209, -5.2576, -4.3313, -5.4905, -6.1831, -5.1395, -5.8802, -5.8553, -5.6608, -3.9415, -5.5082, -5.6178, -5.5865, -4.7685, -4.8779, -5.5093, -5.2254, -4.8259, -5.2405, -5.3676, -5.3132, -5.2806, -5.5722, -5.4689, -5.6118, -4.9977, -4.8999, -5.9592, -6.2483, -5.5434, -6.3586, -6.4312, -6.4343, -6.4495, -6.5113, -6.5116, -6.6153, -6.6377, -6.6378, -6.5436, -6.6787, -6.7556, -6.7802, -6.7627, -6.8039, -6.8053, -6.894, -6.8939, -6.9198, -6.9221, -6.9221, -6.9483, -6.7339, -6.9494, -6.9294, -6.1379, -5.9701, -5.814, -6.4423, -4.5545, -6.1785, -5.5778, -6.5312, -5.4655, -5.9793, -5.8982, -6.0522, -6.0948, -4.5211, -6.0245, -4.2885, -5.0904, -5.2616, -4.1126, -5.4329, -4.4074, -5.0399, -5.3813, -5.3373, -5.378, -5.4098, -5.1435, -4.8553, -5.4245, -5.2357, -5.7381, -5.8157, -5.3564, -5.4127, -5.6371, -5.7637, -5.7293, -4.6978, -4.6633, -4.2233, -4.7993, -4.8511, -5.0922, -5.1466, -5.1927, -5.1956, -4.3754, -5.9384, -5.9574, -5.9734, -6.1115, -6.1262, -6.1803, -6.2354, -6.3878, -6.4695, -6.4835, -6.4792, -6.5049, -6.139, -6.5277, -6.6526, -6.6945, -6.6946, -5.8463, -6.2193, -6.7359, -4.8556, -4.4063, -5.326, -3.854, -3.6697, -3.9984, -3.967, -5.2907, -4.0962, -6.1314, -4.6026, -5.1906, -5.1917, -4.6676, -4.9498, -4.2492, -5.1647, -4.7607, -5.1746, -5.1441, -5.3223, -5.0195, -4.3569, -4.9537, -4.6378, -4.8708, -4.7596, -4.6243, -5.0894, -5.0581, -5.3012, -5.4159, -5.9662, -6.1346, -6.1948, -6.206, -6.2179, -6.2706, -6.4151, -6.495, -6.5972, -6.6136, -6.6151, -6.6328, -6.6751, -6.6771, -6.6949, -5.9321, -6.8036, -6.8236, -6.8245, -6.9221, -6.9449, -6.9451, -6.946, -6.9463, -6.9463, -6.9266, -6.9479, -6.9412, -6.1021, -5.8961, -6.2544, -5.6981, -6.2388, -5.5979, -6.7745, -6.0815, -5.8284, -4.9152, -5.6246, -5.7742, -5.9471, -5.1579, -3.921, -5.5969, -4.9531, -4.7188, -6.0117, -3.9545, -5.0823, -5.5236, -4.833, -4.4866, -4.8315, -5.2662, -5.5581, -4.9596, -5.2115, -5.3593, -5.3871, -5.4266, -5.5308, -5.6765, -5.6791, -5.735, -5.6538, -5.7234, -5.7214, -5.5529, -5.5901, -6.0725, -6.0661, -6.3064, -6.3198, -6.3749, -6.209, -6.527, -6.5421, -6.418, -6.6459, -6.6477, -6.6795, -6.7422, -6.7427, -6.7605, -6.7616, -6.7616, -6.7797, -6.78, -6.7305, -6.7806, -5.73, -6.8496, -6.8502, -6.852, -6.8699, -6.8911, -6.8912, -5.4079, -5.7932, -5.1682, -4.949, -4.6406, -4.5624, -4.8804, -5.9418, -4.6423, -6.318, -5.5949, -5.3652, -3.8749, -3.5677, -4.9743, -4.4795, -5.4528, -5.7679, -4.5348, -4.1772, -5.395, -4.8519, -4.6667, -5.2599, -5.8779, -5.4077, -4.8136, -5.1549, -5.1258, -5.5302, -5.1197, -5.2158, -5.3521, -5.449, -5.5885], \"loglift\": [30.0, 29.0, 28.0, 27.0, 26.0, 25.0, 24.0, 23.0, 22.0, 21.0, 20.0, 19.0, 18.0, 17.0, 16.0, 15.0, 14.0, 13.0, 12.0, 11.0, 10.0, 9.0, 8.0, 7.0, 6.0, 5.0, 4.0, 3.0, 2.0, 1.0, 1.6076, 1.6026, 1.5959, 1.5901, 1.5836, 1.5731, 1.5679, 1.5658, 1.5653, 1.5609, 1.5579, 1.5577, 1.5547, 1.5547, 1.5537, 1.5536, 1.5486, 1.5443, 1.5419, 1.5404, 1.54, 1.5389, 1.5388, 1.5366, 1.5344, 1.5334, 1.5324, 1.5237, 1.5236, 1.5217, 1.5206, 1.5059, 1.5033, 1.4528, 1.3816, 1.4505, 1.3927, 1.4358, 1.448, 1.3748, 0.89, 1.2329, 1.1152, 1.1762, 0.9013, 1.1903, 1.4154, 0.9735, 1.2893, 1.277, 1.1479, 0.186, 1.0454, 1.1005, 1.047, 0.383, 0.4246, 0.9527, 0.6707, 0.2639, 0.641, 0.7669, 0.671, 0.1484, 0.895, -0.0374, -0.0273, 2.2355, 2.233, 2.1942, 2.1722, 2.1692, 2.1625, 2.1555, 2.1525, 2.1525, 2.1457, 2.1454, 2.1347, 2.1306, 2.1303, 2.1284, 2.1262, 2.1169, 2.1127, 2.1102, 2.1096, 2.1083, 2.0956, 2.0956, 2.0924, 2.0905, 2.0903, 2.0874, 2.0871, 2.0864, 2.0834, 2.027, 2.0102, 1.8878, 1.9762, 1.4501, 1.8909, 1.6605, 1.976, 1.6162, 1.7902, 1.7378, 1.79, 1.8062, 1.0635, 1.6921, 0.6705, 1.0924, 1.1459, 0.015, 1.1, 0.1307, 0.7262, 0.9864, 0.9004, 0.6423, 0.6124, 0.0891, -0.4472, 0.4446, -0.0842, 0.9551, 1.0808, -0.5653, -0.5584, 0.3292, 0.5622, 0.1668, 0.8349, 0.8347, 0.8347, 0.8342, 0.834, 0.8325, 0.8322, 0.8318, 0.8309, 0.8254, 0.823, 0.8229, 0.8221, 0.8202, 0.8199, 0.8187, 0.8177, 0.8138, 0.812, 0.8117, 0.8115, 0.811, 0.8107, 0.8095, 0.8059, 0.8051, 0.805, 0.8046, 0.8043, 0.8036, 0.7957, 0.7733, 0.7895, 0.7587, 0.7469, 0.7454, 0.7428, 0.7752, 0.7316, 0.798, 0.6954, 0.7363, 0.7321, 0.6822, 0.6877, 0.6051, 0.7097, 0.6388, 0.6966, 0.68, 0.7028, 0.6255, 0.1813, 0.4899, 0.1534, 0.3843, 0.1995, -0.4968, 0.3415, -0.6499, 2.0122, 2.0084, 1.9845, 1.9759, 1.9718, 1.9711, 1.97, 1.9665, 1.9543, 1.9477, 1.9393, 1.9381, 1.9368, 1.9346, 1.932, 1.9303, 1.9289, 1.9193, 1.9159, 1.9141, 1.9133, 1.9027, 1.9002, 1.9, 1.8992, 1.8989, 1.8989, 1.8987, 1.8976, 1.8844, 1.8714, 1.8653, 1.8625, 1.776, 1.7784, 1.6409, 1.8657, 1.6894, 1.6177, 1.3466, 1.5464, 1.557, 1.6105, 1.3041, 0.4872, 1.3123, 0.9284, 0.7121, 1.5502, 0.1731, 0.7867, 1.1099, 0.4695, 0.0515, 0.3199, 0.1653, 0.6857, -0.543, -0.1217, 0.0696, 0.0565, -0.194, 0.0538, 0.4994, 0.0995, 0.3082, -0.6948, -0.186, -0.9303, 1.9546, 1.9533, 1.9318, 1.9295, 1.9168, 1.9149, 1.9116, 1.9003, 1.8993, 1.8978, 1.892, 1.8881, 1.8864, 1.8853, 1.8789, 1.8786, 1.8772, 1.8763, 1.8762, 1.8751, 1.8748, 1.8745, 1.8743, 1.8728, 1.867, 1.8666, 1.8651, 1.865, 1.8626, 1.8625, 1.8195, 1.8215, 1.7557, 1.7366, 1.5352, 1.4731, 1.527, 1.703, 1.388, 1.7561, 1.5321, 1.4288, 0.9163, 0.5598, 1.0689, 0.753, 1.2404, 1.3955, 0.6166, 0.361, 1.1379, 0.7327, 0.4231, 0.7623, 1.4325, 0.8753, 0.0408, 0.2766, 0.1767, 0.838, -0.4099, -0.2568, -0.097, 0.3728, -0.189]}, \"token.table\": {\"Topic\": [1, 4, 5, 1, 2, 3, 4, 5, 2, 5, 2, 1, 3, 4, 5, 3, 1, 2, 3, 4, 2, 1, 2, 3, 5, 3, 4, 3, 1, 2, 3, 4, 5, 3, 1, 2, 3, 5, 4, 2, 3, 4, 5, 5, 1, 2, 3, 4, 5, 3, 1, 1, 2, 4, 5, 1, 3, 5, 1, 1, 1, 2, 3, 4, 5, 4, 5, 1, 1, 5, 5, 5, 3, 4, 1, 4, 2, 1, 3, 1, 5, 1, 3, 4, 5, 1, 2, 4, 4, 1, 2, 5, 4, 1, 3, 4, 5, 2, 4, 1, 4, 5, 1, 3, 5, 1, 4, 1, 2, 3, 4, 5, 1, 4, 1, 2, 4, 5, 2, 3, 4, 5, 4, 2, 3, 5, 1, 2, 3, 4, 5, 1, 2, 3, 4, 5, 2, 5, 2, 4, 1, 2, 3, 4, 2, 5, 3, 5, 1, 1, 2, 4, 2, 3, 4, 3, 5, 1, 2, 3, 4, 5, 1, 3, 4, 2, 1, 2, 3, 4, 5, 2, 4, 5, 4, 5, 4, 3, 1, 5, 2, 3, 4, 1, 2, 4, 1, 2, 3, 4, 5, 4, 1, 1, 4, 1, 2, 4, 5, 1, 2, 1, 2, 3, 4, 5, 1, 5, 3, 5, 2, 4, 4, 1, 2, 3, 1, 3, 2, 4, 1, 2, 3, 4, 5, 1, 2, 3, 4, 5, 5, 4, 1, 2, 3, 4, 5, 1, 2, 3, 5, 2, 5, 2, 2, 3, 2, 5, 2, 5, 2, 3, 1, 3, 4, 5, 3, 1, 4, 4, 4, 5, 1, 2, 4, 5, 1, 3, 5, 2, 2, 1, 3, 4, 2, 1, 3, 4, 3, 5, 3, 2, 2, 3, 1, 2, 3, 4, 5, 1, 4, 2, 5, 5, 2, 3, 5, 2, 3, 4, 5, 1, 2, 3, 1, 3, 4, 5, 3, 5, 1, 3, 4, 5, 4, 1, 2, 4, 5, 1, 2, 3, 4, 5, 2, 5, 3, 3, 1, 2, 3, 4, 5, 4, 2, 4, 5, 3, 4, 1, 2, 3, 4, 5, 1, 2, 3, 5, 1, 1, 2, 3, 4, 5, 1, 3, 4, 1, 2, 3, 2, 1, 5, 2, 4, 5, 1, 2, 1, 5, 1, 2, 3, 4, 5, 1, 2, 1, 2, 3, 4, 5, 2, 1, 2, 4, 4, 1, 2, 4, 5, 4, 1, 2, 1, 2, 3, 4, 5, 3, 1, 4, 5, 5, 3, 3, 1, 2, 3, 4, 5, 3, 2, 3, 1, 2, 3, 4, 5, 2, 3, 3, 1, 4, 1, 1, 2, 1, 2, 4, 3, 5, 2, 1, 2, 4, 5, 2, 3, 1, 2, 4, 5, 1, 2, 3, 4, 5, 1, 2, 3, 4, 5, 1, 2, 3, 4, 5, 5, 1, 3, 4, 3, 4, 4, 1, 5, 1, 3, 4, 5, 1, 1, 4, 2, 1, 2, 5, 2, 1, 2, 3, 4, 1, 1, 4, 3, 4, 1, 3, 4, 5, 1, 1, 4, 5, 5, 4, 5, 1, 1, 2, 3, 4, 5, 2, 4, 1, 2, 3, 5, 1, 3, 5, 3, 1, 2, 4, 5, 3, 3, 1, 2, 3, 5, 1, 2, 3, 4, 1, 4, 2, 5, 2, 4, 5, 4, 5, 1, 1, 2, 5, 1, 2, 3, 5, 2, 3, 4, 5, 2, 3, 5, 2, 3, 1, 2, 4, 5, 2, 3, 4, 3, 1, 2, 3, 4, 2, 3, 1, 2, 3, 4, 5, 4, 2, 1, 2, 3, 4, 5, 2, 3, 1, 2, 5, 1, 2, 3, 4, 3, 1], \"Freq\": [0.9408717567744892, 0.8843471661859912, 0.9421628219221794, 0.2698019099869882, 0.031741401174939794, 0.30154331116192806, 0.07935350293734948, 0.31741401174939793, 0.6444057056476986, 0.3222028528238493, 0.9800827895870805, 0.012326140692649458, 0.9491128333340083, 0.024652281385298916, 0.9052005796265218, 0.9839133206994866, 0.24085811871429463, 0.16378352072572036, 0.31793271670286893, 0.28902974245715357, 0.8936722049049259, 0.10982896768810094, 0.26358952245144224, 0.1537605547633413, 0.4832474578276441, 0.9877664978112856, 0.009877664978112856, 0.9889813287660036, 0.022757639223980667, 0.102409376507913, 0.14792465495587434, 0.12516701573189368, 0.5916986198234974, 0.9652401454046932, 0.5539842091115665, 0.07641161504987123, 0.17192613386221028, 0.1910290376246781, 0.8587383298189605, 0.019310100055048688, 0.868954502477191, 0.028965150082573034, 0.07724040022019475, 0.9725921157704849, 0.04590008467800467, 0.059014394586006, 0.5049009314580514, 0.05245723963200533, 0.3409720576080347, 0.9877170480651489, 0.9327051154750997, 0.49063533220531713, 0.07009076174361674, 0.17522690435904184, 0.26284035653856275, 0.23565808429067178, 0.11782904214533589, 0.6284215581084581, 0.9833463277694795, 0.8970532834116646, 0.25379749253613954, 0.28552217910315697, 0.22207280596912207, 0.01586234328350872, 0.2379351492526308, 0.9268946526810979, 0.9062304188750626, 0.9638543941162091, 0.9202908226112883, 0.8311706240879146, 0.88197163115914, 0.9235366544663755, 0.12785359381083794, 0.8310483597704467, 0.09120377801134635, 0.8208340021021172, 0.8747546902858222, 0.9465693006788802, 0.9879367061022755, 0.9779057170010744, 0.8307671221650157, 0.25684826190622195, 0.17123217460414797, 0.4994271759287649, 0.05707739153471599, 0.6508015553041787, 0.06508015553041786, 0.26032062212167145, 0.9447339898495771, 0.9556229391395503, 0.8931334044676288, 0.969510368732951, 0.9446848867558931, 0.08708287848845363, 0.8653861049790079, 0.048984119149755166, 0.9214019392815138, 0.7927016059942427, 0.8454925433253596, 0.3264584359497848, 0.6529168718995696, 0.9766765773718097, 0.07700203758917806, 0.8085213946863696, 0.1155030563837671, 0.9157866947329727, 0.9392516932428162, 0.09229187537105552, 0.31642928698647604, 0.30324473336203955, 0.131845536244365, 0.15821464349323802, 0.9733470274167101, 0.9801154951889064, 0.09356074978121556, 0.3181065492561329, 0.16840934960618803, 0.4303794489935916, 0.20172593666141042, 0.6612127923901786, 0.13448395777427363, 0.011206996481189469, 0.8331032222583229, 0.6237177569643645, 0.13860394599208098, 0.2079059189881215, 0.022933016002878583, 0.1261315880158322, 0.2866627000359823, 0.1719976200215894, 0.4013277800503752, 0.100823729599615, 0.20164745919923, 0.527385662521063, 0.06592320781513288, 0.10470156535344634, 0.777036056394639, 0.8564790718024461, 0.6624787562663174, 0.3011267073937806, 0.3706816952838903, 0.06828347018387453, 0.22435997346130201, 0.33166256946453343, 0.22755273399915918, 0.7395463854972674, 0.9067337897333853, 0.09067337897333852, 0.9403476217310789, 0.13475686129599765, 0.808541167775986, 0.8484972190991888, 0.8732164806942776, 0.9825880496360379, 0.9085713665229818, 0.9780976873381583, 0.030565552729317446, 0.3891758122508091, 0.10810439229189142, 0.4324175691675657, 0.06486263537513486, 0.9371339058416744, 0.09171750972747049, 0.854119309337069, 0.05159109922170215, 0.9143674502844815, 0.1345844924543958, 0.2960858833996708, 0.32300278189054993, 0.2153351879270333, 0.026916898490879162, 0.5303772543429056, 0.15153635838368731, 0.2651886271714528, 0.1499057247461215, 0.8244814861036682, 0.845309449868811, 0.9759030178902427, 0.9048048643150086, 0.05837450737516185, 0.6614500955123945, 0.14698891011386545, 0.22048336517079817, 0.16197372116742195, 0.5183159077357502, 0.3239474423348439, 0.23807646005533137, 0.1046861030030535, 0.2634037430399411, 0.15365218343996564, 0.2397649455876387, 0.893693376945564, 0.8557518501801357, 0.7073487916680263, 0.24757207708380924, 0.8817757473564238, 0.02519359278161211, 0.02519359278161211, 0.05038718556322422, 0.42784220958092106, 0.5500828408897557, 0.03185355266410802, 0.1486499124325041, 0.6158353515060884, 0.11679635976839607, 0.08494280710428806, 0.81467489419526, 0.162934978839052, 0.4218349884870268, 0.5624466513160358, 0.16511534301151962, 0.7430190435518383, 0.9062396029660884, 0.07817904304433033, 0.00938148516531964, 0.9100040610360051, 0.12388007670703588, 0.8671605369492511, 0.8730811209649705, 0.8934942683542246, 0.06084269024866425, 0.21729532231665802, 0.651885966949974, 0.052150877355997924, 0.008691812892666321, 0.2914520192464545, 0.0940167804020821, 0.18333272178406007, 0.17863188276395597, 0.25384530708562164, 0.9372241454830549, 0.9446581903544087, 0.1957136663937446, 0.304443481056936, 0.08698385173055316, 0.13772443190670916, 0.2826975181242978, 0.8957457436494499, 0.05971638290996333, 0.9458398814740502, 0.027818820043354415, 0.9392312200433329, 0.9690597844818426, 0.9221206740902078, 0.7399154617077592, 0.12331924361795987, 0.054548444135049785, 0.8727751061607966, 0.8092266076541266, 0.8309282388599248, 0.9144840374326842, 0.9923365557495463, 0.7155941725880357, 0.17037956490191328, 0.06815182596076531, 0.03407591298038266, 0.9891810757139231, 0.8562591080007436, 0.13700145728011898, 0.945060578598449, 0.9581767110802034, 0.9370791164236957, 0.2494355819620268, 0.041572596993671135, 0.623588954905067, 0.08314519398734227, 0.7937566443571187, 0.15363031826266813, 0.051210106087556044, 0.7945015976209607, 0.9074167783106027, 0.08408517936502459, 0.6586672383593593, 0.2522555380950738, 0.8755550670761112, 0.6703667640118677, 0.2563167038868906, 0.059150008589282446, 0.9758609909303745, 0.869947097144078, 0.9900455926495293, 0.8746447385624547, 0.7955953810862021, 0.15911907621724042, 0.30069229909082595, 0.06013845981816519, 0.2678895028263722, 0.20775104300820701, 0.1640139813222687, 0.9786903033496497, 0.9257792697275182, 0.11040199659753952, 0.8280149744815465, 0.8850722630714039, 0.06432851460323678, 0.7351830240369919, 0.20217533161017276, 0.16948479978566042, 0.033896959957132086, 0.13558783982852834, 0.6440422391855096, 0.5287180549746812, 0.12295768720341421, 0.35657729288990125, 0.19282207930929884, 0.47272509766150683, 0.15550167686233776, 0.1803819451603118, 0.9972240698118943, 0.9214417265545032, 0.17286927704536303, 0.6361589395269359, 0.11063633730903234, 0.08297725298177426, 0.9713353946218776, 0.9658578477562944, 0.10426949388176086, 0.6256169632905653, 0.20853898776352173, 0.48061407942096107, 0.06706242968664573, 0.2257768466117073, 0.21236436067437814, 0.015647900260217337, 0.7654969402893472, 0.1913742350723368, 0.9826083492670381, 0.9978687974143663, 0.20404410496964875, 0.029149157852806966, 0.32064073638087665, 0.11659663141122786, 0.3352153153072801, 0.96862305256417, 0.11065914127485013, 0.08299435595613759, 0.8022787742426634, 0.8955944058635543, 0.09159488241786351, 0.03368742484088076, 0.19089540743165764, 0.3930199564769422, 0.08983313290901537, 0.29195768195429994, 0.07722888367743035, 0.4413079067281734, 0.4192425113917647, 0.05516348834102167, 0.9660254641635824, 0.13556562400833813, 0.026070312309295796, 0.6361156203468175, 0.07821093692788739, 0.12513749908461982, 0.06121439644805735, 0.8978111479048412, 0.03740879782936838, 0.8299303352548743, 0.09221448169498603, 0.046107240847493014, 0.8934927619148569, 0.9475704846076043, 0.9212866944696959, 0.8650152459249052, 0.979128264106722, 0.8916639446381397, 0.8916786938794306, 0.0685906687599562, 0.8517002613481683, 0.13447898863392133, 0.25633613039030484, 0.04861547300505782, 0.37124543022044154, 0.11490929983013666, 0.20772065738524703, 0.26092811998070997, 0.6958083199485599, 0.27497801515331893, 0.07856514718666256, 0.4059199271310899, 0.2095070591644335, 0.013094191197777093, 0.9460370486416487, 0.7833037298881299, 0.07040932403488809, 0.14081864806977618, 0.9585142349201793, 0.48431166931640485, 0.11215638657853585, 0.10705836900678423, 0.2905870015898429, 0.9260737327166565, 0.9224361690105021, 0.8889567396397322, 0.2507257837774494, 0.2507257837774494, 0.2367965735675911, 0.0835752612591498, 0.1671505225182996, 0.9624051098800562, 0.20945867613119876, 0.6283760283935963, 0.15709400709839907, 0.9779138088322381, 0.9860338401155408, 0.997131716703817, 0.22956045860913174, 0.031021683595828613, 0.5335729578482521, 0.1364954078216459, 0.06824770391082295, 0.9839307588165389, 0.9132547497482059, 0.060883649983213724, 0.045280813884874996, 0.0679212208273125, 0.26036467983803124, 0.07924142429853125, 0.5433697666185, 0.9392425954773704, 0.9732719010628276, 0.958092478653699, 0.505508453509422, 0.4706458015432549, 0.9608184816328473, 0.9267089483696765, 0.9546683232765127, 0.5856192984315599, 0.13514291502266768, 0.27028583004533535, 0.8983206962681828, 0.09187370757288234, 0.7767261621109399, 0.14577345338236913, 0.14577345338236913, 0.14577345338236913, 0.5587982379657483, 0.038745631309870576, 0.9531425302228163, 0.27260762394678534, 0.027260762394678534, 0.4906937231042136, 0.19082533676274974, 0.3860221788632923, 0.11877605503485918, 0.3662261696908158, 0.08908204127614439, 0.03959201834495306, 0.018421672601782495, 0.02763250890267374, 0.856607775982886, 0.10131919930980372, 0.009210836300891248, 0.030549549919662307, 0.1196524038520107, 0.5167965528076207, 0.13747297463848038, 0.19602627865116648, 0.906080954492726, 0.6163462244829387, 0.0493076979586351, 0.32050003673112815, 0.06994456843928092, 0.9092793897106519, 0.9264553237754275, 0.8349322052137691, 0.1565497884775817, 0.6034448946398544, 0.14801478547770014, 0.17078629093580786, 0.07970026910337699, 0.9268223440769463, 0.940338057540059, 0.8485665205324766, 0.8754429795736599, 0.1744033625549054, 0.021800420319363176, 0.7848151314970744, 0.9565291966858197, 0.3955257849065023, 0.18255036226453952, 0.25861301320809765, 0.1673378320758279, 0.9086098316665762, 0.25814717012615196, 0.7099047178469179, 0.9728844206613905, 0.9447884795655404, 0.050367117574977, 0.705139646049678, 0.13850957333118674, 0.10703012484682613, 0.9364173159670953, 0.5587124866348983, 0.39316804615048395, 0.041386110121103575, 0.8461220567418671, 0.1747870513144376, 0.7865417309149693, 0.897064054243257, 0.6439663338755971, 0.050839447411231344, 0.18641130717451493, 0.0677859298816418, 0.050839447411231344, 0.1918454440596013, 0.7673817762384052, 0.01097074838221977, 0.016456122573329655, 0.9215428641064607, 0.04936836771998897, 0.019338192286713754, 0.9379023259056171, 0.04351093264510595, 0.9619716292451737, 0.03790447747979679, 0.18952238739898394, 0.6822805946363422, 0.07580895495959358, 0.9443769876844152, 0.9938772313341208, 0.01807263401017079, 0.048193690693788774, 0.8192927417944091, 0.11446001539774833, 0.7783638146237363, 0.0741298871070225, 0.0741298871070225, 0.0741298871070225, 0.8554984706336568, 0.9446813856322508, 0.8933532443556917, 0.968953423127231, 0.07902723599066187, 0.8692995958972807, 0.8620872692328532, 0.7696300279802569, 0.15392600559605138, 0.93915777921094, 0.9783458916454689, 0.8590071741965288, 0.9130149367640833, 0.006985146120812222, 0.05937374202690388, 0.7893215116517811, 0.14319549547665056, 0.002254374687744443, 0.910767373848755, 0.07439436469556661, 0.011271873438722215, 0.038744212454396375, 0.8814308333375176, 0.07748842490879275, 0.004280962609902894, 0.9931833254974713, 0.203604593330399, 0.0814418373321596, 0.12216275599823939, 0.5700928613251172, 0.0351929178465131, 0.9384778092403494, 0.023461945231008734, 0.9904204928734359, 0.2479282925673246, 0.1062549825288534, 0.0354183275096178, 0.6021115676635026, 0.5639018001553262, 0.39473126010872833, 0.42714927734673097, 0.12563214039609732, 0.18844821059414602, 0.1130689263564876, 0.1507585684753168, 0.9256940500059059, 0.8092881981920953, 0.10567770350042664, 0.024865342000100387, 0.6092008790024595, 0.26730242650107916, 0.8621346271287088, 0.02105647980161357, 0.9685980708742243, 0.03301063912943001, 0.3301063912943001, 0.6272021434591701, 0.08406674601212955, 0.022927294366944424, 0.8559523230325917, 0.038212157278240705, 0.9841839096735128, 0.9548783433029786], \"Term\": [\"accomodating\", \"advance\", \"along\", \"although\", \"although\", \"although\", \"although\", \"although\", \"ambiance\", \"ambiance\", \"ambience\", \"another\", \"another\", \"another\", \"anyway\", \"apologize\", \"appetizer\", \"appetizer\", \"appetizer\", \"appetizer\", \"appreciate\", \"area\", \"area\", \"area\", \"area\", \"ask\", \"ask\", \"asking\", \"atmosphere\", \"atmosphere\", \"atmosphere\", \"atmosphere\", \"atmosphere\", \"attentive\", \"average\", \"average\", \"average\", \"average\", \"awful\", \"back\", \"back\", \"back\", \"back\", \"band\", \"bar\", \"bar\", \"bar\", \"bar\", \"bar\", \"bartender\", \"basically\", \"best\", \"best\", \"best\", \"best\", \"better\", \"better\", \"better\", \"big\", \"bigger\", \"bit\", \"bit\", \"bit\", \"bit\", \"bit\", \"book\", \"boy\", \"break\", \"breakfast\", \"bringing\", \"bus\", \"buy\", \"cafe\", \"cafe\", \"calamari\", \"calamari\", \"catch\", \"charm\", \"check\", \"cheese\", \"cheesy\", \"chef\", \"chef\", \"chef\", \"chef\", \"chicken\", \"chicken\", \"chicken\", \"chili\", \"chop\", \"chow\", \"club\", \"coat\", \"come\", \"come\", \"come\", \"con\", \"confuse\", \"consistently\", \"cook\", \"cook\", \"cost\", \"could\", \"could\", \"could\", \"crab\", \"creative\", \"crowd\", \"crowd\", \"crowd\", \"crowd\", \"crowd\", \"cut\", \"decent\", \"decor\", \"decor\", \"decor\", \"decor\", \"dessert\", \"dessert\", \"dessert\", \"dessert\", \"destination\", \"dine\", \"dine\", \"dine\", \"dining\", \"dining\", \"dining\", \"dining\", \"dining\", \"dinner\", \"dinner\", \"dinner\", \"dinner\", \"dinner\", \"dip\", \"dirty\", \"disappoint\", \"disappoint\", \"dish\", \"dish\", \"dish\", \"dish\", \"do\", \"do\", \"drink\", \"drink\", \"dry\", \"duck\", \"duck\", \"eager\", \"empanadas\", \"empty\", \"entertain\", \"entire\", \"entire\", \"entree\", \"entree\", \"entree\", \"entree\", \"environment\", \"even\", \"even\", \"even\", \"eventually\", \"everything\", \"everything\", \"everything\", \"everything\", \"everything\", \"expensive\", \"expensive\", \"expensive\", \"feel\", \"feel\", \"filet\", \"finally\", \"fish\", \"fish\", \"fixe\", \"fixe\", \"fixe\", \"flavor\", \"flavor\", \"flavor\", \"food\", \"food\", \"food\", \"food\", \"food\", \"formal\", \"freeze\", \"french\", \"french\", \"fresh\", \"fresh\", \"fresh\", \"fresh\", \"friday\", \"friday\", \"friend\", \"friend\", \"friend\", \"friend\", \"friend\", \"fries\", \"fries\", \"front\", \"front\", \"fry\", \"fry\", \"garlic\", \"get\", \"get\", \"get\", \"give\", \"give\", \"glaze\", \"gnocchi\", \"go\", \"go\", \"go\", \"go\", \"go\", \"good\", \"good\", \"good\", \"good\", \"good\", \"grab\", \"gratuity\", \"great\", \"great\", \"great\", \"great\", \"great\", \"grill\", \"grill\", \"group\", \"group\", \"guacamole\", \"guess\", \"hardly\", \"hip\", \"hip\", \"home\", \"home\", \"hop\", \"hope\", \"horrific\", \"hostess\", \"hot\", \"hot\", \"hot\", \"hot\", \"hour\", \"huge\", \"huge\", \"inattentive\", \"ingredient\", \"intimate\", \"italian\", \"italian\", \"italian\", \"italian\", \"item\", \"item\", \"item\", \"joke\", \"knock\", \"know\", \"know\", \"know\", \"korean\", \"large\", \"large\", \"large\", \"later\", \"learn\", \"leave\", \"lemon\", \"lighting\", \"lighting\", \"like\", \"like\", \"like\", \"like\", \"like\", \"limited\", \"listen\", \"live\", \"live\", \"local\", \"long\", \"long\", \"long\", \"loud\", \"loud\", \"loud\", \"loud\", \"lunch\", \"lunch\", \"lunch\", \"make\", \"make\", \"make\", \"make\", \"manager\", \"mary\", \"meal\", \"meal\", \"meal\", \"meal\", \"mean\", \"meat\", \"mediocre\", \"mediocre\", \"mediocre\", \"menu\", \"menu\", \"menu\", \"menu\", \"menu\", \"milk\", \"milk\", \"min\", \"minutes\", \"much\", \"much\", \"much\", \"much\", \"much\", \"mushroom\", \"music\", \"music\", \"music\", \"never\", \"never\", \"nice\", \"nice\", \"nice\", \"nice\", \"nice\", \"night\", \"night\", \"night\", \"night\", \"offering\", \"one\", \"one\", \"one\", \"one\", \"one\", \"order\", \"order\", \"order\", \"outside\", \"outside\", \"outside\", \"overhear\", \"pancake\", \"particular\", \"partner\", \"pass\", \"perfectly\", \"pie\", \"pie\", \"pizza\", \"pizza\", \"place\", \"place\", \"place\", \"place\", \"place\", \"plan\", \"plan\", \"plate\", \"plate\", \"plate\", \"plate\", \"plate\", \"playing\", \"portion\", \"portion\", \"portion\", \"present\", \"price\", \"price\", \"price\", \"price\", \"produce\", \"raw\", \"reading\", \"really\", \"really\", \"really\", \"really\", \"really\", \"refill\", \"regular\", \"regular\", \"regular\", \"relax\", \"request\", \"reservation\", \"restaurant\", \"restaurant\", \"restaurant\", \"restaurant\", \"restaurant\", \"return\", \"romantic\", \"romantic\", \"room\", \"room\", \"room\", \"room\", \"room\", \"rooms\", \"rude\", \"rush\", \"salad\", \"salad\", \"sandwich\", \"satisfy\", \"saturday\", \"sauce\", \"sauce\", \"sauce\", \"say\", \"say\", \"scallop\", \"scene\", \"scene\", \"scene\", \"scene\", \"seat\", \"seat\", \"selection\", \"selection\", \"selection\", \"selection\", \"serve\", \"serve\", \"serve\", \"serve\", \"serve\", \"server\", \"server\", \"server\", \"server\", \"server\", \"service\", \"service\", \"service\", \"service\", \"service\", \"shop\", \"side\", \"side\", \"side\", \"simple\", \"simple\", \"sing\", \"slice\", \"slice\", \"small\", \"small\", \"small\", \"small\", \"smoke\", \"snack\", \"soda\", \"soy\", \"space\", \"space\", \"space\", \"spanish\", \"special\", \"special\", \"special\", \"special\", \"spectacular\", \"spicy\", \"spicy\", \"spill\", \"split\", \"staff\", \"staff\", \"staff\", \"staff\", \"standard\", \"steak\", \"steak\", \"steak\", \"store\", \"street\", \"street\", \"superb\", \"sushi\", \"sushi\", \"sushi\", \"sushi\", \"sushi\", \"sweet\", \"sweet\", \"table\", \"table\", \"table\", \"table\", \"take\", \"take\", \"take\", \"taking\", \"taste\", \"taste\", \"taste\", \"taste\", \"tea\", \"tell\", \"time\", \"time\", \"time\", \"time\", \"tiny\", \"tiny\", \"tiny\", \"tiny\", \"toast\", \"touch\", \"truffle\", \"truly\", \"type\", \"type\", \"uncomfortable\", \"unique\", \"unique\", \"vegetable\", \"vegetarian\", \"veggie\", \"view\", \"wait\", \"wait\", \"wait\", \"wait\", \"waiter\", \"waiter\", \"waiter\", \"waiter\", \"waiting\", \"waiting\", \"waiting\", \"waitress\", \"waitress\", \"wall\", \"wall\", \"wall\", \"wall\", \"want\", \"want\", \"want\", \"water\", \"week\", \"week\", \"week\", \"week\", \"weekend\", \"weekend\", \"well\", \"well\", \"well\", \"well\", \"well\", \"willing\", \"window\", \"wine\", \"wine\", \"wine\", \"wine\", \"wish\", \"without\", \"without\", \"worth\", \"worth\", \"worth\", \"would\", \"would\", \"would\", \"would\", \"wrong\", \"york\"]}, \"R\": 30, \"lambda.step\": 0.01, \"plot.opts\": {\"xlab\": \"PC1\", \"ylab\": \"PC2\"}, \"topic.order\": [1, 2, 3, 4, 5]};\n",
       "\n",
       "function LDAvis_load_lib(url, callback){\n",
       "  var s = document.createElement('script');\n",
       "  s.src = url;\n",
       "  s.async = true;\n",
       "  s.onreadystatechange = s.onload = callback;\n",
       "  s.onerror = function(){console.warn(\"failed to load library \" + url);};\n",
       "  document.getElementsByTagName(\"head\")[0].appendChild(s);\n",
       "}\n",
       "\n",
       "if(typeof(LDAvis) !== \"undefined\"){\n",
       "   // already loaded: just create the visualization\n",
       "   !function(LDAvis){\n",
       "       new LDAvis(\"#\" + \"ldavis_el1646825750424612489519416998\", ldavis_el1646825750424612489519416998_data);\n",
       "   }(LDAvis);\n",
       "}else if(typeof define === \"function\" && define.amd){\n",
       "   // require.js is available: use it to load d3/LDAvis\n",
       "   require.config({paths: {d3: \"https://d3js.org/d3.v5\"}});\n",
       "   require([\"d3\"], function(d3){\n",
       "      window.d3 = d3;\n",
       "      LDAvis_load_lib(\"https://cdn.jsdelivr.net/gh/bmabey/pyLDAvis@3.3.1/pyLDAvis/js/ldavis.v3.0.0.js\", function(){\n",
       "        new LDAvis(\"#\" + \"ldavis_el1646825750424612489519416998\", ldavis_el1646825750424612489519416998_data);\n",
       "      });\n",
       "    });\n",
       "}else{\n",
       "    // require.js not available: dynamically load d3 & LDAvis\n",
       "    LDAvis_load_lib(\"https://d3js.org/d3.v5.js\", function(){\n",
       "         LDAvis_load_lib(\"https://cdn.jsdelivr.net/gh/bmabey/pyLDAvis@3.3.1/pyLDAvis/js/ldavis.v3.0.0.js\", function(){\n",
       "                 new LDAvis(\"#\" + \"ldavis_el1646825750424612489519416998\", ldavis_el1646825750424612489519416998_data);\n",
       "            })\n",
       "         });\n",
       "}\n",
       "</script>"
      ],
      "text/plain": [
       "<IPython.core.display.HTML object>"
      ]
     },
     "execution_count": 52,
     "metadata": {},
     "output_type": "execute_result"
    }
   ],
   "source": [
    "corpus = pickle.load(open('corpus.pkl', 'rb'))\n",
    "lda = gensim.models.ldamodel.LdaModel.load('model5.gensim')\n",
    "\n",
    "lda_display = pyLDAvis.gensim_models.prepare(lda, corpus, dictionary, sort_topics = False)\n",
    "pyLDAvis.display(lda_display)"
   ]
  },
  {
   "cell_type": "code",
   "execution_count": 53,
   "id": "monthly-edwards",
   "metadata": {},
   "outputs": [],
   "source": [
    "topic_map = {0: 'food', 1: 'price', 2: 'service', 3: 'miscellaneous', 4: 'place'}"
   ]
  },
  {
   "cell_type": "code",
   "execution_count": 54,
   "id": "starting-rehabilitation",
   "metadata": {},
   "outputs": [
    {
     "name": "stdout",
     "output_type": "stream",
     "text": [
      "[(0, 0.93695915), (1, 0.015644358), (2, 0.015810514), (3, 0.015486368), (4, 0.016099578)] \n",
      " [(0, 0.26843518), (1, 0.018934911), (2, 0.6752921), (3, 0.018913986), (4, 0.01842388)] \n",
      " [(0, 0.20702708), (1, 0.19987315), (2, 0.1597588), (3, 0.41030273), (4, 0.02303827)]\n"
     ]
    }
   ],
   "source": [
    "doc_topics = [lda.get_document_topics(doc) for doc in corpus]\n",
    "print(doc_topics[0], '\\n', doc_topics[30], '\\n', doc_topics[777])"
   ]
  },
  {
   "cell_type": "code",
   "execution_count": 55,
   "id": "greater-pocket",
   "metadata": {
    "scrolled": true
   },
   "outputs": [
    {
     "data": {
      "text/plain": [
       "[[(0, 0.22787905), (2, 0.7456758)],\n",
       " [(2, 0.9644147)],\n",
       " [(2, 0.96152306)],\n",
       " [(2, 0.961526)],\n",
       " [(3, 0.96699125)]]"
      ]
     },
     "execution_count": 55,
     "metadata": {},
     "output_type": "execute_result"
    }
   ],
   "source": [
    "[doc for doc in doc_topics if len(doc) < 3][0:5]"
   ]
  },
  {
   "cell_type": "code",
   "execution_count": 56,
   "id": "apart-testimony",
   "metadata": {
    "scrolled": true
   },
   "outputs": [
    {
     "data": {
      "text/plain": [
       "{'food': 0.93695915,\n",
       " 'price': 0.015644358,\n",
       " 'service': 0.015810514,\n",
       " 'miscellaneous': 0.015486368,\n",
       " 'place': 0.016099578}"
      ]
     },
     "execution_count": 56,
     "metadata": {},
     "output_type": "execute_result"
    }
   ],
   "source": [
    "A = {topic_map[x[0]]:x[-1] for x in doc_topics[0]}\n",
    "A"
   ]
  },
  {
   "cell_type": "code",
   "execution_count": 57,
   "id": "phantom-estate",
   "metadata": {},
   "outputs": [
    {
     "data": {
      "text/plain": [
       "{'food': 0.93695915, 'place': 0.016099578}"
      ]
     },
     "execution_count": 57,
     "metadata": {},
     "output_type": "execute_result"
    }
   ],
   "source": [
    "newA = dict(sorted(A.items(), key = itemgetter(1), reverse = True)[:2])\n",
    "newA"
   ]
  },
  {
   "cell_type": "code",
   "execution_count": 58,
   "id": "essential-workstation",
   "metadata": {},
   "outputs": [
    {
     "data": {
      "text/plain": [
       "2"
      ]
     },
     "execution_count": 58,
     "metadata": {},
     "output_type": "execute_result"
    }
   ],
   "source": [
    "len(newA)"
   ]
  },
  {
   "cell_type": "code",
   "execution_count": 59,
   "id": "dynamic-storage",
   "metadata": {},
   "outputs": [],
   "source": [
    "def get_strong_topics(document, topic_map, topic_threshold):\n",
    "    \"\"\"Gets all the topics with probabilities greater than a threshold probability. If only 1 topic has a probability greater than the\n",
    "    threshold, get the top 2 most probable topics.\n",
    "    Returns dictionary of strongest topics.\"\"\"\n",
    "    topic_dict = {topic_map[topic[0]]: topic[1] for topic in document}\n",
    "    output = {k:v for k,v in topic_dict.items() if v > topic_threshold}\n",
    "    \n",
    "    if len(output) == 1:\n",
    "        output = dict(sorted(topic_dict.items(), key = itemgetter(1), reverse = True)[0:2])\n",
    "    \n",
    "    return output        "
   ]
  },
  {
   "cell_type": "code",
   "execution_count": 60,
   "id": "instant-electron",
   "metadata": {},
   "outputs": [
    {
     "data": {
      "text/plain": [
       "{'food': 0.93695915, 'place': 0.016099578}"
      ]
     },
     "execution_count": 60,
     "metadata": {},
     "output_type": "execute_result"
    }
   ],
   "source": [
    "get_strong_topics(document = doc_topics[0], topic_map = topic_map, topic_threshold = 0.1)"
   ]
  },
  {
   "cell_type": "code",
   "execution_count": 61,
   "id": "infinite-mission",
   "metadata": {},
   "outputs": [
    {
     "data": {
      "text/plain": [
       "([{'food': 0.93695915, 'place': 0.016099578},\n",
       "  {'service': 0.8995743, 'food': 0.025316006},\n",
       "  {'service': 0.93798, 'place': 0.015599669}],\n",
       " 3148)"
      ]
     },
     "execution_count": 61,
     "metadata": {},
     "output_type": "execute_result"
    }
   ],
   "source": [
    "TOPIC_THRESHOLD = 0.1\n",
    "\n",
    "strong_topics = []\n",
    "    \n",
    "for doc in doc_topics:\n",
    "    tmp = get_strong_topics(document = doc, topic_map = topic_map, topic_threshold = TOPIC_THRESHOLD)\n",
    "    strong_topics.append(tmp)\n",
    "\n",
    "strong_topics[0:3], len(strong_topics)"
   ]
  },
  {
   "cell_type": "code",
   "execution_count": 62,
   "id": "placed-grant",
   "metadata": {},
   "outputs": [
    {
     "data": {
      "text/plain": [
       "{'food': 0.26843518, 'service': 0.6752921}"
      ]
     },
     "execution_count": 62,
     "metadata": {},
     "output_type": "execute_result"
    }
   ],
   "source": [
    "strong_topics[30]"
   ]
  },
  {
   "cell_type": "code",
   "execution_count": 160,
   "id": "favorite-johnston",
   "metadata": {},
   "outputs": [
    {
     "data": {
      "text/html": [
       "<div>\n",
       "<style scoped>\n",
       "    .dataframe tbody tr th:only-of-type {\n",
       "        vertical-align: middle;\n",
       "    }\n",
       "\n",
       "    .dataframe tbody tr th {\n",
       "        vertical-align: top;\n",
       "    }\n",
       "\n",
       "    .dataframe thead th {\n",
       "        text-align: right;\n",
       "    }\n",
       "</style>\n",
       "<table border=\"1\" class=\"dataframe\">\n",
       "  <thead>\n",
       "    <tr style=\"text-align: right;\">\n",
       "      <th></th>\n",
       "      <th>text</th>\n",
       "      <th>lda_topic</th>\n",
       "    </tr>\n",
       "  </thead>\n",
       "  <tbody>\n",
       "    <tr>\n",
       "      <th>0</th>\n",
       "      <td>It might be the best sit down food I've had in...</td>\n",
       "      <td>{'food': 0.93695915, 'place': 0.016099578}</td>\n",
       "    </tr>\n",
       "    <tr>\n",
       "      <th>1</th>\n",
       "      <td>Hostess was extremely accommodating when we ar...</td>\n",
       "      <td>{'service': 0.8995743, 'food': 0.025316006}</td>\n",
       "    </tr>\n",
       "    <tr>\n",
       "      <th>2</th>\n",
       "      <td>We were a couple of minutes late for our reser...</td>\n",
       "      <td>{'service': 0.93798, 'place': 0.015599669}</td>\n",
       "    </tr>\n",
       "    <tr>\n",
       "      <th>3</th>\n",
       "      <td>Though the service might be a little slow, the...</td>\n",
       "      <td>{'service': 0.8979046, 'place': 0.025716644}</td>\n",
       "    </tr>\n",
       "    <tr>\n",
       "      <th>4</th>\n",
       "      <td>Although we arrived at the restaurant 10 min l...</td>\n",
       "      <td>{'service': 0.89894724, 'food': 0.02541454}</td>\n",
       "    </tr>\n",
       "    <tr>\n",
       "      <th>...</th>\n",
       "      <td>...</td>\n",
       "      <td>...</td>\n",
       "    </tr>\n",
       "    <tr>\n",
       "      <th>3143</th>\n",
       "      <td>We walked out the door with only a drink in ea...</td>\n",
       "      <td>{'food': 0.2402088, 'service': 0.67299294}</td>\n",
       "    </tr>\n",
       "    <tr>\n",
       "      <th>3144</th>\n",
       "      <td>It took us 20 minutes to get a check, despite ...</td>\n",
       "      <td>{'service': 0.9381026, 'place': 0.015504326}</td>\n",
       "    </tr>\n",
       "    <tr>\n",
       "      <th>3145</th>\n",
       "      <td>The pancakes were good, but don't have blueber...</td>\n",
       "      <td>{'food': 0.83858186, 'miscellaneous': 0.111027...</td>\n",
       "    </tr>\n",
       "    <tr>\n",
       "      <th>3146</th>\n",
       "      <td>Our waiter disappeared entirely, our food, whe...</td>\n",
       "      <td>{'food': 0.124854095, 'service': 0.84866583}</td>\n",
       "    </tr>\n",
       "    <tr>\n",
       "      <th>3147</th>\n",
       "      <td>90 for a porterhouse steak for 2 (ordered medi...</td>\n",
       "      <td>{'food': 0.84876144, 'place': 0.104192734}</td>\n",
       "    </tr>\n",
       "  </tbody>\n",
       "</table>\n",
       "<p>3148 rows × 2 columns</p>\n",
       "</div>"
      ],
      "text/plain": [
       "                                                   text  \\\n",
       "0     It might be the best sit down food I've had in...   \n",
       "1     Hostess was extremely accommodating when we ar...   \n",
       "2     We were a couple of minutes late for our reser...   \n",
       "3     Though the service might be a little slow, the...   \n",
       "4     Although we arrived at the restaurant 10 min l...   \n",
       "...                                                 ...   \n",
       "3143  We walked out the door with only a drink in ea...   \n",
       "3144  It took us 20 minutes to get a check, despite ...   \n",
       "3145  The pancakes were good, but don't have blueber...   \n",
       "3146  Our waiter disappeared entirely, our food, whe...   \n",
       "3147  90 for a porterhouse steak for 2 (ordered medi...   \n",
       "\n",
       "                                              lda_topic  \n",
       "0            {'food': 0.93695915, 'place': 0.016099578}  \n",
       "1           {'service': 0.8995743, 'food': 0.025316006}  \n",
       "2            {'service': 0.93798, 'place': 0.015599669}  \n",
       "3          {'service': 0.8979046, 'place': 0.025716644}  \n",
       "4           {'service': 0.89894724, 'food': 0.02541454}  \n",
       "...                                                 ...  \n",
       "3143         {'food': 0.2402088, 'service': 0.67299294}  \n",
       "3144       {'service': 0.9381026, 'place': 0.015504326}  \n",
       "3145  {'food': 0.83858186, 'miscellaneous': 0.111027...  \n",
       "3146       {'food': 0.124854095, 'service': 0.84866583}  \n",
       "3147         {'food': 0.84876144, 'place': 0.104192734}  \n",
       "\n",
       "[3148 rows x 2 columns]"
      ]
     },
     "execution_count": 160,
     "metadata": {},
     "output_type": "execute_result"
    }
   ],
   "source": [
    "lda_df = pd.DataFrame({'text': train_df['text'], 'lda_topic': strong_topics})\n",
    "lda_df"
   ]
  },
  {
   "cell_type": "code",
   "execution_count": 64,
   "id": "thrown-serbia",
   "metadata": {},
   "outputs": [
    {
     "name": "stderr",
     "output_type": "stream",
     "text": [
      "[nltk_data] Downloading package vader_lexicon to\n",
      "[nltk_data]     C:\\Users\\Evan\\AppData\\Roaming\\nltk_data...\n",
      "[nltk_data]   Package vader_lexicon is already up-to-date!\n"
     ]
    }
   ],
   "source": [
    "nltk.download('vader_lexicon')\n",
    "sid = SentimentIntensityAnalyzer()"
   ]
  },
  {
   "cell_type": "code",
   "execution_count": 65,
   "id": "devoted-religious",
   "metadata": {},
   "outputs": [
    {
     "data": {
      "text/plain": [
       "{'neg': 0.0, 'neu': 0.481, 'pos': 0.519, 'compound': 0.8244}"
      ]
     },
     "execution_count": 65,
     "metadata": {},
     "output_type": "execute_result"
    }
   ],
   "source": [
    "sample = \"I've never had a bad meal here, friendly staff and fresh sushi!\"\n",
    "sid.polarity_scores(sample)"
   ]
  },
  {
   "cell_type": "code",
   "execution_count": 66,
   "id": "refined-colorado",
   "metadata": {},
   "outputs": [
    {
     "name": "stdout",
     "output_type": "stream",
     "text": [
      "It might be the best sit down food I've had in the area, so if you are going to the upright citizen brigade, or the garden, it could be just the place for you. \n",
      " {'neg': 0.0, 'neu': 0.887, 'pos': 0.113, 'compound': 0.6369}\n"
     ]
    }
   ],
   "source": [
    "sample2 = lda_df['text'][0]\n",
    "print(sample2, '\\n', sid.polarity_scores(sample2))"
   ]
  },
  {
   "cell_type": "code",
   "execution_count": 67,
   "id": "meaningful-services",
   "metadata": {},
   "outputs": [
    {
     "data": {
      "text/plain": [
       "{'neg': 0.0, 'neu': 1.0, 'pos': 0.0, 'compound': 0.0}"
      ]
     },
     "execution_count": 67,
     "metadata": {},
     "output_type": "execute_result"
    }
   ],
   "source": [
    "sample3 = \"This was a bland and flavorless experience to say the least.\"\n",
    "sid.polarity_scores(sample3)"
   ]
  },
  {
   "cell_type": "code",
   "execution_count": 161,
   "id": "special-lending",
   "metadata": {},
   "outputs": [
    {
     "data": {
      "text/html": [
       "<div>\n",
       "<style scoped>\n",
       "    .dataframe tbody tr th:only-of-type {\n",
       "        vertical-align: middle;\n",
       "    }\n",
       "\n",
       "    .dataframe tbody tr th {\n",
       "        vertical-align: top;\n",
       "    }\n",
       "\n",
       "    .dataframe thead th {\n",
       "        text-align: right;\n",
       "    }\n",
       "</style>\n",
       "<table border=\"1\" class=\"dataframe\">\n",
       "  <thead>\n",
       "    <tr style=\"text-align: right;\">\n",
       "      <th></th>\n",
       "      <th>text</th>\n",
       "      <th>lda_topic</th>\n",
       "      <th>vader_score</th>\n",
       "      <th>compound_score</th>\n",
       "      <th>sentiment</th>\n",
       "      <th>food</th>\n",
       "      <th>place</th>\n",
       "      <th>staff</th>\n",
       "      <th>miscellaneous</th>\n",
       "      <th>service</th>\n",
       "      <th>price</th>\n",
       "      <th>menu</th>\n",
       "      <th>ambience</th>\n",
       "    </tr>\n",
       "  </thead>\n",
       "  <tbody>\n",
       "    <tr>\n",
       "      <th>0</th>\n",
       "      <td>It might be the best sit down food I've had in...</td>\n",
       "      <td>{'food': 0.93695915, 'place': 0.016099578}</td>\n",
       "      <td>{'neg': 0.0, 'neu': 0.887, 'pos': 0.113, 'comp...</td>\n",
       "      <td>0.6369</td>\n",
       "      <td>positive</td>\n",
       "      <td>positive</td>\n",
       "      <td>positive</td>\n",
       "      <td>None</td>\n",
       "      <td>NaN</td>\n",
       "      <td>NaN</td>\n",
       "      <td>NaN</td>\n",
       "      <td>None</td>\n",
       "      <td>None</td>\n",
       "    </tr>\n",
       "    <tr>\n",
       "      <th>1</th>\n",
       "      <td>Hostess was extremely accommodating when we ar...</td>\n",
       "      <td>{'service': 0.8995743, 'food': 0.025316006}</td>\n",
       "      <td>{'neg': 0.0, 'neu': 1.0, 'pos': 0.0, 'compound...</td>\n",
       "      <td>0.0000</td>\n",
       "      <td>neutral</td>\n",
       "      <td>neutral</td>\n",
       "      <td>NaN</td>\n",
       "      <td>None</td>\n",
       "      <td>NaN</td>\n",
       "      <td>neutral</td>\n",
       "      <td>NaN</td>\n",
       "      <td>None</td>\n",
       "      <td>None</td>\n",
       "    </tr>\n",
       "    <tr>\n",
       "      <th>2</th>\n",
       "      <td>We were a couple of minutes late for our reser...</td>\n",
       "      <td>{'service': 0.93798, 'place': 0.015599669}</td>\n",
       "      <td>{'neg': 0.0, 'neu': 1.0, 'pos': 0.0, 'compound...</td>\n",
       "      <td>0.0000</td>\n",
       "      <td>neutral</td>\n",
       "      <td>NaN</td>\n",
       "      <td>neutral</td>\n",
       "      <td>None</td>\n",
       "      <td>NaN</td>\n",
       "      <td>neutral</td>\n",
       "      <td>NaN</td>\n",
       "      <td>None</td>\n",
       "      <td>None</td>\n",
       "    </tr>\n",
       "    <tr>\n",
       "      <th>3</th>\n",
       "      <td>Though the service might be a little slow, the...</td>\n",
       "      <td>{'service': 0.8979046, 'place': 0.025716644}</td>\n",
       "      <td>{'neg': 0.0, 'neu': 0.759, 'pos': 0.241, 'comp...</td>\n",
       "      <td>0.5413</td>\n",
       "      <td>positive</td>\n",
       "      <td>NaN</td>\n",
       "      <td>positive</td>\n",
       "      <td>None</td>\n",
       "      <td>NaN</td>\n",
       "      <td>positive</td>\n",
       "      <td>NaN</td>\n",
       "      <td>None</td>\n",
       "      <td>None</td>\n",
       "    </tr>\n",
       "    <tr>\n",
       "      <th>4</th>\n",
       "      <td>Although we arrived at the restaurant 10 min l...</td>\n",
       "      <td>{'service': 0.89894724, 'food': 0.02541454}</td>\n",
       "      <td>{'neg': 0.0, 'neu': 1.0, 'pos': 0.0, 'compound...</td>\n",
       "      <td>0.0000</td>\n",
       "      <td>neutral</td>\n",
       "      <td>neutral</td>\n",
       "      <td>NaN</td>\n",
       "      <td>None</td>\n",
       "      <td>NaN</td>\n",
       "      <td>neutral</td>\n",
       "      <td>NaN</td>\n",
       "      <td>None</td>\n",
       "      <td>None</td>\n",
       "    </tr>\n",
       "  </tbody>\n",
       "</table>\n",
       "</div>"
      ],
      "text/plain": [
       "                                                text  \\\n",
       "0  It might be the best sit down food I've had in...   \n",
       "1  Hostess was extremely accommodating when we ar...   \n",
       "2  We were a couple of minutes late for our reser...   \n",
       "3  Though the service might be a little slow, the...   \n",
       "4  Although we arrived at the restaurant 10 min l...   \n",
       "\n",
       "                                      lda_topic  \\\n",
       "0    {'food': 0.93695915, 'place': 0.016099578}   \n",
       "1   {'service': 0.8995743, 'food': 0.025316006}   \n",
       "2    {'service': 0.93798, 'place': 0.015599669}   \n",
       "3  {'service': 0.8979046, 'place': 0.025716644}   \n",
       "4   {'service': 0.89894724, 'food': 0.02541454}   \n",
       "\n",
       "                                         vader_score  compound_score  \\\n",
       "0  {'neg': 0.0, 'neu': 0.887, 'pos': 0.113, 'comp...          0.6369   \n",
       "1  {'neg': 0.0, 'neu': 1.0, 'pos': 0.0, 'compound...          0.0000   \n",
       "2  {'neg': 0.0, 'neu': 1.0, 'pos': 0.0, 'compound...          0.0000   \n",
       "3  {'neg': 0.0, 'neu': 0.759, 'pos': 0.241, 'comp...          0.5413   \n",
       "4  {'neg': 0.0, 'neu': 1.0, 'pos': 0.0, 'compound...          0.0000   \n",
       "\n",
       "  sentiment      food     place staff miscellaneous   service price  menu  \\\n",
       "0  positive  positive  positive  None           NaN       NaN   NaN  None   \n",
       "1   neutral   neutral       NaN  None           NaN   neutral   NaN  None   \n",
       "2   neutral       NaN   neutral  None           NaN   neutral   NaN  None   \n",
       "3  positive       NaN  positive  None           NaN  positive   NaN  None   \n",
       "4   neutral   neutral       NaN  None           NaN   neutral   NaN  None   \n",
       "\n",
       "  ambience  \n",
       "0     None  \n",
       "1     None  \n",
       "2     None  \n",
       "3     None  \n",
       "4     None  "
      ]
     },
     "execution_count": 161,
     "metadata": {},
     "output_type": "execute_result"
    }
   ],
   "source": [
    "lda_df['vader_score'] = lda_df['text'].apply(lambda review: sid.polarity_scores(review))\n",
    "lda_df['compound_score'] = lda_df['vader_score'].apply(lambda score_dict: score_dict['compound'])\n",
    "lda_df['sentiment'] = lda_df['compound_score'].apply(lambda sent: 'positive' if sent > 0 else ('neutral' if sent ==0 else 'negative'))\n",
    "\n",
    "for cat in categories:\n",
    "    lda_df[f'{cat}'] = lda_df['lda_topic'].apply(lambda x: encode_category(x, cat))\n",
    "    lda_df[f'{cat}'] = lda_df[f'{cat}'].mask(lda_df[f'{cat}'].notnull(), lda_df['sentiment'])\n",
    "\n",
    "# lda_df['staff'] = lda_df['service']\n",
    "# lda_df['menu'] = lda_df['food']\n",
    "# lda_df['ambience'] = lda_df['place']\n",
    "\n",
    "lda_df.head()"
   ]
  },
  {
   "cell_type": "code",
   "execution_count": 69,
   "id": "smooth-greenhouse",
   "metadata": {},
   "outputs": [
    {
     "name": "stdout",
     "output_type": "stream",
     "text": [
      "Hostess was extremely accommodating when we arrived an hour early for our reservation. \n",
      " We were a couple of minutes late for our reservation and minus one guest, but we didn't think we deserved the attitude we got from the hostess. \n",
      " Although we arrived at the restaurant 10 min late, the hostess did not have a table for us.\n"
     ]
    }
   ],
   "source": [
    "print(lda_df['text'][1], '\\n', lda_df['text'][2], '\\n', lda_df['text'][4])"
   ]
  },
  {
   "cell_type": "code",
   "execution_count": 153,
   "id": "dedicated-producer",
   "metadata": {},
   "outputs": [],
   "source": [
    "assert len(train_df) == len(lda_df)"
   ]
  },
  {
   "cell_type": "code",
   "execution_count": 165,
   "id": "ethical-birthday",
   "metadata": {},
   "outputs": [
    {
     "name": "stderr",
     "output_type": "stream",
     "text": [
      "C:\\ProgramData\\Anaconda3\\lib\\site-packages\\pandas\\core\\frame.py:4524: SettingWithCopyWarning: \n",
      "A value is trying to be set on a copy of a slice from a DataFrame\n",
      "\n",
      "See the caveats in the documentation: https://pandas.pydata.org/pandas-docs/stable/user_guide/indexing.html#returning-a-view-versus-a-copy\n",
      "  return super().replace(\n"
     ]
    },
    {
     "data": {
      "text/html": [
       "<div>\n",
       "<style scoped>\n",
       "    .dataframe tbody tr th:only-of-type {\n",
       "        vertical-align: middle;\n",
       "    }\n",
       "\n",
       "    .dataframe tbody tr th {\n",
       "        vertical-align: top;\n",
       "    }\n",
       "\n",
       "    .dataframe thead th {\n",
       "        text-align: right;\n",
       "    }\n",
       "</style>\n",
       "<table border=\"1\" class=\"dataframe\">\n",
       "  <thead>\n",
       "    <tr style=\"text-align: right;\">\n",
       "      <th></th>\n",
       "      <th>food</th>\n",
       "      <th>place</th>\n",
       "      <th>staff</th>\n",
       "      <th>miscellaneous</th>\n",
       "      <th>service</th>\n",
       "      <th>price</th>\n",
       "      <th>menu</th>\n",
       "      <th>ambience</th>\n",
       "    </tr>\n",
       "  </thead>\n",
       "  <tbody>\n",
       "    <tr>\n",
       "      <th>0</th>\n",
       "      <td>positive</td>\n",
       "      <td>neutral</td>\n",
       "      <td>N/A</td>\n",
       "      <td>N/A</td>\n",
       "      <td>N/A</td>\n",
       "      <td>N/A</td>\n",
       "      <td>N/A</td>\n",
       "      <td>N/A</td>\n",
       "    </tr>\n",
       "    <tr>\n",
       "      <th>1</th>\n",
       "      <td>N/A</td>\n",
       "      <td>N/A</td>\n",
       "      <td>positive</td>\n",
       "      <td>neutral</td>\n",
       "      <td>N/A</td>\n",
       "      <td>N/A</td>\n",
       "      <td>N/A</td>\n",
       "      <td>N/A</td>\n",
       "    </tr>\n",
       "    <tr>\n",
       "      <th>2</th>\n",
       "      <td>N/A</td>\n",
       "      <td>N/A</td>\n",
       "      <td>negative</td>\n",
       "      <td>neutral</td>\n",
       "      <td>N/A</td>\n",
       "      <td>N/A</td>\n",
       "      <td>N/A</td>\n",
       "      <td>N/A</td>\n",
       "    </tr>\n",
       "    <tr>\n",
       "      <th>3</th>\n",
       "      <td>N/A</td>\n",
       "      <td>N/A</td>\n",
       "      <td>positive</td>\n",
       "      <td>N/A</td>\n",
       "      <td>negative</td>\n",
       "      <td>N/A</td>\n",
       "      <td>N/A</td>\n",
       "      <td>N/A</td>\n",
       "    </tr>\n",
       "    <tr>\n",
       "      <th>4</th>\n",
       "      <td>N/A</td>\n",
       "      <td>N/A</td>\n",
       "      <td>negative</td>\n",
       "      <td>neutral</td>\n",
       "      <td>N/A</td>\n",
       "      <td>N/A</td>\n",
       "      <td>N/A</td>\n",
       "      <td>N/A</td>\n",
       "    </tr>\n",
       "    <tr>\n",
       "      <th>...</th>\n",
       "      <td>...</td>\n",
       "      <td>...</td>\n",
       "      <td>...</td>\n",
       "      <td>...</td>\n",
       "      <td>...</td>\n",
       "      <td>...</td>\n",
       "      <td>...</td>\n",
       "      <td>...</td>\n",
       "    </tr>\n",
       "    <tr>\n",
       "      <th>3143</th>\n",
       "      <td>neutral</td>\n",
       "      <td>N/A</td>\n",
       "      <td>N/A</td>\n",
       "      <td>N/A</td>\n",
       "      <td>N/A</td>\n",
       "      <td>negative</td>\n",
       "      <td>N/A</td>\n",
       "      <td>N/A</td>\n",
       "    </tr>\n",
       "    <tr>\n",
       "      <th>3144</th>\n",
       "      <td>N/A</td>\n",
       "      <td>N/A</td>\n",
       "      <td>negative</td>\n",
       "      <td>N/A</td>\n",
       "      <td>N/A</td>\n",
       "      <td>neutral</td>\n",
       "      <td>N/A</td>\n",
       "      <td>N/A</td>\n",
       "    </tr>\n",
       "    <tr>\n",
       "      <th>3145</th>\n",
       "      <td>negative</td>\n",
       "      <td>N/A</td>\n",
       "      <td>N/A</td>\n",
       "      <td>N/A</td>\n",
       "      <td>N/A</td>\n",
       "      <td>N/A</td>\n",
       "      <td>neutral</td>\n",
       "      <td>N/A</td>\n",
       "    </tr>\n",
       "    <tr>\n",
       "      <th>3146</th>\n",
       "      <td>neutral</td>\n",
       "      <td>N/A</td>\n",
       "      <td>negative</td>\n",
       "      <td>neutral</td>\n",
       "      <td>N/A</td>\n",
       "      <td>neutral</td>\n",
       "      <td>N/A</td>\n",
       "      <td>N/A</td>\n",
       "    </tr>\n",
       "    <tr>\n",
       "      <th>3147</th>\n",
       "      <td>neutral</td>\n",
       "      <td>N/A</td>\n",
       "      <td>N/A</td>\n",
       "      <td>N/A</td>\n",
       "      <td>positive</td>\n",
       "      <td>N/A</td>\n",
       "      <td>N/A</td>\n",
       "      <td>N/A</td>\n",
       "    </tr>\n",
       "  </tbody>\n",
       "</table>\n",
       "<p>3148 rows × 8 columns</p>\n",
       "</div>"
      ],
      "text/plain": [
       "          food    place     staff miscellaneous   service     price     menu  \\\n",
       "0     positive  neutral       N/A           N/A       N/A       N/A      N/A   \n",
       "1          N/A      N/A  positive       neutral       N/A       N/A      N/A   \n",
       "2          N/A      N/A  negative       neutral       N/A       N/A      N/A   \n",
       "3          N/A      N/A  positive           N/A  negative       N/A      N/A   \n",
       "4          N/A      N/A  negative       neutral       N/A       N/A      N/A   \n",
       "...        ...      ...       ...           ...       ...       ...      ...   \n",
       "3143   neutral      N/A       N/A           N/A       N/A  negative      N/A   \n",
       "3144       N/A      N/A  negative           N/A       N/A   neutral      N/A   \n",
       "3145  negative      N/A       N/A           N/A       N/A       N/A  neutral   \n",
       "3146   neutral      N/A  negative       neutral       N/A   neutral      N/A   \n",
       "3147   neutral      N/A       N/A           N/A  positive       N/A      N/A   \n",
       "\n",
       "     ambience  \n",
       "0         N/A  \n",
       "1         N/A  \n",
       "2         N/A  \n",
       "3         N/A  \n",
       "4         N/A  \n",
       "...       ...  \n",
       "3143      N/A  \n",
       "3144      N/A  \n",
       "3145      N/A  \n",
       "3146      N/A  \n",
       "3147      N/A  \n",
       "\n",
       "[3148 rows x 8 columns]"
      ]
     },
     "execution_count": 165,
     "metadata": {},
     "output_type": "execute_result"
    }
   ],
   "source": [
    "train_df_cats = train_df[categories]\n",
    "train_df_cats.replace(to_replace = [None], value = 'N/A', inplace = True)\n",
    "train_df_cats"
   ]
  },
  {
   "cell_type": "code",
   "execution_count": 166,
   "id": "residential-yesterday",
   "metadata": {},
   "outputs": [
    {
     "name": "stderr",
     "output_type": "stream",
     "text": [
      "C:\\ProgramData\\Anaconda3\\lib\\site-packages\\pandas\\core\\frame.py:4524: SettingWithCopyWarning: \n",
      "A value is trying to be set on a copy of a slice from a DataFrame\n",
      "\n",
      "See the caveats in the documentation: https://pandas.pydata.org/pandas-docs/stable/user_guide/indexing.html#returning-a-view-versus-a-copy\n",
      "  return super().replace(\n"
     ]
    },
    {
     "data": {
      "text/html": [
       "<div>\n",
       "<style scoped>\n",
       "    .dataframe tbody tr th:only-of-type {\n",
       "        vertical-align: middle;\n",
       "    }\n",
       "\n",
       "    .dataframe tbody tr th {\n",
       "        vertical-align: top;\n",
       "    }\n",
       "\n",
       "    .dataframe thead th {\n",
       "        text-align: right;\n",
       "    }\n",
       "</style>\n",
       "<table border=\"1\" class=\"dataframe\">\n",
       "  <thead>\n",
       "    <tr style=\"text-align: right;\">\n",
       "      <th></th>\n",
       "      <th>food</th>\n",
       "      <th>place</th>\n",
       "      <th>staff</th>\n",
       "      <th>miscellaneous</th>\n",
       "      <th>service</th>\n",
       "      <th>price</th>\n",
       "      <th>menu</th>\n",
       "      <th>ambience</th>\n",
       "    </tr>\n",
       "  </thead>\n",
       "  <tbody>\n",
       "    <tr>\n",
       "      <th>0</th>\n",
       "      <td>positive</td>\n",
       "      <td>positive</td>\n",
       "      <td>N/A</td>\n",
       "      <td>N/A</td>\n",
       "      <td>N/A</td>\n",
       "      <td>N/A</td>\n",
       "      <td>N/A</td>\n",
       "      <td>N/A</td>\n",
       "    </tr>\n",
       "    <tr>\n",
       "      <th>1</th>\n",
       "      <td>neutral</td>\n",
       "      <td>N/A</td>\n",
       "      <td>N/A</td>\n",
       "      <td>N/A</td>\n",
       "      <td>neutral</td>\n",
       "      <td>N/A</td>\n",
       "      <td>N/A</td>\n",
       "      <td>N/A</td>\n",
       "    </tr>\n",
       "    <tr>\n",
       "      <th>2</th>\n",
       "      <td>N/A</td>\n",
       "      <td>neutral</td>\n",
       "      <td>N/A</td>\n",
       "      <td>N/A</td>\n",
       "      <td>neutral</td>\n",
       "      <td>N/A</td>\n",
       "      <td>N/A</td>\n",
       "      <td>N/A</td>\n",
       "    </tr>\n",
       "    <tr>\n",
       "      <th>3</th>\n",
       "      <td>N/A</td>\n",
       "      <td>positive</td>\n",
       "      <td>N/A</td>\n",
       "      <td>N/A</td>\n",
       "      <td>positive</td>\n",
       "      <td>N/A</td>\n",
       "      <td>N/A</td>\n",
       "      <td>N/A</td>\n",
       "    </tr>\n",
       "    <tr>\n",
       "      <th>4</th>\n",
       "      <td>neutral</td>\n",
       "      <td>N/A</td>\n",
       "      <td>N/A</td>\n",
       "      <td>N/A</td>\n",
       "      <td>neutral</td>\n",
       "      <td>N/A</td>\n",
       "      <td>N/A</td>\n",
       "      <td>N/A</td>\n",
       "    </tr>\n",
       "    <tr>\n",
       "      <th>...</th>\n",
       "      <td>...</td>\n",
       "      <td>...</td>\n",
       "      <td>...</td>\n",
       "      <td>...</td>\n",
       "      <td>...</td>\n",
       "      <td>...</td>\n",
       "      <td>...</td>\n",
       "      <td>...</td>\n",
       "    </tr>\n",
       "    <tr>\n",
       "      <th>3143</th>\n",
       "      <td>neutral</td>\n",
       "      <td>N/A</td>\n",
       "      <td>N/A</td>\n",
       "      <td>N/A</td>\n",
       "      <td>neutral</td>\n",
       "      <td>N/A</td>\n",
       "      <td>N/A</td>\n",
       "      <td>N/A</td>\n",
       "    </tr>\n",
       "    <tr>\n",
       "      <th>3144</th>\n",
       "      <td>N/A</td>\n",
       "      <td>positive</td>\n",
       "      <td>N/A</td>\n",
       "      <td>N/A</td>\n",
       "      <td>positive</td>\n",
       "      <td>N/A</td>\n",
       "      <td>N/A</td>\n",
       "      <td>N/A</td>\n",
       "    </tr>\n",
       "    <tr>\n",
       "      <th>3145</th>\n",
       "      <td>positive</td>\n",
       "      <td>N/A</td>\n",
       "      <td>N/A</td>\n",
       "      <td>positive</td>\n",
       "      <td>N/A</td>\n",
       "      <td>N/A</td>\n",
       "      <td>N/A</td>\n",
       "      <td>N/A</td>\n",
       "    </tr>\n",
       "    <tr>\n",
       "      <th>3146</th>\n",
       "      <td>negative</td>\n",
       "      <td>N/A</td>\n",
       "      <td>N/A</td>\n",
       "      <td>N/A</td>\n",
       "      <td>negative</td>\n",
       "      <td>N/A</td>\n",
       "      <td>N/A</td>\n",
       "      <td>N/A</td>\n",
       "    </tr>\n",
       "    <tr>\n",
       "      <th>3147</th>\n",
       "      <td>neutral</td>\n",
       "      <td>neutral</td>\n",
       "      <td>N/A</td>\n",
       "      <td>N/A</td>\n",
       "      <td>N/A</td>\n",
       "      <td>N/A</td>\n",
       "      <td>N/A</td>\n",
       "      <td>N/A</td>\n",
       "    </tr>\n",
       "  </tbody>\n",
       "</table>\n",
       "<p>3148 rows × 8 columns</p>\n",
       "</div>"
      ],
      "text/plain": [
       "          food     place staff miscellaneous   service price menu ambience\n",
       "0     positive  positive   N/A           N/A       N/A   N/A  N/A      N/A\n",
       "1      neutral       N/A   N/A           N/A   neutral   N/A  N/A      N/A\n",
       "2          N/A   neutral   N/A           N/A   neutral   N/A  N/A      N/A\n",
       "3          N/A  positive   N/A           N/A  positive   N/A  N/A      N/A\n",
       "4      neutral       N/A   N/A           N/A   neutral   N/A  N/A      N/A\n",
       "...        ...       ...   ...           ...       ...   ...  ...      ...\n",
       "3143   neutral       N/A   N/A           N/A   neutral   N/A  N/A      N/A\n",
       "3144       N/A  positive   N/A           N/A  positive   N/A  N/A      N/A\n",
       "3145  positive       N/A   N/A      positive       N/A   N/A  N/A      N/A\n",
       "3146  negative       N/A   N/A           N/A  negative   N/A  N/A      N/A\n",
       "3147   neutral   neutral   N/A           N/A       N/A   N/A  N/A      N/A\n",
       "\n",
       "[3148 rows x 8 columns]"
      ]
     },
     "execution_count": 166,
     "metadata": {},
     "output_type": "execute_result"
    }
   ],
   "source": [
    "lda_df_cats = lda_df[categories]\n",
    "lda_df_cats.replace(to_replace = [None], value = 'N/A', inplace = True)\n",
    "# lda_df_cats['menu'] = lda_df_cats['food'].mask(train_df_cats['menu'].notnull(), lda_df_cats['food'])\n",
    "# lda_df_cats['ambience'] = lda_df_cats['place'].mask(train_df_cats['ambience'].notnull(), lda_df_cats['place'])\n",
    "# lda_df_cats['staff'] = lda_df_cats['service'].mask(train_df_cats['staff'].notnull(), lda_df_cats['service'])\n",
    "lda_df_cats"
   ]
  },
  {
   "cell_type": "code",
   "execution_count": 174,
   "id": "special-highway",
   "metadata": {
    "scrolled": true
   },
   "outputs": [
    {
     "data": {
      "text/html": [
       "<div>\n",
       "<style scoped>\n",
       "    .dataframe tbody tr th:only-of-type {\n",
       "        vertical-align: middle;\n",
       "    }\n",
       "\n",
       "    .dataframe tbody tr th {\n",
       "        vertical-align: top;\n",
       "    }\n",
       "\n",
       "    .dataframe thead th {\n",
       "        text-align: right;\n",
       "    }\n",
       "</style>\n",
       "<table border=\"1\" class=\"dataframe\">\n",
       "  <thead>\n",
       "    <tr style=\"text-align: right;\">\n",
       "      <th></th>\n",
       "      <th>food</th>\n",
       "      <th>place</th>\n",
       "      <th>staff</th>\n",
       "      <th>miscellaneous</th>\n",
       "      <th>service</th>\n",
       "      <th>price</th>\n",
       "      <th>menu</th>\n",
       "      <th>ambience</th>\n",
       "    </tr>\n",
       "  </thead>\n",
       "  <tbody>\n",
       "    <tr>\n",
       "      <th>0</th>\n",
       "      <td>1</td>\n",
       "      <td>0</td>\n",
       "      <td>1</td>\n",
       "      <td>1</td>\n",
       "      <td>1</td>\n",
       "      <td>1</td>\n",
       "      <td>1</td>\n",
       "      <td>1</td>\n",
       "    </tr>\n",
       "    <tr>\n",
       "      <th>1</th>\n",
       "      <td>0</td>\n",
       "      <td>1</td>\n",
       "      <td>0</td>\n",
       "      <td>0</td>\n",
       "      <td>0</td>\n",
       "      <td>1</td>\n",
       "      <td>1</td>\n",
       "      <td>1</td>\n",
       "    </tr>\n",
       "    <tr>\n",
       "      <th>2</th>\n",
       "      <td>1</td>\n",
       "      <td>0</td>\n",
       "      <td>0</td>\n",
       "      <td>0</td>\n",
       "      <td>0</td>\n",
       "      <td>1</td>\n",
       "      <td>1</td>\n",
       "      <td>1</td>\n",
       "    </tr>\n",
       "    <tr>\n",
       "      <th>3</th>\n",
       "      <td>1</td>\n",
       "      <td>0</td>\n",
       "      <td>0</td>\n",
       "      <td>1</td>\n",
       "      <td>0</td>\n",
       "      <td>1</td>\n",
       "      <td>1</td>\n",
       "      <td>1</td>\n",
       "    </tr>\n",
       "    <tr>\n",
       "      <th>4</th>\n",
       "      <td>0</td>\n",
       "      <td>1</td>\n",
       "      <td>0</td>\n",
       "      <td>0</td>\n",
       "      <td>0</td>\n",
       "      <td>1</td>\n",
       "      <td>1</td>\n",
       "      <td>1</td>\n",
       "    </tr>\n",
       "    <tr>\n",
       "      <th>...</th>\n",
       "      <td>...</td>\n",
       "      <td>...</td>\n",
       "      <td>...</td>\n",
       "      <td>...</td>\n",
       "      <td>...</td>\n",
       "      <td>...</td>\n",
       "      <td>...</td>\n",
       "      <td>...</td>\n",
       "    </tr>\n",
       "    <tr>\n",
       "      <th>3143</th>\n",
       "      <td>1</td>\n",
       "      <td>1</td>\n",
       "      <td>1</td>\n",
       "      <td>1</td>\n",
       "      <td>0</td>\n",
       "      <td>0</td>\n",
       "      <td>1</td>\n",
       "      <td>1</td>\n",
       "    </tr>\n",
       "    <tr>\n",
       "      <th>3144</th>\n",
       "      <td>1</td>\n",
       "      <td>0</td>\n",
       "      <td>0</td>\n",
       "      <td>1</td>\n",
       "      <td>0</td>\n",
       "      <td>0</td>\n",
       "      <td>1</td>\n",
       "      <td>1</td>\n",
       "    </tr>\n",
       "    <tr>\n",
       "      <th>3145</th>\n",
       "      <td>0</td>\n",
       "      <td>1</td>\n",
       "      <td>1</td>\n",
       "      <td>0</td>\n",
       "      <td>1</td>\n",
       "      <td>1</td>\n",
       "      <td>0</td>\n",
       "      <td>1</td>\n",
       "    </tr>\n",
       "    <tr>\n",
       "      <th>3146</th>\n",
       "      <td>0</td>\n",
       "      <td>1</td>\n",
       "      <td>0</td>\n",
       "      <td>0</td>\n",
       "      <td>0</td>\n",
       "      <td>0</td>\n",
       "      <td>1</td>\n",
       "      <td>1</td>\n",
       "    </tr>\n",
       "    <tr>\n",
       "      <th>3147</th>\n",
       "      <td>1</td>\n",
       "      <td>0</td>\n",
       "      <td>1</td>\n",
       "      <td>1</td>\n",
       "      <td>0</td>\n",
       "      <td>1</td>\n",
       "      <td>1</td>\n",
       "      <td>1</td>\n",
       "    </tr>\n",
       "  </tbody>\n",
       "</table>\n",
       "<p>3148 rows × 8 columns</p>\n",
       "</div>"
      ],
      "text/plain": [
       "      food  place  staff  miscellaneous  service  price  menu  ambience\n",
       "0        1      0      1              1        1      1     1         1\n",
       "1        0      1      0              0        0      1     1         1\n",
       "2        1      0      0              0        0      1     1         1\n",
       "3        1      0      0              1        0      1     1         1\n",
       "4        0      1      0              0        0      1     1         1\n",
       "...    ...    ...    ...            ...      ...    ...   ...       ...\n",
       "3143     1      1      1              1        0      0     1         1\n",
       "3144     1      0      0              1        0      0     1         1\n",
       "3145     0      1      1              0        1      1     0         1\n",
       "3146     0      1      0              0        0      0     1         1\n",
       "3147     1      0      1              1        0      1     1         1\n",
       "\n",
       "[3148 rows x 8 columns]"
      ]
     },
     "execution_count": 174,
     "metadata": {},
     "output_type": "execute_result"
    }
   ],
   "source": [
    "diff_df = train_df_cats.eq(lda_df_cats).astype(int)\n",
    "diff_df"
   ]
  },
  {
   "cell_type": "code",
   "execution_count": 181,
   "id": "sixth-integer",
   "metadata": {},
   "outputs": [],
   "source": [
    "reduced_cats = ['food', 'place', 'service', 'price', 'miscellaneous']"
   ]
  },
  {
   "cell_type": "code",
   "execution_count": 183,
   "id": "intense-dispatch",
   "metadata": {},
   "outputs": [
    {
     "data": {
      "text/plain": [
       "food             0.334498\n",
       "place            0.566709\n",
       "service          0.307179\n",
       "price            0.659784\n",
       "miscellaneous    0.521919\n",
       "dtype: float64"
      ]
     },
     "execution_count": 183,
     "metadata": {},
     "output_type": "execute_result"
    }
   ],
   "source": [
    "diff_df[reduced_cats].mean()"
   ]
  },
  {
   "cell_type": "code",
   "execution_count": 184,
   "id": "right-transcription",
   "metadata": {},
   "outputs": [
    {
     "data": {
      "text/plain": [
       "0.478017789072427"
      ]
     },
     "execution_count": 184,
     "metadata": {},
     "output_type": "execute_result"
    }
   ],
   "source": [
    "diff_df[reduced_cats].mean().mean()"
   ]
  },
  {
   "cell_type": "code",
   "execution_count": null,
   "id": "focal-bernard",
   "metadata": {},
   "outputs": [],
   "source": []
  }
 ],
 "metadata": {
  "kernelspec": {
   "display_name": "Python 3",
   "language": "python",
   "name": "python3"
  },
  "language_info": {
   "codemirror_mode": {
    "name": "ipython",
    "version": 3
   },
   "file_extension": ".py",
   "mimetype": "text/x-python",
   "name": "python",
   "nbconvert_exporter": "python",
   "pygments_lexer": "ipython3",
   "version": "3.8.3"
  }
 },
 "nbformat": 4,
 "nbformat_minor": 5
}
