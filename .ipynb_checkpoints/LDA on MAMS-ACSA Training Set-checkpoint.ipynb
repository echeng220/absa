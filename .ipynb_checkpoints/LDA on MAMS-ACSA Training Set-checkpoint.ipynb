{
 "cells": [
  {
   "cell_type": "code",
   "execution_count": 1,
   "id": "extended-rotation",
   "metadata": {
    "scrolled": false
   },
   "outputs": [
    {
     "name": "stderr",
     "output_type": "stream",
     "text": [
      "[nltk_data] Downloading package wordnet to\n",
      "[nltk_data]     C:\\Users\\Evan\\AppData\\Roaming\\nltk_data...\n",
      "[nltk_data]   Package wordnet is already up-to-date!\n"
     ]
    }
   ],
   "source": [
    "import xml.etree.ElementTree as et\n",
    "import pandas as pd\n",
    "import random\n",
    "import pickle\n",
    "import matplotlib.pyplot as plt\n",
    "\n",
    "import spacy\n",
    "spacy.load('en_core_web_sm')\n",
    "from spacy.lang.en import English\n",
    "parser  = English()\n",
    "\n",
    "import nltk\n",
    "nltk.download('wordnet')\n",
    "from nltk.corpus import wordnet as wn\n",
    "from nltk.stem.wordnet import WordNetLemmatizer\n",
    "from nltk.sentiment.vader import SentimentIntensityAnalyzer\n",
    "\n",
    "import gensim\n",
    "from gensim import corpora\n",
    "from gensim.models import TfidfModel\n",
    "\n",
    "import pyLDAvis.gensim_models\n",
    "\n",
    "import warnings\n",
    "warnings.filterwarnings(\"ignore\", category=DeprecationWarning)\n",
    "\n",
    "from operator import itemgetter\n",
    "\n",
    "from transformers import pipeline"
   ]
  },
  {
   "cell_type": "markdown",
   "id": "underlying-doctrine",
   "metadata": {},
   "source": [
    "# Data Collection:"
   ]
  },
  {
   "cell_type": "code",
   "execution_count": 2,
   "id": "crude-resource",
   "metadata": {},
   "outputs": [],
   "source": [
    "#initialize element tree to get training examples from .xml file\n",
    "tree = et.parse('train.xml')\n",
    "root = tree.getroot()"
   ]
  },
  {
   "cell_type": "markdown",
   "id": "considerable-combination",
   "metadata": {},
   "source": [
    "Here, I'm just exploring how to access elements of the .xml file."
   ]
  },
  {
   "cell_type": "code",
   "execution_count": 3,
   "id": "regulation-donor",
   "metadata": {},
   "outputs": [
    {
     "data": {
      "text/plain": [
       "'sentences'"
      ]
     },
     "execution_count": 3,
     "metadata": {},
     "output_type": "execute_result"
    }
   ],
   "source": [
    "root.tag"
   ]
  },
  {
   "cell_type": "code",
   "execution_count": 4,
   "id": "temporal-auditor",
   "metadata": {},
   "outputs": [
    {
     "data": {
      "text/plain": [
       "'aspectCategories'"
      ]
     },
     "execution_count": 4,
     "metadata": {},
     "output_type": "execute_result"
    }
   ],
   "source": [
    "root[0][1].tag"
   ]
  },
  {
   "cell_type": "code",
   "execution_count": 5,
   "id": "automatic-neighbor",
   "metadata": {},
   "outputs": [
    {
     "data": {
      "text/plain": [
       "2"
      ]
     },
     "execution_count": 5,
     "metadata": {},
     "output_type": "execute_result"
    }
   ],
   "source": [
    "len(root[0][1])"
   ]
  },
  {
   "cell_type": "code",
   "execution_count": 6,
   "id": "charged-teddy",
   "metadata": {},
   "outputs": [
    {
     "data": {
      "text/plain": [
       "\"It might be the best sit down food I've had in the area, so if you are going to the upright citizen brigade, or the garden, it could be just the place for you.\""
      ]
     },
     "execution_count": 6,
     "metadata": {},
     "output_type": "execute_result"
    }
   ],
   "source": [
    "root[0][0].text"
   ]
  },
  {
   "cell_type": "code",
   "execution_count": 7,
   "id": "reverse-elite",
   "metadata": {},
   "outputs": [
    {
     "data": {
      "text/plain": [
       "'food'"
      ]
     },
     "execution_count": 7,
     "metadata": {},
     "output_type": "execute_result"
    }
   ],
   "source": [
    "root[0][1][0].attrib['category']"
   ]
  },
  {
   "cell_type": "code",
   "execution_count": 8,
   "id": "subsequent-republic",
   "metadata": {},
   "outputs": [
    {
     "data": {
      "text/plain": [
       "3149"
      ]
     },
     "execution_count": 8,
     "metadata": {},
     "output_type": "execute_result"
    }
   ],
   "source": [
    "len(root)"
   ]
  },
  {
   "cell_type": "code",
   "execution_count": 9,
   "id": "latter-community",
   "metadata": {},
   "outputs": [
    {
     "name": "stdout",
     "output_type": "stream",
     "text": [
      "Most aspect categories in a single document:  5\n"
     ]
    }
   ],
   "source": [
    "#What is the most categories contained in a single review?\n",
    "m = len(root) - 1\n",
    "max_aspects = 0\n",
    "\n",
    "for i in range(m):\n",
    "    if len(root[i][1]) > max_aspects:\n",
    "        max_aspects = len(root[i][1])\n",
    "\n",
    "print('Most aspect categories in a single document: ', max_aspects)"
   ]
  },
  {
   "cell_type": "code",
   "execution_count": 10,
   "id": "distinct-anatomy",
   "metadata": {},
   "outputs": [],
   "source": [
    "#For every training example, we collect sentiments for every category, adding the text and sentiments to the \"corpus\".\n",
    "#We also find all the unique categories in the training set, appending the to the \"categories\" list\n",
    "\n",
    "corpus = {}\n",
    "categories = []\n",
    "\n",
    "for i in range(m):\n",
    "    doc = {}\n",
    "    doc.update({'text': root[i][0].text})\n",
    "    tmp = {}\n",
    "    for j in range(len(root[i][1])):\n",
    "        if root[i][1][j].attrib['category'] not in categories:\n",
    "            categories.append(root[i][1][j].attrib['category'])\n",
    "        tmp.update({root[i][1][j].attrib['category']: root[i][1][j].attrib['polarity']})\n",
    "    doc.update({'sentiment': tmp})\n",
    "    corpus.update({i: doc})"
   ]
  },
  {
   "cell_type": "code",
   "execution_count": 11,
   "id": "statewide-gregory",
   "metadata": {
    "scrolled": true
   },
   "outputs": [
    {
     "data": {
      "text/plain": [
       "{'text': \"It might be the best sit down food I've had in the area, so if you are going to the upright citizen brigade, or the garden, it could be just the place for you.\",\n",
       " 'sentiment': {'food': 'positive', 'place': 'neutral'}}"
      ]
     },
     "execution_count": 11,
     "metadata": {},
     "output_type": "execute_result"
    }
   ],
   "source": [
    "corpus[0]"
   ]
  },
  {
   "cell_type": "code",
   "execution_count": 12,
   "id": "ranging-binary",
   "metadata": {
    "scrolled": true
   },
   "outputs": [
    {
     "name": "stdout",
     "output_type": "stream",
     "text": [
      "The unique categories in the training set are:\n",
      " ['food', 'place', 'staff', 'miscellaneous', 'service', 'price', 'menu', 'ambience']\n"
     ]
    }
   ],
   "source": [
    "print('The unique categories in the training set are:\\n', categories)"
   ]
  },
  {
   "cell_type": "code",
   "execution_count": 13,
   "id": "latin-delaware",
   "metadata": {},
   "outputs": [],
   "source": [
    "def encode_category(sentiments, category):\n",
    "    \"\"\"Return the sentiment for a specific category in a dictionary where the keys are the categories, \n",
    "    and the values are the sentiments for that category.\"\"\"\n",
    "    if category in sentiments.keys():\n",
    "        output = sentiments[category]\n",
    "    else:\n",
    "        output = None\n",
    "    return output"
   ]
  },
  {
   "cell_type": "code",
   "execution_count": 14,
   "id": "southern-racing",
   "metadata": {
    "scrolled": false
   },
   "outputs": [
    {
     "data": {
      "text/html": [
       "<div>\n",
       "<style scoped>\n",
       "    .dataframe tbody tr th:only-of-type {\n",
       "        vertical-align: middle;\n",
       "    }\n",
       "\n",
       "    .dataframe tbody tr th {\n",
       "        vertical-align: top;\n",
       "    }\n",
       "\n",
       "    .dataframe thead th {\n",
       "        text-align: right;\n",
       "    }\n",
       "</style>\n",
       "<table border=\"1\" class=\"dataframe\">\n",
       "  <thead>\n",
       "    <tr style=\"text-align: right;\">\n",
       "      <th></th>\n",
       "      <th>text</th>\n",
       "      <th>sentiment</th>\n",
       "      <th>food</th>\n",
       "      <th>place</th>\n",
       "      <th>staff</th>\n",
       "      <th>miscellaneous</th>\n",
       "      <th>service</th>\n",
       "      <th>price</th>\n",
       "      <th>menu</th>\n",
       "      <th>ambience</th>\n",
       "    </tr>\n",
       "  </thead>\n",
       "  <tbody>\n",
       "    <tr>\n",
       "      <th>0</th>\n",
       "      <td>It might be the best sit down food I've had in...</td>\n",
       "      <td>{'food': 'positive', 'place': 'neutral'}</td>\n",
       "      <td>positive</td>\n",
       "      <td>neutral</td>\n",
       "      <td>None</td>\n",
       "      <td>None</td>\n",
       "      <td>None</td>\n",
       "      <td>None</td>\n",
       "      <td>None</td>\n",
       "      <td>None</td>\n",
       "    </tr>\n",
       "    <tr>\n",
       "      <th>1</th>\n",
       "      <td>Hostess was extremely accommodating when we ar...</td>\n",
       "      <td>{'staff': 'positive', 'miscellaneous': 'neutral'}</td>\n",
       "      <td>None</td>\n",
       "      <td>None</td>\n",
       "      <td>positive</td>\n",
       "      <td>neutral</td>\n",
       "      <td>None</td>\n",
       "      <td>None</td>\n",
       "      <td>None</td>\n",
       "      <td>None</td>\n",
       "    </tr>\n",
       "    <tr>\n",
       "      <th>2</th>\n",
       "      <td>We were a couple of minutes late for our reser...</td>\n",
       "      <td>{'miscellaneous': 'neutral', 'staff': 'negative'}</td>\n",
       "      <td>None</td>\n",
       "      <td>None</td>\n",
       "      <td>negative</td>\n",
       "      <td>neutral</td>\n",
       "      <td>None</td>\n",
       "      <td>None</td>\n",
       "      <td>None</td>\n",
       "      <td>None</td>\n",
       "    </tr>\n",
       "    <tr>\n",
       "      <th>3</th>\n",
       "      <td>Though the service might be a little slow, the...</td>\n",
       "      <td>{'service': 'negative', 'staff': 'positive'}</td>\n",
       "      <td>None</td>\n",
       "      <td>None</td>\n",
       "      <td>positive</td>\n",
       "      <td>None</td>\n",
       "      <td>negative</td>\n",
       "      <td>None</td>\n",
       "      <td>None</td>\n",
       "      <td>None</td>\n",
       "    </tr>\n",
       "    <tr>\n",
       "      <th>4</th>\n",
       "      <td>Although we arrived at the restaurant 10 min l...</td>\n",
       "      <td>{'staff': 'negative', 'miscellaneous': 'neutral'}</td>\n",
       "      <td>None</td>\n",
       "      <td>None</td>\n",
       "      <td>negative</td>\n",
       "      <td>neutral</td>\n",
       "      <td>None</td>\n",
       "      <td>None</td>\n",
       "      <td>None</td>\n",
       "      <td>None</td>\n",
       "    </tr>\n",
       "  </tbody>\n",
       "</table>\n",
       "</div>"
      ],
      "text/plain": [
       "                                                text  \\\n",
       "0  It might be the best sit down food I've had in...   \n",
       "1  Hostess was extremely accommodating when we ar...   \n",
       "2  We were a couple of minutes late for our reser...   \n",
       "3  Though the service might be a little slow, the...   \n",
       "4  Although we arrived at the restaurant 10 min l...   \n",
       "\n",
       "                                           sentiment      food    place  \\\n",
       "0           {'food': 'positive', 'place': 'neutral'}  positive  neutral   \n",
       "1  {'staff': 'positive', 'miscellaneous': 'neutral'}      None     None   \n",
       "2  {'miscellaneous': 'neutral', 'staff': 'negative'}      None     None   \n",
       "3       {'service': 'negative', 'staff': 'positive'}      None     None   \n",
       "4  {'staff': 'negative', 'miscellaneous': 'neutral'}      None     None   \n",
       "\n",
       "      staff miscellaneous   service price  menu ambience  \n",
       "0      None          None      None  None  None     None  \n",
       "1  positive       neutral      None  None  None     None  \n",
       "2  negative       neutral      None  None  None     None  \n",
       "3  positive          None  negative  None  None     None  \n",
       "4  negative       neutral      None  None  None     None  "
      ]
     },
     "execution_count": 14,
     "metadata": {},
     "output_type": "execute_result"
    }
   ],
   "source": [
    "#Create a dataframe of the corpus, with a new column for each category and its sentiment\n",
    "train_df = pd.DataFrame(corpus).transpose()\n",
    "\n",
    "for cat in categories:\n",
    "    train_df[f'{cat}'] = train_df['sentiment'].apply(lambda x: encode_category(x, cat))\n",
    "train_df.head()"
   ]
  },
  {
   "cell_type": "markdown",
   "id": "common-letter",
   "metadata": {},
   "source": [
    "# Data Visualization:"
   ]
  },
  {
   "cell_type": "code",
   "execution_count": 15,
   "id": "noted-conservation",
   "metadata": {},
   "outputs": [],
   "source": [
    "assert train_df['sentiment'].isna().sum() == 0"
   ]
  },
  {
   "cell_type": "code",
   "execution_count": 16,
   "id": "competitive-literacy",
   "metadata": {
    "scrolled": true
   },
   "outputs": [],
   "source": [
    "#tally sentiments for each category in the training set\n",
    "counts = {}\n",
    "for cat in categories:\n",
    "    counts.update({cat: dict(train_df[f'{cat}'].value_counts())})"
   ]
  },
  {
   "cell_type": "code",
   "execution_count": 17,
   "id": "capable-anniversary",
   "metadata": {
    "scrolled": true
   },
   "outputs": [
    {
     "data": {
      "text/html": [
       "<div>\n",
       "<style scoped>\n",
       "    .dataframe tbody tr th:only-of-type {\n",
       "        vertical-align: middle;\n",
       "    }\n",
       "\n",
       "    .dataframe tbody tr th {\n",
       "        vertical-align: top;\n",
       "    }\n",
       "\n",
       "    .dataframe thead th {\n",
       "        text-align: right;\n",
       "    }\n",
       "</style>\n",
       "<table border=\"1\" class=\"dataframe\">\n",
       "  <thead>\n",
       "    <tr style=\"text-align: right;\">\n",
       "      <th></th>\n",
       "      <th>neutral</th>\n",
       "      <th>positive</th>\n",
       "      <th>negative</th>\n",
       "    </tr>\n",
       "  </thead>\n",
       "  <tbody>\n",
       "    <tr>\n",
       "      <th>food</th>\n",
       "      <td>1298</td>\n",
       "      <td>753</td>\n",
       "      <td>255</td>\n",
       "    </tr>\n",
       "    <tr>\n",
       "      <th>place</th>\n",
       "      <td>430</td>\n",
       "      <td>125</td>\n",
       "      <td>139</td>\n",
       "    </tr>\n",
       "    <tr>\n",
       "      <th>staff</th>\n",
       "      <td>129</td>\n",
       "      <td>332</td>\n",
       "      <td>921</td>\n",
       "    </tr>\n",
       "    <tr>\n",
       "      <th>miscellaneous</th>\n",
       "      <td>531</td>\n",
       "      <td>227</td>\n",
       "      <td>196</td>\n",
       "    </tr>\n",
       "    <tr>\n",
       "      <th>service</th>\n",
       "      <td>128</td>\n",
       "      <td>174</td>\n",
       "      <td>329</td>\n",
       "    </tr>\n",
       "    <tr>\n",
       "      <th>price</th>\n",
       "      <td>136</td>\n",
       "      <td>72</td>\n",
       "      <td>114</td>\n",
       "    </tr>\n",
       "    <tr>\n",
       "      <th>menu</th>\n",
       "      <td>372</td>\n",
       "      <td>64</td>\n",
       "      <td>39</td>\n",
       "    </tr>\n",
       "    <tr>\n",
       "      <th>ambience</th>\n",
       "      <td>53</td>\n",
       "      <td>181</td>\n",
       "      <td>90</td>\n",
       "    </tr>\n",
       "  </tbody>\n",
       "</table>\n",
       "</div>"
      ],
      "text/plain": [
       "               neutral  positive  negative\n",
       "food              1298       753       255\n",
       "place              430       125       139\n",
       "staff              129       332       921\n",
       "miscellaneous      531       227       196\n",
       "service            128       174       329\n",
       "price              136        72       114\n",
       "menu               372        64        39\n",
       "ambience            53       181        90"
      ]
     },
     "execution_count": 17,
     "metadata": {},
     "output_type": "execute_result"
    }
   ],
   "source": [
    "count_df = pd.DataFrame(counts).transpose()\n",
    "count_df"
   ]
  },
  {
   "cell_type": "code",
   "execution_count": 18,
   "id": "blocked-sewing",
   "metadata": {},
   "outputs": [
    {
     "data": {
      "image/png": "[encoded data removed]",
      "text/plain": [
       "<Figure size 432x288 with 1 Axes>"
      ]
     },
     "metadata": {
      "needs_background": "light"
     },
     "output_type": "display_data"
    }
   ],
   "source": [
    "count_df.plot(kind = 'bar', color = ['grey', 'springgreen', 'lightcoral'], edgecolor = 'dimgrey')\n",
    "plt.xticks(rotation = 30);\n",
    "plt.title('Distribution of Sentiments for Each Aspect Category');"
   ]
  },
  {
   "cell_type": "markdown",
   "id": "czech-basic",
   "metadata": {},
   "source": [
    "#### Insight: \n",
    "'menu' has hardly any meaningful reviews, so we can combine it with 'food'. 'ambience' & 'place', and 'staff' & 'service' are very similar topics which may be difficult for an LDA topic model to distinguish. Since 'ambience' and 'service' have relatively few occurrences, we will combine these very similar topics. \n",
    "\n",
    "Therefore, instead of the original 8 aspect categories from the MAMS paper, let's use 5:\n",
    "- food (food+menu)\n",
    "- service (service+staff)\n",
    "- miscellaneous\n",
    "- place (place+ambience) \n",
    "- price\n",
    "\n",
    "# Naive Classifier:"
   ]
  },
  {
   "cell_type": "code",
   "execution_count": 19,
   "id": "magnetic-female",
   "metadata": {},
   "outputs": [
    {
     "name": "stdout",
     "output_type": "stream",
     "text": [
      "Count of most frequent aspect category and sentiment combination:  1298\n"
     ]
    }
   ],
   "source": [
    "#determine most common aspect category and sentiment in the corpus\n",
    "naive_count = count_df.max().max()\n",
    "print('Count of most frequent aspect category and sentiment combination: ', naive_count)"
   ]
  },
  {
   "cell_type": "code",
   "execution_count": 20,
   "id": "coastal-whale",
   "metadata": {},
   "outputs": [
    {
     "name": "stdout",
     "output_type": "stream",
     "text": [
      "Accuracy of Naive Classifier: 41.23253 %\n"
     ]
    }
   ],
   "source": [
    "#calculate accuracy of naive classifier that just assumes the most commonly occuring aspect category and sentiment combination\n",
    "print(f'Accuracy of Naive Classifier: {round(naive_count / len(train_df) * 100, 5)} %')"
   ]
  },
  {
   "cell_type": "markdown",
   "id": "complimentary-teaching",
   "metadata": {},
   "source": [
    "# Text Cleaning & Pre-Processing:\n",
    "https://towardsdatascience.com/topic-modelling-in-python-with-nltk-and-gensim-4ef03213cd21"
   ]
  },
  {
   "cell_type": "markdown",
   "id": "acquired-station",
   "metadata": {},
   "source": [
    "## Tokenization:"
   ]
  },
  {
   "cell_type": "code",
   "execution_count": 21,
   "id": "sacred-evening",
   "metadata": {},
   "outputs": [],
   "source": [
    "def tokenize(text):\n",
    "    \"\"\"Creates tokens for LDA model. Passes over all whitespaces, adds special tokens for URLs and screen names. \n",
    "    Puts all tokens in lower case.\"\"\"\n",
    "    lda_tokens = []\n",
    "    tokens = parser(text)\n",
    "    for token in tokens:\n",
    "        if token.orth_.isspace():\n",
    "            continue\n",
    "        elif token.like_url:\n",
    "            lda_tokens.append('URL')\n",
    "        elif token.orth_.startswith('@'):\n",
    "            lda_tokens.append('SCREEN_NAME')\n",
    "        else:\n",
    "            lda_tokens.append(token.lower_)\n",
    "    return lda_tokens "
   ]
  },
  {
   "cell_type": "code",
   "execution_count": 22,
   "id": "married-butler",
   "metadata": {},
   "outputs": [
    {
     "data": {
      "text/plain": [
       "spacy.tokens.doc.Doc"
      ]
     },
     "execution_count": 22,
     "metadata": {},
     "output_type": "execute_result"
    }
   ],
   "source": [
    "test_parse = parser(train_df['text'][0])\n",
    "type(test_parse)"
   ]
  },
  {
   "cell_type": "code",
   "execution_count": 23,
   "id": "apparent-truth",
   "metadata": {},
   "outputs": [
    {
     "name": "stdout",
     "output_type": "stream",
     "text": [
      "It | <class 'spacy.tokens.token.Token'> | It | False | it\n",
      "might | <class 'spacy.tokens.token.Token'> | might | False | might\n",
      "be | <class 'spacy.tokens.token.Token'> | be | False | be\n",
      "the | <class 'spacy.tokens.token.Token'> | the | False | the\n",
      "best | <class 'spacy.tokens.token.Token'> | best | False | best\n"
     ]
    }
   ],
   "source": [
    "#See what happens at each step of the tokenize() function:\n",
    "for token in test_parse[0:5]:\n",
    "    print(token, '|', type(token), '|', token.orth_, '|', token.orth_.isspace(), '|', token.lower_)"
   ]
  },
  {
   "cell_type": "code",
   "execution_count": 24,
   "id": "comfortable-england",
   "metadata": {},
   "outputs": [
    {
     "name": "stdout",
     "output_type": "stream",
     "text": [
      "['it', 'might', 'be', 'the', 'best', 'sit', 'down', 'food', 'i', \"'ve\", 'had', 'in', 'the', 'area', ',', 'so', 'if', 'you', 'are', 'going', 'to', 'the', 'upright', 'citizen', 'brigade', ',', 'or', 'the', 'garden', ',', 'it', 'could', 'be', 'just', 'the', 'place', 'for', 'you', '.']\n"
     ]
    }
   ],
   "source": [
    "print(tokenize(train_df['text'][0]))"
   ]
  },
  {
   "cell_type": "code",
   "execution_count": 25,
   "id": "convinced-lender",
   "metadata": {},
   "outputs": [],
   "source": [
    "def get_lemma(word):\n",
    "    \"\"\"Lemmatize (get root word) for a given word.\"\"\"\n",
    "    lemma = wn.morphy(word)\n",
    "    if lemma is None:\n",
    "        return word\n",
    "    else:\n",
    "        return lemma"
   ]
  },
  {
   "cell_type": "code",
   "execution_count": 26,
   "id": "blank-recycling",
   "metadata": {},
   "outputs": [
    {
     "data": {
      "text/plain": [
       "'present'"
      ]
     },
     "execution_count": 26,
     "metadata": {},
     "output_type": "execute_result"
    }
   ],
   "source": [
    "get_lemma('presented')"
   ]
  },
  {
   "cell_type": "code",
   "execution_count": 27,
   "id": "straight-rings",
   "metadata": {},
   "outputs": [],
   "source": [
    "def get_lemma2(word):\n",
    "    \"\"\"More lemmatization.\"\"\"\n",
    "    return WordNetLemmatizer().lemmatize(word)"
   ]
  },
  {
   "cell_type": "code",
   "execution_count": 28,
   "id": "informative-registration",
   "metadata": {},
   "outputs": [
    {
     "data": {
      "text/plain": [
       "'foot'"
      ]
     },
     "execution_count": 28,
     "metadata": {},
     "output_type": "execute_result"
    }
   ],
   "source": [
    "get_lemma2('feet')"
   ]
  },
  {
   "cell_type": "code",
   "execution_count": 29,
   "id": "gothic-march",
   "metadata": {},
   "outputs": [
    {
     "name": "stderr",
     "output_type": "stream",
     "text": [
      "[nltk_data] Downloading package stopwords to\n",
      "[nltk_data]     C:\\Users\\Evan\\AppData\\Roaming\\nltk_data...\n",
      "[nltk_data]   Package stopwords is already up-to-date!\n"
     ]
    }
   ],
   "source": [
    "#download stopwords\n",
    "nltk.download('stopwords')\n",
    "en_stop = set(nltk.corpus.stopwords.words('english'))"
   ]
  },
  {
   "cell_type": "code",
   "execution_count": 30,
   "id": "optional-fortune",
   "metadata": {},
   "outputs": [],
   "source": [
    "def prepare_text_for_lda(text):\n",
    "    \"\"\"Generate list of tokens, keeping all tokens that are >2 characters, and are not in the stopword list.\n",
    "    Lemmatize each token.\"\"\"\n",
    "    tokens = tokenize(text)\n",
    "    tokens = [token for token in tokens if len(token) > 2 and \"'\" not in token]\n",
    "    tokens = [token for token in tokens if token not in en_stop]\n",
    "    tokens = [get_lemma(token) for token in tokens]\n",
    "    return tokens"
   ]
  },
  {
   "cell_type": "code",
   "execution_count": 31,
   "id": "confidential-cookbook",
   "metadata": {
    "scrolled": true
   },
   "outputs": [
    {
     "name": "stdout",
     "output_type": "stream",
     "text": [
      "BEFORE PRE-PROCESSING: It might be the best sit down food I've had in the area, so if you are going to the upright citizen brigade, or the garden, it could be just the place for you. \n",
      "\n",
      "AFTER PRE-PROCESSING: ['might', 'best', 'sit', 'food', 'area', 'going', 'upright', 'citizen', 'brigade', 'garden', 'could', 'place']\n"
     ]
    }
   ],
   "source": [
    "print(f\"BEFORE PRE-PROCESSING: {train_df['text'][0]} \\n\\nAFTER PRE-PROCESSING: {prepare_text_for_lda(train_df['text'][0])}\")"
   ]
  },
  {
   "cell_type": "code",
   "execution_count": 32,
   "id": "heated-hurricane",
   "metadata": {
    "scrolled": true
   },
   "outputs": [],
   "source": [
    "#pre-process all documents in the training set\n",
    "text_data = []\n",
    "for i in range(len(train_df)):\n",
    "    tokens = prepare_text_for_lda(train_df['text'][i])\n",
    "    text_data.append(tokens)"
   ]
  },
  {
   "cell_type": "code",
   "execution_count": 33,
   "id": "twelve-bahamas",
   "metadata": {
    "scrolled": true
   },
   "outputs": [
    {
     "data": {
      "text/plain": [
       "(list,\n",
       " 3148,\n",
       " ['food', 'awesome', 'deal', 'wait', 'staff', 'hardly', 'ever', 'find'])"
      ]
     },
     "execution_count": 33,
     "metadata": {},
     "output_type": "execute_result"
    }
   ],
   "source": [
    "type(text_data), len(text_data), text_data[777]"
   ]
  },
  {
   "cell_type": "markdown",
   "id": "productive-spread",
   "metadata": {},
   "source": [
    "## Bag-of-Words Representation:"
   ]
  },
  {
   "cell_type": "code",
   "execution_count": 34,
   "id": "starting-injection",
   "metadata": {},
   "outputs": [],
   "source": [
    "#create a dictionary (vocabulary) of the corpus, and a bag-of-words representation of the corpus\n",
    "dictionary = corpora.Dictionary(text_data)\n",
    "corpus = [dictionary.doc2bow(text) for text in text_data]"
   ]
  },
  {
   "cell_type": "code",
   "execution_count": 32,
   "id": "comic-mistake",
   "metadata": {},
   "outputs": [],
   "source": [
    "#DON'T RUN IF YOU'RE NOT TRAINING A NEW MODEL\n",
    "\n",
    "pickle.dump(corpus, open('corpus.pkl', 'wb'))\n",
    "dictionary.save('dictionary.gensim')"
   ]
  },
  {
   "cell_type": "code",
   "execution_count": 35,
   "id": "italian-jackson",
   "metadata": {},
   "outputs": [
    {
     "data": {
      "text/plain": [
       "(gensim.corpora.dictionary.Dictionary, 'area', 'citizen', 'going')"
      ]
     },
     "execution_count": 35,
     "metadata": {},
     "output_type": "execute_result"
    }
   ],
   "source": [
    "type(dictionary), dictionary[0], dictionary[3], dictionary[7]"
   ]
  },
  {
   "cell_type": "code",
   "execution_count": 36,
   "id": "initial-shepherd",
   "metadata": {
    "scrolled": true
   },
   "outputs": [
    {
     "data": {
      "text/plain": [
       "(list, 3148, 12, (0, 1), (1, 1), (2, 1), (3, 1), (12, 1), (13, 1))"
      ]
     },
     "execution_count": 36,
     "metadata": {},
     "output_type": "execute_result"
    }
   ],
   "source": [
    "type(corpus), len(corpus), len(corpus[0]), corpus[0][0], corpus[0][1], corpus[0][2], corpus[0][3], corpus[1][0], corpus[1][1]"
   ]
  },
  {
   "cell_type": "markdown",
   "id": "headed-invitation",
   "metadata": {},
   "source": [
    "Note that the corpus variable is a list. Each element is a document, and within each document, the words are represented by tuples of *(token_id, token_count)*."
   ]
  },
  {
   "cell_type": "code",
   "execution_count": 37,
   "id": "secondary-thirty",
   "metadata": {},
   "outputs": [
    {
     "name": "stdout",
     "output_type": "stream",
     "text": [
      "BoW Representation of Document 77 in corpus: \n",
      " [(40, 1), (49, 1), (130, 1), (153, 1), (279, 1), (484, 2), (485, 1), (486, 1), (487, 1)]\n"
     ]
    }
   ],
   "source": [
    "print('BoW Representation of Document 77 in corpus: \\n', corpus[77])"
   ]
  },
  {
   "cell_type": "markdown",
   "id": "formed-navigation",
   "metadata": {},
   "source": [
    "## TF-IDF Representation:"
   ]
  },
  {
   "cell_type": "code",
   "execution_count": 38,
   "id": "coated-provision",
   "metadata": {},
   "outputs": [],
   "source": [
    "#use previously created corpus to create and fit TF-IDF representation\n",
    "tfidf = TfidfModel(corpus)"
   ]
  },
  {
   "cell_type": "code",
   "execution_count": 39,
   "id": "surgical-support",
   "metadata": {},
   "outputs": [],
   "source": [
    "tfidf_corpus = [tfidf[doc] for doc in corpus]"
   ]
  },
  {
   "cell_type": "code",
   "execution_count": 40,
   "id": "heard-street",
   "metadata": {},
   "outputs": [
    {
     "name": "stdout",
     "output_type": "stream",
     "text": [
      "TF-IDF Representation of Document 77 in corpus: \n",
      " [(40, 0.16565435298419193), (49, 0.2049189573411614), (130, 0.10975058432370582), (153, 0.2653403073838501), (279, 0.22423402243831253), (484, 0.59450153024223), (485, 0.36913585009310146), (486, 0.26690997370612535), (487, 0.4867247791212905)]\n"
     ]
    }
   ],
   "source": [
    "print('TF-IDF Representation of Document 77 in corpus: \\n', tfidf_corpus[77])"
   ]
  },
  {
   "cell_type": "markdown",
   "id": "subject-favor",
   "metadata": {},
   "source": [
    "# Topic Modelling with LDA:"
   ]
  },
  {
   "cell_type": "code",
   "execution_count": 41,
   "id": "interstate-monster",
   "metadata": {},
   "outputs": [],
   "source": [
    "#DON'T RUN IF YOU'RE NOT TRAINING A NEW MODEL\n",
    "#training LDA model on BoW representation\n",
    "\n",
    "NUM_TOPICS = 5\n",
    "ldamodel = gensim.models.ldamodel.LdaModel(corpus, num_topics = NUM_TOPICS, id2word = dictionary, passes = 25)\n",
    "ldamodel.save('model5.gensim')"
   ]
  },
  {
   "cell_type": "code",
   "execution_count": 56,
   "id": "particular-story",
   "metadata": {},
   "outputs": [],
   "source": [
    "#DON'T RUN IF YOU'RE NOT TRAINING A NEW MODEL\n",
    "#training LDA model on TF-IDF representation\n",
    "\n",
    "NUM_TOPICS = 5\n",
    "ldamodel_tfidf = gensim.models.ldamodel.LdaModel(tfidf_corpus, num_topics = NUM_TOPICS, id2word = dictionary, passes = 25)\n",
    "ldamodel_tfidf.save('model5_tfidf.gensim')"
   ]
  },
  {
   "cell_type": "code",
   "execution_count": 57,
   "id": "chubby-popularity",
   "metadata": {
    "scrolled": true
   },
   "outputs": [
    {
     "name": "stdout",
     "output_type": "stream",
     "text": [
      "(0, '0.008*\"waiter\" + 0.008*\"drink\" + 0.008*\"table\" + 0.008*\"food\" + 0.008*\"service\" + 0.008*\"get\" + 0.008*\"wait\"')\n",
      "(1, '0.004*\"coming\" + 0.003*\"middle\" + 0.003*\"different\" + 0.003*\"question\" + 0.002*\"best\" + 0.002*\"pricey\" + 0.002*\"stay\"')\n",
      "(2, '0.007*\"price\" + 0.005*\"portion\" + 0.005*\"hours\" + 0.005*\"food\" + 0.005*\"good\" + 0.004*\"expect\" + 0.004*\"menu\"')\n",
      "(3, '0.004*\"red\" + 0.004*\"overall\" + 0.003*\"serve\" + 0.003*\"like\" + 0.002*\"inform\" + 0.002*\"special\" + 0.002*\"quick\"')\n",
      "(4, '0.007*\"menu\" + 0.004*\"special\" + 0.003*\"dish\" + 0.003*\"food\" + 0.003*\"cool\" + 0.003*\"chicken\" + 0.003*\"fresh\"')\n"
     ]
    }
   ],
   "source": [
    "#DON'T RUN IF YOU'RE NOT TRAINING A NEW MODEL\n",
    "#print highest probability words for each topic\n",
    "MODEL = ldamodel_tfidf\n",
    "\n",
    "topics = MODEL.print_topics(num_words = 7)\n",
    "for topic in topics:\n",
    "    print(topic)"
   ]
  },
  {
   "cell_type": "code",
   "execution_count": 58,
   "id": "alone-mainstream",
   "metadata": {},
   "outputs": [
    {
     "name": "stdout",
     "output_type": "stream",
     "text": [
      "[(29, 1), (84, 1), (121, 1), (141, 1), (238, 1), (301, 1), (522, 1)]\n",
      "[(0, 0.726576), (1, 0.025276754), (2, 0.025294088), (3, 0.02501118), (4, 0.19784199)]\n"
     ]
    }
   ],
   "source": [
    "#DON'T RUN IF YOU'RE NOT TRAINING A NEW MODEL\n",
    "#test LDA model on new document\n",
    "new_doc = \"I've never had a bad meal here, friendly staff and fresh sushi!\"\n",
    "new_doc = prepare_text_for_lda(new_doc)\n",
    "new_doc_bow = dictionary.doc2bow(new_doc)\n",
    "print(new_doc_bow)\n",
    "print(MODEL.get_document_topics(new_doc_bow))"
   ]
  },
  {
   "cell_type": "markdown",
   "id": "external-telescope",
   "metadata": {},
   "source": [
    "# Evaluate LDA Model:\n",
    "https://towardsdatascience.com/evaluate-topic-model-in-python-latent-dirichlet-allocation-lda-7d57484bb5d0"
   ]
  },
  {
   "cell_type": "code",
   "execution_count": 56,
   "id": "experimental-voice",
   "metadata": {},
   "outputs": [
    {
     "name": "stdout",
     "output_type": "stream",
     "text": [
      "Log Perplexity:  -7.479431158468904\n"
     ]
    }
   ],
   "source": [
    "#calculate log perplexity\n",
    "print('Log Perplexity: ', lda.log_perplexity(corpus))"
   ]
  },
  {
   "cell_type": "code",
   "execution_count": 59,
   "id": "intellectual-logistics",
   "metadata": {},
   "outputs": [],
   "source": [
    "from gensim.models import CoherenceModel\n",
    "import numpy as np"
   ]
  },
  {
   "cell_type": "code",
   "execution_count": 52,
   "id": "hollywood-quarterly",
   "metadata": {},
   "outputs": [],
   "source": [
    "coherence_model_lda = CoherenceModel(model = lda, texts = text_data, dictionary = dictionary, coherence = 'c_v')"
   ]
  },
  {
   "cell_type": "code",
   "execution_count": 53,
   "id": "mediterranean-instruction",
   "metadata": {},
   "outputs": [
    {
     "name": "stdout",
     "output_type": "stream",
     "text": [
      "\n",
      "Coherence Score:  0.24974523699972062\n"
     ]
    }
   ],
   "source": [
    "coherence_lda = coherence_model_lda.get_coherence()\n",
    "print('\\nCoherence Score: ', coherence_lda)"
   ]
  },
  {
   "cell_type": "code",
   "execution_count": 64,
   "id": "thrown-factor",
   "metadata": {},
   "outputs": [],
   "source": [
    "def compute_coherence(text_data, dictionary, k, alpha, eta):\n",
    "    \"\"\"For a given LDA model, and tokenized text set, compute coherence score.\"\"\"\n",
    "    lda_model = gensim.models.ldamodel.LdaModel(corpus, num_topics = k, id2word = dictionary, passes = 10, alpha = alpha, eta = eta)\n",
    "    coherence_model = CoherenceModel(model = lda_model, texts = text_data, dictionary = dictionary, coherence = 'c_v')\n",
    "    return coherence_model.get_coherence()"
   ]
  },
  {
   "cell_type": "code",
   "execution_count": 65,
   "id": "sensitive-interference",
   "metadata": {},
   "outputs": [
    {
     "data": {
      "text/plain": [
       "0.2687758650846027"
      ]
     },
     "execution_count": 65,
     "metadata": {},
     "output_type": "execute_result"
    }
   ],
   "source": [
    "compute_coherence(text_data, dictionary, 5, 0.01, 0.01)"
   ]
  },
  {
   "cell_type": "code",
   "execution_count": 68,
   "id": "designed-karen",
   "metadata": {},
   "outputs": [],
   "source": [
    "#define topic range\n",
    "min_topics = 5\n",
    "max_topics = 8\n",
    "step_size = 1\n",
    "topics_range = range(min_topics, max_topics, step_size)\n",
    "\n",
    "#define alpha range\n",
    "alpha = list(np.arange(0.01, 1, 0.3))\n",
    "alpha.append('symmetric')\n",
    "alpha.append('asymmetric')\n",
    "\n",
    "#define eta range\n",
    "eta = list(np.arange(0.01, 1, 0.3))\n",
    "eta.append('symmetric')"
   ]
  },
  {
   "cell_type": "code",
   "execution_count": 69,
   "id": "amino-attachment",
   "metadata": {},
   "outputs": [
    {
     "data": {
      "text/plain": [
       "(range(5, 8),\n",
       " [0.01, 0.31, 0.61, 0.9099999999999999, 'symmetric', 'asymmetric'],\n",
       " [0.01, 0.31, 0.61, 0.9099999999999999, 'symmetric'])"
      ]
     },
     "execution_count": 69,
     "metadata": {},
     "output_type": "execute_result"
    }
   ],
   "source": [
    "topics_range, alpha, eta"
   ]
  },
  {
   "cell_type": "code",
   "execution_count": 67,
   "id": "moved-jacob",
   "metadata": {},
   "outputs": [],
   "source": [
    "#create empty dictionary to model results\n",
    "model_results = {'topics': [], 'alpha': [], 'eta': [], 'coherence': []}"
   ]
  },
  {
   "cell_type": "code",
   "execution_count": 70,
   "id": "official-subsection",
   "metadata": {},
   "outputs": [],
   "source": [
    "#DON'T RUN IF YOU AREN'T UPDATING THE PARAMETERS TO SEARCH OVER\n",
    "#grid search over all possible parameters, calculate and store coherence score. Convert to dataframe.\n",
    "for k in topics_range:\n",
    "    for a in alpha:\n",
    "        for b in eta:\n",
    "            cv = compute_coherence(text_data = text_data, dictionary = dictionary, k = k, alpha = a, eta = b)\n",
    "            model_results['topics'].append(k)\n",
    "            model_results['alpha'].append(a)\n",
    "            model_results['eta'].append(b)\n",
    "            model_results['coherence'].append(cv)\n",
    "\n",
    "model_df = pd.DataFrame(model_results)"
   ]
  },
  {
   "cell_type": "code",
   "execution_count": 72,
   "id": "lovely-reliance",
   "metadata": {},
   "outputs": [
    {
     "data": {
      "text/html": [
       "<div>\n",
       "<style scoped>\n",
       "    .dataframe tbody tr th:only-of-type {\n",
       "        vertical-align: middle;\n",
       "    }\n",
       "\n",
       "    .dataframe tbody tr th {\n",
       "        vertical-align: top;\n",
       "    }\n",
       "\n",
       "    .dataframe thead th {\n",
       "        text-align: right;\n",
       "    }\n",
       "</style>\n",
       "<table border=\"1\" class=\"dataframe\">\n",
       "  <thead>\n",
       "    <tr style=\"text-align: right;\">\n",
       "      <th></th>\n",
       "      <th>topics</th>\n",
       "      <th>alpha</th>\n",
       "      <th>eta</th>\n",
       "      <th>coherence</th>\n",
       "    </tr>\n",
       "  </thead>\n",
       "  <tbody>\n",
       "    <tr>\n",
       "      <th>0</th>\n",
       "      <td>5</td>\n",
       "      <td>0.01</td>\n",
       "      <td>0.01</td>\n",
       "      <td>0.278506</td>\n",
       "    </tr>\n",
       "    <tr>\n",
       "      <th>1</th>\n",
       "      <td>5</td>\n",
       "      <td>0.01</td>\n",
       "      <td>0.31</td>\n",
       "      <td>0.253539</td>\n",
       "    </tr>\n",
       "    <tr>\n",
       "      <th>2</th>\n",
       "      <td>5</td>\n",
       "      <td>0.01</td>\n",
       "      <td>0.61</td>\n",
       "      <td>0.291058</td>\n",
       "    </tr>\n",
       "    <tr>\n",
       "      <th>3</th>\n",
       "      <td>5</td>\n",
       "      <td>0.01</td>\n",
       "      <td>0.91</td>\n",
       "      <td>0.323669</td>\n",
       "    </tr>\n",
       "    <tr>\n",
       "      <th>4</th>\n",
       "      <td>5</td>\n",
       "      <td>0.01</td>\n",
       "      <td>symmetric</td>\n",
       "      <td>0.245532</td>\n",
       "    </tr>\n",
       "  </tbody>\n",
       "</table>\n",
       "</div>"
      ],
      "text/plain": [
       "   topics alpha        eta  coherence\n",
       "0       5  0.01       0.01   0.278506\n",
       "1       5  0.01       0.31   0.253539\n",
       "2       5  0.01       0.61   0.291058\n",
       "3       5  0.01       0.91   0.323669\n",
       "4       5  0.01  symmetric   0.245532"
      ]
     },
     "execution_count": 72,
     "metadata": {},
     "output_type": "execute_result"
    }
   ],
   "source": [
    "model_df.head()"
   ]
  },
  {
   "cell_type": "code",
   "execution_count": 73,
   "id": "healthy-bundle",
   "metadata": {},
   "outputs": [],
   "source": [
    "#DON'T RUN IF YOU AREN'T UPDATING THE PARAMETERS TO SEARCH OVER\n",
    "#save parameter permutatioins to .pkl file\n",
    "model_df.to_pickle(\"./model_params_df.pkl\")"
   ]
  },
  {
   "cell_type": "code",
   "execution_count": 79,
   "id": "greek-exemption",
   "metadata": {},
   "outputs": [],
   "source": [
    "#START HERE TO LOAD SAVED PARAMETER PERMUTATIONS\n",
    "model_params = pd.read_pickle(\"./model_params_df.pkl\")"
   ]
  },
  {
   "cell_type": "code",
   "execution_count": 96,
   "id": "solid-satellite",
   "metadata": {},
   "outputs": [
    {
     "data": {
      "image/png": "[encoded data removed]",
      "text/plain": [
       "<Figure size 432x288 with 1 Axes>"
      ]
     },
     "metadata": {
      "needs_background": "light"
     },
     "output_type": "display_data"
    }
   ],
   "source": [
    "model_params['coherence'].plot.hist(bins = 5, alpha = 0.5);\n",
    "plt.xlabel('Coherence Score');"
   ]
  },
  {
   "cell_type": "code",
   "execution_count": 80,
   "id": "remarkable-trigger",
   "metadata": {},
   "outputs": [
    {
     "data": {
      "text/plain": [
       "{'topics': 7,\n",
       " 'alpha': 'asymmetric',\n",
       " 'eta': 0.31,\n",
       " 'coherence': 0.43441167731461944}"
      ]
     },
     "execution_count": 80,
     "metadata": {},
     "output_type": "execute_result"
    }
   ],
   "source": [
    "#get parameters where LDA model coherence score is maximized\n",
    "best_params = dict(model_params.iloc[model_params['coherence'].idxmax()])\n",
    "best_params"
   ]
  },
  {
   "cell_type": "code",
   "execution_count": 81,
   "id": "narrow-original",
   "metadata": {},
   "outputs": [],
   "source": [
    "#train LDA model using best parameters\n",
    "best_lda = gensim.models.ldamodel.LdaModel(\n",
    "                                            corpus, \n",
    "                                            num_topics = best_params['topics'], \n",
    "                                            id2word = dictionary, \n",
    "                                            passes = 20, \n",
    "                                            alpha = best_params['alpha'], \n",
    "                                            eta = best_params['eta']\n",
    "                                            )"
   ]
  },
  {
   "cell_type": "code",
   "execution_count": 97,
   "id": "classical-pantyhose",
   "metadata": {},
   "outputs": [],
   "source": [
    "#save LDA model trained using best hyperparameters\n",
    "best_lda.save('best_lda_model.gensim')"
   ]
  },
  {
   "cell_type": "markdown",
   "id": "aggressive-utilization",
   "metadata": {},
   "source": [
    "### Visualize Topic Model:"
   ]
  },
  {
   "cell_type": "code",
   "execution_count": 82,
   "id": "boolean-thomas",
   "metadata": {},
   "outputs": [
    {
     "data": {
      "text/html": [
       "\n",
       "<link rel=\"stylesheet\" type=\"text/css\" href=\"https://cdn.jsdelivr.net/gh/bmabey/pyLDAvis@3.3.1/pyLDAvis/js/ldavis.v1.0.0.css\">\n",
       "\n",
       "\n",
       "<div id=\"ldavis_el1749221433118662244557880646\"></div>\n",
       "<script type=\"text/javascript\">\n",
       "\n",
       "var ldavis_el1749221433118662244557880646_data = {\"mdsDat\": {\"x\": [0.264532949866947, 0.10927274793394158, -0.07387675422434715, -0.046149910696616295, -0.05918090037269917, -0.09821198046521229, -0.09638615204201377], \"y\": [0.08768268053981845, -0.15031642096174377, 0.025128024946339835, -0.01960012717346378, -0.007096122382856749, 0.02706251098476204, 0.03713945404714367], \"topics\": [1, 2, 3, 4, 5, 6, 7], \"cluster\": [1, 1, 1, 1, 1, 1, 1], \"Freq\": [57.743931182834885, 18.432423555793523, 4.923128619769694, 9.446129737192097, 4.170109190502233, 2.770888648876407, 2.5133890650311574]}, \"tinfo\": {\"Term\": [\"food\", \"price\", \"waiter\", \"menu\", \"good\", \"service\", \"table\", \"drink\", \"place\", \"order\", \"portion\", \"like\", \"bar\", \"take\", \"worth\", \"ask\", \"great\", \"atmosphere\", \"serve\", \"better\", \"sauce\", \"small\", \"bit\", \"steak\", \"waitress\", \"chicken\", \"music\", \"dish\", \"entree\", \"nice\", \"waiter\", \"table\", \"drink\", \"order\", \"take\", \"ask\", \"reservation\", \"minutes\", \"manager\", \"tell\", \"seat\", \"time\", \"waiting\", \"bring\", \"long\", \"check\", \"say\", \"hour\", \"people\", \"hostess\", \"water\", \"never\", \"seem\", \"bill\", \"waitress\", \"forget\", \"want\", \"next\", \"arrive\", \"empty\", \"staff\", \"know\", \"back\", \"come\", \"wait\", \"another\", \"even\", \"get\", \"dinner\", \"meal\", \"could\", \"bar\", \"one\", \"service\", \"wine\", \"menu\", \"food\", \"make\", \"place\", \"like\", \"lot\", \"decent\", \"overall\", \"worth\", \"bland\", \"expensive\", \"far\", \"quality\", \"world\", \"superb\", \"block\", \"indian\", \"manhattan\", \"fairly\", \"noisy\", \"generous\", \"bowl\", \"price\", \"portion\", \"formal\", \"certainly\", \"upstairs\", \"cafe\", \"particular\", \"ambience\", \"tasting\", \"reading\", \"nearby\", \"destination\", \"tag\", \"high\", \"sushi\", \"decor\", \"value\", \"yes\", \"bit\", \"good\", \"better\", \"food\", \"le\", \"atmosphere\", \"small\", \"selection\", \"best\", \"place\", \"found\", \"nice\", \"service\", \"great\", \"menu\", \"although\", \"experience\", \"really\", \"restaurant\", \"much\", \"make\", \"get\", \"room\", \"dish\", \"wine\", \"bar\", \"band\", \"bunch\", \"jazz\", \"live\", \"palate\", \"fireplace\", \"dissapointing\", \"cram\", \"colorful\", \"zen\", \"forgive\", \"terrific\", \"horrific\", \"marble\", \"irving\", \"burn\", \"vibe\", \"dive\", \"control\", \"wooden\", \"fat\", \"guacamole\", \"premises\", \"soft\", \"extend\", \"candy\", \"vinegar\", \"din\", \"rubbery\", \"remarkable\", \"playing\", \"music\", \"pancake\", \"sunday\", \"salt\", \"summer\", \"french\", \"miniscule\", \"scene\", \"sip\", \"loud\", \"wall\", \"style\", \"bathroom\", \"casual\", \"bar\", \"like\", \"pizza\", \"inside\", \"cheese\", \"top\", \"spot\", \"room\", \"diner\", \"look\", \"serve\", \"fresh\", \"date\", \"space\", \"dining\", \"great\", \"potato\", \"sauce\", \"crab\", \"feature\", \"fair\", \"black\", \"blue\", \"chop\", \"serious\", \"rooms\", \"bean\", \"pork\", \"neighborhood\", \"cook\", \"beef\", \"baby\", \"eggs\", \"dip\", \"chili\", \"mushroom\", \"onion\", \"sashimi\", \"-the\", \"often\", \"chicken\", \"rare\", \"wood\", \"twist\", \"entering\", \"impress\", \"american\", \"flavor\", \"tuna\", \"green\", \"steak\", \"light\", \"fare\", \"salmon\", \"lobster\", \"cheese\", \"meat\", \"choice\", \"salad\", \"menu\", \"pasta\", \"like\", \"serve\", \"food\", \"dish\", \"include\", \"fresh\", \"crowd\", \"appetizer\", \"entree\", \"chef\", \"bar\", \"possible\", \"buy\", \"reasonable\", \"sum\", \"trip\", \"nowhere\", \"sharing\", \"yelling\", \"relax\", \"appreciate\", \"total\", \"topping\", \"beside\", \"pretentious\", \"steep\", \"typical\", \"timely\", \"pop\", \"quibble\", \"encourage\", \"fabulous\", \"fool\", \"shop\", \"handle\", \"school\", \"suddenly\", \"ahead\", \"sir\", \"spring\", \"remark\", \"reasonably\", \"italian\", \"spicy\", \"definitely\", \"afternoon\", \"dim\", \"thai\", \"buck\", \"ever\", \"price\", \"city\", \"however\", \"guess\", \"popular\", \"coffee\", \"food\", \"think\", \"menu\", \"street\", \"like\", \"dish\", \"range\", \"place\", \"spot\", \"scene\", \"pay\", \"best\", \"atmosphere\", \"boy\", \"third\", \"chopstick\", \"mary\", \"using\", \"cutting\", \"lastly\", \"bloody\", \"comped\", \"knife\", \"danube\", \"contact\", \"lemon\", \"shine\", \"speedy\", \"w/o\", \"10mins\", \"challenge\", \"enormous\", \"assure\", \"juice\", \"mojito\", \"warming\", \"fee\", \"terrace\", \"falafel\", \"gourmet\", \"audacity\", \"huffy\", \"scare\", \"cake\", \"basil\", \"bakery\", \"theme\", \"notch\", \"bizarrely\", \"insist\", \"platter\", \"top\", \"sandwich\", \"quick\", \"pie\", \"apology\", \"slice\", \"bus\", \"meat\", \"flavor\", \"thin\", \"prepare\", \"cheese\", \"red\", \"french\", \"soup\", \"thai\", \"burger\", \"gnocchi\", \"scoop\", \"hope\", \"scallop\", \"stripe\", \"perfection\", \"cream\", \"admit\", \"masala\", \"flow\", \"port\", \"crust\", \"accompany\", \"apricot\", \"softie\", \"mixture\", \"peri\", \"pongal\", \"pickle\", \"orange\", \"pastry\", \"salty\", \"stumble\", \"sorbet\", \"pony\", \"landmark\", \"ice\", \"mural\", \"eel\", \"spoil\", \"brooklyn\", \"cute\", \"train\", \"coconut\", \"glaze\", \"dry\", \"cuisine\", \"chewy\", \"shrimp\", \"along\", \"consist\", \"entree\", \"lobster\", \"large\", \"menu\", \"offer\", \"appetizer\"], \"Freq\": [571.0, 181.0, 442.0, 418.0, 209.0, 393.0, 363.0, 330.0, 220.0, 292.0, 108.0, 168.0, 296.0, 205.0, 60.0, 201.0, 138.0, 85.0, 93.0, 73.0, 35.0, 85.0, 62.0, 41.0, 232.0, 38.0, 29.0, 94.0, 86.0, 88.0, 440.8928304886599, 362.0791686546354, 329.03846627532016, 291.7094326227691, 204.75706640341087, 200.1844939816139, 148.57672831966033, 143.4829088374807, 130.05054890253126, 123.1063764388613, 127.98904986906557, 164.9949142952657, 102.49448770695145, 101.55689492750246, 108.57397481115886, 96.83767793760921, 96.95291136960512, 91.52099743256899, 91.90451950218198, 87.52538238801196, 87.5253527548647, 97.25940701176192, 64.0829008573913, 56.292139009521655, 226.69531505144855, 43.59759999173754, 82.71560156122051, 45.1737969724524, 59.30808220551408, 40.84590544761848, 153.41874507181768, 69.9568919630351, 99.87601391521785, 174.75192436357713, 270.3345496150927, 78.3569557683839, 162.49524966863126, 285.6080861335962, 236.04984771361345, 134.36523392140097, 121.92912064205274, 245.6969385610051, 162.31446771488626, 266.4338989298027, 134.02093626105042, 224.96513435983155, 268.01690165667264, 119.8711973416903, 126.85226307370456, 111.63861514582263, 26.132072001529288, 23.136208313345122, 19.24810353009789, 56.307830363378415, 11.20689401344917, 23.81072254034573, 10.913644197259575, 35.75886614293676, 12.544592724592915, 7.8878555784347535, 8.241816042046363, 8.77197280722849, 7.866607088316758, 8.333304523592771, 6.322035139487266, 6.914764435666816, 6.436885845617147, 154.0159805011134, 91.73561230148508, 6.017417743686764, 9.282143095672906, 10.942685482054323, 13.040925008733227, 5.7418164081787175, 22.61126434921472, 17.939793728921096, 6.163487712731143, 6.151173031885751, 5.288380360849733, 5.1462525085541335, 24.10202297546759, 43.143250903082645, 40.84672077562276, 14.575191960110851, 8.972860743479828, 44.158306946741355, 125.74819245689096, 47.57280908721022, 258.26411887865305, 18.916979911982956, 51.15389068775088, 49.46589852501618, 23.597111995751003, 30.325375920661127, 87.33681224483948, 22.980054455376777, 43.031269878221295, 125.2467671880848, 57.62907087504251, 116.37302691462602, 31.415172164610237, 26.89719264076179, 29.016489108994413, 39.46683014306761, 27.695715250622722, 36.49364643550649, 29.897410708654068, 25.69824997539637, 25.159248080832505, 25.658705838459902, 26.098331076651313, 5.746193211881545, 4.3806809943382, 3.980415026875169, 9.58624563990774, 3.1857326915291484, 3.1053162771469838, 3.153944758078498, 3.123289310812019, 2.816378607133362, 2.8015813350600824, 2.679285248936521, 2.6033979371373484, 2.600180910014435, 2.616387736838232, 2.326359688325293, 2.5753485344865386, 2.2265701597566685, 2.2914568388875023, 2.275607506308123, 2.1302726214930594, 3.105144056715927, 3.1611464354192287, 1.9335785723836425, 1.9088870470615857, 1.8393878921317477, 1.8342585445011497, 1.8326018176405343, 1.8271295029167933, 1.8184066854606793, 1.787114569999195, 5.112648564938202, 14.502061831991776, 5.294160477734765, 5.383958484302599, 2.32404208135088, 2.90288905620615, 7.765597772920659, 2.2279432913597863, 8.03135537296009, 4.359266289051551, 5.908043362311968, 4.975298349863746, 4.512817856950773, 3.8196083048754503, 3.997388213563325, 12.916480957860795, 9.950364265307094, 5.678897552100163, 3.6037491535427564, 5.468773046367856, 4.902917766059288, 4.176040593481393, 5.234609263351894, 4.691051265404535, 4.257890353456018, 4.337162280963827, 3.871869415779395, 3.645876207932676, 3.6460109525242115, 3.7425979811211976, 3.6584095603297326, 11.228740653936956, 31.866203841954917, 7.253802614108456, 9.672942520661875, 6.966003979231002, 11.081377333805946, 7.796353904126976, 9.841157723121782, 5.448868155655088, 4.974938052031376, 4.787619329184523, 11.913043377742323, 4.345885666211268, 14.154962886731886, 10.550869866092702, 3.865639968641066, 3.855773923421983, 3.945189225103704, 3.8351175603121037, 6.731994135780125, 6.104812917361842, 4.228788236425593, 3.500037611485621, 13.869844157844007, 28.902901631652735, 3.481155464098716, 5.784868337499999, 3.3643896898477776, 3.2588783896501345, 3.257425326363354, 7.878614171909487, 17.124303570765175, 5.109052521282059, 5.320955362128246, 25.262122095736306, 10.182593258462282, 11.298103924640303, 7.49308986061146, 8.346355930665199, 18.434789718627314, 12.436969442322892, 14.936517839592769, 19.134473826282406, 64.60098484784614, 8.664793719851566, 23.41879113676995, 17.905826206399773, 32.179031360658435, 15.876273694418899, 10.687065968681383, 9.612783196004125, 10.52582967123744, 11.05891928533075, 10.45991303271725, 9.606557282360571, 10.217600893834092, 4.344380698476768, 5.158224738424147, 6.960067700970322, 3.4312648194097743, 3.0559593513261123, 3.049383767660705, 2.727617624844933, 2.790952914821568, 5.64007991418311, 2.3799883875109438, 2.3748443022747567, 3.062080179666428, 2.0480999261648907, 2.044797689163037, 2.0420866340838026, 2.219116818737751, 2.02278111135341, 2.026324636180695, 2.018366952997851, 1.9434462806920905, 1.9429943787337443, 2.0015060522268158, 2.7535761288137093, 2.346788395412488, 1.95952411062686, 1.9701302531559546, 1.7049239026437912, 1.7029399210784393, 1.6926449738600449, 1.6716921668402902, 2.990599775978843, 8.571879648292146, 5.413288261832545, 6.738205596343753, 2.683620136310001, 3.7188977408658332, 3.788646507609637, 2.3764247107810172, 5.818284437588325, 14.134035186663407, 3.382501851738722, 5.152040779344583, 2.3918482280539193, 2.5506637677514314, 5.291902830433951, 10.89468139449254, 4.007022511414678, 8.999410287921894, 2.8764531576786045, 5.3263672206715835, 4.717304675340321, 3.1000970115024256, 4.953563085211349, 3.300202908034911, 3.3649251125853654, 3.5133344237614015, 3.3560454352728257, 3.4216593169313034, 2.823024472537275, 2.459200590216634, 2.179467761674815, 2.4785891543689282, 2.277924980736412, 1.656266255998213, 1.652141357341928, 1.5847451821004999, 1.599966543982022, 1.5922512889802392, 1.3772842277403996, 1.372323684576096, 2.074025113834476, 1.3046202452664188, 1.304480299695805, 1.30123477113226, 1.340707835369293, 1.26947151101111, 1.7988556247713567, 2.226379507702951, 1.7894606674296472, 1.0319128976649572, 1.0311808199890442, 1.0287484214047995, 1.0278089730696363, 1.0268660883064056, 1.0262299936213455, 1.0265614311835871, 1.0261578286319264, 1.0256979397584693, 3.4697535989937043, 1.9343939171399158, 1.371637820932816, 1.5746015574301373, 1.817000557455748, 1.203397294098022, 2.3119456186054, 2.5852281531668617, 5.277414537449382, 2.8683201493934942, 3.0489584792134603, 2.298187108602988, 1.7669677052596173, 2.3068547281695677, 1.7456242875269512, 2.37099743551364, 2.2664089177943723, 1.5762428665737225, 1.9935908935096307, 2.127667755969314, 1.956366793696546, 1.855000342031948, 1.8174125733312982, 1.69475081392698, 1.6826816045635802, 2.6158190945918802, 2.04371501784076, 2.2069311145725394, 1.990645338824475, 1.7345989544479714, 1.4899430241680003, 4.360889502055671, 1.475558023859927, 1.471126826368291, 1.4546031869370653, 1.4548830791960334, 1.983026766122608, 1.3755593128146257, 1.2405955664996111, 1.2405955664996111, 1.2402634362844762, 1.2373891663547272, 1.2364425414988391, 1.3882876390107652, 1.15742919326025, 1.736467160036729, 0.9278199440664661, 0.9271368736725557, 0.9260966289404922, 0.923601137935706, 0.9230440405554327, 5.032363929580999, 0.9216474813692679, 0.9197392911720862, 0.9202422158570754, 1.8260181723631512, 1.4604128860497714, 1.2374550549702215, 1.4150186395682998, 1.2404707758265459, 1.443540133693381, 2.3280363245903968, 1.1624984247185661, 2.525764082725404, 2.28042454462399, 1.4191864975689712, 2.6625911977813828, 1.6206458300337006, 1.738543672537115, 1.9944916001896498, 1.4973666181610468, 1.4809831398303182], \"Total\": [571.0, 181.0, 442.0, 418.0, 209.0, 393.0, 363.0, 330.0, 220.0, 292.0, 108.0, 168.0, 296.0, 205.0, 60.0, 201.0, 138.0, 85.0, 93.0, 73.0, 35.0, 85.0, 62.0, 41.0, 232.0, 38.0, 29.0, 94.0, 86.0, 88.0, 442.04412241748946, 363.39857061116413, 330.27170006347296, 292.8052443460083, 205.83438972617876, 201.25958000427016, 149.66498308495935, 144.58673402112032, 131.14961929732567, 124.17894000473122, 129.18537715383377, 166.71607081045698, 103.57078894147426, 102.65124567489582, 109.76476520561867, 97.91465439440348, 98.0574815975568, 92.59607706344156, 93.02180646283487, 88.59838899231727, 88.60341164963303, 98.4860692622889, 65.37377970577823, 57.467165014719285, 232.12134585071223, 44.66765946866777, 84.7845105735207, 46.308480932936725, 60.8153686917958, 41.91166640734008, 158.58653197718962, 71.9045044618324, 103.16445135731071, 182.53818800569525, 286.62205409373104, 80.79934515703548, 173.39227816138688, 316.425240854548, 260.070576150543, 144.54345184020653, 129.45767398573156, 296.7205315705507, 189.74157094816144, 393.15820999671416, 160.72582512325116, 418.2917019393598, 571.1661914834958, 159.23015940431597, 220.25293780924628, 168.91543219929693, 27.235471269315898, 24.35416792185397, 20.39015523032096, 60.25882756471382, 12.310575919523867, 26.210128921410362, 12.021933286406432, 39.451790920174524, 14.219986113781628, 8.988798734883325, 9.404977009590755, 10.173039574866511, 9.151807940904918, 9.728552256233906, 7.405934617356406, 8.103753958088111, 7.544431218464354, 181.0724735130714, 108.23502795877437, 7.1073545187710865, 10.982290227452829, 12.969510753053173, 15.480709119435213, 6.827088618459912, 27.044962815439177, 21.458631097012894, 7.379113146341143, 7.385633521342921, 6.381336396851071, 6.243433932043123, 29.463874061085374, 54.686042905369, 52.472680749148054, 18.2376313027019, 11.063560959344924, 62.88408706880939, 209.5510376526584, 73.69292987961029, 571.1661914834958, 26.437721539968692, 85.63044691530163, 85.12801741875339, 35.33323752143624, 52.60255680035673, 220.25293780924628, 37.22578824069543, 88.47375960553299, 393.15820999671416, 138.87394417095192, 418.2917019393598, 61.81924434270013, 53.0882041224457, 72.2948862404658, 156.04403471431442, 66.40128374594681, 159.23015940431597, 316.425240854548, 85.55885542472127, 94.91703414096166, 160.72582512325116, 296.7205315705507, 6.909219859122639, 5.539300401243413, 5.150630607194154, 12.63973852723452, 4.3704980931533255, 4.264916343591524, 4.364544426695969, 4.401280308454337, 3.969592877517984, 3.976127754765528, 3.89028726095789, 3.7847780118838155, 3.7856537007312387, 3.862061772886535, 3.482061267482524, 3.911128143417938, 3.3872826307039965, 3.498807723921064, 3.5067849661014177, 3.2909211505243325, 4.845390022354754, 4.9484000533477, 3.0903400349070838, 3.09804045289111, 2.9931675787525736, 2.995387822654556, 2.9961773370664773, 2.99875392143727, 2.997708454880692, 2.987097901627706, 9.245152925833326, 29.20261087545885, 10.021888046746637, 11.383369288883351, 4.047908930365742, 5.4704618214600975, 20.87922534021672, 3.8757138182428057, 32.69002098583863, 12.79929737205683, 26.208770692855563, 19.533103392809323, 17.149144299497493, 11.729835609773124, 13.327801842501913, 296.7205315705507, 168.91543219929693, 38.8145485652439, 10.547760173454572, 41.32760436832036, 32.09422078108071, 20.97979640130191, 85.55885542472127, 49.876979982587486, 50.42811146867755, 93.68634566643102, 31.8509039206487, 22.936549853666477, 43.98719265731258, 84.63555490939213, 138.87394417095192, 12.387619010811289, 35.619537242202, 8.392188458154179, 11.209751375410159, 8.15468327481201, 12.99130128296524, 9.213126859458221, 11.730407133709653, 6.67639111625575, 6.177192851285703, 5.962606042005019, 14.864042870681965, 5.468634026974463, 18.04053207809725, 13.507922285223637, 4.979849713299549, 4.977479465395347, 5.1017387183072875, 4.987922750261429, 8.772274248108907, 8.027889458350051, 5.561365707616676, 4.612083142819099, 18.336448109929265, 38.24911777620331, 4.6150568576129105, 7.689278325456472, 4.494958429179801, 4.372910426566222, 4.373161000010281, 10.578383561533506, 23.906719088853297, 6.926337390890818, 7.344640114821288, 41.004294802595325, 15.677956228686398, 17.786296829428156, 11.145646027126562, 13.865780378971879, 41.32760436832036, 26.405022628244208, 36.02265100594492, 53.1215719904828, 418.2917019393598, 17.317018958971193, 168.91543219929693, 93.68634566643102, 571.1661914834958, 94.91703414096166, 37.08605140759037, 31.8509039206487, 74.38480666697276, 101.59759428049857, 86.93143235066654, 65.10375686516545, 296.7205315705507, 5.589862802107045, 6.648406786079097, 9.26521748582072, 4.618389514765773, 4.281238077185557, 4.298670954704596, 3.9355316647485235, 4.036105560309585, 8.161714323040016, 3.578794426243394, 3.5942100184969474, 4.665916098399574, 3.2345100001086298, 3.2365637807037633, 3.2374014605941346, 3.544147991266194, 3.235911052177468, 3.2419785928321327, 3.253676278499365, 3.160043715915363, 3.162392020184364, 3.2647026847971152, 4.49647454367524, 3.8938122150721117, 3.268374908501929, 3.2900404885860337, 2.8863959365148313, 2.8876469440418484, 2.8914831850264373, 2.882455400846184, 5.172022350088538, 17.046605616256223, 11.105446075660444, 14.414724211863119, 4.928316341345483, 8.171617547074067, 9.000140311558662, 4.479285060816827, 25.450844262138425, 181.0724735130714, 9.375886184771502, 30.59614135061777, 4.986262793633765, 6.033656325784995, 50.71134598512871, 571.1661914834958, 26.443702624364867, 418.2917019393598, 9.57163903854459, 168.91543219929693, 94.91703414096166, 14.153552629761593, 220.25293780924628, 20.97979640130191, 32.69002098583863, 54.89240607333266, 52.60255680035673, 85.63044691530163, 4.069463373153841, 3.724811128109196, 3.459236848173101, 4.067362451587345, 3.8450862684328864, 2.8642326160240037, 2.8684837467481428, 2.7986968546792905, 2.9271827010967666, 2.9314806644291207, 2.5847500816984526, 2.5898647942873154, 3.9881855437840095, 2.5179496428200965, 2.5204628855632905, 2.5239513512492615, 2.624963019974627, 2.530430708798028, 3.7264500488110928, 4.686800830052841, 3.7732119429680053, 2.2345249167359063, 2.235283985844432, 2.2377402257493073, 2.238685577743003, 2.2396178507928073, 2.239179356712604, 2.2400394543017472, 2.2404016650634717, 2.2408787165049255, 8.07630791734385, 4.487169974863171, 3.1272133684144294, 3.6852033032842604, 4.552499362926392, 2.770262031910915, 7.419808320562795, 8.797921806676193, 32.09422078108071, 13.97661811370686, 15.836479212675007, 10.936451752676007, 5.719593304825592, 16.209301012168417, 6.722496387973566, 26.405022628244208, 23.906719088853297, 5.122782188898542, 24.272551197508754, 41.32760436832036, 25.025181722099582, 20.87922534021672, 23.262120389645446, 9.000140311558662, 23.862847753335448, 3.8405063381222337, 3.2870313721718767, 3.6514963806009155, 3.328142669393211, 2.9680353270379722, 2.71003212993059, 8.026565940111947, 2.7285680783775663, 2.7274048144026484, 2.7544447520229647, 2.756612446717455, 3.794225164821218, 2.703035700146665, 2.456696067772, 2.456696067772, 2.4571116535870248, 2.4606847778233436, 2.4618772760257928, 2.840202915278473, 2.417908845743617, 3.8121011403992155, 2.1438088734334357, 2.144656809365995, 2.145504454456832, 2.1463370343165336, 2.148567455767937, 11.718543527120438, 2.1496162770195504, 2.1513298425363057, 2.1533495284838615, 4.579534922252725, 3.635679780437223, 3.0391394625177783, 4.2372191926032, 3.5509474228983087, 5.123038846412534, 15.4149627947262, 3.4759532006384743, 18.94646956753992, 18.005098901691632, 5.4024992575502955, 86.93143235066654, 13.865780378971879, 46.96557508240175, 418.2917019393598, 59.081303299043945, 101.59759428049857], \"Category\": [\"Default\", \"Default\", \"Default\", \"Default\", \"Default\", \"Default\", \"Default\", \"Default\", \"Default\", \"Default\", \"Default\", \"Default\", \"Default\", \"Default\", \"Default\", \"Default\", \"Default\", \"Default\", \"Default\", \"Default\", \"Default\", \"Default\", \"Default\", \"Default\", \"Default\", \"Default\", \"Default\", \"Default\", \"Default\", \"Default\", \"Topic1\", \"Topic1\", \"Topic1\", \"Topic1\", \"Topic1\", \"Topic1\", \"Topic1\", \"Topic1\", \"Topic1\", \"Topic1\", \"Topic1\", \"Topic1\", \"Topic1\", \"Topic1\", \"Topic1\", \"Topic1\", \"Topic1\", \"Topic1\", \"Topic1\", \"Topic1\", \"Topic1\", \"Topic1\", \"Topic1\", \"Topic1\", \"Topic1\", \"Topic1\", \"Topic1\", \"Topic1\", \"Topic1\", \"Topic1\", \"Topic1\", \"Topic1\", \"Topic1\", \"Topic1\", \"Topic1\", \"Topic1\", \"Topic1\", \"Topic1\", \"Topic1\", \"Topic1\", \"Topic1\", \"Topic1\", \"Topic1\", \"Topic1\", \"Topic1\", \"Topic1\", \"Topic1\", \"Topic1\", \"Topic1\", \"Topic1\", \"Topic2\", \"Topic2\", \"Topic2\", \"Topic2\", \"Topic2\", \"Topic2\", \"Topic2\", \"Topic2\", \"Topic2\", \"Topic2\", \"Topic2\", \"Topic2\", \"Topic2\", \"Topic2\", \"Topic2\", \"Topic2\", \"Topic2\", \"Topic2\", \"Topic2\", \"Topic2\", \"Topic2\", \"Topic2\", \"Topic2\", \"Topic2\", \"Topic2\", \"Topic2\", \"Topic2\", \"Topic2\", \"Topic2\", \"Topic2\", \"Topic2\", \"Topic2\", \"Topic2\", \"Topic2\", \"Topic2\", \"Topic2\", \"Topic2\", \"Topic2\", \"Topic2\", \"Topic2\", \"Topic2\", \"Topic2\", \"Topic2\", \"Topic2\", \"Topic2\", \"Topic2\", \"Topic2\", \"Topic2\", \"Topic2\", \"Topic2\", \"Topic2\", \"Topic2\", \"Topic2\", \"Topic2\", \"Topic2\", \"Topic2\", \"Topic2\", \"Topic2\", \"Topic2\", \"Topic2\", \"Topic2\", \"Topic3\", \"Topic3\", \"Topic3\", \"Topic3\", \"Topic3\", \"Topic3\", \"Topic3\", \"Topic3\", \"Topic3\", \"Topic3\", \"Topic3\", \"Topic3\", \"Topic3\", \"Topic3\", \"Topic3\", \"Topic3\", \"Topic3\", \"Topic3\", \"Topic3\", \"Topic3\", \"Topic3\", \"Topic3\", \"Topic3\", \"Topic3\", \"Topic3\", \"Topic3\", \"Topic3\", \"Topic3\", \"Topic3\", \"Topic3\", \"Topic3\", \"Topic3\", \"Topic3\", \"Topic3\", \"Topic3\", \"Topic3\", \"Topic3\", \"Topic3\", \"Topic3\", \"Topic3\", \"Topic3\", \"Topic3\", \"Topic3\", \"Topic3\", \"Topic3\", \"Topic3\", \"Topic3\", \"Topic3\", \"Topic3\", \"Topic3\", \"Topic3\", \"Topic3\", \"Topic3\", \"Topic3\", \"Topic3\", \"Topic3\", \"Topic3\", \"Topic3\", \"Topic3\", \"Topic3\", \"Topic3\", \"Topic4\", \"Topic4\", \"Topic4\", \"Topic4\", \"Topic4\", \"Topic4\", \"Topic4\", \"Topic4\", \"Topic4\", \"Topic4\", \"Topic4\", \"Topic4\", \"Topic4\", \"Topic4\", \"Topic4\", \"Topic4\", \"Topic4\", \"Topic4\", \"Topic4\", \"Topic4\", \"Topic4\", \"Topic4\", \"Topic4\", \"Topic4\", \"Topic4\", \"Topic4\", \"Topic4\", \"Topic4\", \"Topic4\", \"Topic4\", \"Topic4\", \"Topic4\", \"Topic4\", \"Topic4\", \"Topic4\", \"Topic4\", \"Topic4\", \"Topic4\", \"Topic4\", \"Topic4\", \"Topic4\", \"Topic4\", \"Topic4\", \"Topic4\", \"Topic4\", \"Topic4\", \"Topic4\", \"Topic4\", \"Topic4\", \"Topic4\", \"Topic4\", \"Topic4\", \"Topic4\", \"Topic4\", \"Topic4\", \"Topic4\", \"Topic5\", \"Topic5\", \"Topic5\", \"Topic5\", \"Topic5\", \"Topic5\", \"Topic5\", \"Topic5\", \"Topic5\", \"Topic5\", \"Topic5\", \"Topic5\", \"Topic5\", \"Topic5\", \"Topic5\", \"Topic5\", \"Topic5\", \"Topic5\", \"Topic5\", \"Topic5\", \"Topic5\", \"Topic5\", \"Topic5\", \"Topic5\", \"Topic5\", \"Topic5\", \"Topic5\", \"Topic5\", \"Topic5\", \"Topic5\", \"Topic5\", \"Topic5\", \"Topic5\", \"Topic5\", \"Topic5\", \"Topic5\", \"Topic5\", \"Topic5\", \"Topic5\", \"Topic5\", \"Topic5\", \"Topic5\", \"Topic5\", \"Topic5\", \"Topic5\", \"Topic5\", \"Topic5\", \"Topic5\", \"Topic5\", \"Topic5\", \"Topic5\", \"Topic5\", \"Topic5\", \"Topic5\", \"Topic5\", \"Topic5\", \"Topic5\", \"Topic5\", \"Topic6\", \"Topic6\", \"Topic6\", \"Topic6\", \"Topic6\", \"Topic6\", \"Topic6\", \"Topic6\", \"Topic6\", \"Topic6\", \"Topic6\", \"Topic6\", \"Topic6\", \"Topic6\", \"Topic6\", \"Topic6\", \"Topic6\", \"Topic6\", \"Topic6\", \"Topic6\", \"Topic6\", \"Topic6\", \"Topic6\", \"Topic6\", \"Topic6\", \"Topic6\", \"Topic6\", \"Topic6\", \"Topic6\", \"Topic6\", \"Topic6\", \"Topic6\", \"Topic6\", \"Topic6\", \"Topic6\", \"Topic6\", \"Topic6\", \"Topic6\", \"Topic6\", \"Topic6\", \"Topic6\", \"Topic6\", \"Topic6\", \"Topic6\", \"Topic6\", \"Topic6\", \"Topic6\", \"Topic6\", \"Topic6\", \"Topic6\", \"Topic6\", \"Topic6\", \"Topic6\", \"Topic6\", \"Topic6\", \"Topic7\", \"Topic7\", \"Topic7\", \"Topic7\", \"Topic7\", \"Topic7\", \"Topic7\", \"Topic7\", \"Topic7\", \"Topic7\", \"Topic7\", \"Topic7\", \"Topic7\", \"Topic7\", \"Topic7\", \"Topic7\", \"Topic7\", \"Topic7\", \"Topic7\", \"Topic7\", \"Topic7\", \"Topic7\", \"Topic7\", \"Topic7\", \"Topic7\", \"Topic7\", \"Topic7\", \"Topic7\", \"Topic7\", \"Topic7\", \"Topic7\", \"Topic7\", \"Topic7\", \"Topic7\", \"Topic7\", \"Topic7\", \"Topic7\", \"Topic7\", \"Topic7\", \"Topic7\", \"Topic7\", \"Topic7\", \"Topic7\", \"Topic7\", \"Topic7\", \"Topic7\", \"Topic7\"], \"logprob\": [30.0, 29.0, 28.0, 27.0, 26.0, 25.0, 24.0, 23.0, 22.0, 21.0, 20.0, 19.0, 18.0, 17.0, 16.0, 15.0, 14.0, 13.0, 12.0, 11.0, 10.0, 9.0, 8.0, 7.0, 6.0, 5.0, 4.0, 3.0, 2.0, 1.0, -3.8735, -4.0705, -4.1662, -4.2866, -4.6405, -4.6631, -4.9612, -4.9961, -5.0944, -5.1493, -5.1104, -4.8564, -5.3325, -5.3417, -5.2749, -5.3893, -5.3881, -5.4458, -5.4416, -5.4904, -5.4904, -5.385, -5.8022, -5.9318, -4.5387, -6.1873, -5.5469, -6.1518, -5.8796, -6.2525, -4.9292, -5.7145, -5.3584, -4.799, -4.3627, -5.6011, -4.8717, -4.3077, -4.4983, -5.0618, -5.1589, -4.4582, -4.8728, -4.3772, -5.0643, -4.5464, -4.3713, -5.1759, -5.1193, -5.2471, -5.5573, -5.679, -5.863, -4.7896, -6.4039, -5.6503, -6.4304, -5.2436, -6.2911, -6.7551, -6.7112, -6.6489, -6.7578, -6.7002, -6.9764, -6.8868, -6.9584, -3.7834, -4.3015, -7.0258, -6.5923, -6.4278, -6.2523, -7.0727, -5.702, -5.9334, -7.0018, -7.0038, -7.1549, -7.1822, -5.6381, -5.0559, -5.1106, -6.1411, -6.6262, -5.0326, -3.9861, -4.9582, -3.2664, -5.8804, -4.8856, -4.9191, -5.6593, -5.4084, -4.3507, -5.6858, -5.0585, -3.9901, -4.7664, -4.0636, -5.3731, -5.5284, -5.4526, -5.145, -5.4991, -5.2233, -5.4227, -5.574, -5.5952, -5.5755, -5.5586, -5.7517, -6.0231, -6.1189, -5.2399, -6.3416, -6.3671, -6.3516, -6.3614, -6.4648, -6.4701, -6.5147, -6.5434, -6.5447, -6.5385, -6.656, -6.5543, -6.6998, -6.6711, -6.678, -6.744, -6.3672, -6.3493, -6.8409, -6.8537, -6.8908, -6.8936, -6.8945, -6.8975, -6.9023, -6.9197, -5.8685, -4.826, -5.8337, -5.8168, -6.657, -6.4346, -5.4506, -6.6992, -5.4169, -6.028, -5.7239, -5.8958, -5.9933, -6.1601, -6.1146, -4.9418, -5.2027, -5.7635, -6.2183, -5.8012, -5.9104, -6.0709, -5.845, -5.9546, -6.0515, -6.033, -6.1465, -6.2067, -6.2066, -6.1805, -6.2032, -5.7334, -4.6904, -6.1704, -5.8826, -6.2109, -5.7467, -6.0983, -5.8653, -6.4565, -6.5475, -6.5859, -5.6743, -6.6827, -5.5019, -5.7957, -6.7998, -6.8023, -6.7794, -6.8077, -6.245, -6.3428, -6.71, -6.8991, -5.5222, -4.788, -6.9046, -6.3967, -6.9387, -6.9705, -6.971, -6.0878, -5.3114, -6.5209, -6.4803, -4.9226, -5.8312, -5.7273, -6.1379, -6.0301, -5.2377, -5.6312, -5.4481, -5.2004, -3.9837, -5.9927, -4.9984, -5.2668, -4.6806, -5.3871, -5.7829, -5.8888, -5.7981, -5.7487, -5.8044, -5.8895, -5.8278, -5.8654, -5.6937, -5.3941, -6.1013, -6.2172, -6.2193, -6.3308, -6.3079, -5.6044, -6.4672, -6.4693, -6.2152, -6.6173, -6.619, -6.6203, -6.5371, -6.6298, -6.628, -6.632, -6.6698, -6.67, -6.6404, -6.3214, -6.4812, -6.6616, -6.6562, -6.8007, -6.8019, -6.808, -6.8204, -6.2388, -5.1858, -5.6454, -5.4265, -6.3471, -6.0208, -6.0022, -6.4687, -5.5733, -4.6857, -6.1156, -5.6949, -6.4622, -6.3979, -5.6681, -4.946, -5.9462, -5.1371, -6.2777, -5.6616, -5.783, -6.2028, -5.7342, -6.1403, -6.1209, -6.0777, -6.1235, -6.1041, -5.8877, -6.0256, -6.1464, -6.0178, -6.1022, -6.4209, -6.4234, -6.4651, -6.4555, -6.4603, -6.6054, -6.609, -6.196, -6.6596, -6.6597, -6.6622, -6.6323, -6.6869, -6.3383, -6.1251, -6.3436, -6.8941, -6.8948, -6.8971, -6.8981, -6.899, -6.8996, -6.8993, -6.8997, -6.9001, -5.6814, -6.2657, -6.6095, -6.4715, -6.3283, -6.7403, -6.0874, -5.9757, -5.262, -5.8718, -5.8107, -6.0934, -6.3562, -6.0896, -6.3684, -6.0622, -6.1073, -6.4704, -6.2355, -6.1705, -6.2544, -6.3076, -6.3281, -6.3979, -6.4051, -5.8664, -6.1132, -6.0363, -6.1395, -6.2772, -6.4292, -5.3553, -6.4389, -6.4419, -6.4532, -6.453, -6.1433, -6.5091, -6.6124, -6.6124, -6.6126, -6.6149, -6.6157, -6.4999, -6.6817, -6.2761, -6.9029, -6.9036, -6.9047, -6.9074, -6.908, -5.2121, -6.9095, -6.9116, -6.9111, -6.2258, -6.4492, -6.6149, -6.4808, -6.6125, -6.4608, -5.9829, -6.6774, -5.9014, -6.0036, -6.4779, -5.8486, -6.3451, -6.2749, -6.1376, -6.4242, -6.4352], \"loglift\": [30.0, 29.0, 28.0, 27.0, 26.0, 25.0, 24.0, 23.0, 22.0, 21.0, 20.0, 19.0, 18.0, 17.0, 16.0, 15.0, 14.0, 13.0, 12.0, 11.0, 10.0, 9.0, 8.0, 7.0, 6.0, 5.0, 4.0, 3.0, 2.0, 1.0, 0.5465, 0.5455, 0.5454, 0.5454, 0.5439, 0.5438, 0.5419, 0.5415, 0.5407, 0.5405, 0.5398, 0.5388, 0.5387, 0.5384, 0.5382, 0.5381, 0.5378, 0.5375, 0.5371, 0.537, 0.5369, 0.5366, 0.5292, 0.5285, 0.5255, 0.5249, 0.5244, 0.5243, 0.5241, 0.5234, 0.516, 0.5217, 0.5168, 0.5056, 0.4906, 0.5185, 0.4842, 0.4467, 0.4522, 0.4761, 0.4892, 0.3605, 0.393, 0.1601, 0.3674, -0.0711, -0.2075, 0.2652, -0.0026, 0.135, 1.6497, 1.6398, 1.6334, 1.6232, 1.5971, 1.595, 1.5943, 1.5928, 1.5657, 1.5604, 1.559, 1.5429, 1.5397, 1.5363, 1.5328, 1.5324, 1.5323, 1.5292, 1.5257, 1.5246, 1.5229, 1.5211, 1.5196, 1.5179, 1.512, 1.512, 1.511, 1.5082, 1.5032, 1.4978, 1.4902, 1.454, 1.4406, 1.4669, 1.4816, 1.3375, 1.1804, 1.2534, 0.8974, 1.3563, 1.1759, 1.1482, 1.2874, 1.1403, 0.7661, 1.2087, 0.9703, 0.5471, 0.8115, 0.4117, 1.0141, 1.0111, 0.7782, 0.3164, 0.8166, 0.2178, -0.6683, 0.4883, 0.3633, -0.1438, -0.7399, 2.8269, 2.7766, 2.7535, 2.7347, 2.695, 2.6939, 2.6864, 2.6682, 2.668, 2.6611, 2.6383, 2.6371, 2.6356, 2.6218, 2.6079, 2.5934, 2.5917, 2.588, 2.5788, 2.5763, 2.5663, 2.5631, 2.5423, 2.527, 2.5243, 2.5208, 2.5196, 2.5158, 2.5113, 2.4975, 2.4188, 2.3113, 2.3731, 2.2625, 2.4563, 2.3776, 2.0222, 2.4576, 1.6075, 1.9341, 1.5214, 1.6436, 1.6762, 1.8892, 1.807, -0.1231, 0.1794, 1.0892, 1.9373, 0.9887, 1.1324, 1.397, 0.2173, 0.6473, 0.5395, -0.0615, 0.9039, 1.1721, 0.521, -0.1073, -0.6253, 2.2613, 2.2482, 2.2138, 2.2121, 2.202, 2.2006, 2.1926, 2.184, 2.1564, 2.1431, 2.1401, 2.1383, 2.1298, 2.117, 2.1125, 2.1063, 2.1042, 2.1025, 2.0967, 2.0948, 2.0857, 2.0856, 2.0837, 2.0804, 2.0794, 2.0776, 2.075, 2.0699, 2.0655, 2.065, 2.0649, 2.0259, 2.0552, 2.0372, 1.8752, 1.928, 1.9058, 1.9625, 1.852, 1.5523, 1.6067, 1.4792, 1.3385, 0.4916, 1.6671, 0.3837, 0.7047, -0.5168, 0.5714, 1.1154, 1.1616, 0.4041, 0.1418, 0.242, 0.446, -1.0091, 2.9252, 2.9234, 2.8911, 2.8801, 2.8401, 2.8339, 2.8106, 2.8083, 2.8077, 2.7693, 2.7628, 2.756, 2.7203, 2.718, 2.7164, 2.709, 2.7074, 2.7073, 2.6997, 2.6911, 2.6901, 2.688, 2.6868, 2.6709, 2.6656, 2.6644, 2.6507, 2.6491, 2.6418, 2.6324, 2.6294, 2.4898, 2.4586, 2.4168, 2.5694, 2.39, 2.312, 2.5434, 1.7015, 0.6269, 2.1577, 1.3957, 2.4426, 2.3162, 0.9173, -0.7822, 1.2903, -0.6618, 1.975, -0.2795, 0.1755, 1.6587, -0.6174, 1.3277, 0.9036, 0.4284, 0.4252, -0.0427, 3.2203, 3.1708, 3.124, 3.0907, 3.0625, 3.0383, 3.0343, 3.0173, 2.9819, 2.9756, 2.9565, 2.9509, 2.9322, 2.9285, 2.9274, 2.9235, 2.9141, 2.8962, 2.8577, 2.8416, 2.84, 2.8134, 2.8123, 2.8089, 2.8075, 2.8062, 2.8058, 2.8057, 2.8052, 2.8045, 2.7412, 2.7446, 2.7619, 2.7357, 2.6675, 2.7522, 2.4199, 2.3613, 1.7808, 2.0023, 1.9385, 2.026, 2.4114, 1.6363, 2.2377, 1.1758, 1.23, 2.4073, 1.0866, 0.6195, 1.0372, 1.1651, 1.0366, 1.9163, 0.9341, 3.2995, 3.2083, 3.18, 3.1696, 3.1464, 3.0853, 3.0735, 3.0688, 3.0662, 3.0451, 3.0445, 3.0347, 3.008, 3.0003, 3.0003, 2.9999, 2.9961, 2.9949, 2.9677, 2.9468, 2.8972, 2.846, 2.8449, 2.8434, 2.8403, 2.8387, 2.8383, 2.8367, 2.8338, 2.8334, 2.7641, 2.7715, 2.785, 2.5868, 2.6318, 2.4169, 1.7932, 2.5882, 1.6685, 1.6172, 2.3468, 0.1977, 1.5369, 0.3872, -1.6623, 0.0083, -0.5448]}, \"token.table\": {\"Topic\": [4, 6, 7, 7, 4, 5, 5, 1, 2, 7, 1, 2, 5, 2, 3, 4, 4, 5, 6, 1, 4, 1, 2, 5, 6, 1, 2, 4, 7, 5, 7, 1, 5, 1, 5, 6, 1, 2, 5, 6, 4, 1, 4, 1, 6, 3, 1, 2, 3, 4, 6, 4, 6, 1, 2, 3, 4, 4, 2, 3, 4, 5, 1, 2, 3, 5, 1, 2, 5, 1, 1, 2, 2, 6, 4, 5, 2, 2, 6, 4, 2, 6, 1, 2, 7, 3, 4, 5, 3, 1, 4, 6, 3, 1, 6, 1, 5, 2, 4, 3, 4, 6, 7, 3, 1, 2, 3, 7, 2, 4, 6, 1, 1, 3, 4, 6, 1, 2, 3, 4, 5, 2, 4, 7, 1, 2, 3, 4, 4, 1, 2, 4, 4, 6, 6, 3, 4, 5, 4, 7, 1, 2, 5, 3, 1, 2, 6, 2, 7, 6, 3, 2, 3, 4, 1, 2, 4, 3, 3, 6, 7, 1, 2, 3, 4, 6, 7, 1, 2, 4, 5, 7, 3, 7, 6, 6, 1, 2, 3, 2, 1, 2, 4, 1, 3, 5, 2, 3, 4, 5, 3, 1, 2, 3, 1, 2, 3, 4, 1, 2, 3, 4, 5, 4, 1, 2, 4, 5, 3, 3, 1, 3, 4, 7, 7, 4, 1, 5, 2, 6, 4, 1, 2, 4, 7, 1, 2, 1, 2, 5, 2, 5, 1, 2, 3, 5, 4, 1, 2, 6, 2, 2, 3, 4, 5, 2, 3, 3, 4, 6, 3, 3, 4, 5, 6, 7, 1, 2, 4, 5, 6, 5, 1, 3, 2, 1, 2, 2, 3, 4, 6, 1, 2, 3, 4, 5, 6, 2, 1, 2, 4, 7, 7, 1, 2, 4, 6, 1, 2, 3, 4, 6, 3, 7, 4, 5, 6, 5, 1, 2, 3, 4, 6, 7, 3, 1, 1, 1, 5, 6, 1, 6, 7, 4, 1, 2, 4, 2, 1, 3, 1, 6, 3, 2, 3, 5, 3, 1, 6, 6, 1, 4, 7, 1, 2, 3, 7, 6, 1, 2, 4, 5, 7, 3, 6, 1, 2, 4, 1, 2, 3, 4, 5, 3, 5, 1, 4, 6, 7, 1, 1, 2, 3, 4, 2, 2, 3, 4, 1, 2, 4, 1, 2, 3, 6, 7, 1, 2, 1, 2, 3, 4, 6, 1, 2, 4, 5, 6, 7, 3, 4, 1, 7, 6, 1, 2, 4, 5, 7, 4, 5, 2, 3, 2, 4, 1, 1, 1, 2, 5, 2, 1, 3, 6, 5, 1, 2, 4, 5, 7, 2, 3, 4, 1, 2, 3, 4, 5, 4, 6, 7, 1, 2, 3, 2, 3, 2, 1, 4, 4, 7, 1, 2, 5, 1, 7, 7, 7, 2, 4, 6, 1, 2, 3, 4, 5, 1, 2, 3, 5, 1, 2, 6, 1, 3, 7, 7, 5, 2, 3, 5, 2, 4, 7, 7, 1, 2, 4, 6, 5, 4, 3, 1, 4, 6, 5, 1, 2, 4, 5, 2, 4, 5, 2, 6, 2, 3, 4, 5, 7, 4, 2, 1, 2, 5, 4, 5, 4, 5, 1, 3, 4, 6, 3, 5, 5, 3, 1, 1, 2, 4, 5, 1, 2, 3, 4, 4, 3, 1, 2, 4, 2, 4, 5, 3, 7, 7, 1, 2, 4, 6, 4, 4, 5, 1, 7, 6, 1, 2, 3, 4, 5, 6, 5, 7, 1, 1, 1, 2, 3, 4, 4, 1, 2, 3, 4, 5, 7, 1, 2, 3, 5, 6, 5, 7, 1, 2, 3, 4, 7, 1, 3, 6, 5, 1, 2, 3, 4, 6, 1, 2, 3, 3, 7, 7, 1, 2, 4, 6, 7, 1, 2, 3, 4, 6, 4, 5, 7, 2, 3, 4, 5, 5, 1, 2, 4, 1, 3, 4, 5, 1, 2, 3, 4, 5, 7, 7, 1, 2, 3, 4, 5, 5, 5, 1, 3, 4, 1, 3, 2, 1, 2, 3, 4, 1, 2, 1, 2, 4, 5, 1, 6, 3, 2, 3, 5, 6, 3, 6, 2, 6, 1, 5, 6, 6, 1, 3, 5, 1, 2, 3, 4, 6, 7, 3, 5, 5, 2, 7, 5, 4, 7, 4, 5, 2, 6, 6, 1, 2, 3, 3, 6, 1, 2, 1, 1, 1, 2, 1, 2, 3, 4, 6, 7, 1, 5, 6, 1, 1, 2, 4, 5, 3, 1, 2, 1, 2, 5, 5, 1, 2, 3], \"Freq\": [0.8672870536230255, 0.3809577477436867, 0.3699544182660039, 0.3664925965837033, 0.20290905265366738, 0.6087271579610021, 0.6929056317945392, 0.6109380492748372, 0.22215929064539536, 0.11107964532269768, 0.4691095840517895, 0.5014619691588095, 0.016176192553509983, 0.8504356303596015, 0.03697546218954789, 0.07395092437909578, 0.7562592104421927, 0.09453240130527409, 0.09453240130527409, 0.9653543583602704, 0.024752675855391548, 0.1748376058759816, 0.3496752117519632, 0.1748376058759816, 0.3496752117519632, 0.8366339833335558, 0.029528258235301967, 0.10827028019610721, 0.009842752745100656, 0.5588474111097154, 0.4070507593993542, 0.9701495077503214, 0.016443211995768158, 0.9937415152896402, 0.21336515808134426, 0.4267303161626885, 0.3503426769414558, 0.5955825508004748, 0.03503426769414558, 0.4464207083851184, 0.8032370915365797, 0.96932614562791, 0.0193865229125582, 0.3197735114911662, 0.3197735114911662, 0.8684048448795353, 0.8290629525968918, 0.08762453970536255, 0.043812269852681274, 0.033701746040524054, 0.003370174604052406, 0.2228576152902461, 0.4457152305804922, 0.08525268667591683, 0.3410107467036673, 0.3410107467036673, 0.2557580600277505, 0.8385595098479242, 0.07403063023940429, 0.07403063023940429, 0.8143369326334471, 0.6183316792753247, 0.30416772440786555, 0.5703144832647479, 0.05703144832647479, 0.05703144832647479, 0.3121059243753009, 0.6513514943484541, 0.04070946839677838, 0.9744695076859369, 0.2862409369210359, 0.6997000680291989, 0.3609766832454489, 0.3609766832454489, 0.8467204139452664, 0.07697458308593332, 0.893540649268458, 0.8506134562415171, 0.7146183041068179, 0.8683262612179466, 0.7952885812406256, 0.7371979361679314, 0.9936557450363694, 0.43672557016252156, 0.43672557016252156, 0.22324991297107655, 0.22324991297107655, 0.4464998259421531, 0.7221128500454888, 0.670498348117885, 0.2514368805442069, 0.08381229351473563, 0.7670421141912005, 0.5950170545507371, 0.29750852727536853, 0.15041197570730336, 0.7520598785365168, 0.8397548135362344, 0.06459652411817188, 0.12381895418480796, 0.2476379083696159, 0.3714568625544239, 0.12381895418480796, 0.6676931731089069, 0.5252178928469086, 0.07503112754955836, 0.30012451019823344, 0.07503112754955836, 0.8195011981656043, 0.09105568868506714, 0.39518963966217713, 0.9906586567653171, 0.3387566304407349, 0.12098451087169103, 0.4355442391380877, 0.04839380434867641, 0.44544280386247265, 0.32256203038316983, 0.030720193369825698, 0.1536009668491285, 0.04608029005473855, 0.28769086989327614, 0.28769086989327614, 0.28769086989327614, 0.05228878772321122, 0.13072196930802807, 0.05228878772321122, 0.7581874219865627, 0.8019370387783873, 0.16656186683789048, 0.41640466709472623, 0.41640466709472623, 0.8524853303056307, 0.08524853303056307, 0.5781622039139194, 0.21331316961253638, 0.31996975441880454, 0.31996975441880454, 0.4720076798224993, 0.23600383991124965, 0.8084975699919975, 0.07887781170653634, 0.09859726463317042, 0.7557450077539869, 0.9587035015080787, 0.038348140060323145, 0.6832508265543634, 0.5552985492422479, 0.1850995164140826, 0.3861205427425342, 0.5703229651470335, 0.11086147522379183, 0.05543073761189592, 0.7760303265665428, 0.942392955503329, 0.04634719453295061, 0.8341090092177954, 0.6816198446250643, 0.1245862810398905, 0.249172562079781, 0.498345124159562, 0.564631433244663, 0.2554285055154428, 0.026887211106888718, 0.14787966108788794, 0.2635584227503587, 0.5271168455007174, 0.19461610384336225, 0.45410424230117863, 0.0648720346144541, 0.1297440692289082, 0.1297440692289082, 0.27505172633210867, 0.27505172633210867, 0.6982673086015996, 0.3868845994359713, 0.6103795073504509, 0.2179926811965896, 0.17439414495727168, 0.9443968717716353, 0.09528767977193885, 0.7813589741298985, 0.11434521572632661, 0.4162410540648487, 0.06937350901080812, 0.4856145630756568, 0.7835349351692689, 0.2447495845808546, 0.1223747922904273, 0.4894991691617092, 0.6669436880774204, 0.7217758575713271, 0.18044396439283178, 0.10024664688490655, 0.5789529004974056, 0.283568767590566, 0.047261461265094326, 0.09452292253018865, 0.9074459844445855, 0.05767665155368128, 0.0038451101035787516, 0.023070660621472512, 0.0038451101035787516, 0.7840464243388703, 0.516240319174216, 0.26338791794602856, 0.16856826748545828, 0.05267758358920571, 0.68735696253894, 0.5716232950802533, 0.9961495336620468, 0.19519664597122102, 0.39039329194244204, 0.19519664597122102, 0.46482876787552585, 0.8036195885505861, 0.9782479083871403, 0.6329026367347783, 0.268351913188544, 0.536703826377088, 0.6860419508651394, 0.7132057798139412, 0.12653650932182828, 0.11503319029257116, 0.03450995708777135, 0.9342976614518935, 0.057672695151351455, 0.5893714112389792, 0.15716570966372778, 0.23574856449559167, 0.9156765337539043, 0.03815318890641268, 0.47091440392932776, 0.508587556243674, 0.668188448317189, 0.6324326608575879, 0.8584024374829409, 0.10279021725552386, 0.8223217380441908, 0.4465047461762317, 0.9149942640621735, 0.16866917429581954, 0.11244611619721302, 0.6184536390846717, 0.05622305809860651, 0.2063817350897218, 0.6191452052691654, 0.08920804454179168, 0.8920804454179168, 0.44687939578203273, 0.7034135627320824, 0.08365848917062468, 0.7110971579503098, 0.08365848917062468, 0.08365848917062468, 0.36304957624057027, 0.4692154472657439, 0.4517074081886639, 0.05602572504665598, 0.019258842984787996, 0.0017508039077079995, 0.6126132126252991, 0.9850527321867827, 0.7711512797801265, 0.8441959640754552, 0.3492202748251904, 0.6178512554599523, 0.19157798887755484, 0.3831559777551097, 0.28736698331633226, 0.09578899443877742, 0.15698141605201157, 0.31396283210402315, 0.12558513284160924, 0.31396283210402315, 0.09418884963120694, 0.03139628321040231, 0.8637972026548896, 0.9038469852392917, 0.09480912432579984, 0.2816149835256622, 0.2816149835256622, 0.7811469988269337, 0.38654067718939983, 0.6012854978501775, 0.009544214251590119, 0.4465921843206546, 0.5544596609513305, 0.41764493941788533, 0.028803099270198987, 0.6807685498313435, 0.1361537099662687, 0.6062565612435549, 0.2020855204145183, 0.20055100210056215, 0.4011020042011243, 0.20055100210056215, 0.5136354527469068, 0.03393986812212035, 0.8145568349308883, 0.0678797362442407, 0.03393986812212035, 0.03393986812212035, 0.5477206579267829, 0.7924655124742441, 0.9932460510950244, 0.9935626099685286, 0.8170964996373709, 0.16341929992747417, 0.44634853454800905, 0.42667418424724957, 0.08533483684944992, 0.42667418424724957, 0.6860026420232292, 0.37750042047168797, 0.3235717889757326, 0.2966074732277548, 0.8846913386865594, 0.568841147440964, 0.3792274316273093, 0.5390974843534231, 0.26954874217671154, 0.5743724324086833, 0.29331352602138167, 0.11732541040855266, 0.5279643468384869, 0.7766039355283976, 0.2650261938939483, 0.5300523877878967, 0.682249084658207, 0.9735134192762106, 0.013907334561088723, 0.4654263925088551, 0.7026423064574647, 0.2129219110477166, 0.04258438220954332, 0.04258438220954332, 0.6972324672459101, 0.03782474213930253, 0.7186701006467481, 0.15129896855721012, 0.03782474213930253, 0.03782474213930253, 0.2507405909332882, 0.5014811818665764, 0.2551352958034854, 0.06378382395087134, 0.6378382395087134, 0.6630536863432077, 0.10656219959087267, 0.05920122199492926, 0.1361628105883373, 0.02960061099746463, 0.7911556064592046, 0.15823112129184091, 0.14423998832644833, 0.5769599533057933, 0.07211999416322416, 0.14423998832644833, 0.9930326894592626, 0.7535479496114577, 0.13881146440211062, 0.07932083680120607, 0.019830209200301516, 0.9546374190812036, 0.6104826581721956, 0.22893099681457335, 0.11446549840728668, 0.7536260746640148, 0.22608782239920444, 0.01256043457773358, 0.9912342917693158, 0.8741442184601801, 0.7767871609567178, 0.49171914817167867, 0.3666489091458975, 0.9270568697095849, 0.062265013637210924, 0.0378715827696488, 0.3408442449268392, 0.0757431655392976, 0.4544589932357856, 0.0757431655392976, 0.5379021361332634, 0.2773184346287047, 0.15539395043849835, 0.02151608544533054, 0.002390676160592282, 0.004781352321184564, 0.5160339730415834, 0.2580169865207917, 0.9890257288688149, 0.4069819124988259, 0.4475224207661802, 0.5270982430687784, 0.42167859445502276, 0.030119899603930196, 0.015059949801965098, 0.46519930589030667, 0.797968668331252, 0.11399552404732172, 0.4794091891203212, 0.5136527026289156, 0.8123879938885766, 0.7314440827946592, 0.9849108683753924, 0.9717442484275904, 0.486019811882289, 0.486019811882289, 0.011302786322843929, 0.8101610816193968, 0.21965955847101756, 0.21965955847101756, 0.4393191169420351, 0.6978901226940175, 0.7108847918844005, 0.1523324554038001, 0.08462914189100006, 0.016925828378200013, 0.016925828378200013, 0.1636085670471528, 0.05453618901571759, 0.7635066462200463, 0.8537928677962691, 0.12121750592169252, 0.005270326344421414, 0.005270326344421414, 0.010540652688842828, 0.7473944467134158, 0.12456574111890263, 0.4135805209366586, 0.997249897802183, 0.9318222340821739, 0.6864206175263406, 0.39912639029114905, 0.49890798786393636, 0.8788519287381843, 0.4619732772109456, 0.5197199368623139, 0.2623225258643785, 0.524645051728757, 0.7104807894173659, 0.21860947366688183, 0.07286982455562728, 0.9890154093788416, 0.368999315157792, 0.40639094003929, 0.35208751974045244, 0.36574933904145396, 0.36574933904145396, 0.18287466952072698, 0.4637436390569777, 0.25763535503165425, 0.15458121301899255, 0.07729060650949628, 0.07729060650949628, 0.5766097890144397, 0.39500040664768704, 0.004540234559168816, 0.02270117279584408, 0.1136632061495662, 0.568316030747831, 0.3409896184486986, 0.3244943619717995, 0.5408239366196658, 0.40619409007028145, 0.4659100523410732, 0.6169072196904413, 0.33147396736087625, 0.16573698368043813, 0.49721095104131435, 0.06727644751162641, 0.807317370139517, 0.06727644751162641, 0.3627640879263929, 0.1108698378548087, 0.8500020902202, 0.027717459463702174, 0.009239153154567392, 0.7155810690903252, 0.8879833961958109, 0.6471779731061644, 0.5767832102229496, 0.32959040584168553, 0.08239760146042138, 0.6179393132691848, 0.06074915632720908, 0.8504881885809271, 0.005522650575200826, 0.07731710805281156, 0.9125061032803614, 0.07604217527336346, 0.6146893018264326, 0.7577441828355123, 0.18943604570887806, 0.3532681956815687, 0.07065363913631374, 0.28261455654525497, 0.2119609174089412, 0.07065363913631374, 0.6500461624977072, 0.8131058409065103, 0.5809539537872768, 0.40113487285311966, 0.013832236994935162, 0.1079305479369888, 0.7555138355589215, 0.19334796571072077, 0.5800438971321623, 0.5594364970239831, 0.1198792493622821, 0.2397584987245642, 0.07991949957485474, 0.12252327886275824, 0.7351396731765495, 0.6938528864706364, 0.6695461835750932, 0.9955568559107654, 0.666478537230874, 0.24992945146157775, 0.057676027260364096, 0.019225342420121364, 0.5843930444346859, 0.30388438310603666, 0.058439304443468586, 0.058439304443468586, 0.8094291566369527, 0.6671762881889725, 0.4141443706511828, 0.2070721853255914, 0.3576701382896579, 0.17944226787144937, 0.6280479375500728, 0.08972113393572469, 0.49408226183075055, 0.24704113091537527, 0.4664594929110641, 0.071548066339403, 0.214644199018209, 0.500836464375821, 0.214644199018209, 0.7192477909736673, 0.8983833726533208, 0.05614896079083255, 0.9892156969531721, 0.6009357766999338, 0.4462535132466648, 0.061180749956275746, 0.30590374978137874, 0.24472299982510298, 0.27531337480324086, 0.09177112493441363, 0.030590374978137873, 0.6119249033510379, 0.6084517528284246, 0.9908242157127256, 0.9789857690352145, 0.1981137447637847, 0.6792471249044048, 0.02830196353768353, 0.0849058906130506, 0.7489075928799237, 0.7365000684910219, 0.010673914036101767, 0.04269565614440707, 0.1921304526498318, 0.010673914036101767, 0.010673914036101767, 0.6765724159803839, 0.31793816540431574, 0.0025435053232345257, 0.7622858245232025, 0.3971485302938794, 0.6671893659933675, 0.2223964553311225, 0.2639014082373563, 0.2639014082373563, 0.15834084494241377, 0.21112112658988502, 0.15834084494241377, 0.5469050211523532, 0.31251715494420185, 0.07812928873605046, 0.6926054461493807, 0.30846487434877484, 0.37015784921852984, 0.061692974869754974, 0.061692974869754974, 0.12338594973950995, 0.3993984710433292, 0.5756036788565627, 0.011747013854215565, 0.6455693624444406, 0.4070507593993542, 0.46609085239730513, 0.25793005536463265, 0.386895083046949, 0.21494171280386054, 0.08597668512154422, 0.04298834256077211, 0.4774116903436639, 0.3864761302782041, 0.09093556006545979, 0.045467780032729894, 0.39675251943910816, 0.450229550973048, 0.450229550973048, 0.4643927921465141, 0.5243139537482542, 0.19065961954481972, 0.09532980977240986, 0.14299471465861477, 0.6916865400971418, 0.9647729734200055, 0.0063057057086274865, 0.025222822834509946, 0.2926522711284495, 0.07316306778211237, 0.6096922315176031, 0.6177794210400325, 0.2089506292439658, 0.3134259438659487, 0.1044753146219829, 0.1044753146219829, 0.3134259438659487, 0.6738464268873618, 0.46627506817541625, 0.4081836316582347, 0.05831194737974781, 0.29155973689873904, 0.23324778951899125, 0.05831194737974781, 0.6078952544622159, 0.6495770853472823, 0.1827999230480132, 0.5483997691440397, 0.1827999230480132, 0.43923726562071974, 0.43923726562071974, 0.8899965652756203, 0.036572403007123465, 0.7863066646531545, 0.036572403007123465, 0.14628961202849386, 0.9961514141103747, 0.8008413405863947, 0.9959463055357818, 0.8388233116373232, 0.0932025901819248, 0.0466012950909624, 0.9905061195989731, 0.44669068758113833, 0.7926488662162766, 0.22221875779330336, 0.11110937889665168, 0.4444375155866067, 0.22221875779330336, 0.271355449808915, 0.54271089961783, 0.5856192766698588, 0.3904128511132392, 0.7563237374168726, 0.15126474748337454, 0.037816186870843635, 0.5369399766090283, 0.9897066263491298, 0.005998221977873514, 0.6180639602730074, 0.49853212231380534, 0.0934747729338385, 0.15579128822306415, 0.06231651528922567, 0.15579128822306415, 0.031158257644612834, 0.214320184699207, 0.642960554097621, 0.55645051060104, 0.32904051042512833, 0.32904051042512833, 0.7007318784691764, 0.7218822471131362, 0.14437644942262723, 0.6674144037740106, 0.5643105211544717, 0.8481430186108194, 0.07710391078280177, 0.5201443765825117, 0.16449504599621723, 0.8224752299810861, 0.5904437916904294, 0.6675172311256372, 0.3962041500938746, 0.9420070652054734, 0.05233372584474852, 0.9976379678757422, 0.9848336682811031, 0.9779367734064147, 0.021540457564017946, 0.10239028380591357, 0.3583659933206975, 0.25597570951478393, 0.20478056761182714, 0.051195141902956785, 0.051195141902956785, 0.9789523987170596, 0.01179460721345855, 0.44737044882564486, 0.9931897470041096, 0.8337179161920202, 0.16176616284322778, 0.7803072988184248, 0.13005121646973744, 0.60773257957923, 0.07032355671788082, 0.9142062373324507, 0.03319015787109595, 0.9293244203906866, 0.016595078935547975, 0.7432907675907983, 0.09038681159480955, 0.8134813043532859, 0.7545029196821946], \"Term\": [\"-the\", \"10mins\", \"accompany\", \"admit\", \"afternoon\", \"afternoon\", \"ahead\", \"along\", \"along\", \"along\", \"although\", \"although\", \"although\", \"ambience\", \"ambience\", \"ambience\", \"american\", \"american\", \"american\", \"another\", \"another\", \"apology\", \"apology\", \"apology\", \"apology\", \"appetizer\", \"appetizer\", \"appetizer\", \"appetizer\", \"appreciate\", \"apricot\", \"arrive\", \"arrive\", \"ask\", \"assure\", \"assure\", \"atmosphere\", \"atmosphere\", \"atmosphere\", \"audacity\", \"baby\", \"back\", \"back\", \"bakery\", \"bakery\", \"band\", \"bar\", \"bar\", \"bar\", \"bar\", \"bar\", \"basil\", \"basil\", \"bathroom\", \"bathroom\", \"bathroom\", \"bathroom\", \"bean\", \"beef\", \"beef\", \"beef\", \"beside\", \"best\", \"best\", \"best\", \"best\", \"better\", \"better\", \"better\", \"bill\", \"bit\", \"bit\", \"bizarrely\", \"bizarrely\", \"black\", \"black\", \"bland\", \"block\", \"bloody\", \"blue\", \"bowl\", \"boy\", \"bring\", \"brooklyn\", \"brooklyn\", \"buck\", \"buck\", \"buck\", \"bunch\", \"burger\", \"burger\", \"burger\", \"burn\", \"bus\", \"bus\", \"buy\", \"buy\", \"cafe\", \"cafe\", \"cake\", \"cake\", \"cake\", \"cake\", \"candy\", \"casual\", \"casual\", \"casual\", \"casual\", \"certainly\", \"certainly\", \"challenge\", \"check\", \"cheese\", \"cheese\", \"cheese\", \"cheese\", \"chef\", \"chef\", \"chef\", \"chef\", \"chef\", \"chewy\", \"chewy\", \"chewy\", \"chicken\", \"chicken\", \"chicken\", \"chicken\", \"chili\", \"choice\", \"choice\", \"choice\", \"chop\", \"chop\", \"chopstick\", \"city\", \"city\", \"city\", \"coconut\", \"coconut\", \"coffee\", \"coffee\", \"coffee\", \"colorful\", \"come\", \"come\", \"comped\", \"consist\", \"consist\", \"contact\", \"control\", \"cook\", \"cook\", \"cook\", \"could\", \"could\", \"crab\", \"cram\", \"cream\", \"cream\", \"cream\", \"crowd\", \"crowd\", \"crowd\", \"crowd\", \"crust\", \"crust\", \"cuisine\", \"cuisine\", \"cuisine\", \"cuisine\", \"cuisine\", \"cute\", \"cute\", \"cutting\", \"danube\", \"date\", \"date\", \"date\", \"decent\", \"decor\", \"decor\", \"decor\", \"definitely\", \"definitely\", \"definitely\", \"destination\", \"dim\", \"dim\", \"dim\", \"din\", \"diner\", \"diner\", \"diner\", \"dining\", \"dining\", \"dining\", \"dining\", \"dinner\", \"dinner\", \"dinner\", \"dinner\", \"dinner\", \"dip\", \"dish\", \"dish\", \"dish\", \"dish\", \"dissapointing\", \"dive\", \"drink\", \"dry\", \"dry\", \"dry\", \"eel\", \"eggs\", \"empty\", \"encourage\", \"enormous\", \"enormous\", \"entering\", \"entree\", \"entree\", \"entree\", \"entree\", \"even\", \"even\", \"ever\", \"ever\", \"ever\", \"expensive\", \"expensive\", \"experience\", \"experience\", \"extend\", \"fabulous\", \"fair\", \"fairly\", \"fairly\", \"falafel\", \"far\", \"fare\", \"fare\", \"fare\", \"fare\", \"fat\", \"fat\", \"feature\", \"feature\", \"fee\", \"fireplace\", \"flavor\", \"flavor\", \"flavor\", \"flavor\", \"flow\", \"food\", \"food\", \"food\", \"food\", \"food\", \"fool\", \"forget\", \"forgive\", \"formal\", \"found\", \"found\", \"french\", \"french\", \"french\", \"french\", \"fresh\", \"fresh\", \"fresh\", \"fresh\", \"fresh\", \"fresh\", \"generous\", \"get\", \"get\", \"glaze\", \"glaze\", \"gnocchi\", \"good\", \"good\", \"good\", \"gourmet\", \"great\", \"great\", \"great\", \"green\", \"green\", \"guacamole\", \"guacamole\", \"guess\", \"guess\", \"guess\", \"handle\", \"high\", \"high\", \"high\", \"high\", \"high\", \"hope\", \"horrific\", \"hostess\", \"hour\", \"however\", \"however\", \"huffy\", \"ice\", \"ice\", \"ice\", \"impress\", \"include\", \"include\", \"include\", \"indian\", \"inside\", \"inside\", \"insist\", \"insist\", \"irving\", \"italian\", \"italian\", \"italian\", \"jazz\", \"juice\", \"juice\", \"knife\", \"know\", \"know\", \"landmark\", \"large\", \"large\", \"large\", \"large\", \"lastly\", \"le\", \"le\", \"le\", \"le\", \"le\", \"lemon\", \"lemon\", \"light\", \"light\", \"light\", \"like\", \"like\", \"like\", \"like\", \"like\", \"live\", \"live\", \"lobster\", \"lobster\", \"lobster\", \"lobster\", \"long\", \"look\", \"look\", \"look\", \"look\", \"lot\", \"loud\", \"loud\", \"loud\", \"make\", \"make\", \"make\", \"manager\", \"manhattan\", \"marble\", \"mary\", \"masala\", \"meal\", \"meal\", \"meat\", \"meat\", \"meat\", \"meat\", \"meat\", \"menu\", \"menu\", \"menu\", \"menu\", \"menu\", \"menu\", \"miniscule\", \"miniscule\", \"minutes\", \"mixture\", \"mojito\", \"much\", \"much\", \"much\", \"much\", \"mural\", \"mushroom\", \"mushroom\", \"music\", \"music\", \"nearby\", \"neighborhood\", \"never\", \"next\", \"nice\", \"nice\", \"nice\", \"noisy\", \"notch\", \"notch\", \"notch\", \"nowhere\", \"offer\", \"offer\", \"offer\", \"offer\", \"offer\", \"often\", \"often\", \"often\", \"one\", \"one\", \"one\", \"one\", \"one\", \"onion\", \"onion\", \"orange\", \"order\", \"overall\", \"palate\", \"pancake\", \"pancake\", \"particular\", \"pasta\", \"pasta\", \"pastry\", \"pastry\", \"pay\", \"pay\", \"pay\", \"people\", \"perfection\", \"peri\", \"pickle\", \"pie\", \"pie\", \"pie\", \"pizza\", \"pizza\", \"pizza\", \"pizza\", \"pizza\", \"place\", \"place\", \"place\", \"place\", \"platter\", \"platter\", \"platter\", \"playing\", \"playing\", \"pongal\", \"pony\", \"pop\", \"popular\", \"popular\", \"popular\", \"pork\", \"pork\", \"pork\", \"port\", \"portion\", \"portion\", \"portion\", \"portion\", \"possible\", \"potato\", \"premises\", \"prepare\", \"prepare\", \"prepare\", \"pretentious\", \"price\", \"price\", \"price\", \"price\", \"quality\", \"quality\", \"quibble\", \"quick\", \"quick\", \"range\", \"range\", \"range\", \"range\", \"range\", \"rare\", \"reading\", \"really\", \"really\", \"really\", \"reasonable\", \"reasonable\", \"reasonably\", \"reasonably\", \"red\", \"red\", \"red\", \"red\", \"relax\", \"relax\", \"remark\", \"remarkable\", \"reservation\", \"restaurant\", \"restaurant\", \"restaurant\", \"restaurant\", \"room\", \"room\", \"room\", \"room\", \"rooms\", \"rubbery\", \"salad\", \"salad\", \"salad\", \"salmon\", \"salmon\", \"salmon\", \"salt\", \"salt\", \"salty\", \"sandwich\", \"sandwich\", \"sandwich\", \"sandwich\", \"sashimi\", \"sauce\", \"sauce\", \"say\", \"scallop\", \"scare\", \"scene\", \"scene\", \"scene\", \"scene\", \"scene\", \"scene\", \"school\", \"scoop\", \"seat\", \"seem\", \"selection\", \"selection\", \"selection\", \"selection\", \"serious\", \"serve\", \"serve\", \"serve\", \"serve\", \"serve\", \"serve\", \"service\", \"service\", \"service\", \"sharing\", \"shine\", \"shop\", \"shop\", \"shrimp\", \"shrimp\", \"shrimp\", \"shrimp\", \"shrimp\", \"sip\", \"sip\", \"sip\", \"sir\", \"slice\", \"slice\", \"slice\", \"slice\", \"slice\", \"small\", \"small\", \"small\", \"soft\", \"softie\", \"sorbet\", \"soup\", \"soup\", \"soup\", \"soup\", \"soup\", \"space\", \"space\", \"space\", \"space\", \"speedy\", \"spicy\", \"spicy\", \"spoil\", \"spot\", \"spot\", \"spot\", \"spot\", \"spring\", \"staff\", \"staff\", \"staff\", \"steak\", \"steak\", \"steak\", \"steep\", \"street\", \"street\", \"street\", \"street\", \"street\", \"stripe\", \"stumble\", \"style\", \"style\", \"style\", \"style\", \"style\", \"suddenly\", \"sum\", \"summer\", \"summer\", \"summer\", \"sunday\", \"sunday\", \"superb\", \"sushi\", \"sushi\", \"sushi\", \"sushi\", \"table\", \"tag\", \"take\", \"tasting\", \"tasting\", \"tasting\", \"tell\", \"terrace\", \"terrific\", \"thai\", \"thai\", \"thai\", \"thai\", \"theme\", \"theme\", \"thin\", \"thin\", \"think\", \"think\", \"think\", \"third\", \"time\", \"time\", \"timely\", \"top\", \"top\", \"top\", \"top\", \"top\", \"top\", \"topping\", \"topping\", \"total\", \"train\", \"train\", \"trip\", \"tuna\", \"tuna\", \"twist\", \"typical\", \"upstairs\", \"upstairs\", \"using\", \"value\", \"value\", \"vibe\", \"vinegar\", \"w/o\", \"wait\", \"wait\", \"waiter\", \"waiting\", \"waitress\", \"waitress\", \"wall\", \"wall\", \"wall\", \"wall\", \"wall\", \"wall\", \"want\", \"want\", \"warming\", \"water\", \"wine\", \"wine\", \"wood\", \"wood\", \"wooden\", \"world\", \"world\", \"worth\", \"worth\", \"worth\", \"yelling\", \"yes\", \"yes\", \"zen\"]}, \"R\": 30, \"lambda.step\": 0.01, \"plot.opts\": {\"xlab\": \"PC1\", \"ylab\": \"PC2\"}, \"topic.order\": [1, 2, 3, 4, 5, 6, 7]};\n",
       "\n",
       "function LDAvis_load_lib(url, callback){\n",
       "  var s = document.createElement('script');\n",
       "  s.src = url;\n",
       "  s.async = true;\n",
       "  s.onreadystatechange = s.onload = callback;\n",
       "  s.onerror = function(){console.warn(\"failed to load library \" + url);};\n",
       "  document.getElementsByTagName(\"head\")[0].appendChild(s);\n",
       "}\n",
       "\n",
       "if(typeof(LDAvis) !== \"undefined\"){\n",
       "   // already loaded: just create the visualization\n",
       "   !function(LDAvis){\n",
       "       new LDAvis(\"#\" + \"ldavis_el1749221433118662244557880646\", ldavis_el1749221433118662244557880646_data);\n",
       "   }(LDAvis);\n",
       "}else if(typeof define === \"function\" && define.amd){\n",
       "   // require.js is available: use it to load d3/LDAvis\n",
       "   require.config({paths: {d3: \"https://d3js.org/d3.v5\"}});\n",
       "   require([\"d3\"], function(d3){\n",
       "      window.d3 = d3;\n",
       "      LDAvis_load_lib(\"https://cdn.jsdelivr.net/gh/bmabey/pyLDAvis@3.3.1/pyLDAvis/js/ldavis.v3.0.0.js\", function(){\n",
       "        new LDAvis(\"#\" + \"ldavis_el1749221433118662244557880646\", ldavis_el1749221433118662244557880646_data);\n",
       "      });\n",
       "    });\n",
       "}else{\n",
       "    // require.js not available: dynamically load d3 & LDAvis\n",
       "    LDAvis_load_lib(\"https://d3js.org/d3.v5.js\", function(){\n",
       "         LDAvis_load_lib(\"https://cdn.jsdelivr.net/gh/bmabey/pyLDAvis@3.3.1/pyLDAvis/js/ldavis.v3.0.0.js\", function(){\n",
       "                 new LDAvis(\"#\" + \"ldavis_el1749221433118662244557880646\", ldavis_el1749221433118662244557880646_data);\n",
       "            })\n",
       "         });\n",
       "}\n",
       "</script>"
      ],
      "text/plain": [
       "<IPython.core.display.HTML object>"
      ]
     },
     "execution_count": 82,
     "metadata": {},
     "output_type": "execute_result"
    }
   ],
   "source": [
    "#START HERE IF YOU AREN'T TRAINING A NEW MODEL\n",
    "#select which word representations you want to use ('bow' or 'tfidf')\n",
    "# REPRESENTATION = 'bow'\n",
    "\n",
    "corpus = pickle.load(open('corpus.pkl', 'rb'))\n",
    "best_lda = gensim.models.ldamodel.LdaModel.load('best_lda_model.gensim')\n",
    "\n",
    "# if REPRESENTATION == 'tfidf':\n",
    "#     lda = gensim.models.ldamodel.LdaModel.load('model5_tfidf.gensim')\n",
    "# else:\n",
    "#     lda = gensim.models.ldamodel.LdaModel.load('model5.gensim')\n",
    "\n",
    "lda_display = pyLDAvis.gensim_models.prepare(best_lda, corpus, dictionary, sort_topics = False)\n",
    "pyLDAvis.display(lda_display)"
   ]
  },
  {
   "cell_type": "markdown",
   "id": "speaking-plain",
   "metadata": {},
   "source": [
    "# !!!\n",
    "**TODO**: manually assign LDA topic names"
   ]
  },
  {
   "cell_type": "markdown",
   "id": "behavioral-thesis",
   "metadata": {},
   "source": [
    "## Apply Topic Model to Training Set:"
   ]
  },
  {
   "cell_type": "code",
   "execution_count": 42,
   "id": "monthly-edwards",
   "metadata": {},
   "outputs": [],
   "source": [
    "#numerical mapping for topics in LDA model\n",
    "\n",
    "if REPRESENTATION == 'tfidf':\n",
    "    topic_map = {0: 'service', 1: 'place', 2: 'price', 3: 'miscellaneous', 4: 'food'}\n",
    "else:\n",
    "    topic_map = {0: 'food', 1: 'price', 2: 'service', 3: 'miscellaneous', 4: 'place'}"
   ]
  },
  {
   "cell_type": "markdown",
   "id": "difficult-feature",
   "metadata": {},
   "source": [
    "### Note to Self:\n",
    "using the last topic map ({0: 'food', ...}) with the TF-IDF representation results in ~53% accuracy. But these topics don't really make much sense when you look at it in pyLDAvis..."
   ]
  },
  {
   "cell_type": "code",
   "execution_count": 43,
   "id": "starting-rehabilitation",
   "metadata": {},
   "outputs": [
    {
     "name": "stdout",
     "output_type": "stream",
     "text": [
      "[(0, 0.93695915), (1, 0.015644358), (2, 0.015810514), (3, 0.015486368), (4, 0.016099578)] \n",
      " [(0, 0.26843518), (1, 0.018934911), (2, 0.6752921), (3, 0.018913986), (4, 0.01842388)] \n",
      " [(0, 0.20702708), (1, 0.19987315), (2, 0.1597588), (3, 0.41030273), (4, 0.02303827)]\n"
     ]
    }
   ],
   "source": [
    "#print topic probabilities for a select few documents\n",
    "#note sum of all probabilities is 1 for each document\n",
    "\n",
    "doc_topics = [lda.get_document_topics(doc) for doc in corpus]\n",
    "print(doc_topics[0], '\\n', doc_topics[30], '\\n', doc_topics[777])"
   ]
  },
  {
   "cell_type": "code",
   "execution_count": 44,
   "id": "apart-testimony",
   "metadata": {
    "scrolled": true
   },
   "outputs": [
    {
     "data": {
      "text/plain": [
       "{'food': 0.93695915,\n",
       " 'price': 0.015644358,\n",
       " 'service': 0.015810514,\n",
       " 'miscellaneous': 0.015486368,\n",
       " 'place': 0.016099578}"
      ]
     },
     "execution_count": 44,
     "metadata": {},
     "output_type": "execute_result"
    }
   ],
   "source": [
    "#map topic numbers to topics\n",
    "A = {topic_map[x[0]]:x[-1] for x in doc_topics[0]}\n",
    "A"
   ]
  },
  {
   "cell_type": "code",
   "execution_count": 45,
   "id": "phantom-estate",
   "metadata": {},
   "outputs": [
    {
     "data": {
      "text/plain": [
       "{'food': 0.93695915, 'place': 0.016099578}"
      ]
     },
     "execution_count": 45,
     "metadata": {},
     "output_type": "execute_result"
    }
   ],
   "source": [
    "#get the 2 strongest topics for document A\n",
    "newA = dict(sorted(A.items(), key = itemgetter(1), reverse = True)[:2])\n",
    "newA"
   ]
  },
  {
   "cell_type": "code",
   "execution_count": 46,
   "id": "dynamic-storage",
   "metadata": {},
   "outputs": [],
   "source": [
    "def get_strong_topics(document, topic_map, topic_threshold):\n",
    "    \"\"\"Gets all the topics with probabilities greater than a threshold probability. If only 1 topic has a probability greater than the\n",
    "    threshold, get the top 2 most probable topics.\n",
    "    Returns dictionary of strongest topics.\"\"\"\n",
    "    \n",
    "    topic_dict = {topic_map[topic[0]]: topic[1] for topic in document}\n",
    "    output = {k:v for k,v in topic_dict.items() if v > topic_threshold}\n",
    "    \n",
    "    if len(output) == 1:\n",
    "        output = dict(sorted(topic_dict.items(), key = itemgetter(1), reverse = True)[0:2])\n",
    "    \n",
    "    return output        "
   ]
  },
  {
   "cell_type": "code",
   "execution_count": 47,
   "id": "instant-electron",
   "metadata": {},
   "outputs": [
    {
     "data": {
      "text/plain": [
       "{'food': 0.93695915, 'place': 0.016099578}"
      ]
     },
     "execution_count": 47,
     "metadata": {},
     "output_type": "execute_result"
    }
   ],
   "source": [
    "get_strong_topics(document = doc_topics[0], topic_map = topic_map, topic_threshold = 0.1)"
   ]
  },
  {
   "cell_type": "code",
   "execution_count": 48,
   "id": "infinite-mission",
   "metadata": {},
   "outputs": [
    {
     "data": {
      "text/plain": [
       "([{'food': 0.93695915, 'place': 0.016099578},\n",
       "  {'service': 0.8995743, 'food': 0.025316006},\n",
       "  {'service': 0.93798, 'place': 0.015599669}],\n",
       " 3148)"
      ]
     },
     "execution_count": 48,
     "metadata": {},
     "output_type": "execute_result"
    }
   ],
   "source": [
    "#for each document in training set, get strongest topics that exceed threshold (or top 2 topics if no topics exceed threshold)\n",
    "TOPIC_THRESHOLD = 0.1\n",
    "\n",
    "strong_topics = []\n",
    "    \n",
    "for doc in doc_topics:\n",
    "    tmp = get_strong_topics(document = doc, topic_map = topic_map, topic_threshold = TOPIC_THRESHOLD)\n",
    "    strong_topics.append(tmp)\n",
    "\n",
    "strong_topics[0:3], len(strong_topics)"
   ]
  },
  {
   "cell_type": "code",
   "execution_count": 49,
   "id": "placed-grant",
   "metadata": {},
   "outputs": [
    {
     "data": {
      "text/plain": [
       "{'food': 0.26843518, 'service': 0.6752921}"
      ]
     },
     "execution_count": 49,
     "metadata": {},
     "output_type": "execute_result"
    }
   ],
   "source": [
    "strong_topics[30]"
   ]
  },
  {
   "cell_type": "code",
   "execution_count": 50,
   "id": "favorite-johnston",
   "metadata": {
    "scrolled": true
   },
   "outputs": [
    {
     "data": {
      "text/html": [
       "<div>\n",
       "<style scoped>\n",
       "    .dataframe tbody tr th:only-of-type {\n",
       "        vertical-align: middle;\n",
       "    }\n",
       "\n",
       "    .dataframe tbody tr th {\n",
       "        vertical-align: top;\n",
       "    }\n",
       "\n",
       "    .dataframe thead th {\n",
       "        text-align: right;\n",
       "    }\n",
       "</style>\n",
       "<table border=\"1\" class=\"dataframe\">\n",
       "  <thead>\n",
       "    <tr style=\"text-align: right;\">\n",
       "      <th></th>\n",
       "      <th>text</th>\n",
       "      <th>lda_topic</th>\n",
       "    </tr>\n",
       "  </thead>\n",
       "  <tbody>\n",
       "    <tr>\n",
       "      <th>0</th>\n",
       "      <td>It might be the best sit down food I've had in...</td>\n",
       "      <td>{'food': 0.93695915, 'place': 0.016099578}</td>\n",
       "    </tr>\n",
       "    <tr>\n",
       "      <th>1</th>\n",
       "      <td>Hostess was extremely accommodating when we ar...</td>\n",
       "      <td>{'service': 0.8995743, 'food': 0.025316006}</td>\n",
       "    </tr>\n",
       "    <tr>\n",
       "      <th>2</th>\n",
       "      <td>We were a couple of minutes late for our reser...</td>\n",
       "      <td>{'service': 0.93798, 'place': 0.015599669}</td>\n",
       "    </tr>\n",
       "    <tr>\n",
       "      <th>3</th>\n",
       "      <td>Though the service might be a little slow, the...</td>\n",
       "      <td>{'service': 0.8979046, 'place': 0.025716644}</td>\n",
       "    </tr>\n",
       "    <tr>\n",
       "      <th>4</th>\n",
       "      <td>Although we arrived at the restaurant 10 min l...</td>\n",
       "      <td>{'service': 0.89894724, 'food': 0.02541454}</td>\n",
       "    </tr>\n",
       "    <tr>\n",
       "      <th>...</th>\n",
       "      <td>...</td>\n",
       "      <td>...</td>\n",
       "    </tr>\n",
       "    <tr>\n",
       "      <th>3143</th>\n",
       "      <td>We walked out the door with only a drink in ea...</td>\n",
       "      <td>{'food': 0.2402088, 'service': 0.67299294}</td>\n",
       "    </tr>\n",
       "    <tr>\n",
       "      <th>3144</th>\n",
       "      <td>It took us 20 minutes to get a check, despite ...</td>\n",
       "      <td>{'service': 0.9381026, 'place': 0.015504326}</td>\n",
       "    </tr>\n",
       "    <tr>\n",
       "      <th>3145</th>\n",
       "      <td>The pancakes were good, but don't have blueber...</td>\n",
       "      <td>{'food': 0.83858186, 'miscellaneous': 0.111027...</td>\n",
       "    </tr>\n",
       "    <tr>\n",
       "      <th>3146</th>\n",
       "      <td>Our waiter disappeared entirely, our food, whe...</td>\n",
       "      <td>{'food': 0.124854095, 'service': 0.84866583}</td>\n",
       "    </tr>\n",
       "    <tr>\n",
       "      <th>3147</th>\n",
       "      <td>90 for a porterhouse steak for 2 (ordered medi...</td>\n",
       "      <td>{'food': 0.84876144, 'place': 0.104192734}</td>\n",
       "    </tr>\n",
       "  </tbody>\n",
       "</table>\n",
       "<p>3148 rows × 2 columns</p>\n",
       "</div>"
      ],
      "text/plain": [
       "                                                   text  \\\n",
       "0     It might be the best sit down food I've had in...   \n",
       "1     Hostess was extremely accommodating when we ar...   \n",
       "2     We were a couple of minutes late for our reser...   \n",
       "3     Though the service might be a little slow, the...   \n",
       "4     Although we arrived at the restaurant 10 min l...   \n",
       "...                                                 ...   \n",
       "3143  We walked out the door with only a drink in ea...   \n",
       "3144  It took us 20 minutes to get a check, despite ...   \n",
       "3145  The pancakes were good, but don't have blueber...   \n",
       "3146  Our waiter disappeared entirely, our food, whe...   \n",
       "3147  90 for a porterhouse steak for 2 (ordered medi...   \n",
       "\n",
       "                                              lda_topic  \n",
       "0            {'food': 0.93695915, 'place': 0.016099578}  \n",
       "1           {'service': 0.8995743, 'food': 0.025316006}  \n",
       "2            {'service': 0.93798, 'place': 0.015599669}  \n",
       "3          {'service': 0.8979046, 'place': 0.025716644}  \n",
       "4           {'service': 0.89894724, 'food': 0.02541454}  \n",
       "...                                                 ...  \n",
       "3143         {'food': 0.2402088, 'service': 0.67299294}  \n",
       "3144       {'service': 0.9381026, 'place': 0.015504326}  \n",
       "3145  {'food': 0.83858186, 'miscellaneous': 0.111027...  \n",
       "3146       {'food': 0.124854095, 'service': 0.84866583}  \n",
       "3147         {'food': 0.84876144, 'place': 0.104192734}  \n",
       "\n",
       "[3148 rows x 2 columns]"
      ]
     },
     "execution_count": 50,
     "metadata": {},
     "output_type": "execute_result"
    }
   ],
   "source": [
    "#create dataframe showing strongest learned topics for each document in the training set\n",
    "lda_df = pd.DataFrame({'text': train_df['text'], 'lda_topic': strong_topics})\n",
    "lda_df"
   ]
  },
  {
   "cell_type": "markdown",
   "id": "stupid-inventory",
   "metadata": {},
   "source": [
    "## Sentiment Analysis (NLTK VADER):"
   ]
  },
  {
   "cell_type": "code",
   "execution_count": 51,
   "id": "thrown-serbia",
   "metadata": {},
   "outputs": [
    {
     "name": "stderr",
     "output_type": "stream",
     "text": [
      "[nltk_data] Downloading package vader_lexicon to\n",
      "[nltk_data]     C:\\Users\\Evan\\AppData\\Roaming\\nltk_data...\n",
      "[nltk_data]   Package vader_lexicon is already up-to-date!\n"
     ]
    }
   ],
   "source": [
    "nltk.download('vader_lexicon')\n",
    "sid = SentimentIntensityAnalyzer()"
   ]
  },
  {
   "cell_type": "code",
   "execution_count": 52,
   "id": "refined-colorado",
   "metadata": {
    "scrolled": true
   },
   "outputs": [
    {
     "name": "stdout",
     "output_type": "stream",
     "text": [
      "It might be the best sit down food I've had in the area, so if you are going to the upright citizen brigade, or the garden, it could be just the place for you. \n",
      " {'neg': 0.0, 'neu': 0.887, 'pos': 0.113, 'compound': 0.6369}\n"
     ]
    }
   ],
   "source": [
    "#test out VADER sentiment analyzer\n",
    "sample2 = lda_df['text'][0]\n",
    "print(sample2, '\\n', sid.polarity_scores(sample2))"
   ]
  },
  {
   "cell_type": "code",
   "execution_count": 53,
   "id": "meaningful-services",
   "metadata": {},
   "outputs": [
    {
     "data": {
      "text/plain": [
       "{'neg': 0.0, 'neu': 1.0, 'pos': 0.0, 'compound': 0.0}"
      ]
     },
     "execution_count": 53,
     "metadata": {},
     "output_type": "execute_result"
    }
   ],
   "source": [
    "sample3 = \"This was a bland and flavorless experience to say the least.\"\n",
    "sid.polarity_scores(sample3)"
   ]
  },
  {
   "cell_type": "code",
   "execution_count": 54,
   "id": "special-lending",
   "metadata": {},
   "outputs": [
    {
     "data": {
      "text/html": [
       "<div>\n",
       "<style scoped>\n",
       "    .dataframe tbody tr th:only-of-type {\n",
       "        vertical-align: middle;\n",
       "    }\n",
       "\n",
       "    .dataframe tbody tr th {\n",
       "        vertical-align: top;\n",
       "    }\n",
       "\n",
       "    .dataframe thead th {\n",
       "        text-align: right;\n",
       "    }\n",
       "</style>\n",
       "<table border=\"1\" class=\"dataframe\">\n",
       "  <thead>\n",
       "    <tr style=\"text-align: right;\">\n",
       "      <th></th>\n",
       "      <th>text</th>\n",
       "      <th>lda_topic</th>\n",
       "      <th>vader_score</th>\n",
       "      <th>compound_score</th>\n",
       "      <th>sentiment</th>\n",
       "      <th>food</th>\n",
       "      <th>place</th>\n",
       "      <th>staff</th>\n",
       "      <th>miscellaneous</th>\n",
       "      <th>service</th>\n",
       "      <th>price</th>\n",
       "      <th>menu</th>\n",
       "      <th>ambience</th>\n",
       "    </tr>\n",
       "  </thead>\n",
       "  <tbody>\n",
       "    <tr>\n",
       "      <th>0</th>\n",
       "      <td>It might be the best sit down food I've had in...</td>\n",
       "      <td>{'food': 0.93695915, 'place': 0.016099578}</td>\n",
       "      <td>{'neg': 0.0, 'neu': 0.887, 'pos': 0.113, 'comp...</td>\n",
       "      <td>0.6369</td>\n",
       "      <td>positive</td>\n",
       "      <td>positive</td>\n",
       "      <td>positive</td>\n",
       "      <td>None</td>\n",
       "      <td>NaN</td>\n",
       "      <td>NaN</td>\n",
       "      <td>NaN</td>\n",
       "      <td>None</td>\n",
       "      <td>None</td>\n",
       "    </tr>\n",
       "    <tr>\n",
       "      <th>1</th>\n",
       "      <td>Hostess was extremely accommodating when we ar...</td>\n",
       "      <td>{'service': 0.8995743, 'food': 0.025316006}</td>\n",
       "      <td>{'neg': 0.0, 'neu': 1.0, 'pos': 0.0, 'compound...</td>\n",
       "      <td>0.0000</td>\n",
       "      <td>neutral</td>\n",
       "      <td>neutral</td>\n",
       "      <td>NaN</td>\n",
       "      <td>None</td>\n",
       "      <td>NaN</td>\n",
       "      <td>neutral</td>\n",
       "      <td>NaN</td>\n",
       "      <td>None</td>\n",
       "      <td>None</td>\n",
       "    </tr>\n",
       "    <tr>\n",
       "      <th>2</th>\n",
       "      <td>We were a couple of minutes late for our reser...</td>\n",
       "      <td>{'service': 0.93798, 'place': 0.015599669}</td>\n",
       "      <td>{'neg': 0.0, 'neu': 1.0, 'pos': 0.0, 'compound...</td>\n",
       "      <td>0.0000</td>\n",
       "      <td>neutral</td>\n",
       "      <td>NaN</td>\n",
       "      <td>neutral</td>\n",
       "      <td>None</td>\n",
       "      <td>NaN</td>\n",
       "      <td>neutral</td>\n",
       "      <td>NaN</td>\n",
       "      <td>None</td>\n",
       "      <td>None</td>\n",
       "    </tr>\n",
       "    <tr>\n",
       "      <th>3</th>\n",
       "      <td>Though the service might be a little slow, the...</td>\n",
       "      <td>{'service': 0.8979046, 'place': 0.025716644}</td>\n",
       "      <td>{'neg': 0.0, 'neu': 0.759, 'pos': 0.241, 'comp...</td>\n",
       "      <td>0.5413</td>\n",
       "      <td>positive</td>\n",
       "      <td>NaN</td>\n",
       "      <td>positive</td>\n",
       "      <td>None</td>\n",
       "      <td>NaN</td>\n",
       "      <td>positive</td>\n",
       "      <td>NaN</td>\n",
       "      <td>None</td>\n",
       "      <td>None</td>\n",
       "    </tr>\n",
       "    <tr>\n",
       "      <th>4</th>\n",
       "      <td>Although we arrived at the restaurant 10 min l...</td>\n",
       "      <td>{'service': 0.89894724, 'food': 0.02541454}</td>\n",
       "      <td>{'neg': 0.0, 'neu': 1.0, 'pos': 0.0, 'compound...</td>\n",
       "      <td>0.0000</td>\n",
       "      <td>neutral</td>\n",
       "      <td>neutral</td>\n",
       "      <td>NaN</td>\n",
       "      <td>None</td>\n",
       "      <td>NaN</td>\n",
       "      <td>neutral</td>\n",
       "      <td>NaN</td>\n",
       "      <td>None</td>\n",
       "      <td>None</td>\n",
       "    </tr>\n",
       "  </tbody>\n",
       "</table>\n",
       "</div>"
      ],
      "text/plain": [
       "                                                text  \\\n",
       "0  It might be the best sit down food I've had in...   \n",
       "1  Hostess was extremely accommodating when we ar...   \n",
       "2  We were a couple of minutes late for our reser...   \n",
       "3  Though the service might be a little slow, the...   \n",
       "4  Although we arrived at the restaurant 10 min l...   \n",
       "\n",
       "                                      lda_topic  \\\n",
       "0    {'food': 0.93695915, 'place': 0.016099578}   \n",
       "1   {'service': 0.8995743, 'food': 0.025316006}   \n",
       "2    {'service': 0.93798, 'place': 0.015599669}   \n",
       "3  {'service': 0.8979046, 'place': 0.025716644}   \n",
       "4   {'service': 0.89894724, 'food': 0.02541454}   \n",
       "\n",
       "                                         vader_score  compound_score  \\\n",
       "0  {'neg': 0.0, 'neu': 0.887, 'pos': 0.113, 'comp...          0.6369   \n",
       "1  {'neg': 0.0, 'neu': 1.0, 'pos': 0.0, 'compound...          0.0000   \n",
       "2  {'neg': 0.0, 'neu': 1.0, 'pos': 0.0, 'compound...          0.0000   \n",
       "3  {'neg': 0.0, 'neu': 0.759, 'pos': 0.241, 'comp...          0.5413   \n",
       "4  {'neg': 0.0, 'neu': 1.0, 'pos': 0.0, 'compound...          0.0000   \n",
       "\n",
       "  sentiment      food     place staff miscellaneous   service price  menu  \\\n",
       "0  positive  positive  positive  None           NaN       NaN   NaN  None   \n",
       "1   neutral   neutral       NaN  None           NaN   neutral   NaN  None   \n",
       "2   neutral       NaN   neutral  None           NaN   neutral   NaN  None   \n",
       "3  positive       NaN  positive  None           NaN  positive   NaN  None   \n",
       "4   neutral   neutral       NaN  None           NaN   neutral   NaN  None   \n",
       "\n",
       "  ambience  \n",
       "0     None  \n",
       "1     None  \n",
       "2     None  \n",
       "3     None  \n",
       "4     None  "
      ]
     },
     "execution_count": 54,
     "metadata": {},
     "output_type": "execute_result"
    }
   ],
   "source": [
    "#perform sentiment analysis for each document\n",
    "#assign sentiment to each learned aspect category for each document\n",
    "\n",
    "lda_df['vader_score'] = lda_df['text'].apply(lambda review: sid.polarity_scores(review))\n",
    "lda_df['compound_score'] = lda_df['vader_score'].apply(lambda score_dict: score_dict['compound'])\n",
    "lda_df['sentiment'] = lda_df['compound_score'].apply(lambda sent: 'positive' if sent > 0 else ('neutral' if sent ==0 else 'negative'))\n",
    "\n",
    "for cat in categories:\n",
    "    lda_df[f'{cat}'] = lda_df['lda_topic'].apply(lambda x: encode_category(x, cat))\n",
    "    lda_df[f'{cat}'] = lda_df[f'{cat}'].mask(lda_df[f'{cat}'].notnull(), lda_df['sentiment'])\n",
    "\n",
    "lda_df.head()"
   ]
  },
  {
   "cell_type": "code",
   "execution_count": 55,
   "id": "dedicated-producer",
   "metadata": {},
   "outputs": [],
   "source": [
    "assert len(train_df) == len(lda_df)"
   ]
  },
  {
   "cell_type": "markdown",
   "id": "threatened-database",
   "metadata": {},
   "source": [
    "## LDA + NLTK VADER Model Evaluation:"
   ]
  },
  {
   "cell_type": "code",
   "execution_count": 56,
   "id": "ethical-birthday",
   "metadata": {},
   "outputs": [
    {
     "name": "stderr",
     "output_type": "stream",
     "text": [
      "C:\\ProgramData\\Anaconda3\\envs\\nlpenv\\lib\\site-packages\\pandas\\core\\frame.py:4524: SettingWithCopyWarning: \n",
      "A value is trying to be set on a copy of a slice from a DataFrame\n",
      "\n",
      "See the caveats in the documentation: https://pandas.pydata.org/pandas-docs/stable/user_guide/indexing.html#returning-a-view-versus-a-copy\n",
      "  return super().replace(\n"
     ]
    },
    {
     "data": {
      "text/html": [
       "<div>\n",
       "<style scoped>\n",
       "    .dataframe tbody tr th:only-of-type {\n",
       "        vertical-align: middle;\n",
       "    }\n",
       "\n",
       "    .dataframe tbody tr th {\n",
       "        vertical-align: top;\n",
       "    }\n",
       "\n",
       "    .dataframe thead th {\n",
       "        text-align: right;\n",
       "    }\n",
       "</style>\n",
       "<table border=\"1\" class=\"dataframe\">\n",
       "  <thead>\n",
       "    <tr style=\"text-align: right;\">\n",
       "      <th></th>\n",
       "      <th>food</th>\n",
       "      <th>place</th>\n",
       "      <th>staff</th>\n",
       "      <th>miscellaneous</th>\n",
       "      <th>service</th>\n",
       "      <th>price</th>\n",
       "      <th>menu</th>\n",
       "      <th>ambience</th>\n",
       "    </tr>\n",
       "  </thead>\n",
       "  <tbody>\n",
       "    <tr>\n",
       "      <th>0</th>\n",
       "      <td>positive</td>\n",
       "      <td>neutral</td>\n",
       "      <td>N/A</td>\n",
       "      <td>N/A</td>\n",
       "      <td>N/A</td>\n",
       "      <td>N/A</td>\n",
       "      <td>N/A</td>\n",
       "      <td>N/A</td>\n",
       "    </tr>\n",
       "    <tr>\n",
       "      <th>1</th>\n",
       "      <td>N/A</td>\n",
       "      <td>N/A</td>\n",
       "      <td>positive</td>\n",
       "      <td>neutral</td>\n",
       "      <td>N/A</td>\n",
       "      <td>N/A</td>\n",
       "      <td>N/A</td>\n",
       "      <td>N/A</td>\n",
       "    </tr>\n",
       "    <tr>\n",
       "      <th>2</th>\n",
       "      <td>N/A</td>\n",
       "      <td>N/A</td>\n",
       "      <td>negative</td>\n",
       "      <td>neutral</td>\n",
       "      <td>N/A</td>\n",
       "      <td>N/A</td>\n",
       "      <td>N/A</td>\n",
       "      <td>N/A</td>\n",
       "    </tr>\n",
       "    <tr>\n",
       "      <th>3</th>\n",
       "      <td>N/A</td>\n",
       "      <td>N/A</td>\n",
       "      <td>positive</td>\n",
       "      <td>N/A</td>\n",
       "      <td>negative</td>\n",
       "      <td>N/A</td>\n",
       "      <td>N/A</td>\n",
       "      <td>N/A</td>\n",
       "    </tr>\n",
       "    <tr>\n",
       "      <th>4</th>\n",
       "      <td>N/A</td>\n",
       "      <td>N/A</td>\n",
       "      <td>negative</td>\n",
       "      <td>neutral</td>\n",
       "      <td>N/A</td>\n",
       "      <td>N/A</td>\n",
       "      <td>N/A</td>\n",
       "      <td>N/A</td>\n",
       "    </tr>\n",
       "    <tr>\n",
       "      <th>...</th>\n",
       "      <td>...</td>\n",
       "      <td>...</td>\n",
       "      <td>...</td>\n",
       "      <td>...</td>\n",
       "      <td>...</td>\n",
       "      <td>...</td>\n",
       "      <td>...</td>\n",
       "      <td>...</td>\n",
       "    </tr>\n",
       "    <tr>\n",
       "      <th>3143</th>\n",
       "      <td>neutral</td>\n",
       "      <td>N/A</td>\n",
       "      <td>N/A</td>\n",
       "      <td>N/A</td>\n",
       "      <td>N/A</td>\n",
       "      <td>negative</td>\n",
       "      <td>N/A</td>\n",
       "      <td>N/A</td>\n",
       "    </tr>\n",
       "    <tr>\n",
       "      <th>3144</th>\n",
       "      <td>N/A</td>\n",
       "      <td>N/A</td>\n",
       "      <td>negative</td>\n",
       "      <td>N/A</td>\n",
       "      <td>N/A</td>\n",
       "      <td>neutral</td>\n",
       "      <td>N/A</td>\n",
       "      <td>N/A</td>\n",
       "    </tr>\n",
       "    <tr>\n",
       "      <th>3145</th>\n",
       "      <td>negative</td>\n",
       "      <td>N/A</td>\n",
       "      <td>N/A</td>\n",
       "      <td>N/A</td>\n",
       "      <td>N/A</td>\n",
       "      <td>N/A</td>\n",
       "      <td>neutral</td>\n",
       "      <td>N/A</td>\n",
       "    </tr>\n",
       "    <tr>\n",
       "      <th>3146</th>\n",
       "      <td>neutral</td>\n",
       "      <td>N/A</td>\n",
       "      <td>negative</td>\n",
       "      <td>neutral</td>\n",
       "      <td>N/A</td>\n",
       "      <td>neutral</td>\n",
       "      <td>N/A</td>\n",
       "      <td>N/A</td>\n",
       "    </tr>\n",
       "    <tr>\n",
       "      <th>3147</th>\n",
       "      <td>neutral</td>\n",
       "      <td>N/A</td>\n",
       "      <td>N/A</td>\n",
       "      <td>N/A</td>\n",
       "      <td>positive</td>\n",
       "      <td>N/A</td>\n",
       "      <td>N/A</td>\n",
       "      <td>N/A</td>\n",
       "    </tr>\n",
       "  </tbody>\n",
       "</table>\n",
       "<p>3148 rows × 8 columns</p>\n",
       "</div>"
      ],
      "text/plain": [
       "          food    place     staff miscellaneous   service     price     menu  \\\n",
       "0     positive  neutral       N/A           N/A       N/A       N/A      N/A   \n",
       "1          N/A      N/A  positive       neutral       N/A       N/A      N/A   \n",
       "2          N/A      N/A  negative       neutral       N/A       N/A      N/A   \n",
       "3          N/A      N/A  positive           N/A  negative       N/A      N/A   \n",
       "4          N/A      N/A  negative       neutral       N/A       N/A      N/A   \n",
       "...        ...      ...       ...           ...       ...       ...      ...   \n",
       "3143   neutral      N/A       N/A           N/A       N/A  negative      N/A   \n",
       "3144       N/A      N/A  negative           N/A       N/A   neutral      N/A   \n",
       "3145  negative      N/A       N/A           N/A       N/A       N/A  neutral   \n",
       "3146   neutral      N/A  negative       neutral       N/A   neutral      N/A   \n",
       "3147   neutral      N/A       N/A           N/A  positive       N/A      N/A   \n",
       "\n",
       "     ambience  \n",
       "0         N/A  \n",
       "1         N/A  \n",
       "2         N/A  \n",
       "3         N/A  \n",
       "4         N/A  \n",
       "...       ...  \n",
       "3143      N/A  \n",
       "3144      N/A  \n",
       "3145      N/A  \n",
       "3146      N/A  \n",
       "3147      N/A  \n",
       "\n",
       "[3148 rows x 8 columns]"
      ]
     },
     "execution_count": 56,
     "metadata": {},
     "output_type": "execute_result"
    }
   ],
   "source": [
    "#collect aspect categories and sentiment labels for the training set\n",
    "train_df_cats = train_df[categories]\n",
    "train_df_cats.replace(to_replace = [None], value = 'N/A', inplace = True)\n",
    "train_df_cats"
   ]
  },
  {
   "cell_type": "code",
   "execution_count": 57,
   "id": "residential-yesterday",
   "metadata": {},
   "outputs": [
    {
     "name": "stderr",
     "output_type": "stream",
     "text": [
      "C:\\ProgramData\\Anaconda3\\envs\\nlpenv\\lib\\site-packages\\pandas\\core\\frame.py:4524: SettingWithCopyWarning: \n",
      "A value is trying to be set on a copy of a slice from a DataFrame\n",
      "\n",
      "See the caveats in the documentation: https://pandas.pydata.org/pandas-docs/stable/user_guide/indexing.html#returning-a-view-versus-a-copy\n",
      "  return super().replace(\n"
     ]
    },
    {
     "data": {
      "text/html": [
       "<div>\n",
       "<style scoped>\n",
       "    .dataframe tbody tr th:only-of-type {\n",
       "        vertical-align: middle;\n",
       "    }\n",
       "\n",
       "    .dataframe tbody tr th {\n",
       "        vertical-align: top;\n",
       "    }\n",
       "\n",
       "    .dataframe thead th {\n",
       "        text-align: right;\n",
       "    }\n",
       "</style>\n",
       "<table border=\"1\" class=\"dataframe\">\n",
       "  <thead>\n",
       "    <tr style=\"text-align: right;\">\n",
       "      <th></th>\n",
       "      <th>food</th>\n",
       "      <th>place</th>\n",
       "      <th>staff</th>\n",
       "      <th>miscellaneous</th>\n",
       "      <th>service</th>\n",
       "      <th>price</th>\n",
       "      <th>menu</th>\n",
       "      <th>ambience</th>\n",
       "    </tr>\n",
       "  </thead>\n",
       "  <tbody>\n",
       "    <tr>\n",
       "      <th>0</th>\n",
       "      <td>positive</td>\n",
       "      <td>positive</td>\n",
       "      <td>N/A</td>\n",
       "      <td>N/A</td>\n",
       "      <td>N/A</td>\n",
       "      <td>N/A</td>\n",
       "      <td>N/A</td>\n",
       "      <td>N/A</td>\n",
       "    </tr>\n",
       "    <tr>\n",
       "      <th>1</th>\n",
       "      <td>neutral</td>\n",
       "      <td>N/A</td>\n",
       "      <td>N/A</td>\n",
       "      <td>N/A</td>\n",
       "      <td>neutral</td>\n",
       "      <td>N/A</td>\n",
       "      <td>N/A</td>\n",
       "      <td>N/A</td>\n",
       "    </tr>\n",
       "    <tr>\n",
       "      <th>2</th>\n",
       "      <td>N/A</td>\n",
       "      <td>neutral</td>\n",
       "      <td>N/A</td>\n",
       "      <td>N/A</td>\n",
       "      <td>neutral</td>\n",
       "      <td>N/A</td>\n",
       "      <td>N/A</td>\n",
       "      <td>N/A</td>\n",
       "    </tr>\n",
       "    <tr>\n",
       "      <th>3</th>\n",
       "      <td>N/A</td>\n",
       "      <td>positive</td>\n",
       "      <td>N/A</td>\n",
       "      <td>N/A</td>\n",
       "      <td>positive</td>\n",
       "      <td>N/A</td>\n",
       "      <td>N/A</td>\n",
       "      <td>N/A</td>\n",
       "    </tr>\n",
       "    <tr>\n",
       "      <th>4</th>\n",
       "      <td>neutral</td>\n",
       "      <td>N/A</td>\n",
       "      <td>N/A</td>\n",
       "      <td>N/A</td>\n",
       "      <td>neutral</td>\n",
       "      <td>N/A</td>\n",
       "      <td>N/A</td>\n",
       "      <td>N/A</td>\n",
       "    </tr>\n",
       "    <tr>\n",
       "      <th>...</th>\n",
       "      <td>...</td>\n",
       "      <td>...</td>\n",
       "      <td>...</td>\n",
       "      <td>...</td>\n",
       "      <td>...</td>\n",
       "      <td>...</td>\n",
       "      <td>...</td>\n",
       "      <td>...</td>\n",
       "    </tr>\n",
       "    <tr>\n",
       "      <th>3143</th>\n",
       "      <td>neutral</td>\n",
       "      <td>N/A</td>\n",
       "      <td>N/A</td>\n",
       "      <td>N/A</td>\n",
       "      <td>neutral</td>\n",
       "      <td>N/A</td>\n",
       "      <td>N/A</td>\n",
       "      <td>N/A</td>\n",
       "    </tr>\n",
       "    <tr>\n",
       "      <th>3144</th>\n",
       "      <td>N/A</td>\n",
       "      <td>positive</td>\n",
       "      <td>N/A</td>\n",
       "      <td>N/A</td>\n",
       "      <td>positive</td>\n",
       "      <td>N/A</td>\n",
       "      <td>N/A</td>\n",
       "      <td>N/A</td>\n",
       "    </tr>\n",
       "    <tr>\n",
       "      <th>3145</th>\n",
       "      <td>positive</td>\n",
       "      <td>N/A</td>\n",
       "      <td>N/A</td>\n",
       "      <td>positive</td>\n",
       "      <td>N/A</td>\n",
       "      <td>N/A</td>\n",
       "      <td>N/A</td>\n",
       "      <td>N/A</td>\n",
       "    </tr>\n",
       "    <tr>\n",
       "      <th>3146</th>\n",
       "      <td>negative</td>\n",
       "      <td>N/A</td>\n",
       "      <td>N/A</td>\n",
       "      <td>N/A</td>\n",
       "      <td>negative</td>\n",
       "      <td>N/A</td>\n",
       "      <td>N/A</td>\n",
       "      <td>N/A</td>\n",
       "    </tr>\n",
       "    <tr>\n",
       "      <th>3147</th>\n",
       "      <td>neutral</td>\n",
       "      <td>neutral</td>\n",
       "      <td>N/A</td>\n",
       "      <td>N/A</td>\n",
       "      <td>N/A</td>\n",
       "      <td>N/A</td>\n",
       "      <td>N/A</td>\n",
       "      <td>N/A</td>\n",
       "    </tr>\n",
       "  </tbody>\n",
       "</table>\n",
       "<p>3148 rows × 8 columns</p>\n",
       "</div>"
      ],
      "text/plain": [
       "          food     place staff miscellaneous   service price menu ambience\n",
       "0     positive  positive   N/A           N/A       N/A   N/A  N/A      N/A\n",
       "1      neutral       N/A   N/A           N/A   neutral   N/A  N/A      N/A\n",
       "2          N/A   neutral   N/A           N/A   neutral   N/A  N/A      N/A\n",
       "3          N/A  positive   N/A           N/A  positive   N/A  N/A      N/A\n",
       "4      neutral       N/A   N/A           N/A   neutral   N/A  N/A      N/A\n",
       "...        ...       ...   ...           ...       ...   ...  ...      ...\n",
       "3143   neutral       N/A   N/A           N/A   neutral   N/A  N/A      N/A\n",
       "3144       N/A  positive   N/A           N/A  positive   N/A  N/A      N/A\n",
       "3145  positive       N/A   N/A      positive       N/A   N/A  N/A      N/A\n",
       "3146  negative       N/A   N/A           N/A  negative   N/A  N/A      N/A\n",
       "3147   neutral   neutral   N/A           N/A       N/A   N/A  N/A      N/A\n",
       "\n",
       "[3148 rows x 8 columns]"
      ]
     },
     "execution_count": 57,
     "metadata": {},
     "output_type": "execute_result"
    }
   ],
   "source": [
    "#collect learned aspect categories and sentiments for the training set\n",
    "lda_df_cats = lda_df[categories]\n",
    "lda_df_cats.replace(to_replace = [None], value = 'N/A', inplace = True)\n",
    "lda_df_cats"
   ]
  },
  {
   "cell_type": "code",
   "execution_count": 58,
   "id": "special-highway",
   "metadata": {
    "scrolled": true
   },
   "outputs": [
    {
     "data": {
      "text/html": [
       "<div>\n",
       "<style scoped>\n",
       "    .dataframe tbody tr th:only-of-type {\n",
       "        vertical-align: middle;\n",
       "    }\n",
       "\n",
       "    .dataframe tbody tr th {\n",
       "        vertical-align: top;\n",
       "    }\n",
       "\n",
       "    .dataframe thead th {\n",
       "        text-align: right;\n",
       "    }\n",
       "</style>\n",
       "<table border=\"1\" class=\"dataframe\">\n",
       "  <thead>\n",
       "    <tr style=\"text-align: right;\">\n",
       "      <th></th>\n",
       "      <th>food</th>\n",
       "      <th>place</th>\n",
       "      <th>staff</th>\n",
       "      <th>miscellaneous</th>\n",
       "      <th>service</th>\n",
       "      <th>price</th>\n",
       "      <th>menu</th>\n",
       "      <th>ambience</th>\n",
       "    </tr>\n",
       "  </thead>\n",
       "  <tbody>\n",
       "    <tr>\n",
       "      <th>0</th>\n",
       "      <td>1</td>\n",
       "      <td>0</td>\n",
       "      <td>1</td>\n",
       "      <td>1</td>\n",
       "      <td>1</td>\n",
       "      <td>1</td>\n",
       "      <td>1</td>\n",
       "      <td>1</td>\n",
       "    </tr>\n",
       "    <tr>\n",
       "      <th>1</th>\n",
       "      <td>0</td>\n",
       "      <td>1</td>\n",
       "      <td>0</td>\n",
       "      <td>0</td>\n",
       "      <td>0</td>\n",
       "      <td>1</td>\n",
       "      <td>1</td>\n",
       "      <td>1</td>\n",
       "    </tr>\n",
       "    <tr>\n",
       "      <th>2</th>\n",
       "      <td>1</td>\n",
       "      <td>0</td>\n",
       "      <td>0</td>\n",
       "      <td>0</td>\n",
       "      <td>0</td>\n",
       "      <td>1</td>\n",
       "      <td>1</td>\n",
       "      <td>1</td>\n",
       "    </tr>\n",
       "    <tr>\n",
       "      <th>3</th>\n",
       "      <td>1</td>\n",
       "      <td>0</td>\n",
       "      <td>0</td>\n",
       "      <td>1</td>\n",
       "      <td>0</td>\n",
       "      <td>1</td>\n",
       "      <td>1</td>\n",
       "      <td>1</td>\n",
       "    </tr>\n",
       "    <tr>\n",
       "      <th>4</th>\n",
       "      <td>0</td>\n",
       "      <td>1</td>\n",
       "      <td>0</td>\n",
       "      <td>0</td>\n",
       "      <td>0</td>\n",
       "      <td>1</td>\n",
       "      <td>1</td>\n",
       "      <td>1</td>\n",
       "    </tr>\n",
       "    <tr>\n",
       "      <th>...</th>\n",
       "      <td>...</td>\n",
       "      <td>...</td>\n",
       "      <td>...</td>\n",
       "      <td>...</td>\n",
       "      <td>...</td>\n",
       "      <td>...</td>\n",
       "      <td>...</td>\n",
       "      <td>...</td>\n",
       "    </tr>\n",
       "    <tr>\n",
       "      <th>3143</th>\n",
       "      <td>1</td>\n",
       "      <td>1</td>\n",
       "      <td>1</td>\n",
       "      <td>1</td>\n",
       "      <td>0</td>\n",
       "      <td>0</td>\n",
       "      <td>1</td>\n",
       "      <td>1</td>\n",
       "    </tr>\n",
       "    <tr>\n",
       "      <th>3144</th>\n",
       "      <td>1</td>\n",
       "      <td>0</td>\n",
       "      <td>0</td>\n",
       "      <td>1</td>\n",
       "      <td>0</td>\n",
       "      <td>0</td>\n",
       "      <td>1</td>\n",
       "      <td>1</td>\n",
       "    </tr>\n",
       "    <tr>\n",
       "      <th>3145</th>\n",
       "      <td>0</td>\n",
       "      <td>1</td>\n",
       "      <td>1</td>\n",
       "      <td>0</td>\n",
       "      <td>1</td>\n",
       "      <td>1</td>\n",
       "      <td>0</td>\n",
       "      <td>1</td>\n",
       "    </tr>\n",
       "    <tr>\n",
       "      <th>3146</th>\n",
       "      <td>0</td>\n",
       "      <td>1</td>\n",
       "      <td>0</td>\n",
       "      <td>0</td>\n",
       "      <td>0</td>\n",
       "      <td>0</td>\n",
       "      <td>1</td>\n",
       "      <td>1</td>\n",
       "    </tr>\n",
       "    <tr>\n",
       "      <th>3147</th>\n",
       "      <td>1</td>\n",
       "      <td>0</td>\n",
       "      <td>1</td>\n",
       "      <td>1</td>\n",
       "      <td>0</td>\n",
       "      <td>1</td>\n",
       "      <td>1</td>\n",
       "      <td>1</td>\n",
       "    </tr>\n",
       "  </tbody>\n",
       "</table>\n",
       "<p>3148 rows × 8 columns</p>\n",
       "</div>"
      ],
      "text/plain": [
       "      food  place  staff  miscellaneous  service  price  menu  ambience\n",
       "0        1      0      1              1        1      1     1         1\n",
       "1        0      1      0              0        0      1     1         1\n",
       "2        1      0      0              0        0      1     1         1\n",
       "3        1      0      0              1        0      1     1         1\n",
       "4        0      1      0              0        0      1     1         1\n",
       "...    ...    ...    ...            ...      ...    ...   ...       ...\n",
       "3143     1      1      1              1        0      0     1         1\n",
       "3144     1      0      0              1        0      0     1         1\n",
       "3145     0      1      1              0        1      1     0         1\n",
       "3146     0      1      0              0        0      0     1         1\n",
       "3147     1      0      1              1        0      1     1         1\n",
       "\n",
       "[3148 rows x 8 columns]"
      ]
     },
     "execution_count": 58,
     "metadata": {},
     "output_type": "execute_result"
    }
   ],
   "source": [
    "#compare learned aspect categories and sentiments with training labels\n",
    "#0 - learned sentiment does not match label\n",
    "#1 - learned sentiment matches label\n",
    "\n",
    "diff_df = train_df_cats.eq(lda_df_cats).astype(int)\n",
    "diff_df"
   ]
  },
  {
   "cell_type": "code",
   "execution_count": 59,
   "id": "sixth-integer",
   "metadata": {},
   "outputs": [],
   "source": [
    "#only compare sentiments for learned LDA topics \n",
    "reduced_cats = ['food', 'place', 'service', 'price', 'miscellaneous']"
   ]
  },
  {
   "cell_type": "code",
   "execution_count": 60,
   "id": "intense-dispatch",
   "metadata": {},
   "outputs": [
    {
     "data": {
      "text/plain": [
       "food             0.334498\n",
       "place            0.566709\n",
       "service          0.307179\n",
       "price            0.659784\n",
       "miscellaneous    0.521919\n",
       "dtype: float64"
      ]
     },
     "execution_count": 60,
     "metadata": {},
     "output_type": "execute_result"
    }
   ],
   "source": [
    "#calculate classification accuracy for each aspect category\n",
    "diff_df[reduced_cats].mean()"
   ]
  },
  {
   "cell_type": "code",
   "execution_count": 61,
   "id": "right-transcription",
   "metadata": {
    "scrolled": true
   },
   "outputs": [
    {
     "data": {
      "text/plain": [
       "0.478017789072427"
      ]
     },
     "execution_count": 61,
     "metadata": {},
     "output_type": "execute_result"
    }
   ],
   "source": [
    "#calculate mean classification accuracy across all aspect categories\n",
    "diff_df[reduced_cats].mean().mean()"
   ]
  },
  {
   "cell_type": "markdown",
   "id": "sticky-notification",
   "metadata": {},
   "source": [
    "# Sentiment Analysis (BERT):"
   ]
  },
  {
   "cell_type": "code",
   "execution_count": 82,
   "id": "focal-bernard",
   "metadata": {},
   "outputs": [],
   "source": [
    "bert_classifier = pipeline('sentiment-analysis')"
   ]
  },
  {
   "cell_type": "code",
   "execution_count": 83,
   "id": "aboriginal-boulder",
   "metadata": {},
   "outputs": [
    {
     "data": {
      "text/plain": [
       "[{'label': 'POSITIVE', 'score': 0.9997795224189758}]"
      ]
     },
     "execution_count": 83,
     "metadata": {},
     "output_type": "execute_result"
    }
   ],
   "source": [
    "bert_classifier('We are very happy to show you the 🤗 Transformers library.')"
   ]
  },
  {
   "cell_type": "code",
   "execution_count": 84,
   "id": "suburban-religious",
   "metadata": {},
   "outputs": [
    {
     "data": {
      "text/plain": [
       "[{'label': 'NEGATIVE', 'score': 0.999290406703949}]"
      ]
     },
     "execution_count": 84,
     "metadata": {},
     "output_type": "execute_result"
    }
   ],
   "source": [
    "bert_classifier('It took us 20 minutes to get a check, despite many attempts at meaningful eye contact with the wait staff.')"
   ]
  },
  {
   "cell_type": "code",
   "execution_count": 113,
   "id": "starting-preservation",
   "metadata": {},
   "outputs": [],
   "source": [
    "bert_df = pd.DataFrame({'text': train_df['text'], 'lda_topic': strong_topics})\n",
    "\n",
    "bert_df['sentiment'] = bert_df['text'].apply(lambda x: bert_classifier(x))"
   ]
  },
  {
   "cell_type": "code",
   "execution_count": 86,
   "id": "roman-closing",
   "metadata": {},
   "outputs": [
    {
     "data": {
      "text/plain": [
       "{'label': 'NEGATIVE', 'score': 0.865111231803894}"
      ]
     },
     "execution_count": 86,
     "metadata": {},
     "output_type": "execute_result"
    }
   ],
   "source": [
    "bert_df['sentiment'][0][0]"
   ]
  },
  {
   "cell_type": "code",
   "execution_count": 114,
   "id": "appointed-forum",
   "metadata": {},
   "outputs": [],
   "source": [
    "for cat in categories:\n",
    "    bert_df[f'{cat}'] = bert_df['lda_topic'].apply(lambda x: encode_category(x, cat))\n",
    "    bert_df[f'{cat}'] = bert_df[f'{cat}'].mask(bert_df[f'{cat}'].notnull(), bert_df['sentiment'][0][0]['label'].lower())"
   ]
  },
  {
   "cell_type": "code",
   "execution_count": 115,
   "id": "typical-small",
   "metadata": {
    "scrolled": true
   },
   "outputs": [
    {
     "data": {
      "text/html": [
       "<div>\n",
       "<style scoped>\n",
       "    .dataframe tbody tr th:only-of-type {\n",
       "        vertical-align: middle;\n",
       "    }\n",
       "\n",
       "    .dataframe tbody tr th {\n",
       "        vertical-align: top;\n",
       "    }\n",
       "\n",
       "    .dataframe thead th {\n",
       "        text-align: right;\n",
       "    }\n",
       "</style>\n",
       "<table border=\"1\" class=\"dataframe\">\n",
       "  <thead>\n",
       "    <tr style=\"text-align: right;\">\n",
       "      <th></th>\n",
       "      <th>text</th>\n",
       "      <th>lda_topic</th>\n",
       "      <th>sentiment</th>\n",
       "      <th>food</th>\n",
       "      <th>place</th>\n",
       "      <th>staff</th>\n",
       "      <th>miscellaneous</th>\n",
       "      <th>service</th>\n",
       "      <th>price</th>\n",
       "      <th>menu</th>\n",
       "      <th>ambience</th>\n",
       "    </tr>\n",
       "  </thead>\n",
       "  <tbody>\n",
       "    <tr>\n",
       "      <th>0</th>\n",
       "      <td>It might be the best sit down food I've had in...</td>\n",
       "      <td>{'service': 0.57103175, 'miscellaneous': 0.382...</td>\n",
       "      <td>[{'label': 'NEGATIVE', 'score': 0.865111231803...</td>\n",
       "      <td>NaN</td>\n",
       "      <td>NaN</td>\n",
       "      <td>None</td>\n",
       "      <td>negative</td>\n",
       "      <td>negative</td>\n",
       "      <td>NaN</td>\n",
       "      <td>None</td>\n",
       "      <td>None</td>\n",
       "    </tr>\n",
       "    <tr>\n",
       "      <th>1</th>\n",
       "      <td>Hostess was extremely accommodating when we ar...</td>\n",
       "      <td>{'service': 0.89993864, 'price': 0.025022436}</td>\n",
       "      <td>[{'label': 'POSITIVE', 'score': 0.997357010841...</td>\n",
       "      <td>NaN</td>\n",
       "      <td>NaN</td>\n",
       "      <td>None</td>\n",
       "      <td>NaN</td>\n",
       "      <td>negative</td>\n",
       "      <td>negative</td>\n",
       "      <td>None</td>\n",
       "      <td>None</td>\n",
       "    </tr>\n",
       "    <tr>\n",
       "      <th>2</th>\n",
       "      <td>We were a couple of minutes late for our reser...</td>\n",
       "      <td>{'service': 0.93827957, 'miscellaneous': 0.015...</td>\n",
       "      <td>[{'label': 'NEGATIVE', 'score': 0.999700009822...</td>\n",
       "      <td>NaN</td>\n",
       "      <td>NaN</td>\n",
       "      <td>None</td>\n",
       "      <td>negative</td>\n",
       "      <td>negative</td>\n",
       "      <td>NaN</td>\n",
       "      <td>None</td>\n",
       "      <td>None</td>\n",
       "    </tr>\n",
       "    <tr>\n",
       "      <th>3</th>\n",
       "      <td>Though the service might be a little slow, the...</td>\n",
       "      <td>{'service': 0.8997272, 'price': 0.025125396}</td>\n",
       "      <td>[{'label': 'POSITIVE', 'score': 0.999799609184...</td>\n",
       "      <td>NaN</td>\n",
       "      <td>NaN</td>\n",
       "      <td>None</td>\n",
       "      <td>NaN</td>\n",
       "      <td>negative</td>\n",
       "      <td>negative</td>\n",
       "      <td>None</td>\n",
       "      <td>None</td>\n",
       "    </tr>\n",
       "    <tr>\n",
       "      <th>4</th>\n",
       "      <td>Although we arrived at the restaurant 10 min l...</td>\n",
       "      <td>{'service': 0.8997417, 'price': 0.025130773}</td>\n",
       "      <td>[{'label': 'NEGATIVE', 'score': 0.999439239501...</td>\n",
       "      <td>NaN</td>\n",
       "      <td>NaN</td>\n",
       "      <td>None</td>\n",
       "      <td>NaN</td>\n",
       "      <td>negative</td>\n",
       "      <td>negative</td>\n",
       "      <td>None</td>\n",
       "      <td>None</td>\n",
       "    </tr>\n",
       "  </tbody>\n",
       "</table>\n",
       "</div>"
      ],
      "text/plain": [
       "                                                text  \\\n",
       "0  It might be the best sit down food I've had in...   \n",
       "1  Hostess was extremely accommodating when we ar...   \n",
       "2  We were a couple of minutes late for our reser...   \n",
       "3  Though the service might be a little slow, the...   \n",
       "4  Although we arrived at the restaurant 10 min l...   \n",
       "\n",
       "                                           lda_topic  \\\n",
       "0  {'service': 0.57103175, 'miscellaneous': 0.382...   \n",
       "1      {'service': 0.89993864, 'price': 0.025022436}   \n",
       "2  {'service': 0.93827957, 'miscellaneous': 0.015...   \n",
       "3       {'service': 0.8997272, 'price': 0.025125396}   \n",
       "4       {'service': 0.8997417, 'price': 0.025130773}   \n",
       "\n",
       "                                           sentiment food place staff  \\\n",
       "0  [{'label': 'NEGATIVE', 'score': 0.865111231803...  NaN   NaN  None   \n",
       "1  [{'label': 'POSITIVE', 'score': 0.997357010841...  NaN   NaN  None   \n",
       "2  [{'label': 'NEGATIVE', 'score': 0.999700009822...  NaN   NaN  None   \n",
       "3  [{'label': 'POSITIVE', 'score': 0.999799609184...  NaN   NaN  None   \n",
       "4  [{'label': 'NEGATIVE', 'score': 0.999439239501...  NaN   NaN  None   \n",
       "\n",
       "  miscellaneous   service     price  menu ambience  \n",
       "0      negative  negative       NaN  None     None  \n",
       "1           NaN  negative  negative  None     None  \n",
       "2      negative  negative       NaN  None     None  \n",
       "3           NaN  negative  negative  None     None  \n",
       "4           NaN  negative  negative  None     None  "
      ]
     },
     "execution_count": 115,
     "metadata": {},
     "output_type": "execute_result"
    }
   ],
   "source": [
    "bert_df.head()"
   ]
  },
  {
   "cell_type": "markdown",
   "id": "systematic-belarus",
   "metadata": {},
   "source": [
    "# LDA + BERT Model Evaluation:"
   ]
  },
  {
   "cell_type": "code",
   "execution_count": 116,
   "id": "monetary-priority",
   "metadata": {},
   "outputs": [
    {
     "name": "stderr",
     "output_type": "stream",
     "text": [
      "C:\\ProgramData\\Anaconda3\\envs\\nlpenv\\lib\\site-packages\\pandas\\core\\frame.py:4524: SettingWithCopyWarning: \n",
      "A value is trying to be set on a copy of a slice from a DataFrame\n",
      "\n",
      "See the caveats in the documentation: https://pandas.pydata.org/pandas-docs/stable/user_guide/indexing.html#returning-a-view-versus-a-copy\n",
      "  return super().replace(\n"
     ]
    }
   ],
   "source": [
    "#collect learned aspect categories and sentiments for the training set\n",
    "bert_df_cats = bert_df[categories]\n",
    "bert_df_cats.replace(to_replace = [None], value = 'N/A', inplace = True)"
   ]
  },
  {
   "cell_type": "code",
   "execution_count": 117,
   "id": "composed-organic",
   "metadata": {},
   "outputs": [
    {
     "data": {
      "text/plain": [
       "food             0.197268\n",
       "place            0.624524\n",
       "service          0.154701\n",
       "price            0.681067\n",
       "miscellaneous    0.556544\n",
       "dtype: float64"
      ]
     },
     "execution_count": 117,
     "metadata": {},
     "output_type": "execute_result"
    }
   ],
   "source": [
    "#compare learned aspect categories and sentiments with training labels\n",
    "#0 - learned sentiment does not match label\n",
    "#1 - learned sentiment matches label\n",
    "\n",
    "bert_diff_df = train_df_cats.eq(bert_df_cats).astype(int)\n",
    "#calculate classification accuracy for each aspect category\n",
    "bert_diff_df[reduced_cats].mean()"
   ]
  },
  {
   "cell_type": "code",
   "execution_count": 118,
   "id": "least-richmond",
   "metadata": {},
   "outputs": [
    {
     "data": {
      "text/plain": [
       "0.4428208386277001"
      ]
     },
     "execution_count": 118,
     "metadata": {},
     "output_type": "execute_result"
    }
   ],
   "source": [
    "#calculate mean classification accuracy across all aspect categories\n",
    "bert_diff_df[reduced_cats].mean().mean()"
   ]
  },
  {
   "cell_type": "markdown",
   "id": "subjective-abraham",
   "metadata": {},
   "source": [
    "#### Bag-of-Word Representation:\n",
    "LDA + NLTK accuracy was **~48%**, LDA + BERT accuracy is **~45%**. BERT is currently performing worse?\n",
    "\n",
    "#### TF-IDF Representation:\n",
    "LDA + NLTK accuracy was **~47%**, LDA + BERT accuracy is **~44%**. VADER still outperforms BERT?"
   ]
  },
  {
   "cell_type": "markdown",
   "id": "adapted-prefix",
   "metadata": {},
   "source": [
    "# Identifying Sources of Error:\n",
    "Is the LDA model, or is the sentiment analysis the major contributor to classification error?"
   ]
  },
  {
   "cell_type": "code",
   "execution_count": 72,
   "id": "verbal-waterproof",
   "metadata": {},
   "outputs": [],
   "source": [
    "def compare_topics(labels, learned_labels):\n",
    "    \"\"\"Returns percentage of learned labels that are also in the ground truth labels.\"\"\"\n",
    "    intersection = [label for label in learned_labels if label in labels]\n",
    "    score = round(len(intersection) / len(labels), 2)\n",
    "    return score"
   ]
  },
  {
   "cell_type": "code",
   "execution_count": 73,
   "id": "close-range",
   "metadata": {},
   "outputs": [
    {
     "data": {
      "text/plain": [
       "1.0"
      ]
     },
     "execution_count": 73,
     "metadata": {},
     "output_type": "execute_result"
    }
   ],
   "source": [
    "compare_topics(list(train_df['sentiment'][0].keys()), list(lda_df['lda_topic'][0].keys()))"
   ]
  },
  {
   "cell_type": "code",
   "execution_count": 84,
   "id": "backed-protocol",
   "metadata": {},
   "outputs": [
    {
     "data": {
      "text/html": [
       "<div>\n",
       "<style scoped>\n",
       "    .dataframe tbody tr th:only-of-type {\n",
       "        vertical-align: middle;\n",
       "    }\n",
       "\n",
       "    .dataframe tbody tr th {\n",
       "        vertical-align: top;\n",
       "    }\n",
       "\n",
       "    .dataframe thead th {\n",
       "        text-align: right;\n",
       "    }\n",
       "</style>\n",
       "<table border=\"1\" class=\"dataframe\">\n",
       "  <thead>\n",
       "    <tr style=\"text-align: right;\">\n",
       "      <th></th>\n",
       "      <th>text</th>\n",
       "      <th>labels</th>\n",
       "      <th>learned_topics</th>\n",
       "      <th>comparison</th>\n",
       "    </tr>\n",
       "  </thead>\n",
       "  <tbody>\n",
       "    <tr>\n",
       "      <th>0</th>\n",
       "      <td>It might be the best sit down food I've had in...</td>\n",
       "      <td>{'food': 'positive', 'place': 'neutral'}</td>\n",
       "      <td>{'food': 0.93695915, 'place': 0.016099578}</td>\n",
       "      <td>1.00</td>\n",
       "    </tr>\n",
       "    <tr>\n",
       "      <th>1</th>\n",
       "      <td>Hostess was extremely accommodating when we ar...</td>\n",
       "      <td>{'staff': 'positive', 'miscellaneous': 'neutral'}</td>\n",
       "      <td>{'service': 0.8995743, 'food': 0.025316006}</td>\n",
       "      <td>0.00</td>\n",
       "    </tr>\n",
       "    <tr>\n",
       "      <th>2</th>\n",
       "      <td>We were a couple of minutes late for our reser...</td>\n",
       "      <td>{'miscellaneous': 'neutral', 'staff': 'negative'}</td>\n",
       "      <td>{'service': 0.93798, 'place': 0.015599669}</td>\n",
       "      <td>0.00</td>\n",
       "    </tr>\n",
       "    <tr>\n",
       "      <th>3</th>\n",
       "      <td>Though the service might be a little slow, the...</td>\n",
       "      <td>{'service': 'negative', 'staff': 'positive'}</td>\n",
       "      <td>{'service': 0.8979046, 'place': 0.025716644}</td>\n",
       "      <td>0.50</td>\n",
       "    </tr>\n",
       "    <tr>\n",
       "      <th>4</th>\n",
       "      <td>Although we arrived at the restaurant 10 min l...</td>\n",
       "      <td>{'staff': 'negative', 'miscellaneous': 'neutral'}</td>\n",
       "      <td>{'service': 0.89894724, 'food': 0.02541454}</td>\n",
       "      <td>0.00</td>\n",
       "    </tr>\n",
       "    <tr>\n",
       "      <th>...</th>\n",
       "      <td>...</td>\n",
       "      <td>...</td>\n",
       "      <td>...</td>\n",
       "      <td>...</td>\n",
       "    </tr>\n",
       "    <tr>\n",
       "      <th>3143</th>\n",
       "      <td>We walked out the door with only a drink in ea...</td>\n",
       "      <td>{'food': 'neutral', 'price': 'negative'}</td>\n",
       "      <td>{'food': 0.2402088, 'service': 0.67299294}</td>\n",
       "      <td>0.50</td>\n",
       "    </tr>\n",
       "    <tr>\n",
       "      <th>3144</th>\n",
       "      <td>It took us 20 minutes to get a check, despite ...</td>\n",
       "      <td>{'price': 'neutral', 'staff': 'negative'}</td>\n",
       "      <td>{'service': 0.9381026, 'place': 0.015504326}</td>\n",
       "      <td>0.00</td>\n",
       "    </tr>\n",
       "    <tr>\n",
       "      <th>3145</th>\n",
       "      <td>The pancakes were good, but don't have blueber...</td>\n",
       "      <td>{'food': 'negative', 'menu': 'neutral'}</td>\n",
       "      <td>{'food': 0.83858186, 'miscellaneous': 0.111027...</td>\n",
       "      <td>0.50</td>\n",
       "    </tr>\n",
       "    <tr>\n",
       "      <th>3146</th>\n",
       "      <td>Our waiter disappeared entirely, our food, whe...</td>\n",
       "      <td>{'staff': 'negative', 'food': 'neutral', 'misc...</td>\n",
       "      <td>{'food': 0.124854095, 'service': 0.84866583}</td>\n",
       "      <td>0.25</td>\n",
       "    </tr>\n",
       "    <tr>\n",
       "      <th>3147</th>\n",
       "      <td>90 for a porterhouse steak for 2 (ordered medi...</td>\n",
       "      <td>{'food': 'neutral', 'service': 'positive'}</td>\n",
       "      <td>{'food': 0.84876144, 'place': 0.104192734}</td>\n",
       "      <td>0.50</td>\n",
       "    </tr>\n",
       "  </tbody>\n",
       "</table>\n",
       "<p>3148 rows × 4 columns</p>\n",
       "</div>"
      ],
      "text/plain": [
       "                                                   text  \\\n",
       "0     It might be the best sit down food I've had in...   \n",
       "1     Hostess was extremely accommodating when we ar...   \n",
       "2     We were a couple of minutes late for our reser...   \n",
       "3     Though the service might be a little slow, the...   \n",
       "4     Although we arrived at the restaurant 10 min l...   \n",
       "...                                                 ...   \n",
       "3143  We walked out the door with only a drink in ea...   \n",
       "3144  It took us 20 minutes to get a check, despite ...   \n",
       "3145  The pancakes were good, but don't have blueber...   \n",
       "3146  Our waiter disappeared entirely, our food, whe...   \n",
       "3147  90 for a porterhouse steak for 2 (ordered medi...   \n",
       "\n",
       "                                                 labels  \\\n",
       "0              {'food': 'positive', 'place': 'neutral'}   \n",
       "1     {'staff': 'positive', 'miscellaneous': 'neutral'}   \n",
       "2     {'miscellaneous': 'neutral', 'staff': 'negative'}   \n",
       "3          {'service': 'negative', 'staff': 'positive'}   \n",
       "4     {'staff': 'negative', 'miscellaneous': 'neutral'}   \n",
       "...                                                 ...   \n",
       "3143           {'food': 'neutral', 'price': 'negative'}   \n",
       "3144          {'price': 'neutral', 'staff': 'negative'}   \n",
       "3145            {'food': 'negative', 'menu': 'neutral'}   \n",
       "3146  {'staff': 'negative', 'food': 'neutral', 'misc...   \n",
       "3147         {'food': 'neutral', 'service': 'positive'}   \n",
       "\n",
       "                                         learned_topics  comparison  \n",
       "0            {'food': 0.93695915, 'place': 0.016099578}        1.00  \n",
       "1           {'service': 0.8995743, 'food': 0.025316006}        0.00  \n",
       "2            {'service': 0.93798, 'place': 0.015599669}        0.00  \n",
       "3          {'service': 0.8979046, 'place': 0.025716644}        0.50  \n",
       "4           {'service': 0.89894724, 'food': 0.02541454}        0.00  \n",
       "...                                                 ...         ...  \n",
       "3143         {'food': 0.2402088, 'service': 0.67299294}        0.50  \n",
       "3144       {'service': 0.9381026, 'place': 0.015504326}        0.00  \n",
       "3145  {'food': 0.83858186, 'miscellaneous': 0.111027...        0.50  \n",
       "3146       {'food': 0.124854095, 'service': 0.84866583}        0.25  \n",
       "3147         {'food': 0.84876144, 'place': 0.104192734}        0.50  \n",
       "\n",
       "[3148 rows x 4 columns]"
      ]
     },
     "execution_count": 84,
     "metadata": {},
     "output_type": "execute_result"
    }
   ],
   "source": [
    "#Compare assigned topics from LDA model with training set labels\n",
    "compared_topics = pd.concat([train_df['text'], train_df['sentiment'], lda_df['lda_topic']], axis = 1)\n",
    "compared_topics.columns = ['text', 'labels', 'learned_topics']\n",
    "compared_topics['comparison'] = compared_topics.apply(lambda x: compare_topics(x['labels'], x['learned_topics']), axis = 1)\n",
    "compared_topics"
   ]
  },
  {
   "cell_type": "code",
   "execution_count": 85,
   "id": "competent-parking",
   "metadata": {},
   "outputs": [
    {
     "data": {
      "text/plain": [
       "0.33160419313850137"
      ]
     },
     "execution_count": 85,
     "metadata": {},
     "output_type": "execute_result"
    }
   ],
   "source": [
    "compared_topics['comparison'].mean()"
   ]
  },
  {
   "cell_type": "markdown",
   "id": "serious-requirement",
   "metadata": {},
   "source": [
    "Using BoW, LDA classified **~33%** of topics correctly.\n",
    "\n",
    "Using TF-IDF, LDA classified **~31%** of topics correctly."
   ]
  },
  {
   "cell_type": "code",
   "execution_count": 86,
   "id": "technical-candidate",
   "metadata": {},
   "outputs": [
    {
     "data": {
      "image/png": "[encoded data removed]",
      "text/plain": [
       "<Figure size 432x288 with 1 Axes>"
      ]
     },
     "metadata": {
      "needs_background": "light"
     },
     "output_type": "display_data"
    }
   ],
   "source": [
    "compared_topics.groupby(['comparison']).count()['labels'].plot(kind = 'bar', edgecolor = 'dimgrey');\n",
    "plt.xticks(rotation = 45);\n",
    "plt.xlabel('LDA Classification Accuracy');\n",
    "plt.ylabel('Number of Documents');"
   ]
  },
  {
   "cell_type": "code",
   "execution_count": 102,
   "id": "bearing-thought",
   "metadata": {},
   "outputs": [
    {
     "data": {
      "text/html": [
       "<div>\n",
       "<style scoped>\n",
       "    .dataframe tbody tr th:only-of-type {\n",
       "        vertical-align: middle;\n",
       "    }\n",
       "\n",
       "    .dataframe tbody tr th {\n",
       "        vertical-align: top;\n",
       "    }\n",
       "\n",
       "    .dataframe thead th {\n",
       "        text-align: right;\n",
       "    }\n",
       "</style>\n",
       "<table border=\"1\" class=\"dataframe\">\n",
       "  <thead>\n",
       "    <tr style=\"text-align: right;\">\n",
       "      <th></th>\n",
       "      <th>text</th>\n",
       "      <th>labels</th>\n",
       "      <th>learned_topics</th>\n",
       "      <th>comparison</th>\n",
       "    </tr>\n",
       "  </thead>\n",
       "  <tbody>\n",
       "    <tr>\n",
       "      <th>1</th>\n",
       "      <td>Hostess was extremely accommodating when we ar...</td>\n",
       "      <td>{'staff': 'positive', 'miscellaneous': 'neutral'}</td>\n",
       "      <td>{'service': 0.8995743, 'food': 0.025316006}</td>\n",
       "      <td>0.0</td>\n",
       "    </tr>\n",
       "    <tr>\n",
       "      <th>2</th>\n",
       "      <td>We were a couple of minutes late for our reser...</td>\n",
       "      <td>{'miscellaneous': 'neutral', 'staff': 'negative'}</td>\n",
       "      <td>{'service': 0.93798, 'place': 0.015599669}</td>\n",
       "      <td>0.0</td>\n",
       "    </tr>\n",
       "    <tr>\n",
       "      <th>4</th>\n",
       "      <td>Although we arrived at the restaurant 10 min l...</td>\n",
       "      <td>{'staff': 'negative', 'miscellaneous': 'neutral'}</td>\n",
       "      <td>{'service': 0.89894724, 'food': 0.02541454}</td>\n",
       "      <td>0.0</td>\n",
       "    </tr>\n",
       "    <tr>\n",
       "      <th>12</th>\n",
       "      <td>Specialty drinks--alcoholic and non--arrive in...</td>\n",
       "      <td>{'food': 'neutral', 'miscellaneous': 'positive'}</td>\n",
       "      <td>{'service': 0.15234743, 'place': 0.8042784}</td>\n",
       "      <td>0.0</td>\n",
       "    </tr>\n",
       "    <tr>\n",
       "      <th>16</th>\n",
       "      <td>The Food The casual Middle Eastern menu looks ...</td>\n",
       "      <td>{'menu': 'positive', 'place': 'neutral'}</td>\n",
       "      <td>{'food': 0.9457692, 'service': 0.013682339}</td>\n",
       "      <td>0.0</td>\n",
       "    </tr>\n",
       "  </tbody>\n",
       "</table>\n",
       "</div>"
      ],
      "text/plain": [
       "                                                 text  \\\n",
       "1   Hostess was extremely accommodating when we ar...   \n",
       "2   We were a couple of minutes late for our reser...   \n",
       "4   Although we arrived at the restaurant 10 min l...   \n",
       "12  Specialty drinks--alcoholic and non--arrive in...   \n",
       "16  The Food The casual Middle Eastern menu looks ...   \n",
       "\n",
       "                                               labels  \\\n",
       "1   {'staff': 'positive', 'miscellaneous': 'neutral'}   \n",
       "2   {'miscellaneous': 'neutral', 'staff': 'negative'}   \n",
       "4   {'staff': 'negative', 'miscellaneous': 'neutral'}   \n",
       "12   {'food': 'neutral', 'miscellaneous': 'positive'}   \n",
       "16           {'menu': 'positive', 'place': 'neutral'}   \n",
       "\n",
       "                                 learned_topics  comparison  \n",
       "1   {'service': 0.8995743, 'food': 0.025316006}         0.0  \n",
       "2    {'service': 0.93798, 'place': 0.015599669}         0.0  \n",
       "4   {'service': 0.89894724, 'food': 0.02541454}         0.0  \n",
       "12  {'service': 0.15234743, 'place': 0.8042784}         0.0  \n",
       "16  {'food': 0.9457692, 'service': 0.013682339}         0.0  "
      ]
     },
     "execution_count": 102,
     "metadata": {},
     "output_type": "execute_result"
    }
   ],
   "source": [
    "#sample totally wrong classifications\n",
    "condition = compared_topics['comparison'] == 0\n",
    "wrong_samples = list(compared_topics.index[condition][0:5])\n",
    "compared_topics.iloc[wrong_samples]"
   ]
  },
  {
   "cell_type": "code",
   "execution_count": 100,
   "id": "wicked-reserve",
   "metadata": {},
   "outputs": [
    {
     "name": "stdout",
     "output_type": "stream",
     "text": [
      "Document No. 1: Hostess was extremely accommodating when we arrived an hour early for our reservation. \n",
      "\n",
      "Document No. 2: We were a couple of minutes late for our reservation and minus one guest, but we didn't think we deserved the attitude we got from the hostess. \n",
      "\n",
      "Document No. 4: Although we arrived at the restaurant 10 min late, the hostess did not have a table for us. \n",
      "\n",
      "Document No. 12: Specialty drinks--alcoholic and non--arrive in skull mugs or mini-canteens, nifty take-home souvenirs. \n",
      "\n",
      "Document No. 16: The Food The casual Middle Eastern menu looks familar, but the food--made to order in the open kitchen--is a notch above its peers. \n",
      "\n"
     ]
    }
   ],
   "source": [
    "#print full text for misclassified documents\n",
    "for s in wrong_samples:\n",
    "    print(f'Document No. {s}: {compared_topics.iloc[s][0]} \\n')"
   ]
  },
  {
   "cell_type": "code",
   "execution_count": 126,
   "id": "intense-grave",
   "metadata": {},
   "outputs": [
    {
     "data": {
      "text/html": [
       "<div>\n",
       "<style scoped>\n",
       "    .dataframe tbody tr th:only-of-type {\n",
       "        vertical-align: middle;\n",
       "    }\n",
       "\n",
       "    .dataframe tbody tr th {\n",
       "        vertical-align: top;\n",
       "    }\n",
       "\n",
       "    .dataframe thead th {\n",
       "        text-align: right;\n",
       "    }\n",
       "</style>\n",
       "<table border=\"1\" class=\"dataframe\">\n",
       "  <thead>\n",
       "    <tr style=\"text-align: right;\">\n",
       "      <th></th>\n",
       "      <th>text</th>\n",
       "      <th>labels</th>\n",
       "      <th>learned_topics</th>\n",
       "      <th>comparison</th>\n",
       "    </tr>\n",
       "  </thead>\n",
       "  <tbody>\n",
       "    <tr>\n",
       "      <th>1</th>\n",
       "      <td>Hostess was extremely accommodating when we ar...</td>\n",
       "      <td>{'staff': 'positive', 'miscellaneous': 'neutral'}</td>\n",
       "      <td>{'service': 0.8995743, 'food': 0.025316006}</td>\n",
       "      <td>0.00</td>\n",
       "    </tr>\n",
       "    <tr>\n",
       "      <th>2</th>\n",
       "      <td>We were a couple of minutes late for our reser...</td>\n",
       "      <td>{'miscellaneous': 'neutral', 'staff': 'negative'}</td>\n",
       "      <td>{'service': 0.93798, 'place': 0.015599669}</td>\n",
       "      <td>0.00</td>\n",
       "    </tr>\n",
       "    <tr>\n",
       "      <th>4</th>\n",
       "      <td>Although we arrived at the restaurant 10 min l...</td>\n",
       "      <td>{'staff': 'negative', 'miscellaneous': 'neutral'}</td>\n",
       "      <td>{'service': 0.89894724, 'food': 0.02541454}</td>\n",
       "      <td>0.00</td>\n",
       "    </tr>\n",
       "    <tr>\n",
       "      <th>6</th>\n",
       "      <td>The bill was surprisingly inexpensive consider...</td>\n",
       "      <td>{'food': 'neutral', 'price': 'positive', 'misc...</td>\n",
       "      <td>{'food': 0.38731742, 'service': 0.57481176}</td>\n",
       "      <td>0.33</td>\n",
       "    </tr>\n",
       "    <tr>\n",
       "      <th>8</th>\n",
       "      <td>It was very loud, I felt too crowded, the man ...</td>\n",
       "      <td>{'miscellaneous': 'neutral', 'staff': 'negative'}</td>\n",
       "      <td>{'service': 0.6187258, 'miscellaneous': 0.3248...</td>\n",
       "      <td>0.50</td>\n",
       "    </tr>\n",
       "    <tr>\n",
       "      <th>...</th>\n",
       "      <td>...</td>\n",
       "      <td>...</td>\n",
       "      <td>...</td>\n",
       "      <td>...</td>\n",
       "    </tr>\n",
       "    <tr>\n",
       "      <th>3130</th>\n",
       "      <td>anyway, nice place for brunch for selection un...</td>\n",
       "      <td>{'place': 'positive', 'food': 'positive', 'mis...</td>\n",
       "      <td>{'food': 0.29931304, 'price': 0.32408974, 'pla...</td>\n",
       "      <td>0.50</td>\n",
       "    </tr>\n",
       "    <tr>\n",
       "      <th>3137</th>\n",
       "      <td>We arrived about 15 minutes late for a Friday ...</td>\n",
       "      <td>{'miscellaneous': 'neutral', 'staff': 'negative'}</td>\n",
       "      <td>{'food': 0.26452667, 'service': 0.67404854}</td>\n",
       "      <td>0.00</td>\n",
       "    </tr>\n",
       "    <tr>\n",
       "      <th>3138</th>\n",
       "      <td>I have eaten here for nearly three years, with...</td>\n",
       "      <td>{'miscellaneous': 'neutral', 'service': 'posit...</td>\n",
       "      <td>{'food': 0.4084337, 'price': 0.1677603, 'servi...</td>\n",
       "      <td>0.50</td>\n",
       "    </tr>\n",
       "    <tr>\n",
       "      <th>3140</th>\n",
       "      <td>After dinner I walked over to the cheese count...</td>\n",
       "      <td>{'food': 'neutral', 'miscellaneous': 'neutral'...</td>\n",
       "      <td>{'food': 0.4463801, 'service': 0.5260673}</td>\n",
       "      <td>0.33</td>\n",
       "    </tr>\n",
       "    <tr>\n",
       "      <th>3146</th>\n",
       "      <td>Our waiter disappeared entirely, our food, whe...</td>\n",
       "      <td>{'staff': 'negative', 'food': 'neutral', 'misc...</td>\n",
       "      <td>{'food': 0.124854095, 'service': 0.84866583}</td>\n",
       "      <td>0.25</td>\n",
       "    </tr>\n",
       "  </tbody>\n",
       "</table>\n",
       "<p>531 rows × 4 columns</p>\n",
       "</div>"
      ],
      "text/plain": [
       "                                                   text  \\\n",
       "1     Hostess was extremely accommodating when we ar...   \n",
       "2     We were a couple of minutes late for our reser...   \n",
       "4     Although we arrived at the restaurant 10 min l...   \n",
       "6     The bill was surprisingly inexpensive consider...   \n",
       "8     It was very loud, I felt too crowded, the man ...   \n",
       "...                                                 ...   \n",
       "3130  anyway, nice place for brunch for selection un...   \n",
       "3137  We arrived about 15 minutes late for a Friday ...   \n",
       "3138  I have eaten here for nearly three years, with...   \n",
       "3140  After dinner I walked over to the cheese count...   \n",
       "3146  Our waiter disappeared entirely, our food, whe...   \n",
       "\n",
       "                                                 labels  \\\n",
       "1     {'staff': 'positive', 'miscellaneous': 'neutral'}   \n",
       "2     {'miscellaneous': 'neutral', 'staff': 'negative'}   \n",
       "4     {'staff': 'negative', 'miscellaneous': 'neutral'}   \n",
       "6     {'food': 'neutral', 'price': 'positive', 'misc...   \n",
       "8     {'miscellaneous': 'neutral', 'staff': 'negative'}   \n",
       "...                                                 ...   \n",
       "3130  {'place': 'positive', 'food': 'positive', 'mis...   \n",
       "3137  {'miscellaneous': 'neutral', 'staff': 'negative'}   \n",
       "3138  {'miscellaneous': 'neutral', 'service': 'posit...   \n",
       "3140  {'food': 'neutral', 'miscellaneous': 'neutral'...   \n",
       "3146  {'staff': 'negative', 'food': 'neutral', 'misc...   \n",
       "\n",
       "                                         learned_topics  comparison  \n",
       "1           {'service': 0.8995743, 'food': 0.025316006}        0.00  \n",
       "2            {'service': 0.93798, 'place': 0.015599669}        0.00  \n",
       "4           {'service': 0.89894724, 'food': 0.02541454}        0.00  \n",
       "6           {'food': 0.38731742, 'service': 0.57481176}        0.33  \n",
       "8     {'service': 0.6187258, 'miscellaneous': 0.3248...        0.50  \n",
       "...                                                 ...         ...  \n",
       "3130  {'food': 0.29931304, 'price': 0.32408974, 'pla...        0.50  \n",
       "3137        {'food': 0.26452667, 'service': 0.67404854}        0.00  \n",
       "3138  {'food': 0.4084337, 'price': 0.1677603, 'servi...        0.50  \n",
       "3140          {'food': 0.4463801, 'service': 0.5260673}        0.33  \n",
       "3146       {'food': 0.124854095, 'service': 0.84866583}        0.25  \n",
       "\n",
       "[531 rows x 4 columns]"
      ]
     },
     "execution_count": 126,
     "metadata": {},
     "output_type": "execute_result"
    }
   ],
   "source": [
    "compared_topics[compared_topics.labels.astype(str).str.contains(\"'miscellaneous': 'neutral'\", na = False)]"
   ]
  },
  {
   "cell_type": "code",
   "execution_count": null,
   "id": "foster-theorem",
   "metadata": {},
   "outputs": [],
   "source": []
  }
 ],
 "metadata": {
  "kernelspec": {
   "display_name": "Python 3",
   "language": "python",
   "name": "python3"
  },
  "language_info": {
   "codemirror_mode": {
    "name": "ipython",
    "version": 3
   },
   "file_extension": ".py",
   "mimetype": "text/x-python",
   "name": "python",
   "nbconvert_exporter": "python",
   "pygments_lexer": "ipython3",
   "version": "3.8.3"
  }
 },
 "nbformat": 4,
 "nbformat_minor": 5
}
