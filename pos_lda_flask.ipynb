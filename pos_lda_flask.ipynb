{
 "cells": [
  {
   "cell_type": "code",
   "execution_count": 1,
   "source": [
    "import pandas as pd\r\n",
    "import numpy as np\r\n",
    "import nltk\r\n",
    "import spacy\r\n",
    "import pickle\r\n",
    "\r\n",
    "from flask import Flask, request, render_template\r\n",
    "from gensim.models.ldamodel import LdaModel\r\n",
    "from gensim import corpora\r\n",
    "from nltk.sentiment.vader import SentimentIntensityAnalyzer\r\n",
    "\r\n",
    "nlp = spacy.load(\"en_core_web_sm\")\r\n",
    "nltk.download('vader_lexicon')\r\n",
    "\r\n",
    "from absa_functions import *"
   ],
   "outputs": [
    {
     "output_type": "stream",
     "name": "stderr",
     "text": [
      "[nltk_data] Downloading package vader_lexicon to\n",
      "[nltk_data]     C:\\Users\\Evan\\AppData\\Roaming\\nltk_data...\n",
      "[nltk_data]   Package vader_lexicon is already up-to-date!\n"
     ]
    }
   ],
   "metadata": {}
  },
  {
   "cell_type": "code",
   "execution_count": 2,
   "source": [
    "corpus = pickle.load(open('corpus.pkl', 'rb'))\r\n",
    "dictionary = corpora.Dictionary.load('dictionary.gensim')\r\n",
    "lda_model = LdaModel.load('best_lda_model.gensim')"
   ],
   "outputs": [],
   "metadata": {}
  },
  {
   "cell_type": "code",
   "execution_count": 3,
   "source": [
    "sid = SentimentIntensityAnalyzer()"
   ],
   "outputs": [],
   "metadata": {}
  },
  {
   "cell_type": "code",
   "execution_count": 3,
   "source": [
    "#numerical mapping for topics in LDA model\r\n",
    "# topic_map = {0: 'menu', 1: 'service', 2: 'miscellaneous', 3: 'place', 4: 'price', 5: 'food', 6: 'staff'}\r\n",
    "\r\n"
   ],
   "outputs": [
    {
     "output_type": "execute_result",
     "data": {
      "text/plain": [
       "{0: 'menu',\n",
       " 1: 'service',\n",
       " 2: 'miscellaneous',\n",
       " 3: 'place',\n",
       " 4: 'price',\n",
       " 5: 'food',\n",
       " 6: 'staff'}"
      ]
     },
     "metadata": {},
     "execution_count": 3
    }
   ],
   "metadata": {}
  },
  {
   "cell_type": "code",
   "execution_count": 4,
   "source": [
    "review = 'Wonderful music, beautiful restaurant, great wine.'"
   ],
   "outputs": [],
   "metadata": {}
  },
  {
   "cell_type": "code",
   "execution_count": 5,
   "source": [
    "count = 0\r\n",
    "doc = nlp(review)\r\n",
    "for token in doc:\r\n",
    "    count += 1\r\n",
    "    if count <= 20:\r\n",
    "    # if 12 <= count <= 18:\r\n",
    "        print(token.text, token.dep_, token.head.text, token.head.pos_, token.pos_,[child for child in token.children])"
   ],
   "outputs": [
    {
     "output_type": "stream",
     "name": "stdout",
     "text": [
      "Wonderful amod music NOUN ADJ []\n",
      "music ROOT music NOUN NOUN [Wonderful, ,, restaurant, wine, .]\n",
      ", punct music NOUN PUNCT []\n",
      "beautiful amod restaurant NOUN ADJ []\n",
      "restaurant appos music NOUN NOUN [beautiful, ,]\n",
      ", punct restaurant NOUN PUNCT []\n",
      "great amod wine NOUN ADJ []\n",
      "wine appos music NOUN NOUN [great]\n",
      ". punct music NOUN PUNCT []\n"
     ]
    }
   ],
   "metadata": {}
  },
  {
   "cell_type": "code",
   "execution_count": 6,
   "source": [
    "parse_targets(nlp, review)"
   ],
   "outputs": [
    {
     "output_type": "execute_result",
     "data": {
      "text/plain": [
       "['music']"
      ]
     },
     "metadata": {},
     "execution_count": 6
    }
   ],
   "metadata": {}
  },
  {
   "cell_type": "code",
   "execution_count": 7,
   "source": [
    "parse_adjectives(nlp, review)"
   ],
   "outputs": [
    {
     "output_type": "execute_result",
     "data": {
      "text/plain": [
       "['Wonderful', 'beautiful', 'great']"
      ]
     },
     "metadata": {},
     "execution_count": 7
    }
   ],
   "metadata": {}
  },
  {
   "cell_type": "code",
   "execution_count": 8,
   "source": [
    "get_topic_from_word(prepare_text_for_lda('entitlement')[0], lda_model, TOPIC_MAP)"
   ],
   "outputs": [
    {
     "output_type": "execute_result",
     "data": {
      "text/plain": [
       "'miscellaneous'"
      ]
     },
     "metadata": {},
     "execution_count": 8
    }
   ],
   "metadata": {}
  },
  {
   "cell_type": "code",
   "execution_count": 9,
   "source": [
    "def pos_prediction(restaurant_review):\r\n",
    "    nlp = spacy.load(\"en_core_web_sm\")\r\n",
    "    targets = parse_targets(nlp, restaurant_review)\r\n",
    "    adjectives = parse_adjectives(nlp, restaurant_review)\r\n",
    "\r\n",
    "    outputs = []\r\n",
    "    if len(targets) == len(adjectives): \r\n",
    "        for i in range(0, len(targets)):\r\n",
    "            output = {}\r\n",
    "            \r\n",
    "            output.update({'aspect': targets[i], 'adjective': adjectives[i]})\r\n",
    "            try:\r\n",
    "                topic = get_topic_from_word(prepare_text_for_lda(targets[i])[0], lda_model, TOPIC_MAP)\r\n",
    "            except:\r\n",
    "                topic = 'miscellaneous'\r\n",
    "            score = sid.polarity_scores(adjectives[i])['compound']\r\n",
    "            sentiment = 'positive' if score > 0 else ('neutral' if score == 0 else 'negative')\r\n",
    "            output.update({'topic': topic, 'polarity': sentiment})\r\n",
    "            outputs.append(output)\r\n",
    "    elif len(targets) > len(adjectives):\r\n",
    "        for i in range(0, len(targets)):\r\n",
    "            output = {}\r\n",
    "            try:\r\n",
    "                topic = get_topic_from_word(prepare_text_for_lda(targets[i])[0], lda_model, TOPIC_MAP)\r\n",
    "                score = sid.polarity_scores(adjectives[i])['compound']\r\n",
    "                sentiment = 'positive' if score > 0 else ('neutral' if score == 0 else 'negative')\r\n",
    "                output.update({'aspect': targets[i], 'adjective': adjectives[i], 'topic': topic, 'polarity': sentiment})\r\n",
    "            except IndexError:\r\n",
    "                topic = get_topic_from_word(prepare_text_for_lda(targets[i])[0], lda_model, TOPIC_MAP)\r\n",
    "                output.update({'aspect': targets[i], 'adjective': 'None', 'topic': topic, 'polarity': 'None'})\r\n",
    "            \r\n",
    "            outputs.append(output)\r\n",
    "    elif len(targets) < len(adjectives):\r\n",
    "        for i in range(0, len(adjectives)):\r\n",
    "            output = {}\r\n",
    "            try:\r\n",
    "                topic = get_topic_from_word(prepare_text_for_lda(targets[i])[0], lda_model, TOPIC_MAP)\r\n",
    "                score = sid.polarity_scores(adjectives[i])['compound']\r\n",
    "                sentiment = 'positive' if score > 0 else ('neutral' if score == 0 else 'negative')\r\n",
    "                output.update({'aspect': targets[i], 'adjective': adjectives[i], 'topic': topic, 'polarity': sentiment})\r\n",
    "            except IndexError:\r\n",
    "                score = sid.polarity_scores(adjectives[i])['compound']\r\n",
    "                sentiment = 'positive' if score > 0 else ('neutral' if score == 0 else 'negative')\r\n",
    "                output.update({'aspect': 'None', 'adjective': adjectives[i], 'topic': 'miscellaneous', 'polarity': sentiment})\r\n",
    "            outputs.append(output)\r\n",
    "    \r\n",
    "    return pd.DataFrame(outputs)\r\n",
    "        \r\n"
   ],
   "outputs": [],
   "metadata": {}
  },
  {
   "cell_type": "code",
   "execution_count": 10,
   "source": [
    "pos_prediction(review)"
   ],
   "outputs": [
    {
     "output_type": "execute_result",
     "data": {
      "text/html": [
       "<div>\n",
       "<style scoped>\n",
       "    .dataframe tbody tr th:only-of-type {\n",
       "        vertical-align: middle;\n",
       "    }\n",
       "\n",
       "    .dataframe tbody tr th {\n",
       "        vertical-align: top;\n",
       "    }\n",
       "\n",
       "    .dataframe thead th {\n",
       "        text-align: right;\n",
       "    }\n",
       "</style>\n",
       "<table border=\"1\" class=\"dataframe\">\n",
       "  <thead>\n",
       "    <tr style=\"text-align: right;\">\n",
       "      <th></th>\n",
       "      <th>aspect</th>\n",
       "      <th>adjective</th>\n",
       "      <th>topic</th>\n",
       "      <th>polarity</th>\n",
       "    </tr>\n",
       "  </thead>\n",
       "  <tbody>\n",
       "    <tr>\n",
       "      <th>0</th>\n",
       "      <td>music</td>\n",
       "      <td>Wonderful</td>\n",
       "      <td>menu</td>\n",
       "      <td>positive</td>\n",
       "    </tr>\n",
       "    <tr>\n",
       "      <th>1</th>\n",
       "      <td>None</td>\n",
       "      <td>beautiful</td>\n",
       "      <td>miscellaneous</td>\n",
       "      <td>positive</td>\n",
       "    </tr>\n",
       "    <tr>\n",
       "      <th>2</th>\n",
       "      <td>None</td>\n",
       "      <td>great</td>\n",
       "      <td>miscellaneous</td>\n",
       "      <td>positive</td>\n",
       "    </tr>\n",
       "  </tbody>\n",
       "</table>\n",
       "</div>"
      ],
      "text/plain": [
       "  aspect  adjective          topic  polarity\n",
       "0  music  Wonderful           menu  positive\n",
       "1   None  beautiful  miscellaneous  positive\n",
       "2   None      great  miscellaneous  positive"
      ]
     },
     "metadata": {},
     "execution_count": 10
    }
   ],
   "metadata": {}
  },
  {
   "cell_type": "code",
   "execution_count": 11,
   "source": [
    "app = Flask(__name__)\r\n",
    "\r\n",
    "@app.route('/')\r\n",
    "def index():\r\n",
    "    return \"Hello, world!\"\r\n",
    "    "
   ],
   "outputs": [],
   "metadata": {}
  }
 ],
 "metadata": {
  "orig_nbformat": 4,
  "language_info": {
   "name": "python",
   "version": "3.8.3",
   "mimetype": "text/x-python",
   "codemirror_mode": {
    "name": "ipython",
    "version": 3
   },
   "pygments_lexer": "ipython3",
   "nbconvert_exporter": "python",
   "file_extension": ".py"
  },
  "kernelspec": {
   "name": "python3",
   "display_name": "Python 3.8.3 64-bit ('nlpenv': conda)"
  },
  "interpreter": {
   "hash": "3f4643a5fc191cfdc6db820312c1a6d5dbd54c07017a1c478aebe45165635478"
  }
 },
 "nbformat": 4,
 "nbformat_minor": 2
}