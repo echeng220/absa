{
 "cells": [
  {
   "cell_type": "code",
   "execution_count": 39,
   "source": [
    "import gradio as gr\r\n",
    "import pandas as pd\r\n",
    "import gensim\r\n",
    "import pickle\r\n",
    "\r\n",
    "from absa_functions import *"
   ],
   "outputs": [],
   "metadata": {}
  },
  {
   "cell_type": "code",
   "execution_count": null,
   "source": [
    "def greet(name):\r\n",
    "  return \"Hello \" + name + \"!!\"\r\n",
    "\r\n",
    "iface = gr.Interface(fn=greet, inputs=\"text\", outputs=\"text\")\r\n",
    "iface.launch()"
   ],
   "outputs": [],
   "metadata": {}
  },
  {
   "cell_type": "code",
   "execution_count": 11,
   "source": [
    "corpus = pickle.load(open('corpus.pkl', 'rb'))\r\n",
    "dictionary = gensim.corpora.Dictionary.load('dictionary.gensim')\r\n",
    "\r\n",
    "lda_model = gensim.models.ldamodel.LdaModel.load('best_lda_model.gensim')"
   ],
   "outputs": [],
   "metadata": {}
  },
  {
   "cell_type": "code",
   "execution_count": 6,
   "source": [
    "#numerical mapping for topics in LDA model\r\n",
    "topic_map = {0: 'menu', 1: 'service', 2: 'miscellaneous', 3: 'place', 4: 'price', 5: 'food', 6: 'staff'}"
   ],
   "outputs": [],
   "metadata": {}
  },
  {
   "cell_type": "code",
   "execution_count": 20,
   "source": [
    "raw_review = \"The food was good, but it's not worth the wait--or the lousy service.\"\r\n",
    "clean_sample = prepare_text_for_lda(raw_review)\r\n",
    "sample_2bow = dictionary.doc2bow(clean_sample)\r\n",
    "sample_2bow"
   ],
   "outputs": [
    {
     "output_type": "execute_result",
     "data": {
      "text/plain": [
       "[(5, 1), (31, 1), (114, 1), (144, 1), (1296, 1), (4032, 1)]"
      ]
     },
     "metadata": {},
     "execution_count": 20
    }
   ],
   "metadata": {}
  },
  {
   "cell_type": "code",
   "execution_count": 27,
   "source": [
    "topic_dict = {topic_map[x[0]]:x[-1] for x in topics}\r\n",
    "topic_dict"
   ],
   "outputs": [
    {
     "output_type": "execute_result",
     "data": {
      "text/plain": [
       "{'menu': 0.022106871,\n",
       " 'service': 0.5052021,\n",
       " 'miscellaneous': 0.022104416,\n",
       " 'place': 0.38408273,\n",
       " 'price': 0.022111692,\n",
       " 'food': 0.022276988,\n",
       " 'staff': 0.022115165}"
      ]
     },
     "metadata": {},
     "execution_count": 27
    }
   ],
   "metadata": {}
  },
  {
   "cell_type": "code",
   "execution_count": 32,
   "source": [
    "sorted(topic_dict.items(), key = itemgetter(1), reverse = True)[:2]"
   ],
   "outputs": [
    {
     "output_type": "execute_result",
     "data": {
      "text/plain": [
       "[('service', 0.5052021), ('place', 0.38408273)]"
      ]
     },
     "metadata": {},
     "execution_count": 32
    }
   ],
   "metadata": {}
  },
  {
   "cell_type": "code",
   "execution_count": 89,
   "source": [
    "def lda_prediction(restaurant_review):\r\n",
    "    lda_model = gensim.models.ldamodel.LdaModel.load('best_lda_model.gensim')\r\n",
    "    topic_map = {0: 'menu', 1: 'service', 2: 'miscellaneous', 3: 'place', 4: 'price', 5: 'food', 6: 'staff'}\r\n",
    "\r\n",
    "    clean_sample = prepare_text_for_lda(restaurant_review)\r\n",
    "    sample_2bow = dictionary.doc2bow(clean_sample)\r\n",
    "\r\n",
    "    topics = lda_model.get_document_topics(sample_2bow)\r\n",
    "    topic_dict = {topic_map[x[0]]:x[-1] for x in topics}\r\n",
    "    top_topics = sorted(topic_dict.items(), key = itemgetter(1), reverse = True)\r\n",
    "    top_topics = {tup[0]: round(tup[1], 4) for tup in top_topics if tup[1] > 0.1}\r\n",
    "\r\n",
    "    topic_df = pd.DataFrame(top_topics, index=[0]).transpose().reset_index()\r\n",
    "    topic_df.columns = ['Topic', 'Confidence']\r\n",
    "    return topic_df"
   ],
   "outputs": [],
   "metadata": {}
  },
  {
   "cell_type": "code",
   "execution_count": 90,
   "source": [
    "lda_prediction(raw_review)"
   ],
   "outputs": [
    {
     "output_type": "execute_result",
     "data": {
      "text/html": [
       "<div>\n",
       "<style scoped>\n",
       "    .dataframe tbody tr th:only-of-type {\n",
       "        vertical-align: middle;\n",
       "    }\n",
       "\n",
       "    .dataframe tbody tr th {\n",
       "        vertical-align: top;\n",
       "    }\n",
       "\n",
       "    .dataframe thead th {\n",
       "        text-align: right;\n",
       "    }\n",
       "</style>\n",
       "<table border=\"1\" class=\"dataframe\">\n",
       "  <thead>\n",
       "    <tr style=\"text-align: right;\">\n",
       "      <th></th>\n",
       "      <th>Topic</th>\n",
       "      <th>Confidence</th>\n",
       "    </tr>\n",
       "  </thead>\n",
       "  <tbody>\n",
       "    <tr>\n",
       "      <th>0</th>\n",
       "      <td>service</td>\n",
       "      <td>0.5051</td>\n",
       "    </tr>\n",
       "    <tr>\n",
       "      <th>1</th>\n",
       "      <td>place</td>\n",
       "      <td>0.3841</td>\n",
       "    </tr>\n",
       "  </tbody>\n",
       "</table>\n",
       "</div>"
      ],
      "text/plain": [
       "     Topic  Confidence\n",
       "0  service      0.5051\n",
       "1    place      0.3841"
      ]
     },
     "metadata": {},
     "execution_count": 90
    }
   ],
   "metadata": {}
  },
  {
   "cell_type": "code",
   "execution_count": 91,
   "source": [
    "iface = gr.Interface(fn=lda_prediction, \r\n",
    "                    inputs=gr.inputs.Textbox(lines=2, placeholder='Enter restaurant review here...'),\r\n",
    "                    outputs=gr.outputs.Dataframe(headers=['Topic', 'Confidence']),\r\n",
    "                    examples=[\r\n",
    "                        ['The restaurant is too dark, and the bathroom was not clean. Also, everyone there is rude.'],\r\n",
    "                        ['Fabulous dinner & environment but the older waiters have a real sense of entitlement.'],\r\n",
    "                        ['Entrees were way too expensive.'],\r\n",
    "                    ])\r\n",
    "iface.launch(share=True)"
   ],
   "outputs": [
    {
     "output_type": "stream",
     "name": "stdout",
     "text": [
      "Running locally at: http://127.0.0.1:7867/\n",
      "This share link will expire in 72 hours. If you need a permanent link, visit: https://gradio.app/introducing-hosted\n",
      "Running on External URL: https://38890.gradio.app\n",
      "Interface loading below...\n"
     ]
    },
    {
     "output_type": "display_data",
     "data": {
      "text/html": [
       "\n",
       "        <iframe\n",
       "            width=\"900\"\n",
       "            height=\"500\"\n",
       "            src=\"https://38890.gradio.app\"\n",
       "            frameborder=\"0\"\n",
       "            allowfullscreen\n",
       "        ></iframe>\n",
       "        "
      ],
      "text/plain": [
       "<IPython.lib.display.IFrame at 0x2024163cdc0>"
      ]
     },
     "metadata": {}
    },
    {
     "output_type": "execute_result",
     "data": {
      "text/plain": [
       "(<Flask 'gradio.networking'>,\n",
       " 'http://127.0.0.1:7867/',\n",
       " 'https://38890.gradio.app')"
      ]
     },
     "metadata": {},
     "execution_count": 91
    }
   ],
   "metadata": {}
  },
  {
   "cell_type": "code",
   "execution_count": null,
   "source": [],
   "outputs": [],
   "metadata": {}
  }
 ],
 "metadata": {
  "orig_nbformat": 4,
  "language_info": {
   "name": "python",
   "version": "3.8.3",
   "mimetype": "text/x-python",
   "codemirror_mode": {
    "name": "ipython",
    "version": 3
   },
   "pygments_lexer": "ipython3",
   "nbconvert_exporter": "python",
   "file_extension": ".py"
  },
  "kernelspec": {
   "name": "python3",
   "display_name": "Python 3.8.3 64-bit ('nlpenv': conda)"
  },
  "interpreter": {
   "hash": "3f4643a5fc191cfdc6db820312c1a6d5dbd54c07017a1c478aebe45165635478"
  }
 },
 "nbformat": 4,
 "nbformat_minor": 2
}